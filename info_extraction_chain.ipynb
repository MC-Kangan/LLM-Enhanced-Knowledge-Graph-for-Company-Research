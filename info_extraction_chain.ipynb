{
 "cells": [
  {
   "cell_type": "code",
   "execution_count": 6,
   "metadata": {},
   "outputs": [],
   "source": [
    "import pandas as pd\n",
    "import numpy as np\n",
    "import matplotlib.pyplot as plt\n",
    "import seaborn as sns\n",
    "import os\n",
    "from neo4j import GraphDatabase\n",
    "from dotenv import load_dotenv\n",
    "from firecrawl_scraping import *\n",
    "from utility import *\n",
    "from llm_extraction import *\n",
    "from tqdm import tqdm\n",
    "import glob\n",
    "import tiktoken\n",
    "import instructor\n",
    "from pydantic import BaseModel\n",
    "import instructor\n",
    "from openai import OpenAI\n",
    "import ast\n"
   ]
  },
  {
   "cell_type": "code",
   "execution_count": 3,
   "metadata": {},
   "outputs": [],
   "source": [
    "from langchain_core.prompts import ChatPromptTemplate, MessagesPlaceholder\n",
    "from langchain_openai import ChatOpenAI\n",
    "from langchain.output_parsers.json import SimpleJsonOutputParser\n",
    "from langchain.schema import StrOutputParser\n",
    "from langchain_core.runnables.history import RunnableWithMessageHistory\n",
    "from langchain_community.chat_message_histories import ChatMessageHistory\n",
    "import json"
   ]
  },
  {
   "cell_type": "markdown",
   "metadata": {},
   "source": [
    "- gpt-4o: \"o200k_base\",\n",
    "- gpt-4: \"cl100k_base\",\n",
    "- gpt-3.5-turbo: \"cl100k_base\",\n",
    "- gpt-3.5: \"cl100k_base\",  # Common shorthand\n",
    "- gpt-35-turbo : \"cl100k_base\",  # Azure deployment name\n",
    "\n",
    "gpt-4o US$5.00 / 1M input tokens； US$15.00 / 1M output tokens\n",
    "\n",
    "gpt-4o context length: 128K tokens\n"
   ]
  },
  {
   "cell_type": "code",
   "execution_count": 4,
   "metadata": {},
   "outputs": [
    {
     "name": "stdout",
     "output_type": "stream",
     "text": [
      "<Encoding 'o200k_base'>\n"
     ]
    }
   ],
   "source": [
    "encoding = tiktoken.encoding_for_model(\"gpt-4o\")\n",
    "print(encoding)"
   ]
  },
  {
   "cell_type": "code",
   "execution_count": 5,
   "metadata": {},
   "outputs": [
    {
     "data": {
      "text/html": [
       "<div>\n",
       "<style scoped>\n",
       "    .dataframe tbody tr th:only-of-type {\n",
       "        vertical-align: middle;\n",
       "    }\n",
       "\n",
       "    .dataframe tbody tr th {\n",
       "        vertical-align: top;\n",
       "    }\n",
       "\n",
       "    .dataframe thead th {\n",
       "        text-align: right;\n",
       "    }\n",
       "</style>\n",
       "<table border=\"1\" class=\"dataframe\">\n",
       "  <thead>\n",
       "    <tr style=\"text-align: right;\">\n",
       "      <th></th>\n",
       "      <th>company</th>\n",
       "      <th>processed_name</th>\n",
       "      <th>url</th>\n",
       "      <th>related_urls_str</th>\n",
       "      <th>related_urls</th>\n",
       "      <th>num_of_related_urls</th>\n",
       "      <th>all_urls</th>\n",
       "      <th>num_of_all_urls</th>\n",
       "    </tr>\n",
       "  </thead>\n",
       "  <tbody>\n",
       "    <tr>\n",
       "      <th>5</th>\n",
       "      <td>Vertice</td>\n",
       "      <td>vertice</td>\n",
       "      <td>https://www.vertice.one</td>\n",
       "      <td>https://www.vertice.one/product/saas-purchasin...</td>\n",
       "      <td>['https://www.vertice.one/product/saas-purchas...</td>\n",
       "      <td>6</td>\n",
       "      <td>['https://www.vertice.one/explore/cloud-manage...</td>\n",
       "      <td>31</td>\n",
       "    </tr>\n",
       "    <tr>\n",
       "      <th>6</th>\n",
       "      <td>Massive</td>\n",
       "      <td>massive</td>\n",
       "      <td>https://www.joinmassive.com</td>\n",
       "      <td>https://www.joinmassive.com/casestudies,https:...</td>\n",
       "      <td>['https://www.joinmassive.com/casestudies', 'h...</td>\n",
       "      <td>3</td>\n",
       "      <td>['https://www.joinmassive.com/faq#users', 'htt...</td>\n",
       "      <td>25</td>\n",
       "    </tr>\n",
       "    <tr>\n",
       "      <th>196</th>\n",
       "      <td>Vesta</td>\n",
       "      <td>vesta</td>\n",
       "      <td>https://www.vesta.com</td>\n",
       "      <td>https://www.vesta.com/partners,https://www.ves...</td>\n",
       "      <td>['https://www.vesta.com/partners', 'https://ww...</td>\n",
       "      <td>3</td>\n",
       "      <td>['https://www.vesta.com/privacy', 'https://www...</td>\n",
       "      <td>9</td>\n",
       "    </tr>\n",
       "    <tr>\n",
       "      <th>226</th>\n",
       "      <td>Hemlane</td>\n",
       "      <td>hemlane</td>\n",
       "      <td>https://www.hemlane.com</td>\n",
       "      <td>https://www.hemlane.com/realtor-partners/,http...</td>\n",
       "      <td>['https://www.hemlane.com/realtor-partners/', ...</td>\n",
       "      <td>2</td>\n",
       "      <td>['https://www.hemlane.com/features/rental-adve...</td>\n",
       "      <td>31</td>\n",
       "    </tr>\n",
       "    <tr>\n",
       "      <th>347</th>\n",
       "      <td>Missionmark</td>\n",
       "      <td>missionmark</td>\n",
       "      <td>https://www.missionmark.com</td>\n",
       "      <td>https://www.missionmark.com/template/resources...</td>\n",
       "      <td>['https://www.missionmark.com/template/resourc...</td>\n",
       "      <td>3</td>\n",
       "      <td>['https://www.missionmark.com/features/time-tr...</td>\n",
       "      <td>15</td>\n",
       "    </tr>\n",
       "    <tr>\n",
       "      <th>363</th>\n",
       "      <td>Bennie</td>\n",
       "      <td>bennie</td>\n",
       "      <td>https://www.bennie.com</td>\n",
       "      <td>https://www.bennie.com/customers,https://www.b...</td>\n",
       "      <td>['https://www.bennie.com/customers', 'https://...</td>\n",
       "      <td>3</td>\n",
       "      <td>['https://www.bennie.com/privacy-policy', 'htt...</td>\n",
       "      <td>17</td>\n",
       "    </tr>\n",
       "    <tr>\n",
       "      <th>519</th>\n",
       "      <td>New Constructs</td>\n",
       "      <td>new_constructs</td>\n",
       "      <td>https://www.newconstructs.com</td>\n",
       "      <td>https://www.newconstructs.com/customer-testimo...</td>\n",
       "      <td>['https://www.newconstructs.com/customer-testi...</td>\n",
       "      <td>3</td>\n",
       "      <td>['https://www.newconstructs.com', 'https://www...</td>\n",
       "      <td>24</td>\n",
       "    </tr>\n",
       "    <tr>\n",
       "      <th>698</th>\n",
       "      <td>Aer Compliance</td>\n",
       "      <td>aer_compliance</td>\n",
       "      <td>https://www.aercompliance.com</td>\n",
       "      <td>https://www.aercompliance.com/solution/firm-tr...</td>\n",
       "      <td>['https://www.aercompliance.com/solution/firm-...</td>\n",
       "      <td>12</td>\n",
       "      <td>['https://www.aercompliance.com/solution/firm-...</td>\n",
       "      <td>20</td>\n",
       "    </tr>\n",
       "  </tbody>\n",
       "</table>\n",
       "</div>"
      ],
      "text/plain": [
       "            company  processed_name                            url  \\\n",
       "5           Vertice         vertice        https://www.vertice.one   \n",
       "6           Massive         massive    https://www.joinmassive.com   \n",
       "196           Vesta           vesta          https://www.vesta.com   \n",
       "226         Hemlane         hemlane        https://www.hemlane.com   \n",
       "347     Missionmark     missionmark    https://www.missionmark.com   \n",
       "363          Bennie          bennie         https://www.bennie.com   \n",
       "519  New Constructs  new_constructs  https://www.newconstructs.com   \n",
       "698  Aer Compliance  aer_compliance  https://www.aercompliance.com   \n",
       "\n",
       "                                      related_urls_str  \\\n",
       "5    https://www.vertice.one/product/saas-purchasin...   \n",
       "6    https://www.joinmassive.com/casestudies,https:...   \n",
       "196  https://www.vesta.com/partners,https://www.ves...   \n",
       "226  https://www.hemlane.com/realtor-partners/,http...   \n",
       "347  https://www.missionmark.com/template/resources...   \n",
       "363  https://www.bennie.com/customers,https://www.b...   \n",
       "519  https://www.newconstructs.com/customer-testimo...   \n",
       "698  https://www.aercompliance.com/solution/firm-tr...   \n",
       "\n",
       "                                          related_urls  num_of_related_urls  \\\n",
       "5    ['https://www.vertice.one/product/saas-purchas...                    6   \n",
       "6    ['https://www.joinmassive.com/casestudies', 'h...                    3   \n",
       "196  ['https://www.vesta.com/partners', 'https://ww...                    3   \n",
       "226  ['https://www.hemlane.com/realtor-partners/', ...                    2   \n",
       "347  ['https://www.missionmark.com/template/resourc...                    3   \n",
       "363  ['https://www.bennie.com/customers', 'https://...                    3   \n",
       "519  ['https://www.newconstructs.com/customer-testi...                    3   \n",
       "698  ['https://www.aercompliance.com/solution/firm-...                   12   \n",
       "\n",
       "                                              all_urls  num_of_all_urls  \n",
       "5    ['https://www.vertice.one/explore/cloud-manage...               31  \n",
       "6    ['https://www.joinmassive.com/faq#users', 'htt...               25  \n",
       "196  ['https://www.vesta.com/privacy', 'https://www...                9  \n",
       "226  ['https://www.hemlane.com/features/rental-adve...               31  \n",
       "347  ['https://www.missionmark.com/features/time-tr...               15  \n",
       "363  ['https://www.bennie.com/privacy-policy', 'htt...               17  \n",
       "519  ['https://www.newconstructs.com', 'https://www...               24  \n",
       "698  ['https://www.aercompliance.com/solution/firm-...               20  "
      ]
     },
     "execution_count": 5,
     "metadata": {},
     "output_type": "execute_result"
    }
   ],
   "source": [
    "df = pd.read_csv('companies_urls_info.csv')\n",
    "sample = df[df['url'].isin(['https://www.vertice.one', \n",
    "                   'https://www.newconstructs.com',\n",
    "                   'https://www.chargebee.com',\n",
    "                   'https://www.bennie.com',\n",
    "                   'https://www.aercompliance.com',\n",
    "                   'https://www.missionmark.com',\n",
    "                   'https://www.joinmassive.com',\n",
    "                   'https://www.hemlane.com',\n",
    "                   'https://www.vesta.com'])]\n",
    "\n",
    "sample"
   ]
  },
  {
   "cell_type": "code",
   "execution_count": 8,
   "metadata": {},
   "outputs": [
    {
     "name": "stdout",
     "output_type": "stream",
     "text": [
      "Scraping https://www.vertice.one/product/saas-purchasing.\n",
      "Scraping https://www.vertice.one/product/cloud-cost-optimization.\n",
      "Scraping https://www.vertice.one/partners.\n",
      "Scraping https://www.vertice.one/product/saas-cloud-platform.\n",
      "Scraping https://www.vertice.one/customer-stories.\n",
      "Scraping https://www.vertice.one.\n",
      "Rate limit exceeded. Retrying after 59.99999690055847 seconds.\n",
      "Scraping https://www.joinmassive.com/casestudies.\n",
      "Scraping https://www.joinmassive.com/partners.\n",
      "Scraping https://www.joinmassive.com.\n",
      "Scraping https://www.vesta.com/partners.\n",
      "Scraping https://www.vesta.com/product.\n",
      "Scraping https://www.vesta.com.\n",
      "Rate limit exceeded. Retrying after 59.99999928474426 seconds.\n",
      "Scraping https://www.hemlane.com/realtor-partners/.\n",
      "Scraping https://www.hemlane.com.\n",
      "Scraping https://www.missionmark.com/template/resources/product.\n",
      "Scraping https://www.missionmark.com/template/services.\n",
      "Scraping https://www.missionmark.com.\n",
      "Skipping https://www.bennie.com/customers as it already exists and overwrite is set to False.\n",
      "Skipping https://www.bennie.com/partners as it already exists and overwrite is set to False.\n",
      "Skipping https://www.bennie.com as it already exists and overwrite is set to False.\n",
      "Skipping https://www.newconstructs.com/customer-testimonials/ as it already exists and overwrite is set to False.\n",
      "Skipping https://www.newconstructs.com/partnerships/ as it already exists and overwrite is set to False.\n",
      "Skipping https://www.newconstructs.com as it already exists and overwrite is set to False.\n",
      "Skipping https://www.aercompliance.com/solution/firm-trading as it already exists and overwrite is set to False.\n",
      "Skipping https://www.aercompliance.com/solutions as it already exists and overwrite is set to False.\n",
      "Skipping https://www.aercompliance.com/solution/attestations-certifications as it already exists and overwrite is set to False.\n",
      "Skipping https://www.aercompliance.com/solution/post-trade-monitoring as it already exists and overwrite is set to False.\n",
      "Skipping https://www.aercompliance.com/solution/artificial-intelligence as it already exists and overwrite is set to False.\n",
      "Skipping https://www.aercompliance.com/industry/financial-services as it already exists and overwrite is set to False.\n",
      "Skipping https://www.aercompliance.com/solution/pre-trade-clearance as it already exists and overwrite is set to False.\n",
      "Skipping https://www.aercompliance.com/solution/conflicts-of-interest as it already exists and overwrite is set to False.\n",
      "Skipping https://www.aercompliance.com/solution/best-in-class-coverage as it already exists and overwrite is set to False.\n",
      "Skipping https://www.aercompliance.com/solution/crypto as it already exists and overwrite is set to False.\n",
      "Skipping https://www.aercompliance.com/solution/cutting-edge-analytics-dashboards as it already exists and overwrite is set to False.\n",
      "Skipping https://www.aercompliance.com as it already exists and overwrite is set to False.\n"
     ]
    }
   ],
   "source": [
    "for index, row in sample.iterrows():\n",
    "    base_url = row['url']\n",
    "    url_list = ast.literal_eval(row['related_urls'])\n",
    "    result = crawl_data(base_url, url_list, f'scraping_output_v2_raw/{row[\"processed_name\"]}.json', overwrite=False)"
   ]
  },
  {
   "cell_type": "code",
   "execution_count": 13,
   "metadata": {},
   "outputs": [
    {
     "name": "stdout",
     "output_type": "stream",
     "text": [
      "Talk to a human: [(866) 387-1629]\n",
      "[Sign in]\n",
      "REALTORS®' Partner in Property Management\n",
      "**The best agents** help their clients get the most out of their rental properties.\n",
      "![Voted Capterra's Top 20 Property Management Solutions]![Software Advice most recommended Property Management Solution badge]![Software Advice Real Estate Property Management Front Runner Badge]![Software Advice Badge - Best Customer Support for Property Management]![GetApp Badge - Best Functionality and Features]\n",
      "Back\n",
      "How do you support your clients with their rental properties?\n",
      "I want to refer landlords\n",
      "(and get paid for it)\n",
      "I offer leasing\n",
      "(and want free leads and tools)\n",
      "I offer property management\n",
      "(and want to eliminate trust accounts)\n",
      "Check out other REALTORS® partnering with us\n",
      "![]![Headshot of Timothy Hampson]\n",
      "Timothy Hampson\n",
      "License #9008072 (TX)\n",
      "HP2 RESIDENTIAL\n",
      "Experience\n",
      "Leasing\n",
      "12 years\n",
      "Management\n",
      "Real estate\n",
      "![]![Headshot of Sandy Wickware]\n",
      "Sandy Wickware\n",
      "License #253554 (TX)\n",
      "Fathom Realty, LLC\n",
      "14 years\n",
      "2 years\n",
      "![]![Headshot of Kadee McGwier]\n",
      "Kadee McGwier\n",
      "License #SP43079 (ID), #135248 (WA), #RRE-RBS-LIC-98863 (MT)\n",
      "B Wright At Home LLC\n",
      "5 years\n",
      "7 years\n",
      "...and many more.\n",
      "Not ready to try any of these today but want us to market your services for free?\n",
      "[Create your free agent profile]\n"
     ]
    }
   ],
   "source": [
    "data = read_json_file('scraping_output_v2_raw/hemlane.json')\n",
    "\n",
    "print(clean_scraped_content(data['/realtor-partners/']))"
   ]
  },
  {
   "cell_type": "code",
   "execution_count": 15,
   "metadata": {},
   "outputs": [
    {
     "name": "stdout",
     "output_type": "stream",
     "text": [
      "/realtor-partners/\n",
      "Estimated GPT4-o cost: $0.08219499999999999\n",
      "Estimated GPT4-o cost after cleaning: $0.00167\n",
      "------------------------\n",
      "main_page\n",
      "Estimated GPT4-o cost: $0.01288\n",
      "Estimated GPT4-o cost after cleaning: $0.005535\n",
      "------------------------\n"
     ]
    }
   ],
   "source": [
    "for url, content in data.items():\n",
    "    print(url)\n",
    "    print(f'Estimated GPT4-o cost: ${calculate_cost(data[url])}')\n",
    "    print(f'Estimated GPT4-o cost after cleaning: ${calculate_cost(clean_scraped_content(data[url]))}')\n",
    "    print('------------------------')\n",
    "    "
   ]
  },
  {
   "cell_type": "markdown",
   "metadata": {},
   "source": [
    "### Exploration of first shorten the page by extracting relevant information\n",
    "Issue: The output of the content might be shorten too much"
   ]
  },
  {
   "cell_type": "code",
   "execution_count": 39,
   "metadata": {},
   "outputs": [],
   "source": [
    "from langchain_core.prompts import ChatPromptTemplate, MessagesPlaceholder\n",
    "from langchain_openai import ChatOpenAI\n",
    "from langchain.output_parsers.json import SimpleJsonOutputParser\n",
    "from langchain_core.runnables.history import RunnableWithMessageHistory\n",
    "from langchain_community.chat_message_histories import ChatMessageHistory\n",
    "import os\n",
    "import json\n",
    "\n",
    "\n",
    "def llm_extraction_str(text, model_name=\"gpt-4o\"):\n",
    "    system_message = \"\"\"\n",
    "    You are an intelligent text extraction and conversion assistant. Your task is to extract information \n",
    "    from the given text and convert it into a text (string) format. \n",
    "    The output response should contain only the data extracted from the text, with no additional commentary, explanations, or extraneous information.\n",
    "    If the required information could not be found from the given source, return nothing. Do not hallucinate.\n",
    "    \"\"\"\n",
    "\n",
    "    # Define the extraction prompt\n",
    "    extraction_prompt = \"\"\"\n",
    "    You are provided with a text obtained from a company's webpage. Your task is to extract any sections or paragraphs that are relevant to the specified information of interest.\n",
    "\n",
    "    ## Information of Interest:\n",
    "\n",
    "    1. **About Product or Service**:\n",
    "    - Any details about the products or services the company offers, including their features.\n",
    "\n",
    "    2. **About Partner or Client**:\n",
    "    - Any information about the company's partners or clients.\n",
    "    - Any use cases (case studies) describing how a client is using the company's product or service.\n",
    "    \n",
    "    ## Note:\n",
    "    Sometimes, the company does not explicit describe their clients and the client use case, instead, they will only display clients' logos. \n",
    "    You then need to extract client's name from their logos. \n",
    "    \n",
    "    ## Instructions:\n",
    "    - Do not summarize the content. Extract the raw lines or sections as they are.\n",
    "    - If you are unsure about the relevance of the information, include it to ensure comprehensive coverage.\n",
    "    - Output the extracted information in standard text format.\n",
    "\n",
    "    ## Examples:\n",
    "\n",
    "    ### Example 1: Product or Service\n",
    "    If the input text contains:\n",
    "    \"Our company offers innovative cloud solutions that help businesses streamline their operations. Our key features include scalability, security, and ease of use.\n",
    "    We partner with leading firms such as TechCorp and SoftInc to deliver top-notch services.\"\n",
    "\n",
    "    The output should be:\n",
    "    \"Our company offers innovative cloud solutions that help businesses streamline their operations. Our key features include scalability, security, and ease of use.\n",
    "    We partner with leading firms such as TechCorp and SoftInc to deliver top-notch services.\"\n",
    "\n",
    "    ### Example 2: Client Logos\n",
    "    If the input text contains:\n",
    "    \"Our platform and service is trusted by these innovative companies:\n",
    "    ![Nationwide Logo]\n",
    "    ![Freedom 365 Logo]\n",
    "    ![Bestow Logo]\n",
    "    ...\"\n",
    "    \n",
    "    The output should be:\n",
    "    \"Our platform and service is trusted by these innovative companies: \n",
    "    Clients are: Nationwide, Freedom 365, Bestow...\"\n",
    "   \n",
    "    \"\"\"\n",
    "    prompt = ChatPromptTemplate.from_messages(\n",
    "        [\n",
    "            (\"system\", system_message),\n",
    "            (\"system\", extraction_prompt),\n",
    "            (\"human\", \"Use the given text to extract information: {input}\"),\n",
    "            (\"human\", \"\"\"\n",
    "                Here are the rules that you need to adhere:\n",
    "                ## Rules:\n",
    "                - Make sure to answer in the standard text format.\n",
    "                - If no information is provided, return nothing.\n",
    "                - DO NOT HALLUCINATE.\n",
    "             \"\"\"),\n",
    "        ]\n",
    "    )\n",
    "    \n",
    "    llm = ChatOpenAI(openai_api_key=os.getenv('OPENAI_KEY'),\n",
    "                    temperature=0, \n",
    "                    model_name=model_name)\n",
    "\n",
    "    llm_chain = prompt | llm | StrOutputParser()\n",
    "\n",
    "    response = llm_chain.invoke({'input': text})\n",
    "    \n",
    "    return response\n",
    "\n",
    "\n",
    "def llm_extraction_execution(process_company_name:str, overwrite:bool = False):\n",
    "\n",
    "    scrape_file_path = f'scraping_output_v2_raw/{process_company_name}.json'\n",
    "    extraction_file_path = f'extraction_summary/{process_company_name}_summary_str.json'\n",
    "\n",
    "    scrape_data = read_json_file(scrape_file_path)\n",
    "\n",
    "    # Load existing data if the file exists\n",
    "    if os.path.exists(extraction_file_path):\n",
    "        with open(extraction_file_path, 'r') as file:\n",
    "            extracted_data = json.load(file)\n",
    "    else:\n",
    "        extracted_data = {}\n",
    "\n",
    "    for endpoint, content in tqdm(scrape_data.items(), total=len(scrape_data), desc=\"Extracting data\", position=0, leave=True):\n",
    "        if endpoint in extracted_data and not overwrite:\n",
    "            print(f\"Company: {process_company_name}; Skipping {endpoint} as it already exists and overwrite is set to False.\")\n",
    "            continue  # Skip this URL and move to the next one\n",
    "        else:\n",
    "            clean_content = clean_scraped_content(content)\n",
    "            extracted_data[endpoint] = llm_extraction_str(clean_content)\n",
    "            print(f'Company: {process_company_name}; Content in {endpoint} is extracted.')\n",
    "            \n",
    "    write_json_file(f'extraction_summary/{process_company_name}_summary_str.json', extracted_data)\n",
    "    \n",
    "    return extracted_data\n",
    "\n",
    "# # Example usage\n",
    "# extracted_data = {}\n",
    "# for key, value in data.items():\n",
    "#     clean_content = clean_scraped_content(value)\n",
    "#     extracted_data[key] = llm_extraction_str(clean_content)"
   ]
  },
  {
   "cell_type": "code",
   "execution_count": 38,
   "metadata": {},
   "outputs": [
    {
     "data": {
      "text/plain": [
       "['vertice',\n",
       " 'massive',\n",
       " 'vesta',\n",
       " 'hemlane',\n",
       " 'missionmark',\n",
       " 'bennie',\n",
       " 'new_constructs',\n",
       " 'aer_compliance']"
      ]
     },
     "execution_count": 38,
     "metadata": {},
     "output_type": "execute_result"
    }
   ],
   "source": [
    "sample['processed_name'].to_list()"
   ]
  },
  {
   "cell_type": "code",
   "execution_count": 40,
   "metadata": {},
   "outputs": [
    {
     "name": "stderr",
     "output_type": "stream",
     "text": [
      "Extracting data:  20%|██        | 1/5 [00:15<01:01, 15.41s/it]"
     ]
    },
    {
     "name": "stdout",
     "output_type": "stream",
     "text": [
      "Content in /product/saas-purchasing is extracted.\n"
     ]
    },
    {
     "name": "stderr",
     "output_type": "stream",
     "text": [
      "Extracting data:  40%|████      | 2/5 [00:35<00:54, 18.20s/it]"
     ]
    },
    {
     "name": "stdout",
     "output_type": "stream",
     "text": [
      "Content in /product/cloud-cost-optimization is extracted.\n"
     ]
    },
    {
     "name": "stderr",
     "output_type": "stream",
     "text": [
      "Extracting data:  60%|██████    | 3/5 [00:39<00:22, 11.48s/it]"
     ]
    },
    {
     "name": "stdout",
     "output_type": "stream",
     "text": [
      "Content in /partners is extracted.\n"
     ]
    },
    {
     "name": "stderr",
     "output_type": "stream",
     "text": [
      "Extracting data:  80%|████████  | 4/5 [00:51<00:11, 11.78s/it]"
     ]
    },
    {
     "name": "stdout",
     "output_type": "stream",
     "text": [
      "Content in /product/saas-cloud-platform is extracted.\n"
     ]
    },
    {
     "name": "stderr",
     "output_type": "stream",
     "text": [
      "Extracting data: 100%|██████████| 5/5 [00:57<00:00, 11.55s/it]\n",
      " 12%|█▎        | 1/8 [00:57<06:44, 57.77s/it]"
     ]
    },
    {
     "name": "stdout",
     "output_type": "stream",
     "text": [
      "Content in /customer-stories is extracted.\n"
     ]
    },
    {
     "name": "stderr",
     "output_type": "stream",
     "text": [
      "Extracting data:  33%|███▎      | 1/3 [00:02<00:04,  2.28s/it]"
     ]
    },
    {
     "name": "stdout",
     "output_type": "stream",
     "text": [
      "Content in /casestudies is extracted.\n"
     ]
    },
    {
     "name": "stderr",
     "output_type": "stream",
     "text": [
      "Extracting data:  67%|██████▋   | 2/3 [00:04<00:02,  2.01s/it]"
     ]
    },
    {
     "name": "stdout",
     "output_type": "stream",
     "text": [
      "Content in /partners is extracted.\n"
     ]
    },
    {
     "name": "stderr",
     "output_type": "stream",
     "text": [
      "Extracting data: 100%|██████████| 3/3 [00:14<00:00,  4.96s/it]\n",
      " 25%|██▌       | 2/8 [01:12<03:15, 32.55s/it]"
     ]
    },
    {
     "name": "stdout",
     "output_type": "stream",
     "text": [
      "Content in main_page is extracted.\n"
     ]
    },
    {
     "name": "stderr",
     "output_type": "stream",
     "text": [
      "Extracting data:  50%|█████     | 1/2 [00:11<00:11, 11.81s/it]"
     ]
    },
    {
     "name": "stdout",
     "output_type": "stream",
     "text": [
      "Content in /partners is extracted.\n"
     ]
    },
    {
     "name": "stderr",
     "output_type": "stream",
     "text": [
      "Extracting data: 100%|██████████| 2/2 [00:22<00:00, 11.43s/it]\n",
      " 38%|███▊      | 3/8 [01:35<02:20, 28.12s/it]"
     ]
    },
    {
     "name": "stdout",
     "output_type": "stream",
     "text": [
      "Content in /product is extracted.\n"
     ]
    },
    {
     "name": "stderr",
     "output_type": "stream",
     "text": [
      "Extracting data: 100%|██████████| 2/2 [00:00<00:00, 25040.62it/s]\n"
     ]
    },
    {
     "name": "stdout",
     "output_type": "stream",
     "text": [
      "Skipping /realtor-partners/ as it already exists and overwrite is set to False.\n",
      "Skipping main_page as it already exists and overwrite is set to False.\n"
     ]
    },
    {
     "name": "stderr",
     "output_type": "stream",
     "text": [
      "Extracting data:  33%|███▎      | 1/3 [00:05<00:11,  5.84s/it]"
     ]
    },
    {
     "name": "stdout",
     "output_type": "stream",
     "text": [
      "Content in /template/resources/product is extracted.\n"
     ]
    },
    {
     "name": "stderr",
     "output_type": "stream",
     "text": [
      "Extracting data:  67%|██████▋   | 2/3 [00:16<00:08,  8.61s/it]"
     ]
    },
    {
     "name": "stdout",
     "output_type": "stream",
     "text": [
      "Content in /template/services is extracted.\n"
     ]
    },
    {
     "name": "stderr",
     "output_type": "stream",
     "text": [
      "Extracting data: 100%|██████████| 3/3 [00:22<00:00,  7.55s/it]\n",
      " 62%|██████▎   | 5/8 [01:58<00:55, 18.61s/it]"
     ]
    },
    {
     "name": "stdout",
     "output_type": "stream",
     "text": [
      "Content in main_page is extracted.\n"
     ]
    },
    {
     "name": "stderr",
     "output_type": "stream",
     "text": [
      "Extracting data: 100%|██████████| 3/3 [00:00<00:00, 63872.65it/s]\n"
     ]
    },
    {
     "name": "stdout",
     "output_type": "stream",
     "text": [
      "Skipping /partners as it already exists and overwrite is set to False.\n",
      "Skipping /customers as it already exists and overwrite is set to False.\n",
      "Skipping main_page as it already exists and overwrite is set to False.\n"
     ]
    },
    {
     "name": "stderr",
     "output_type": "stream",
     "text": [
      "Extracting data:  33%|███▎      | 1/3 [00:06<00:13,  6.95s/it]"
     ]
    },
    {
     "name": "stdout",
     "output_type": "stream",
     "text": [
      "Content in main_page is extracted.\n"
     ]
    },
    {
     "name": "stderr",
     "output_type": "stream",
     "text": [
      "Extracting data:  67%|██████▋   | 2/3 [00:14<00:07,  7.33s/it]"
     ]
    },
    {
     "name": "stdout",
     "output_type": "stream",
     "text": [
      "Content in /partnerships/ is extracted.\n"
     ]
    },
    {
     "name": "stderr",
     "output_type": "stream",
     "text": [
      "Extracting data: 100%|██████████| 3/3 [00:38<00:00, 12.78s/it]\n",
      " 88%|████████▊ | 7/8 [02:36<00:18, 18.86s/it]"
     ]
    },
    {
     "name": "stdout",
     "output_type": "stream",
     "text": [
      "Content in /customer-testimonials/ is extracted.\n"
     ]
    },
    {
     "name": "stderr",
     "output_type": "stream",
     "text": [
      "Extracting data:   0%|          | 0/12 [00:00<?, ?it/s]"
     ]
    },
    {
     "name": "stdout",
     "output_type": "stream",
     "text": [
      "Skipping /solution/firm-trading as it already exists and overwrite is set to False.\n",
      "Skipping /solution/artificial-intelligence as it already exists and overwrite is set to False.\n",
      "Skipping /solution/best-in-class-coverage as it already exists and overwrite is set to False.\n",
      "Skipping /solution/pre-trade-clearance as it already exists and overwrite is set to False.\n",
      "Skipping /solutions as it already exists and overwrite is set to False.\n",
      "Skipping /solution/conflicts-of-interest as it already exists and overwrite is set to False.\n",
      "Skipping main_page as it already exists and overwrite is set to False.\n",
      "Skipping /solution/attestations-certifications as it already exists and overwrite is set to False.\n",
      "Skipping /solution/post-trade-monitoring as it already exists and overwrite is set to False.\n",
      "Skipping /solution/crypto as it already exists and overwrite is set to False.\n"
     ]
    },
    {
     "name": "stderr",
     "output_type": "stream",
     "text": [
      "Extracting data:  92%|█████████▏| 11/12 [00:07<00:00,  1.42it/s]"
     ]
    },
    {
     "name": "stdout",
     "output_type": "stream",
     "text": [
      "Content in /industry/financial-services is extracted.\n"
     ]
    },
    {
     "name": "stderr",
     "output_type": "stream",
     "text": [
      "Extracting data: 100%|██████████| 12/12 [00:12<00:00,  1.04s/it]\n",
      "100%|██████████| 8/8 [02:48<00:00, 21.12s/it]"
     ]
    },
    {
     "name": "stdout",
     "output_type": "stream",
     "text": [
      "Content in /solution/cutting-edge-analytics-dashboards is extracted.\n"
     ]
    },
    {
     "name": "stderr",
     "output_type": "stream",
     "text": [
      "\n"
     ]
    }
   ],
   "source": [
    "for company in tqdm(sample['processed_name'].to_list()):\n",
    "    llm_extraction_execution(company)"
   ]
  },
  {
   "cell_type": "code",
   "execution_count": null,
   "metadata": {},
   "outputs": [],
   "source": []
  },
  {
   "cell_type": "markdown",
   "metadata": {},
   "source": [
    "## Instructor\n",
    "\n",
    "https://github.com/jxnl/instructor"
   ]
  },
  {
   "cell_type": "code",
   "execution_count": 85,
   "metadata": {},
   "outputs": [
    {
     "name": "stdout",
     "output_type": "stream",
     "text": [
      "Cost: $0.00823\n",
      "## Main Page:\n",
      " Compliance · Simplified · automated\n",
      "Join us in the next evolution of compliance\n",
      "Keeping employees compliant doesn’t need to be messy or hard. Let Aer do the manual work by automating your daily Code of Ethics compliance tasks so you can tackle the real issues in your business.\n",
      "\n",
      "Why Aer?\n",
      "Buried in employee statements?\n",
      "Remove the manual review process with seamless connections to 1,000+ exchanges, wallets and brokers.\n",
      "Run a lean compliance team.\n",
      "Automatically surface potential violations with real-time notifications.\n",
      "Constantly working on manual employee trade compliance tasks?\n",
      "Automate low-value repetitive tasks.\n",
      "Use automation to remove human error and make it easy for your employees\n",
      "The easier it is to stick to policy, the more likely employees will do it. Code of Ethics software doesn’t need to be complex and cumbersome. We build great software that removes manual tasks and turbo-charges your team’s efficacy. Go beyond out-dated employee trade compliance technology and meet us **in** the future of finance.\n",
      "\n",
      "Trusted by\n",
      "----------------\n",
      "## /solution/firm-trading:\n",
      "Solutions\n",
      "Firm trading\n",
      "Identify employee front-running and firm market abuse, from wash trading to layering, in real time.\n",
      "Prevent market abuse by integrating firm trading across prime brokers, custodians, and wallets.\n",
      "Easily connect firm trading accounts in-platform. Aer supports hundreds of prime brokers and custodians, and we’re always happy to build additional coverage for your specific needs.\n",
      "Catch firm errors ahead of the regulator by receiving alerts on employee front-running, firm trades with potentially sensitive MNPI, wash trading, layering, spoofing, and similar patterns of market abuse. All in real time.\n",
      "----------------\n",
      "## /solution/artificial-intelligence:\n",
      "Marketing review\n",
      "We know that marketing review takes your internal team's time, costs money on external lawyers and consultants, and still doesn't happen at the velocity of your business. Let Aer cut time and cost, while letting you win business faster.\n",
      "[Request a demo]\n",
      "If you're bogged down with marketing review, our AI technology can act as an extra member of your compliance team. Here are some ways automation can help.\n",
      "Our AI technology automatically reviews your team's marketing content for unsubstantiated statements of material fact, gross vs. net, hypothetical performance, and more leading to faster approval.\n",
      "Time is money, and you're saving it by unlocking more time for your compliance team and by spending less on external compliance or legal review.\n",
      "An intuitive books and records workflow means you now have a single source of truth for your marketing review. You're ready for your next exam.\n",
      "----------------\n",
      "## /solution/best-in-class-coverage:\n",
      "Solutions\n",
      "Best-in-class coverage\n",
      "Eliminate headaches for your compliance team and employees. With coverage across the US, UK, EU, Singapore, India, Hong Kong, Canada, Australia, and beyond, let Aer close your compliance gaps and reduce manual reporting.\n",
      "Thousands of supported accounts mean less manual work for employees and compliance.\n",
      "Better coverage means less manual tasks and more automation. More automation means less time in our system and more time focusing on what matters most to your business.\n",
      "If you’re ready to spend less time connecting accounts and reauthorizing broken data feeds, try Aer today and connect to thousands of brokers, exchanges, and wallets seamlessly.\n",
      "----------------\n",
      "## /solution/pre-trade-clearance:\n",
      "Solutions\n",
      "Pre-trade clearance\n",
      "Automatically approve and reject employee trades, or surface them for manual review based on your customized company policies.\n",
      "Make pre-trade workflows quick, easy, and automated.\n",
      "Run your customized restricted list based on volume, value, asset type, transaction type, employee groups, dates and more!\n",
      "Automatically surface potential violations and requests.\n",
      "Fully digitized audit and reporting.\n",
      "----------------\n",
      "## /solutions:\n",
      "Solutions\n",
      "Streamline Code of Ethics\n",
      "Pre-trade clearance\n",
      "Automatically approve and reject employee trades, or surface them for manual review based on your customized company policies.\n",
      "Find out more\n",
      "![]](/solution/pre-trade-clearance)\n",
      "Post-trade monitoring\n",
      "Seamless integrations where your employees trade. Coverage spanning thousands of exchanges, wallets, and brokerages.\n",
      "![]](/solution/post-trade-monitoring)\n",
      "Best-in-class coverage\n",
      "Eliminate headaches for your compliance team and employees. With coverage across the US, UK, EU, Singapore, India, Hong Kong, Canada, Australia, and beyond, let Aer close your compliance gaps and reduce manual reporting.\n",
      "![]](/solution/best-in-class-coverage)\n",
      "Crypto\n",
      "No one does crypto like Aer. With full coverage across exchanges and blockchains wherever your employees are trading, Aer enables a frictionless process for the future of finance.\n",
      "![]](/solution/crypto)\n",
      "Conflicts of interest\n",
      "Keep employees compliant with reporting workflows that are simple and straightforward, creating a logical, streamlined audit trail.\n",
      "![]](/solution/conflicts-of-interest)\n",
      "Attestations & certifications\n",
      "No more chasing down and hounding employees. Configure monthly, quarterly and yearly attestations that automatically populate the data you need to see.\n",
      "![]](/solution/attestations-certifications)\n",
      "Firm trading\n",
      "Identify employee front-running and firm market abuse, from wash trading to layering, in real time.\n",
      "![]](/solution/firm-trading)\n",
      "Cutting-edge analytics & dashboards\n",
      "Known risks are easy to find. With the Aer expertise, we delve deeper to uncover potential risks you might have missed.\n",
      "![]](/solution/cutting-edge-analytics-dashboards)\n",
      "Marketing review\n",
      "We know that marketing review takes your internal team's time, costs money on external lawyers and consultants, and still doesn't happen at the velocity of your business. Let Aer cut time and cost, while letting you win business faster.\n",
      "![]](/solution/artificial-intelligence)\n",
      "----------------\n",
      "## /solution/conflicts-of-interest:\n",
      "Keep employees compliant with reporting workflows that are simple and straightforward, creating a logical, streamlined audit trail.\n",
      "Automatically find and track potential conflicts with our sophisticated policy and AI-powered tools.\n",
      "Easily track and document your employees' activity for internal controls, or export your data with one click for future regulatory audit.\n",
      "Monitoring conflicts and Material Non-Public Information (MNPI) can be challenging. From proprietary firm information to political donations and private securities transactions, Aer tracks potential compliance violations, protecting against insider trading, front-running, and other risk-heavy employee activity.\n",
      "Track and document employee activity for internal or external audit.\n",
      "----------------\n",
      "## /solution/attestations-certifications:\n",
      "Solutions\n",
      "Attestations & certifications\n",
      "No more chasing down and hounding employees. Configure monthly, quarterly and yearly attestations that automatically populate the data you need to see.\n",
      "Filling out attestations is quick and easy for employees with our intuitive software.\n",
      "Our system automatically reminds employees via email about their outstanding tasks.\n",
      "Review documents in system, making notes and capturing the full audit trail. You can even bulk review rather than going one by one.\n",
      "With our easy-to-use text editor, you can quickly create your own attestations — or, simply customize an existing form from our library of off-the-shelf templates.\n",
      "----------------\n",
      "## /solution/post-trade-monitoring:\n",
      "Solutions\n",
      "Post-trade monitoring\n",
      "Seamless integrations where your employees trade. Coverage spanning thousands of exchanges, wallets, and brokerages.\n",
      "Connecting accounts has never been easier or faster.\n",
      "Easy, self-service account connections remove the back and forth with exchanges, wallets, and brokers, making onboarding and connecting accounts fast and simple.\n",
      "Immediately surface potential violations and requests in real time.\n",
      "Automatically pull in transactions and holdings to remove manual tasks for employees.\n",
      "----------------\n",
      "## /solution/crypto:\n",
      "Crypto\n",
      "No one does crypto like Aer. With full coverage across exchanges and blockchains wherever your employees are trading, Aer enables a frictionless process for the future of finance.\n",
      "Compliance for crypto can be challenging. We'll navigate the nuances for you.\n",
      "From funds and exchanges to marketmakers, Aer automates employee trade compliance through customizable pre-trade clearance, catch-all post-trade monitoring, and automated alerts.\n",
      "Eliminate manual compliance reviews of screenshots. Automatically surface potential violations with post-trade monitoring across 130+ exchanges and 30+ blockchains.\n",
      "Find undeclared accounts using public blockchain data to uncover potential compliance violations.\n",
      "----------------\n",
      "\n"
     ]
    }
   ],
   "source": [
    "company_name = 'aer_compliance'\n",
    "\n",
    "data = read_json_file(f'extraction_summary/{company_name}_summary_str.json')\n",
    "\n",
    "combined_summary = f\"## Main Page:\\n {data['main_page']}\\n----------------\\n\"\n",
    "\n",
    "for endpoint, text in data.items():\n",
    "    if endpoint != \"main_page\":\n",
    "        combined_summary += f\"## {endpoint}:\\n{text}\\n----------------\\n\"\n",
    "        \n",
    "print(f'Cost: ${calculate_cost(combined_summary)}')\n",
    "print(combined_summary)"
   ]
  },
  {
   "cell_type": "code",
   "execution_count": 81,
   "metadata": {},
   "outputs": [],
   "source": [
    "from pydantic import BaseModel, Field\n",
    "from typing import List, Optional\n",
    "from langchain_core.prompts import ChatPromptTemplate\n",
    "\n",
    "class ProductDescription(BaseModel):\n",
    "    name: str = Field(..., alias='summarised name of product')\n",
    "    description: str = Field(..., alias='concise features description of the product or service')\n",
    "    \n",
    "class SummaryProductDescription(BaseModel):\n",
    "    name: str = Field(..., alias='summarised name of the main product offerings of the company')\n",
    "    description: str = Field(..., alias='summary of product offering of the company')\n",
    "    \n",
    "class ClientDescription(BaseModel):\n",
    "    name: str = Field(..., alias='name of the client or partner')\n",
    "    product_used: Optional[str] = Field(None, alias='summary of the product or service used by the client or partner')\n",
    "    description: Optional[str] = Field(None, alias='description of the usecase')\n",
    "\n",
    "class ExtractedInformation(BaseModel):\n",
    "    product_descriptions: Optional[List[ProductDescription]] = None\n",
    "    # product_offering_summary: str = Field(..., alias='summary of product offering of the company')\n",
    "    summary_product_description: SummaryProductDescription\n",
    "    client_descriptions: Optional[List[ClientDescription]] = None\n",
    "    \n",
    "\n"
   ]
  },
  {
   "cell_type": "code",
   "execution_count": 82,
   "metadata": {},
   "outputs": [],
   "source": [
    "def llm_information_extraction(text: str, custom_extraction_prompt: str, model_name: str = 'gpt-4o') -> ExtractedInformation:\n",
    "    system_message = \"\"\"\n",
    "    You are an intelligent text extraction and conversion assistant. Your task is to extract structured information \n",
    "    from the given text and convert it into a structured format. \n",
    "    The output response should contain only the data extracted from the text, with no additional commentary, explanations, or extraneous information.\n",
    "    If the required information could not be found from the given source, return nothing for that field. Do not hallucinate.\n",
    "    \"\"\"\n",
    "    \n",
    "    extraction_prompt = f\"\"\"\n",
    "    {system_message}\n",
    "    {custom_extraction_prompt}\n",
    "    \"\"\"\n",
    "    \n",
    "    # Other models to consider: \"gpt-3.5-turbo-0125\"\n",
    "    # Patch the OpenAI client with Instructor\n",
    "    client = instructor.from_openai(OpenAI(api_key=os.getenv('OPENAI_KEY')))\n",
    "    \n",
    "    response = client.chat.completions.create(\n",
    "        model=model_name, \n",
    "        response_model=ExtractedInformation,\n",
    "        messages=[\n",
    "            {\"role\": \"system\", \"content\": extraction_prompt},\n",
    "            {\"role\": \"user\", \"content\": f\"Use the given text to extract information: {text}\"},\n",
    "            {\"role\": \"user\", \"content\": \"\"\"\n",
    "                Here are the rules that you need to adhere:\n",
    "                ## Rules:\n",
    "                - The aim is to achieve simplicity and clarity in the extracted text.\n",
    "                - Make sure to answer in the structured format.\n",
    "                - If no information is provided for any of the fields, return nothing of that field.\n",
    "                - DO NOT HALLUCINATE.\n",
    "             \"\"\"},\n",
    "        ]\n",
    "    )\n",
    "    return response\n"
   ]
  },
  {
   "cell_type": "code",
   "execution_count": 83,
   "metadata": {},
   "outputs": [],
   "source": [
    "product_extraction_prompt = \"\"\"\n",
    "    Extract the following information from the text extracted from a webpage of a company:\n",
    "\n",
    "    1. Product Description:\n",
    "    - What service or product does the company provide?\n",
    "    - What features does the product or service have?\n",
    "    Note: If the company has more than one product or service, automatically detect and list each product with its relevant details.\n",
    "    \n",
    "    2. Summary of Product Offering:\n",
    "    - Summary of the description of the service that the company provide, taking into consideration of all the product offerings.\n",
    "    Note: Do not include any company-specific information in the summary, such as company name and location.\n",
    "    \n",
    "    3. Client Description:\n",
    "    - Name of the client or partner. Note: Only focus on corporate partners or clients, instead of individuals. \n",
    "    - Summary of the product or service used by the client or partner.\n",
    "    - Description of the use case.\n",
    "    Note: If the product used and description fields are not mentioned, they should be None.\n",
    "\n",
    "    Output in a structured format.\n",
    "\"\"\"\n"
   ]
  },
  {
   "cell_type": "code",
   "execution_count": 84,
   "metadata": {},
   "outputs": [
    {
     "name": "stdout",
     "output_type": "stream",
     "text": [
      "product_descriptions=[ProductDescription(name='Global Benefits Platform', description='Consulting, insurance, coaching, and training for employers, employees, and their dependents. Better benefits, consulting, health plan, insurance, and coaching solutions.'), ProductDescription(name='Bennie App', description='Allows employees to view ID cards, search for in-network doctors, explore costs, and chat with a healthcare concierge for help with claims, coverage, enrollment, and more.'), ProductDescription(name='Self-Funded Health Plan', description='A level-funded, cost-effective option providing improved cash flow, lower monthly healthcare payments, plan design flexibility, and limiting employee out-of-pocket costs.'), ProductDescription(name='Property & Casualty Solutions', description='Consulting on workers’ compensation, general liability, property, auto coverage, with better rates, bigger limits, and better policy language.'), ProductDescription(name='Sayge Coaching Platform', description='Matches employees with dedicated coaches for customized one-on-one virtual sessions supporting personal and professional journeys.'), ProductDescription(name='Benefit Partnerships', description='Products and services for the Employer or Individual level addressing behavioral health, family planning, physical & financial wellness, college assistance, tax-free health, and other insurance.'), ProductDescription(name='HCM Tech Partnerships', description='Facilitates seamless integration of HCM products and data with Bennie’s benefits platform.')] summary_product_description=SummaryProductDescription(name='Global Benefits Platform, Bennie App, Self-Funded Health Plan, Property & Casualty Solutions, Sayge Coaching Platform', description='Provides a variety of modern solutions in consulting, insurance, coaching, and training for employers, employees, and dependents. Includes a comprehensive app for managing benefits, self-funded health plans for cost-effective healthcare, consulting for various insurance needs, personalized coaching, and integration with human capital management technologies.') client_descriptions=[ClientDescription(name='Airbnb', product_used=None, description=None), ClientDescription(name='Thoropass', product_used=None, description=None), ClientDescription(name='Faherty', product_used=None, description=None), ClientDescription(name='Formstack', product_used=None, description=None), ClientDescription(name='GameOn', product_used=None, description=None), ClientDescription(name='ROKT', product_used=None, description=None), ClientDescription(name='Nylas', product_used=None, description=None), ClientDescription(name='Warby Parker', product_used=None, description=None), ClientDescription(name='Bonusly', product_used=None, description=None), ClientDescription(name='LTSE', product_used=None, description=None), ClientDescription(name='PolicyGenius', product_used=None, description=None), ClientDescription(name='Brightfunds', product_used=None, description=None), ClientDescription(name='Classpass', product_used=None, description=None), ClientDescription(name='Clever RX', product_used=None, description=None), ClientDescription(name='Crisis Text Line', product_used=None, description=None), ClientDescription(name='Financial GYM', product_used=None, description=None), ClientDescription(name='Savvi', product_used=None, description=None), ClientDescription(name='Milkstork', product_used=None, description=None), ClientDescription(name='Wellthy', product_used=None, description=None), ClientDescription(name='Thimble', product_used=None, description=None), ClientDescription(name='HSA Store', product_used=None, description=None), ClientDescription(name='FSA Store', product_used=None, description=None), ClientDescription(name='Gabi', product_used=None, description=None), ClientDescription(name='Nationwide', product_used=None, description=None), ClientDescription(name='spot pet insurance', product_used=None, description=None), ClientDescription(name='Freedom 365', product_used=None, description=None), ClientDescription(name='Monument', product_used=None, description=None), ClientDescription(name='College Wise', product_used=None, description=None), ClientDescription(name='Bestow', product_used=None, description=None), ClientDescription(name='Noom', product_used=None, description=None), ClientDescription(name='Galileo', product_used=None, description=None), ClientDescription(name='Allstate Identity', product_used=None, description=None), ClientDescription(name='Lively', product_used=None, description=None), ClientDescription(name='kindly human', product_used=None, description=None), ClientDescription(name='Peerfit', product_used=None, description=None), ClientDescription(name='Goodpath', product_used=None, description=None), ClientDescription(name='total pet plan', product_used=None, description=None), ClientDescription(name='Playbook', product_used=None, description=None), ClientDescription(name='EverQuote', product_used=None, description=None), ClientDescription(name='Smart Financial', product_used=None, description=None), ClientDescription(name='Breeze', product_used=None, description=None), ClientDescription(name='VSP', product_used=None, description=None), ClientDescription(name='Beyond Med', product_used=None, description=None), ClientDescription(name='Thriveworks', product_used=None, description=None), ClientDescription(name='Ladder', product_used=None, description=None), ClientDescription(name='Kindbody', product_used=None, description=None), ClientDescription(name='Wellhub', product_used=None, description=None), ClientDescription(name='One Medical', product_used=None, description=None), ClientDescription(name='Rocket Lawyer', product_used=None, description=None), ClientDescription(name='Alpha', product_used=None, description=None), ClientDescription(name='Vori Health', product_used=None, description=None), ClientDescription(name='ramp', product_used=None, description=None), ClientDescription(name='em life', product_used=None, description=None), ClientDescription(name='wishbone', product_used=None, description=None), ClientDescription(name='trust and will', product_used=None, description=None), ClientDescription(name='addition', product_used=None, description=None), ClientDescription(name='beme', product_used=None, description=None), ClientDescription(name='cleo', product_used=None, description=None), ClientDescription(name='joon', product_used=None, description=None), ClientDescription(name='wave', product_used=None, description=None), ClientDescription(name='boon', product_used=None, description=None), ClientDescription(name='Anuvi', product_used=None, description=None), ClientDescription(name='Ani', product_used=None, description=None), ClientDescription(name='betterment at work', product_used=None, description=None), ClientDescription(name='Rippling', product_used=None, description=None), ClientDescription(name='Paylocity', product_used=None, description=None), ClientDescription(name='Hi Bob', product_used=None, description=None), ClientDescription(name='Sapling', product_used=None, description=None), ClientDescription(name='Paragon', product_used=None, description=None), ClientDescription(name='ADP', product_used=None, description=None), ClientDescription(name='ease', product_used=None, description=None), ClientDescription(name='ABG', product_used=None, description=None), ClientDescription(name='Wex', product_used=None, description=None), ClientDescription(name='mineralhr', product_used=None, description=None), ClientDescription(name='Ribbon Health', product_used=None, description=None), ClientDescription(name='Wrangle', product_used=None, description=None), ClientDescription(name='ABC Consultants', product_used=None, description=None), ClientDescription(name='Human Interest', product_used=None, description=None), ClientDescription(name='zenefits', product_used=None, description=None), ClientDescription(name='Gusto', product_used=None, description=None), ClientDescription(name='Ultimate', product_used=None, description=None), ClientDescription(name='Paycom', product_used=None, description=None), ClientDescription(name='Electric', product_used=None, description=None)]\n",
      "{'product_descriptions': [{'name': 'Global Benefits Platform', 'description': 'Consulting, insurance, coaching, and training for employers, employees, and their dependents. Better benefits, consulting, health plan, insurance, and coaching solutions.'}, {'name': 'Bennie App', 'description': 'Allows employees to view ID cards, search for in-network doctors, explore costs, and chat with a healthcare concierge for help with claims, coverage, enrollment, and more.'}, {'name': 'Self-Funded Health Plan', 'description': 'A level-funded, cost-effective option providing improved cash flow, lower monthly healthcare payments, plan design flexibility, and limiting employee out-of-pocket costs.'}, {'name': 'Property & Casualty Solutions', 'description': 'Consulting on workers’ compensation, general liability, property, auto coverage, with better rates, bigger limits, and better policy language.'}, {'name': 'Sayge Coaching Platform', 'description': 'Matches employees with dedicated coaches for customized one-on-one virtual sessions supporting personal and professional journeys.'}, {'name': 'Benefit Partnerships', 'description': 'Products and services for the Employer or Individual level addressing behavioral health, family planning, physical & financial wellness, college assistance, tax-free health, and other insurance.'}, {'name': 'HCM Tech Partnerships', 'description': 'Facilitates seamless integration of HCM products and data with Bennie’s benefits platform.'}], 'summary_product_description': {'name': 'Global Benefits Platform, Bennie App, Self-Funded Health Plan, Property & Casualty Solutions, Sayge Coaching Platform', 'description': 'Provides a variety of modern solutions in consulting, insurance, coaching, and training for employers, employees, and dependents. Includes a comprehensive app for managing benefits, self-funded health plans for cost-effective healthcare, consulting for various insurance needs, personalized coaching, and integration with human capital management technologies.'}, 'client_descriptions': [{'name': 'Airbnb', 'product_used': None, 'description': None}, {'name': 'Thoropass', 'product_used': None, 'description': None}, {'name': 'Faherty', 'product_used': None, 'description': None}, {'name': 'Formstack', 'product_used': None, 'description': None}, {'name': 'GameOn', 'product_used': None, 'description': None}, {'name': 'ROKT', 'product_used': None, 'description': None}, {'name': 'Nylas', 'product_used': None, 'description': None}, {'name': 'Warby Parker', 'product_used': None, 'description': None}, {'name': 'Bonusly', 'product_used': None, 'description': None}, {'name': 'LTSE', 'product_used': None, 'description': None}, {'name': 'PolicyGenius', 'product_used': None, 'description': None}, {'name': 'Brightfunds', 'product_used': None, 'description': None}, {'name': 'Classpass', 'product_used': None, 'description': None}, {'name': 'Clever RX', 'product_used': None, 'description': None}, {'name': 'Crisis Text Line', 'product_used': None, 'description': None}, {'name': 'Financial GYM', 'product_used': None, 'description': None}, {'name': 'Savvi', 'product_used': None, 'description': None}, {'name': 'Milkstork', 'product_used': None, 'description': None}, {'name': 'Wellthy', 'product_used': None, 'description': None}, {'name': 'Thimble', 'product_used': None, 'description': None}, {'name': 'HSA Store', 'product_used': None, 'description': None}, {'name': 'FSA Store', 'product_used': None, 'description': None}, {'name': 'Gabi', 'product_used': None, 'description': None}, {'name': 'Nationwide', 'product_used': None, 'description': None}, {'name': 'spot pet insurance', 'product_used': None, 'description': None}, {'name': 'Freedom 365', 'product_used': None, 'description': None}, {'name': 'Monument', 'product_used': None, 'description': None}, {'name': 'College Wise', 'product_used': None, 'description': None}, {'name': 'Bestow', 'product_used': None, 'description': None}, {'name': 'Noom', 'product_used': None, 'description': None}, {'name': 'Galileo', 'product_used': None, 'description': None}, {'name': 'Allstate Identity', 'product_used': None, 'description': None}, {'name': 'Lively', 'product_used': None, 'description': None}, {'name': 'kindly human', 'product_used': None, 'description': None}, {'name': 'Peerfit', 'product_used': None, 'description': None}, {'name': 'Goodpath', 'product_used': None, 'description': None}, {'name': 'total pet plan', 'product_used': None, 'description': None}, {'name': 'Playbook', 'product_used': None, 'description': None}, {'name': 'EverQuote', 'product_used': None, 'description': None}, {'name': 'Smart Financial', 'product_used': None, 'description': None}, {'name': 'Breeze', 'product_used': None, 'description': None}, {'name': 'VSP', 'product_used': None, 'description': None}, {'name': 'Beyond Med', 'product_used': None, 'description': None}, {'name': 'Thriveworks', 'product_used': None, 'description': None}, {'name': 'Ladder', 'product_used': None, 'description': None}, {'name': 'Kindbody', 'product_used': None, 'description': None}, {'name': 'Wellhub', 'product_used': None, 'description': None}, {'name': 'One Medical', 'product_used': None, 'description': None}, {'name': 'Rocket Lawyer', 'product_used': None, 'description': None}, {'name': 'Alpha', 'product_used': None, 'description': None}, {'name': 'Vori Health', 'product_used': None, 'description': None}, {'name': 'ramp', 'product_used': None, 'description': None}, {'name': 'em life', 'product_used': None, 'description': None}, {'name': 'wishbone', 'product_used': None, 'description': None}, {'name': 'trust and will', 'product_used': None, 'description': None}, {'name': 'addition', 'product_used': None, 'description': None}, {'name': 'beme', 'product_used': None, 'description': None}, {'name': 'cleo', 'product_used': None, 'description': None}, {'name': 'joon', 'product_used': None, 'description': None}, {'name': 'wave', 'product_used': None, 'description': None}, {'name': 'boon', 'product_used': None, 'description': None}, {'name': 'Anuvi', 'product_used': None, 'description': None}, {'name': 'Ani', 'product_used': None, 'description': None}, {'name': 'betterment at work', 'product_used': None, 'description': None}, {'name': 'Rippling', 'product_used': None, 'description': None}, {'name': 'Paylocity', 'product_used': None, 'description': None}, {'name': 'Hi Bob', 'product_used': None, 'description': None}, {'name': 'Sapling', 'product_used': None, 'description': None}, {'name': 'Paragon', 'product_used': None, 'description': None}, {'name': 'ADP', 'product_used': None, 'description': None}, {'name': 'ease', 'product_used': None, 'description': None}, {'name': 'ABG', 'product_used': None, 'description': None}, {'name': 'Wex', 'product_used': None, 'description': None}, {'name': 'mineralhr', 'product_used': None, 'description': None}, {'name': 'Ribbon Health', 'product_used': None, 'description': None}, {'name': 'Wrangle', 'product_used': None, 'description': None}, {'name': 'ABC Consultants', 'product_used': None, 'description': None}, {'name': 'Human Interest', 'product_used': None, 'description': None}, {'name': 'zenefits', 'product_used': None, 'description': None}, {'name': 'Gusto', 'product_used': None, 'description': None}, {'name': 'Ultimate', 'product_used': None, 'description': None}, {'name': 'Paycom', 'product_used': None, 'description': None}, {'name': 'Electric', 'product_used': None, 'description': None}]}\n"
     ]
    }
   ],
   "source": [
    "response = llm_information_extraction(combined_summary, product_extraction_prompt)\n",
    "print(response)\n",
    "print(response.dict())"
   ]
  },
  {
   "cell_type": "code",
   "execution_count": 87,
   "metadata": {},
   "outputs": [],
   "source": [
    "write_json_file(f'extraction_output_v2/{company_name}_extraction.json', response.dict())"
   ]
  },
  {
   "cell_type": "code",
   "execution_count": 58,
   "metadata": {},
   "outputs": [
    {
     "name": "stdout",
     "output_type": "stream",
     "text": [
      "product_descriptions=[ProductDescription(name='Cloud Solutions', description='Scalability, security, and ease of use.')] product_offering_summary='Innovative cloud solutions that help businesses streamline their operations with key features including scalability, security, and ease of use.' client_descriptions=[ClientDescription(name='TechCorp', product_used='Cloud solutions', description='Improve data management, resulting in a 30% increase in efficiency.'), ClientDescription(name='SoftInc', product_used='Cloud solutions', description='Integrated services into their workflow, leading to significant improvements in project turnaround times.'), ClientDescription(name='Nationwide', product_used=None, description=None), ClientDescription(name='Freedom', product_used=None, description=None), ClientDescription(name='Bestow', product_used=None, description=None)]\n"
     ]
    }
   ],
   "source": [
    "# Example data\n",
    "text = \"\"\"\n",
    "Our company offers innovative cloud solutions that help businesses streamline their operations. Our key features include scalability, security, and ease of use.\n",
    "\n",
    "We partner with leading firms such as TechCorp and SoftInc to deliver top-notch services. For example, TechCorp uses our cloud solutions to improve their data management, resulting in a 30% increase in efficiency.\n",
    "\n",
    "Our client, SoftInc, has integrated our services into their workflow, leading to significant improvements in their project turnaround times.\n",
    "\n",
    "Our platform and service are trusted by these innovative companies:\n",
    "Clients are: Nationwide, Freedom, Bestow...\n",
    "...\n",
    "\"\"\"\n",
    "\n",
    "response = llm_information_extraction(text, product_extraction_prompt)\n",
    "print(response)\n"
   ]
  },
  {
   "cell_type": "code",
   "execution_count": 61,
   "metadata": {},
   "outputs": [
    {
     "data": {
      "text/plain": [
       "'{\"product_descriptions\":[{\"name\":\"Cloud Solutions\",\"description\":\"Scalability, security, and ease of use.\"}],\"product_offering_summary\":\"Innovative cloud solutions that help businesses streamline their operations with key features including scalability, security, and ease of use.\",\"client_descriptions\":[{\"name\":\"TechCorp\",\"product_used\":\"Cloud solutions\",\"description\":\"Improve data management, resulting in a 30% increase in efficiency.\"},{\"name\":\"SoftInc\",\"product_used\":\"Cloud solutions\",\"description\":\"Integrated services into their workflow, leading to significant improvements in project turnaround times.\"},{\"name\":\"Nationwide\",\"product_used\":null,\"description\":null},{\"name\":\"Freedom\",\"product_used\":null,\"description\":null},{\"name\":\"Bestow\",\"product_used\":null,\"description\":null}]}'"
      ]
     },
     "execution_count": 61,
     "metadata": {},
     "output_type": "execute_result"
    }
   ],
   "source": []
  },
  {
   "cell_type": "code",
   "execution_count": null,
   "metadata": {},
   "outputs": [],
   "source": []
  }
 ],
 "metadata": {
  "kernelspec": {
   "display_name": "ucl_project",
   "language": "python",
   "name": "python3"
  },
  "language_info": {
   "codemirror_mode": {
    "name": "ipython",
    "version": 3
   },
   "file_extension": ".py",
   "mimetype": "text/x-python",
   "name": "python",
   "nbconvert_exporter": "python",
   "pygments_lexer": "ipython3",
   "version": "3.10.6"
  }
 },
 "nbformat": 4,
 "nbformat_minor": 2
}
