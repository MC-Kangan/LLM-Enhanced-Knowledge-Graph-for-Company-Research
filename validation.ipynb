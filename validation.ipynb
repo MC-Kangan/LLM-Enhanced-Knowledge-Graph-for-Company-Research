{
 "cells": [
  {
   "cell_type": "code",
   "execution_count": 1,
   "metadata": {},
   "outputs": [
    {
     "name": "stderr",
     "output_type": "stream",
     "text": [
      "/Users/chenkangan/Documents/UCL DSML/Thesis/project/ucl_project/lib/python3.10/site-packages/tqdm/auto.py:21: TqdmWarning: IProgress not found. Please update jupyter and ipywidgets. See https://ipywidgets.readthedocs.io/en/stable/user_install.html\n",
      "  from .autonotebook import tqdm as notebook_tqdm\n"
     ]
    }
   ],
   "source": [
    "from neo4j_utility import *\n",
    "from llm_extraction import *\n",
    "from firecrawl_scraping import *\n",
    "from utility import *\n",
    "import os\n",
    "from tqdm import tqdm\n",
    "from dotenv import load_dotenv"
   ]
  },
  {
   "cell_type": "code",
   "execution_count": null,
   "metadata": {},
   "outputs": [],
   "source": [
    "update_client_list()"
   ]
  },
  {
   "cell_type": "code",
   "execution_count": 36,
   "metadata": {},
   "outputs": [
    {
     "name": "stdout",
     "output_type": "stream",
     "text": [
      "Parent directory already exists: data\n",
      "Company: hearro; No clients to be updated\n",
      "Parent directory already exists: data\n",
      "Client Danforth: URL could not be found\n",
      "Client Wadman Corp: URL could not be found\n",
      "Client Central Plumbing: URL could not be found\n",
      "Client Gramercy: URL could not be found\n",
      "Client Kyne Construction: URL could not be found\n",
      "Client Sundt: URL could not be found\n",
      "Client Swinerton Renewable Energy: URL could not be found\n",
      "Client Maurice Agrillo: URL could not be found\n",
      "Client Unison Construction Management: URL could not be found\n",
      "Company: raken; Clients information is updated.\n",
      "Parent directory already exists: data\n",
      "Company: crunch_; No clients to be updated\n",
      "Parent directory already exists: data\n",
      "Company: crowdbureau; Clients information is updated.\n",
      "Parent directory already exists: data\n",
      "Company: yayem; No clients to be updated\n",
      "Parent directory already exists: data\n",
      "Client Deliveroo: URL could not be found\n",
      "Client Royal Bank of Scotland: URL could not be found\n",
      "Client Target Group: URL could not be found\n",
      "Company: directid; Clients information is updated.\n",
      "Parent directory already exists: data\n",
      "Client Hivebrite, Inc.: URL could not be found\n",
      "Client 90210 Surgery Medical Center: URL could not be found\n",
      "Client McCarton Foundation: URL could not be found\n",
      "Client CenterLink: URL could not be found\n",
      "Company: zenefits; Clients information is updated.\n",
      "Parent directory already exists: data\n",
      "Client MortgageHippo: URL could not be found\n",
      "Company: housecanary; Clients information is updated.\n",
      "Parent directory already exists: data\n",
      "Company: manor_straits; No clients to be updated\n",
      "Parent directory already exists: data\n",
      "Client Long Form Creative Agency: URL could not be found\n",
      "Client Bun Bun Media: URL could not be found\n",
      "Client Scott's Cheap Flights: URL could not be found\n",
      "Company: dash_fi; Clients information is updated.\n",
      "Parent directory already exists: data\n",
      "Client EUA: URL could not be found\n",
      "Client SMRT: URL could not be found\n",
      "Company: cove_tool; Clients information is updated.\n",
      "Parent directory already exists: data\n",
      "Company: zavvie; Clients information is updated.\n",
      "Parent directory already exists: data\n",
      "Client NACo FSC: URL could not be found\n",
      "Client CentralSquare Technologies: URL could not be found\n",
      "Client Software Solutions: URL could not be found\n",
      "Company: cleargov; Clients information is updated.\n",
      "Parent directory already exists: data\n",
      "Company: april; No clients to be updated\n",
      "Parent directory already exists: data\n",
      "Company: wa+ts; Clients information is updated.\n",
      "Parent directory already exists: data\n",
      "Client Commercial Bank: URL could not be found\n",
      "Company: lexalign; Clients information is updated.\n",
      "Parent directory already exists: data\n",
      "Client Forstone Capital: URL could not be found\n",
      "Client CEAVCO Audio Visual: URL could not be found\n",
      "Client Laurel Lane County Club: URL could not be found\n",
      "Company: srs; Clients information is updated.\n",
      "Parent directory already exists: data\n",
      "Company: avanta_risk_management; No clients to be updated\n",
      "Parent directory already exists: data\n",
      "Company: prospectnow; Clients information is updated.\n",
      "Parent directory already exists: data\n",
      "Company: devicethread; Clients information is updated.\n",
      "Parent directory already exists: data\n",
      "Company: rapid_innovation; No clients to be updated\n",
      "Parent directory already exists: data\n",
      "Company: archway_software; Clients information is updated.\n",
      "Parent directory already exists: data\n",
      "Client Aladin Shopping Mall: URL could not be found\n",
      "Client SHEN company: URL could not be found\n",
      "Client Pyramida Shopping Mall: URL could not be found\n",
      "Company: prengi; Clients information is updated.\n",
      "Parent directory already exists: data\n",
      "Company: quantifying_nature; No clients to be updated\n",
      "Parent directory already exists: data\n",
      "Client Google: URL could not be found\n",
      "Client GIC: URL could not be found\n",
      "Client Allianz: URL could not be found\n",
      "Company: cambio; Clients information is updated.\n",
      "Parent directory already exists: data\n",
      "Company: digibilt; Clients information is updated.\n",
      "Parent directory already exists: data\n",
      "Client Friedman: URL could not be found\n",
      "Company: fyxt; Clients information is updated.\n",
      "Parent directory already exists: data\n",
      "Company: sisu; No clients to be updated\n",
      "Parent directory already exists: data\n",
      "Company: 9fin; Clients information is updated.\n",
      "Parent directory already exists: data\n",
      "Company: resilientx; No clients to be updated\n",
      "Parent directory already exists: data\n",
      "Client MMD Shops: URL could not be found\n",
      "Client Legacy Dispensary: URL could not be found\n",
      "Client Cali Kosher Dispensary: URL could not be found\n",
      "Client MMD Shops: URL could not be found\n",
      "Company: blaze; Clients information is updated.\n",
      "Parent directory already exists: data\n",
      "Company: mango_reix; Clients information is updated.\n",
      "Parent directory already exists: data\n",
      "Client Challenger Bank: URL could not be found\n",
      "Client Marketplace Bank: URL could not be found\n",
      "Client Portuguese Bank: URL could not be found\n",
      "Client Global Corporate Bank: URL could not be found\n",
      "Company: alterest; Clients information is updated.\n",
      "Parent directory already exists: data\n",
      "Company: selectfi; Clients information is updated.\n",
      "Parent directory already exists: data\n",
      "Company: fpn; Clients information is updated.\n",
      "Parent directory already exists: data\n",
      "Client HSB Real Estate: URL could not be found\n",
      "Client HSB: URL could not be found\n",
      "Client Elkjop: URL could not be found\n",
      "Client Strawberry: URL could not be found\n",
      "Client Alpha.AI: URL could not be found\n",
      "Client Coupa: URL could not be found\n",
      "Client Cogizant: URL could not be found\n",
      "Client 24SevenOffice: URL could not be found\n",
      "Company: vic_ai; Clients information is updated.\n",
      "Parent directory already exists: data\n",
      "Company: aptly; Clients information is updated.\n",
      "Parent directory already exists: data\n",
      "Client OLIO: URL could not be found\n",
      "Client Beam: URL could not be found\n",
      "Client MeasureMatch: URL could not be found\n",
      "Client Mira Rehab: URL could not be found\n",
      "Client Bettor: URL could not be found\n",
      "Client Marco Scotti's company: URL could not be found\n",
      "Company: accountancy_cloud; Clients information is updated.\n",
      "Parent directory already exists: data\n",
      "Company: kingfield; Clients information is updated.\n",
      "Parent directory already exists: data\n",
      "Client GOODFinProm: URL could not be found\n",
      "Client GOODFOLIO: URL could not be found\n",
      "Company: goodfolio; Clients information is updated.\n",
      "Parent directory already exists: data\n",
      "Client Rain: URL could not be found\n",
      "Company: candoriq; Clients information is updated.\n",
      "Parent directory already exists: data\n",
      "Client M&E Landscaping: URL could not be found\n",
      "Client David & Sons Construction Co: URL could not be found\n",
      "Company: reconcile; Clients information is updated.\n",
      "Parent directory already exists: data\n",
      "Company: fintron; Clients information is updated.\n",
      "Parent directory already exists: data\n",
      "Client Prosper Financials, LLC: URL could not be found\n",
      "Client Logic Accounting Solutions, Inc: URL could not be found\n",
      "Client BalCo Business Solutions: URL could not be found\n",
      "Client Legacy Accounting: URL could not be found\n",
      "Client Satterely Consulting: URL could not be found\n",
      "Client Bruin Corporation of Framingham: URL could not be found\n",
      "Company: client_hub; Clients information is updated.\n",
      "Parent directory already exists: data\n",
      "Client Gr@vity: URL could not be found\n",
      "Client Sfera Technologies: URL could not be found\n",
      "Company: copernic_space; Clients information is updated.\n",
      "Parent directory already exists: data\n",
      "Company: shibuya; No clients to be updated\n",
      "Parent directory already exists: data\n",
      "Client Fox Robotics: URL could not be found\n",
      "Company: hardfin; Clients information is updated.\n",
      "Parent directory already exists: data\n",
      "Company: upper_health; No clients to be updated\n",
      "Parent directory already exists: data\n",
      "Client Integrating Apokto: URL could not be found\n",
      "Company: apokto; Clients information is updated.\n",
      "Parent directory already exists: data\n",
      "Company: acqyr_exchange; No clients to be updated\n",
      "Parent directory already exists: data\n",
      "Client Barclays: URL could not be found\n",
      "Client Sandbar: URL could not be found\n",
      "Company: sparkchange; Clients information is updated.\n",
      "Parent directory already exists: data\n",
      "Company: fundshine; No clients to be updated\n",
      "Parent directory already exists: data\n",
      "Company: burstiq; No clients to be updated\n",
      "Parent directory already exists: data\n",
      "Company: paralian; No clients to be updated\n",
      "Parent directory already exists: data\n",
      "Client JLS Craftsmen: URL could not be found\n",
      "Client EverLevel Concrete Repair: URL could not be found\n",
      "Client BDry Waterproofing & Foundation Repair - Alabama: URL could not be found\n",
      "Company: contractor_accelerator; Clients information is updated.\n",
      "Parent directory already exists: data\n",
      "Company: meshlink; No clients to be updated\n",
      "Parent directory already exists: data\n",
      "Company: xtrememortgageworx; No clients to be updated\n",
      "Parent directory already exists: data\n",
      "Company: mathlabs; Clients information is updated.\n",
      "Parent directory already exists: data\n",
      "Client Bricklane: URL could not be found\n",
      "Client Touchstone: URL could not be found\n",
      "Company: residently; Clients information is updated.\n",
      "Parent directory already exists: data\n",
      "Client Pluto: URL could not be found\n",
      "Client MyBubble: URL could not be found\n",
      "Company: seedlegals; Clients information is updated.\n",
      "Parent directory already exists: data\n",
      "Company: untied; No clients to be updated\n",
      "Parent directory already exists: data\n",
      "Company: kaster; No clients to be updated\n",
      "Parent directory already exists: data\n",
      "Client Eklund │ Gomes Team, Douglas Elliman: URL could not be found\n",
      "Client CLAY STAPP+CO: URL could not be found\n",
      "Company: rechat; Clients information is updated.\n",
      "Parent directory already exists: data\n",
      "Company: citybldr; Clients information is updated.\n",
      "Parent directory already exists: data\n",
      "Client FastLap: URL could not be found\n",
      "Company: dealroom; Clients information is updated.\n",
      "Parent directory already exists: data\n",
      "Company: redipay; No clients to be updated\n",
      "Parent directory already exists: data\n",
      "Company: pinkaloo_technologies; Clients information is updated.\n",
      "Parent directory already exists: data\n",
      "Client Schuil & Associates: URL could not be found\n",
      "Client Suncrest Agribusiness Suncrest Bank: URL could not be found\n",
      "Client Valley Republic Bank: URL could not be found\n",
      "Client Zions AgFinance: URL could not be found\n",
      "Client Blue Diamond Almonds: URL could not be found\n",
      "Company: aquaoso_technologies; Clients information is updated.\n",
      "Parent directory already exists: data\n",
      "Client AGP: URL could not be found\n",
      "Client Fitek: URL could not be found\n",
      "Client Orion: URL could not be found\n",
      "Company: xignite; Clients information is updated.\n",
      "Parent directory already exists: data\n",
      "Company: weiss_analytics; No clients to be updated\n",
      "Parent directory already exists: data\n",
      "Client Simple Showing, Inc.: URL could not be found\n",
      "Client Guardian Realty Group: URL could not be found\n",
      "Client Local Real Estate Advisors: URL could not be found\n",
      "Company: doorsey; Clients information is updated.\n",
      "Parent directory already exists: data\n",
      "Client Hajjar Management Co.: URL could not be found\n",
      "Client DLC Management Co.: URL could not be found\n",
      "Company: leasepilot; Clients information is updated.\n",
      "Parent directory already exists: data\n",
      "Company: aora; Clients information is updated.\n",
      "Parent directory already exists: data\n",
      "Company: nammu21; No clients to be updated\n",
      "Parent directory already exists: data\n",
      "Company: oildex; No clients to be updated\n",
      "Parent directory already exists: data\n",
      "Company: prodeal; Clients information is updated.\n",
      "Parent directory already exists: data\n",
      "Client Mudgil Dermatology: URL could not be found\n",
      "Client Simple Sense: URL could not be found\n",
      "Company: bookkeeper360; Clients information is updated.\n",
      "Parent directory already exists: data\n",
      "Company: monetapro; No clients to be updated\n",
      "Parent directory already exists: data\n",
      "Client FD Fund Administration: URL could not be found\n",
      "Client it|venture: URL could not be found\n",
      "Client Steelbridge: URL could not be found\n",
      "Client Standish: URL could not be found\n",
      "Client Strata: URL could not be found\n",
      "Company: cobalt_software; Clients information is updated.\n",
      "Parent directory already exists: data\n",
      "Client Groover: URL could not be found\n",
      "Company: unchained_music; Clients information is updated.\n",
      "Parent directory already exists: data\n",
      "Client Adjoint: URL could not be found\n",
      "Company: mosaique; Clients information is updated.\n",
      "Parent directory already exists: data\n",
      "Company: juvo; No clients to be updated\n",
      "Parent directory already exists: data\n",
      "Client Gilson Trucking Inc.: URL could not be found\n",
      "Company: boon_technologies; Clients information is updated.\n",
      "Parent directory already exists: data\n",
      "Client Ritmo: URL could not be found\n",
      "Client Juni: URL could not be found\n",
      "Company: heron_data; Clients information is updated.\n",
      "Parent directory already exists: data\n",
      "Company: rentvine; Clients information is updated.\n",
      "Parent directory already exists: data\n",
      "Company: prism_data; No clients to be updated\n",
      "Parent directory already exists: data\n",
      "Company: zenplace; No clients to be updated\n",
      "Parent directory already exists: data\n",
      "Company: praedicat; Clients information is updated.\n",
      "Parent directory already exists: data\n",
      "Company: landbay; No clients to be updated\n",
      "Parent directory already exists: data\n",
      "Company: openrent; No clients to be updated\n",
      "Parent directory already exists: data\n",
      "Company: reonomy; No clients to be updated\n",
      "Parent directory already exists: data\n",
      "Company: revvin; No clients to be updated\n",
      "Parent directory already exists: data\n",
      "Company: databento; No clients to be updated\n",
      "Parent directory already exists: data\n",
      "Client The Integrity Team - RE/MAX Defined: URL could not be found\n",
      "Client Teri Pacitto Group - RE/MAX Olson & Associates, Inc.: URL could not be found\n",
      "Client Amber Salmon Real Estate Team - RE/MAX Real Estate Concepts: URL could not be found\n",
      "Client Coldwell Banker Residential Brokerage: URL could not be found\n",
      "Client Dilbeck Realtors: URL could not be found\n",
      "Client RE/MAX Allegiance: URL could not be found\n",
      "Company: realvolve; Clients information is updated.\n",
      "Parent directory already exists: data\n",
      "Client Hume Collective: URL could not be found\n",
      "Client SuperRare Labs: URL could not be found\n",
      "Client Refraction: URL could not be found\n",
      "Company: bello; Clients information is updated.\n",
      "Parent directory already exists: data\n",
      "Company: reloquest; Clients information is updated.\n",
      "Parent directory already exists: data\n",
      "Company: data_vault; No clients to be updated\n",
      "Parent directory already exists: data\n",
      "Client Forma: URL could not be found\n",
      "Company: nue; Clients information is updated.\n",
      "Parent directory already exists: data\n",
      "Company: daisy; Clients information is updated.\n",
      "Parent directory already exists: data\n",
      "Company: relcu; No clients to be updated\n",
      "Parent directory already exists: data\n",
      "Company: alphaletz; Clients information is updated.\n",
      "Parent directory already exists: data\n",
      "Client Zeo Capital Advisors: URL could not be found\n",
      "Company: truvalue_labs; Clients information is updated.\n",
      "Parent directory already exists: data\n",
      "Company: kapta; No clients to be updated\n",
      "Parent directory already exists: data\n",
      "Company: tekuma_frenchman; No clients to be updated\n",
      "Parent directory already exists: data\n",
      "Company: evolve_credit; No clients to be updated\n",
      "Parent directory already exists: data\n",
      "Client Weight Watchers of Maine, Inc.: URL could not be found\n",
      "Client The Smile: URL could not be found\n",
      "Client Family Office: URL could not be found\n",
      "Client Beckman Production Services: URL could not be found\n",
      "Client MyDocPlus, LLC: URL could not be found\n",
      "Client Branson Airports: URL could not be found\n",
      "Company: gravity_software; Clients information is updated.\n",
      "Parent directory already exists: data\n",
      "Company: ink; No clients to be updated\n",
      "Parent directory already exists: data\n",
      "Company: bixby_research_and_analytics; No clients to be updated\n",
      "Parent directory already exists: data\n",
      "Client GreenTrees: URL could not be found\n",
      "Company: soli; Clients information is updated.\n",
      "Parent directory already exists: data\n",
      "Company: munirevs; Clients information is updated.\n",
      "Parent directory already exists: data\n",
      "Company: fimple; No clients to be updated\n",
      "Parent directory already exists: data\n",
      "Company: regeo; Clients information is updated.\n",
      "Parent directory already exists: data\n",
      "Client Avery Brewing Company: URL could not be found\n",
      "Client Dueling Ducks Brewing: URL could not be found\n",
      "Client Orpheus Brewing: URL could not be found\n",
      "Company: arryved; Clients information is updated.\n",
      "Parent directory already exists: data\n",
      "Client International Pipe & Supply, LLC: URL could not be found\n",
      "Client Security Solutions: URL could not be found\n",
      "Company: acumatica; Clients information is updated.\n",
      "Parent directory already exists: data\n",
      "Company: singularities; No clients to be updated\n",
      "Parent directory already exists: data\n",
      "Company: edgeconnect; No clients to be updated\n",
      "Parent directory already exists: data\n",
      "Client Viola Risk Advisors: URL could not be found\n",
      "Company: new_constructs; Clients information is updated.\n",
      "Error occurs on company .DS_Store, 'utf-8' codec can't decode byte 0x80 in position 3131: invalid start byte\n",
      "Parent directory already exists: data\n",
      "Company: real_grader; No clients to be updated\n",
      "Parent directory already exists: data\n",
      "Company: tally; No clients to be updated\n",
      "Parent directory already exists: data\n",
      "Client Rockets of Awesome (The Hedgehog Company): URL could not be found\n",
      "Client Nikola Winery: URL could not be found\n",
      "Client Santolin Wines: URL could not be found\n",
      "Client Alkoomi: URL could not be found\n",
      "Company: awtomic; Clients information is updated.\n",
      "Parent directory already exists: data\n",
      "Client Classic Electric: URL could not be found\n",
      "Client Certified Fire: URL could not be found\n",
      "Client The ICE Group: URL could not be found\n",
      "Client Mechanical Contractors Association of America (MCAA): URL could not be found\n",
      "Company: buildops; Clients information is updated.\n",
      "Parent directory already exists: data\n",
      "Company: reciprocit; No clients to be updated\n",
      "Parent directory already exists: data\n",
      "Company: taygo; No clients to be updated\n",
      "Parent directory already exists: data\n",
      "Client Maple Capital Partners: URL could not be found\n",
      "Company: investnext; Clients information is updated.\n",
      "Parent directory already exists: data\n",
      "Company: brightdime; No clients to be updated\n",
      "Parent directory already exists: data\n",
      "Company: stakana; No clients to be updated\n",
      "Parent directory already exists: data\n",
      "Company: disclosures_io; No clients to be updated\n",
      "Parent directory already exists: data\n",
      "Client Iovation: URL could not be found\n",
      "Client IDAnalytics: URL could not be found\n",
      "Company: under; Clients information is updated.\n",
      "Parent directory already exists: data\n",
      "Company: comprehensive; Clients information is updated.\n",
      "Parent directory already exists: data\n",
      "Company: janiis; No clients to be updated\n",
      "Parent directory already exists: data\n",
      "Company: gosolo; No clients to be updated\n",
      "Parent directory already exists: data\n",
      "Company: refinere; No clients to be updated\n",
      "Parent directory already exists: data\n",
      "Company: risksave_technologies; Clients information is updated.\n",
      "Parent directory already exists: data\n",
      "Company: green_flag_credit; No clients to be updated\n",
      "Parent directory already exists: data\n",
      "Company: net_purpose; No clients to be updated\n",
      "Parent directory already exists: data\n",
      "Company: darwin_homes; Clients information is updated.\n",
      "Parent directory already exists: data\n",
      "Client M1 Singapore: URL could not be found\n",
      "Client Liberty Latin America: URL could not be found\n",
      "Client Subaru: URL could not be found\n",
      "Client Berlingske Media: URL could not be found\n",
      "Client Oxford University Press: URL could not be found\n",
      "Client Jysk Fynske Medier: URL could not be found\n",
      "Client Polaris Media: URL could not be found\n",
      "Company: aria_systems; Clients information is updated.\n",
      "Parent directory already exists: data\n",
      "Company: clarity; No clients to be updated\n",
      "Parent directory already exists: data\n",
      "Client Charles Schwab Corporation: URL could not be found\n",
      "Client Bloom: URL could not be found\n",
      "Client Passiv: URL could not be found\n",
      "Company: global_predictions; Clients information is updated.\n",
      "Parent directory already exists: data\n",
      "Company: highlight; No clients to be updated\n",
      "Parent directory already exists: data\n",
      "Client Feevr: URL could not be found\n",
      "Client Sani Vend: URL could not be found\n",
      "Client Ruby's Naturals, Inc.: URL could not be found\n",
      "Company: omnichain; Clients information is updated.\n",
      "Parent directory already exists: data\n",
      "Company: lofty; No clients to be updated\n",
      "Parent directory already exists: data\n",
      "Client The Taubman Company: URL could not be found\n",
      "Company: space_jam_data; Clients information is updated.\n",
      "Parent directory already exists: data\n",
      "Client Green Bank: URL could not be found\n",
      "Client Pursuit: URL could not be found\n",
      "Company: cirrus; Clients information is updated.\n",
      "Parent directory already exists: data\n",
      "Client Thrivest Legal Funding: URL could not be found\n",
      "Client Gramercy Funding: URL could not be found\n",
      "Company: mighty; Clients information is updated.\n",
      "Parent directory already exists: data\n",
      "Client ResearchHub: URL could not be found\n",
      "Company: atom; Clients information is updated.\n",
      "Parent directory already exists: data\n",
      "Company: pto_exchange; No clients to be updated\n",
      "Parent directory already exists: data\n",
      "Company: habitat; No clients to be updated\n",
      "Parent directory already exists: data\n",
      "Company: yardi_kube; No clients to be updated\n",
      "Parent directory already exists: data\n",
      "Client Fee Checkers: URL could not be found\n",
      "Client Accept Cards: URL could not be found\n",
      "Company: groov; Clients information is updated.\n",
      "Parent directory already exists: data\n",
      "Client Moneyou: URL could not be found\n",
      "Client Bankdata: URL could not be found\n",
      "Client Knab: URL could not be found\n",
      "Client SIX (bLink platform): URL could not be found\n",
      "Company: konsentus; Clients information is updated.\n",
      "Parent directory already exists: data\n",
      "Company: fluid; No clients to be updated\n",
      "Parent directory already exists: data\n",
      "Company: scout_finance; No clients to be updated\n",
      "Parent directory already exists: data\n",
      "Company: adwerx; Clients information is updated.\n",
      "Parent directory already exists: data\n",
      "Client Archi-Pix Photography: URL could not be found\n",
      "Company: aryeo; Clients information is updated.\n",
      "Parent directory already exists: data\n",
      "Company: pinpoint_predictive; Clients information is updated.\n",
      "Parent directory already exists: data\n",
      "Company: taxtaker; Clients information is updated.\n",
      "Parent directory already exists: data\n",
      "Client New Wave Accountants: URL could not be found\n",
      "Client mAccounting: URL could not be found\n",
      "Client Change Accountants & Advisors: URL could not be found\n",
      "Client Envolta Cloud Accounting: URL could not be found\n",
      "Company: karbon; Clients information is updated.\n",
      "Parent directory already exists: data\n",
      "Company: swear; No clients to be updated\n",
      "Parent directory already exists: data\n",
      "Company: hubsync; Clients information is updated.\n",
      "Parent directory already exists: data\n",
      "Client Lloyds Banking Group: URL could not be found\n",
      "Client IncomeMax: URL could not be found\n",
      "Client United Kash: URL could not be found\n",
      "Client Slick: URL could not be found\n",
      "Company: hope_macy; Clients information is updated.\n",
      "Parent directory already exists: data\n",
      "Company: elements; No clients to be updated\n",
      "Parent directory already exists: data\n",
      "Company: complete_intelligence; Clients information is updated.\n",
      "Parent directory already exists: data\n",
      "Company: photoup; Clients information is updated.\n",
      "Parent directory already exists: data\n",
      "Client Sense: URL could not be found\n",
      "Company: anrok; Clients information is updated.\n",
      "Parent directory already exists: data\n",
      "Company: emigrait; Clients information is updated.\n",
      "Parent directory already exists: data\n",
      "Client Puzzle: URL could not be found\n",
      "Company: arbo; Clients information is updated.\n",
      "Parent directory already exists: data\n",
      "Client Saffron Tech: URL could not be found\n",
      "Company: venex; Clients information is updated.\n",
      "Parent directory already exists: data\n",
      "Company: revolution_re; No clients to be updated\n",
      "Parent directory already exists: data\n",
      "Client Rockreations: URL could not be found\n",
      "Client CAPYAC: URL could not be found\n",
      "Client E-NFT / Emmersive Entertainment: URL could not be found\n",
      "Company: curios; Clients information is updated.\n",
      "Parent directory already exists: data\n",
      "Client Wealth & Trading: URL could not be found\n",
      "Company: polygon_io; Clients information is updated.\n",
      "Parent directory already exists: data\n",
      "Client Rain: URL could not be found\n",
      "Client Exponential.fi: URL could not be found\n",
      "Company: entendre_finance; Clients information is updated.\n",
      "Parent directory already exists: data\n",
      "Client Jane.com: URL could not be found\n",
      "Client Advanced Sign LLC: URL could not be found\n",
      "Client Global Value Commerce: URL could not be found\n",
      "Company: taxjar; Clients information is updated.\n",
      "Parent directory already exists: data\n",
      "Client Rengen: URL could not be found\n",
      "Company: bunk; Clients information is updated.\n",
      "Parent directory already exists: data\n",
      "Company: validient; Clients information is updated.\n",
      "Parent directory already exists: data\n",
      "Client disruptequity partners: URL could not be found\n",
      "Company: vyzer; Clients information is updated.\n",
      "Parent directory already exists: data\n",
      "Company: laneaxis; No clients to be updated\n",
      "Parent directory already exists: data\n",
      "Client Merchants and Marine Bank: URL could not be found\n",
      "Company: klarivis; Clients information is updated.\n",
      "Parent directory already exists: data\n",
      "Company: vested_; Clients information is updated.\n",
      "Parent directory already exists: data\n",
      "Client L&B: URL could not be found\n",
      "Client Doley & Seelbach: URL could not be found\n",
      "Company: skribe; Clients information is updated.\n",
      "Parent directory already exists: data\n",
      "Company: overflow; No clients to be updated\n",
      "Parent directory already exists: data\n",
      "Client Toshiba: URL could not be found\n",
      "Company: caligotech; Clients information is updated.\n",
      "Parent directory already exists: data\n",
      "Client Colliers: URL could not be found\n",
      "Company: edozo; Clients information is updated.\n",
      "Parent directory already exists: data\n",
      "Company: igo; No clients to be updated\n",
      "Parent directory already exists: data\n",
      "Client Green Way Homes: URL could not be found\n",
      "Client Veldhouse Companies: URL could not be found\n",
      "Client Riverside Homes: URL could not be found\n",
      "Client Joseph Design & Build: URL could not be found\n",
      "Company: adaptive; Clients information is updated.\n",
      "Parent directory already exists: data\n",
      "Client HP2 RESIDENTIAL: URL could not be found\n",
      "Client B Wright At Home LLC: URL could not be found\n",
      "Company: hemlane; Clients information is updated.\n",
      "Parent directory already exists: data\n",
      "Client 01 Founders: URL could not be found\n",
      "Client Holywell Collective: URL could not be found\n",
      "Company: reputy; Clients information is updated.\n",
      "Parent directory already exists: data\n",
      "Client Tillo: URL could not be found\n",
      "Company: network_b; Clients information is updated.\n",
      "Parent directory already exists: data\n",
      "Company: idexo; Clients information is updated.\n",
      "Parent directory already exists: data\n",
      "Client Groovy Goose Coffee: URL could not be found\n",
      "Client Boba Bliss: URL could not be found\n",
      "Client Iron Paffles & Coffee: URL could not be found\n",
      "Client Kimchi Box: URL could not be found\n",
      "Client The Busy Bean: URL could not be found\n",
      "Client Crema Coffee & Soda: URL could not be found\n",
      "Client Lucky Coffee: URL could not be found\n",
      "Client Oaks Coffee House: URL could not be found\n",
      "Client Ethereal Cafe: URL could not be found\n",
      "Client Cosmic Coffeehouse: URL could not be found\n",
      "Client Joanie’s: URL could not be found\n",
      "Client Plomo Quesadillas: URL could not be found\n",
      "Client Island Flavor: URL could not be found\n",
      "Client Masala Wok and Tikka Shack: URL could not be found\n",
      "Client Kee Wah Bakery: URL could not be found\n",
      "Company: per_diem; Clients information is updated.\n",
      "Parent directory already exists: data\n",
      "Client Tenoha: URL could not be found\n",
      "Client Bristol VR Lab: URL could not be found\n",
      "Client Ruby Works: URL could not be found\n",
      "Client Hour Space: URL could not be found\n",
      "Client StillPoint Spaces London: URL could not be found\n",
      "Client Basecamp Trenton: URL could not be found\n",
      "Company: habu; Clients information is updated.\n",
      "Parent directory already exists: data\n",
      "Company: metrika; No clients to be updated\n",
      "Parent directory already exists: data\n",
      "Client Ikano Bank: URL could not be found\n",
      "Client Swiftcover (AXA): URL could not be found\n",
      "Client RBS: URL could not be found\n",
      "Client MORE THAN: URL could not be found\n",
      "Company: smart_money_people; Clients information is updated.\n",
      "Parent directory already exists: data\n",
      "Client Equity Mortgage Lending: URL could not be found\n",
      "Company: creditxpert; Clients information is updated.\n",
      "Parent directory already exists: data\n",
      "Company: alte; No clients to be updated\n",
      "Parent directory already exists: data\n",
      "Company: ofcolor; No clients to be updated\n",
      "Parent directory already exists: data\n",
      "Company: locate; Clients information is updated.\n",
      "Parent directory already exists: data\n",
      "Company: touchstone_pathway; Clients information is updated.\n",
      "Parent directory already exists: data\n",
      "Company: calqulate; No clients to be updated\n",
      "Parent directory already exists: data\n",
      "Company: clearly; No clients to be updated\n",
      "Parent directory already exists: data\n",
      "Client Thread: URL could not be found\n",
      "Company: sequence; Clients information is updated.\n",
      "Parent directory already exists: data\n",
      "Client Breitenbach Advisory: URL could not be found\n",
      "Company: luxury_presence; Clients information is updated.\n",
      "Parent directory already exists: data\n",
      "Client Connells: URL could not be found\n",
      "Client Allsop: URL could not be found\n",
      "Company: fifth_dimension_ai; Clients information is updated.\n",
      "Parent directory already exists: data\n",
      "Company: mytheo; Clients information is updated.\n",
      "Parent directory already exists: data\n",
      "Company: niloom_ai; No clients to be updated\n",
      "Parent directory already exists: data\n",
      "Company: bridgeport; No clients to be updated\n",
      "Parent directory already exists: data\n",
      "Company: realfinity; No clients to be updated\n",
      "Parent directory already exists: data\n",
      "Client Los Angeles Football Club (LAFC): URL could not be found\n",
      "Company: venuetize; Clients information is updated.\n",
      "Parent directory already exists: data\n",
      "Client Citizens State Bank: URL could not be found\n",
      "Company: revio_; Clients information is updated.\n",
      "Parent directory already exists: data\n",
      "Company: claim_genius; No clients to be updated\n",
      "Parent directory already exists: data\n",
      "Client Berkshire Hathaway Homeservices, C. Dan Joyner: URL could not be found\n",
      "Company: propertybase; Clients information is updated.\n",
      "Parent directory already exists: data\n",
      "Client UrbanTech NYC: URL could not be found\n",
      "Client MongoDB Startup Accelerator: URL could not be found\n",
      "Client Apache Spark NLP: URL could not be found\n",
      "Company: venturespace; Clients information is updated.\n",
      "Parent directory already exists: data\n",
      "Company: bond_ai; Clients information is updated.\n",
      "Parent directory already exists: data\n",
      "Company: myvr; No clients to be updated\n",
      "Parent directory already exists: data\n",
      "Client Midwest Bank: URL could not be found\n",
      "Client Citizens State Bank: URL could not be found\n",
      "Client Breakout Capital: URL could not be found\n",
      "Company: attune; Clients information is updated.\n",
      "Parent directory already exists: data\n",
      "Company: aqaix; No clients to be updated\n",
      "Parent directory already exists: data\n",
      "Client Phillips: URL could not be found\n",
      "Client IRVING: URL could not be found\n",
      "Client 76: URL could not be found\n",
      "Client TXB: URL could not be found\n",
      "Client Exxon Mobil: URL could not be found\n",
      "Client Visa: URL could not be found\n",
      "Client Mobil Oil: URL could not be found\n",
      "Company: p97; Clients information is updated.\n",
      "Parent directory already exists: data\n",
      "Client GameOn: URL could not be found\n",
      "Company: bennie; Clients information is updated.\n",
      "Parent directory already exists: data\n",
      "Client Webcor Builders: URL could not be found\n",
      "Company: fieldwire; Clients information is updated.\n",
      "Parent directory already exists: data\n",
      "Client Levels Health: URL could not be found\n",
      "Client Joyride: URL could not be found\n",
      "Company: alice_cpa; Clients information is updated.\n",
      "Parent directory already exists: data\n",
      "Client Kemba Realty: URL could not be found\n",
      "Company: opcity; Clients information is updated.\n",
      "Parent directory already exists: data\n",
      "Client Straight To The Cut Painting: URL could not be found\n",
      "Client Timber Creations LLC: URL could not be found\n",
      "Client Medical Weight Loss and Family Clinic: URL could not be found\n",
      "Client SOS Garage Doors: URL could not be found\n",
      "Client Sensible Sprinkler & Irrigation: URL could not be found\n",
      "Company: gosite; Clients information is updated.\n",
      "Parent directory already exists: data\n",
      "Client Ascletis Biopharma: URL could not be found\n",
      "Company: gzi; Clients information is updated.\n",
      "Parent directory already exists: data\n",
      "Company: tipser; No clients to be updated\n",
      "Parent directory already exists: data\n",
      "Client JPC by Samsic: URL could not be found\n",
      "Company: infogrid; Clients information is updated.\n",
      "Parent directory already exists: data\n",
      "Company: terrene_labs; No clients to be updated\n",
      "Parent directory already exists: data\n",
      "Company: fna; Clients information is updated.\n",
      "Parent directory already exists: data\n",
      "Company: egreen; No clients to be updated\n",
      "Parent directory already exists: data\n",
      "Client Bold Partners: URL could not be found\n",
      "Company: skylight; Clients information is updated.\n",
      "Parent directory already exists: data\n",
      "Company: aquicore; Clients information is updated.\n",
      "Parent directory already exists: data\n",
      "Client Lightstep: URL could not be found\n",
      "Company: raise; Clients information is updated.\n",
      "Parent directory already exists: data\n",
      "Client Diamond: URL could not be found\n",
      "Client Toronto App Factory: URL could not be found\n",
      "Client Transcrybr: URL could not be found\n",
      "Company: nami_ml; Clients information is updated.\n",
      "Parent directory already exists: data\n",
      "Company: creaticles; No clients to be updated\n",
      "Parent directory already exists: data\n",
      "Company: covalent; No clients to be updated\n",
      "Parent directory already exists: data\n",
      "Client Rogue Builders: URL could not be found\n",
      "Client Hinton Development: URL could not be found\n",
      "Client Ninth Element Construction: URL could not be found\n",
      "Client Palerider Construction LLC: URL could not be found\n",
      "Company: digs; Clients information is updated.\n",
      "Parent directory already exists: data\n",
      "Client State Street: URL could not be found\n",
      "Client BXP: URL could not be found\n",
      "Client Oxford: URL could not be found\n",
      "Client Beacon: URL could not be found\n",
      "Company: join; Clients information is updated.\n",
      "Parent directory already exists: data\n",
      "Company: pogo; Clients information is updated.\n",
      "Parent directory already exists: data\n",
      "Client Knoble Ingle CPAs, LLP: URL could not be found\n",
      "Client Holcomb & Shreeve PC: URL could not be found\n",
      "Client Bill Soderstedt, CPA, PC: URL could not be found\n",
      "Client Thriveal CPA Network / Blumer & Associates, CPAs, PC: URL could not be found\n",
      "Client Brauer & Co.: URL could not be found\n",
      "Client J H Johnson & Associates, CPA: URL could not be found\n",
      "Company: auditfile; Clients information is updated.\n",
      "Parent directory already exists: data\n",
      "Company: the_eighth_door; No clients to be updated\n",
      "Parent directory already exists: data\n",
      "Client Ollie: URL could not be found\n",
      "Company: squarefoot; Clients information is updated.\n",
      "Parent directory already exists: data\n",
      "Company: retokens_usa; No clients to be updated\n",
      "Parent directory already exists: data\n",
      "Client Humberside Fire & Safety services: URL could not be found\n",
      "Company: intamac; Clients information is updated.\n",
      "Parent directory already exists: data\n",
      "Client ERA: URL could not be found\n",
      "Client EXP: URL could not be found\n",
      "Client Vyral: URL could not be found\n",
      "Client 1000calls: URL could not be found\n",
      "Client Sothebys: URL could not be found\n",
      "Company: likely_ai; Clients information is updated.\n",
      "Parent directory already exists: data\n",
      "Company: trove_id; No clients to be updated\n",
      "Parent directory already exists: data\n",
      "Company: webstreet; Clients information is updated.\n",
      "Parent directory already exists: data\n",
      "Client AXA Investment Managers US, Inc: URL could not be found\n",
      "Client Roulac Global: URL could not be found\n",
      "Client Strategic Property Partners, LLC: URL could not be found\n",
      "Company: megalytics; Clients information is updated.\n",
      "Parent directory already exists: data\n",
      "Company: spybee; No clients to be updated\n",
      "Parent directory already exists: data\n",
      "Company: kanso_software; No clients to be updated\n",
      "Parent directory already exists: data\n",
      "Company: onekin; No clients to be updated\n",
      "Parent directory already exists: data\n",
      "Client SVT: URL could not be found\n",
      "Company: ateliere_creative_technologies; Clients information is updated.\n",
      "Parent directory already exists: data\n",
      "Company: consumeroptix; Clients information is updated.\n",
      "Parent directory already exists: data\n",
      "Client TCBC: URL could not be found\n",
      "Client ATS UK Ltd: URL could not be found\n",
      "Company: pivotal_innovation; Clients information is updated.\n",
      "Parent directory already exists: data\n",
      "Company: inlike; No clients to be updated\n",
      "Parent directory already exists: data\n",
      "Company: plural_ai; No clients to be updated\n",
      "Parent directory already exists: data\n",
      "Company: carstash; No clients to be updated\n",
      "Parent directory already exists: data\n",
      "Company: opengrants; No clients to be updated\n",
      "Parent directory already exists: data\n",
      "Company: eboxchain; No clients to be updated\n",
      "Parent directory already exists: data\n",
      "Client M & G: URL could not be found\n",
      "Client Handelsbanken: URL could not be found\n",
      "Client Fidelity International: URL could not be found\n",
      "Company: oxford_risk; Clients information is updated.\n",
      "Parent directory already exists: data\n",
      "Client Propertymark: URL could not be found\n",
      "Client Peaksons Property Limited: URL could not be found\n",
      "Client Challenger Burgess Estate Agents: URL could not be found\n",
      "Company: homesearch; Clients information is updated.\n",
      "Parent directory already exists: data\n",
      "Company: cassini_systems; Clients information is updated.\n",
      "Parent directory already exists: data\n",
      "Company: moxey; No clients to be updated\n",
      "Parent directory already exists: data\n",
      "Client Google: URL could not be found\n",
      "Company: sizeup; Clients information is updated.\n",
      "Parent directory already exists: data\n",
      "Company: givz; Clients information is updated.\n",
      "Parent directory already exists: data\n",
      "Company: clearmacro; No clients to be updated\n",
      "Parent directory already exists: data\n",
      "Client Lexar Partners: URL could not be found\n",
      "Client Endicott Group: URL could not be found\n",
      "Client Mayfair Equity Partners: URL could not be found\n",
      "Company: maestro; Clients information is updated.\n",
      "Parent directory already exists: data\n",
      "Company: fusionseven; No clients to be updated\n",
      "Parent directory already exists: data\n",
      "Company: authentys; No clients to be updated\n",
      "Parent directory already exists: data\n",
      "Company: jones; Clients information is updated.\n",
      "Parent directory already exists: data\n",
      "Client ACI: URL could not be found\n",
      "Client Capture: URL could not be found\n",
      "Company: propmix; Clients information is updated.\n",
      "Parent directory already exists: data\n",
      "Company: dexfreight; Clients information is updated.\n",
      "Parent directory already exists: data\n",
      "Company: symba; No clients to be updated\n",
      "Parent directory already exists: data\n",
      "Client Apple INC: URL could not be found\n",
      "Company: casalist; Clients information is updated.\n",
      "Parent directory already exists: data\n",
      "Company: realatom; Clients information is updated.\n",
      "Parent directory already exists: data\n",
      "Company: blockmark_technologies; No clients to be updated\n",
      "Parent directory already exists: data\n",
      "Client Vave: URL could not be found\n",
      "Client IAG: URL could not be found\n",
      "Company: arturo; Clients information is updated.\n",
      "Parent directory already exists: data\n",
      "Company: private_market_labs; No clients to be updated\n",
      "Parent directory already exists: data\n",
      "Company: stacker_news; No clients to be updated\n",
      "Parent directory already exists: data\n",
      "Company: waldo; No clients to be updated\n",
      "Parent directory already exists: data\n",
      "Company: coinledger; Clients information is updated.\n",
      "Parent directory already exists: data\n",
      "Client Fletcher Road: URL could not be found\n",
      "Company: canoa; Clients information is updated.\n",
      "Parent directory already exists: data\n",
      "Client Showpo: URL could not be found\n",
      "Client Lounge Underwear: URL could not be found\n",
      "Client Fishing Tackle & Bait: URL could not be found\n",
      "Client Joelle Collection: URL could not be found\n",
      "Client Lovall: URL could not be found\n",
      "Company: peoplevox; Clients information is updated.\n",
      "Parent directory already exists: data\n",
      "Company: extrance; No clients to be updated\n",
      "Parent directory already exists: data\n",
      "Client Deloitte: URL could not be found\n",
      "Company: bitgreen; Clients information is updated.\n",
      "Parent directory already exists: data\n",
      "Company: civilgrid; No clients to be updated\n",
      "Parent directory already exists: data\n",
      "Client Foltz Machine LLC: URL could not be found\n",
      "Client Dark Vision Tech: URL could not be found\n",
      "Client Süß & Friends Engineering: URL could not be found\n",
      "Client Corilam Fabricating Company: URL could not be found\n",
      "Client Synteze: URL could not be found\n",
      "Client Entro: URL could not be found\n",
      "Client Vizient, Inc (a Lincoln Electric company): URL could not be found\n",
      "Client CFC (Corilam Fabricating Company): URL could not be found\n",
      "Company: bommer; Clients information is updated.\n",
      "Parent directory already exists: data\n",
      "Client Karen Kostiw, NYRS®WARBURG REALTY: URL could not be found\n",
      "Company: quigler; Clients information is updated.\n",
      "Parent directory already exists: data\n",
      "Client The Coca-Cola Foundation: URL could not be found\n",
      "Client Zambian Breweries: URL could not be found\n",
      "Client Tidey: URL could not be found\n",
      "Client Cervecería Nacional: URL could not be found\n",
      "Company: banqu; Clients information is updated.\n",
      "Parent directory already exists: data\n",
      "Company: fluid_markets; Clients information is updated.\n",
      "Parent directory already exists: data\n",
      "Company: howsy; No clients to be updated\n",
      "Parent directory already exists: data\n",
      "Company: profitsee; No clients to be updated\n",
      "Parent directory already exists: data\n",
      "Client DUAL Asset Underwriting: URL could not be found\n",
      "Client Enact: URL could not be found\n",
      "Client Blacks: URL could not be found\n",
      "Company: orbital_witness; Clients information is updated.\n",
      "Parent directory already exists: data\n",
      "Client Handmade Seattle: URL could not be found\n",
      "Company: element; Clients information is updated.\n",
      "Parent directory already exists: data\n",
      "Company: standd; No clients to be updated\n",
      "Parent directory already exists: data\n",
      "Client Mercury: URL could not be found\n",
      "Company: swiftlane; Clients information is updated.\n",
      "Parent directory already exists: data\n",
      "Client Dawsons: URL could not be found\n",
      "Client Gold Key Lettings and Management: URL could not be found\n",
      "Client Elevation Lettings: URL could not be found\n",
      "Company: goodlord; Clients information is updated.\n",
      "Parent directory already exists: data\n",
      "Company: additive; No clients to be updated\n",
      "Parent directory already exists: data\n",
      "Company: artdai; No clients to be updated\n",
      "Parent directory already exists: data\n",
      "Company: proxymity; Clients information is updated.\n",
      "Parent directory already exists: data\n",
      "Company: pippin_title; Clients information is updated.\n",
      "Parent directory already exists: data\n",
      "Client R&W Motor Company: URL could not be found\n",
      "Client BDK: URL could not be found\n",
      "Client GT Heritage: URL could not be found\n",
      "Client Draytons: URL could not be found\n",
      "Client VANSCO: URL could not be found\n",
      "Client J&J Motors: URL could not be found\n",
      "Client Avenue Car Sales: URL could not be found\n",
      "Client Top Car Inverness: URL could not be found\n",
      "Client Reeds Autos: URL could not be found\n",
      "Client motors: URL could not be found\n",
      "Client Juhu Auto: URL could not be found\n",
      "Client MCN - Motor Cycle News: URL could not be found\n",
      "Company: ivendi; Clients information is updated.\n",
      "Parent directory already exists: data\n",
      "Company: exponential_markets; Clients information is updated.\n",
      "Parent directory already exists: data\n",
      "Client VillaStay Vacation Rentals: URL could not be found\n",
      "Client Book Stay Hop: URL could not be found\n",
      "Client AZ Elite Properties: URL could not be found\n",
      "Company: travelnet_solutions; Clients information is updated.\n",
      "Parent directory already exists: data\n",
      "Company: realyse; No clients to be updated\n",
      "Parent directory already exists: data\n",
      "Client Applied Aviation: URL could not be found\n",
      "Company: concirrus; Clients information is updated.\n",
      "Parent directory already exists: data\n",
      "Company: cryptolab; No clients to be updated\n",
      "Parent directory already exists: data\n",
      "Client Gamisodes: URL could not be found\n",
      "Client Rogue Studio: URL could not be found\n",
      "Company: niftory; Clients information is updated.\n",
      "Parent directory already exists: data\n",
      "Client Fuel Venture: URL could not be found\n",
      "Client Innovate UK: URL could not be found\n",
      "Company: scribe; Clients information is updated.\n",
      "Parent directory already exists: data\n",
      "Company: verdata; No clients to be updated\n",
      "Parent directory already exists: data\n",
      "Client CVS/Aetna: URL could not be found\n",
      "Client Texas Health Plan: URL could not be found\n",
      "Company: softheon; Clients information is updated.\n",
      "Parent directory already exists: data\n",
      "Company: driway_technologies; No clients to be updated\n",
      "Parent directory already exists: data\n",
      "Client The Briley Real Estate Team: URL could not be found\n",
      "Company: real_synch; Clients information is updated.\n",
      "Parent directory already exists: data\n",
      "Company: access_investors_network; Clients information is updated.\n",
      "Parent directory already exists: data\n",
      "Company: findigs; No clients to be updated\n",
      "Parent directory already exists: data\n",
      "Client TruStage Preplanning Solutions: URL could not be found\n",
      "Client My Legacy Items, LLC: URL could not be found\n",
      "Company: onedigitaltrust; Clients information is updated.\n",
      "Parent directory already exists: data\n",
      "Company: altx; No clients to be updated\n",
      "Parent directory already exists: data\n",
      "Client Vyrtual: URL could not be found\n",
      "Company: vyrtual; Clients information is updated.\n",
      "Parent directory already exists: data\n",
      "Client Bitstamp Ltd.: URL could not be found\n",
      "Company: intotheblock; Clients information is updated.\n",
      "Parent directory already exists: data\n",
      "Company: neighborli; No clients to be updated\n",
      "Parent directory already exists: data\n",
      "Company: unearth; No clients to be updated\n",
      "Parent directory already exists: data\n",
      "Client Tayglo Flow: URL could not be found\n",
      "Client AaDya Security: URL could not be found\n",
      "Client Urban Doll Beauty Salon: URL could not be found\n",
      "Client TickleMe Mobile Lash: URL could not be found\n",
      "Client Marley Glam Lash Studio: URL could not be found\n",
      "Client Beaute Anthologie: URL could not be found\n",
      "Client Balance Composure Massage and Spa: URL could not be found\n",
      "Client Lunaxy Beauty: URL could not be found\n",
      "Client Nails By Sheryll: URL could not be found\n",
      "Client RED for Agents Real Estate: URL could not be found\n",
      "Client Leegerem Advanced Aesthetic Techniques: URL could not be found\n",
      "Client BCM Spa: URL could not be found\n",
      "Client Mindset Fitness and Yoga: URL could not be found\n",
      "Client Real Estate Driven: URL could not be found\n",
      "Client Training Day: URL could not be found\n",
      "Client Dre and Jac: URL could not be found\n",
      "Client Amanda K. Fitness: URL could not be found\n",
      "Client SMSB Fitness: URL could not be found\n",
      "Company: yottled; Clients information is updated.\n",
      "Parent directory already exists: data\n",
      "Client Merge: URL could not be found\n",
      "Company: myruck; Clients information is updated.\n",
      "Parent directory already exists: data\n",
      "Company: corduro; No clients to be updated\n",
      "Parent directory already exists: data\n",
      "Client Mitel: URL could not be found\n",
      "Company: stepfunction; Clients information is updated.\n",
      "Parent directory already exists: data\n",
      "Company: behavehealth; No clients to be updated\n",
      "Parent directory already exists: data\n",
      "Company: tolemi; Clients information is updated.\n",
      "Parent directory already exists: data\n",
      "Client Yuengling America's Oldest Brewery: URL could not be found\n",
      "Company: entre_one; Clients information is updated.\n",
      "Parent directory already exists: data\n",
      "Client Chicago’s Willis Tower: URL could not be found\n",
      "Client US Bank Center: URL could not be found\n",
      "Client Mosaic District by EDENS: URL could not be found\n",
      "Company: cove; Clients information is updated.\n",
      "Parent directory already exists: data\n",
      "Client PMI Commonwealth: URL could not be found\n",
      "Company: proper_ai; Clients information is updated.\n",
      "Parent directory already exists: data\n",
      "Client AMS Temporaries: URL could not be found\n",
      "Client QuickBooks: URL could not be found\n",
      "Client Sage: URL could not be found\n",
      "Client Business Central: URL could not be found\n",
      "Company: dapt; Clients information is updated.\n",
      "Parent directory already exists: data\n",
      "Client TC Pandhora: URL could not be found\n",
      "Client Coinext Asset: URL could not be found\n",
      "Client K2 Trading: URL could not be found\n",
      "Client 21Shares: URL could not be found\n",
      "Client STS digital: URL could not be found\n",
      "Company: quadra_trade; Clients information is updated.\n",
      "Parent directory already exists: data\n",
      "Company: merlon_ai; No clients to be updated\n",
      "Parent directory already exists: data\n",
      "Company: replica; Clients information is updated.\n",
      "Parent directory already exists: data\n",
      "Company: ownit; Clients information is updated.\n",
      "Parent directory already exists: data\n",
      "Company: holly; Clients information is updated.\n",
      "Parent directory already exists: data\n",
      "Client Palm: URL could not be found\n",
      "Company: bandwagon; Clients information is updated.\n",
      "Parent directory already exists: data\n",
      "Client move: URL could not be found\n",
      "Client brainforge: URL could not be found\n",
      "Company: flowfi; Clients information is updated.\n",
      "Parent directory already exists: data\n",
      "Client MotorK: URL could not be found\n",
      "Client Coronado: URL could not be found\n",
      "Client Revel: URL could not be found\n",
      "Client Le Collectionist: URL could not be found\n",
      "Client Euronext: URL could not be found\n",
      "Client Choco: URL could not be found\n",
      "Client Lighthouse: URL could not be found\n",
      "Client A.Team: URL could not be found\n",
      "Company: vertice; Clients information is updated.\n",
      "Parent directory already exists: data\n",
      "Client Keller Williams Premiere Properties: URL could not be found\n",
      "Company: rental_beast; Clients information is updated.\n",
      "Parent directory already exists: data\n",
      "Client The Davis Agency: URL could not be found\n",
      "Company: realsavvy; Clients information is updated.\n",
      "Parent directory already exists: data\n",
      "Company: capitalize; Clients information is updated.\n",
      "Parent directory already exists: data\n",
      "Company: baton; No clients to be updated\n",
      "Parent directory already exists: data\n",
      "Client Flacony: URL could not be found\n",
      "Client Starboard: URL could not be found\n",
      "Client Tegut: URL could not be found\n",
      "Client Elkjøp: URL could not be found\n",
      "Company: competera; Clients information is updated.\n",
      "Parent directory already exists: data\n",
      "Client Promako: URL could not be found\n",
      "Client Camrose London: URL could not be found\n",
      "Client Regiis Construction: URL could not be found\n",
      "Client Palmerium: URL could not be found\n",
      "Client Melatar Abodes: URL could not be found\n",
      "Client Build 4 U Ltd: URL could not be found\n",
      "Company: enfund; Clients information is updated.\n",
      "Parent directory already exists: data\n",
      "Company: predictre; No clients to be updated\n",
      "Parent directory already exists: data\n",
      "Client Fortune 500 Fintech Company: URL could not be found\n",
      "Client ERP Platform Company: URL could not be found\n",
      "Client Tech Company: URL could not be found\n",
      "Client Financial Services Company: URL could not be found\n",
      "Client International Banking Company: URL could not be found\n",
      "Client IT Company: URL could not be found\n",
      "Company: saltmine; Clients information is updated.\n",
      "Parent directory already exists: data\n",
      "Client Waypoint Student Living: URL could not be found\n",
      "Client Corvue Holdings: URL could not be found\n",
      "Company: rentgrata; Clients information is updated.\n",
      "Parent directory already exists: data\n",
      "Client Canary Wharf Group: URL could not be found\n",
      "Client JRM: URL could not be found\n",
      "Company: disperse; Clients information is updated.\n",
      "Parent directory already exists: data\n",
      "Client JBM: URL could not be found\n",
      "Client 10x: URL could not be found\n",
      "Company: ben; Clients information is updated.\n",
      "Parent directory already exists: data\n",
      "Client 1-bank-puerto-rico: URL could not be found\n",
      "Client BHG: URL could not be found\n",
      "Client Celo: URL could not be found\n",
      "Client ThomsonReutersClear: URL could not be found\n",
      "Client ReistantAI: URL could not be found\n",
      "Client hatch-bank: URL could not be found\n",
      "Client step: URL could not be found\n",
      "Company: hummingbird; Clients information is updated.\n",
      "Parent directory already exists: data\n",
      "Client ZK Builders: URL could not be found\n",
      "Client George H. Pastor and Sons General Contracting: URL could not be found\n",
      "Company: down_to_bid; Clients information is updated.\n",
      "Parent directory already exists: data\n",
      "Company: flextal; No clients to be updated\n",
      "Parent directory already exists: data\n",
      "Company: wetx; Clients information is updated.\n",
      "Parent directory already exists: data\n",
      "Company: new_avenue; Clients information is updated.\n",
      "Parent directory already exists: data\n",
      "Company: sweeten; No clients to be updated\n",
      "Parent directory already exists: data\n",
      "Client Known: URL could not be found\n",
      "Company: beacon; Clients information is updated.\n",
      "Parent directory already exists: data\n",
      "Company: pillar; No clients to be updated\n",
      "Parent directory already exists: data\n",
      "Client Austec: URL could not be found\n",
      "Client Chemika: URL could not be found\n",
      "Client AMP Capital: URL could not be found\n",
      "Client Engie: URL could not be found\n",
      "Company: switch_automation; Clients information is updated.\n",
      "Parent directory already exists: data\n",
      "Company: joot_technology; No clients to be updated\n",
      "Parent directory already exists: data\n",
      "Company: tradealgo; No clients to be updated\n",
      "Parent directory already exists: data\n",
      "Company: digitile; No clients to be updated\n",
      "Parent directory already exists: data\n",
      "Client Colgate: URL could not be found\n",
      "Company: candex; Clients information is updated.\n",
      "Parent directory already exists: data\n",
      "Company: pontoon; No clients to be updated\n",
      "Parent directory already exists: data\n",
      "Company: cherre; No clients to be updated\n",
      "Parent directory already exists: data\n",
      "Client Legacy Insurance Partners: URL could not be found\n",
      "Client The Paladin Group: URL could not be found\n",
      "Client Fisher-Greene Insurance Agency: URL could not be found\n",
      "Client Keystone Group: URL could not be found\n",
      "Company: veruna; Clients information is updated.\n",
      "Parent directory already exists: data\n",
      "Client JC Research Partners, LLC.: URL could not be found\n",
      "Client Covr: URL could not be found\n",
      "Client Grail Insights: URL could not be found\n",
      "Company: tango_card; Clients information is updated.\n",
      "Parent directory already exists: data\n",
      "Company: people_connect; No clients to be updated\n",
      "Parent directory already exists: data\n",
      "Company: metaintro; No clients to be updated\n",
      "Parent directory already exists: data\n",
      "Company: ned; No clients to be updated\n",
      "Parent directory already exists: data\n",
      "Company: resilient_entanglement; No clients to be updated\n",
      "Parent directory already exists: data\n",
      "Company: flowcast; No clients to be updated\n",
      "Parent directory already exists: data\n",
      "Client Solid Ratio: URL could not be found\n",
      "Client Sullivan's Distribution Inc.: URL could not be found\n",
      "Client The Sneaky Chef: URL could not be found\n",
      "Company: kickfurther; Clients information is updated.\n",
      "Parent directory already exists: data\n",
      "Company: elayne; No clients to be updated\n",
      "Parent directory already exists: data\n",
      "Company: cedalio; No clients to be updated\n",
      "Parent directory already exists: data\n",
      "Company: avyst; Clients information is updated.\n",
      "Parent directory already exists: data\n",
      "Company: modernfi; Clients information is updated.\n",
      "Parent directory already exists: data\n",
      "Company: light_rfp; No clients to be updated\n",
      "Parent directory already exists: data\n",
      "Company: truelytics; Clients information is updated.\n",
      "Parent directory already exists: data\n",
      "Company: fidelis_capital; No clients to be updated\n",
      "Parent directory already exists: data\n",
      "Company: safio_solutions; No clients to be updated\n",
      "Parent directory already exists: data\n",
      "Client Sage: URL could not be found\n",
      "Company: countingup; Clients information is updated.\n",
      "Parent directory already exists: data\n",
      "Client FTSE 250 company: URL could not be found\n",
      "Company: credit_benchmark; Clients information is updated.\n",
      "Parent directory already exists: data\n",
      "Client Bob Parks Realty, LLC: URL could not be found\n",
      "Client Coco, Early & Associates: URL could not be found\n",
      "Client All California Brokerage, Inc: URL could not be found\n",
      "Company: terabitz; Clients information is updated.\n",
      "Parent directory already exists: data\n",
      "Client Hyatt Place London City East: URL could not be found\n",
      "Client Drivespeed Group: URL could not be found\n",
      "Client Energy & Environment Alliance: URL could not be found\n",
      "Company: omnevue; Clients information is updated.\n",
      "Parent directory already exists: data\n",
      "Client Loop: URL could not be found\n",
      "Client Carfangnas: URL could not be found\n",
      "Company: hubifi; Clients information is updated.\n",
      "Parent directory already exists: data\n",
      "Company: dime_autotest; No clients to be updated\n",
      "Parent directory already exists: data\n",
      "Client D1 Capital Partners: URL could not be found\n",
      "Client S3 Partners: URL could not be found\n",
      "Client LSEG Data Analytics: URL could not be found\n",
      "Client Refinitiv: URL could not be found\n",
      "Company: arcana; Clients information is updated.\n",
      "Parent directory already exists: data\n",
      "Company: flueid; No clients to be updated\n",
      "Parent directory already exists: data\n",
      "Company: alfred; Clients information is updated.\n",
      "Parent directory already exists: data\n",
      "Company: carby; No clients to be updated\n",
      "Parent directory already exists: data\n",
      "Company: hio; No clients to be updated\n",
      "Parent directory already exists: data\n",
      "Client Cogent Waste: URL could not be found\n",
      "Client TKG: URL could not be found\n",
      "Client Bull Waste: URL could not be found\n",
      "Company: curbwaste; Clients information is updated.\n",
      "Parent directory already exists: data\n",
      "Client Retail Prodigy Group (Nike): URL could not be found\n",
      "Client Kathmandu: URL could not be found\n",
      "Client TOMS: URL could not be found\n",
      "Company: trurating; Clients information is updated.\n",
      "Parent directory already exists: data\n",
      "Company: qredible; No clients to be updated\n",
      "Parent directory already exists: data\n",
      "Client ASD (Automated Systems Design): URL could not be found\n",
      "Client Quantum Installations Group: URL could not be found\n",
      "Client IT Staffing Firm: URL could not be found\n",
      "Client American Sign Language Translation Company: URL could not be found\n",
      "Company: workmarket; Clients information is updated.\n",
      "Parent directory already exists: data\n",
      "Company: legitimate; No clients to be updated\n",
      "Parent directory already exists: data\n",
      "Company: aumni; Clients information is updated.\n",
      "Parent directory already exists: data\n",
      "Company: vichara_technologies; No clients to be updated\n",
      "Parent directory already exists: data\n",
      "Client Clay: URL could not be found\n",
      "Client Adgrand: URL could not be found\n",
      "Company: verisoul; Clients information is updated.\n",
      "Parent directory already exists: data\n",
      "Company: simplified_lending_solutions; No clients to be updated\n",
      "Parent directory already exists: data\n",
      "Client One Archer Lane: URL could not be found\n",
      "Client Pacifica Honolulu: URL could not be found\n",
      "Company: axesspoint; Clients information is updated.\n",
      "Parent directory already exists: data\n",
      "Client Vattenfall: URL could not be found\n",
      "Client Statera: URL could not be found\n",
      "Company: built_id; Clients information is updated.\n",
      "Parent directory already exists: data\n",
      "Company: iknowa; No clients to be updated\n",
      "Parent directory already exists: data\n",
      "Client Swoop: URL could not be found\n",
      "Client Realworld: URL could not be found\n",
      "Client Panther: URL could not be found\n",
      "Client Flare: URL could not be found\n",
      "Company: finmark; Clients information is updated.\n",
      "Parent directory already exists: data\n",
      "Company: imperium_compliance; No clients to be updated\n",
      "Parent directory already exists: data\n",
      "Company: givepenny; Clients information is updated.\n",
      "Parent directory already exists: data\n",
      "Company: crossflow; Clients information is updated.\n",
      "Parent directory already exists: data\n",
      "Company: rogo; Clients information is updated.\n",
      "Parent directory already exists: data\n",
      "Client Western Wealth Communities and Western Wealth Capital: URL could not be found\n",
      "Company: lcp_media; Clients information is updated.\n",
      "Parent directory already exists: data\n",
      "Client McKinley Capital Research: URL could not be found\n",
      "Client Deutsche Bank Markets Research: URL could not be found\n",
      "Company: estimize; Clients information is updated.\n",
      "Parent directory already exists: data\n",
      "Company: brandwood_global; No clients to be updated\n",
      "Parent directory already exists: data\n",
      "Client Katona: URL could not be found\n",
      "Client Orchid: URL could not be found\n",
      "Client Power: URL could not be found\n",
      "Client Anti Capital: URL could not be found\n",
      "Client Matrix Exchange: URL could not be found\n",
      "Client Anglo Andino Group: URL could not be found\n",
      "Company: softledger; Clients information is updated.\n",
      "Parent directory already exists: data\n",
      "Company: validifi; No clients to be updated\n",
      "Parent directory already exists: data\n",
      "Company: giving_docs; Clients information is updated.\n",
      "Parent directory already exists: data\n",
      "Client Puffy: URL could not be found\n",
      "Client zkSync (Matter Labs): URL could not be found\n",
      "Client DIMO: URL could not be found\n",
      "Company: gleen; Clients information is updated.\n",
      "Parent directory already exists: data\n",
      "Client Beneva: URL could not be found\n",
      "Company: limelight_health; Clients information is updated.\n",
      "Parent directory already exists: data\n",
      "Client Open Property Data Association: URL could not be found\n",
      "Client Hunters Solihull: URL could not be found\n",
      "Client MRI Real Estate Software: URL could not be found\n",
      "Client Osprey Approach: URL could not be found\n",
      "Client DezRez Group: URL could not be found\n",
      "Client Paul Stripp Estate Agents: URL could not be found\n",
      "Client Kensington Mortgages and TWM Solicitors: URL could not be found\n",
      "Company: coadjute; Clients information is updated.\n",
      "Parent directory already exists: data\n",
      "Company: smartpay_solutions; No clients to be updated\n",
      "Parent directory already exists: data\n",
      "Company: tazi; No clients to be updated\n",
      "Parent directory already exists: data\n",
      "Client DCG: URL could not be found\n",
      "Client Liberty City Ventures: URL could not be found\n",
      "Client Sound: URL could not be found\n",
      "Company: horizen_labs; Clients information is updated.\n",
      "Parent directory already exists: data\n",
      "Company: clara_finds; Clients information is updated.\n",
      "Parent directory already exists: data\n",
      "Company: lionshare_media; No clients to be updated\n",
      "Parent directory already exists: data\n",
      "Client Fiber: URL could not be found\n",
      "Client Foundation: URL could not be found\n",
      "Client Dili: URL could not be found\n",
      "Client Stellar Sleep: URL could not be found\n",
      "Client RecipeUI: URL could not be found\n",
      "Company: every; Clients information is updated.\n",
      "Parent directory already exists: data\n",
      "Client American Modern: URL could not be found\n",
      "Client CNA: URL could not be found\n",
      "Client Cowbell: URL could not be found\n",
      "Client Delos: URL could not be found\n",
      "Client Elephant: URL could not be found\n",
      "Client Great American: URL could not be found\n",
      "Client Home of America: URL could not be found\n",
      "Client Ladder: URL could not be found\n",
      "Client Lamar: URL could not be found\n",
      "Client Lio: URL could not be found\n",
      "Client Neptune: URL could not be found\n",
      "Client Next: URL could not be found\n",
      "Client Obie: URL could not be found\n",
      "Client Stillwarer: URL could not be found\n",
      "Client Stonegate: URL could not be found\n",
      "Client Unique: URL could not be found\n",
      "Client Wellington: URL could not be found\n",
      "Company: agentero; Clients information is updated.\n",
      "Parent directory already exists: data\n",
      "Company: authorloyalty; No clients to be updated\n",
      "Parent directory already exists: data\n",
      "Company: procredex; Clients information is updated.\n",
      "Parent directory already exists: data\n",
      "Company: calcbench; No clients to be updated\n",
      "Parent directory already exists: data\n",
      "Company: krowd; Clients information is updated.\n",
      "Parent directory already exists: data\n",
      "Company: sky_republic; Clients information is updated.\n",
      "Parent directory already exists: data\n",
      "Company: combat_iq; No clients to be updated\n",
      "Parent directory already exists: data\n",
      "Client William Hill: URL could not be found\n",
      "Client Wagr: URL could not be found\n",
      "Client Sports Venture Holdings, Inc. BET99: URL could not be found\n",
      "Client Bounty Sports: URL could not be found\n",
      "Client Caesars S. Indiana: URL could not be found\n",
      "Company: kinectify; Clients information is updated.\n",
      "Parent directory already exists: data\n",
      "Client Lumida Wealth: URL could not be found\n",
      "Company: l1_advisors; Clients information is updated.\n",
      "Parent directory already exists: data\n",
      "Client NTT DATA Services: URL could not be found\n",
      "Client Sapiens: URL could not be found\n",
      "Company: atidot; Clients information is updated.\n",
      "Parent directory already exists: data\n",
      "Company: sage_intel; No clients to be updated\n",
      "Parent directory already exists: data\n",
      "Company: networth_services; No clients to be updated\n",
      "Parent directory already exists: data\n",
      "Client LORI A. FITZGERALD DDS, LLC: URL could not be found\n",
      "Company: locate_strategy; Clients information is updated.\n",
      "Parent directory already exists: data\n",
      "Client Kepler Liquid Strategies: URL could not be found\n",
      "Client Tellworth Investments: URL could not be found\n",
      "Client Rhodon Investment Management: URL could not be found\n",
      "Company: landytech; Clients information is updated.\n",
      "Parent directory already exists: data\n",
      "Company: amplifund; Clients information is updated.\n",
      "Parent directory already exists: data\n",
      "Client Hótel Ísland: URL could not be found\n",
      "Client Hotel Siglunes: URL could not be found\n",
      "Client Hotel Akureyri: URL could not be found\n",
      "Company: the_booking_factory; Clients information is updated.\n",
      "Parent directory already exists: data\n",
      "Company: permission; No clients to be updated\n",
      "Parent directory already exists: data\n",
      "Client Route 6 Logistics Inc.: URL could not be found\n",
      "Client JNS Haulers Corp.: URL could not be found\n",
      "Company: roadflex; Clients information is updated.\n",
      "Parent directory already exists: data\n",
      "Company: missionmark; Clients information is updated.\n",
      "Parent directory already exists: data\n",
      "Client Agent First Group: URL could not be found\n",
      "Company: agently; Clients information is updated.\n",
      "Parent directory already exists: data\n",
      "Client Peoples Bank: URL could not be found\n",
      "Company: denim_labs; Clients information is updated.\n",
      "Parent directory already exists: data\n",
      "Company: grafterr; No clients to be updated\n",
      "Parent directory already exists: data\n",
      "Company: aveni; Clients information is updated.\n",
      "Parent directory already exists: data\n",
      "Company: draivn; No clients to be updated\n",
      "Parent directory already exists: data\n",
      "Client TONE Technologies: URL could not be found\n",
      "Client FM Omni Channel: URL could not be found\n",
      "Company: creative_social; Clients information is updated.\n",
      "Parent directory already exists: data\n",
      "Company: finclusive; No clients to be updated\n",
      "Parent directory already exists: data\n",
      "Client The RMR Group: URL could not be found\n",
      "Client NorthBridge: URL could not be found\n",
      "Company: predictap; Clients information is updated.\n",
      "Parent directory already exists: data\n",
      "Company: foundernest; Clients information is updated.\n",
      "Parent directory already exists: data\n",
      "Company: seeio; No clients to be updated\n",
      "Parent directory already exists: data\n",
      "Company: shubox; No clients to be updated\n",
      "Parent directory already exists: data\n",
      "Client Lighthouse: URL could not be found\n",
      "Client YuLife: URL could not be found\n",
      "Company: impala; Clients information is updated.\n",
      "Parent directory already exists: data\n",
      "Client Wells & Wells Construction Co.: URL could not be found\n",
      "Client Catamount: URL could not be found\n",
      "Client Andres: URL could not be found\n",
      "Company: outbuild; Clients information is updated.\n",
      "Parent directory already exists: data\n",
      "Client RLS Wealth Management: URL could not be found\n",
      "Client Lake Avenue Financial: URL could not be found\n",
      "Client Flexcode Software: URL could not be found\n",
      "Client Wealth Consulting: URL could not be found\n",
      "Company: bento_engine; Clients information is updated.\n",
      "Parent directory already exists: data\n",
      "Client Thrive Real Estate: URL could not be found\n",
      "Company: imoto_photo; Clients information is updated.\n",
      "Parent directory already exists: data\n",
      "Company: resourcex; Clients information is updated.\n",
      "Parent directory already exists: data\n",
      "Company: fanpage; No clients to be updated\n",
      "Parent directory already exists: data\n",
      "Company: stavvy; No clients to be updated\n",
      "Parent directory already exists: data\n",
      "Company: axial; Clients information is updated.\n",
      "Parent directory already exists: data\n",
      "Company: ivix; Clients information is updated.\n",
      "Parent directory already exists: data\n",
      "Client MMG: URL could not be found\n",
      "Client Apto: URL could not be found\n",
      "Client Connect Media: URL could not be found\n",
      "Client Point2: URL could not be found\n",
      "Client 42 Floors: URL could not be found\n",
      "Company: sharplaunch; Clients information is updated.\n",
      "Parent directory already exists: data\n",
      "Client Hatch Bank: URL could not be found\n",
      "Client NBKC Bank: URL could not be found\n",
      "Client Continental Bank: URL could not be found\n",
      "Client Evergreen: URL could not be found\n",
      "Company: themis_; Clients information is updated.\n",
      "Parent directory already exists: data\n",
      "Client Europcar: URL could not be found\n",
      "Client Enterprise: URL could not be found\n",
      "Client Hertz: URL could not be found\n",
      "Client Avis: URL could not be found\n",
      "Client Bidvest Car Rental: URL could not be found\n",
      "Client Alamo: URL could not be found\n",
      "Client Dollar: URL could not be found\n",
      "Client Global Rent a Car: URL could not be found\n",
      "Client National: URL could not be found\n",
      "Client Centauro: URL could not be found\n",
      "Client Guerin: URL could not be found\n",
      "Client autoUnion: URL could not be found\n",
      "Client Record Go: URL could not be found\n",
      "Client Autovia: URL could not be found\n",
      "Client Keddy: URL could not be found\n",
      "Client Goldcar: URL could not be found\n",
      "Client Firefly: URL could not be found\n",
      "Client Sicily By Car: URL could not be found\n",
      "Client Wiber: URL could not be found\n",
      "Client Ecovia: URL could not be found\n",
      "Company: stressfreecarrental; Clients information is updated.\n",
      "Parent directory already exists: data\n",
      "Client Security Pacific Real Estate: URL could not be found\n",
      "Client Warren Group Partners: URL could not be found\n",
      "Client NextHome LandCastle Luxury Real Estate: URL could not be found\n",
      "Client Milz Development: URL could not be found\n",
      "Client eXp Realty of California Inc: URL could not be found\n",
      "Client REeBroker Services: URL could not be found\n",
      "Company: tophap; Clients information is updated.\n",
      "Parent directory already exists: data\n",
      "Company: snickerdoodle; No clients to be updated\n",
      "Parent directory already exists: data\n",
      "Company: contilio; No clients to be updated\n",
      "Parent directory already exists: data\n",
      "Client State Street: URL could not be found\n",
      "Company: mercatus; Clients information is updated.\n",
      "Parent directory already exists: data\n",
      "Company: cape_analytics; Clients information is updated.\n",
      "Parent directory already exists: data\n",
      "Company: instnt; Clients information is updated.\n",
      "Parent directory already exists: data\n",
      "Client Colgate: URL could not be found\n",
      "Client Office Max: URL could not be found\n",
      "Client Petco: URL could not be found\n",
      "Client Heineken: URL could not be found\n",
      "Client Avalara: URL could not be found\n",
      "Company: anybill; Clients information is updated.\n",
      "Parent directory already exists: data\n",
      "Company: linkdrop; Clients information is updated.\n",
      "Parent directory already exists: data\n",
      "Client Deloitte: URL could not be found\n",
      "Client Achieve (previously Freedom Financial): URL could not be found\n",
      "Company: braintrust; Clients information is updated.\n",
      "Parent directory already exists: data\n",
      "Company: hatch; Clients information is updated.\n",
      "Parent directory already exists: data\n",
      "Company: trellis; Clients information is updated.\n",
      "Parent directory already exists: data\n",
      "Company: creditnature; No clients to be updated\n",
      "Parent directory already exists: data\n",
      "Client nbkc bank: URL could not be found\n",
      "Client Penny: URL could not be found\n",
      "Client Atlas: URL could not be found\n",
      "Company: effectiv; Clients information is updated.\n",
      "Parent directory already exists: data\n",
      "Company: taxfyle; Clients information is updated.\n",
      "Parent directory already exists: data\n",
      "Client mmob Malaysia strategic data technology partner: URL could not be found\n",
      "Company: mmob; Clients information is updated.\n",
      "Parent directory already exists: data\n",
      "Company: crowdsmart; No clients to be updated\n",
      "Parent directory already exists: data\n",
      "Company: alltherooms; No clients to be updated\n",
      "Parent directory already exists: data\n",
      "Company: neener_analytics; No clients to be updated\n",
      "Parent directory already exists: data\n",
      "Client Fortress Land & Property: URL could not be found\n",
      "Client Pump House Designs: URL could not be found\n",
      "Client Slamdunk Group Limited: URL could not be found\n",
      "Client GTH: URL could not be found\n",
      "Client Green Code Holdings: URL could not be found\n",
      "Client Greenfield: URL could not be found\n",
      "Client A L M Holdings: URL could not be found\n",
      "Client V10Homes: URL could not be found\n",
      "Client Oxford Land Consultants: URL could not be found\n",
      "Company: searchland; Clients information is updated.\n",
      "Parent directory already exists: data\n",
      "Company: layla_electric; No clients to be updated\n",
      "Parent directory already exists: data\n",
      "Client Enact: URL could not be found\n",
      "Client ComplianceEase: URL could not be found\n",
      "Client First American Data & Analytics: URL could not be found\n",
      "Company: vesta; Clients information is updated.\n",
      "Parent directory already exists: data\n",
      "Client Building Evolution Corporation: URL could not be found\n",
      "Company: embue; Clients information is updated.\n",
      "Parent directory already exists: data\n",
      "Company: ceretax; No clients to be updated\n",
      "Parent directory already exists: data\n",
      "Company: treasure; No clients to be updated\n",
      "Parent directory already exists: data\n",
      "Client Grant's Podcast: URL could not be found\n",
      "Company: forensic_alpha; Clients information is updated.\n",
      "Parent directory already exists: data\n",
      "Company: quantifind; Clients information is updated.\n",
      "Parent directory already exists: data\n",
      "Company: payboard; No clients to be updated\n",
      "Parent directory already exists: data\n",
      "Client Sequin Art: URL could not be found\n",
      "Client IJL Brown: URL could not be found\n",
      "Client Integral: URL could not be found\n",
      "Client Alexander Llewelyn: URL could not be found\n",
      "Client Salon Europe: URL could not be found\n",
      "Client Love Bites: URL could not be found\n",
      "Company: kounteq; Clients information is updated.\n",
      "Parent directory already exists: data\n",
      "Company: clerky; Clients information is updated.\n",
      "Parent directory already exists: data\n",
      "Company: one_concern; No clients to be updated\n",
      "Parent directory already exists: data\n",
      "Company: traderocket; No clients to be updated\n",
      "Parent directory already exists: data\n",
      "Client Google: URL could not be found\n",
      "Client Bank of America: URL could not be found\n",
      "Client TRoweprice: URL could not be found\n",
      "Client Brevet: URL could not be found\n",
      "Client Throgmorton: URL could not be found\n",
      "Company: deepview; Clients information is updated.\n",
      "Parent directory already exists: data\n",
      "Client Allies & Morrison: URL could not be found\n",
      "Company: urban_intelligence; Clients information is updated.\n",
      "Parent directory already exists: data\n",
      "Company: worksmith; Clients information is updated.\n",
      "Parent directory already exists: data\n",
      "Company: exchangelodge; Clients information is updated.\n",
      "Parent directory already exists: data\n",
      "Client SPROUT LA: URL could not be found\n",
      "Client Scan: URL could not be found\n",
      "Company: spackle; Clients information is updated.\n",
      "Parent directory already exists: data\n",
      "Client Site Super: URL could not be found\n",
      "Client Art Lock: URL could not be found\n",
      "Client Sources to Courses: URL could not be found\n",
      "Client BAE Technologies: URL could not be found\n",
      "Client VQ You: URL could not be found\n",
      "Company: black_ink_tech; Clients information is updated.\n",
      "Parent directory already exists: data\n",
      "Client Vituity Healthcare: URL could not be found\n",
      "Client Riskcop Advisory LLC: URL could not be found\n",
      "Company: youattest; Clients information is updated.\n",
      "Parent directory already exists: data\n",
      "Company: ilumen; Clients information is updated.\n",
      "Parent directory already exists: data\n",
      "Client West Bend Mutual Insurance: URL could not be found\n",
      "Company: cognisure; Clients information is updated.\n",
      "Parent directory already exists: data\n",
      "Company: spatial_labs; No clients to be updated\n",
      "Parent directory already exists: data\n",
      "Company: gft; No clients to be updated\n",
      "Parent directory already exists: data\n",
      "Client Persimmon: URL could not be found\n",
      "Client Maven Plan: URL could not be found\n",
      "Company: landtech; Clients information is updated.\n",
      "Parent directory already exists: data\n",
      "Company: entera; Clients information is updated.\n",
      "Parent directory already exists: data\n",
      "Client AcceliCITY’s Leading Cities: URL could not be found\n",
      "Company: infiltron_software_suite; Clients information is updated.\n",
      "Parent directory already exists: data\n",
      "Company: auquan; Clients information is updated.\n",
      "Parent directory already exists: data\n",
      "Company: tradeteq; No clients to be updated\n",
      "Parent directory already exists: data\n",
      "Company: gotyou; No clients to be updated\n",
      "Parent directory already exists: data\n",
      "Client Come to Cape Town: URL could not be found\n",
      "Client El Matador Management Company: URL could not be found\n",
      "Client Resort Homes Florida: URL could not be found\n",
      "Company: bookingpal; Clients information is updated.\n",
      "Parent directory already exists: data\n",
      "Company: credenza; No clients to be updated\n",
      "Parent directory already exists: data\n",
      "Company: mynestbox; No clients to be updated\n",
      "Parent directory already exists: data\n",
      "Company: upfront; No clients to be updated\n",
      "Parent directory already exists: data\n",
      "Client Ayax Marketing & Really Simple Guitar: URL could not be found\n",
      "Company: bitwage; Clients information is updated.\n",
      "Parent directory already exists: data\n",
      "Client Paramount: URL could not be found\n",
      "Company: cxo_nexus; Clients information is updated.\n",
      "Parent directory already exists: data\n",
      "Company: loanbase; No clients to be updated\n",
      "Parent directory already exists: data\n",
      "Client Tridell Transport: URL could not be found\n",
      "Client AH Trans: URL could not be found\n",
      "Company: haulpay; Clients information is updated.\n",
      "Parent directory already exists: data\n",
      "Client MEB Management: URL could not be found\n",
      "Company: opiniion; Clients information is updated.\n",
      "Parent directory already exists: data\n",
      "Client Babylon: URL could not be found\n",
      "Client Phoenix Group: URL could not be found\n",
      "Company: apperio; Clients information is updated.\n",
      "Parent directory already exists: data\n",
      "Client Solo: URL could not be found\n",
      "Client VU: URL could not be found\n",
      "Client Informed: URL could not be found\n",
      "Client GDS: URL could not be found\n",
      "Client SL3: URL could not be found\n",
      "Client Mirza: URL could not be found\n",
      "Company: argyle; Clients information is updated.\n",
      "Parent directory already exists: data\n",
      "Client TiloPay: URL could not be found\n",
      "Client Super: URL could not be found\n",
      "Company: tokenex; Clients information is updated.\n",
      "Parent directory already exists: data\n",
      "Client TikTok: URL could not be found\n",
      "Company: soundout; Clients information is updated.\n",
      "Parent directory already exists: data\n",
      "Company: komodo; No clients to be updated\n",
      "Parent directory already exists: data\n",
      "Client Charles Stanley: URL could not be found\n",
      "Client MD One Ventures: URL could not be found\n",
      "Client Barclays: URL could not be found\n",
      "Client Innovate UK: URL could not be found\n",
      "Client Smith & Williamson: URL could not be found\n",
      "Client Coventry and Warwickshire Growth Hub: URL could not be found\n",
      "Client STFC: URL could not be found\n",
      "Client 24Haymarket: URL could not be found\n",
      "Client Greenaway Scott: URL could not be found\n",
      "Client Centre for Entrepreneurs: URL could not be found\n",
      "Client Satellite Applications Catapult: URL could not be found\n",
      "Client Home Grown: URL could not be found\n",
      "Client Bailey Fisher: URL could not be found\n",
      "Company: beauhurst; Clients information is updated.\n",
      "Parent directory already exists: data\n",
      "Company: pocketbook; No clients to be updated\n",
      "Parent directory already exists: data\n",
      "Company: retail_marketpoint; Clients information is updated.\n",
      "Parent directory already exists: data\n",
      "Client AAB: URL could not be found\n",
      "Client Par Equity: URL could not be found\n",
      "Company: marktomarket; Clients information is updated.\n",
      "Parent directory already exists: data\n",
      "Company: advisorconnect; Clients information is updated.\n",
      "Parent directory already exists: data\n",
      "Company: neurensic; No clients to be updated\n",
      "Parent directory already exists: data\n",
      "Client DAVIDsTEA: URL could not be found\n",
      "Company: smooth_commerce; Clients information is updated.\n",
      "Parent directory already exists: data\n",
      "Company: hubbub; Clients information is updated.\n",
      "Parent directory already exists: data\n",
      "Company: land_intelligence; No clients to be updated\n",
      "Parent directory already exists: data\n",
      "Company: swell_fundraising; Clients information is updated.\n",
      "Parent directory already exists: data\n",
      "Client Keller Williams Infinity: URL could not be found\n",
      "Company: smartzip; Clients information is updated.\n",
      "Parent directory already exists: data\n",
      "Client TAK Group LLC: URL could not be found\n",
      "Client Account Firm: URL could not be found\n",
      "Company: propio; Clients information is updated.\n",
      "Parent directory already exists: data\n",
      "Company: wingspan; Clients information is updated.\n",
      "Parent directory already exists: data\n",
      "Company: crs; Clients information is updated.\n",
      "Parent directory already exists: data\n",
      "Company: velvet; No clients to be updated\n",
      "Parent directory already exists: data\n",
      "Client Ware: URL could not be found\n",
      "Company: basis; Clients information is updated.\n",
      "Parent directory already exists: data\n",
      "Company: happy_tax_franchising; No clients to be updated\n",
      "Parent directory already exists: data\n",
      "Company: domotics; No clients to be updated\n",
      "Parent directory already exists: data\n",
      "Company: datalign_advisory; Clients information is updated.\n",
      "Parent directory already exists: data\n",
      "Company: aer_compliance; No clients to be updated\n",
      "Parent directory already exists: data\n",
      "Company: fintastic; Clients information is updated.\n",
      "Parent directory already exists: data\n",
      "Client United Nations Environment Programme – World Conservation Monitoring Centre: URL could not be found\n",
      "Client International Union for Conservation of Nature (IUCN): URL could not be found\n",
      "Company: naturealpha; Clients information is updated.\n",
      "Parent directory already exists: data\n",
      "Client A large enterprise construction company in Kyiv, Ukraine: URL could not be found\n",
      "Client Interactive HD pet camera company: URL could not be found\n",
      "Client Worldwide-recognized upcycling fashion brand: URL could not be found\n",
      "Client Marketplace of vetted offshore engineers: URL could not be found\n",
      "Company: fuel; Clients information is updated.\n",
      "Parent directory already exists: data\n",
      "Company: formotiv; Clients information is updated.\n",
      "Parent directory already exists: data\n",
      "Company: celebrity_agent; Clients information is updated.\n",
      "Parent directory already exists: data\n",
      "Client Intel: URL could not be found\n",
      "Client The Walt Disney Company CIS: URL could not be found\n",
      "Client Microsoft: URL could not be found\n",
      "Client VimpelCom PJSC: URL could not be found\n",
      "Client Mail.ru Group: URL could not be found\n",
      "Client OMD OM Group: URL could not be found\n",
      "Company: aggregion; Clients information is updated.\n",
      "Parent directory already exists: data\n",
      "Company: ioogo; No clients to be updated\n",
      "Parent directory already exists: data\n",
      "Client dReader: URL could not be found\n",
      "Company: darkblock; Clients information is updated.\n",
      "Parent directory already exists: data\n",
      "Company: quanta_market; No clients to be updated\n",
      "Parent directory already exists: data\n",
      "Client Watermark: URL could not be found\n",
      "Client Hy.ly: URL could not be found\n",
      "Client Knock®: URL could not be found\n",
      "Client Power Pro: URL could not be found\n",
      "Company: realync; Clients information is updated.\n",
      "Parent directory already exists: data\n",
      "Company: arcx; No clients to be updated\n",
      "Parent directory already exists: data\n",
      "Company: oneup; No clients to be updated\n",
      "Parent directory already exists: data\n",
      "Company: finitive; Clients information is updated.\n",
      "Parent directory already exists: data\n",
      "Company: cheddar; No clients to be updated\n",
      "Parent directory already exists: data\n",
      "Client SMPLYTRVL: URL could not be found\n",
      "Company: your_front_desk; Clients information is updated.\n",
      "Parent directory already exists: data\n",
      "Company: orby_ai; Clients information is updated.\n",
      "Parent directory already exists: data\n",
      "Client Propke: URL could not be found\n",
      "Client Pocono Rental Management: URL could not be found\n",
      "Client CopperHouse Property: URL could not be found\n",
      "Client Luke Capital Group: URL could not be found\n",
      "Company: uplisting; Clients information is updated.\n",
      "Parent directory already exists: data\n",
      "Company: way2vat; No clients to be updated\n",
      "Parent directory already exists: data\n",
      "Company: sing; No clients to be updated\n",
      "Parent directory already exists: data\n",
      "Client Allen & Overy: URL could not be found\n",
      "Client American Appraisal: URL could not be found\n",
      "Client Mazars: URL could not be found\n",
      "Client Baker & McKenzie: URL could not be found\n",
      "Company: royaltyrange; Clients information is updated.\n",
      "Parent directory already exists: data\n",
      "Company: udu; Clients information is updated.\n",
      "Parent directory already exists: data\n",
      "Client Beacon: URL could not be found\n",
      "Client Good Monday: URL could not be found\n",
      "Company: pento; Clients information is updated.\n",
      "Parent directory already exists: data\n",
      "Client Appian Way Asset Management: URL could not be found\n",
      "Client BAML: URL could not be found\n",
      "Company: quant_insight; Clients information is updated.\n",
      "Parent directory already exists: data\n",
      "Client Mack Residential Estate Agents: URL could not be found\n",
      "Client TG & Co Properties Ltd: URL could not be found\n",
      "Company: property_deals_insight; Clients information is updated.\n",
      "Parent directory already exists: data\n",
      "Company: mytaask; No clients to be updated\n",
      "Parent directory already exists: data\n",
      "Company: uplinq; No clients to be updated\n",
      "Parent directory already exists: data\n",
      "Client CobbleStone Systems Corp.: URL could not be found\n",
      "Client MACS: URL could not be found\n",
      "Company: sicommnet; Clients information is updated.\n",
      "Parent directory already exists: data\n",
      "Company: valid8_financial; Clients information is updated.\n",
      "Parent directory already exists: data\n",
      "Company: esub; Clients information is updated.\n",
      "Parent directory already exists: data\n",
      "Company: stowk; No clients to be updated\n",
      "Parent directory already exists: data\n",
      "Company: tobly; No clients to be updated\n",
      "Parent directory already exists: data\n",
      "Client Intervest Offices & Warehouses: URL could not be found\n",
      "Client BelSquare: URL could not be found\n",
      "Client KBC Real Estate: URL could not be found\n",
      "Client The Silvertown Partnership: URL could not be found\n",
      "Company: rialto; Clients information is updated.\n",
      "Parent directory already exists: data\n",
      "Company: dexit; No clients to be updated\n",
      "Parent directory already exists: data\n",
      "Client Sotheby's Realty: URL could not be found\n",
      "Company: virtual_staging_ai; Clients information is updated.\n",
      "Parent directory already exists: data\n",
      "Company: blue_saturn; No clients to be updated\n",
      "Parent directory already exists: data\n",
      "Company: naturetrak; Clients information is updated.\n",
      "Parent directory already exists: data\n",
      "Company: agro_club; Clients information is updated.\n",
      "Parent directory already exists: data\n",
      "Client Jetset: URL could not be found\n",
      "Client Travel Experts Inc: URL could not be found\n",
      "Company: sion; Clients information is updated.\n",
      "Parent directory already exists: data\n",
      "Company: commloan; No clients to be updated\n",
      "Parent directory already exists: data\n",
      "Company: avail; No clients to be updated\n",
      "Parent directory already exists: data\n",
      "Client A & J Properties: URL could not be found\n",
      "Company: nophin; Clients information is updated.\n",
      "Parent directory already exists: data\n",
      "Client Bookkeep: URL could not be found\n",
      "Client Back Office: URL could not be found\n",
      "Client Big Mama’s Kitchen and Catering: URL could not be found\n",
      "Company: davo_technologies; Clients information is updated.\n",
      "Parent directory already exists: data\n",
      "Client John Francis: URL could not be found\n",
      "Client Dacres: URL could not be found\n",
      "Client Connells: URL could not be found\n",
      "Client Hamptons: URL could not be found\n",
      "Client Countrywide: URL could not be found\n",
      "Company: homeflow; Clients information is updated.\n",
      "Parent directory already exists: data\n",
      "Company: magic_labs; No clients to be updated\n",
      "Parent directory already exists: data\n",
      "Client FLX: URL could not be found\n",
      "Client Microsoft: URL could not be found\n",
      "Company: forwardlane; Clients information is updated.\n",
      "Parent directory already exists: data\n",
      "Company: rockethub; No clients to be updated\n",
      "Parent directory already exists: data\n",
      "Company: protosure; No clients to be updated\n",
      "Parent directory already exists: data\n",
      "Company: homezada; No clients to be updated\n",
      "Parent directory already exists: data\n",
      "Client L+M Development Partners: URL could not be found\n",
      "Client Principal Real Estate Investors: URL could not be found\n",
      "Company: dealpath; Clients information is updated.\n",
      "Parent directory already exists: data\n",
      "Client Amadeus: URL could not be found\n",
      "Client Campings.com: URL could not be found\n",
      "Client Invia Flights Germany: URL could not be found\n",
      "Company: setoo; Clients information is updated.\n",
      "Parent directory already exists: data\n",
      "Client Delta Dental: URL could not be found\n",
      "Company: denscore; Clients information is updated.\n",
      "Parent directory already exists: data\n",
      "Client Ancora Alternatives: URL could not be found\n",
      "Client Deep Pool: URL could not be found\n",
      "Company: lightpoint_financial_technology; Clients information is updated.\n",
      "Parent directory already exists: data\n",
      "Client Coreteq Ventures: URL could not be found\n",
      "Client Bankers Helping Bankers Fund: URL could not be found\n",
      "Client Dexy Digital: URL could not be found\n",
      "Company: privacy_lock; Clients information is updated.\n",
      "Parent directory already exists: data\n",
      "Company: alaffia_health; Clients information is updated.\n",
      "Parent directory already exists: data\n",
      "Client Clarks: URL could not be found\n",
      "Client Sky TV: URL could not be found\n",
      "Client fuboTV: URL could not be found\n",
      "Company: cardlytics; Clients information is updated.\n",
      "Parent directory already exists: data\n",
      "Client Parallel: URL could not be found\n",
      "Company: mainstreet; Clients information is updated.\n",
      "Parent directory already exists: data\n",
      "Client HomeAway: URL could not be found\n",
      "Company: keybee; Clients information is updated.\n",
      "Parent directory already exists: data\n",
      "Company: dodo; No clients to be updated\n",
      "Parent directory already exists: data\n",
      "Client Zoe Unlimited: URL could not be found\n",
      "Company: creator_dao; Clients information is updated.\n",
      "Parent directory already exists: data\n",
      "Client Debt Capital Advisor Firm: URL could not be found\n",
      "Client Investment Bank, Canada: URL could not be found\n",
      "Client International Solar PV Developer: URL could not be found\n",
      "Client Basso Group Capital Advisors: URL could not be found\n",
      "Client ESB: URL could not be found\n",
      "Company: pf_nexus; Clients information is updated.\n",
      "Parent directory already exists: data\n",
      "Company: aitivity; No clients to be updated\n",
      "Parent directory already exists: data\n",
      "Client jaccomo: URL could not be found\n",
      "Client Spectrum Health Solutions: URL could not be found\n",
      "Client Syntegra: URL could not be found\n",
      "Company: intergen_data; Clients information is updated.\n",
      "Parent directory already exists: data\n",
      "Client Atoka Properties: URL could not be found\n",
      "Client The Cape House Team: URL could not be found\n",
      "Client National Association of REALTORS (NAR): URL could not be found\n",
      "Company: placester; Clients information is updated.\n",
      "Parent directory already exists: data\n",
      "Company: thirdwave; Clients information is updated.\n",
      "Parent directory already exists: data\n",
      "Client FRF: URL could not be found\n",
      "Client Hiber: URL could not be found\n",
      "Client Phoenix: URL could not be found\n",
      "Client Tenet Compliance Services: URL could not be found\n",
      "Company: comentis; Clients information is updated.\n",
      "Parent directory already exists: data\n",
      "Company: resimplifi; Clients information is updated.\n",
      "Parent directory already exists: data\n",
      "Client PITECH - WEBHELP: URL could not be found\n",
      "Client SN APILOG - GCC: URL could not be found\n",
      "Client LED3: URL could not be found\n",
      "Client LEXON: URL could not be found\n",
      "Company: tooodooo; Clients information is updated.\n",
      "Parent directory already exists: data\n",
      "Company: lovethorn; No clients to be updated\n",
      "Parent directory already exists: data\n",
      "Company: unfia; No clients to be updated\n",
      "Parent directory already exists: data\n",
      "Company: animated_insights; No clients to be updated\n",
      "Parent directory already exists: data\n",
      "Client Specialist Mortgage Group (SMG): URL could not be found\n",
      "Client Spear Technology: URL could not be found\n",
      "Client Unity Auto Finance: URL could not be found\n",
      "Client VerifyMyAge: URL could not be found\n",
      "Client Fleetcor: URL could not be found\n",
      "Client IFS: URL could not be found\n",
      "Client DSG Financial Services: URL could not be found\n",
      "Client Sunshine Mobile: URL could not be found\n",
      "Client Rental Goods: URL could not be found\n",
      "Client Love Finance: URL could not be found\n",
      "Company: planky; Clients information is updated.\n",
      "Parent directory already exists: data\n",
      "Company: jib_technologies; No clients to be updated\n",
      "Parent directory already exists: data\n",
      "Company: layer; Clients information is updated.\n",
      "Parent directory already exists: data\n",
      "Company: blackhyve; No clients to be updated\n",
      "Parent directory already exists: data\n",
      "Client One Source Autos: URL could not be found\n",
      "Client Jota Super Autos: URL could not be found\n",
      "Company: carpay; Clients information is updated.\n",
      "Parent directory already exists: data\n",
      "Company: newhomesmate; Clients information is updated.\n",
      "Parent directory already exists: data\n",
      "Company: vest; No clients to be updated\n",
      "Parent directory already exists: data\n",
      "Company: harness_data_intelligence; Clients information is updated.\n",
      "Parent directory already exists: data\n",
      "Client Magenta Financial Planning: URL could not be found\n",
      "Client Malvern Financial Planning: URL could not be found\n",
      "Company: timeline; Clients information is updated.\n",
      "Parent directory already exists: data\n",
      "Company: concerto; No clients to be updated\n",
      "Parent directory already exists: data\n",
      "Client Innovate Finance Solutions: URL could not be found\n",
      "Client ProActive Accounting Group: URL could not be found\n",
      "Client Nexa Financial Consultants: URL could not be found\n",
      "Company: datatrixs; Clients information is updated.\n",
      "Parent directory already exists: data\n",
      "Client Enterprise Security Systems: URL could not be found\n",
      "Company: vartana; Clients information is updated.\n",
      "Parent directory already exists: data\n",
      "Company: qodeo; No clients to be updated\n",
      "Parent directory already exists: data\n",
      "Company: opus_connect; Clients information is updated.\n",
      "Parent directory already exists: data\n",
      "Company: cmasnap; No clients to be updated\n",
      "Parent directory already exists: data\n",
      "Company: ledgible; No clients to be updated\n",
      "Parent directory already exists: data\n",
      "Company: hedgi; No clients to be updated\n",
      "Parent directory already exists: data\n",
      "Company: sitezeus; Clients information is updated.\n",
      "Parent directory already exists: data\n",
      "Company: fathom; Clients information is updated.\n",
      "Parent directory already exists: data\n",
      "Client Alcomy: URL could not be found\n",
      "Client Gwella: URL could not be found\n",
      "Company: kintsugi_ai; Clients information is updated.\n",
      "Parent directory already exists: data\n",
      "Client Cox Automotive Ecommerce: URL could not be found\n",
      "Client Marble Insurance Hub: URL could not be found\n",
      "Client Miner Family Insurance / TWFG: URL could not be found\n",
      "Client Daily Planet Publishing: URL could not be found\n",
      "Client Covered Insurance Solutions: URL could not be found\n",
      "Client SIAA - The Agent Alliance: URL could not be found\n",
      "Client Woop Insurance: URL could not be found\n",
      "Client IAOA - Independent Agency Owners Association: URL could not be found\n",
      "Client The AC Companies: URL could not be found\n",
      "Client Insurance Hub: URL could not be found\n",
      "Company: canopy_connect; Clients information is updated.\n",
      "Parent directory already exists: data\n",
      "Company: pilotbird; No clients to be updated\n",
      "Parent directory already exists: data\n",
      "Client Swift: URL could not be found\n",
      "Client Vodafone: URL could not be found\n",
      "Client ANZ: URL could not be found\n",
      "Client ARTA TechFin: URL could not be found\n",
      "Client Compound: URL could not be found\n",
      "Client GMX: URL could not be found\n",
      "Client Maker: URL could not be found\n",
      "Company: chainlink_labs; Clients information is updated.\n",
      "Parent directory already exists: data\n",
      "Company: dv01; No clients to be updated\n",
      "Parent directory already exists: data\n",
      "Client LAX Nation: URL could not be found\n",
      "Client Ohio Marine Trades Association: URL could not be found\n",
      "Client A50 Noora: URL could not be found\n",
      "Company: campfiresocial; Clients information is updated.\n",
      "Parent directory already exists: data\n",
      "Client Montana Bear Properties: URL could not be found\n",
      "Client Luxury RV Rentals LV: URL could not be found\n",
      "Client RV Pirates Rentals: URL could not be found\n",
      "Client Stay in the South: URL could not be found\n",
      "Company: direct; Clients information is updated.\n",
      "Parent directory already exists: data\n",
      "Client McLemore Team: URL could not be found\n",
      "Company: pinnacle_realty_advisors; Clients information is updated.\n",
      "Parent directory already exists: data\n",
      "Company: own_the_moment; No clients to be updated\n",
      "Parent directory already exists: data\n",
      "Company: kalepa; Clients information is updated.\n",
      "Parent directory already exists: data\n",
      "Client First National Bank & Trust: URL could not be found\n",
      "Client Citizens First Bank: URL could not be found\n",
      "Company: fi_works; Clients information is updated.\n",
      "Parent directory already exists: data\n",
      "Client Elrond: URL could not be found\n",
      "Company: tailpath; Clients information is updated.\n",
      "Parent directory already exists: data\n",
      "Company: rooser; No clients to be updated\n",
      "Parent directory already exists: data\n",
      "Company: brightbook; No clients to be updated\n",
      "Parent directory already exists: data\n",
      "Company: annuity_risk; No clients to be updated\n",
      "Parent directory already exists: data\n",
      "Client Frog London: URL could not be found\n",
      "Client Jack's Gelato: URL could not be found\n",
      "Client Jimmy's: URL could not be found\n",
      "Client Luxford Burgers: URL could not be found\n",
      "Client Fallow: URL could not be found\n",
      "Client ChungDam: URL could not be found\n",
      "Client Loch & Tyne: URL could not be found\n",
      "Client Golden Dragon: URL could not be found\n",
      "Client Luxx London: URL could not be found\n",
      "Client Charco Charco: URL could not be found\n",
      "Client Sumosan Twiga: URL could not be found\n",
      "Client Eat Tokyo: URL could not be found\n",
      "Client Jinli: URL could not be found\n",
      "Company: kody; Clients information is updated.\n",
      "Parent directory already exists: data\n",
      "Company: zorba; No clients to be updated\n",
      "Parent directory already exists: data\n",
      "Client Foresight CFO: URL could not be found\n",
      "Company: tally_street; Clients information is updated.\n",
      "Parent directory already exists: data\n",
      "Client TheStandard: URL could not be found\n",
      "Client ADP Marketplace Partner: URL could not be found\n",
      "Client Benefits Consultants Group: URL could not be found\n",
      "Client CompassOne Payroll: URL could not be found\n",
      "Client CAVU HCM: URL could not be found\n",
      "Client July Retirement: URL could not be found\n",
      "Client NEPS: URL could not be found\n",
      "Client PAi: URL could not be found\n",
      "Company: payroll_integrations; Clients information is updated.\n",
      "Parent directory already exists: data\n",
      "Client AVEX International: URL could not be found\n",
      "Company: eved; Clients information is updated.\n",
      "Parent directory already exists: data\n",
      "Client Tavistock Wealth: URL could not be found\n",
      "Client OP Financial Group: URL could not be found\n",
      "Company: kurtosys_systems; Clients information is updated.\n",
      "Parent directory already exists: data\n",
      "Client White McGowan: URL could not be found\n",
      "Client iEvolve Fitness: URL could not be found\n",
      "Company: moonclerk; Clients information is updated.\n",
      "Parent directory already exists: data\n",
      "Client Atlantic Contracts: URL could not be found\n",
      "Client Drywall Solutions: URL could not be found\n",
      "Client MJ Evans Group: URL could not be found\n",
      "Client McLouglin: URL could not be found\n",
      "Client Stratton: URL could not be found\n",
      "Client Regen Farcades: URL could not be found\n",
      "Company: konstructly; Clients information is updated.\n",
      "Parent directory already exists: data\n",
      "Client Launch: URL could not be found\n",
      "Client Flight Ventures: URL could not be found\n",
      "Company: taxgpt; Clients information is updated.\n",
      "Parent directory already exists: data\n",
      "Client DeepBrain AI: URL could not be found\n",
      "Client Shinhan Bank: URL could not be found\n",
      "Client Kyowon: URL could not be found\n",
      "Client Samsung: URL could not be found\n",
      "Client NH Nonghyup Bank: URL could not be found\n",
      "Client KB Kookmin Bank: URL could not be found\n",
      "Client AIA Korea: URL could not be found\n",
      "Client Mondelez International: URL could not be found\n",
      "Company: deepbrain_ai; Clients information is updated.\n",
      "Parent directory already exists: data\n",
      "Company: kountable; No clients to be updated\n",
      "Parent directory already exists: data\n",
      "Company: deepsee; No clients to be updated\n",
      "Parent directory already exists: data\n",
      "Company: talentmatch; Clients information is updated.\n",
      "Parent directory already exists: data\n",
      "Company: trustclarity; No clients to be updated\n",
      "Parent directory already exists: data\n",
      "Client PJ Milton & Company PLC: URL could not be found\n",
      "Client Cobens Wealth Management: URL could not be found\n",
      "Client Online Robo Advisor: URL could not be found\n",
      "Client Execution only Fintech: URL could not be found\n",
      "Company: quai_administration_services; Clients information is updated.\n",
      "Parent directory already exists: data\n",
      "Client The Sollog Group: URL could not be found\n",
      "Client QMaster: URL could not be found\n",
      "Company: humanitru; Clients information is updated.\n",
      "Parent directory already exists: data\n",
      "Company: datagardener; No clients to be updated\n",
      "Parent directory already exists: data\n",
      "Company: shorttrack; Clients information is updated.\n",
      "Parent directory already exists: data\n",
      "Company: nexben; No clients to be updated\n",
      "Parent directory already exists: data\n",
      "Company: micah_group; Clients information is updated.\n",
      "Parent directory already exists: data\n",
      "Client Akamai Technologies Incorporated: URL could not be found\n",
      "Company: sustainability_roundtable; Clients information is updated.\n",
      "Parent directory already exists: data\n",
      "Client Emerge Tech: URL could not be found\n",
      "Client LexisNexis Legal Tech Accelerator: URL could not be found\n",
      "Company: ipgen; Clients information is updated.\n",
      "Parent directory already exists: data\n",
      "Company: talage; No clients to be updated\n",
      "Parent directory already exists: data\n",
      "Client Triple: URL could not be found\n",
      "Company: banyan; Clients information is updated.\n",
      "Parent directory already exists: data\n",
      "Company: fam; Clients information is updated.\n",
      "Parent directory already exists: data\n",
      "Client Jamestown: URL could not be found\n",
      "Client Boston Properties (BXP): URL could not be found\n",
      "Client Corestate: URL could not be found\n",
      "Company: measurabl; Clients information is updated.\n",
      "Parent directory already exists: data\n",
      "Company: zestbloom; No clients to be updated\n",
      "Parent directory already exists: data\n",
      "Company: titanpayai; No clients to be updated\n",
      "Parent directory already exists: data\n",
      "Client Solume.io: URL could not be found\n",
      "Client Nexibeo/CoinCheckup.com: URL could not be found\n",
      "Company: cryptosheets; Clients information is updated.\n",
      "Parent directory already exists: data\n",
      "Company: swirepay; No clients to be updated\n",
      "Parent directory already exists: data\n",
      "Company: pronto_housing; No clients to be updated\n",
      "Parent directory already exists: data\n",
      "Company: grass_qozf; No clients to be updated\n",
      "Parent directory already exists: data\n",
      "Company: at_hum; No clients to be updated\n",
      "Parent directory already exists: data\n",
      "Company: veriphy_analytics; No clients to be updated\n",
      "Parent directory already exists: data\n",
      "Company: intropic; No clients to be updated\n",
      "Parent directory already exists: data\n",
      "Client Mozilla: URL could not be found\n",
      "Client Hustle funds: URL could not be found\n",
      "Client Microsoft for Startups: URL could not be found\n",
      "Client Nvidia: URL could not be found\n",
      "Company: massive; Clients information is updated.\n",
      "Parent directory already exists: data\n",
      "Company: assembl; No clients to be updated\n",
      "Parent directory already exists: data\n",
      "Company: rodeo; No clients to be updated\n",
      "Parent directory already exists: data\n",
      "Company: portfoliobay; Clients information is updated.\n",
      "Parent directory already exists: data\n",
      "Client National Australia Bank: URL could not be found\n",
      "Company: pollinate; Clients information is updated.\n",
      "Parent directory already exists: data\n",
      "Client The Bagby Agency: URL could not be found\n",
      "Client The Nancy K Insurance Agency: URL could not be found\n",
      "Client Rob Thomas Insurance Agency: URL could not be found\n",
      "Client Absolute Insurance: URL could not be found\n",
      "Client Providence Insurance: URL could not be found\n",
      "Company: insurgrid; Clients information is updated.\n",
      "Parent directory already exists: data\n",
      "Client Edge Impact: URL could not be found\n",
      "Company: supplyshift; Clients information is updated.\n",
      "Parent directory already exists: data\n",
      "Company: accumula; Clients information is updated.\n",
      "Parent directory already exists: data\n",
      "Client QuickBooks Online: URL could not be found\n",
      "Client Right Networks: URL could not be found\n",
      "Company: commercesync; Clients information is updated.\n",
      "Parent directory already exists: data\n",
      "Client Alden: URL could not be found\n",
      "Client First National Bank: URL could not be found\n",
      "Client First Bankt Gateway: URL could not be found\n",
      "Client Home Loan Investment Bank: URL could not be found\n",
      "Client Coastal: URL could not be found\n",
      "Company: 360factors; Clients information is updated.\n",
      "Parent directory already exists: data\n",
      "Client St. Joseph’s/Candler Health System: URL could not be found\n",
      "Company: scripta_insights; Clients information is updated.\n",
      "Parent directory already exists: data\n",
      "Client PwC’s UK Deals Analytics team: URL could not be found\n",
      "Company: neudata; Clients information is updated.\n",
      "Parent directory already exists: data\n",
      "Client Eros Digital: URL could not be found\n",
      "Company: vindicia; Clients information is updated.\n",
      "Parent directory already exists: data\n",
      "Company: messari; No clients to be updated\n",
      "Parent directory already exists: data\n",
      "Company: heteronomics; Clients information is updated.\n",
      "Parent directory already exists: data\n",
      "Client Company X: URL could not be found\n",
      "Company: cast_services; Clients information is updated.\n",
      "Parent directory already exists: data\n",
      "Company: blocksentry; Clients information is updated.\n",
      "Parent directory already exists: data\n",
      "Client Apollo Group Holdings: URL could not be found\n",
      "Company: artificial_labs; Clients information is updated.\n",
      "Parent directory already exists: data\n",
      "Company: blocky; No clients to be updated\n",
      "Parent directory already exists: data\n",
      "Company: trelora; No clients to be updated\n",
      "Parent directory already exists: data\n",
      "Client WebPresent: URL could not be found\n",
      "Client Lubumbashi Mobile: URL could not be found\n",
      "Company: reloadly; Clients information is updated.\n",
      "Parent directory already exists: data\n",
      "Company: reveel; No clients to be updated\n",
      "Parent directory already exists: data\n",
      "Company: bubblehouse; Clients information is updated.\n",
      "Parent directory already exists: data\n",
      "Client Community Energy Scheme: URL could not be found\n",
      "Client TaxAssist: URL could not be found\n",
      "Client Glaze Digital: URL could not be found\n",
      "Client Huttie Group: URL could not be found\n",
      "Client Love Brands: URL could not be found\n",
      "Client Kinder Pocock: URL could not be found\n",
      "Client Revis & Co Accountancy Services Ltd: URL could not be found\n",
      "Client Integrity Partnership: URL could not be found\n",
      "Client Hysons Chartered Accountants: URL could not be found\n",
      "Client Direct Peak Ltd: URL could not be found\n",
      "Client Nuvem 9 Limited: URL could not be found\n",
      "Client Azuki Accounts Limited: URL could not be found\n",
      "Client Valued Accountancy: URL could not be found\n",
      "Client GrowBe: URL could not be found\n",
      "Client Finance Box: URL could not be found\n",
      "Client Quantico: URL could not be found\n",
      "Client Get In The Cloud Business Solutions: URL could not be found\n",
      "Client Nephos Lmited: URL could not be found\n",
      "Client BHP LLP: URL could not be found\n",
      "Client Conall Dunne & Company: URL could not be found\n",
      "Client Shorts: URL could not be found\n",
      "Client Northern Accountants: URL could not be found\n",
      "Client Cloudworx: URL could not be found\n",
      "Client Accounting Advisors: URL could not be found\n",
      "Client MAP: URL could not be found\n",
      "Client Scope: URL could not be found\n",
      "Client Inform Accounting Ltd: URL could not be found\n",
      "Client The Counting House: URL could not be found\n",
      "Company: chaser; Clients information is updated.\n",
      "Parent directory already exists: data\n",
      "Company: tennts; Clients information is updated.\n",
      "Parent directory already exists: data\n",
      "Client Rgestas: URL could not be found\n",
      "Company: flare; Clients information is updated.\n",
      "Parent directory already exists: data\n",
      "Company: t_rex; Clients information is updated.\n",
      "Parent directory already exists: data\n",
      "Company: secondkeys; No clients to be updated\n",
      "Parent directory already exists: data\n",
      "Company: pineapple_labs; Clients information is updated.\n",
      "Parent directory already exists: data\n",
      "Company: terrapin; No clients to be updated\n",
      "Parent directory already exists: data\n",
      "Company: atayen; No clients to be updated\n",
      "Parent directory already exists: data\n",
      "Client McBrayer Group: URL could not be found\n",
      "Client RNP Real Estate Group: URL could not be found\n",
      "Company: great_agent; Clients information is updated.\n",
      "Parent directory already exists: data\n",
      "Company: simplelegal; Clients information is updated.\n",
      "Parent directory already exists: data\n",
      "Company: blueswipe; Clients information is updated.\n",
      "Parent directory already exists: data\n",
      "Company: funnel_leasing; Clients information is updated.\n",
      "Parent directory already exists: data\n",
      "Client Fortune 500 US Bank: URL could not be found\n",
      "Company: markaaz; Clients information is updated.\n",
      "Parent directory already exists: data\n",
      "Client Regal Malay Capital Berhad: URL could not be found\n",
      "Client IS CLEAN AIR: URL could not be found\n",
      "Company: bluesphere_carbon; Clients information is updated.\n",
      "Parent directory already exists: data\n",
      "Company: smartria; No clients to be updated\n",
      "Parent directory already exists: data\n",
      "Company: lien_library; No clients to be updated\n",
      "Parent directory already exists: data\n",
      "Company: atmos_ai; Clients information is updated.\n",
      "Parent directory already exists: data\n",
      "Company: precedent; No clients to be updated\n",
      "Parent directory already exists: data\n",
      "Client Solaris Energy: URL could not be found\n",
      "Client BCC: URL could not be found\n",
      "Company: conductor_solar; Clients information is updated.\n",
      "Parent directory already exists: data\n",
      "Client REX: URL could not be found\n",
      "Client REDFIN now: URL could not be found\n",
      "Client HOMEBINDER: URL could not be found\n",
      "Client PRESTO INTELLIGENCE: URL could not be found\n",
      "Company: repair_pricer; Clients information is updated.\n",
      "Parent directory already exists: data\n",
      "Client School of Rock franchises: URL could not be found\n",
      "Company: finoptimal; Clients information is updated.\n",
      "Parent directory already exists: data\n",
      "Client Dell Technologies: URL could not be found\n",
      "Company: next_quarter; Clients information is updated.\n",
      "Parent directory already exists: data\n",
      "Company: orderstorm; No clients to be updated\n",
      "Parent directory already exists: data\n",
      "Company: satsuma; Clients information is updated.\n",
      "Parent directory already exists: data\n",
      "Company: taxscouts; No clients to be updated\n",
      "Parent directory already exists: data\n",
      "Client PE-backed medical services company: URL could not be found\n",
      "Client Growing distribution company: URL could not be found\n",
      "Client Asset-light SaaS company: URL could not be found\n",
      "Client DTC packaged goods company: URL could not be found\n",
      "Client IT Company: URL could not be found\n",
      "Company: cerebro_capital; Clients information is updated.\n",
      "Parent directory already exists: data\n",
      "Client Crussh Juice Bars: URL could not be found\n",
      "Company: embargo; Clients information is updated.\n",
      "Parent directory already exists: data\n",
      "Company: taxometry; No clients to be updated\n",
      "Parent directory already exists: data\n",
      "Company: builders_patch; Clients information is updated.\n",
      "Parent directory already exists: data\n",
      "Company: quill_ai; No clients to be updated\n",
      "Parent directory already exists: data\n",
      "Client New York Community Bank: URL could not be found\n",
      "Client Metropolitan Community Bank: URL could not be found\n",
      "Client Subal Capital Partners: URL could not be found\n",
      "Client Arbor: URL could not be found\n",
      "Client WFinancial: URL could not be found\n",
      "Client Arbor Realty Trust: URL could not be found\n",
      "Client Sabal Capital Partners: URL could not be found\n",
      "Company: bowery; Clients information is updated.\n",
      "Parent directory already exists: data\n",
      "Client Crane Financial: URL could not be found\n",
      "Company: brokeriq; Clients information is updated.\n",
      "Parent directory already exists: data\n",
      "Company: courted_io; No clients to be updated\n",
      "Parent directory already exists: data\n",
      "Client American Eagle Outfitters: URL could not be found\n",
      "Client Fiserv: URL could not be found\n",
      "Client Guild Education: URL could not be found\n",
      "Company: candidly; Clients information is updated.\n",
      "Parent directory already exists: data\n",
      "Company: netfin; Clients information is updated.\n",
      "Parent directory already exists: data\n",
      "Client O2: URL could not be found\n",
      "Company: kindred; Clients information is updated.\n",
      "Parent directory already exists: data\n",
      "Company: digital_map_products; Clients information is updated.\n",
      "Parent directory already exists: data\n",
      "Client Deloitte: URL could not be found\n",
      "Client Microsoft: URL could not be found\n",
      "Client Stephens: URL could not be found\n",
      "Company: privco; Clients information is updated.\n",
      "Parent directory already exists: data\n",
      "Company: 360ofme; Clients information is updated.\n",
      "Parent directory already exists: data\n",
      "Client HEAT: URL could not be found\n",
      "Client Sage and Saber: URL could not be found\n",
      "Client Advisry: URL could not be found\n",
      "Company: kalder; Clients information is updated.\n",
      "Parent directory already exists: data\n",
      "Company: futurestay; Clients information is updated.\n",
      "Parent directory already exists: data\n",
      "Company: cultos; No clients to be updated\n",
      "Parent directory already exists: data\n",
      "Company: link_brokerages; No clients to be updated\n",
      "Parent directory already exists: data\n",
      "Company: adapt_api; No clients to be updated\n",
      "Parent directory already exists: data\n",
      "Client DeltaPrime: URL could not be found\n",
      "Client SteadeFi: URL could not be found\n",
      "Client Kinetic: URL could not be found\n",
      "Client Tashi: URL could not be found\n",
      "Company: ledger_works; Clients information is updated.\n",
      "Parent directory already exists: data\n",
      "Company: solidspac3; No clients to be updated\n",
      "Parent directory already exists: data\n",
      "Company: geode_ip; No clients to be updated\n",
      "Parent directory already exists: data\n",
      "Client Once a Month Meals: URL could not be found\n",
      "Client Flying Buffaloes LLC: URL could not be found\n",
      "Client Event Service Group: URL could not be found\n",
      "Company: xendoo; Clients information is updated.\n",
      "Parent directory already exists: data\n",
      "Company: hypar; No clients to be updated\n",
      "Parent directory already exists: data\n",
      "Company: hugs; No clients to be updated\n",
      "Parent directory already exists: data\n",
      "Company: certified_true; Clients information is updated.\n",
      "Parent directory already exists: data\n",
      "Company: lagniappe_labs; Clients information is updated.\n",
      "Parent directory already exists: data\n",
      "Client Huber: URL could not be found\n",
      "Client Dupont Styrofoam: URL could not be found\n",
      "Company: buildstock; Clients information is updated.\n",
      "Parent directory already exists: data\n",
      "Client KellerWilliams: URL could not be found\n",
      "Company: instashowing; Clients information is updated.\n",
      "Parent directory already exists: data\n",
      "Company: hashku; No clients to be updated\n",
      "Parent directory already exists: data\n",
      "Company: loantuitive; Clients information is updated.\n",
      "Parent directory already exists: data\n",
      "Company: niural; No clients to be updated\n",
      "Parent directory already exists: data\n",
      "Client aliro: URL could not be found\n",
      "Client altera: URL could not be found\n",
      "Client amvest: URL could not be found\n",
      "Client asr: URL could not be found\n",
      "Client care-property-invest: URL could not be found\n",
      "Client cls: URL could not be found\n",
      "Client dream: URL could not be found\n",
      "Client dw-property: URL could not be found\n",
      "Client hartelt: URL could not be found\n",
      "Client ion: URL could not be found\n",
      "Client the-july: URL could not be found\n",
      "Client marathon: URL could not be found\n",
      "Client merin: URL could not be found\n",
      "Client multi: URL could not be found\n",
      "Client nlv: URL could not be found\n",
      "Client northern-horizon: URL could not be found\n",
      "Client patrizia: URL could not be found\n",
      "Client precinct: URL could not be found\n",
      "Client rockfield: URL could not be found\n",
      "Client tribeca: URL could not be found\n",
      "Company: scaler; Clients information is updated.\n",
      "Parent directory already exists: data\n",
      "Company: bcmstrategy; No clients to be updated\n",
      "Parent directory already exists: data\n",
      "Company: welligence; Clients information is updated.\n",
      "Parent directory already exists: data\n",
      "Company: maxwell; Clients information is updated.\n",
      "Parent directory already exists: data\n",
      "Company: propersum; No clients to be updated\n",
      "Parent directory already exists: data\n",
      "Client togg.com.tr: URL could not be found\n",
      "Client sabanci.com/tr: URL could not be found\n",
      "Client lazzoni.com.tr: URL could not be found\n",
      "Client pitch-beach.com: URL could not be found\n",
      "Client agora.io/en: URL could not be found\n",
      "Client vive.com/us: URL could not be found\n",
      "Client oculus.com: URL could not be found\n",
      "Client iqzone.io/launchpad: URL could not be found\n",
      "Company: atlas_space; Clients information is updated.\n",
      "Parent directory already exists: data\n",
      "Client Paramount: URL could not be found\n",
      "Company: incentify; Clients information is updated.\n",
      "Parent directory already exists: data\n",
      "Company: anduin; No clients to be updated\n",
      "Parent directory already exists: data\n",
      "Client YesRef Foundation: URL could not be found\n",
      "Company: yesref; Clients information is updated.\n",
      "Parent directory already exists: data\n",
      "Client Calhoun Liberty: URL could not be found\n",
      "Client Dade County: URL could not be found\n",
      "Client Day Air CU: URL could not be found\n",
      "Client Diversified Member Credit Union: URL could not be found\n",
      "Client First Financial CU: URL could not be found\n",
      "Client LGE Community CU: URL could not be found\n",
      "Client Mobiloil CU: URL could not be found\n",
      "Client Parkside CU: URL could not be found\n",
      "Client San Antonio FCU: URL could not be found\n",
      "Client TruPartners CU: URL could not be found\n",
      "Client Unison CU: URL could not be found\n",
      "Client United Heritage CU: URL could not be found\n",
      "Company: sync1_systems; Clients information is updated.\n",
      "Parent directory already exists: data\n",
      "Company: architizer; No clients to be updated\n",
      "Parent directory already exists: data\n",
      "Client JamesCo Builders: URL could not be found\n",
      "Client BCI Central US: URL could not be found\n",
      "Company: pantera_tools; Clients information is updated.\n",
      "Parent directory already exists: data\n",
      "Client HIH Real Estate: URL could not be found\n",
      "Client Legal & General Investment Management: URL could not be found\n",
      "Company: coyote; Clients information is updated.\n",
      "Parent directory already exists: data\n",
      "Company: realscout; Clients information is updated.\n",
      "Parent directory already exists: data\n",
      "Company: ceres_imaging; No clients to be updated\n",
      "Parent directory already exists: data\n",
      "Company: tifosy; Clients information is updated.\n",
      "Parent directory already exists: data\n",
      "Client ConsenSys Ventures: URL could not be found\n",
      "Company: decompany; Clients information is updated.\n",
      "Parent directory already exists: data\n",
      "Client Acme: URL could not be found\n",
      "Company: mural; Clients information is updated.\n",
      "Parent directory already exists: data\n",
      "Company: courbanize; Clients information is updated.\n",
      "Parent directory already exists: data\n",
      "Client McCormick Management & Realty LLC: URL could not be found\n",
      "Client Hoste: URL could not be found\n",
      "Client QuickBooks: URL could not be found\n",
      "Client Track HS: URL could not be found\n",
      "Company: ximplifi; Clients information is updated.\n",
      "Parent directory already exists: data\n",
      "Client Baton Rouge Telco FCU: URL could not be found\n",
      "Client Certified FCU: URL could not be found\n",
      "Client Financial Access FCU: URL could not be found\n",
      "Client Hudson River Financial FCU: URL could not be found\n",
      "Client New York University FCU: URL could not be found\n",
      "Client UMassFive Federal Credit Union: URL could not be found\n",
      "Company: digital_onboarding; Clients information is updated.\n",
      "Parent directory already exists: data\n",
      "Company: bankerslab; No clients to be updated\n",
      "Parent directory already exists: data\n",
      "Client Casa Marron: URL could not be found\n",
      "Company: designerinc; Clients information is updated.\n",
      "Parent directory already exists: data\n",
      "Company: re_ops; No clients to be updated\n",
      "Parent directory already exists: data\n",
      "Company: vertru; No clients to be updated\n",
      "Parent directory already exists: data\n",
      "Client Yoga Insurance Services: URL could not be found\n",
      "Client Ignite, a Verisk business: URL could not be found\n",
      "Company: nuon_ai; Clients information is updated.\n"
     ]
    }
   ],
   "source": [
    "doc_list = os.listdir('extraction_output_v2')\n",
    "for doc in doc_list:\n",
    "    try:\n",
    "        processed_name = doc.replace('_extraction.json', '')\n",
    "        extraction_file_path = f'extraction_output_v2/{doc}'\n",
    "        _ = update_client_list(processed_name=processed_name, extraction_file_path=extraction_file_path, client_file_path='data/client_info_update.json')\n",
    "    except Exception as e:\n",
    "        print(f'Error occurs on company {processed_name}, {e}')"
   ]
  },
  {
   "cell_type": "code",
   "execution_count": 57,
   "metadata": {},
   "outputs": [
    {
     "name": "stdout",
     "output_type": "stream",
     "text": [
      "Error occurs on company .DS_Store, 'utf-8' codec can't decode byte 0x80 in position 3131: invalid start byte\n",
      "Error occurs on company mishcon_de_reya, Expecting ',' delimiter: line 2054 column 39 (char 78712)\n"
     ]
    }
   ],
   "source": [
    "doc_list = os.listdir('client_extraction_output')\n",
    "for doc in doc_list:\n",
    "    try:\n",
    "        processed_name = doc.replace('_extraction.json', '')\n",
    "        extraction_file_path = f'client_extraction_output/{doc}'\n",
    "        \n",
    "        data = read_json_file(extraction_file_path)\n",
    "        data['name'] = get_additional_client_info(processed_name, 'name')\n",
    "        if not data['name']:\n",
    "            print(f'Company {processed_name} can not be found')\n",
    "        write_json_file(extraction_file_path, data)\n",
    "        \n",
    "    except Exception as e:\n",
    "        print(f'Error occurs on company {processed_name}, {e}')"
   ]
  },
  {
   "cell_type": "code",
   "execution_count": 45,
   "metadata": {},
   "outputs": [
    {
     "data": {
      "text/plain": [
       "'first_foundation_bank'"
      ]
     },
     "execution_count": 45,
     "metadata": {},
     "output_type": "execute_result"
    }
   ],
   "source": [
    "doc_list[0]\n",
    "\n",
    "data = read_json_file(f'client_extraction_output/{doc_list[0]}')\n",
    "# data['name']\n",
    "processed_name = doc_list[0].replace('_extraction.json', '')\n",
    "processed_name"
   ]
  },
  {
   "cell_type": "code",
   "execution_count": 48,
   "metadata": {},
   "outputs": [
    {
     "data": {
      "text/plain": [
       "'First Foundation'"
      ]
     },
     "execution_count": 48,
     "metadata": {},
     "output_type": "execute_result"
    }
   ],
   "source": [
    "get_additional_client_info('first_foundation', 'name')"
   ]
  },
  {
   "cell_type": "code",
   "execution_count": 11,
   "metadata": {},
   "outputs": [
    {
     "name": "stdout",
     "output_type": "stream",
     "text": [
      "Connection established.\n"
     ]
    }
   ],
   "source": [
    "import dotenv\n",
    "import os\n",
    "from neo4j import GraphDatabase\n",
    "\n",
    "\n",
    "URI = os.getenv(\"NEO4J_URI\")\n",
    "AUTH = (os.getenv(\"NEO4J_USERNAME\"), os.getenv(\"NEO4J_INSTANCE_PASSWORD\"))\n",
    "\n",
    "with GraphDatabase.driver(URI, auth=AUTH) as driver:\n",
    "    driver.verify_connectivity()\n",
    "    print(\"Connection established.\")\n"
   ]
  },
  {
   "cell_type": "code",
   "execution_count": null,
   "metadata": {},
   "outputs": [],
   "source": [
    "doc_list = os.listdir('extraction_output_v2')\n",
    "for doc in tqdm(doc_list):\n",
    "    \n",
    "    try:\n",
    "        processed_name = doc.replace('_extraction.json', '')\n",
    "        \n",
    "        extraction_file_path = f'extraction_output_v2/{processed_name}_extraction.json'\n",
    "        \n",
    "        kg_construction(processed_name, extraction_file_path)\n",
    "        \n",
    "    except Exception as e:\n",
    "        print(f'Error: {e}')"
   ]
  },
  {
   "cell_type": "code",
   "execution_count": 3,
   "metadata": {},
   "outputs": [
    {
     "name": "stderr",
     "output_type": "stream",
     "text": [
      "  0%|          | 1/1386 [00:00<16:59,  1.36it/s]"
     ]
    },
    {
     "name": "stdout",
     "output_type": "stream",
     "text": [
      "Company northmarq is added to the graph.\n"
     ]
    },
    {
     "name": "stderr",
     "output_type": "stream",
     "text": [
      "  0%|          | 2/1386 [00:01<13:46,  1.67it/s]"
     ]
    },
    {
     "name": "stdout",
     "output_type": "stream",
     "text": [
      "Company np_dodge is added to the graph.\n"
     ]
    },
    {
     "name": "stderr",
     "output_type": "stream",
     "text": [
      "  0%|          | 3/1386 [00:01<11:30,  2.00it/s]"
     ]
    },
    {
     "name": "stdout",
     "output_type": "stream",
     "text": [
      "Company unilever is added to the graph.\n"
     ]
    },
    {
     "name": "stderr",
     "output_type": "stream",
     "text": [
      "  0%|          | 4/1386 [00:02<11:43,  1.96it/s]"
     ]
    },
    {
     "name": "stdout",
     "output_type": "stream",
     "text": [
      "Company coca_cola is added to the graph.\n"
     ]
    },
    {
     "name": "stderr",
     "output_type": "stream",
     "text": [
      "  0%|          | 5/1386 [00:02<12:07,  1.90it/s]"
     ]
    },
    {
     "name": "stdout",
     "output_type": "stream",
     "text": [
      "Company conner_strong_&_buckelew is added to the graph.\n"
     ]
    },
    {
     "name": "stderr",
     "output_type": "stream",
     "text": [
      "  0%|          | 6/1386 [00:03<12:34,  1.83it/s]"
     ]
    },
    {
     "name": "stdout",
     "output_type": "stream",
     "text": [
      "Company plant_therapy is added to the graph.\n"
     ]
    },
    {
     "name": "stderr",
     "output_type": "stream",
     "text": [
      "  1%|          | 7/1386 [00:04<16:00,  1.44it/s]"
     ]
    },
    {
     "name": "stdout",
     "output_type": "stream",
     "text": [
      "Company paylocity is added to the graph.\n"
     ]
    },
    {
     "name": "stderr",
     "output_type": "stream",
     "text": [
      "  1%|          | 8/1386 [00:05<18:02,  1.27it/s]"
     ]
    },
    {
     "name": "stdout",
     "output_type": "stream",
     "text": [
      "Company monday is added to the graph.\n"
     ]
    },
    {
     "name": "stderr",
     "output_type": "stream",
     "text": [
      "  1%|          | 9/1386 [00:06<19:03,  1.20it/s]"
     ]
    },
    {
     "name": "stdout",
     "output_type": "stream",
     "text": [
      "Company sila_money is added to the graph.\n"
     ]
    },
    {
     "name": "stderr",
     "output_type": "stream",
     "text": [
      "  1%|          | 10/1386 [00:06<15:49,  1.45it/s]"
     ]
    },
    {
     "name": "stdout",
     "output_type": "stream",
     "text": [
      "Company american_campus_communities is added to the graph.\n"
     ]
    },
    {
     "name": "stderr",
     "output_type": "stream",
     "text": [
      "  1%|          | 11/1386 [00:07<15:09,  1.51it/s]"
     ]
    },
    {
     "name": "stdout",
     "output_type": "stream",
     "text": [
      "Company warfel is added to the graph.\n"
     ]
    },
    {
     "name": "stderr",
     "output_type": "stream",
     "text": [
      "  1%|          | 12/1386 [00:07<13:11,  1.74it/s]"
     ]
    },
    {
     "name": "stdout",
     "output_type": "stream",
     "text": [
      "Company nesteggs is added to the graph.\n"
     ]
    },
    {
     "name": "stderr",
     "output_type": "stream",
     "text": [
      "  1%|          | 13/1386 [00:08<12:56,  1.77it/s]"
     ]
    },
    {
     "name": "stdout",
     "output_type": "stream",
     "text": [
      "Company carolina_foundation_solutions is added to the graph.\n"
     ]
    },
    {
     "name": "stderr",
     "output_type": "stream",
     "text": [
      "  1%|          | 14/1386 [00:08<11:31,  1.98it/s]"
     ]
    },
    {
     "name": "stdout",
     "output_type": "stream",
     "text": [
      "Company arweave is added to the graph.\n"
     ]
    },
    {
     "name": "stderr",
     "output_type": "stream",
     "text": [
      "  1%|          | 15/1386 [00:08<10:34,  2.16it/s]"
     ]
    },
    {
     "name": "stdout",
     "output_type": "stream",
     "text": [
      "Company pensionbee is added to the graph.\n"
     ]
    },
    {
     "name": "stderr",
     "output_type": "stream",
     "text": [
      "  1%|          | 16/1386 [00:09<10:48,  2.11it/s]"
     ]
    },
    {
     "name": "stdout",
     "output_type": "stream",
     "text": [
      "Company earthlight_technologies_llc is added to the graph.\n"
     ]
    },
    {
     "name": "stderr",
     "output_type": "stream",
     "text": [
      "  1%|          | 17/1386 [00:10<13:34,  1.68it/s]"
     ]
    },
    {
     "name": "stdout",
     "output_type": "stream",
     "text": [
      "Company rentalbeast is added to the graph.\n"
     ]
    },
    {
     "name": "stderr",
     "output_type": "stream",
     "text": [
      "  1%|▏         | 18/1386 [00:10<12:17,  1.86it/s]"
     ]
    },
    {
     "name": "stdout",
     "output_type": "stream",
     "text": [
      "Company neo_home_loans is added to the graph.\n"
     ]
    },
    {
     "name": "stderr",
     "output_type": "stream",
     "text": [
      "  1%|▏         | 19/1386 [00:11<13:09,  1.73it/s]"
     ]
    },
    {
     "name": "stdout",
     "output_type": "stream",
     "text": [
      "Company vorensys is added to the graph.\n"
     ]
    },
    {
     "name": "stderr",
     "output_type": "stream",
     "text": [
      "  1%|▏         | 20/1386 [00:11<13:54,  1.64it/s]"
     ]
    },
    {
     "name": "stdout",
     "output_type": "stream",
     "text": [
      "Company usalliance_federal_credit_union is added to the graph.\n"
     ]
    },
    {
     "name": "stderr",
     "output_type": "stream",
     "text": [
      "  2%|▏         | 21/1386 [00:12<11:54,  1.91it/s]"
     ]
    },
    {
     "name": "stdout",
     "output_type": "stream",
     "text": [
      "Error: 'NoneType' object has no attribute 'append'\n"
     ]
    },
    {
     "name": "stderr",
     "output_type": "stream",
     "text": [
      "  2%|▏         | 22/1386 [00:13<15:35,  1.46it/s]"
     ]
    },
    {
     "name": "stdout",
     "output_type": "stream",
     "text": [
      "Company square is added to the graph.\n"
     ]
    },
    {
     "name": "stderr",
     "output_type": "stream",
     "text": [
      "  2%|▏         | 23/1386 [00:14<15:49,  1.44it/s]"
     ]
    },
    {
     "name": "stdout",
     "output_type": "stream",
     "text": [
      "Company addepar is added to the graph.\n"
     ]
    },
    {
     "name": "stderr",
     "output_type": "stream",
     "text": [
      "  2%|▏         | 24/1386 [00:14<13:10,  1.72it/s]"
     ]
    },
    {
     "name": "stdout",
     "output_type": "stream",
     "text": [
      "Error: 'NoneType' object has no attribute 'append'\n"
     ]
    },
    {
     "name": "stderr",
     "output_type": "stream",
     "text": [
      "  2%|▏         | 25/1386 [00:14<12:33,  1.81it/s]"
     ]
    },
    {
     "name": "stdout",
     "output_type": "stream",
     "text": [
      "Company safety_management_group is added to the graph.\n"
     ]
    },
    {
     "name": "stderr",
     "output_type": "stream",
     "text": [
      "  2%|▏         | 26/1386 [00:15<12:56,  1.75it/s]"
     ]
    },
    {
     "name": "stdout",
     "output_type": "stream",
     "text": [
      "Company voya is added to the graph.\n"
     ]
    },
    {
     "name": "stderr",
     "output_type": "stream",
     "text": [
      "  2%|▏         | 27/1386 [00:16<13:09,  1.72it/s]"
     ]
    },
    {
     "name": "stdout",
     "output_type": "stream",
     "text": [
      "Company technical_service_firm is added to the graph.\n"
     ]
    },
    {
     "name": "stderr",
     "output_type": "stream",
     "text": [
      "  2%|▏         | 28/1386 [00:16<13:00,  1.74it/s]"
     ]
    },
    {
     "name": "stdout",
     "output_type": "stream",
     "text": [
      "Company cielo24 is added to the graph.\n"
     ]
    },
    {
     "name": "stderr",
     "output_type": "stream",
     "text": [
      "  2%|▏         | 29/1386 [00:17<12:38,  1.79it/s]"
     ]
    },
    {
     "name": "stdout",
     "output_type": "stream",
     "text": [
      "Company bette_hochberger_cpa_cgma is added to the graph.\n"
     ]
    },
    {
     "name": "stderr",
     "output_type": "stream",
     "text": [
      "  2%|▏         | 30/1386 [00:17<12:44,  1.77it/s]"
     ]
    },
    {
     "name": "stdout",
     "output_type": "stream",
     "text": [
      "Company taxand is added to the graph.\n"
     ]
    },
    {
     "name": "stderr",
     "output_type": "stream",
     "text": [
      "  2%|▏         | 31/1386 [00:18<11:30,  1.96it/s]"
     ]
    },
    {
     "name": "stdout",
     "output_type": "stream",
     "text": [
      "Company startengine is added to the graph.\n"
     ]
    },
    {
     "name": "stderr",
     "output_type": "stream",
     "text": [
      "  2%|▏         | 32/1386 [00:18<12:42,  1.77it/s]"
     ]
    },
    {
     "name": "stdout",
     "output_type": "stream",
     "text": [
      "Company cyberscope is added to the graph.\n"
     ]
    },
    {
     "name": "stderr",
     "output_type": "stream",
     "text": [
      "  2%|▏         | 33/1386 [00:19<11:29,  1.96it/s]"
     ]
    },
    {
     "name": "stdout",
     "output_type": "stream",
     "text": [
      "Company redwheel is added to the graph.\n"
     ]
    },
    {
     "name": "stderr",
     "output_type": "stream",
     "text": [
      "  2%|▏         | 34/1386 [00:19<10:40,  2.11it/s]"
     ]
    },
    {
     "name": "stdout",
     "output_type": "stream",
     "text": [
      "Company nuveldy's is added to the graph.\n"
     ]
    },
    {
     "name": "stderr",
     "output_type": "stream",
     "text": [
      "  3%|▎         | 35/1386 [00:20<11:24,  1.97it/s]"
     ]
    },
    {
     "name": "stdout",
     "output_type": "stream",
     "text": [
      "Company underscore_vc is added to the graph.\n"
     ]
    },
    {
     "name": "stderr",
     "output_type": "stream",
     "text": [
      "  3%|▎         | 36/1386 [00:20<10:00,  2.25it/s]"
     ]
    },
    {
     "name": "stdout",
     "output_type": "stream",
     "text": [
      "Error: 'NoneType' object has no attribute 'append'\n"
     ]
    },
    {
     "name": "stderr",
     "output_type": "stream",
     "text": [
      "  3%|▎         | 37/1386 [00:21<13:33,  1.66it/s]"
     ]
    },
    {
     "name": "stdout",
     "output_type": "stream",
     "text": [
      "Company amtrust is added to the graph.\n"
     ]
    },
    {
     "name": "stderr",
     "output_type": "stream",
     "text": [
      "  3%|▎         | 38/1386 [00:22<13:20,  1.68it/s]"
     ]
    },
    {
     "name": "stdout",
     "output_type": "stream",
     "text": [
      "Company marinoware is added to the graph.\n"
     ]
    },
    {
     "name": "stderr",
     "output_type": "stream",
     "text": [
      "  3%|▎         | 39/1386 [00:22<11:57,  1.88it/s]"
     ]
    },
    {
     "name": "stdout",
     "output_type": "stream",
     "text": [
      "Company nextera_energy_partners_lp is added to the graph.\n"
     ]
    },
    {
     "name": "stderr",
     "output_type": "stream",
     "text": [
      "  3%|▎         | 40/1386 [00:22<10:43,  2.09it/s]"
     ]
    },
    {
     "name": "stdout",
     "output_type": "stream",
     "text": [
      "Company jackson_mechanical is added to the graph.\n"
     ]
    },
    {
     "name": "stderr",
     "output_type": "stream",
     "text": [
      "  3%|▎         | 41/1386 [00:23<12:02,  1.86it/s]"
     ]
    },
    {
     "name": "stdout",
     "output_type": "stream",
     "text": [
      "Company hsbc is added to the graph.\n"
     ]
    },
    {
     "name": "stderr",
     "output_type": "stream",
     "text": [
      "  3%|▎         | 42/1386 [00:23<10:37,  2.11it/s]"
     ]
    },
    {
     "name": "stdout",
     "output_type": "stream",
     "text": [
      "Error: 'NoneType' object has no attribute 'append'\n"
     ]
    },
    {
     "name": "stderr",
     "output_type": "stream",
     "text": [
      "  3%|▎         | 43/1386 [00:24<13:23,  1.67it/s]"
     ]
    },
    {
     "name": "stdout",
     "output_type": "stream",
     "text": [
      "Company commission_junction is added to the graph.\n"
     ]
    },
    {
     "name": "stderr",
     "output_type": "stream",
     "text": [
      "  3%|▎         | 44/1386 [00:25<14:16,  1.57it/s]"
     ]
    },
    {
     "name": "stdout",
     "output_type": "stream",
     "text": [
      "Company burgis_&_bullock is added to the graph.\n"
     ]
    },
    {
     "name": "stderr",
     "output_type": "stream",
     "text": [
      "  3%|▎         | 45/1386 [00:25<12:29,  1.79it/s]"
     ]
    },
    {
     "name": "stdout",
     "output_type": "stream",
     "text": [
      "Company world_poker_tour is added to the graph.\n"
     ]
    },
    {
     "name": "stderr",
     "output_type": "stream",
     "text": [
      "  3%|▎         | 46/1386 [00:26<15:39,  1.43it/s]"
     ]
    },
    {
     "name": "stdout",
     "output_type": "stream",
     "text": [
      "Company bonsucro is added to the graph.\n"
     ]
    },
    {
     "name": "stderr",
     "output_type": "stream",
     "text": [
      "  3%|▎         | 47/1386 [00:27<14:18,  1.56it/s]"
     ]
    },
    {
     "name": "stdout",
     "output_type": "stream",
     "text": [
      "Company gehring_group is added to the graph.\n"
     ]
    },
    {
     "name": "stderr",
     "output_type": "stream",
     "text": [
      "  3%|▎         | 48/1386 [00:28<15:22,  1.45it/s]"
     ]
    },
    {
     "name": "stdout",
     "output_type": "stream",
     "text": [
      "Company braforme is added to the graph.\n"
     ]
    },
    {
     "name": "stderr",
     "output_type": "stream",
     "text": [
      "  4%|▎         | 49/1386 [00:28<13:46,  1.62it/s]"
     ]
    },
    {
     "name": "stdout",
     "output_type": "stream",
     "text": [
      "Company madison_realty_capital is added to the graph.\n"
     ]
    },
    {
     "name": "stderr",
     "output_type": "stream",
     "text": [
      "  4%|▎         | 50/1386 [00:29<12:44,  1.75it/s]"
     ]
    },
    {
     "name": "stdout",
     "output_type": "stream",
     "text": [
      "Company perq is added to the graph.\n"
     ]
    },
    {
     "name": "stderr",
     "output_type": "stream",
     "text": [
      "  4%|▎         | 51/1386 [00:29<11:55,  1.87it/s]"
     ]
    },
    {
     "name": "stdout",
     "output_type": "stream",
     "text": [
      "Company fuel_ventures is added to the graph.\n"
     ]
    },
    {
     "name": "stderr",
     "output_type": "stream",
     "text": [
      "  4%|▍         | 52/1386 [00:30<13:25,  1.66it/s]"
     ]
    },
    {
     "name": "stdout",
     "output_type": "stream",
     "text": [
      "Company countsy is added to the graph.\n"
     ]
    },
    {
     "name": "stderr",
     "output_type": "stream",
     "text": [
      "  4%|▍         | 53/1386 [00:30<12:24,  1.79it/s]"
     ]
    },
    {
     "name": "stdout",
     "output_type": "stream",
     "text": [
      "Company hawaiian_properties is added to the graph.\n"
     ]
    },
    {
     "name": "stderr",
     "output_type": "stream",
     "text": [
      "  4%|▍         | 54/1386 [00:31<12:14,  1.81it/s]"
     ]
    },
    {
     "name": "stdout",
     "output_type": "stream",
     "text": [
      "Company hylant is added to the graph.\n"
     ]
    },
    {
     "name": "stderr",
     "output_type": "stream",
     "text": [
      "  4%|▍         | 55/1386 [00:31<10:35,  2.10it/s]"
     ]
    },
    {
     "name": "stdout",
     "output_type": "stream",
     "text": [
      "Error: 'NoneType' object has no attribute 'append'\n"
     ]
    },
    {
     "name": "stderr",
     "output_type": "stream",
     "text": [
      "  4%|▍         | 56/1386 [00:31<09:55,  2.23it/s]"
     ]
    },
    {
     "name": "stdout",
     "output_type": "stream",
     "text": [
      "Company bagel_boy is added to the graph.\n"
     ]
    },
    {
     "name": "stderr",
     "output_type": "stream",
     "text": [
      "  4%|▍         | 57/1386 [00:32<12:56,  1.71it/s]"
     ]
    },
    {
     "name": "stdout",
     "output_type": "stream",
     "text": [
      "Company brevitas is added to the graph.\n"
     ]
    },
    {
     "name": "stderr",
     "output_type": "stream",
     "text": [
      "  4%|▍         | 58/1386 [00:33<14:02,  1.58it/s]"
     ]
    },
    {
     "name": "stdout",
     "output_type": "stream",
     "text": [
      "Company servicenow is added to the graph.\n"
     ]
    },
    {
     "name": "stderr",
     "output_type": "stream",
     "text": [
      "  4%|▍         | 59/1386 [00:33<12:47,  1.73it/s]"
     ]
    },
    {
     "name": "stdout",
     "output_type": "stream",
     "text": [
      "Company ancestry is added to the graph.\n"
     ]
    },
    {
     "name": "stderr",
     "output_type": "stream",
     "text": [
      "  4%|▍         | 60/1386 [00:34<11:58,  1.85it/s]"
     ]
    },
    {
     "name": "stdout",
     "output_type": "stream",
     "text": [
      "Company partnerize is added to the graph.\n"
     ]
    },
    {
     "name": "stderr",
     "output_type": "stream",
     "text": [
      "  4%|▍         | 61/1386 [00:34<10:53,  2.03it/s]"
     ]
    },
    {
     "name": "stdout",
     "output_type": "stream",
     "text": [
      "Company whitman_peterson is added to the graph.\n"
     ]
    },
    {
     "name": "stderr",
     "output_type": "stream",
     "text": [
      "  4%|▍         | 62/1386 [00:35<09:37,  2.29it/s]"
     ]
    },
    {
     "name": "stdout",
     "output_type": "stream",
     "text": [
      "Error: 'NoneType' object has no attribute 'append'\n"
     ]
    },
    {
     "name": "stderr",
     "output_type": "stream",
     "text": [
      "  5%|▍         | 63/1386 [00:35<09:06,  2.42it/s]"
     ]
    },
    {
     "name": "stdout",
     "output_type": "stream",
     "text": [
      "Company century_21 is added to the graph.\n"
     ]
    },
    {
     "name": "stderr",
     "output_type": "stream",
     "text": [
      "  5%|▍         | 64/1386 [00:35<08:48,  2.50it/s]"
     ]
    },
    {
     "name": "stdout",
     "output_type": "stream",
     "text": [
      "Company rakuten_advertising is added to the graph.\n"
     ]
    },
    {
     "name": "stderr",
     "output_type": "stream",
     "text": [
      "  5%|▍         | 65/1386 [00:36<12:23,  1.78it/s]"
     ]
    },
    {
     "name": "stdout",
     "output_type": "stream",
     "text": [
      "Company spacetech_analytics is added to the graph.\n"
     ]
    },
    {
     "name": "stderr",
     "output_type": "stream",
     "text": [
      "  5%|▍         | 66/1386 [00:37<11:17,  1.95it/s]"
     ]
    },
    {
     "name": "stdout",
     "output_type": "stream",
     "text": [
      "Error: 'NoneType' object has no attribute 'append'\n"
     ]
    },
    {
     "name": "stderr",
     "output_type": "stream",
     "text": [
      "  5%|▍         | 67/1386 [00:37<10:34,  2.08it/s]"
     ]
    },
    {
     "name": "stdout",
     "output_type": "stream",
     "text": [
      "Company guidepoint is added to the graph.\n"
     ]
    },
    {
     "name": "stderr",
     "output_type": "stream",
     "text": [
      "  5%|▍         | 68/1386 [00:37<09:21,  2.35it/s]"
     ]
    },
    {
     "name": "stdout",
     "output_type": "stream",
     "text": [
      "Error: 'NoneType' object has no attribute 'append'\n"
     ]
    },
    {
     "name": "stderr",
     "output_type": "stream",
     "text": [
      "  5%|▍         | 69/1386 [00:38<08:42,  2.52it/s]"
     ]
    },
    {
     "name": "stdout",
     "output_type": "stream",
     "text": [
      "Error: 'NoneType' object has no attribute 'append'\n"
     ]
    },
    {
     "name": "stderr",
     "output_type": "stream",
     "text": [
      "  5%|▌         | 70/1386 [00:38<09:25,  2.33it/s]"
     ]
    },
    {
     "name": "stdout",
     "output_type": "stream",
     "text": [
      "Company concord_hotels is added to the graph.\n"
     ]
    },
    {
     "name": "stderr",
     "output_type": "stream",
     "text": [
      "  5%|▌         | 71/1386 [00:39<11:14,  1.95it/s]"
     ]
    },
    {
     "name": "stdout",
     "output_type": "stream",
     "text": [
      "Company lockheed_martin is added to the graph.\n"
     ]
    },
    {
     "name": "stderr",
     "output_type": "stream",
     "text": [
      "  5%|▌         | 72/1386 [00:40<12:11,  1.80it/s]"
     ]
    },
    {
     "name": "stdout",
     "output_type": "stream",
     "text": [
      "Company packhelp is added to the graph.\n"
     ]
    },
    {
     "name": "stderr",
     "output_type": "stream",
     "text": [
      "  5%|▌         | 73/1386 [00:40<11:30,  1.90it/s]"
     ]
    },
    {
     "name": "stdout",
     "output_type": "stream",
     "text": [
      "Company gsk is added to the graph.\n"
     ]
    },
    {
     "name": "stderr",
     "output_type": "stream",
     "text": [
      "  5%|▌         | 74/1386 [00:40<10:02,  2.18it/s]"
     ]
    },
    {
     "name": "stdout",
     "output_type": "stream",
     "text": [
      "Error: 'NoneType' object has no attribute 'append'\n"
     ]
    },
    {
     "name": "stderr",
     "output_type": "stream",
     "text": [
      "  5%|▌         | 75/1386 [00:41<09:56,  2.20it/s]"
     ]
    },
    {
     "name": "stdout",
     "output_type": "stream",
     "text": [
      "Company sunwest_bank is added to the graph.\n"
     ]
    },
    {
     "name": "stderr",
     "output_type": "stream",
     "text": [
      "  5%|▌         | 76/1386 [00:41<09:23,  2.33it/s]"
     ]
    },
    {
     "name": "stdout",
     "output_type": "stream",
     "text": [
      "Company beautylish is added to the graph.\n"
     ]
    },
    {
     "name": "stderr",
     "output_type": "stream",
     "text": [
      "  6%|▌         | 77/1386 [00:42<10:13,  2.13it/s]"
     ]
    },
    {
     "name": "stdout",
     "output_type": "stream",
     "text": [
      "Company halifax is added to the graph.\n"
     ]
    },
    {
     "name": "stderr",
     "output_type": "stream",
     "text": [
      "  6%|▌         | 78/1386 [00:42<09:30,  2.29it/s]"
     ]
    },
    {
     "name": "stdout",
     "output_type": "stream",
     "text": [
      "Company ming_moon is added to the graph.\n"
     ]
    },
    {
     "name": "stderr",
     "output_type": "stream",
     "text": [
      "  6%|▌         | 79/1386 [00:43<10:24,  2.09it/s]"
     ]
    },
    {
     "name": "stdout",
     "output_type": "stream",
     "text": [
      "Company arup is added to the graph.\n"
     ]
    },
    {
     "name": "stderr",
     "output_type": "stream",
     "text": [
      "  6%|▌         | 80/1386 [00:43<10:44,  2.03it/s]"
     ]
    },
    {
     "name": "stdout",
     "output_type": "stream",
     "text": [
      "Company north_star_mutual is added to the graph.\n"
     ]
    },
    {
     "name": "stderr",
     "output_type": "stream",
     "text": [
      "  6%|▌         | 81/1386 [00:45<17:03,  1.28it/s]"
     ]
    },
    {
     "name": "stdout",
     "output_type": "stream",
     "text": [
      "Company rokt is added to the graph.\n"
     ]
    },
    {
     "name": "stderr",
     "output_type": "stream",
     "text": [
      "  6%|▌         | 82/1386 [00:45<15:45,  1.38it/s]"
     ]
    },
    {
     "name": "stdout",
     "output_type": "stream",
     "text": [
      "Company maze is added to the graph.\n"
     ]
    },
    {
     "name": "stderr",
     "output_type": "stream",
     "text": [
      "  6%|▌         | 83/1386 [00:46<14:07,  1.54it/s]"
     ]
    },
    {
     "name": "stdout",
     "output_type": "stream",
     "text": [
      "Company the_coconut_cult is added to the graph.\n"
     ]
    },
    {
     "name": "stderr",
     "output_type": "stream",
     "text": [
      "  6%|▌         | 84/1386 [00:46<12:28,  1.74it/s]"
     ]
    },
    {
     "name": "stdout",
     "output_type": "stream",
     "text": [
      "Company hanover is added to the graph.\n"
     ]
    },
    {
     "name": "stderr",
     "output_type": "stream",
     "text": [
      "  6%|▌         | 85/1386 [00:46<10:55,  1.99it/s]"
     ]
    },
    {
     "name": "stdout",
     "output_type": "stream",
     "text": [
      "Error: 'NoneType' object has no attribute 'append'\n"
     ]
    },
    {
     "name": "stderr",
     "output_type": "stream",
     "text": [
      "  6%|▌         | 86/1386 [00:47<11:30,  1.88it/s]"
     ]
    },
    {
     "name": "stdout",
     "output_type": "stream",
     "text": [
      "Company fortress_investment_group is added to the graph.\n"
     ]
    },
    {
     "name": "stderr",
     "output_type": "stream",
     "text": [
      "  6%|▋         | 87/1386 [00:48<11:10,  1.94it/s]"
     ]
    },
    {
     "name": "stdout",
     "output_type": "stream",
     "text": [
      "Company benchmark_community_bank is added to the graph.\n"
     ]
    },
    {
     "name": "stderr",
     "output_type": "stream",
     "text": [
      "  6%|▋         | 88/1386 [00:48<12:03,  1.79it/s]"
     ]
    },
    {
     "name": "stdout",
     "output_type": "stream",
     "text": [
      "Company insurity is added to the graph.\n"
     ]
    },
    {
     "name": "stderr",
     "output_type": "stream",
     "text": [
      "  6%|▋         | 89/1386 [00:49<11:00,  1.96it/s]"
     ]
    },
    {
     "name": "stdout",
     "output_type": "stream",
     "text": [
      "Company thriva is added to the graph.\n"
     ]
    },
    {
     "name": "stderr",
     "output_type": "stream",
     "text": [
      "  6%|▋         | 90/1386 [00:49<10:04,  2.14it/s]"
     ]
    },
    {
     "name": "stdout",
     "output_type": "stream",
     "text": [
      "Company high_caliber_homes is added to the graph.\n"
     ]
    },
    {
     "name": "stderr",
     "output_type": "stream",
     "text": [
      "  7%|▋         | 91/1386 [00:50<11:07,  1.94it/s]"
     ]
    },
    {
     "name": "stdout",
     "output_type": "stream",
     "text": [
      "Company mckesson is added to the graph.\n"
     ]
    },
    {
     "name": "stderr",
     "output_type": "stream",
     "text": [
      "  7%|▋         | 92/1386 [00:50<10:36,  2.03it/s]"
     ]
    },
    {
     "name": "stdout",
     "output_type": "stream",
     "text": [
      "Company lexisnexis is added to the graph.\n"
     ]
    },
    {
     "name": "stderr",
     "output_type": "stream",
     "text": [
      "  7%|▋         | 93/1386 [00:51<10:43,  2.01it/s]"
     ]
    },
    {
     "name": "stdout",
     "output_type": "stream",
     "text": [
      "Company factored is added to the graph.\n"
     ]
    },
    {
     "name": "stderr",
     "output_type": "stream",
     "text": [
      "  7%|▋         | 94/1386 [00:51<09:51,  2.19it/s]"
     ]
    },
    {
     "name": "stdout",
     "output_type": "stream",
     "text": [
      "Company haatch is added to the graph.\n"
     ]
    },
    {
     "name": "stderr",
     "output_type": "stream",
     "text": [
      "  7%|▋         | 95/1386 [00:51<09:27,  2.28it/s]"
     ]
    },
    {
     "name": "stdout",
     "output_type": "stream",
     "text": [
      "Company kauai_exclusive is added to the graph.\n"
     ]
    },
    {
     "name": "stderr",
     "output_type": "stream",
     "text": [
      "  7%|▋         | 96/1386 [00:52<09:45,  2.20it/s]"
     ]
    },
    {
     "name": "stdout",
     "output_type": "stream",
     "text": [
      "Company ebury is added to the graph.\n"
     ]
    },
    {
     "name": "stderr",
     "output_type": "stream",
     "text": [
      "  7%|▋         | 97/1386 [00:52<10:02,  2.14it/s]"
     ]
    },
    {
     "name": "stdout",
     "output_type": "stream",
     "text": [
      "Company thimble is added to the graph.\n"
     ]
    },
    {
     "name": "stderr",
     "output_type": "stream",
     "text": [
      "  7%|▋         | 98/1386 [00:53<12:19,  1.74it/s]"
     ]
    },
    {
     "name": "stdout",
     "output_type": "stream",
     "text": [
      "Company reuben_brothers is added to the graph.\n"
     ]
    },
    {
     "name": "stderr",
     "output_type": "stream",
     "text": [
      "  7%|▋         | 99/1386 [00:54<12:30,  1.72it/s]"
     ]
    },
    {
     "name": "stdout",
     "output_type": "stream",
     "text": [
      "Company partners_life is added to the graph.\n"
     ]
    },
    {
     "name": "stderr",
     "output_type": "stream",
     "text": [
      "  7%|▋         | 100/1386 [00:54<11:20,  1.89it/s]"
     ]
    },
    {
     "name": "stdout",
     "output_type": "stream",
     "text": [
      "Company departure_lounge is added to the graph.\n"
     ]
    },
    {
     "name": "stderr",
     "output_type": "stream",
     "text": [
      "  7%|▋         | 101/1386 [00:55<10:58,  1.95it/s]"
     ]
    },
    {
     "name": "stdout",
     "output_type": "stream",
     "text": [
      "Company draft_kings is added to the graph.\n"
     ]
    },
    {
     "name": "stderr",
     "output_type": "stream",
     "text": [
      "  7%|▋         | 102/1386 [00:55<09:38,  2.22it/s]"
     ]
    },
    {
     "name": "stdout",
     "output_type": "stream",
     "text": [
      "Error: 'NoneType' object has no attribute 'append'\n"
     ]
    },
    {
     "name": "stderr",
     "output_type": "stream",
     "text": [
      "  7%|▋         | 103/1386 [00:55<09:41,  2.21it/s]"
     ]
    },
    {
     "name": "stdout",
     "output_type": "stream",
     "text": [
      "Company conner_insurance_group is added to the graph.\n"
     ]
    },
    {
     "name": "stderr",
     "output_type": "stream",
     "text": [
      "  8%|▊         | 104/1386 [00:56<09:21,  2.28it/s]"
     ]
    },
    {
     "name": "stdout",
     "output_type": "stream",
     "text": [
      "Company pachama is added to the graph.\n"
     ]
    },
    {
     "name": "stderr",
     "output_type": "stream",
     "text": [
      "  8%|▊         | 105/1386 [00:56<10:20,  2.07it/s]"
     ]
    },
    {
     "name": "stdout",
     "output_type": "stream",
     "text": [
      "Company faherty is added to the graph.\n"
     ]
    },
    {
     "name": "stderr",
     "output_type": "stream",
     "text": [
      "  8%|▊         | 106/1386 [00:58<15:16,  1.40it/s]"
     ]
    },
    {
     "name": "stdout",
     "output_type": "stream",
     "text": [
      "Company readyplayer_me is added to the graph.\n"
     ]
    },
    {
     "name": "stderr",
     "output_type": "stream",
     "text": [
      "  8%|▊         | 107/1386 [00:58<14:40,  1.45it/s]"
     ]
    },
    {
     "name": "stdout",
     "output_type": "stream",
     "text": [
      "Company 1863_ventures is added to the graph.\n"
     ]
    },
    {
     "name": "stderr",
     "output_type": "stream",
     "text": [
      "  8%|▊         | 108/1386 [00:59<14:07,  1.51it/s]"
     ]
    },
    {
     "name": "stdout",
     "output_type": "stream",
     "text": [
      "Company pc_bennett_solutions is added to the graph.\n"
     ]
    },
    {
     "name": "stderr",
     "output_type": "stream",
     "text": [
      "  8%|▊         | 109/1386 [00:59<13:01,  1.63it/s]"
     ]
    },
    {
     "name": "stdout",
     "output_type": "stream",
     "text": [
      "Company international_carwash_association is added to the graph.\n"
     ]
    },
    {
     "name": "stderr",
     "output_type": "stream",
     "text": [
      "  8%|▊         | 110/1386 [01:00<11:22,  1.87it/s]"
     ]
    },
    {
     "name": "stdout",
     "output_type": "stream",
     "text": [
      "Company mile_auto is added to the graph.\n"
     ]
    },
    {
     "name": "stderr",
     "output_type": "stream",
     "text": [
      "  8%|▊         | 111/1386 [01:00<12:21,  1.72it/s]"
     ]
    },
    {
     "name": "stdout",
     "output_type": "stream",
     "text": [
      "Company catholic_charities_usa is added to the graph.\n"
     ]
    },
    {
     "name": "stderr",
     "output_type": "stream",
     "text": [
      "  8%|▊         | 112/1386 [01:01<10:37,  2.00it/s]"
     ]
    },
    {
     "name": "stdout",
     "output_type": "stream",
     "text": [
      "Error: 'NoneType' object has no attribute 'append'\n"
     ]
    },
    {
     "name": "stderr",
     "output_type": "stream",
     "text": [
      "  8%|▊         | 113/1386 [01:01<10:10,  2.09it/s]"
     ]
    },
    {
     "name": "stdout",
     "output_type": "stream",
     "text": [
      "Company agrifinancial is added to the graph.\n"
     ]
    },
    {
     "name": "stderr",
     "output_type": "stream",
     "text": [
      "  8%|▊         | 114/1386 [01:02<09:41,  2.19it/s]"
     ]
    },
    {
     "name": "stdout",
     "output_type": "stream",
     "text": [
      "Company ivory_planning_group is added to the graph.\n"
     ]
    },
    {
     "name": "stderr",
     "output_type": "stream",
     "text": [
      "  8%|▊         | 115/1386 [01:02<09:33,  2.22it/s]"
     ]
    },
    {
     "name": "stdout",
     "output_type": "stream",
     "text": [
      "Company hma_tax is added to the graph.\n"
     ]
    },
    {
     "name": "stderr",
     "output_type": "stream",
     "text": [
      "  8%|▊         | 116/1386 [01:02<09:10,  2.31it/s]"
     ]
    },
    {
     "name": "stdout",
     "output_type": "stream",
     "text": [
      "Company better_homes_and_gardens_real_estate_fine_living is added to the graph.\n"
     ]
    },
    {
     "name": "stderr",
     "output_type": "stream",
     "text": [
      "  8%|▊         | 117/1386 [01:03<13:16,  1.59it/s]"
     ]
    },
    {
     "name": "stdout",
     "output_type": "stream",
     "text": [
      "Company hostaway is added to the graph.\n"
     ]
    },
    {
     "name": "stderr",
     "output_type": "stream",
     "text": [
      "  9%|▊         | 118/1386 [01:04<14:32,  1.45it/s]"
     ]
    },
    {
     "name": "stdout",
     "output_type": "stream",
     "text": [
      "Company instabase is added to the graph.\n"
     ]
    },
    {
     "name": "stderr",
     "output_type": "stream",
     "text": [
      "  9%|▊         | 119/1386 [01:05<13:12,  1.60it/s]"
     ]
    },
    {
     "name": "stdout",
     "output_type": "stream",
     "text": [
      "Company velosure is added to the graph.\n"
     ]
    },
    {
     "name": "stderr",
     "output_type": "stream",
     "text": [
      "  9%|▊         | 120/1386 [01:06<14:30,  1.45it/s]"
     ]
    },
    {
     "name": "stdout",
     "output_type": "stream",
     "text": [
      "Company klarna is added to the graph.\n"
     ]
    },
    {
     "name": "stderr",
     "output_type": "stream",
     "text": [
      "  9%|▊         | 121/1386 [01:06<14:04,  1.50it/s]"
     ]
    },
    {
     "name": "stdout",
     "output_type": "stream",
     "text": [
      "Company manime is added to the graph.\n"
     ]
    },
    {
     "name": "stderr",
     "output_type": "stream",
     "text": [
      "  9%|▉         | 122/1386 [01:07<12:28,  1.69it/s]"
     ]
    },
    {
     "name": "stdout",
     "output_type": "stream",
     "text": [
      "Company inforeach is added to the graph.\n"
     ]
    },
    {
     "name": "stderr",
     "output_type": "stream",
     "text": [
      "  9%|▉         | 123/1386 [01:07<13:46,  1.53it/s]"
     ]
    },
    {
     "name": "stdout",
     "output_type": "stream",
     "text": [
      "Company vertafore is added to the graph.\n"
     ]
    },
    {
     "name": "stderr",
     "output_type": "stream",
     "text": [
      "  9%|▉         | 124/1386 [01:08<13:37,  1.54it/s]"
     ]
    },
    {
     "name": "stdout",
     "output_type": "stream",
     "text": [
      "Company forecast is added to the graph.\n"
     ]
    },
    {
     "name": "stderr",
     "output_type": "stream",
     "text": [
      "  9%|▉         | 125/1386 [01:09<12:41,  1.66it/s]"
     ]
    },
    {
     "name": "stdout",
     "output_type": "stream",
     "text": [
      "Company uprite is added to the graph.\n"
     ]
    },
    {
     "name": "stderr",
     "output_type": "stream",
     "text": [
      "  9%|▉         | 126/1386 [01:09<11:35,  1.81it/s]"
     ]
    },
    {
     "name": "stdout",
     "output_type": "stream",
     "text": [
      "Company canopius is added to the graph.\n"
     ]
    },
    {
     "name": "stderr",
     "output_type": "stream",
     "text": [
      "  9%|▉         | 127/1386 [01:10<11:50,  1.77it/s]"
     ]
    },
    {
     "name": "stdout",
     "output_type": "stream",
     "text": [
      "Company vantage_data_centers is added to the graph.\n"
     ]
    },
    {
     "name": "stderr",
     "output_type": "stream",
     "text": [
      "  9%|▉         | 128/1386 [01:10<10:33,  1.98it/s]"
     ]
    },
    {
     "name": "stdout",
     "output_type": "stream",
     "text": [
      "Company derosa_group is added to the graph.\n"
     ]
    },
    {
     "name": "stderr",
     "output_type": "stream",
     "text": [
      "  9%|▉         | 129/1386 [01:10<09:39,  2.17it/s]"
     ]
    },
    {
     "name": "stdout",
     "output_type": "stream",
     "text": [
      "Company trim_it is added to the graph.\n"
     ]
    },
    {
     "name": "stderr",
     "output_type": "stream",
     "text": [
      "  9%|▉         | 130/1386 [01:11<09:38,  2.17it/s]"
     ]
    },
    {
     "name": "stdout",
     "output_type": "stream",
     "text": [
      "Company talbots_law is added to the graph.\n"
     ]
    },
    {
     "name": "stderr",
     "output_type": "stream",
     "text": [
      "  9%|▉         | 131/1386 [01:11<09:52,  2.12it/s]"
     ]
    },
    {
     "name": "stdout",
     "output_type": "stream",
     "text": [
      "Company interpretek is added to the graph.\n"
     ]
    },
    {
     "name": "stderr",
     "output_type": "stream",
     "text": [
      " 10%|▉         | 132/1386 [01:12<11:02,  1.89it/s]"
     ]
    },
    {
     "name": "stdout",
     "output_type": "stream",
     "text": [
      "Company hsa_bank is added to the graph.\n"
     ]
    },
    {
     "name": "stderr",
     "output_type": "stream",
     "text": [
      " 10%|▉         | 133/1386 [01:13<12:00,  1.74it/s]"
     ]
    },
    {
     "name": "stdout",
     "output_type": "stream",
     "text": [
      "Company vower is added to the graph.\n"
     ]
    },
    {
     "name": "stderr",
     "output_type": "stream",
     "text": [
      " 10%|▉         | 134/1386 [01:13<11:45,  1.78it/s]"
     ]
    },
    {
     "name": "stdout",
     "output_type": "stream",
     "text": [
      "Company rathbones is added to the graph.\n"
     ]
    },
    {
     "name": "stderr",
     "output_type": "stream",
     "text": [
      " 10%|▉         | 135/1386 [01:13<10:32,  1.98it/s]"
     ]
    },
    {
     "name": "stdout",
     "output_type": "stream",
     "text": [
      "Company ruby_porch is added to the graph.\n"
     ]
    },
    {
     "name": "stderr",
     "output_type": "stream",
     "text": [
      " 10%|▉         | 136/1386 [01:14<09:39,  2.16it/s]"
     ]
    },
    {
     "name": "stdout",
     "output_type": "stream",
     "text": [
      "Company aave is added to the graph.\n"
     ]
    },
    {
     "name": "stderr",
     "output_type": "stream",
     "text": [
      " 10%|▉         | 137/1386 [01:14<08:38,  2.41it/s]"
     ]
    },
    {
     "name": "stdout",
     "output_type": "stream",
     "text": [
      "Error: 'NoneType' object has no attribute 'append'\n"
     ]
    },
    {
     "name": "stderr",
     "output_type": "stream",
     "text": [
      " 10%|▉         | 138/1386 [01:15<08:49,  2.36it/s]"
     ]
    },
    {
     "name": "stdout",
     "output_type": "stream",
     "text": [
      "Company propell_ai is added to the graph.\n"
     ]
    },
    {
     "name": "stderr",
     "output_type": "stream",
     "text": [
      " 10%|█         | 139/1386 [01:15<09:26,  2.20it/s]"
     ]
    },
    {
     "name": "stdout",
     "output_type": "stream",
     "text": [
      "Company age_partnership is added to the graph.\n"
     ]
    },
    {
     "name": "stderr",
     "output_type": "stream",
     "text": [
      " 10%|█         | 140/1386 [01:16<10:25,  1.99it/s]"
     ]
    },
    {
     "name": "stdout",
     "output_type": "stream",
     "text": [
      "Company truework is added to the graph.\n"
     ]
    },
    {
     "name": "stderr",
     "output_type": "stream",
     "text": [
      " 10%|█         | 141/1386 [01:16<09:11,  2.26it/s]"
     ]
    },
    {
     "name": "stdout",
     "output_type": "stream",
     "text": [
      "Error: 'NoneType' object has no attribute 'append'\n"
     ]
    },
    {
     "name": "stderr",
     "output_type": "stream",
     "text": [
      " 10%|█         | 142/1386 [01:16<08:57,  2.32it/s]"
     ]
    },
    {
     "name": "stdout",
     "output_type": "stream",
     "text": [
      "Company wereldhave is added to the graph.\n"
     ]
    },
    {
     "name": "stderr",
     "output_type": "stream",
     "text": [
      " 10%|█         | 143/1386 [01:17<09:18,  2.23it/s]"
     ]
    },
    {
     "name": "stdout",
     "output_type": "stream",
     "text": [
      "Company united_bank is added to the graph.\n"
     ]
    },
    {
     "name": "stderr",
     "output_type": "stream",
     "text": [
      " 10%|█         | 144/1386 [01:17<08:44,  2.37it/s]"
     ]
    },
    {
     "name": "stdout",
     "output_type": "stream",
     "text": [
      "Company massarossa_luxury_homes is added to the graph.\n"
     ]
    },
    {
     "name": "stderr",
     "output_type": "stream",
     "text": [
      " 10%|█         | 145/1386 [01:18<09:19,  2.22it/s]"
     ]
    },
    {
     "name": "stdout",
     "output_type": "stream",
     "text": [
      "Company techstars is added to the graph.\n"
     ]
    },
    {
     "name": "stderr",
     "output_type": "stream",
     "text": [
      " 11%|█         | 146/1386 [01:18<08:48,  2.35it/s]"
     ]
    },
    {
     "name": "stdout",
     "output_type": "stream",
     "text": [
      "Company swyfft is added to the graph.\n"
     ]
    },
    {
     "name": "stderr",
     "output_type": "stream",
     "text": [
      " 11%|█         | 147/1386 [01:19<10:16,  2.01it/s]"
     ]
    },
    {
     "name": "stdout",
     "output_type": "stream",
     "text": [
      "Company cuna_mutual_group is added to the graph.\n"
     ]
    },
    {
     "name": "stderr",
     "output_type": "stream",
     "text": [
      " 11%|█         | 148/1386 [01:19<11:08,  1.85it/s]"
     ]
    },
    {
     "name": "stdout",
     "output_type": "stream",
     "text": [
      "Company so_avant_garde is added to the graph.\n"
     ]
    },
    {
     "name": "stderr",
     "output_type": "stream",
     "text": [
      " 11%|█         | 149/1386 [01:20<11:52,  1.74it/s]"
     ]
    },
    {
     "name": "stdout",
     "output_type": "stream",
     "text": [
      "Company payouts_network is added to the graph.\n"
     ]
    },
    {
     "name": "stderr",
     "output_type": "stream",
     "text": [
      " 11%|█         | 150/1386 [01:21<13:36,  1.51it/s]"
     ]
    },
    {
     "name": "stdout",
     "output_type": "stream",
     "text": [
      "Company spark_real_estate is added to the graph.\n"
     ]
    },
    {
     "name": "stderr",
     "output_type": "stream",
     "text": [
      " 11%|█         | 151/1386 [01:22<12:52,  1.60it/s]"
     ]
    },
    {
     "name": "stdout",
     "output_type": "stream",
     "text": [
      "Company dynamic_systems_inc_ is added to the graph.\n"
     ]
    },
    {
     "name": "stderr",
     "output_type": "stream",
     "text": [
      " 11%|█         | 152/1386 [01:22<14:08,  1.45it/s]"
     ]
    },
    {
     "name": "stdout",
     "output_type": "stream",
     "text": [
      "Company solactive is added to the graph.\n"
     ]
    },
    {
     "name": "stderr",
     "output_type": "stream",
     "text": [
      " 11%|█         | 153/1386 [01:23<12:43,  1.61it/s]"
     ]
    },
    {
     "name": "stdout",
     "output_type": "stream",
     "text": [
      "Company coindesk_indices is added to the graph.\n"
     ]
    },
    {
     "name": "stderr",
     "output_type": "stream",
     "text": [
      " 11%|█         | 154/1386 [01:23<11:51,  1.73it/s]"
     ]
    },
    {
     "name": "stdout",
     "output_type": "stream",
     "text": [
      "Company ifm_investors is added to the graph.\n"
     ]
    },
    {
     "name": "stderr",
     "output_type": "stream",
     "text": [
      " 11%|█         | 155/1386 [01:24<12:33,  1.63it/s]"
     ]
    },
    {
     "name": "stdout",
     "output_type": "stream",
     "text": [
      "Company jobtread is added to the graph.\n"
     ]
    },
    {
     "name": "stderr",
     "output_type": "stream",
     "text": [
      " 11%|█▏        | 156/1386 [01:24<11:14,  1.82it/s]"
     ]
    },
    {
     "name": "stdout",
     "output_type": "stream",
     "text": [
      "Company comply_advantage is added to the graph.\n"
     ]
    },
    {
     "name": "stderr",
     "output_type": "stream",
     "text": [
      " 11%|█▏        | 157/1386 [01:25<12:07,  1.69it/s]"
     ]
    },
    {
     "name": "stdout",
     "output_type": "stream",
     "text": [
      "Company morganfranklin is added to the graph.\n"
     ]
    },
    {
     "name": "stderr",
     "output_type": "stream",
     "text": [
      " 11%|█▏        | 158/1386 [01:26<11:27,  1.79it/s]"
     ]
    },
    {
     "name": "stdout",
     "output_type": "stream",
     "text": [
      "Company leaselock is added to the graph.\n"
     ]
    },
    {
     "name": "stderr",
     "output_type": "stream",
     "text": [
      " 11%|█▏        | 159/1386 [01:26<11:57,  1.71it/s]"
     ]
    },
    {
     "name": "stdout",
     "output_type": "stream",
     "text": [
      "Company national_mortgage_insurance is added to the graph.\n"
     ]
    },
    {
     "name": "stderr",
     "output_type": "stream",
     "text": [
      " 12%|█▏        | 160/1386 [01:27<12:28,  1.64it/s]"
     ]
    },
    {
     "name": "stdout",
     "output_type": "stream",
     "text": [
      "Company eko_india is added to the graph.\n"
     ]
    },
    {
     "name": "stderr",
     "output_type": "stream",
     "text": [
      " 12%|█▏        | 161/1386 [01:27<12:00,  1.70it/s]"
     ]
    },
    {
     "name": "stdout",
     "output_type": "stream",
     "text": [
      "Company fd_works is added to the graph.\n"
     ]
    },
    {
     "name": "stderr",
     "output_type": "stream",
     "text": [
      " 12%|█▏        | 162/1386 [01:28<11:20,  1.80it/s]"
     ]
    },
    {
     "name": "stdout",
     "output_type": "stream",
     "text": [
      "Company issta is added to the graph.\n"
     ]
    },
    {
     "name": "stderr",
     "output_type": "stream",
     "text": [
      " 12%|█▏        | 163/1386 [01:28<10:34,  1.93it/s]"
     ]
    },
    {
     "name": "stdout",
     "output_type": "stream",
     "text": [
      "Company webgains is added to the graph.\n"
     ]
    },
    {
     "name": "stderr",
     "output_type": "stream",
     "text": [
      " 12%|█▏        | 164/1386 [01:29<09:50,  2.07it/s]"
     ]
    },
    {
     "name": "stdout",
     "output_type": "stream",
     "text": [
      "Company first_connect is added to the graph.\n"
     ]
    },
    {
     "name": "stderr",
     "output_type": "stream",
     "text": [
      " 12%|█▏        | 165/1386 [01:29<10:21,  1.96it/s]"
     ]
    },
    {
     "name": "stdout",
     "output_type": "stream",
     "text": [
      "Company tyson_foods is added to the graph.\n"
     ]
    },
    {
     "name": "stderr",
     "output_type": "stream",
     "text": [
      " 12%|█▏        | 166/1386 [01:30<12:46,  1.59it/s]"
     ]
    },
    {
     "name": "stdout",
     "output_type": "stream",
     "text": [
      "Company anyone_home is added to the graph.\n"
     ]
    },
    {
     "name": "stderr",
     "output_type": "stream",
     "text": [
      " 12%|█▏        | 167/1386 [01:31<11:29,  1.77it/s]"
     ]
    },
    {
     "name": "stdout",
     "output_type": "stream",
     "text": [
      "Company currey_&_company is added to the graph.\n"
     ]
    },
    {
     "name": "stderr",
     "output_type": "stream",
     "text": [
      " 12%|█▏        | 168/1386 [01:31<11:55,  1.70it/s]"
     ]
    },
    {
     "name": "stdout",
     "output_type": "stream",
     "text": [
      "Company lexisnexis_risk_solutions is added to the graph.\n"
     ]
    },
    {
     "name": "stderr",
     "output_type": "stream",
     "text": [
      " 12%|█▏        | 169/1386 [01:32<11:59,  1.69it/s]"
     ]
    },
    {
     "name": "stdout",
     "output_type": "stream",
     "text": [
      "Company brightspire_capital is added to the graph.\n"
     ]
    },
    {
     "name": "stderr",
     "output_type": "stream",
     "text": [
      " 12%|█▏        | 170/1386 [01:32<10:42,  1.89it/s]"
     ]
    },
    {
     "name": "stdout",
     "output_type": "stream",
     "text": [
      "Company electri_international is added to the graph.\n"
     ]
    },
    {
     "name": "stderr",
     "output_type": "stream",
     "text": [
      " 12%|█▏        | 171/1386 [01:33<09:19,  2.17it/s]"
     ]
    },
    {
     "name": "stdout",
     "output_type": "stream",
     "text": [
      "Error: 'NoneType' object has no attribute 'append'\n"
     ]
    },
    {
     "name": "stderr",
     "output_type": "stream",
     "text": [
      " 12%|█▏        | 172/1386 [01:33<09:32,  2.12it/s]"
     ]
    },
    {
     "name": "stdout",
     "output_type": "stream",
     "text": [
      "Company pirate_com is added to the graph.\n"
     ]
    },
    {
     "name": "stderr",
     "output_type": "stream",
     "text": [
      " 12%|█▏        | 173/1386 [01:33<08:43,  2.32it/s]"
     ]
    },
    {
     "name": "stdout",
     "output_type": "stream",
     "text": [
      "Error: 'NoneType' object has no attribute 'append'\n"
     ]
    },
    {
     "name": "stderr",
     "output_type": "stream",
     "text": [
      " 13%|█▎        | 174/1386 [01:34<09:21,  2.16it/s]"
     ]
    },
    {
     "name": "stdout",
     "output_type": "stream",
     "text": [
      "Company beacon_capital_partners is added to the graph.\n"
     ]
    },
    {
     "name": "stderr",
     "output_type": "stream",
     "text": [
      " 13%|█▎        | 175/1386 [01:34<08:30,  2.37it/s]"
     ]
    },
    {
     "name": "stdout",
     "output_type": "stream",
     "text": [
      "Error: 'NoneType' object has no attribute 'append'\n"
     ]
    },
    {
     "name": "stderr",
     "output_type": "stream",
     "text": [
      " 13%|█▎        | 176/1386 [01:35<09:38,  2.09it/s]"
     ]
    },
    {
     "name": "stdout",
     "output_type": "stream",
     "text": [
      "Company live_luxe is added to the graph.\n"
     ]
    },
    {
     "name": "stderr",
     "output_type": "stream",
     "text": [
      " 13%|█▎        | 177/1386 [01:36<10:35,  1.90it/s]"
     ]
    },
    {
     "name": "stdout",
     "output_type": "stream",
     "text": [
      "Company citigroup is added to the graph.\n"
     ]
    },
    {
     "name": "stderr",
     "output_type": "stream",
     "text": [
      " 13%|█▎        | 178/1386 [01:36<10:24,  1.93it/s]"
     ]
    },
    {
     "name": "stdout",
     "output_type": "stream",
     "text": [
      "Company crown_realty_partners is added to the graph.\n"
     ]
    },
    {
     "name": "stderr",
     "output_type": "stream",
     "text": [
      " 13%|█▎        | 179/1386 [01:37<10:54,  1.84it/s]"
     ]
    },
    {
     "name": "stdout",
     "output_type": "stream",
     "text": [
      "Company haiilo is added to the graph.\n"
     ]
    },
    {
     "name": "stderr",
     "output_type": "stream",
     "text": [
      " 13%|█▎        | 180/1386 [01:37<11:27,  1.75it/s]"
     ]
    },
    {
     "name": "stdout",
     "output_type": "stream",
     "text": [
      "Company walgreens is added to the graph.\n"
     ]
    },
    {
     "name": "stderr",
     "output_type": "stream",
     "text": [
      " 13%|█▎        | 181/1386 [01:38<10:45,  1.87it/s]"
     ]
    },
    {
     "name": "stdout",
     "output_type": "stream",
     "text": [
      "Company cabo_rentals_by_jane is added to the graph.\n"
     ]
    },
    {
     "name": "stderr",
     "output_type": "stream",
     "text": [
      " 13%|█▎        | 182/1386 [01:38<10:38,  1.89it/s]"
     ]
    },
    {
     "name": "stdout",
     "output_type": "stream",
     "text": [
      "Company mapfre is added to the graph.\n"
     ]
    },
    {
     "name": "stderr",
     "output_type": "stream",
     "text": [
      " 13%|█▎        | 183/1386 [01:39<10:30,  1.91it/s]"
     ]
    },
    {
     "name": "stdout",
     "output_type": "stream",
     "text": [
      "Company ecogy_energy is added to the graph.\n"
     ]
    },
    {
     "name": "stderr",
     "output_type": "stream",
     "text": [
      " 13%|█▎        | 184/1386 [01:39<10:21,  1.93it/s]"
     ]
    },
    {
     "name": "stdout",
     "output_type": "stream",
     "text": [
      "Company massageluxe is added to the graph.\n"
     ]
    },
    {
     "name": "stderr",
     "output_type": "stream",
     "text": [
      " 13%|█▎        | 185/1386 [01:40<09:40,  2.07it/s]"
     ]
    },
    {
     "name": "stdout",
     "output_type": "stream",
     "text": [
      "Company baoziinn is added to the graph.\n"
     ]
    },
    {
     "name": "stderr",
     "output_type": "stream",
     "text": [
      " 13%|█▎        | 186/1386 [01:40<09:21,  2.14it/s]"
     ]
    },
    {
     "name": "stdout",
     "output_type": "stream",
     "text": [
      "Company playa_bowls is added to the graph.\n"
     ]
    },
    {
     "name": "stderr",
     "output_type": "stream",
     "text": [
      " 13%|█▎        | 187/1386 [01:40<08:59,  2.22it/s]"
     ]
    },
    {
     "name": "stdout",
     "output_type": "stream",
     "text": [
      "Company colt_builders is added to the graph.\n"
     ]
    },
    {
     "name": "stderr",
     "output_type": "stream",
     "text": [
      " 14%|█▎        | 188/1386 [01:41<09:20,  2.14it/s]"
     ]
    },
    {
     "name": "stdout",
     "output_type": "stream",
     "text": [
      "Company tekmetric is added to the graph.\n"
     ]
    },
    {
     "name": "stderr",
     "output_type": "stream",
     "text": [
      " 14%|█▎        | 189/1386 [01:42<10:10,  1.96it/s]"
     ]
    },
    {
     "name": "stdout",
     "output_type": "stream",
     "text": [
      "Company dssolvr is added to the graph.\n"
     ]
    },
    {
     "name": "stderr",
     "output_type": "stream",
     "text": [
      " 14%|█▎        | 190/1386 [01:42<09:40,  2.06it/s]"
     ]
    },
    {
     "name": "stdout",
     "output_type": "stream",
     "text": [
      "Company diggs is added to the graph.\n"
     ]
    },
    {
     "name": "stderr",
     "output_type": "stream",
     "text": [
      " 14%|█▍        | 191/1386 [01:42<09:09,  2.18it/s]"
     ]
    },
    {
     "name": "stdout",
     "output_type": "stream",
     "text": [
      "Company punch_financial is added to the graph.\n"
     ]
    },
    {
     "name": "stderr",
     "output_type": "stream",
     "text": [
      " 14%|█▍        | 192/1386 [01:44<12:51,  1.55it/s]"
     ]
    },
    {
     "name": "stdout",
     "output_type": "stream",
     "text": [
      "Company lloyds_bank is added to the graph.\n"
     ]
    },
    {
     "name": "stderr",
     "output_type": "stream",
     "text": [
      " 14%|█▍        | 193/1386 [01:44<11:22,  1.75it/s]"
     ]
    },
    {
     "name": "stdout",
     "output_type": "stream",
     "text": [
      "Company del_amo_construction is added to the graph.\n"
     ]
    },
    {
     "name": "stderr",
     "output_type": "stream",
     "text": [
      " 14%|█▍        | 194/1386 [01:45<13:35,  1.46it/s]"
     ]
    },
    {
     "name": "stdout",
     "output_type": "stream",
     "text": [
      "Company docmagic is added to the graph.\n"
     ]
    },
    {
     "name": "stderr",
     "output_type": "stream",
     "text": [
      " 14%|█▍        | 195/1386 [01:45<11:53,  1.67it/s]"
     ]
    },
    {
     "name": "stdout",
     "output_type": "stream",
     "text": [
      "Company sportafi is added to the graph.\n"
     ]
    },
    {
     "name": "stderr",
     "output_type": "stream",
     "text": [
      " 14%|█▍        | 196/1386 [01:46<11:00,  1.80it/s]"
     ]
    },
    {
     "name": "stdout",
     "output_type": "stream",
     "text": [
      "Company nexphase_capital is added to the graph.\n"
     ]
    },
    {
     "name": "stderr",
     "output_type": "stream",
     "text": [
      " 14%|█▍        | 197/1386 [01:46<10:04,  1.97it/s]"
     ]
    },
    {
     "name": "stdout",
     "output_type": "stream",
     "text": [
      "Company miami_realtors is added to the graph.\n"
     ]
    },
    {
     "name": "stderr",
     "output_type": "stream",
     "text": [
      " 14%|█▍        | 198/1386 [01:47<09:39,  2.05it/s]"
     ]
    },
    {
     "name": "stdout",
     "output_type": "stream",
     "text": [
      "Company neighborhood_concepts_inc is added to the graph.\n"
     ]
    },
    {
     "name": "stderr",
     "output_type": "stream",
     "text": [
      " 14%|█▍        | 199/1386 [01:47<12:18,  1.61it/s]"
     ]
    },
    {
     "name": "stdout",
     "output_type": "stream",
     "text": [
      "Company payliance is added to the graph.\n"
     ]
    },
    {
     "name": "stderr",
     "output_type": "stream",
     "text": [
      " 14%|█▍        | 200/1386 [01:48<11:55,  1.66it/s]"
     ]
    },
    {
     "name": "stdout",
     "output_type": "stream",
     "text": [
      "Company deutsche_bank is added to the graph.\n"
     ]
    },
    {
     "name": "stderr",
     "output_type": "stream",
     "text": [
      " 15%|█▍        | 201/1386 [01:49<12:15,  1.61it/s]"
     ]
    },
    {
     "name": "stdout",
     "output_type": "stream",
     "text": [
      "Company armanino is added to the graph.\n"
     ]
    },
    {
     "name": "stderr",
     "output_type": "stream",
     "text": [
      " 15%|█▍        | 202/1386 [01:49<10:59,  1.79it/s]"
     ]
    },
    {
     "name": "stdout",
     "output_type": "stream",
     "text": [
      "Company chargebacks911 is added to the graph.\n"
     ]
    },
    {
     "name": "stderr",
     "output_type": "stream",
     "text": [
      " 15%|█▍        | 203/1386 [01:50<11:27,  1.72it/s]"
     ]
    },
    {
     "name": "stdout",
     "output_type": "stream",
     "text": [
      "Company agm is added to the graph.\n"
     ]
    },
    {
     "name": "stderr",
     "output_type": "stream",
     "text": [
      " 15%|█▍        | 204/1386 [01:51<12:44,  1.55it/s]"
     ]
    },
    {
     "name": "stdout",
     "output_type": "stream",
     "text": [
      "Company realtrends is added to the graph.\n"
     ]
    },
    {
     "name": "stderr",
     "output_type": "stream",
     "text": [
      " 15%|█▍        | 205/1386 [01:51<11:28,  1.71it/s]"
     ]
    },
    {
     "name": "stdout",
     "output_type": "stream",
     "text": [
      "Company illoominus is added to the graph.\n"
     ]
    },
    {
     "name": "stderr",
     "output_type": "stream",
     "text": [
      " 15%|█▍        | 206/1386 [01:52<11:06,  1.77it/s]"
     ]
    },
    {
     "name": "stdout",
     "output_type": "stream",
     "text": [
      "Company dealercor is added to the graph.\n"
     ]
    },
    {
     "name": "stderr",
     "output_type": "stream",
     "text": [
      " 15%|█▍        | 207/1386 [01:52<10:11,  1.93it/s]"
     ]
    },
    {
     "name": "stdout",
     "output_type": "stream",
     "text": [
      "Company next_frontier is added to the graph.\n"
     ]
    },
    {
     "name": "stderr",
     "output_type": "stream",
     "text": [
      " 15%|█▌        | 208/1386 [01:52<10:03,  1.95it/s]"
     ]
    },
    {
     "name": "stdout",
     "output_type": "stream",
     "text": [
      "Company greenlight_data is added to the graph.\n"
     ]
    },
    {
     "name": "stderr",
     "output_type": "stream",
     "text": [
      " 15%|█▌        | 209/1386 [01:53<09:31,  2.06it/s]"
     ]
    },
    {
     "name": "stdout",
     "output_type": "stream",
     "text": [
      "Company serhant is added to the graph.\n"
     ]
    },
    {
     "name": "stderr",
     "output_type": "stream",
     "text": [
      " 15%|█▌        | 210/1386 [01:53<09:11,  2.13it/s]"
     ]
    },
    {
     "name": "stdout",
     "output_type": "stream",
     "text": [
      "Company ice_mobility is added to the graph.\n"
     ]
    },
    {
     "name": "stderr",
     "output_type": "stream",
     "text": [
      " 15%|█▌        | 211/1386 [01:54<10:37,  1.84it/s]"
     ]
    },
    {
     "name": "stdout",
     "output_type": "stream",
     "text": [
      "Company firstenergy is added to the graph.\n"
     ]
    },
    {
     "name": "stderr",
     "output_type": "stream",
     "text": [
      " 15%|█▌        | 212/1386 [01:54<09:47,  2.00it/s]"
     ]
    },
    {
     "name": "stdout",
     "output_type": "stream",
     "text": [
      "Company ferndown_estates is added to the graph.\n"
     ]
    },
    {
     "name": "stderr",
     "output_type": "stream",
     "text": [
      " 15%|█▌        | 213/1386 [01:55<10:57,  1.78it/s]"
     ]
    },
    {
     "name": "stdout",
     "output_type": "stream",
     "text": [
      "Company john_w__danforth is added to the graph.\n"
     ]
    },
    {
     "name": "stderr",
     "output_type": "stream",
     "text": [
      " 15%|█▌        | 214/1386 [01:58<25:15,  1.29s/it]"
     ]
    },
    {
     "name": "stdout",
     "output_type": "stream",
     "text": [
      "Company building_transparency is added to the graph.\n"
     ]
    },
    {
     "name": "stderr",
     "output_type": "stream",
     "text": [
      " 16%|█▌        | 215/1386 [01:59<22:35,  1.16s/it]"
     ]
    },
    {
     "name": "stdout",
     "output_type": "stream",
     "text": [
      "Company td_bank is added to the graph.\n"
     ]
    },
    {
     "name": "stderr",
     "output_type": "stream",
     "text": [
      " 16%|█▌        | 216/1386 [02:00<20:31,  1.05s/it]"
     ]
    },
    {
     "name": "stdout",
     "output_type": "stream",
     "text": [
      "Company silicon_legal_strategy is added to the graph.\n"
     ]
    },
    {
     "name": "stderr",
     "output_type": "stream",
     "text": [
      " 16%|█▌        | 217/1386 [02:00<16:53,  1.15it/s]"
     ]
    },
    {
     "name": "stdout",
     "output_type": "stream",
     "text": [
      "Company cashflow_capital is added to the graph.\n"
     ]
    },
    {
     "name": "stderr",
     "output_type": "stream",
     "text": [
      " 16%|█▌        | 218/1386 [02:01<14:58,  1.30it/s]"
     ]
    },
    {
     "name": "stdout",
     "output_type": "stream",
     "text": [
      "Company perkins_eastman is added to the graph.\n"
     ]
    },
    {
     "name": "stderr",
     "output_type": "stream",
     "text": [
      " 16%|█▌        | 219/1386 [02:01<12:42,  1.53it/s]"
     ]
    },
    {
     "name": "stdout",
     "output_type": "stream",
     "text": [
      "Company cascade_west is added to the graph.\n"
     ]
    },
    {
     "name": "stderr",
     "output_type": "stream",
     "text": [
      " 16%|█▌        | 220/1386 [02:02<13:56,  1.39it/s]"
     ]
    },
    {
     "name": "stdout",
     "output_type": "stream",
     "text": [
      "Company nasdaq is added to the graph.\n"
     ]
    },
    {
     "name": "stderr",
     "output_type": "stream",
     "text": [
      " 16%|█▌        | 221/1386 [02:02<12:39,  1.53it/s]"
     ]
    },
    {
     "name": "stdout",
     "output_type": "stream",
     "text": [
      "Company mvp_plan_administrators is added to the graph.\n"
     ]
    },
    {
     "name": "stderr",
     "output_type": "stream",
     "text": [
      " 16%|█▌        | 222/1386 [02:03<11:20,  1.71it/s]"
     ]
    },
    {
     "name": "stdout",
     "output_type": "stream",
     "text": [
      "Company american_bank_of_commerce is added to the graph.\n",
      "Error: [Errno 2] No such file or directory: 'client_extraction_output/.DS_Store_extraction.json'\n"
     ]
    },
    {
     "name": "stderr",
     "output_type": "stream",
     "text": [
      " 16%|█▌        | 224/1386 [02:03<08:31,  2.27it/s]"
     ]
    },
    {
     "name": "stdout",
     "output_type": "stream",
     "text": [
      "Company lancashire_county_council is added to the graph.\n"
     ]
    },
    {
     "name": "stderr",
     "output_type": "stream",
     "text": [
      " 16%|█▌        | 225/1386 [02:04<09:26,  2.05it/s]"
     ]
    },
    {
     "name": "stdout",
     "output_type": "stream",
     "text": [
      "Company kodiak_cakes is added to the graph.\n"
     ]
    },
    {
     "name": "stderr",
     "output_type": "stream",
     "text": [
      " 16%|█▋        | 226/1386 [02:04<08:50,  2.19it/s]"
     ]
    },
    {
     "name": "stdout",
     "output_type": "stream",
     "text": [
      "Company luxe_design_studios is added to the graph.\n"
     ]
    },
    {
     "name": "stderr",
     "output_type": "stream",
     "text": [
      " 16%|█▋        | 227/1386 [02:05<08:34,  2.25it/s]"
     ]
    },
    {
     "name": "stdout",
     "output_type": "stream",
     "text": [
      "Error: 'NoneType' object has no attribute 'append'\n"
     ]
    },
    {
     "name": "stderr",
     "output_type": "stream",
     "text": [
      " 16%|█▋        | 228/1386 [02:05<09:03,  2.13it/s]"
     ]
    },
    {
     "name": "stdout",
     "output_type": "stream",
     "text": [
      "Company centennial_bank is added to the graph.\n"
     ]
    },
    {
     "name": "stderr",
     "output_type": "stream",
     "text": [
      " 17%|█▋        | 229/1386 [02:06<10:55,  1.77it/s]"
     ]
    },
    {
     "name": "stdout",
     "output_type": "stream",
     "text": [
      "Company peapack_gladstone_bank is added to the graph.\n"
     ]
    },
    {
     "name": "stderr",
     "output_type": "stream",
     "text": [
      " 17%|█▋        | 230/1386 [02:07<11:18,  1.70it/s]"
     ]
    },
    {
     "name": "stdout",
     "output_type": "stream",
     "text": [
      "Company bradenton_area_edc is added to the graph.\n"
     ]
    },
    {
     "name": "stderr",
     "output_type": "stream",
     "text": [
      " 17%|█▋        | 231/1386 [02:07<10:32,  1.83it/s]"
     ]
    },
    {
     "name": "stdout",
     "output_type": "stream",
     "text": [
      "Company liontree is added to the graph.\n"
     ]
    },
    {
     "name": "stderr",
     "output_type": "stream",
     "text": [
      " 17%|█▋        | 232/1386 [02:08<10:06,  1.90it/s]"
     ]
    },
    {
     "name": "stdout",
     "output_type": "stream",
     "text": [
      "Company royal_london is added to the graph.\n"
     ]
    },
    {
     "name": "stderr",
     "output_type": "stream",
     "text": [
      " 17%|█▋        | 233/1386 [02:08<09:46,  1.97it/s]"
     ]
    },
    {
     "name": "stdout",
     "output_type": "stream",
     "text": [
      "Company mainsail_partners is added to the graph.\n"
     ]
    },
    {
     "name": "stderr",
     "output_type": "stream",
     "text": [
      " 17%|█▋        | 234/1386 [02:09<08:53,  2.16it/s]"
     ]
    },
    {
     "name": "stdout",
     "output_type": "stream",
     "text": [
      "Error: 'NoneType' object has no attribute 'append'\n"
     ]
    },
    {
     "name": "stderr",
     "output_type": "stream",
     "text": [
      " 17%|█▋        | 235/1386 [02:09<10:20,  1.85it/s]"
     ]
    },
    {
     "name": "stdout",
     "output_type": "stream",
     "text": [
      "Company the_big_favorite is added to the graph.\n"
     ]
    },
    {
     "name": "stderr",
     "output_type": "stream",
     "text": [
      " 17%|█▋        | 236/1386 [02:10<09:07,  2.10it/s]"
     ]
    },
    {
     "name": "stdout",
     "output_type": "stream",
     "text": [
      "Error: 'NoneType' object has no attribute 'append'\n"
     ]
    },
    {
     "name": "stderr",
     "output_type": "stream",
     "text": [
      " 17%|█▋        | 237/1386 [02:10<08:57,  2.14it/s]"
     ]
    },
    {
     "name": "stdout",
     "output_type": "stream",
     "text": [
      "Company iex_cloud is added to the graph.\n"
     ]
    },
    {
     "name": "stderr",
     "output_type": "stream",
     "text": [
      " 17%|█▋        | 238/1386 [02:11<09:46,  1.96it/s]"
     ]
    },
    {
     "name": "stdout",
     "output_type": "stream",
     "text": [
      "Company cloudbeds is added to the graph.\n"
     ]
    },
    {
     "name": "stderr",
     "output_type": "stream",
     "text": [
      " 17%|█▋        | 239/1386 [02:11<09:20,  2.05it/s]"
     ]
    },
    {
     "name": "stdout",
     "output_type": "stream",
     "text": [
      "Company british_institute_of_innkeeping is added to the graph.\n"
     ]
    },
    {
     "name": "stderr",
     "output_type": "stream",
     "text": [
      " 17%|█▋        | 240/1386 [02:12<09:52,  1.93it/s]"
     ]
    },
    {
     "name": "stdout",
     "output_type": "stream",
     "text": [
      "Company superior_credit_union is added to the graph.\n"
     ]
    },
    {
     "name": "stderr",
     "output_type": "stream",
     "text": [
      " 17%|█▋        | 241/1386 [02:12<10:06,  1.89it/s]"
     ]
    },
    {
     "name": "stdout",
     "output_type": "stream",
     "text": [
      "Company jack_conway_company is added to the graph.\n"
     ]
    },
    {
     "name": "stderr",
     "output_type": "stream",
     "text": [
      " 17%|█▋        | 242/1386 [02:16<25:40,  1.35s/it]"
     ]
    },
    {
     "name": "stdout",
     "output_type": "stream",
     "text": [
      "Company adventhealth is added to the graph.\n"
     ]
    },
    {
     "name": "stderr",
     "output_type": "stream",
     "text": [
      " 18%|█▊        | 243/1386 [02:16<20:24,  1.07s/it]"
     ]
    },
    {
     "name": "stdout",
     "output_type": "stream",
     "text": [
      "Company valuetest_ai is added to the graph.\n"
     ]
    },
    {
     "name": "stderr",
     "output_type": "stream",
     "text": [
      " 18%|█▊        | 244/1386 [02:16<17:03,  1.12it/s]"
     ]
    },
    {
     "name": "stdout",
     "output_type": "stream",
     "text": [
      "Company collective_office is added to the graph.\n"
     ]
    },
    {
     "name": "stderr",
     "output_type": "stream",
     "text": [
      " 18%|█▊        | 245/1386 [02:17<15:20,  1.24it/s]"
     ]
    },
    {
     "name": "stdout",
     "output_type": "stream",
     "text": [
      "Company saatva is added to the graph.\n"
     ]
    },
    {
     "name": "stderr",
     "output_type": "stream",
     "text": [
      " 18%|█▊        | 246/1386 [02:18<13:39,  1.39it/s]"
     ]
    },
    {
     "name": "stdout",
     "output_type": "stream",
     "text": [
      "Company castellan_real_estate_partners is added to the graph.\n"
     ]
    },
    {
     "name": "stderr",
     "output_type": "stream",
     "text": [
      " 18%|█▊        | 247/1386 [02:18<11:16,  1.68it/s]"
     ]
    },
    {
     "name": "stdout",
     "output_type": "stream",
     "text": [
      "Error: 'NoneType' object has no attribute 'append'\n"
     ]
    },
    {
     "name": "stderr",
     "output_type": "stream",
     "text": [
      " 18%|█▊        | 248/1386 [02:18<10:53,  1.74it/s]"
     ]
    },
    {
     "name": "stdout",
     "output_type": "stream",
     "text": [
      "Company blackrock is added to the graph.\n"
     ]
    },
    {
     "name": "stderr",
     "output_type": "stream",
     "text": [
      " 18%|█▊        | 249/1386 [02:19<11:25,  1.66it/s]"
     ]
    },
    {
     "name": "stdout",
     "output_type": "stream",
     "text": [
      "Company mainstream_renewable_power is added to the graph.\n"
     ]
    },
    {
     "name": "stderr",
     "output_type": "stream",
     "text": [
      " 18%|█▊        | 250/1386 [02:20<11:16,  1.68it/s]"
     ]
    },
    {
     "name": "stdout",
     "output_type": "stream",
     "text": [
      "Company wawa is added to the graph.\n"
     ]
    },
    {
     "name": "stderr",
     "output_type": "stream",
     "text": [
      " 18%|█▊        | 251/1386 [02:20<11:31,  1.64it/s]"
     ]
    },
    {
     "name": "stdout",
     "output_type": "stream",
     "text": [
      "Company pass_the_property is added to the graph.\n"
     ]
    },
    {
     "name": "stderr",
     "output_type": "stream",
     "text": [
      " 18%|█▊        | 252/1386 [02:23<24:14,  1.28s/it]"
     ]
    },
    {
     "name": "stdout",
     "output_type": "stream",
     "text": [
      "Company 8x8 is added to the graph.\n"
     ]
    },
    {
     "name": "stderr",
     "output_type": "stream",
     "text": [
      " 18%|█▊        | 253/1386 [02:24<19:49,  1.05s/it]"
     ]
    },
    {
     "name": "stdout",
     "output_type": "stream",
     "text": [
      "Company hilton_garage is added to the graph.\n"
     ]
    },
    {
     "name": "stderr",
     "output_type": "stream",
     "text": [
      " 18%|█▊        | 254/1386 [02:24<17:30,  1.08it/s]"
     ]
    },
    {
     "name": "stdout",
     "output_type": "stream",
     "text": [
      "Company source_support is added to the graph.\n"
     ]
    },
    {
     "name": "stderr",
     "output_type": "stream",
     "text": [
      " 18%|█▊        | 255/1386 [02:25<14:45,  1.28it/s]"
     ]
    },
    {
     "name": "stdout",
     "output_type": "stream",
     "text": [
      "Company rare_restaurants is added to the graph.\n"
     ]
    },
    {
     "name": "stderr",
     "output_type": "stream",
     "text": [
      " 18%|█▊        | 256/1386 [02:25<12:21,  1.52it/s]"
     ]
    },
    {
     "name": "stdout",
     "output_type": "stream",
     "text": [
      "Company klein_enterprises is added to the graph.\n"
     ]
    },
    {
     "name": "stderr",
     "output_type": "stream",
     "text": [
      " 19%|█▊        | 257/1386 [02:26<11:19,  1.66it/s]"
     ]
    },
    {
     "name": "stdout",
     "output_type": "stream",
     "text": [
      "Company coterie is added to the graph.\n"
     ]
    },
    {
     "name": "stderr",
     "output_type": "stream",
     "text": [
      " 19%|█▊        | 258/1386 [02:26<10:51,  1.73it/s]"
     ]
    },
    {
     "name": "stdout",
     "output_type": "stream",
     "text": [
      "Company betterbot is added to the graph.\n"
     ]
    },
    {
     "name": "stderr",
     "output_type": "stream",
     "text": [
      " 19%|█▊        | 259/1386 [02:27<10:26,  1.80it/s]"
     ]
    },
    {
     "name": "stdout",
     "output_type": "stream",
     "text": [
      "Company montagu_evans is added to the graph.\n"
     ]
    },
    {
     "name": "stderr",
     "output_type": "stream",
     "text": [
      " 19%|█▉        | 260/1386 [02:27<09:31,  1.97it/s]"
     ]
    },
    {
     "name": "stdout",
     "output_type": "stream",
     "text": [
      "Company a&w_restaurants is added to the graph.\n"
     ]
    },
    {
     "name": "stderr",
     "output_type": "stream",
     "text": [
      " 19%|█▉        | 261/1386 [02:27<09:36,  1.95it/s]"
     ]
    },
    {
     "name": "stdout",
     "output_type": "stream",
     "text": [
      "Company tabworks is added to the graph.\n"
     ]
    },
    {
     "name": "stderr",
     "output_type": "stream",
     "text": [
      " 19%|█▉        | 262/1386 [02:28<08:46,  2.13it/s]"
     ]
    },
    {
     "name": "stdout",
     "output_type": "stream",
     "text": [
      "Company voyager is added to the graph.\n"
     ]
    },
    {
     "name": "stderr",
     "output_type": "stream",
     "text": [
      " 19%|█▉        | 263/1386 [02:28<08:19,  2.25it/s]"
     ]
    },
    {
     "name": "stdout",
     "output_type": "stream",
     "text": [
      "Company alliance_bernstein is added to the graph.\n"
     ]
    },
    {
     "name": "stderr",
     "output_type": "stream",
     "text": [
      " 19%|█▉        | 264/1386 [02:29<07:30,  2.49it/s]"
     ]
    },
    {
     "name": "stdout",
     "output_type": "stream",
     "text": [
      "Error: 'NoneType' object has no attribute 'append'\n"
     ]
    },
    {
     "name": "stderr",
     "output_type": "stream",
     "text": [
      " 19%|█▉        | 265/1386 [02:29<06:52,  2.72it/s]"
     ]
    },
    {
     "name": "stdout",
     "output_type": "stream",
     "text": [
      "Error: 'NoneType' object has no attribute 'append'\n"
     ]
    },
    {
     "name": "stderr",
     "output_type": "stream",
     "text": [
      " 19%|█▉        | 266/1386 [02:29<07:08,  2.61it/s]"
     ]
    },
    {
     "name": "stdout",
     "output_type": "stream",
     "text": [
      "Company fncb_bank is added to the graph.\n"
     ]
    },
    {
     "name": "stderr",
     "output_type": "stream",
     "text": [
      " 19%|█▉        | 267/1386 [02:30<07:32,  2.47it/s]"
     ]
    },
    {
     "name": "stdout",
     "output_type": "stream",
     "text": [
      "Company huntington_national_bank is added to the graph.\n"
     ]
    },
    {
     "name": "stderr",
     "output_type": "stream",
     "text": [
      " 19%|█▉        | 268/1386 [02:30<07:16,  2.56it/s]"
     ]
    },
    {
     "name": "stdout",
     "output_type": "stream",
     "text": [
      "Company aybl_group is added to the graph.\n"
     ]
    },
    {
     "name": "stderr",
     "output_type": "stream",
     "text": [
      " 19%|█▉        | 269/1386 [02:31<07:39,  2.43it/s]"
     ]
    },
    {
     "name": "stdout",
     "output_type": "stream",
     "text": [
      "Company bhg_financial is added to the graph.\n"
     ]
    },
    {
     "name": "stderr",
     "output_type": "stream",
     "text": [
      " 19%|█▉        | 270/1386 [02:31<07:47,  2.39it/s]"
     ]
    },
    {
     "name": "stdout",
     "output_type": "stream",
     "text": [
      "Company eckstine_electric_company is added to the graph.\n"
     ]
    },
    {
     "name": "stderr",
     "output_type": "stream",
     "text": [
      " 20%|█▉        | 271/1386 [02:32<12:08,  1.53it/s]"
     ]
    },
    {
     "name": "stdout",
     "output_type": "stream",
     "text": [
      "Company brex is added to the graph.\n"
     ]
    },
    {
     "name": "stderr",
     "output_type": "stream",
     "text": [
      " 20%|█▉        | 272/1386 [02:33<10:40,  1.74it/s]"
     ]
    },
    {
     "name": "stdout",
     "output_type": "stream",
     "text": [
      "Company abrdn is added to the graph.\n"
     ]
    },
    {
     "name": "stderr",
     "output_type": "stream",
     "text": [
      " 20%|█▉        | 273/1386 [02:33<12:05,  1.53it/s]"
     ]
    },
    {
     "name": "stdout",
     "output_type": "stream",
     "text": [
      "Company qredo is added to the graph.\n"
     ]
    },
    {
     "name": "stderr",
     "output_type": "stream",
     "text": [
      " 20%|█▉        | 274/1386 [02:34<12:50,  1.44it/s]"
     ]
    },
    {
     "name": "stdout",
     "output_type": "stream",
     "text": [
      "Company michigan_health_&_hospital_association is added to the graph.\n"
     ]
    },
    {
     "name": "stderr",
     "output_type": "stream",
     "text": [
      " 20%|█▉        | 275/1386 [02:35<11:50,  1.56it/s]"
     ]
    },
    {
     "name": "stdout",
     "output_type": "stream",
     "text": [
      "Company capital_advisory_services is added to the graph.\n"
     ]
    },
    {
     "name": "stderr",
     "output_type": "stream",
     "text": [
      " 20%|█▉        | 276/1386 [02:35<10:11,  1.82it/s]"
     ]
    },
    {
     "name": "stdout",
     "output_type": "stream",
     "text": [
      "Company recyclops is added to the graph.\n"
     ]
    },
    {
     "name": "stderr",
     "output_type": "stream",
     "text": [
      " 20%|█▉        | 277/1386 [02:35<09:36,  1.92it/s]"
     ]
    },
    {
     "name": "stdout",
     "output_type": "stream",
     "text": [
      "Company caldicot_capital is added to the graph.\n"
     ]
    },
    {
     "name": "stderr",
     "output_type": "stream",
     "text": [
      " 20%|██        | 278/1386 [02:37<12:39,  1.46it/s]"
     ]
    },
    {
     "name": "stdout",
     "output_type": "stream",
     "text": [
      "Company superpath is added to the graph.\n"
     ]
    },
    {
     "name": "stderr",
     "output_type": "stream",
     "text": [
      " 20%|██        | 279/1386 [02:37<12:19,  1.50it/s]"
     ]
    },
    {
     "name": "stdout",
     "output_type": "stream",
     "text": [
      "Company madrinas is added to the graph.\n"
     ]
    },
    {
     "name": "stderr",
     "output_type": "stream",
     "text": [
      " 20%|██        | 280/1386 [02:38<11:36,  1.59it/s]"
     ]
    },
    {
     "name": "stdout",
     "output_type": "stream",
     "text": [
      "Company eqt is added to the graph.\n"
     ]
    },
    {
     "name": "stderr",
     "output_type": "stream",
     "text": [
      " 20%|██        | 281/1386 [02:38<12:17,  1.50it/s]"
     ]
    },
    {
     "name": "stdout",
     "output_type": "stream",
     "text": [
      "Company biberk is added to the graph.\n"
     ]
    },
    {
     "name": "stderr",
     "output_type": "stream",
     "text": [
      " 20%|██        | 282/1386 [02:39<10:49,  1.70it/s]"
     ]
    },
    {
     "name": "stdout",
     "output_type": "stream",
     "text": [
      "Company deadstock_ca is added to the graph.\n"
     ]
    },
    {
     "name": "stderr",
     "output_type": "stream",
     "text": [
      " 20%|██        | 283/1386 [02:40<11:26,  1.61it/s]"
     ]
    },
    {
     "name": "stdout",
     "output_type": "stream",
     "text": [
      "Company nsi is added to the graph.\n"
     ]
    },
    {
     "name": "stderr",
     "output_type": "stream",
     "text": [
      " 20%|██        | 284/1386 [02:40<09:58,  1.84it/s]"
     ]
    },
    {
     "name": "stdout",
     "output_type": "stream",
     "text": [
      "Company connor_group is added to the graph.\n"
     ]
    },
    {
     "name": "stderr",
     "output_type": "stream",
     "text": [
      " 21%|██        | 285/1386 [02:40<08:57,  2.05it/s]"
     ]
    },
    {
     "name": "stdout",
     "output_type": "stream",
     "text": [
      "Company deribit is added to the graph.\n"
     ]
    },
    {
     "name": "stderr",
     "output_type": "stream",
     "text": [
      " 21%|██        | 286/1386 [02:41<11:54,  1.54it/s]"
     ]
    },
    {
     "name": "stdout",
     "output_type": "stream",
     "text": [
      "Company affinity is added to the graph.\n"
     ]
    },
    {
     "name": "stderr",
     "output_type": "stream",
     "text": [
      " 21%|██        | 287/1386 [02:42<10:47,  1.70it/s]"
     ]
    },
    {
     "name": "stdout",
     "output_type": "stream",
     "text": [
      "Company m3_technology_group is added to the graph.\n"
     ]
    },
    {
     "name": "stderr",
     "output_type": "stream",
     "text": [
      " 21%|██        | 288/1386 [02:42<10:25,  1.75it/s]"
     ]
    },
    {
     "name": "stdout",
     "output_type": "stream",
     "text": [
      "Company isri is added to the graph.\n"
     ]
    },
    {
     "name": "stderr",
     "output_type": "stream",
     "text": [
      " 21%|██        | 289/1386 [02:43<09:29,  1.92it/s]"
     ]
    },
    {
     "name": "stdout",
     "output_type": "stream",
     "text": [
      "Company central_research is added to the graph.\n"
     ]
    },
    {
     "name": "stderr",
     "output_type": "stream",
     "text": [
      " 21%|██        | 290/1386 [02:43<09:36,  1.90it/s]"
     ]
    },
    {
     "name": "stdout",
     "output_type": "stream",
     "text": [
      "Company thor_equities is added to the graph.\n"
     ]
    },
    {
     "name": "stderr",
     "output_type": "stream",
     "text": [
      " 21%|██        | 291/1386 [02:44<08:52,  2.06it/s]"
     ]
    },
    {
     "name": "stdout",
     "output_type": "stream",
     "text": [
      "Company pagaya is added to the graph.\n"
     ]
    },
    {
     "name": "stderr",
     "output_type": "stream",
     "text": [
      " 21%|██        | 292/1386 [02:44<08:16,  2.20it/s]"
     ]
    },
    {
     "name": "stdout",
     "output_type": "stream",
     "text": [
      "Company normie_&_co is added to the graph.\n"
     ]
    },
    {
     "name": "stderr",
     "output_type": "stream",
     "text": [
      " 21%|██        | 293/1386 [02:45<08:37,  2.11it/s]"
     ]
    },
    {
     "name": "stdout",
     "output_type": "stream",
     "text": [
      "Company samsung is added to the graph.\n"
     ]
    },
    {
     "name": "stderr",
     "output_type": "stream",
     "text": [
      " 21%|██        | 294/1386 [02:45<08:49,  2.06it/s]"
     ]
    },
    {
     "name": "stdout",
     "output_type": "stream",
     "text": [
      "Company optimal_counsel is added to the graph.\n"
     ]
    },
    {
     "name": "stderr",
     "output_type": "stream",
     "text": [
      " 21%|██▏       | 295/1386 [02:46<13:15,  1.37it/s]"
     ]
    },
    {
     "name": "stdout",
     "output_type": "stream",
     "text": [
      "Company samsara is added to the graph.\n"
     ]
    },
    {
     "name": "stderr",
     "output_type": "stream",
     "text": [
      " 21%|██▏       | 296/1386 [02:47<11:26,  1.59it/s]"
     ]
    },
    {
     "name": "stdout",
     "output_type": "stream",
     "text": [
      "Company legacy_partners is added to the graph.\n"
     ]
    },
    {
     "name": "stderr",
     "output_type": "stream",
     "text": [
      " 21%|██▏       | 297/1386 [02:47<11:25,  1.59it/s]"
     ]
    },
    {
     "name": "stdout",
     "output_type": "stream",
     "text": [
      "Company booking_com is added to the graph.\n"
     ]
    },
    {
     "name": "stderr",
     "output_type": "stream",
     "text": [
      " 22%|██▏       | 298/1386 [02:48<10:50,  1.67it/s]"
     ]
    },
    {
     "name": "stdout",
     "output_type": "stream",
     "text": [
      "Company hensel_phelps is added to the graph.\n"
     ]
    },
    {
     "name": "stderr",
     "output_type": "stream",
     "text": [
      " 22%|██▏       | 299/1386 [02:49<11:45,  1.54it/s]"
     ]
    },
    {
     "name": "stdout",
     "output_type": "stream",
     "text": [
      "Company adwerx is added to the graph.\n"
     ]
    },
    {
     "name": "stderr",
     "output_type": "stream",
     "text": [
      " 22%|██▏       | 300/1386 [02:49<10:32,  1.72it/s]"
     ]
    },
    {
     "name": "stdout",
     "output_type": "stream",
     "text": [
      "Company forward_forsyth is added to the graph.\n"
     ]
    },
    {
     "name": "stderr",
     "output_type": "stream",
     "text": [
      " 22%|██▏       | 301/1386 [02:49<09:24,  1.92it/s]"
     ]
    },
    {
     "name": "stdout",
     "output_type": "stream",
     "text": [
      "Company spacegoods is added to the graph.\n"
     ]
    },
    {
     "name": "stderr",
     "output_type": "stream",
     "text": [
      " 22%|██▏       | 302/1386 [02:50<08:54,  2.03it/s]"
     ]
    },
    {
     "name": "stdout",
     "output_type": "stream",
     "text": [
      "Company mad_radish is added to the graph.\n"
     ]
    },
    {
     "name": "stderr",
     "output_type": "stream",
     "text": [
      " 22%|██▏       | 303/1386 [02:50<08:06,  2.23it/s]"
     ]
    },
    {
     "name": "stdout",
     "output_type": "stream",
     "text": [
      "Company schaible_realty is added to the graph.\n"
     ]
    },
    {
     "name": "stderr",
     "output_type": "stream",
     "text": [
      " 22%|██▏       | 304/1386 [02:51<08:02,  2.24it/s]"
     ]
    },
    {
     "name": "stdout",
     "output_type": "stream",
     "text": [
      "Company buy_sell_love_chicago is added to the graph.\n"
     ]
    },
    {
     "name": "stderr",
     "output_type": "stream",
     "text": [
      " 22%|██▏       | 305/1386 [02:51<07:37,  2.36it/s]"
     ]
    },
    {
     "name": "stdout",
     "output_type": "stream",
     "text": [
      "Company oxford_properties is added to the graph.\n"
     ]
    },
    {
     "name": "stderr",
     "output_type": "stream",
     "text": [
      " 22%|██▏       | 306/1386 [02:51<07:11,  2.50it/s]"
     ]
    },
    {
     "name": "stdout",
     "output_type": "stream",
     "text": [
      "Company mediaalpha is added to the graph.\n"
     ]
    },
    {
     "name": "stderr",
     "output_type": "stream",
     "text": [
      " 22%|██▏       | 307/1386 [02:52<07:33,  2.38it/s]"
     ]
    },
    {
     "name": "stdout",
     "output_type": "stream",
     "text": [
      "Company incuto is added to the graph.\n"
     ]
    },
    {
     "name": "stderr",
     "output_type": "stream",
     "text": [
      " 22%|██▏       | 308/1386 [02:52<07:41,  2.34it/s]"
     ]
    },
    {
     "name": "stdout",
     "output_type": "stream",
     "text": [
      "Company seattle_cider_co_ is added to the graph.\n"
     ]
    },
    {
     "name": "stderr",
     "output_type": "stream",
     "text": [
      " 22%|██▏       | 309/1386 [02:53<07:40,  2.34it/s]"
     ]
    },
    {
     "name": "stdout",
     "output_type": "stream",
     "text": [
      "Error: 'NoneType' object has no attribute 'append'\n"
     ]
    },
    {
     "name": "stderr",
     "output_type": "stream",
     "text": [
      " 22%|██▏       | 310/1386 [02:53<08:08,  2.20it/s]"
     ]
    },
    {
     "name": "stdout",
     "output_type": "stream",
     "text": [
      "Company sharpe_&_associates_insurance_agency is added to the graph.\n"
     ]
    },
    {
     "name": "stderr",
     "output_type": "stream",
     "text": [
      " 22%|██▏       | 311/1386 [02:54<09:58,  1.80it/s]"
     ]
    },
    {
     "name": "stdout",
     "output_type": "stream",
     "text": [
      "Company softbank_robotics is added to the graph.\n"
     ]
    },
    {
     "name": "stderr",
     "output_type": "stream",
     "text": [
      " 23%|██▎       | 312/1386 [02:55<10:34,  1.69it/s]"
     ]
    },
    {
     "name": "stdout",
     "output_type": "stream",
     "text": [
      "Company artisans_bank is added to the graph.\n"
     ]
    },
    {
     "name": "stderr",
     "output_type": "stream",
     "text": [
      " 23%|██▎       | 313/1386 [02:55<10:50,  1.65it/s]"
     ]
    },
    {
     "name": "stdout",
     "output_type": "stream",
     "text": [
      "Company clevr_money is added to the graph.\n"
     ]
    },
    {
     "name": "stderr",
     "output_type": "stream",
     "text": [
      " 23%|██▎       | 314/1386 [02:56<09:52,  1.81it/s]"
     ]
    },
    {
     "name": "stdout",
     "output_type": "stream",
     "text": [
      "Company doodles is added to the graph.\n"
     ]
    },
    {
     "name": "stderr",
     "output_type": "stream",
     "text": [
      " 23%|██▎       | 315/1386 [02:56<09:17,  1.92it/s]"
     ]
    },
    {
     "name": "stdout",
     "output_type": "stream",
     "text": [
      "Company willow_servicing is added to the graph.\n"
     ]
    },
    {
     "name": "stderr",
     "output_type": "stream",
     "text": [
      " 23%|██▎       | 316/1386 [02:58<13:18,  1.34it/s]"
     ]
    },
    {
     "name": "stdout",
     "output_type": "stream",
     "text": [
      "Company m7_real_estate is added to the graph.\n"
     ]
    },
    {
     "name": "stderr",
     "output_type": "stream",
     "text": [
      " 23%|██▎       | 317/1386 [02:58<12:22,  1.44it/s]"
     ]
    },
    {
     "name": "stdout",
     "output_type": "stream",
     "text": [
      "Company truexcullins is added to the graph.\n"
     ]
    },
    {
     "name": "stderr",
     "output_type": "stream",
     "text": [
      " 23%|██▎       | 318/1386 [02:58<10:34,  1.68it/s]"
     ]
    },
    {
     "name": "stdout",
     "output_type": "stream",
     "text": [
      "Company pasago_investment_management is added to the graph.\n"
     ]
    },
    {
     "name": "stderr",
     "output_type": "stream",
     "text": [
      " 23%|██▎       | 319/1386 [02:59<10:51,  1.64it/s]"
     ]
    },
    {
     "name": "stdout",
     "output_type": "stream",
     "text": [
      "Company national_gypsum is added to the graph.\n"
     ]
    },
    {
     "name": "stderr",
     "output_type": "stream",
     "text": [
      " 23%|██▎       | 320/1386 [02:59<09:12,  1.93it/s]"
     ]
    },
    {
     "name": "stdout",
     "output_type": "stream",
     "text": [
      "Error: 'NoneType' object has no attribute 'append'\n"
     ]
    },
    {
     "name": "stderr",
     "output_type": "stream",
     "text": [
      " 23%|██▎       | 321/1386 [03:00<08:28,  2.10it/s]"
     ]
    },
    {
     "name": "stdout",
     "output_type": "stream",
     "text": [
      "Error: 'NoneType' object has no attribute 'append'\n"
     ]
    },
    {
     "name": "stderr",
     "output_type": "stream",
     "text": [
      " 23%|██▎       | 322/1386 [03:00<07:58,  2.22it/s]"
     ]
    },
    {
     "name": "stdout",
     "output_type": "stream",
     "text": [
      "Company park_national_bank is added to the graph.\n"
     ]
    },
    {
     "name": "stderr",
     "output_type": "stream",
     "text": [
      " 23%|██▎       | 323/1386 [03:01<08:22,  2.12it/s]"
     ]
    },
    {
     "name": "stdout",
     "output_type": "stream",
     "text": [
      "Company harborone_bank is added to the graph.\n"
     ]
    },
    {
     "name": "stderr",
     "output_type": "stream",
     "text": [
      " 23%|██▎       | 324/1386 [03:01<08:05,  2.19it/s]"
     ]
    },
    {
     "name": "stdout",
     "output_type": "stream",
     "text": [
      "Company fsn_capital is added to the graph.\n"
     ]
    },
    {
     "name": "stderr",
     "output_type": "stream",
     "text": [
      " 23%|██▎       | 325/1386 [03:02<10:22,  1.70it/s]"
     ]
    },
    {
     "name": "stdout",
     "output_type": "stream",
     "text": [
      "Company windsor_io is added to the graph.\n"
     ]
    },
    {
     "name": "stderr",
     "output_type": "stream",
     "text": [
      " 24%|██▎       | 326/1386 [03:03<10:42,  1.65it/s]"
     ]
    },
    {
     "name": "stdout",
     "output_type": "stream",
     "text": [
      "Company servicebell is added to the graph.\n"
     ]
    },
    {
     "name": "stderr",
     "output_type": "stream",
     "text": [
      " 24%|██▎       | 327/1386 [03:03<09:25,  1.87it/s]"
     ]
    },
    {
     "name": "stdout",
     "output_type": "stream",
     "text": [
      "Company adshares is added to the graph.\n"
     ]
    },
    {
     "name": "stderr",
     "output_type": "stream",
     "text": [
      " 24%|██▎       | 328/1386 [03:03<08:40,  2.03it/s]"
     ]
    },
    {
     "name": "stdout",
     "output_type": "stream",
     "text": [
      "Company cointracking is added to the graph.\n"
     ]
    },
    {
     "name": "stderr",
     "output_type": "stream",
     "text": [
      " 24%|██▎       | 329/1386 [03:04<10:14,  1.72it/s]"
     ]
    },
    {
     "name": "stdout",
     "output_type": "stream",
     "text": [
      "Company verisk_maplecroft is added to the graph.\n"
     ]
    },
    {
     "name": "stderr",
     "output_type": "stream",
     "text": [
      " 24%|██▍       | 330/1386 [03:05<08:47,  2.00it/s]"
     ]
    },
    {
     "name": "stdout",
     "output_type": "stream",
     "text": [
      "Error: 'NoneType' object has no attribute 'append'\n"
     ]
    },
    {
     "name": "stderr",
     "output_type": "stream",
     "text": [
      " 24%|██▍       | 331/1386 [03:05<08:17,  2.12it/s]"
     ]
    },
    {
     "name": "stdout",
     "output_type": "stream",
     "text": [
      "Company korpack is added to the graph.\n"
     ]
    },
    {
     "name": "stderr",
     "output_type": "stream",
     "text": [
      " 24%|██▍       | 332/1386 [03:05<08:34,  2.05it/s]"
     ]
    },
    {
     "name": "stdout",
     "output_type": "stream",
     "text": [
      "Company rhode_island_infrastructure_bank is added to the graph.\n"
     ]
    },
    {
     "name": "stderr",
     "output_type": "stream",
     "text": [
      " 24%|██▍       | 333/1386 [03:06<08:27,  2.08it/s]"
     ]
    },
    {
     "name": "stdout",
     "output_type": "stream",
     "text": [
      "Company evolve_bank_&_trust is added to the graph.\n"
     ]
    },
    {
     "name": "stderr",
     "output_type": "stream",
     "text": [
      " 24%|██▍       | 334/1386 [03:07<12:03,  1.45it/s]"
     ]
    },
    {
     "name": "stdout",
     "output_type": "stream",
     "text": [
      "Company integrated_biodiversity_assessment_tool_ibat is added to the graph.\n"
     ]
    },
    {
     "name": "stderr",
     "output_type": "stream",
     "text": [
      " 24%|██▍       | 335/1386 [03:08<11:01,  1.59it/s]"
     ]
    },
    {
     "name": "stdout",
     "output_type": "stream",
     "text": [
      "Company trillium_health is added to the graph.\n"
     ]
    },
    {
     "name": "stderr",
     "output_type": "stream",
     "text": [
      " 24%|██▍       | 336/1386 [03:08<09:45,  1.79it/s]"
     ]
    },
    {
     "name": "stdout",
     "output_type": "stream",
     "text": [
      "Company stuart_rodgers_photography is added to the graph.\n"
     ]
    },
    {
     "name": "stderr",
     "output_type": "stream",
     "text": [
      " 24%|██▍       | 337/1386 [03:09<09:56,  1.76it/s]"
     ]
    },
    {
     "name": "stdout",
     "output_type": "stream",
     "text": [
      "Company higher_ground is added to the graph.\n"
     ]
    },
    {
     "name": "stderr",
     "output_type": "stream",
     "text": [
      " 24%|██▍       | 338/1386 [03:09<08:54,  1.96it/s]"
     ]
    },
    {
     "name": "stdout",
     "output_type": "stream",
     "text": [
      "Company marketvector is added to the graph.\n"
     ]
    },
    {
     "name": "stderr",
     "output_type": "stream",
     "text": [
      " 24%|██▍       | 339/1386 [03:09<07:50,  2.22it/s]"
     ]
    },
    {
     "name": "stdout",
     "output_type": "stream",
     "text": [
      "Error: 'NoneType' object is not subscriptable\n"
     ]
    },
    {
     "name": "stderr",
     "output_type": "stream",
     "text": [
      " 25%|██▍       | 340/1386 [03:10<09:56,  1.75it/s]"
     ]
    },
    {
     "name": "stdout",
     "output_type": "stream",
     "text": [
      "Company ri_marketplace is added to the graph.\n"
     ]
    },
    {
     "name": "stderr",
     "output_type": "stream",
     "text": [
      " 25%|██▍       | 341/1386 [03:11<09:22,  1.86it/s]"
     ]
    },
    {
     "name": "stdout",
     "output_type": "stream",
     "text": [
      "Company first_stop_mortgages is added to the graph.\n"
     ]
    },
    {
     "name": "stderr",
     "output_type": "stream",
     "text": [
      " 25%|██▍       | 342/1386 [03:11<10:08,  1.72it/s]"
     ]
    },
    {
     "name": "stdout",
     "output_type": "stream",
     "text": [
      "Company ft is added to the graph.\n"
     ]
    },
    {
     "name": "stderr",
     "output_type": "stream",
     "text": [
      " 25%|██▍       | 343/1386 [03:12<11:10,  1.56it/s]"
     ]
    },
    {
     "name": "stdout",
     "output_type": "stream",
     "text": [
      "Company peckham_martin is added to the graph.\n"
     ]
    },
    {
     "name": "stderr",
     "output_type": "stream",
     "text": [
      " 25%|██▍       | 344/1386 [03:12<09:59,  1.74it/s]"
     ]
    },
    {
     "name": "stdout",
     "output_type": "stream",
     "text": [
      "Company workplace_hcm is added to the graph.\n"
     ]
    },
    {
     "name": "stderr",
     "output_type": "stream",
     "text": [
      " 25%|██▍       | 345/1386 [03:13<10:05,  1.72it/s]"
     ]
    },
    {
     "name": "stdout",
     "output_type": "stream",
     "text": [
      "Company ivy_ventures is added to the graph.\n"
     ]
    },
    {
     "name": "stderr",
     "output_type": "stream",
     "text": [
      " 25%|██▍       | 346/1386 [03:14<12:09,  1.43it/s]"
     ]
    },
    {
     "name": "stdout",
     "output_type": "stream",
     "text": [
      "Company fulton_bank is added to the graph.\n"
     ]
    },
    {
     "name": "stderr",
     "output_type": "stream",
     "text": [
      " 25%|██▌       | 347/1386 [03:15<12:35,  1.37it/s]"
     ]
    },
    {
     "name": "stdout",
     "output_type": "stream",
     "text": [
      "Company ey is added to the graph.\n"
     ]
    },
    {
     "name": "stderr",
     "output_type": "stream",
     "text": [
      " 25%|██▌       | 348/1386 [03:15<12:17,  1.41it/s]"
     ]
    },
    {
     "name": "stdout",
     "output_type": "stream",
     "text": [
      "Company first_horizon_bank is added to the graph.\n"
     ]
    },
    {
     "name": "stderr",
     "output_type": "stream",
     "text": [
      " 25%|██▌       | 349/1386 [03:16<11:17,  1.53it/s]"
     ]
    },
    {
     "name": "stdout",
     "output_type": "stream",
     "text": [
      "Company crave_cookies is added to the graph.\n"
     ]
    },
    {
     "name": "stderr",
     "output_type": "stream",
     "text": [
      " 25%|██▌       | 350/1386 [03:16<09:24,  1.83it/s]"
     ]
    },
    {
     "name": "stdout",
     "output_type": "stream",
     "text": [
      "Error: 'NoneType' object has no attribute 'append'\n"
     ]
    },
    {
     "name": "stderr",
     "output_type": "stream",
     "text": [
      " 25%|██▌       | 351/1386 [03:17<08:34,  2.01it/s]"
     ]
    },
    {
     "name": "stdout",
     "output_type": "stream",
     "text": [
      "Company beacon_capital is added to the graph.\n"
     ]
    },
    {
     "name": "stderr",
     "output_type": "stream",
     "text": [
      " 25%|██▌       | 352/1386 [03:17<09:05,  1.90it/s]"
     ]
    },
    {
     "name": "stdout",
     "output_type": "stream",
     "text": [
      "Company firstteam is added to the graph.\n"
     ]
    },
    {
     "name": "stderr",
     "output_type": "stream",
     "text": [
      " 25%|██▌       | 353/1386 [03:18<09:42,  1.77it/s]"
     ]
    },
    {
     "name": "stdout",
     "output_type": "stream",
     "text": [
      "Company northwestern_mutual is added to the graph.\n"
     ]
    },
    {
     "name": "stderr",
     "output_type": "stream",
     "text": [
      " 26%|██▌       | 354/1386 [03:19<12:45,  1.35it/s]"
     ]
    },
    {
     "name": "stdout",
     "output_type": "stream",
     "text": [
      "Company loanpass is added to the graph.\n"
     ]
    },
    {
     "name": "stderr",
     "output_type": "stream",
     "text": [
      " 26%|██▌       | 355/1386 [03:21<16:41,  1.03it/s]"
     ]
    },
    {
     "name": "stdout",
     "output_type": "stream",
     "text": [
      "Company chainalysis is added to the graph.\n"
     ]
    },
    {
     "name": "stderr",
     "output_type": "stream",
     "text": [
      " 26%|██▌       | 356/1386 [03:21<14:01,  1.22it/s]"
     ]
    },
    {
     "name": "stdout",
     "output_type": "stream",
     "text": [
      "Company lunar_outpost is added to the graph.\n"
     ]
    },
    {
     "name": "stderr",
     "output_type": "stream",
     "text": [
      " 26%|██▌       | 357/1386 [03:21<11:38,  1.47it/s]"
     ]
    },
    {
     "name": "stdout",
     "output_type": "stream",
     "text": [
      "Company nychdc is added to the graph.\n"
     ]
    },
    {
     "name": "stderr",
     "output_type": "stream",
     "text": [
      " 26%|██▌       | 358/1386 [03:22<12:54,  1.33it/s]"
     ]
    },
    {
     "name": "stdout",
     "output_type": "stream",
     "text": [
      "Company benefitfocus is added to the graph.\n"
     ]
    },
    {
     "name": "stderr",
     "output_type": "stream",
     "text": [
      " 26%|██▌       | 359/1386 [03:25<23:06,  1.35s/it]"
     ]
    },
    {
     "name": "stdout",
     "output_type": "stream",
     "text": [
      "Company dell is added to the graph.\n"
     ]
    },
    {
     "name": "stderr",
     "output_type": "stream",
     "text": [
      " 26%|██▌       | 360/1386 [03:26<18:35,  1.09s/it]"
     ]
    },
    {
     "name": "stdout",
     "output_type": "stream",
     "text": [
      "Company peoples_advantage_fcu is added to the graph.\n"
     ]
    },
    {
     "name": "stderr",
     "output_type": "stream",
     "text": [
      " 26%|██▌       | 361/1386 [03:26<17:09,  1.00s/it]"
     ]
    },
    {
     "name": "stdout",
     "output_type": "stream",
     "text": [
      "Company baker_tilly is added to the graph.\n"
     ]
    },
    {
     "name": "stderr",
     "output_type": "stream",
     "text": [
      " 26%|██▌       | 362/1386 [03:27<15:19,  1.11it/s]"
     ]
    },
    {
     "name": "stdout",
     "output_type": "stream",
     "text": [
      "Company clarkdietrich is added to the graph.\n"
     ]
    },
    {
     "name": "stderr",
     "output_type": "stream",
     "text": [
      " 26%|██▌       | 363/1386 [03:28<13:37,  1.25it/s]"
     ]
    },
    {
     "name": "stdout",
     "output_type": "stream",
     "text": [
      "Company dupaco_credit_union is added to the graph.\n"
     ]
    },
    {
     "name": "stderr",
     "output_type": "stream",
     "text": [
      " 26%|██▋       | 364/1386 [03:28<12:34,  1.35it/s]"
     ]
    },
    {
     "name": "stdout",
     "output_type": "stream",
     "text": [
      "Company advancedmd_software is added to the graph.\n"
     ]
    },
    {
     "name": "stderr",
     "output_type": "stream",
     "text": [
      " 26%|██▋       | 365/1386 [03:29<14:51,  1.14it/s]"
     ]
    },
    {
     "name": "stdout",
     "output_type": "stream",
     "text": [
      "Company transwestern is added to the graph.\n"
     ]
    },
    {
     "name": "stderr",
     "output_type": "stream",
     "text": [
      " 26%|██▋       | 366/1386 [03:30<12:00,  1.42it/s]"
     ]
    },
    {
     "name": "stdout",
     "output_type": "stream",
     "text": [
      "Error: 'NoneType' object has no attribute 'append'\n"
     ]
    },
    {
     "name": "stderr",
     "output_type": "stream",
     "text": [
      " 26%|██▋       | 367/1386 [03:30<10:11,  1.67it/s]"
     ]
    },
    {
     "name": "stdout",
     "output_type": "stream",
     "text": [
      "Company zrs_management is added to the graph.\n"
     ]
    },
    {
     "name": "stderr",
     "output_type": "stream",
     "text": [
      " 27%|██▋       | 368/1386 [03:30<08:37,  1.97it/s]"
     ]
    },
    {
     "name": "stdout",
     "output_type": "stream",
     "text": [
      "Error: 'NoneType' object has no attribute 'append'\n"
     ]
    },
    {
     "name": "stderr",
     "output_type": "stream",
     "text": [
      " 27%|██▋       | 369/1386 [03:31<08:58,  1.89it/s]"
     ]
    },
    {
     "name": "stdout",
     "output_type": "stream",
     "text": [
      "Company cumberland_county_fcu is added to the graph.\n"
     ]
    },
    {
     "name": "stderr",
     "output_type": "stream",
     "text": [
      " 27%|██▋       | 370/1386 [03:32<11:11,  1.51it/s]"
     ]
    },
    {
     "name": "stdout",
     "output_type": "stream",
     "text": [
      "Company fishbeck is added to the graph.\n"
     ]
    },
    {
     "name": "stderr",
     "output_type": "stream",
     "text": [
      " 27%|██▋       | 371/1386 [03:32<09:46,  1.73it/s]"
     ]
    },
    {
     "name": "stdout",
     "output_type": "stream",
     "text": [
      "Company paybycar is added to the graph.\n"
     ]
    },
    {
     "name": "stderr",
     "output_type": "stream",
     "text": [
      " 27%|██▋       | 372/1386 [03:33<09:35,  1.76it/s]"
     ]
    },
    {
     "name": "stdout",
     "output_type": "stream",
     "text": [
      "Company barkan_co is added to the graph.\n"
     ]
    },
    {
     "name": "stderr",
     "output_type": "stream",
     "text": [
      " 27%|██▋       | 373/1386 [03:33<08:49,  1.91it/s]"
     ]
    },
    {
     "name": "stdout",
     "output_type": "stream",
     "text": [
      "Company hiline is added to the graph.\n"
     ]
    },
    {
     "name": "stderr",
     "output_type": "stream",
     "text": [
      " 27%|██▋       | 374/1386 [03:34<07:40,  2.20it/s]"
     ]
    },
    {
     "name": "stdout",
     "output_type": "stream",
     "text": [
      "Error: 'NoneType' object has no attribute 'append'\n"
     ]
    },
    {
     "name": "stderr",
     "output_type": "stream",
     "text": [
      " 27%|██▋       | 375/1386 [03:34<07:11,  2.34it/s]"
     ]
    },
    {
     "name": "stdout",
     "output_type": "stream",
     "text": [
      "Company fabulingua is added to the graph.\n"
     ]
    },
    {
     "name": "stderr",
     "output_type": "stream",
     "text": [
      " 27%|██▋       | 376/1386 [03:35<10:28,  1.61it/s]"
     ]
    },
    {
     "name": "stdout",
     "output_type": "stream",
     "text": [
      "Company magnit is added to the graph.\n"
     ]
    },
    {
     "name": "stderr",
     "output_type": "stream",
     "text": [
      " 27%|██▋       | 377/1386 [03:35<09:38,  1.74it/s]"
     ]
    },
    {
     "name": "stdout",
     "output_type": "stream",
     "text": [
      "Company alchemy is added to the graph.\n"
     ]
    },
    {
     "name": "stderr",
     "output_type": "stream",
     "text": [
      " 27%|██▋       | 378/1386 [03:36<08:43,  1.93it/s]"
     ]
    },
    {
     "name": "stdout",
     "output_type": "stream",
     "text": [
      "Company applied_marketing_group is added to the graph.\n"
     ]
    },
    {
     "name": "stderr",
     "output_type": "stream",
     "text": [
      " 27%|██▋       | 379/1386 [03:36<07:58,  2.10it/s]"
     ]
    },
    {
     "name": "stdout",
     "output_type": "stream",
     "text": [
      "Company brandoutlook is added to the graph.\n"
     ]
    },
    {
     "name": "stderr",
     "output_type": "stream",
     "text": [
      " 27%|██▋       | 380/1386 [03:37<08:20,  2.01it/s]"
     ]
    },
    {
     "name": "stdout",
     "output_type": "stream",
     "text": [
      "Company dickinson_cameron_construction is added to the graph.\n"
     ]
    },
    {
     "name": "stderr",
     "output_type": "stream",
     "text": [
      " 27%|██▋       | 381/1386 [03:38<10:00,  1.67it/s]"
     ]
    },
    {
     "name": "stdout",
     "output_type": "stream",
     "text": [
      "Company salesforce_com is added to the graph.\n"
     ]
    },
    {
     "name": "stderr",
     "output_type": "stream",
     "text": [
      " 28%|██▊       | 382/1386 [03:38<10:20,  1.62it/s]"
     ]
    },
    {
     "name": "stdout",
     "output_type": "stream",
     "text": [
      "Company gucu is added to the graph.\n"
     ]
    },
    {
     "name": "stderr",
     "output_type": "stream",
     "text": [
      " 28%|██▊       | 383/1386 [03:39<09:02,  1.85it/s]"
     ]
    },
    {
     "name": "stdout",
     "output_type": "stream",
     "text": [
      "Company 219_design is added to the graph.\n"
     ]
    },
    {
     "name": "stderr",
     "output_type": "stream",
     "text": [
      " 28%|██▊       | 384/1386 [03:39<08:41,  1.92it/s]"
     ]
    },
    {
     "name": "stdout",
     "output_type": "stream",
     "text": [
      "Company raise_heck is added to the graph.\n"
     ]
    },
    {
     "name": "stderr",
     "output_type": "stream",
     "text": [
      " 28%|██▊       | 385/1386 [03:39<08:03,  2.07it/s]"
     ]
    },
    {
     "name": "stdout",
     "output_type": "stream",
     "text": [
      "Company coldwell_banker is added to the graph.\n"
     ]
    },
    {
     "name": "stderr",
     "output_type": "stream",
     "text": [
      " 28%|██▊       | 386/1386 [03:40<07:36,  2.19it/s]"
     ]
    },
    {
     "name": "stdout",
     "output_type": "stream",
     "text": [
      "Company longo’s is added to the graph.\n"
     ]
    },
    {
     "name": "stderr",
     "output_type": "stream",
     "text": [
      " 28%|██▊       | 387/1386 [03:40<07:27,  2.23it/s]"
     ]
    },
    {
     "name": "stdout",
     "output_type": "stream",
     "text": [
      "Company royal_credit_union is added to the graph.\n"
     ]
    },
    {
     "name": "stderr",
     "output_type": "stream",
     "text": [
      " 28%|██▊       | 388/1386 [03:41<07:21,  2.26it/s]"
     ]
    },
    {
     "name": "stdout",
     "output_type": "stream",
     "text": [
      "Company ubs is added to the graph.\n"
     ]
    },
    {
     "name": "stderr",
     "output_type": "stream",
     "text": [
      " 28%|██▊       | 389/1386 [03:41<07:40,  2.17it/s]"
     ]
    },
    {
     "name": "stdout",
     "output_type": "stream",
     "text": [
      "Company majestic is added to the graph.\n"
     ]
    },
    {
     "name": "stderr",
     "output_type": "stream",
     "text": [
      " 28%|██▊       | 390/1386 [03:42<08:22,  1.98it/s]"
     ]
    },
    {
     "name": "stdout",
     "output_type": "stream",
     "text": [
      "Company maritz_global_events is added to the graph.\n"
     ]
    },
    {
     "name": "stderr",
     "output_type": "stream",
     "text": [
      " 28%|██▊       | 391/1386 [03:42<09:02,  1.83it/s]"
     ]
    },
    {
     "name": "stdout",
     "output_type": "stream",
     "text": [
      "Company the_phia_group is added to the graph.\n"
     ]
    },
    {
     "name": "stderr",
     "output_type": "stream",
     "text": [
      " 28%|██▊       | 392/1386 [03:43<07:53,  2.10it/s]"
     ]
    },
    {
     "name": "stdout",
     "output_type": "stream",
     "text": [
      "Error: 'NoneType' object has no attribute 'append'\n"
     ]
    },
    {
     "name": "stderr",
     "output_type": "stream",
     "text": [
      " 28%|██▊       | 393/1386 [03:43<08:19,  1.99it/s]"
     ]
    },
    {
     "name": "stdout",
     "output_type": "stream",
     "text": [
      "Company aon is added to the graph.\n"
     ]
    },
    {
     "name": "stderr",
     "output_type": "stream",
     "text": [
      " 28%|██▊       | 394/1386 [03:44<08:37,  1.92it/s]"
     ]
    },
    {
     "name": "stdout",
     "output_type": "stream",
     "text": [
      "Company fool_com is added to the graph.\n"
     ]
    },
    {
     "name": "stderr",
     "output_type": "stream",
     "text": [
      " 28%|██▊       | 395/1386 [03:44<08:19,  1.98it/s]"
     ]
    },
    {
     "name": "stdout",
     "output_type": "stream",
     "text": [
      "Company edf_renewables is added to the graph.\n"
     ]
    },
    {
     "name": "stderr",
     "output_type": "stream",
     "text": [
      " 29%|██▊       | 396/1386 [03:45<07:21,  2.24it/s]"
     ]
    },
    {
     "name": "stdout",
     "output_type": "stream",
     "text": [
      "Error: 'NoneType' object has no attribute 'append'\n"
     ]
    },
    {
     "name": "stderr",
     "output_type": "stream",
     "text": [
      " 29%|██▊       | 397/1386 [03:45<07:16,  2.26it/s]"
     ]
    },
    {
     "name": "stdout",
     "output_type": "stream",
     "text": [
      "Company apex_hcm is added to the graph.\n"
     ]
    },
    {
     "name": "stderr",
     "output_type": "stream",
     "text": [
      " 29%|██▊       | 398/1386 [03:46<07:06,  2.32it/s]"
     ]
    },
    {
     "name": "stdout",
     "output_type": "stream",
     "text": [
      "Company evolve is added to the graph.\n"
     ]
    },
    {
     "name": "stderr",
     "output_type": "stream",
     "text": [
      " 29%|██▉       | 399/1386 [03:46<09:50,  1.67it/s]"
     ]
    },
    {
     "name": "stdout",
     "output_type": "stream",
     "text": [
      "Company fx_loader is added to the graph.\n"
     ]
    },
    {
     "name": "stderr",
     "output_type": "stream",
     "text": [
      " 29%|██▉       | 400/1386 [03:47<09:25,  1.74it/s]"
     ]
    },
    {
     "name": "stdout",
     "output_type": "stream",
     "text": [
      "Error: 'url'\n"
     ]
    },
    {
     "name": "stderr",
     "output_type": "stream",
     "text": [
      " 29%|██▉       | 401/1386 [03:47<08:25,  1.95it/s]"
     ]
    },
    {
     "name": "stdout",
     "output_type": "stream",
     "text": [
      "Company astatine_investment_partners is added to the graph.\n"
     ]
    },
    {
     "name": "stderr",
     "output_type": "stream",
     "text": [
      " 29%|██▉       | 402/1386 [03:48<09:22,  1.75it/s]"
     ]
    },
    {
     "name": "stdout",
     "output_type": "stream",
     "text": [
      "Company village_bank is added to the graph.\n"
     ]
    },
    {
     "name": "stderr",
     "output_type": "stream",
     "text": [
      " 29%|██▉       | 403/1386 [03:49<09:39,  1.69it/s]"
     ]
    },
    {
     "name": "stdout",
     "output_type": "stream",
     "text": [
      "Company european_detail_specialists is added to the graph.\n"
     ]
    },
    {
     "name": "stderr",
     "output_type": "stream",
     "text": [
      " 29%|██▉       | 404/1386 [03:49<09:40,  1.69it/s]"
     ]
    },
    {
     "name": "stdout",
     "output_type": "stream",
     "text": [
      "Company rite_aid is added to the graph.\n"
     ]
    },
    {
     "name": "stderr",
     "output_type": "stream",
     "text": [
      " 29%|██▉       | 405/1386 [03:50<12:26,  1.31it/s]"
     ]
    },
    {
     "name": "stdout",
     "output_type": "stream",
     "text": [
      "Company peterson_partners is added to the graph.\n"
     ]
    },
    {
     "name": "stderr",
     "output_type": "stream",
     "text": [
      " 29%|██▉       | 406/1386 [03:51<10:35,  1.54it/s]"
     ]
    },
    {
     "name": "stdout",
     "output_type": "stream",
     "text": [
      "Company us_agriculture is added to the graph.\n"
     ]
    },
    {
     "name": "stderr",
     "output_type": "stream",
     "text": [
      " 29%|██▉       | 407/1386 [03:51<09:22,  1.74it/s]"
     ]
    },
    {
     "name": "stdout",
     "output_type": "stream",
     "text": [
      "Company gjensidige is added to the graph.\n"
     ]
    },
    {
     "name": "stderr",
     "output_type": "stream",
     "text": [
      " 29%|██▉       | 408/1386 [03:52<09:35,  1.70it/s]"
     ]
    },
    {
     "name": "stdout",
     "output_type": "stream",
     "text": [
      "Company cater_nation is added to the graph.\n"
     ]
    },
    {
     "name": "stderr",
     "output_type": "stream",
     "text": [
      " 30%|██▉       | 409/1386 [03:52<08:10,  1.99it/s]"
     ]
    },
    {
     "name": "stdout",
     "output_type": "stream",
     "text": [
      "Error: 'NoneType' object has no attribute 'append'\n"
     ]
    },
    {
     "name": "stderr",
     "output_type": "stream",
     "text": [
      " 30%|██▉       | 410/1386 [03:53<07:47,  2.09it/s]"
     ]
    },
    {
     "name": "stdout",
     "output_type": "stream",
     "text": [
      "Company grade_zero is added to the graph.\n"
     ]
    },
    {
     "name": "stderr",
     "output_type": "stream",
     "text": [
      " 30%|██▉       | 411/1386 [03:53<07:30,  2.16it/s]"
     ]
    },
    {
     "name": "stdout",
     "output_type": "stream",
     "text": [
      "Company carolina_eye_candy is added to the graph.\n"
     ]
    },
    {
     "name": "stderr",
     "output_type": "stream",
     "text": [
      " 30%|██▉       | 412/1386 [03:53<07:16,  2.23it/s]"
     ]
    },
    {
     "name": "stdout",
     "output_type": "stream",
     "text": [
      "Company fresh_financials is added to the graph.\n"
     ]
    },
    {
     "name": "stderr",
     "output_type": "stream",
     "text": [
      " 30%|██▉       | 413/1386 [03:54<07:01,  2.31it/s]"
     ]
    },
    {
     "name": "stdout",
     "output_type": "stream",
     "text": [
      "Company kenetic is added to the graph.\n"
     ]
    },
    {
     "name": "stderr",
     "output_type": "stream",
     "text": [
      " 30%|██▉       | 414/1386 [03:54<06:59,  2.31it/s]"
     ]
    },
    {
     "name": "stdout",
     "output_type": "stream",
     "text": [
      "Company rangewater is added to the graph.\n"
     ]
    },
    {
     "name": "stderr",
     "output_type": "stream",
     "text": [
      " 30%|██▉       | 415/1386 [03:55<06:52,  2.35it/s]"
     ]
    },
    {
     "name": "stdout",
     "output_type": "stream",
     "text": [
      "Company prestige_fund is added to the graph.\n"
     ]
    },
    {
     "name": "stderr",
     "output_type": "stream",
     "text": [
      " 30%|███       | 416/1386 [03:56<09:03,  1.79it/s]"
     ]
    },
    {
     "name": "stdout",
     "output_type": "stream",
     "text": [
      "Company sfrep is added to the graph.\n"
     ]
    },
    {
     "name": "stderr",
     "output_type": "stream",
     "text": [
      " 30%|███       | 417/1386 [03:56<08:20,  1.94it/s]"
     ]
    },
    {
     "name": "stdout",
     "output_type": "stream",
     "text": [
      "Company powers_insurance_experts is added to the graph.\n"
     ]
    },
    {
     "name": "stderr",
     "output_type": "stream",
     "text": [
      " 30%|███       | 418/1386 [03:56<07:28,  2.16it/s]"
     ]
    },
    {
     "name": "stdout",
     "output_type": "stream",
     "text": [
      "Company the_sustainability_consortium is added to the graph.\n"
     ]
    },
    {
     "name": "stderr",
     "output_type": "stream",
     "text": [
      " 30%|███       | 419/1386 [03:57<10:15,  1.57it/s]"
     ]
    },
    {
     "name": "stdout",
     "output_type": "stream",
     "text": [
      "Company remy_sleep is added to the graph.\n"
     ]
    },
    {
     "name": "stderr",
     "output_type": "stream",
     "text": [
      " 30%|███       | 420/1386 [03:58<11:01,  1.46it/s]"
     ]
    },
    {
     "name": "stdout",
     "output_type": "stream",
     "text": [
      "Company polygon_technology is added to the graph.\n"
     ]
    },
    {
     "name": "stderr",
     "output_type": "stream",
     "text": [
      " 30%|███       | 421/1386 [03:59<10:02,  1.60it/s]"
     ]
    },
    {
     "name": "stdout",
     "output_type": "stream",
     "text": [
      "Company assured_partners is added to the graph.\n"
     ]
    },
    {
     "name": "stderr",
     "output_type": "stream",
     "text": [
      " 30%|███       | 422/1386 [04:00<12:12,  1.32it/s]"
     ]
    },
    {
     "name": "stdout",
     "output_type": "stream",
     "text": [
      "Company tongass_fcu is added to the graph.\n"
     ]
    },
    {
     "name": "stderr",
     "output_type": "stream",
     "text": [
      " 31%|███       | 423/1386 [04:00<11:41,  1.37it/s]"
     ]
    },
    {
     "name": "stdout",
     "output_type": "stream",
     "text": [
      "Company wolfe_research is added to the graph.\n"
     ]
    },
    {
     "name": "stderr",
     "output_type": "stream",
     "text": [
      " 31%|███       | 424/1386 [04:01<10:25,  1.54it/s]"
     ]
    },
    {
     "name": "stdout",
     "output_type": "stream",
     "text": [
      "Company hover is added to the graph.\n"
     ]
    },
    {
     "name": "stderr",
     "output_type": "stream",
     "text": [
      " 31%|███       | 425/1386 [04:01<09:47,  1.64it/s]"
     ]
    },
    {
     "name": "stdout",
     "output_type": "stream",
     "text": [
      "Company steve_grantham_bespoke is added to the graph.\n"
     ]
    },
    {
     "name": "stderr",
     "output_type": "stream",
     "text": [
      " 31%|███       | 426/1386 [04:02<08:43,  1.83it/s]"
     ]
    },
    {
     "name": "stdout",
     "output_type": "stream",
     "text": [
      "Company revent_builds is added to the graph.\n"
     ]
    },
    {
     "name": "stderr",
     "output_type": "stream",
     "text": [
      " 31%|███       | 427/1386 [04:02<08:17,  1.93it/s]"
     ]
    },
    {
     "name": "stdout",
     "output_type": "stream",
     "text": [
      "Company covalent is added to the graph.\n"
     ]
    },
    {
     "name": "stderr",
     "output_type": "stream",
     "text": [
      " 31%|███       | 428/1386 [04:03<07:34,  2.11it/s]"
     ]
    },
    {
     "name": "stdout",
     "output_type": "stream",
     "text": [
      "Company bloomberg is added to the graph.\n"
     ]
    },
    {
     "name": "stderr",
     "output_type": "stream",
     "text": [
      " 31%|███       | 429/1386 [04:03<07:23,  2.16it/s]"
     ]
    },
    {
     "name": "stdout",
     "output_type": "stream",
     "text": [
      "Company vistaprint is added to the graph.\n"
     ]
    },
    {
     "name": "stderr",
     "output_type": "stream",
     "text": [
      " 31%|███       | 430/1386 [04:04<08:10,  1.95it/s]"
     ]
    },
    {
     "name": "stdout",
     "output_type": "stream",
     "text": [
      "Company money_lion is added to the graph.\n"
     ]
    },
    {
     "name": "stderr",
     "output_type": "stream",
     "text": [
      " 31%|███       | 431/1386 [04:04<07:07,  2.23it/s]"
     ]
    },
    {
     "name": "stdout",
     "output_type": "stream",
     "text": [
      "Error: 'NoneType' object has no attribute 'append'\n"
     ]
    },
    {
     "name": "stderr",
     "output_type": "stream",
     "text": [
      " 31%|███       | 432/1386 [04:05<08:48,  1.80it/s]"
     ]
    },
    {
     "name": "stdout",
     "output_type": "stream",
     "text": [
      "Company usg is added to the graph.\n"
     ]
    },
    {
     "name": "stderr",
     "output_type": "stream",
     "text": [
      " 31%|███       | 433/1386 [04:05<08:17,  1.92it/s]"
     ]
    },
    {
     "name": "stdout",
     "output_type": "stream",
     "text": [
      "Company fifth_third_bank is added to the graph.\n"
     ]
    },
    {
     "name": "stderr",
     "output_type": "stream",
     "text": [
      " 31%|███▏      | 434/1386 [04:05<07:09,  2.22it/s]"
     ]
    },
    {
     "name": "stdout",
     "output_type": "stream",
     "text": [
      "Error: 'NoneType' object has no attribute 'append'\n"
     ]
    },
    {
     "name": "stderr",
     "output_type": "stream",
     "text": [
      " 31%|███▏      | 435/1386 [04:06<08:54,  1.78it/s]"
     ]
    },
    {
     "name": "stdout",
     "output_type": "stream",
     "text": [
      "Company park_city_cu is added to the graph.\n"
     ]
    },
    {
     "name": "stderr",
     "output_type": "stream",
     "text": [
      " 31%|███▏      | 436/1386 [04:08<12:10,  1.30it/s]"
     ]
    },
    {
     "name": "stdout",
     "output_type": "stream",
     "text": [
      "Company advantage_credit is added to the graph.\n"
     ]
    },
    {
     "name": "stderr",
     "output_type": "stream",
     "text": [
      " 32%|███▏      | 437/1386 [04:08<10:21,  1.53it/s]"
     ]
    },
    {
     "name": "stdout",
     "output_type": "stream",
     "text": [
      "Company the_agency is added to the graph.\n"
     ]
    },
    {
     "name": "stderr",
     "output_type": "stream",
     "text": [
      " 32%|███▏      | 438/1386 [04:08<09:15,  1.71it/s]"
     ]
    },
    {
     "name": "stdout",
     "output_type": "stream",
     "text": [
      "Company mystartupcfo is added to the graph.\n"
     ]
    },
    {
     "name": "stderr",
     "output_type": "stream",
     "text": [
      " 32%|███▏      | 439/1386 [04:09<08:31,  1.85it/s]"
     ]
    },
    {
     "name": "stdout",
     "output_type": "stream",
     "text": [
      "Company permadeath_studios is added to the graph.\n"
     ]
    },
    {
     "name": "stderr",
     "output_type": "stream",
     "text": [
      " 32%|███▏      | 440/1386 [04:09<07:49,  2.02it/s]"
     ]
    },
    {
     "name": "stdout",
     "output_type": "stream",
     "text": [
      "Company desert_swarm_bee_removal is added to the graph.\n"
     ]
    },
    {
     "name": "stderr",
     "output_type": "stream",
     "text": [
      " 32%|███▏      | 441/1386 [04:10<07:10,  2.19it/s]"
     ]
    },
    {
     "name": "stdout",
     "output_type": "stream",
     "text": [
      "Company compass_realty is added to the graph.\n"
     ]
    },
    {
     "name": "stderr",
     "output_type": "stream",
     "text": [
      " 32%|███▏      | 442/1386 [04:10<07:28,  2.11it/s]"
     ]
    },
    {
     "name": "stdout",
     "output_type": "stream",
     "text": [
      "Company drake_construction_services is added to the graph.\n"
     ]
    },
    {
     "name": "stderr",
     "output_type": "stream",
     "text": [
      " 32%|███▏      | 443/1386 [04:11<07:29,  2.10it/s]"
     ]
    },
    {
     "name": "stdout",
     "output_type": "stream",
     "text": [
      "Company republic_bank is added to the graph.\n"
     ]
    },
    {
     "name": "stderr",
     "output_type": "stream",
     "text": [
      " 32%|███▏      | 444/1386 [04:11<07:14,  2.17it/s]"
     ]
    },
    {
     "name": "stdout",
     "output_type": "stream",
     "text": [
      "Company delta_electrical_inc_ is added to the graph.\n"
     ]
    },
    {
     "name": "stderr",
     "output_type": "stream",
     "text": [
      " 32%|███▏      | 445/1386 [04:12<09:49,  1.60it/s]"
     ]
    },
    {
     "name": "stdout",
     "output_type": "stream",
     "text": [
      "Company o’reilly_media is added to the graph.\n"
     ]
    },
    {
     "name": "stderr",
     "output_type": "stream",
     "text": [
      " 32%|███▏      | 446/1386 [04:12<08:49,  1.77it/s]"
     ]
    },
    {
     "name": "stdout",
     "output_type": "stream",
     "text": [
      "Company findec is added to the graph.\n"
     ]
    },
    {
     "name": "stderr",
     "output_type": "stream",
     "text": [
      " 32%|███▏      | 447/1386 [04:13<08:19,  1.88it/s]"
     ]
    },
    {
     "name": "stdout",
     "output_type": "stream",
     "text": [
      "Company hargreaves_lansdown is added to the graph.\n"
     ]
    },
    {
     "name": "stderr",
     "output_type": "stream",
     "text": [
      " 32%|███▏      | 448/1386 [04:13<07:37,  2.05it/s]"
     ]
    },
    {
     "name": "stdout",
     "output_type": "stream",
     "text": [
      "Company pie_insurance is added to the graph.\n"
     ]
    },
    {
     "name": "stderr",
     "output_type": "stream",
     "text": [
      " 32%|███▏      | 449/1386 [04:14<07:05,  2.20it/s]"
     ]
    },
    {
     "name": "stdout",
     "output_type": "stream",
     "text": [
      "Company urstadt_biddle_properties_ubp is added to the graph.\n"
     ]
    },
    {
     "name": "stderr",
     "output_type": "stream",
     "text": [
      " 32%|███▏      | 450/1386 [04:14<06:59,  2.23it/s]"
     ]
    },
    {
     "name": "stdout",
     "output_type": "stream",
     "text": [
      "Company alphasights is added to the graph.\n"
     ]
    },
    {
     "name": "stderr",
     "output_type": "stream",
     "text": [
      " 33%|███▎      | 451/1386 [04:14<06:36,  2.36it/s]"
     ]
    },
    {
     "name": "stdout",
     "output_type": "stream",
     "text": [
      "Company park_and_walk is added to the graph.\n"
     ]
    },
    {
     "name": "stderr",
     "output_type": "stream",
     "text": [
      " 33%|███▎      | 452/1386 [04:15<06:38,  2.34it/s]"
     ]
    },
    {
     "name": "stdout",
     "output_type": "stream",
     "text": [
      "Company mcalvain is added to the graph.\n"
     ]
    },
    {
     "name": "stderr",
     "output_type": "stream",
     "text": [
      " 33%|███▎      | 453/1386 [04:15<07:28,  2.08it/s]"
     ]
    },
    {
     "name": "stdout",
     "output_type": "stream",
     "text": [
      "Company lcb_senior_living is added to the graph.\n"
     ]
    },
    {
     "name": "stderr",
     "output_type": "stream",
     "text": [
      " 33%|███▎      | 454/1386 [04:16<07:47,  2.00it/s]"
     ]
    },
    {
     "name": "stdout",
     "output_type": "stream",
     "text": [
      "Company novo_nordisk is added to the graph.\n"
     ]
    },
    {
     "name": "stderr",
     "output_type": "stream",
     "text": [
      " 33%|███▎      | 455/1386 [04:17<08:16,  1.87it/s]"
     ]
    },
    {
     "name": "stdout",
     "output_type": "stream",
     "text": [
      "Company 3m is added to the graph.\n"
     ]
    },
    {
     "name": "stderr",
     "output_type": "stream",
     "text": [
      " 33%|███▎      | 456/1386 [04:17<07:11,  2.15it/s]"
     ]
    },
    {
     "name": "stdout",
     "output_type": "stream",
     "text": [
      "Error: 'NoneType' object has no attribute 'append'\n"
     ]
    },
    {
     "name": "stderr",
     "output_type": "stream",
     "text": [
      " 33%|███▎      | 457/1386 [04:17<06:56,  2.23it/s]"
     ]
    },
    {
     "name": "stdout",
     "output_type": "stream",
     "text": [
      "Company nestseekers is added to the graph.\n"
     ]
    },
    {
     "name": "stderr",
     "output_type": "stream",
     "text": [
      " 33%|███▎      | 458/1386 [04:18<07:07,  2.17it/s]"
     ]
    },
    {
     "name": "stdout",
     "output_type": "stream",
     "text": [
      "Company metro is added to the graph.\n"
     ]
    },
    {
     "name": "stderr",
     "output_type": "stream",
     "text": [
      " 33%|███▎      | 459/1386 [04:18<06:42,  2.30it/s]"
     ]
    },
    {
     "name": "stdout",
     "output_type": "stream",
     "text": [
      "Company bvh_architecture is added to the graph.\n"
     ]
    },
    {
     "name": "stderr",
     "output_type": "stream",
     "text": [
      " 33%|███▎      | 460/1386 [04:19<07:22,  2.09it/s]"
     ]
    },
    {
     "name": "stdout",
     "output_type": "stream",
     "text": [
      "Company ekata is added to the graph.\n"
     ]
    },
    {
     "name": "stderr",
     "output_type": "stream",
     "text": [
      " 33%|███▎      | 461/1386 [04:20<10:16,  1.50it/s]"
     ]
    },
    {
     "name": "stdout",
     "output_type": "stream",
     "text": [
      "Company ledger is added to the graph.\n"
     ]
    },
    {
     "name": "stderr",
     "output_type": "stream",
     "text": [
      " 33%|███▎      | 462/1386 [04:20<09:25,  1.63it/s]"
     ]
    },
    {
     "name": "stdout",
     "output_type": "stream",
     "text": [
      "Company hidden_grounds is added to the graph.\n"
     ]
    },
    {
     "name": "stderr",
     "output_type": "stream",
     "text": [
      " 33%|███▎      | 463/1386 [04:21<08:52,  1.73it/s]"
     ]
    },
    {
     "name": "stdout",
     "output_type": "stream",
     "text": [
      "Company armor_fence is added to the graph.\n"
     ]
    },
    {
     "name": "stderr",
     "output_type": "stream",
     "text": [
      " 33%|███▎      | 464/1386 [04:21<08:33,  1.79it/s]"
     ]
    },
    {
     "name": "stdout",
     "output_type": "stream",
     "text": [
      "Company lpl is added to the graph.\n"
     ]
    },
    {
     "name": "stderr",
     "output_type": "stream",
     "text": [
      " 34%|███▎      | 465/1386 [04:22<08:25,  1.82it/s]"
     ]
    },
    {
     "name": "stdout",
     "output_type": "stream",
     "text": [
      "Company otium_concierge is added to the graph.\n"
     ]
    },
    {
     "name": "stderr",
     "output_type": "stream",
     "text": [
      " 34%|███▎      | 466/1386 [04:22<08:22,  1.83it/s]"
     ]
    },
    {
     "name": "stdout",
     "output_type": "stream",
     "text": [
      "Company vornado_realty_trust is added to the graph.\n"
     ]
    },
    {
     "name": "stderr",
     "output_type": "stream",
     "text": [
      " 34%|███▎      | 467/1386 [04:23<07:28,  2.05it/s]"
     ]
    },
    {
     "name": "stdout",
     "output_type": "stream",
     "text": [
      "Company catalyst_insurance_group is added to the graph.\n"
     ]
    },
    {
     "name": "stderr",
     "output_type": "stream",
     "text": [
      " 34%|███▍      | 468/1386 [04:24<08:31,  1.80it/s]"
     ]
    },
    {
     "name": "stdout",
     "output_type": "stream",
     "text": [
      "Company wheelhouse is added to the graph.\n"
     ]
    },
    {
     "name": "stderr",
     "output_type": "stream",
     "text": [
      " 34%|███▍      | 469/1386 [04:24<09:46,  1.56it/s]"
     ]
    },
    {
     "name": "stdout",
     "output_type": "stream",
     "text": [
      "Company wafd_bank is added to the graph.\n"
     ]
    },
    {
     "name": "stderr",
     "output_type": "stream",
     "text": [
      " 34%|███▍      | 470/1386 [04:25<08:39,  1.76it/s]"
     ]
    },
    {
     "name": "stdout",
     "output_type": "stream",
     "text": [
      "Company pierce_education_properties is added to the graph.\n"
     ]
    },
    {
     "name": "stderr",
     "output_type": "stream",
     "text": [
      " 34%|███▍      | 471/1386 [04:27<14:28,  1.05it/s]"
     ]
    },
    {
     "name": "stdout",
     "output_type": "stream",
     "text": [
      "Company fifth_wall is added to the graph.\n"
     ]
    },
    {
     "name": "stderr",
     "output_type": "stream",
     "text": [
      " 34%|███▍      | 472/1386 [04:27<14:07,  1.08it/s]"
     ]
    },
    {
     "name": "stdout",
     "output_type": "stream",
     "text": [
      "Company gtis_partners is added to the graph.\n"
     ]
    },
    {
     "name": "stderr",
     "output_type": "stream",
     "text": [
      " 34%|███▍      | 473/1386 [04:28<13:43,  1.11it/s]"
     ]
    },
    {
     "name": "stdout",
     "output_type": "stream",
     "text": [
      "Company thomson_reuters is added to the graph.\n"
     ]
    },
    {
     "name": "stderr",
     "output_type": "stream",
     "text": [
      " 34%|███▍      | 474/1386 [04:29<12:46,  1.19it/s]"
     ]
    },
    {
     "name": "stdout",
     "output_type": "stream",
     "text": [
      "Company polaris is added to the graph.\n"
     ]
    },
    {
     "name": "stderr",
     "output_type": "stream",
     "text": [
      " 34%|███▍      | 475/1386 [04:29<10:49,  1.40it/s]"
     ]
    },
    {
     "name": "stdout",
     "output_type": "stream",
     "text": [
      "Company pepsi_com_tr is added to the graph.\n"
     ]
    },
    {
     "name": "stderr",
     "output_type": "stream",
     "text": [
      " 34%|███▍      | 476/1386 [04:31<13:42,  1.11it/s]"
     ]
    },
    {
     "name": "stdout",
     "output_type": "stream",
     "text": [
      "Company burkland is added to the graph.\n"
     ]
    },
    {
     "name": "stderr",
     "output_type": "stream",
     "text": [
      " 34%|███▍      | 477/1386 [04:31<11:28,  1.32it/s]"
     ]
    },
    {
     "name": "stdout",
     "output_type": "stream",
     "text": [
      "Company dipjar is added to the graph.\n"
     ]
    },
    {
     "name": "stderr",
     "output_type": "stream",
     "text": [
      " 34%|███▍      | 478/1386 [04:32<09:59,  1.51it/s]"
     ]
    },
    {
     "name": "stdout",
     "output_type": "stream",
     "text": [
      "Company redgate_lodge is added to the graph.\n"
     ]
    },
    {
     "name": "stderr",
     "output_type": "stream",
     "text": [
      " 35%|███▍      | 479/1386 [04:32<09:46,  1.55it/s]"
     ]
    },
    {
     "name": "stdout",
     "output_type": "stream",
     "text": [
      "Company bdo is added to the graph.\n"
     ]
    },
    {
     "name": "stderr",
     "output_type": "stream",
     "text": [
      " 35%|███▍      | 480/1386 [04:33<11:28,  1.32it/s]"
     ]
    },
    {
     "name": "stdout",
     "output_type": "stream",
     "text": [
      "Company awin is added to the graph.\n"
     ]
    },
    {
     "name": "stderr",
     "output_type": "stream",
     "text": [
      " 35%|███▍      | 481/1386 [04:34<10:45,  1.40it/s]"
     ]
    },
    {
     "name": "stdout",
     "output_type": "stream",
     "text": [
      "Company five_points_capital is added to the graph.\n"
     ]
    },
    {
     "name": "stderr",
     "output_type": "stream",
     "text": [
      " 35%|███▍      | 482/1386 [04:34<09:45,  1.54it/s]"
     ]
    },
    {
     "name": "stdout",
     "output_type": "stream",
     "text": [
      "Company lending_one is added to the graph.\n"
     ]
    },
    {
     "name": "stderr",
     "output_type": "stream",
     "text": [
      " 35%|███▍      | 483/1386 [04:35<08:54,  1.69it/s]"
     ]
    },
    {
     "name": "stdout",
     "output_type": "stream",
     "text": [
      "Company bitbasel_com is added to the graph.\n"
     ]
    },
    {
     "name": "stderr",
     "output_type": "stream",
     "text": [
      " 35%|███▍      | 484/1386 [04:35<08:21,  1.80it/s]"
     ]
    },
    {
     "name": "stdout",
     "output_type": "stream",
     "text": [
      "Company clearvision_av is added to the graph.\n"
     ]
    },
    {
     "name": "stderr",
     "output_type": "stream",
     "text": [
      " 35%|███▍      | 485/1386 [04:36<07:28,  2.01it/s]"
     ]
    },
    {
     "name": "stdout",
     "output_type": "stream",
     "text": [
      "Company lb_auto_trading is added to the graph.\n"
     ]
    },
    {
     "name": "stderr",
     "output_type": "stream",
     "text": [
      " 35%|███▌      | 486/1386 [04:36<06:48,  2.21it/s]"
     ]
    },
    {
     "name": "stdout",
     "output_type": "stream",
     "text": [
      "Company private_capital_investors is added to the graph.\n"
     ]
    },
    {
     "name": "stderr",
     "output_type": "stream",
     "text": [
      " 35%|███▌      | 487/1386 [04:37<10:28,  1.43it/s]"
     ]
    },
    {
     "name": "stdout",
     "output_type": "stream",
     "text": [
      "Company greystar is added to the graph.\n"
     ]
    },
    {
     "name": "stderr",
     "output_type": "stream",
     "text": [
      " 35%|███▌      | 488/1386 [04:38<09:33,  1.57it/s]"
     ]
    },
    {
     "name": "stdout",
     "output_type": "stream",
     "text": [
      "Company coldwell_banker_select is added to the graph.\n"
     ]
    },
    {
     "name": "stderr",
     "output_type": "stream",
     "text": [
      " 35%|███▌      | 489/1386 [04:38<09:52,  1.51it/s]"
     ]
    },
    {
     "name": "stdout",
     "output_type": "stream",
     "text": [
      "Company travelers is added to the graph.\n"
     ]
    },
    {
     "name": "stderr",
     "output_type": "stream",
     "text": [
      " 35%|███▌      | 490/1386 [04:39<09:34,  1.56it/s]"
     ]
    },
    {
     "name": "stdout",
     "output_type": "stream",
     "text": [
      "Company neatbooks_llc is added to the graph.\n"
     ]
    },
    {
     "name": "stderr",
     "output_type": "stream",
     "text": [
      " 35%|███▌      | 491/1386 [04:40<09:17,  1.60it/s]"
     ]
    },
    {
     "name": "stdout",
     "output_type": "stream",
     "text": [
      "Company bouwinvest is added to the graph.\n"
     ]
    },
    {
     "name": "stderr",
     "output_type": "stream",
     "text": [
      " 35%|███▌      | 492/1386 [04:40<08:32,  1.74it/s]"
     ]
    },
    {
     "name": "stdout",
     "output_type": "stream",
     "text": [
      "Company st_custom_homes is added to the graph.\n"
     ]
    },
    {
     "name": "stderr",
     "output_type": "stream",
     "text": [
      " 36%|███▌      | 493/1386 [04:41<08:51,  1.68it/s]"
     ]
    },
    {
     "name": "stdout",
     "output_type": "stream",
     "text": [
      "Company northern_redwood_federal_credit_union is added to the graph.\n"
     ]
    },
    {
     "name": "stderr",
     "output_type": "stream",
     "text": [
      " 36%|███▌      | 494/1386 [04:41<07:48,  1.90it/s]"
     ]
    },
    {
     "name": "stdout",
     "output_type": "stream",
     "text": [
      "Company chip_city is added to the graph.\n"
     ]
    },
    {
     "name": "stderr",
     "output_type": "stream",
     "text": [
      " 36%|███▌      | 495/1386 [04:41<06:59,  2.12it/s]"
     ]
    },
    {
     "name": "stdout",
     "output_type": "stream",
     "text": [
      "Company avatar_financial_group is added to the graph.\n"
     ]
    },
    {
     "name": "stderr",
     "output_type": "stream",
     "text": [
      " 36%|███▌      | 496/1386 [04:42<06:42,  2.21it/s]"
     ]
    },
    {
     "name": "stdout",
     "output_type": "stream",
     "text": [
      "Company center_for_restorative_justice_works is added to the graph.\n"
     ]
    },
    {
     "name": "stderr",
     "output_type": "stream",
     "text": [
      " 36%|███▌      | 497/1386 [04:42<06:01,  2.46it/s]"
     ]
    },
    {
     "name": "stdout",
     "output_type": "stream",
     "text": [
      "Error: 'NoneType' object has no attribute 'append'\n"
     ]
    },
    {
     "name": "stderr",
     "output_type": "stream",
     "text": [
      " 36%|███▌      | 498/1386 [04:43<05:49,  2.54it/s]"
     ]
    },
    {
     "name": "stdout",
     "output_type": "stream",
     "text": [
      "Company good_life_real_estate is added to the graph.\n"
     ]
    },
    {
     "name": "stderr",
     "output_type": "stream",
     "text": [
      " 36%|███▌      | 499/1386 [04:43<06:19,  2.34it/s]"
     ]
    },
    {
     "name": "stdout",
     "output_type": "stream",
     "text": [
      "Company the_network_firm is added to the graph.\n"
     ]
    },
    {
     "name": "stderr",
     "output_type": "stream",
     "text": [
      " 36%|███▌      | 500/1386 [04:43<05:42,  2.58it/s]"
     ]
    },
    {
     "name": "stdout",
     "output_type": "stream",
     "text": [
      "Error: 'NoneType' object has no attribute 'append'\n"
     ]
    },
    {
     "name": "stderr",
     "output_type": "stream",
     "text": [
      " 36%|███▌      | 501/1386 [04:44<06:23,  2.31it/s]"
     ]
    },
    {
     "name": "stdout",
     "output_type": "stream",
     "text": [
      "Company kiddom is added to the graph.\n"
     ]
    },
    {
     "name": "stderr",
     "output_type": "stream",
     "text": [
      " 36%|███▌      | 502/1386 [04:44<06:10,  2.38it/s]"
     ]
    },
    {
     "name": "stdout",
     "output_type": "stream",
     "text": [
      "Company herts_and_essex_van_sales is added to the graph.\n"
     ]
    },
    {
     "name": "stderr",
     "output_type": "stream",
     "text": [
      " 36%|███▋      | 503/1386 [04:45<07:09,  2.06it/s]"
     ]
    },
    {
     "name": "stdout",
     "output_type": "stream",
     "text": [
      "Company fvc_bank is added to the graph.\n"
     ]
    },
    {
     "name": "stderr",
     "output_type": "stream",
     "text": [
      " 36%|███▋      | 504/1386 [04:46<10:48,  1.36it/s]"
     ]
    },
    {
     "name": "stdout",
     "output_type": "stream",
     "text": [
      "Company iianc is added to the graph.\n"
     ]
    },
    {
     "name": "stderr",
     "output_type": "stream",
     "text": [
      " 36%|███▋      | 505/1386 [04:47<10:18,  1.42it/s]"
     ]
    },
    {
     "name": "stdout",
     "output_type": "stream",
     "text": [
      "Company homestreet_bank is added to the graph.\n"
     ]
    },
    {
     "name": "stderr",
     "output_type": "stream",
     "text": [
      " 37%|███▋      | 506/1386 [04:47<09:34,  1.53it/s]"
     ]
    },
    {
     "name": "stdout",
     "output_type": "stream",
     "text": [
      "Company signature_bank_of_georgia is added to the graph.\n"
     ]
    },
    {
     "name": "stderr",
     "output_type": "stream",
     "text": [
      " 37%|███▋      | 507/1386 [04:48<09:34,  1.53it/s]"
     ]
    },
    {
     "name": "stdout",
     "output_type": "stream",
     "text": [
      "Company shagbark_lumber is added to the graph.\n"
     ]
    },
    {
     "name": "stderr",
     "output_type": "stream",
     "text": [
      " 37%|███▋      | 508/1386 [04:49<08:45,  1.67it/s]"
     ]
    },
    {
     "name": "stdout",
     "output_type": "stream",
     "text": [
      "Company pcs_retirement is added to the graph.\n"
     ]
    },
    {
     "name": "stderr",
     "output_type": "stream",
     "text": [
      " 37%|███▋      | 509/1386 [04:49<09:40,  1.51it/s]"
     ]
    },
    {
     "name": "stdout",
     "output_type": "stream",
     "text": [
      "Company sephora is added to the graph.\n"
     ]
    },
    {
     "name": "stderr",
     "output_type": "stream",
     "text": [
      " 37%|███▋      | 510/1386 [04:50<10:24,  1.40it/s]"
     ]
    },
    {
     "name": "stdout",
     "output_type": "stream",
     "text": [
      "Company engrain is added to the graph.\n"
     ]
    },
    {
     "name": "stderr",
     "output_type": "stream",
     "text": [
      " 37%|███▋      | 511/1386 [04:50<08:40,  1.68it/s]"
     ]
    },
    {
     "name": "stdout",
     "output_type": "stream",
     "text": [
      "Error: 'NoneType' object has no attribute 'append'\n"
     ]
    },
    {
     "name": "stderr",
     "output_type": "stream",
     "text": [
      " 37%|███▋      | 512/1386 [04:51<08:58,  1.62it/s]"
     ]
    },
    {
     "name": "stdout",
     "output_type": "stream",
     "text": [
      "Company the_traditional_company is added to the graph.\n"
     ]
    },
    {
     "name": "stderr",
     "output_type": "stream",
     "text": [
      " 37%|███▋      | 513/1386 [04:52<08:01,  1.81it/s]"
     ]
    },
    {
     "name": "stdout",
     "output_type": "stream",
     "text": [
      "Company greener_u is added to the graph.\n"
     ]
    },
    {
     "name": "stderr",
     "output_type": "stream",
     "text": [
      " 37%|███▋      | 514/1386 [04:52<07:46,  1.87it/s]"
     ]
    },
    {
     "name": "stdout",
     "output_type": "stream",
     "text": [
      "Company tilting_point is added to the graph.\n"
     ]
    },
    {
     "name": "stderr",
     "output_type": "stream",
     "text": [
      " 37%|███▋      | 515/1386 [04:54<15:06,  1.04s/it]"
     ]
    },
    {
     "name": "stdout",
     "output_type": "stream",
     "text": [
      "Company primis_bank is added to the graph.\n"
     ]
    },
    {
     "name": "stderr",
     "output_type": "stream",
     "text": [
      " 37%|███▋      | 516/1386 [04:55<12:15,  1.18it/s]"
     ]
    },
    {
     "name": "stdout",
     "output_type": "stream",
     "text": [
      "Company upside_value_group is added to the graph.\n"
     ]
    },
    {
     "name": "stderr",
     "output_type": "stream",
     "text": [
      " 37%|███▋      | 517/1386 [04:55<10:21,  1.40it/s]"
     ]
    },
    {
     "name": "stdout",
     "output_type": "stream",
     "text": [
      "Company urban_steam_lab is added to the graph.\n"
     ]
    },
    {
     "name": "stderr",
     "output_type": "stream",
     "text": [
      " 37%|███▋      | 518/1386 [04:56<10:45,  1.35it/s]"
     ]
    },
    {
     "name": "stdout",
     "output_type": "stream",
     "text": [
      "Company bingham_insurance_group is added to the graph.\n"
     ]
    },
    {
     "name": "stderr",
     "output_type": "stream",
     "text": [
      " 37%|███▋      | 519/1386 [04:56<09:25,  1.53it/s]"
     ]
    },
    {
     "name": "stdout",
     "output_type": "stream",
     "text": [
      "Company orvis is added to the graph.\n"
     ]
    },
    {
     "name": "stderr",
     "output_type": "stream",
     "text": [
      " 38%|███▊      | 520/1386 [04:58<12:16,  1.18it/s]"
     ]
    },
    {
     "name": "stdout",
     "output_type": "stream",
     "text": [
      "Company act_capital_advisors is added to the graph.\n"
     ]
    },
    {
     "name": "stderr",
     "output_type": "stream",
     "text": [
      " 38%|███▊      | 521/1386 [04:58<10:21,  1.39it/s]"
     ]
    },
    {
     "name": "stdout",
     "output_type": "stream",
     "text": [
      "Company kite_realty_group is added to the graph.\n"
     ]
    },
    {
     "name": "stderr",
     "output_type": "stream",
     "text": [
      " 38%|███▊      | 522/1386 [04:58<09:08,  1.57it/s]"
     ]
    },
    {
     "name": "stdout",
     "output_type": "stream",
     "text": [
      "Company pageup is added to the graph.\n"
     ]
    },
    {
     "name": "stderr",
     "output_type": "stream",
     "text": [
      " 38%|███▊      | 523/1386 [04:59<07:43,  1.86it/s]"
     ]
    },
    {
     "name": "stdout",
     "output_type": "stream",
     "text": [
      "Error: 'NoneType' object has no attribute 'append'\n"
     ]
    },
    {
     "name": "stderr",
     "output_type": "stream",
     "text": [
      " 38%|███▊      | 524/1386 [05:00<09:55,  1.45it/s]"
     ]
    },
    {
     "name": "stdout",
     "output_type": "stream",
     "text": [
      "Company lightspeed is added to the graph.\n"
     ]
    },
    {
     "name": "stderr",
     "output_type": "stream",
     "text": [
      " 38%|███▊      | 525/1386 [05:00<08:52,  1.62it/s]"
     ]
    },
    {
     "name": "stdout",
     "output_type": "stream",
     "text": [
      "Company empower is added to the graph.\n"
     ]
    },
    {
     "name": "stderr",
     "output_type": "stream",
     "text": [
      " 38%|███▊      | 526/1386 [05:01<10:26,  1.37it/s]"
     ]
    },
    {
     "name": "stdout",
     "output_type": "stream",
     "text": [
      "Company arize is added to the graph.\n"
     ]
    },
    {
     "name": "stderr",
     "output_type": "stream",
     "text": [
      " 38%|███▊      | 527/1386 [05:02<09:41,  1.48it/s]"
     ]
    },
    {
     "name": "stdout",
     "output_type": "stream",
     "text": [
      "Company syndicateroom is added to the graph.\n"
     ]
    },
    {
     "name": "stderr",
     "output_type": "stream",
     "text": [
      " 38%|███▊      | 528/1386 [05:02<08:45,  1.63it/s]"
     ]
    },
    {
     "name": "stdout",
     "output_type": "stream",
     "text": [
      "Company canopy_cu is added to the graph.\n"
     ]
    },
    {
     "name": "stderr",
     "output_type": "stream",
     "text": [
      " 38%|███▊      | 529/1386 [05:03<08:05,  1.76it/s]"
     ]
    },
    {
     "name": "stdout",
     "output_type": "stream",
     "text": [
      "Company royal_china_group is added to the graph.\n"
     ]
    },
    {
     "name": "stderr",
     "output_type": "stream",
     "text": [
      " 38%|███▊      | 530/1386 [05:03<06:57,  2.05it/s]"
     ]
    },
    {
     "name": "stdout",
     "output_type": "stream",
     "text": [
      "Error: 'NoneType' object has no attribute 'append'\n"
     ]
    },
    {
     "name": "stderr",
     "output_type": "stream",
     "text": [
      " 38%|███▊      | 531/1386 [05:04<08:13,  1.73it/s]"
     ]
    },
    {
     "name": "stdout",
     "output_type": "stream",
     "text": [
      "Company engie_uk is added to the graph.\n"
     ]
    },
    {
     "name": "stderr",
     "output_type": "stream",
     "text": [
      " 38%|███▊      | 532/1386 [05:04<07:33,  1.88it/s]"
     ]
    },
    {
     "name": "stdout",
     "output_type": "stream",
     "text": [
      "Company securian_canada is added to the graph.\n"
     ]
    },
    {
     "name": "stderr",
     "output_type": "stream",
     "text": [
      " 38%|███▊      | 533/1386 [05:05<07:02,  2.02it/s]"
     ]
    },
    {
     "name": "stdout",
     "output_type": "stream",
     "text": [
      "Company conversion_logix is added to the graph.\n"
     ]
    },
    {
     "name": "stderr",
     "output_type": "stream",
     "text": [
      " 39%|███▊      | 534/1386 [05:05<06:24,  2.22it/s]"
     ]
    },
    {
     "name": "stdout",
     "output_type": "stream",
     "text": [
      "Company ownerrez is added to the graph.\n"
     ]
    },
    {
     "name": "stderr",
     "output_type": "stream",
     "text": [
      " 39%|███▊      | 535/1386 [05:05<05:55,  2.39it/s]"
     ]
    },
    {
     "name": "stdout",
     "output_type": "stream",
     "text": [
      "Error: 'NoneType' object has no attribute 'append'\n"
     ]
    },
    {
     "name": "stderr",
     "output_type": "stream",
     "text": [
      " 39%|███▊      | 536/1386 [05:06<06:22,  2.22it/s]"
     ]
    },
    {
     "name": "stdout",
     "output_type": "stream",
     "text": [
      "Company redmond_inc_ is added to the graph.\n"
     ]
    },
    {
     "name": "stderr",
     "output_type": "stream",
     "text": [
      " 39%|███▊      | 537/1386 [05:06<06:35,  2.15it/s]"
     ]
    },
    {
     "name": "stdout",
     "output_type": "stream",
     "text": [
      "Company disa is added to the graph.\n"
     ]
    },
    {
     "name": "stderr",
     "output_type": "stream",
     "text": [
      " 39%|███▉      | 538/1386 [05:07<06:13,  2.27it/s]"
     ]
    },
    {
     "name": "stdout",
     "output_type": "stream",
     "text": [
      "Company the_coupon_bureau is added to the graph.\n"
     ]
    },
    {
     "name": "stderr",
     "output_type": "stream",
     "text": [
      " 39%|███▉      | 539/1386 [05:07<05:33,  2.54it/s]"
     ]
    },
    {
     "name": "stdout",
     "output_type": "stream",
     "text": [
      "Error: 'NoneType' object has no attribute 'append'\n"
     ]
    },
    {
     "name": "stderr",
     "output_type": "stream",
     "text": [
      " 39%|███▉      | 540/1386 [05:07<05:26,  2.59it/s]"
     ]
    },
    {
     "name": "stdout",
     "output_type": "stream",
     "text": [
      "Company sali_fund_services is added to the graph.\n"
     ]
    },
    {
     "name": "stderr",
     "output_type": "stream",
     "text": [
      " 39%|███▉      | 541/1386 [05:08<05:39,  2.49it/s]"
     ]
    },
    {
     "name": "stdout",
     "output_type": "stream",
     "text": [
      "Company primal_wine is added to the graph.\n"
     ]
    },
    {
     "name": "stderr",
     "output_type": "stream",
     "text": [
      " 39%|███▉      | 542/1386 [05:08<05:24,  2.60it/s]"
     ]
    },
    {
     "name": "stdout",
     "output_type": "stream",
     "text": [
      "Company clipclaps is added to the graph.\n"
     ]
    },
    {
     "name": "stderr",
     "output_type": "stream",
     "text": [
      " 39%|███▉      | 543/1386 [05:08<05:00,  2.80it/s]"
     ]
    },
    {
     "name": "stdout",
     "output_type": "stream",
     "text": [
      "Error: 'NoneType' object has no attribute 'append'\n"
     ]
    },
    {
     "name": "stderr",
     "output_type": "stream",
     "text": [
      " 39%|███▉      | 544/1386 [05:09<06:06,  2.30it/s]"
     ]
    },
    {
     "name": "stdout",
     "output_type": "stream",
     "text": [
      "Company stewart_title is added to the graph.\n"
     ]
    },
    {
     "name": "stderr",
     "output_type": "stream",
     "text": [
      " 39%|███▉      | 545/1386 [05:10<06:07,  2.29it/s]"
     ]
    },
    {
     "name": "stdout",
     "output_type": "stream",
     "text": [
      "Company conservation_international is added to the graph.\n"
     ]
    },
    {
     "name": "stderr",
     "output_type": "stream",
     "text": [
      " 39%|███▉      | 546/1386 [05:10<06:21,  2.20it/s]"
     ]
    },
    {
     "name": "stdout",
     "output_type": "stream",
     "text": [
      "Company wex is added to the graph.\n"
     ]
    },
    {
     "name": "stderr",
     "output_type": "stream",
     "text": [
      " 39%|███▉      | 547/1386 [05:11<07:03,  1.98it/s]"
     ]
    },
    {
     "name": "stdout",
     "output_type": "stream",
     "text": [
      "Company rockwool is added to the graph.\n"
     ]
    },
    {
     "name": "stderr",
     "output_type": "stream",
     "text": [
      " 40%|███▉      | 548/1386 [05:11<06:41,  2.09it/s]"
     ]
    },
    {
     "name": "stdout",
     "output_type": "stream",
     "text": [
      "Company gold_standard is added to the graph.\n"
     ]
    },
    {
     "name": "stderr",
     "output_type": "stream",
     "text": [
      " 40%|███▉      | 549/1386 [05:12<07:07,  1.96it/s]"
     ]
    },
    {
     "name": "stdout",
     "output_type": "stream",
     "text": [
      "Company pay_n_seconds is added to the graph.\n"
     ]
    },
    {
     "name": "stderr",
     "output_type": "stream",
     "text": [
      " 40%|███▉      | 550/1386 [05:12<06:13,  2.24it/s]"
     ]
    },
    {
     "name": "stdout",
     "output_type": "stream",
     "text": [
      "Error: 'NoneType' object has no attribute 'append'\n"
     ]
    },
    {
     "name": "stderr",
     "output_type": "stream",
     "text": [
      " 40%|███▉      | 551/1386 [05:12<05:34,  2.49it/s]"
     ]
    },
    {
     "name": "stdout",
     "output_type": "stream",
     "text": [
      "Error: 'NoneType' object has no attribute 'append'\n"
     ]
    },
    {
     "name": "stderr",
     "output_type": "stream",
     "text": [
      " 40%|███▉      | 552/1386 [05:13<06:58,  1.99it/s]"
     ]
    },
    {
     "name": "stdout",
     "output_type": "stream",
     "text": [
      "Company yardi is added to the graph.\n"
     ]
    },
    {
     "name": "stderr",
     "output_type": "stream",
     "text": [
      " 40%|███▉      | 553/1386 [05:14<07:03,  1.97it/s]"
     ]
    },
    {
     "name": "stdout",
     "output_type": "stream",
     "text": [
      "Company leadix is added to the graph.\n"
     ]
    },
    {
     "name": "stderr",
     "output_type": "stream",
     "text": [
      " 40%|███▉      | 554/1386 [05:14<07:10,  1.93it/s]"
     ]
    },
    {
     "name": "stdout",
     "output_type": "stream",
     "text": [
      "Company liberty_sbf is added to the graph.\n"
     ]
    },
    {
     "name": "stderr",
     "output_type": "stream",
     "text": [
      " 40%|████      | 555/1386 [05:15<07:02,  1.97it/s]"
     ]
    },
    {
     "name": "stdout",
     "output_type": "stream",
     "text": [
      "Company gocardless is added to the graph.\n"
     ]
    },
    {
     "name": "stderr",
     "output_type": "stream",
     "text": [
      " 40%|████      | 556/1386 [05:15<06:35,  2.10it/s]"
     ]
    },
    {
     "name": "stdout",
     "output_type": "stream",
     "text": [
      "Company indochino is added to the graph.\n"
     ]
    },
    {
     "name": "stderr",
     "output_type": "stream",
     "text": [
      " 40%|████      | 557/1386 [05:16<08:26,  1.64it/s]"
     ]
    },
    {
     "name": "stdout",
     "output_type": "stream",
     "text": [
      "Company pave is added to the graph.\n"
     ]
    },
    {
     "name": "stderr",
     "output_type": "stream",
     "text": [
      " 40%|████      | 558/1386 [05:17<08:37,  1.60it/s]"
     ]
    },
    {
     "name": "stdout",
     "output_type": "stream",
     "text": [
      "Company bridge_financial_technology is added to the graph.\n"
     ]
    },
    {
     "name": "stderr",
     "output_type": "stream",
     "text": [
      " 40%|████      | 559/1386 [05:17<08:42,  1.58it/s]"
     ]
    },
    {
     "name": "stdout",
     "output_type": "stream",
     "text": [
      "Company argonaut_private_equity is added to the graph.\n"
     ]
    },
    {
     "name": "stderr",
     "output_type": "stream",
     "text": [
      " 40%|████      | 560/1386 [05:18<08:22,  1.64it/s]"
     ]
    },
    {
     "name": "stdout",
     "output_type": "stream",
     "text": [
      "Company premia_finance is added to the graph.\n"
     ]
    },
    {
     "name": "stderr",
     "output_type": "stream",
     "text": [
      " 40%|████      | 561/1386 [05:18<07:02,  1.95it/s]"
     ]
    },
    {
     "name": "stdout",
     "output_type": "stream",
     "text": [
      "Error: 'NoneType' object has no attribute 'append'\n"
     ]
    },
    {
     "name": "stderr",
     "output_type": "stream",
     "text": [
      " 41%|████      | 562/1386 [05:19<07:55,  1.73it/s]"
     ]
    },
    {
     "name": "stdout",
     "output_type": "stream",
     "text": [
      "Company hunt_club is added to the graph.\n"
     ]
    },
    {
     "name": "stderr",
     "output_type": "stream",
     "text": [
      " 41%|████      | 563/1386 [05:20<11:13,  1.22it/s]"
     ]
    },
    {
     "name": "stdout",
     "output_type": "stream",
     "text": [
      "Company elliptic is added to the graph.\n"
     ]
    },
    {
     "name": "stderr",
     "output_type": "stream",
     "text": [
      " 41%|████      | 564/1386 [05:21<09:45,  1.40it/s]"
     ]
    },
    {
     "name": "stdout",
     "output_type": "stream",
     "text": [
      "Company capital_bank is added to the graph.\n"
     ]
    },
    {
     "name": "stderr",
     "output_type": "stream",
     "text": [
      " 41%|████      | 565/1386 [05:21<09:20,  1.47it/s]"
     ]
    },
    {
     "name": "stdout",
     "output_type": "stream",
     "text": [
      "Company younger_partners is added to the graph.\n"
     ]
    },
    {
     "name": "stderr",
     "output_type": "stream",
     "text": [
      " 41%|████      | 566/1386 [05:22<09:09,  1.49it/s]"
     ]
    },
    {
     "name": "stdout",
     "output_type": "stream",
     "text": [
      "Company cox_automotive___esntial is added to the graph.\n"
     ]
    },
    {
     "name": "stderr",
     "output_type": "stream",
     "text": [
      " 41%|████      | 567/1386 [05:22<08:32,  1.60it/s]"
     ]
    },
    {
     "name": "stdout",
     "output_type": "stream",
     "text": [
      "Company edenbase is added to the graph.\n"
     ]
    },
    {
     "name": "stderr",
     "output_type": "stream",
     "text": [
      " 41%|████      | 568/1386 [05:23<08:54,  1.53it/s]"
     ]
    },
    {
     "name": "stdout",
     "output_type": "stream",
     "text": [
      "Company nyserda is added to the graph.\n"
     ]
    },
    {
     "name": "stderr",
     "output_type": "stream",
     "text": [
      " 41%|████      | 569/1386 [05:23<07:40,  1.77it/s]"
     ]
    },
    {
     "name": "stdout",
     "output_type": "stream",
     "text": [
      "Company harbert_realty_services is added to the graph.\n"
     ]
    },
    {
     "name": "stderr",
     "output_type": "stream",
     "text": [
      " 41%|████      | 570/1386 [05:24<08:37,  1.58it/s]"
     ]
    },
    {
     "name": "stdout",
     "output_type": "stream",
     "text": [
      "Company asbo_international is added to the graph.\n"
     ]
    },
    {
     "name": "stderr",
     "output_type": "stream",
     "text": [
      " 41%|████      | 571/1386 [05:25<07:51,  1.73it/s]"
     ]
    },
    {
     "name": "stdout",
     "output_type": "stream",
     "text": [
      "Company kriya is added to the graph.\n"
     ]
    },
    {
     "name": "stderr",
     "output_type": "stream",
     "text": [
      " 41%|████▏     | 572/1386 [05:25<06:51,  1.98it/s]"
     ]
    },
    {
     "name": "stdout",
     "output_type": "stream",
     "text": [
      "Error: 'NoneType' object has no attribute 'append'\n"
     ]
    },
    {
     "name": "stderr",
     "output_type": "stream",
     "text": [
      " 41%|████▏     | 573/1386 [05:26<07:13,  1.88it/s]"
     ]
    },
    {
     "name": "stdout",
     "output_type": "stream",
     "text": [
      "Company splitdrop is added to the graph.\n"
     ]
    },
    {
     "name": "stderr",
     "output_type": "stream",
     "text": [
      " 41%|████▏     | 574/1386 [05:26<08:17,  1.63it/s]"
     ]
    },
    {
     "name": "stdout",
     "output_type": "stream",
     "text": [
      "Company change_lending_llc is added to the graph.\n"
     ]
    },
    {
     "name": "stderr",
     "output_type": "stream",
     "text": [
      " 41%|████▏     | 575/1386 [05:28<10:41,  1.26it/s]"
     ]
    },
    {
     "name": "stdout",
     "output_type": "stream",
     "text": [
      "Company pe_stack is added to the graph.\n"
     ]
    },
    {
     "name": "stderr",
     "output_type": "stream",
     "text": [
      " 42%|████▏     | 576/1386 [05:28<10:44,  1.26it/s]"
     ]
    },
    {
     "name": "stdout",
     "output_type": "stream",
     "text": [
      "Company gilbane is added to the graph.\n"
     ]
    },
    {
     "name": "stderr",
     "output_type": "stream",
     "text": [
      " 42%|████▏     | 577/1386 [05:29<09:20,  1.44it/s]"
     ]
    },
    {
     "name": "stdout",
     "output_type": "stream",
     "text": [
      "Company altor_wealth is added to the graph.\n"
     ]
    },
    {
     "name": "stderr",
     "output_type": "stream",
     "text": [
      " 42%|████▏     | 578/1386 [05:29<08:33,  1.57it/s]"
     ]
    },
    {
     "name": "stdout",
     "output_type": "stream",
     "text": [
      "Company tandym is added to the graph.\n"
     ]
    },
    {
     "name": "stderr",
     "output_type": "stream",
     "text": [
      " 42%|████▏     | 579/1386 [05:30<07:46,  1.73it/s]"
     ]
    },
    {
     "name": "stdout",
     "output_type": "stream",
     "text": [
      "Company saucerswap is added to the graph.\n"
     ]
    },
    {
     "name": "stderr",
     "output_type": "stream",
     "text": [
      " 42%|████▏     | 580/1386 [05:30<07:25,  1.81it/s]"
     ]
    },
    {
     "name": "stdout",
     "output_type": "stream",
     "text": [
      "Company principal is added to the graph.\n"
     ]
    },
    {
     "name": "stderr",
     "output_type": "stream",
     "text": [
      " 42%|████▏     | 581/1386 [05:31<07:26,  1.80it/s]"
     ]
    },
    {
     "name": "stdout",
     "output_type": "stream",
     "text": [
      "Company clearbox is added to the graph.\n"
     ]
    },
    {
     "name": "stderr",
     "output_type": "stream",
     "text": [
      " 42%|████▏     | 582/1386 [05:31<06:44,  1.99it/s]"
     ]
    },
    {
     "name": "stdout",
     "output_type": "stream",
     "text": [
      "Company nexthome is added to the graph.\n"
     ]
    },
    {
     "name": "stderr",
     "output_type": "stream",
     "text": [
      " 42%|████▏     | 583/1386 [05:32<05:55,  2.26it/s]"
     ]
    },
    {
     "name": "stdout",
     "output_type": "stream",
     "text": [
      "Error: 'NoneType' object has no attribute 'append'\n"
     ]
    },
    {
     "name": "stderr",
     "output_type": "stream",
     "text": [
      " 42%|████▏     | 584/1386 [05:32<06:05,  2.19it/s]"
     ]
    },
    {
     "name": "stdout",
     "output_type": "stream",
     "text": [
      "Company anytime_cash is added to the graph.\n"
     ]
    },
    {
     "name": "stderr",
     "output_type": "stream",
     "text": [
      " 42%|████▏     | 585/1386 [05:33<06:04,  2.20it/s]"
     ]
    },
    {
     "name": "stdout",
     "output_type": "stream",
     "text": [
      "Company citizens_bank_of_edmond is added to the graph.\n"
     ]
    },
    {
     "name": "stderr",
     "output_type": "stream",
     "text": [
      " 42%|████▏     | 586/1386 [05:34<11:02,  1.21it/s]"
     ]
    },
    {
     "name": "stdout",
     "output_type": "stream",
     "text": [
      "Company tradier is added to the graph.\n"
     ]
    },
    {
     "name": "stderr",
     "output_type": "stream",
     "text": [
      " 42%|████▏     | 587/1386 [05:35<11:36,  1.15it/s]"
     ]
    },
    {
     "name": "stdout",
     "output_type": "stream",
     "text": [
      "Company corelogic is added to the graph.\n"
     ]
    },
    {
     "name": "stderr",
     "output_type": "stream",
     "text": [
      " 42%|████▏     | 588/1386 [05:36<10:54,  1.22it/s]"
     ]
    },
    {
     "name": "stdout",
     "output_type": "stream",
     "text": [
      "Company sandy_spring_bank is added to the graph.\n"
     ]
    },
    {
     "name": "stderr",
     "output_type": "stream",
     "text": [
      " 42%|████▏     | 589/1386 [05:36<09:18,  1.43it/s]"
     ]
    },
    {
     "name": "stdout",
     "output_type": "stream",
     "text": [
      "Company community_preservation_corporation_cpc is added to the graph.\n"
     ]
    },
    {
     "name": "stderr",
     "output_type": "stream",
     "text": [
      " 43%|████▎     | 590/1386 [05:37<09:19,  1.42it/s]"
     ]
    },
    {
     "name": "stdout",
     "output_type": "stream",
     "text": [
      "Company onecavo is added to the graph.\n"
     ]
    },
    {
     "name": "stderr",
     "output_type": "stream",
     "text": [
      " 43%|████▎     | 591/1386 [05:37<08:13,  1.61it/s]"
     ]
    },
    {
     "name": "stdout",
     "output_type": "stream",
     "text": [
      "Company tilda is added to the graph.\n"
     ]
    },
    {
     "name": "stderr",
     "output_type": "stream",
     "text": [
      " 43%|████▎     | 592/1386 [05:38<07:23,  1.79it/s]"
     ]
    },
    {
     "name": "stdout",
     "output_type": "stream",
     "text": [
      "Company stanley_capital is added to the graph.\n"
     ]
    },
    {
     "name": "stderr",
     "output_type": "stream",
     "text": [
      " 43%|████▎     | 593/1386 [05:40<11:42,  1.13it/s]"
     ]
    },
    {
     "name": "stdout",
     "output_type": "stream",
     "text": [
      "Company lovell_minnick_partners is added to the graph.\n"
     ]
    },
    {
     "name": "stderr",
     "output_type": "stream",
     "text": [
      " 43%|████▎     | 594/1386 [05:40<09:28,  1.39it/s]"
     ]
    },
    {
     "name": "stdout",
     "output_type": "stream",
     "text": [
      "Error: 'NoneType' object has no attribute 'append'\n"
     ]
    },
    {
     "name": "stderr",
     "output_type": "stream",
     "text": [
      " 43%|████▎     | 595/1386 [05:40<08:43,  1.51it/s]"
     ]
    },
    {
     "name": "stdout",
     "output_type": "stream",
     "text": [
      "Company ubiquity is added to the graph.\n"
     ]
    },
    {
     "name": "stderr",
     "output_type": "stream",
     "text": [
      " 43%|████▎     | 596/1386 [05:41<07:16,  1.81it/s]"
     ]
    },
    {
     "name": "stdout",
     "output_type": "stream",
     "text": [
      "Error: 'NoneType' object has no attribute 'append'\n"
     ]
    },
    {
     "name": "stderr",
     "output_type": "stream",
     "text": [
      " 43%|████▎     | 597/1386 [05:41<06:26,  2.04it/s]"
     ]
    },
    {
     "name": "stdout",
     "output_type": "stream",
     "text": [
      "Company jones_family_kitchen is added to the graph.\n"
     ]
    },
    {
     "name": "stderr",
     "output_type": "stream",
     "text": [
      " 43%|████▎     | 598/1386 [05:42<06:28,  2.03it/s]"
     ]
    },
    {
     "name": "stdout",
     "output_type": "stream",
     "text": [
      "Company boise_cascade is added to the graph.\n"
     ]
    },
    {
     "name": "stderr",
     "output_type": "stream",
     "text": [
      " 43%|████▎     | 599/1386 [05:42<06:49,  1.92it/s]"
     ]
    },
    {
     "name": "stdout",
     "output_type": "stream",
     "text": [
      "Company bonusly is added to the graph.\n"
     ]
    },
    {
     "name": "stderr",
     "output_type": "stream",
     "text": [
      " 43%|████▎     | 600/1386 [05:42<06:12,  2.11it/s]"
     ]
    },
    {
     "name": "stdout",
     "output_type": "stream",
     "text": [
      "Company wisdomtree is added to the graph.\n"
     ]
    },
    {
     "name": "stderr",
     "output_type": "stream",
     "text": [
      " 43%|████▎     | 601/1386 [05:43<06:07,  2.14it/s]"
     ]
    },
    {
     "name": "stdout",
     "output_type": "stream",
     "text": [
      "Company pliancy is added to the graph.\n"
     ]
    },
    {
     "name": "stderr",
     "output_type": "stream",
     "text": [
      " 43%|████▎     | 602/1386 [05:43<05:25,  2.41it/s]"
     ]
    },
    {
     "name": "stdout",
     "output_type": "stream",
     "text": [
      "Error: 'NoneType' object has no attribute 'append'\n"
     ]
    },
    {
     "name": "stderr",
     "output_type": "stream",
     "text": [
      " 44%|████▎     | 603/1386 [05:44<05:26,  2.40it/s]"
     ]
    },
    {
     "name": "stdout",
     "output_type": "stream",
     "text": [
      "Company sbliftoff is added to the graph.\n"
     ]
    },
    {
     "name": "stderr",
     "output_type": "stream",
     "text": [
      " 44%|████▎     | 604/1386 [05:44<05:09,  2.52it/s]"
     ]
    },
    {
     "name": "stdout",
     "output_type": "stream",
     "text": [
      "Company mead_&_hunt is added to the graph.\n"
     ]
    },
    {
     "name": "stderr",
     "output_type": "stream",
     "text": [
      " 44%|████▎     | 605/1386 [05:45<06:18,  2.06it/s]"
     ]
    },
    {
     "name": "stdout",
     "output_type": "stream",
     "text": [
      "Company thrifty is added to the graph.\n"
     ]
    },
    {
     "name": "stderr",
     "output_type": "stream",
     "text": [
      " 44%|████▎     | 606/1386 [05:45<06:19,  2.06it/s]"
     ]
    },
    {
     "name": "stdout",
     "output_type": "stream",
     "text": [
      "Company securitize is added to the graph.\n"
     ]
    },
    {
     "name": "stderr",
     "output_type": "stream",
     "text": [
      " 44%|████▍     | 607/1386 [05:46<05:50,  2.22it/s]"
     ]
    },
    {
     "name": "stdout",
     "output_type": "stream",
     "text": [
      "Company kimco_realty is added to the graph.\n"
     ]
    },
    {
     "name": "stderr",
     "output_type": "stream",
     "text": [
      " 44%|████▍     | 608/1386 [05:46<05:26,  2.38it/s]"
     ]
    },
    {
     "name": "stdout",
     "output_type": "stream",
     "text": [
      "Company homie is added to the graph.\n"
     ]
    },
    {
     "name": "stderr",
     "output_type": "stream",
     "text": [
      " 44%|████▍     | 609/1386 [05:46<05:10,  2.50it/s]"
     ]
    },
    {
     "name": "stdout",
     "output_type": "stream",
     "text": [
      "Company lightsource_bp is added to the graph.\n"
     ]
    },
    {
     "name": "stderr",
     "output_type": "stream",
     "text": [
      " 44%|████▍     | 610/1386 [05:47<04:46,  2.71it/s]"
     ]
    },
    {
     "name": "stdout",
     "output_type": "stream",
     "text": [
      "Error: 'NoneType' object has no attribute 'append'\n"
     ]
    },
    {
     "name": "stderr",
     "output_type": "stream",
     "text": [
      " 44%|████▍     | 611/1386 [05:47<05:22,  2.40it/s]"
     ]
    },
    {
     "name": "stdout",
     "output_type": "stream",
     "text": [
      "Company savorista is added to the graph.\n"
     ]
    },
    {
     "name": "stderr",
     "output_type": "stream",
     "text": [
      " 44%|████▍     | 612/1386 [05:48<05:57,  2.17it/s]"
     ]
    },
    {
     "name": "stdout",
     "output_type": "stream",
     "text": [
      "Company first_direct is added to the graph.\n"
     ]
    },
    {
     "name": "stderr",
     "output_type": "stream",
     "text": [
      " 44%|████▍     | 613/1386 [05:48<06:01,  2.14it/s]"
     ]
    },
    {
     "name": "stdout",
     "output_type": "stream",
     "text": [
      "Company matrix_ifs is added to the graph.\n"
     ]
    },
    {
     "name": "stderr",
     "output_type": "stream",
     "text": [
      " 44%|████▍     | 614/1386 [05:48<05:21,  2.40it/s]"
     ]
    },
    {
     "name": "stdout",
     "output_type": "stream",
     "text": [
      "Error: 'NoneType' object has no attribute 'append'\n"
     ]
    },
    {
     "name": "stderr",
     "output_type": "stream",
     "text": [
      " 44%|████▍     | 615/1386 [05:49<05:06,  2.51it/s]"
     ]
    },
    {
     "name": "stdout",
     "output_type": "stream",
     "text": [
      "Company pearson_realty is added to the graph.\n"
     ]
    },
    {
     "name": "stderr",
     "output_type": "stream",
     "text": [
      " 44%|████▍     | 616/1386 [05:49<06:05,  2.11it/s]"
     ]
    },
    {
     "name": "stdout",
     "output_type": "stream",
     "text": [
      "Company ameritas is added to the graph.\n"
     ]
    },
    {
     "name": "stderr",
     "output_type": "stream",
     "text": [
      " 45%|████▍     | 617/1386 [05:50<06:06,  2.10it/s]"
     ]
    },
    {
     "name": "stdout",
     "output_type": "stream",
     "text": [
      "Company iroquois_group is added to the graph.\n"
     ]
    },
    {
     "name": "stderr",
     "output_type": "stream",
     "text": [
      " 45%|████▍     | 618/1386 [05:50<05:39,  2.26it/s]"
     ]
    },
    {
     "name": "stdout",
     "output_type": "stream",
     "text": [
      "Company car_quay is added to the graph.\n"
     ]
    },
    {
     "name": "stderr",
     "output_type": "stream",
     "text": [
      " 45%|████▍     | 619/1386 [05:51<05:05,  2.51it/s]"
     ]
    },
    {
     "name": "stdout",
     "output_type": "stream",
     "text": [
      "Error: 'NoneType' object has no attribute 'append'\n"
     ]
    },
    {
     "name": "stderr",
     "output_type": "stream",
     "text": [
      " 45%|████▍     | 620/1386 [05:51<06:07,  2.09it/s]"
     ]
    },
    {
     "name": "stdout",
     "output_type": "stream",
     "text": [
      "Company morgan_stanley is added to the graph.\n"
     ]
    },
    {
     "name": "stderr",
     "output_type": "stream",
     "text": [
      " 45%|████▍     | 621/1386 [05:52<05:47,  2.20it/s]"
     ]
    },
    {
     "name": "stdout",
     "output_type": "stream",
     "text": [
      "Company helping_hands_community_partners is added to the graph.\n"
     ]
    },
    {
     "name": "stderr",
     "output_type": "stream",
     "text": [
      " 45%|████▍     | 622/1386 [05:53<11:01,  1.15it/s]"
     ]
    },
    {
     "name": "stdout",
     "output_type": "stream",
     "text": [
      "Company skender is added to the graph.\n"
     ]
    },
    {
     "name": "stderr",
     "output_type": "stream",
     "text": [
      " 45%|████▍     | 623/1386 [05:54<10:14,  1.24it/s]"
     ]
    },
    {
     "name": "stdout",
     "output_type": "stream",
     "text": [
      "Company norton_rose_fulbright is added to the graph.\n",
      "Error: Expecting ',' delimiter: line 2054 column 39 (char 78712)\n"
     ]
    },
    {
     "name": "stderr",
     "output_type": "stream",
     "text": [
      " 45%|████▌     | 625/1386 [05:55<07:17,  1.74it/s]"
     ]
    },
    {
     "name": "stdout",
     "output_type": "stream",
     "text": [
      "Company hostfully is added to the graph.\n"
     ]
    },
    {
     "name": "stderr",
     "output_type": "stream",
     "text": [
      " 45%|████▌     | 626/1386 [05:56<10:55,  1.16it/s]"
     ]
    },
    {
     "name": "stdout",
     "output_type": "stream",
     "text": [
      "Company sixt is added to the graph.\n"
     ]
    },
    {
     "name": "stderr",
     "output_type": "stream",
     "text": [
      " 45%|████▌     | 627/1386 [05:58<12:27,  1.02it/s]"
     ]
    },
    {
     "name": "stdout",
     "output_type": "stream",
     "text": [
      "Company de_jong_phillips is added to the graph.\n"
     ]
    },
    {
     "name": "stderr",
     "output_type": "stream",
     "text": [
      " 45%|████▌     | 628/1386 [05:58<11:00,  1.15it/s]"
     ]
    },
    {
     "name": "stdout",
     "output_type": "stream",
     "text": [
      "Company every_man_jack is added to the graph.\n"
     ]
    },
    {
     "name": "stderr",
     "output_type": "stream",
     "text": [
      " 45%|████▌     | 629/1386 [05:59<09:36,  1.31it/s]"
     ]
    },
    {
     "name": "stdout",
     "output_type": "stream",
     "text": [
      "Company capital_one is added to the graph.\n"
     ]
    },
    {
     "name": "stderr",
     "output_type": "stream",
     "text": [
      " 45%|████▌     | 630/1386 [05:59<08:25,  1.49it/s]"
     ]
    },
    {
     "name": "stdout",
     "output_type": "stream",
     "text": [
      "Company webcor is added to the graph.\n"
     ]
    },
    {
     "name": "stderr",
     "output_type": "stream",
     "text": [
      " 46%|████▌     | 631/1386 [06:00<08:38,  1.46it/s]"
     ]
    },
    {
     "name": "stdout",
     "output_type": "stream",
     "text": [
      "Company hyvee is added to the graph.\n"
     ]
    },
    {
     "name": "stderr",
     "output_type": "stream",
     "text": [
      " 46%|████▌     | 632/1386 [06:01<09:33,  1.31it/s]"
     ]
    },
    {
     "name": "stdout",
     "output_type": "stream",
     "text": [
      "Company mitie is added to the graph.\n"
     ]
    },
    {
     "name": "stderr",
     "output_type": "stream",
     "text": [
      " 46%|████▌     | 633/1386 [06:01<08:45,  1.43it/s]"
     ]
    },
    {
     "name": "stdout",
     "output_type": "stream",
     "text": [
      "Company rockwealth is added to the graph.\n"
     ]
    },
    {
     "name": "stderr",
     "output_type": "stream",
     "text": [
      " 46%|████▌     | 634/1386 [06:02<08:47,  1.43it/s]"
     ]
    },
    {
     "name": "stdout",
     "output_type": "stream",
     "text": [
      "Company crsp is added to the graph.\n"
     ]
    },
    {
     "name": "stderr",
     "output_type": "stream",
     "text": [
      " 46%|████▌     | 635/1386 [06:03<07:50,  1.60it/s]"
     ]
    },
    {
     "name": "stdout",
     "output_type": "stream",
     "text": [
      "Company new_age_lettings is added to the graph.\n"
     ]
    },
    {
     "name": "stderr",
     "output_type": "stream",
     "text": [
      " 46%|████▌     | 636/1386 [06:03<06:48,  1.84it/s]"
     ]
    },
    {
     "name": "stdout",
     "output_type": "stream",
     "text": [
      "Company summer_health is added to the graph.\n"
     ]
    },
    {
     "name": "stderr",
     "output_type": "stream",
     "text": [
      " 46%|████▌     | 637/1386 [06:04<06:55,  1.80it/s]"
     ]
    },
    {
     "name": "stdout",
     "output_type": "stream",
     "text": [
      "Company raaka_chocolate is added to the graph.\n"
     ]
    },
    {
     "name": "stderr",
     "output_type": "stream",
     "text": [
      " 46%|████▌     | 638/1386 [06:04<07:09,  1.74it/s]"
     ]
    },
    {
     "name": "stdout",
     "output_type": "stream",
     "text": [
      "Company walker_&_dunlop is added to the graph.\n"
     ]
    },
    {
     "name": "stderr",
     "output_type": "stream",
     "text": [
      " 46%|████▌     | 639/1386 [06:05<07:50,  1.59it/s]"
     ]
    },
    {
     "name": "stdout",
     "output_type": "stream",
     "text": [
      "Company inmotion_real_estate_media is added to the graph.\n"
     ]
    },
    {
     "name": "stderr",
     "output_type": "stream",
     "text": [
      " 46%|████▌     | 640/1386 [06:06<07:51,  1.58it/s]"
     ]
    },
    {
     "name": "stdout",
     "output_type": "stream",
     "text": [
      "Company university_credit_union is added to the graph.\n"
     ]
    },
    {
     "name": "stderr",
     "output_type": "stream",
     "text": [
      " 46%|████▌     | 641/1386 [06:06<07:38,  1.63it/s]"
     ]
    },
    {
     "name": "stdout",
     "output_type": "stream",
     "text": [
      "Company bench_accounting is added to the graph.\n"
     ]
    },
    {
     "name": "stderr",
     "output_type": "stream",
     "text": [
      " 46%|████▋     | 642/1386 [06:07<07:12,  1.72it/s]"
     ]
    },
    {
     "name": "stdout",
     "output_type": "stream",
     "text": [
      "Company the_community_builders is added to the graph.\n"
     ]
    },
    {
     "name": "stderr",
     "output_type": "stream",
     "text": [
      " 46%|████▋     | 643/1386 [06:07<07:19,  1.69it/s]"
     ]
    },
    {
     "name": "stdout",
     "output_type": "stream",
     "text": [
      "Company first_foundation is added to the graph.\n"
     ]
    },
    {
     "name": "stderr",
     "output_type": "stream",
     "text": [
      " 46%|████▋     | 644/1386 [06:08<07:50,  1.58it/s]"
     ]
    },
    {
     "name": "stdout",
     "output_type": "stream",
     "text": [
      "Company vrplatform is added to the graph.\n"
     ]
    },
    {
     "name": "stderr",
     "output_type": "stream",
     "text": [
      " 47%|████▋     | 645/1386 [06:08<06:37,  1.86it/s]"
     ]
    },
    {
     "name": "stdout",
     "output_type": "stream",
     "text": [
      "Error: 'NoneType' object has no attribute 'append'\n"
     ]
    },
    {
     "name": "stderr",
     "output_type": "stream",
     "text": [
      " 47%|████▋     | 646/1386 [06:09<06:05,  2.02it/s]"
     ]
    },
    {
     "name": "stdout",
     "output_type": "stream",
     "text": [
      "Company ncr is added to the graph.\n"
     ]
    },
    {
     "name": "stderr",
     "output_type": "stream",
     "text": [
      " 47%|████▋     | 647/1386 [06:09<05:58,  2.06it/s]"
     ]
    },
    {
     "name": "stdout",
     "output_type": "stream",
     "text": [
      "Company capright is added to the graph.\n"
     ]
    },
    {
     "name": "stderr",
     "output_type": "stream",
     "text": [
      " 47%|████▋     | 648/1386 [06:10<05:27,  2.25it/s]"
     ]
    },
    {
     "name": "stdout",
     "output_type": "stream",
     "text": [
      "Company american_agcredit is added to the graph.\n"
     ]
    },
    {
     "name": "stderr",
     "output_type": "stream",
     "text": [
      " 47%|████▋     | 649/1386 [06:10<05:13,  2.35it/s]"
     ]
    },
    {
     "name": "stdout",
     "output_type": "stream",
     "text": [
      "Company commonwealth_partners is added to the graph.\n"
     ]
    },
    {
     "name": "stderr",
     "output_type": "stream",
     "text": [
      " 47%|████▋     | 650/1386 [06:10<05:11,  2.36it/s]"
     ]
    },
    {
     "name": "stdout",
     "output_type": "stream",
     "text": [
      "Company bna is added to the graph.\n"
     ]
    },
    {
     "name": "stderr",
     "output_type": "stream",
     "text": [
      " 47%|████▋     | 651/1386 [06:11<06:32,  1.87it/s]"
     ]
    },
    {
     "name": "stdout",
     "output_type": "stream",
     "text": [
      "Company reapit is added to the graph.\n"
     ]
    },
    {
     "name": "stderr",
     "output_type": "stream",
     "text": [
      " 47%|████▋     | 652/1386 [06:12<06:12,  1.97it/s]"
     ]
    },
    {
     "name": "stdout",
     "output_type": "stream",
     "text": [
      "Company four_seasons is added to the graph.\n"
     ]
    },
    {
     "name": "stderr",
     "output_type": "stream",
     "text": [
      " 47%|████▋     | 653/1386 [06:12<06:12,  1.97it/s]"
     ]
    },
    {
     "name": "stdout",
     "output_type": "stream",
     "text": [
      "Company portt_&_co is added to the graph.\n"
     ]
    },
    {
     "name": "stderr",
     "output_type": "stream",
     "text": [
      " 47%|████▋     | 654/1386 [06:13<06:21,  1.92it/s]"
     ]
    },
    {
     "name": "stdout",
     "output_type": "stream",
     "text": [
      "Company lightbox is added to the graph.\n"
     ]
    },
    {
     "name": "stderr",
     "output_type": "stream",
     "text": [
      " 47%|████▋     | 655/1386 [06:14<08:41,  1.40it/s]"
     ]
    },
    {
     "name": "stdout",
     "output_type": "stream",
     "text": [
      "Company iceye is added to the graph.\n"
     ]
    },
    {
     "name": "stderr",
     "output_type": "stream",
     "text": [
      " 47%|████▋     | 656/1386 [06:14<07:44,  1.57it/s]"
     ]
    },
    {
     "name": "stdout",
     "output_type": "stream",
     "text": [
      "Company clark_construction is added to the graph.\n"
     ]
    },
    {
     "name": "stderr",
     "output_type": "stream",
     "text": [
      " 47%|████▋     | 657/1386 [06:15<06:57,  1.75it/s]"
     ]
    },
    {
     "name": "stdout",
     "output_type": "stream",
     "text": [
      "Company taxassist_accountants is added to the graph.\n"
     ]
    },
    {
     "name": "stderr",
     "output_type": "stream",
     "text": [
      " 47%|████▋     | 658/1386 [06:15<07:10,  1.69it/s]"
     ]
    },
    {
     "name": "stdout",
     "output_type": "stream",
     "text": [
      "Company commercialedge is added to the graph.\n"
     ]
    },
    {
     "name": "stderr",
     "output_type": "stream",
     "text": [
      " 48%|████▊     | 659/1386 [06:16<07:28,  1.62it/s]"
     ]
    },
    {
     "name": "stdout",
     "output_type": "stream",
     "text": [
      "Company nickelytics is added to the graph.\n"
     ]
    },
    {
     "name": "stderr",
     "output_type": "stream",
     "text": [
      " 48%|████▊     | 660/1386 [06:16<06:54,  1.75it/s]"
     ]
    },
    {
     "name": "stdout",
     "output_type": "stream",
     "text": [
      "Company infinigods is added to the graph.\n"
     ]
    },
    {
     "name": "stderr",
     "output_type": "stream",
     "text": [
      " 48%|████▊     | 661/1386 [06:17<06:24,  1.89it/s]"
     ]
    },
    {
     "name": "stdout",
     "output_type": "stream",
     "text": [
      "Company porterville_citrus is added to the graph.\n"
     ]
    },
    {
     "name": "stderr",
     "output_type": "stream",
     "text": [
      " 48%|████▊     | 662/1386 [06:17<05:30,  2.19it/s]"
     ]
    },
    {
     "name": "stdout",
     "output_type": "stream",
     "text": [
      "Error: 'NoneType' object has no attribute 'append'\n"
     ]
    },
    {
     "name": "stderr",
     "output_type": "stream",
     "text": [
      " 48%|████▊     | 663/1386 [06:18<05:22,  2.24it/s]"
     ]
    },
    {
     "name": "stdout",
     "output_type": "stream",
     "text": [
      "Company frontgate_real_estate is added to the graph.\n"
     ]
    },
    {
     "name": "stderr",
     "output_type": "stream",
     "text": [
      " 48%|████▊     | 664/1386 [06:18<05:54,  2.04it/s]"
     ]
    },
    {
     "name": "stdout",
     "output_type": "stream",
     "text": [
      "Company ngs_llp is added to the graph.\n"
     ]
    },
    {
     "name": "stderr",
     "output_type": "stream",
     "text": [
      " 48%|████▊     | 665/1386 [06:19<06:21,  1.89it/s]"
     ]
    },
    {
     "name": "stdout",
     "output_type": "stream",
     "text": [
      "Company rippling is added to the graph.\n"
     ]
    },
    {
     "name": "stderr",
     "output_type": "stream",
     "text": [
      " 48%|████▊     | 666/1386 [06:19<06:21,  1.89it/s]"
     ]
    },
    {
     "name": "stdout",
     "output_type": "stream",
     "text": [
      "Company grant_thornton is added to the graph.\n"
     ]
    },
    {
     "name": "stderr",
     "output_type": "stream",
     "text": [
      " 48%|████▊     | 667/1386 [06:20<06:23,  1.87it/s]"
     ]
    },
    {
     "name": "stdout",
     "output_type": "stream",
     "text": [
      "Company boone_heart_institute is added to the graph.\n"
     ]
    },
    {
     "name": "stderr",
     "output_type": "stream",
     "text": [
      " 48%|████▊     | 668/1386 [06:20<05:56,  2.01it/s]"
     ]
    },
    {
     "name": "stdout",
     "output_type": "stream",
     "text": [
      "Company crescendo_commercial_realty is added to the graph.\n"
     ]
    },
    {
     "name": "stderr",
     "output_type": "stream",
     "text": [
      " 48%|████▊     | 669/1386 [06:21<06:05,  1.96it/s]"
     ]
    },
    {
     "name": "stdout",
     "output_type": "stream",
     "text": [
      "Company tag_slc is added to the graph.\n"
     ]
    },
    {
     "name": "stderr",
     "output_type": "stream",
     "text": [
      " 48%|████▊     | 670/1386 [06:22<08:16,  1.44it/s]"
     ]
    },
    {
     "name": "stdout",
     "output_type": "stream",
     "text": [
      "Company pynwheel is added to the graph.\n"
     ]
    },
    {
     "name": "stderr",
     "output_type": "stream",
     "text": [
      " 48%|████▊     | 671/1386 [06:23<07:55,  1.50it/s]"
     ]
    },
    {
     "name": "stdout",
     "output_type": "stream",
     "text": [
      "Company pelican_state_cu is added to the graph.\n"
     ]
    },
    {
     "name": "stderr",
     "output_type": "stream",
     "text": [
      " 48%|████▊     | 672/1386 [06:23<06:51,  1.73it/s]"
     ]
    },
    {
     "name": "stdout",
     "output_type": "stream",
     "text": [
      "Company laer_realty_partners is added to the graph.\n"
     ]
    },
    {
     "name": "stderr",
     "output_type": "stream",
     "text": [
      " 49%|████▊     | 673/1386 [06:23<06:20,  1.88it/s]"
     ]
    },
    {
     "name": "stdout",
     "output_type": "stream",
     "text": [
      "Company appalachian_utility_services is added to the graph.\n"
     ]
    },
    {
     "name": "stderr",
     "output_type": "stream",
     "text": [
      " 49%|████▊     | 674/1386 [06:24<05:43,  2.07it/s]"
     ]
    },
    {
     "name": "stdout",
     "output_type": "stream",
     "text": [
      "Company airbnb is added to the graph.\n"
     ]
    },
    {
     "name": "stderr",
     "output_type": "stream",
     "text": [
      " 49%|████▊     | 675/1386 [06:24<05:34,  2.13it/s]"
     ]
    },
    {
     "name": "stdout",
     "output_type": "stream",
     "text": [
      "Company yummers is added to the graph.\n"
     ]
    },
    {
     "name": "stderr",
     "output_type": "stream",
     "text": [
      " 49%|████▉     | 676/1386 [06:25<06:02,  1.96it/s]"
     ]
    },
    {
     "name": "stdout",
     "output_type": "stream",
     "text": [
      "Company unity_com is added to the graph.\n"
     ]
    },
    {
     "name": "stderr",
     "output_type": "stream",
     "text": [
      " 49%|████▉     | 677/1386 [06:25<05:17,  2.23it/s]"
     ]
    },
    {
     "name": "stdout",
     "output_type": "stream",
     "text": [
      "Error: 'NoneType' object has no attribute 'append'\n"
     ]
    },
    {
     "name": "stderr",
     "output_type": "stream",
     "text": [
      " 49%|████▉     | 678/1386 [06:26<06:23,  1.85it/s]"
     ]
    },
    {
     "name": "stdout",
     "output_type": "stream",
     "text": [
      "Company kearny_bank is added to the graph.\n"
     ]
    },
    {
     "name": "stderr",
     "output_type": "stream",
     "text": [
      " 49%|████▉     | 679/1386 [06:27<07:19,  1.61it/s]"
     ]
    },
    {
     "name": "stdout",
     "output_type": "stream",
     "text": [
      "Company puma_private_equity is added to the graph.\n"
     ]
    },
    {
     "name": "stderr",
     "output_type": "stream",
     "text": [
      " 49%|████▉     | 680/1386 [06:27<06:52,  1.71it/s]"
     ]
    },
    {
     "name": "stdout",
     "output_type": "stream",
     "text": [
      "Company tata_consumer_products is added to the graph.\n"
     ]
    },
    {
     "name": "stderr",
     "output_type": "stream",
     "text": [
      " 49%|████▉     | 681/1386 [06:28<06:36,  1.78it/s]"
     ]
    },
    {
     "name": "stdout",
     "output_type": "stream",
     "text": [
      "Company olive_my_pickle is added to the graph.\n"
     ]
    },
    {
     "name": "stderr",
     "output_type": "stream",
     "text": [
      " 49%|████▉     | 682/1386 [06:29<08:51,  1.33it/s]"
     ]
    },
    {
     "name": "stdout",
     "output_type": "stream",
     "text": [
      "Company beagle_services is added to the graph.\n"
     ]
    },
    {
     "name": "stderr",
     "output_type": "stream",
     "text": [
      " 49%|████▉     | 683/1386 [06:30<08:33,  1.37it/s]"
     ]
    },
    {
     "name": "stdout",
     "output_type": "stream",
     "text": [
      "Company ibm is added to the graph.\n"
     ]
    },
    {
     "name": "stderr",
     "output_type": "stream",
     "text": [
      " 49%|████▉     | 684/1386 [06:30<08:22,  1.40it/s]"
     ]
    },
    {
     "name": "stdout",
     "output_type": "stream",
     "text": [
      "Company lightricks is added to the graph.\n"
     ]
    },
    {
     "name": "stderr",
     "output_type": "stream",
     "text": [
      " 49%|████▉     | 685/1386 [06:31<07:22,  1.58it/s]"
     ]
    },
    {
     "name": "stdout",
     "output_type": "stream",
     "text": [
      "Company rip_curl is added to the graph.\n"
     ]
    },
    {
     "name": "stderr",
     "output_type": "stream",
     "text": [
      " 49%|████▉     | 686/1386 [06:31<06:53,  1.69it/s]"
     ]
    },
    {
     "name": "stdout",
     "output_type": "stream",
     "text": [
      "Company inside_information is added to the graph.\n"
     ]
    },
    {
     "name": "stderr",
     "output_type": "stream",
     "text": [
      " 50%|████▉     | 687/1386 [06:32<06:29,  1.80it/s]"
     ]
    },
    {
     "name": "stdout",
     "output_type": "stream",
     "text": [
      "Company united_risk_agency is added to the graph.\n"
     ]
    },
    {
     "name": "stderr",
     "output_type": "stream",
     "text": [
      " 50%|████▉     | 688/1386 [06:32<05:47,  2.01it/s]"
     ]
    },
    {
     "name": "stdout",
     "output_type": "stream",
     "text": [
      "Company s3_capital is added to the graph.\n"
     ]
    },
    {
     "name": "stderr",
     "output_type": "stream",
     "text": [
      " 50%|████▉     | 689/1386 [06:32<05:38,  2.06it/s]"
     ]
    },
    {
     "name": "stdout",
     "output_type": "stream",
     "text": [
      "Company sunray_companies is added to the graph.\n"
     ]
    },
    {
     "name": "stderr",
     "output_type": "stream",
     "text": [
      " 50%|████▉     | 690/1386 [06:33<06:40,  1.74it/s]"
     ]
    },
    {
     "name": "stdout",
     "output_type": "stream",
     "text": [
      "Company gumroad is added to the graph.\n"
     ]
    },
    {
     "name": "stderr",
     "output_type": "stream",
     "text": [
      " 50%|████▉     | 691/1386 [06:34<05:59,  1.93it/s]"
     ]
    },
    {
     "name": "stdout",
     "output_type": "stream",
     "text": [
      "Company hospitable is added to the graph.\n"
     ]
    },
    {
     "name": "stderr",
     "output_type": "stream",
     "text": [
      " 50%|████▉     | 692/1386 [06:34<05:27,  2.12it/s]"
     ]
    },
    {
     "name": "stdout",
     "output_type": "stream",
     "text": [
      "Company tpn_health is added to the graph.\n"
     ]
    },
    {
     "name": "stderr",
     "output_type": "stream",
     "text": [
      " 50%|█████     | 693/1386 [06:34<05:19,  2.17it/s]"
     ]
    },
    {
     "name": "stdout",
     "output_type": "stream",
     "text": [
      "Company oneamerica is added to the graph.\n"
     ]
    },
    {
     "name": "stderr",
     "output_type": "stream",
     "text": [
      " 50%|█████     | 694/1386 [06:35<05:03,  2.28it/s]"
     ]
    },
    {
     "name": "stdout",
     "output_type": "stream",
     "text": [
      "Company pretium_solutions is added to the graph.\n"
     ]
    },
    {
     "name": "stderr",
     "output_type": "stream",
     "text": [
      " 50%|█████     | 695/1386 [06:35<05:09,  2.24it/s]"
     ]
    },
    {
     "name": "stdout",
     "output_type": "stream",
     "text": [
      "Company crest_mechanical is added to the graph.\n"
     ]
    },
    {
     "name": "stderr",
     "output_type": "stream",
     "text": [
      " 50%|█████     | 696/1386 [06:36<04:59,  2.30it/s]"
     ]
    },
    {
     "name": "stdout",
     "output_type": "stream",
     "text": [
      "Company carr_properties is added to the graph.\n"
     ]
    },
    {
     "name": "stderr",
     "output_type": "stream",
     "text": [
      " 50%|█████     | 697/1386 [06:36<05:45,  1.99it/s]"
     ]
    },
    {
     "name": "stdout",
     "output_type": "stream",
     "text": [
      "Company sps_commerce is added to the graph.\n"
     ]
    },
    {
     "name": "stderr",
     "output_type": "stream",
     "text": [
      " 50%|█████     | 698/1386 [06:37<05:28,  2.09it/s]"
     ]
    },
    {
     "name": "stdout",
     "output_type": "stream",
     "text": [
      "Company ugly_butterfly is added to the graph.\n"
     ]
    },
    {
     "name": "stderr",
     "output_type": "stream",
     "text": [
      " 50%|█████     | 699/1386 [06:37<04:48,  2.38it/s]"
     ]
    },
    {
     "name": "stdout",
     "output_type": "stream",
     "text": [
      "Error: 'NoneType' object has no attribute 'append'\n"
     ]
    },
    {
     "name": "stderr",
     "output_type": "stream",
     "text": [
      " 51%|█████     | 700/1386 [06:37<04:59,  2.29it/s]"
     ]
    },
    {
     "name": "stdout",
     "output_type": "stream",
     "text": [
      "Error: 'NoneType' object has no attribute 'append'\n"
     ]
    },
    {
     "name": "stderr",
     "output_type": "stream",
     "text": [
      " 51%|█████     | 701/1386 [06:38<04:44,  2.41it/s]"
     ]
    },
    {
     "name": "stdout",
     "output_type": "stream",
     "text": [
      "Company united_protective_technologies is added to the graph.\n"
     ]
    },
    {
     "name": "stderr",
     "output_type": "stream",
     "text": [
      " 51%|█████     | 702/1386 [06:39<05:50,  1.95it/s]"
     ]
    },
    {
     "name": "stdout",
     "output_type": "stream",
     "text": [
      "Company blue_bungalow is added to the graph.\n"
     ]
    },
    {
     "name": "stderr",
     "output_type": "stream",
     "text": [
      " 51%|█████     | 703/1386 [06:39<05:41,  2.00it/s]"
     ]
    },
    {
     "name": "stdout",
     "output_type": "stream",
     "text": [
      "Company 5point_credit_union is added to the graph.\n"
     ]
    },
    {
     "name": "stderr",
     "output_type": "stream",
     "text": [
      " 51%|█████     | 704/1386 [06:40<08:35,  1.32it/s]"
     ]
    },
    {
     "name": "stdout",
     "output_type": "stream",
     "text": [
      "Company amazon is added to the graph.\n"
     ]
    },
    {
     "name": "stderr",
     "output_type": "stream",
     "text": [
      " 51%|█████     | 705/1386 [06:41<09:22,  1.21it/s]"
     ]
    },
    {
     "name": "stdout",
     "output_type": "stream",
     "text": [
      "Company kensium_solutions is added to the graph.\n"
     ]
    },
    {
     "name": "stderr",
     "output_type": "stream",
     "text": [
      " 51%|█████     | 706/1386 [06:42<08:40,  1.31it/s]"
     ]
    },
    {
     "name": "stdout",
     "output_type": "stream",
     "text": [
      "Company signify_health is added to the graph.\n"
     ]
    },
    {
     "name": "stderr",
     "output_type": "stream",
     "text": [
      " 51%|█████     | 707/1386 [06:43<10:40,  1.06it/s]"
     ]
    },
    {
     "name": "stdout",
     "output_type": "stream",
     "text": [
      "Company the_hartford is added to the graph.\n"
     ]
    },
    {
     "name": "stderr",
     "output_type": "stream",
     "text": [
      " 51%|█████     | 708/1386 [06:44<10:49,  1.04it/s]"
     ]
    },
    {
     "name": "stdout",
     "output_type": "stream",
     "text": [
      "Company espinoza_brock is added to the graph.\n"
     ]
    },
    {
     "name": "stderr",
     "output_type": "stream",
     "text": [
      " 51%|█████     | 709/1386 [06:45<09:06,  1.24it/s]"
     ]
    },
    {
     "name": "stdout",
     "output_type": "stream",
     "text": [
      "Company benqi is added to the graph.\n"
     ]
    },
    {
     "name": "stderr",
     "output_type": "stream",
     "text": [
      " 51%|█████     | 710/1386 [06:45<07:34,  1.49it/s]"
     ]
    },
    {
     "name": "stdout",
     "output_type": "stream",
     "text": [
      "Error: 'NoneType' object has no attribute 'append'\n"
     ]
    },
    {
     "name": "stderr",
     "output_type": "stream",
     "text": [
      " 51%|█████▏    | 711/1386 [06:46<08:51,  1.27it/s]"
     ]
    },
    {
     "name": "stdout",
     "output_type": "stream",
     "text": [
      "Company isl_talent is added to the graph.\n"
     ]
    },
    {
     "name": "stderr",
     "output_type": "stream",
     "text": [
      " 51%|█████▏    | 712/1386 [06:48<11:50,  1.05s/it]"
     ]
    },
    {
     "name": "stdout",
     "output_type": "stream",
     "text": [
      "Company dun_&_bradstreet is added to the graph.\n"
     ]
    },
    {
     "name": "stderr",
     "output_type": "stream",
     "text": [
      " 51%|█████▏    | 713/1386 [06:48<09:31,  1.18it/s]"
     ]
    },
    {
     "name": "stdout",
     "output_type": "stream",
     "text": [
      "Company adorn_boutique is added to the graph.\n"
     ]
    },
    {
     "name": "stderr",
     "output_type": "stream",
     "text": [
      " 52%|█████▏    | 714/1386 [06:49<10:10,  1.10it/s]"
     ]
    },
    {
     "name": "stdout",
     "output_type": "stream",
     "text": [
      "Company mri_builders is added to the graph.\n"
     ]
    },
    {
     "name": "stderr",
     "output_type": "stream",
     "text": [
      " 52%|█████▏    | 715/1386 [06:50<10:39,  1.05it/s]"
     ]
    },
    {
     "name": "stdout",
     "output_type": "stream",
     "text": [
      "Company wells_fargo is added to the graph.\n"
     ]
    },
    {
     "name": "stderr",
     "output_type": "stream",
     "text": [
      " 52%|█████▏    | 716/1386 [06:51<09:46,  1.14it/s]"
     ]
    },
    {
     "name": "stdout",
     "output_type": "stream",
     "text": [
      "Company community_west_credit_union is added to the graph.\n"
     ]
    },
    {
     "name": "stderr",
     "output_type": "stream",
     "text": [
      " 52%|█████▏    | 717/1386 [06:52<09:11,  1.21it/s]"
     ]
    },
    {
     "name": "stdout",
     "output_type": "stream",
     "text": [
      "Company usaa is added to the graph.\n"
     ]
    },
    {
     "name": "stderr",
     "output_type": "stream",
     "text": [
      " 52%|█████▏    | 718/1386 [06:52<07:41,  1.45it/s]"
     ]
    },
    {
     "name": "stdout",
     "output_type": "stream",
     "text": [
      "Company enmarket is added to the graph.\n"
     ]
    },
    {
     "name": "stderr",
     "output_type": "stream",
     "text": [
      " 52%|█████▏    | 719/1386 [06:53<06:55,  1.61it/s]"
     ]
    },
    {
     "name": "stdout",
     "output_type": "stream",
     "text": [
      "Company zerion is added to the graph.\n"
     ]
    },
    {
     "name": "stderr",
     "output_type": "stream",
     "text": [
      " 52%|█████▏    | 720/1386 [06:53<07:26,  1.49it/s]"
     ]
    },
    {
     "name": "stdout",
     "output_type": "stream",
     "text": [
      "Company guardian is added to the graph.\n"
     ]
    },
    {
     "name": "stderr",
     "output_type": "stream",
     "text": [
      " 52%|█████▏    | 721/1386 [06:54<06:57,  1.59it/s]"
     ]
    },
    {
     "name": "stdout",
     "output_type": "stream",
     "text": [
      "Company ascensus is added to the graph.\n"
     ]
    },
    {
     "name": "stderr",
     "output_type": "stream",
     "text": [
      " 52%|█████▏    | 722/1386 [06:54<06:05,  1.82it/s]"
     ]
    },
    {
     "name": "stdout",
     "output_type": "stream",
     "text": [
      "Company argo_real_estate is added to the graph.\n"
     ]
    },
    {
     "name": "stderr",
     "output_type": "stream",
     "text": [
      " 52%|█████▏    | 723/1386 [06:55<05:31,  2.00it/s]"
     ]
    },
    {
     "name": "stdout",
     "output_type": "stream",
     "text": [
      "Company icecap_group is added to the graph.\n"
     ]
    },
    {
     "name": "stderr",
     "output_type": "stream",
     "text": [
      " 52%|█████▏    | 724/1386 [06:55<05:25,  2.03it/s]"
     ]
    },
    {
     "name": "stdout",
     "output_type": "stream",
     "text": [
      "Company underwear_expert is added to the graph.\n"
     ]
    },
    {
     "name": "stderr",
     "output_type": "stream",
     "text": [
      " 52%|█████▏    | 725/1386 [06:56<05:10,  2.13it/s]"
     ]
    },
    {
     "name": "stdout",
     "output_type": "stream",
     "text": [
      "Company bwco_cpas is added to the graph.\n"
     ]
    },
    {
     "name": "stderr",
     "output_type": "stream",
     "text": [
      " 52%|█████▏    | 726/1386 [06:56<05:11,  2.12it/s]"
     ]
    },
    {
     "name": "stdout",
     "output_type": "stream",
     "text": [
      "Company liwmi_logistics is added to the graph.\n"
     ]
    },
    {
     "name": "stderr",
     "output_type": "stream",
     "text": [
      " 52%|█████▏    | 727/1386 [06:57<06:45,  1.63it/s]"
     ]
    },
    {
     "name": "stdout",
     "output_type": "stream",
     "text": [
      "Company dr__tavel_family_eye_care is added to the graph.\n"
     ]
    },
    {
     "name": "stderr",
     "output_type": "stream",
     "text": [
      " 53%|█████▎    | 728/1386 [06:58<07:06,  1.54it/s]"
     ]
    },
    {
     "name": "stdout",
     "output_type": "stream",
     "text": [
      "Company bhhs_fox_&_roach is added to the graph.\n"
     ]
    },
    {
     "name": "stderr",
     "output_type": "stream",
     "text": [
      " 53%|█████▎    | 729/1386 [06:58<07:20,  1.49it/s]"
     ]
    },
    {
     "name": "stdout",
     "output_type": "stream",
     "text": [
      "Company checkr is added to the graph.\n"
     ]
    },
    {
     "name": "stderr",
     "output_type": "stream",
     "text": [
      " 53%|█████▎    | 730/1386 [06:59<07:54,  1.38it/s]"
     ]
    },
    {
     "name": "stdout",
     "output_type": "stream",
     "text": [
      "Company jpmorgan is added to the graph.\n"
     ]
    },
    {
     "name": "stderr",
     "output_type": "stream",
     "text": [
      " 53%|█████▎    | 731/1386 [07:00<07:19,  1.49it/s]"
     ]
    },
    {
     "name": "stdout",
     "output_type": "stream",
     "text": [
      "Company antler is added to the graph.\n"
     ]
    },
    {
     "name": "stderr",
     "output_type": "stream",
     "text": [
      " 53%|█████▎    | 732/1386 [07:00<06:54,  1.58it/s]"
     ]
    },
    {
     "name": "stdout",
     "output_type": "stream",
     "text": [
      "Company avison_young is added to the graph.\n"
     ]
    },
    {
     "name": "stderr",
     "output_type": "stream",
     "text": [
      " 53%|█████▎    | 733/1386 [07:01<06:15,  1.74it/s]"
     ]
    },
    {
     "name": "stdout",
     "output_type": "stream",
     "text": [
      "Company petplan is added to the graph.\n"
     ]
    },
    {
     "name": "stderr",
     "output_type": "stream",
     "text": [
      " 53%|█████▎    | 734/1386 [07:01<06:01,  1.81it/s]"
     ]
    },
    {
     "name": "stdout",
     "output_type": "stream",
     "text": [
      "Company wtp_advisors is added to the graph.\n"
     ]
    },
    {
     "name": "stderr",
     "output_type": "stream",
     "text": [
      " 53%|█████▎    | 735/1386 [07:02<06:54,  1.57it/s]"
     ]
    },
    {
     "name": "stdout",
     "output_type": "stream",
     "text": [
      "Company ellisdon is added to the graph.\n"
     ]
    },
    {
     "name": "stderr",
     "output_type": "stream",
     "text": [
      " 53%|█████▎    | 736/1386 [07:03<06:11,  1.75it/s]"
     ]
    },
    {
     "name": "stdout",
     "output_type": "stream",
     "text": [
      "Company aim_ventura_capital is added to the graph.\n"
     ]
    },
    {
     "name": "stderr",
     "output_type": "stream",
     "text": [
      " 53%|█████▎    | 737/1386 [07:03<06:51,  1.58it/s]"
     ]
    },
    {
     "name": "stdout",
     "output_type": "stream",
     "text": [
      "Company gunderson_dettmer_stough_villeneuve_franklin_&_hachigian_llp is added to the graph.\n"
     ]
    },
    {
     "name": "stderr",
     "output_type": "stream",
     "text": [
      " 53%|█████▎    | 738/1386 [07:04<06:02,  1.79it/s]"
     ]
    },
    {
     "name": "stdout",
     "output_type": "stream",
     "text": [
      "Company cadillac_fairview is added to the graph.\n"
     ]
    },
    {
     "name": "stderr",
     "output_type": "stream",
     "text": [
      " 53%|█████▎    | 739/1386 [07:04<05:56,  1.82it/s]"
     ]
    },
    {
     "name": "stdout",
     "output_type": "stream",
     "text": [
      "Company aavgo is added to the graph.\n"
     ]
    },
    {
     "name": "stderr",
     "output_type": "stream",
     "text": [
      " 53%|█████▎    | 740/1386 [07:05<05:33,  1.94it/s]"
     ]
    },
    {
     "name": "stdout",
     "output_type": "stream",
     "text": [
      "Company upstate_chevrolet is added to the graph.\n"
     ]
    },
    {
     "name": "stderr",
     "output_type": "stream",
     "text": [
      " 53%|█████▎    | 741/1386 [07:05<05:51,  1.84it/s]"
     ]
    },
    {
     "name": "stdout",
     "output_type": "stream",
     "text": [
      "Company nemuno_banga is added to the graph.\n"
     ]
    },
    {
     "name": "stderr",
     "output_type": "stream",
     "text": [
      " 54%|█████▎    | 742/1386 [07:06<05:18,  2.02it/s]"
     ]
    },
    {
     "name": "stdout",
     "output_type": "stream",
     "text": [
      "Company stock_unlock is added to the graph.\n"
     ]
    },
    {
     "name": "stderr",
     "output_type": "stream",
     "text": [
      " 54%|█████▎    | 743/1386 [07:06<05:35,  1.92it/s]"
     ]
    },
    {
     "name": "stdout",
     "output_type": "stream",
     "text": [
      "Company spectrum_health is added to the graph.\n"
     ]
    },
    {
     "name": "stderr",
     "output_type": "stream",
     "text": [
      " 54%|█████▎    | 744/1386 [07:07<05:09,  2.07it/s]"
     ]
    },
    {
     "name": "stdout",
     "output_type": "stream",
     "text": [
      "Company fannie_mae is added to the graph.\n"
     ]
    },
    {
     "name": "stderr",
     "output_type": "stream",
     "text": [
      " 54%|█████▍    | 745/1386 [07:08<06:25,  1.66it/s]"
     ]
    },
    {
     "name": "stdout",
     "output_type": "stream",
     "text": [
      "Company graham_company is added to the graph.\n"
     ]
    },
    {
     "name": "stderr",
     "output_type": "stream",
     "text": [
      " 54%|█████▍    | 746/1386 [07:08<07:17,  1.46it/s]"
     ]
    },
    {
     "name": "stdout",
     "output_type": "stream",
     "text": [
      "Company partnership_financial_cu is added to the graph.\n"
     ]
    },
    {
     "name": "stderr",
     "output_type": "stream",
     "text": [
      " 54%|█████▍    | 747/1386 [07:09<06:07,  1.74it/s]"
     ]
    },
    {
     "name": "stdout",
     "output_type": "stream",
     "text": [
      "Error: 'NoneType' object has no attribute 'append'\n"
     ]
    },
    {
     "name": "stderr",
     "output_type": "stream",
     "text": [
      " 54%|█████▍    | 748/1386 [07:09<05:39,  1.88it/s]"
     ]
    },
    {
     "name": "stdout",
     "output_type": "stream",
     "text": [
      "Company steadily is added to the graph.\n"
     ]
    },
    {
     "name": "stderr",
     "output_type": "stream",
     "text": [
      " 54%|█████▍    | 749/1386 [07:10<05:46,  1.84it/s]"
     ]
    },
    {
     "name": "stdout",
     "output_type": "stream",
     "text": [
      "Company meshki is added to the graph.\n"
     ]
    },
    {
     "name": "stderr",
     "output_type": "stream",
     "text": [
      " 54%|█████▍    | 750/1386 [07:10<05:48,  1.82it/s]"
     ]
    },
    {
     "name": "stdout",
     "output_type": "stream",
     "text": [
      "Company p1fcu is added to the graph.\n"
     ]
    },
    {
     "name": "stderr",
     "output_type": "stream",
     "text": [
      " 54%|█████▍    | 751/1386 [07:11<06:30,  1.63it/s]"
     ]
    },
    {
     "name": "stdout",
     "output_type": "stream",
     "text": [
      "Company security_cu is added to the graph.\n"
     ]
    },
    {
     "name": "stderr",
     "output_type": "stream",
     "text": [
      " 54%|█████▍    | 752/1386 [07:11<05:41,  1.86it/s]"
     ]
    },
    {
     "name": "stdout",
     "output_type": "stream",
     "text": [
      "Company evolve_retirement is added to the graph.\n"
     ]
    },
    {
     "name": "stderr",
     "output_type": "stream",
     "text": [
      " 54%|█████▍    | 753/1386 [07:12<05:39,  1.86it/s]"
     ]
    },
    {
     "name": "stdout",
     "output_type": "stream",
     "text": [
      "Company dma_architects is added to the graph.\n"
     ]
    },
    {
     "name": "stderr",
     "output_type": "stream",
     "text": [
      " 54%|█████▍    | 754/1386 [07:13<07:27,  1.41it/s]"
     ]
    },
    {
     "name": "stdout",
     "output_type": "stream",
     "text": [
      "Company plaid is added to the graph.\n"
     ]
    },
    {
     "name": "stderr",
     "output_type": "stream",
     "text": [
      " 54%|█████▍    | 755/1386 [07:14<09:23,  1.12it/s]"
     ]
    },
    {
     "name": "stdout",
     "output_type": "stream",
     "text": [
      "Company smithgroup is added to the graph.\n"
     ]
    },
    {
     "name": "stderr",
     "output_type": "stream",
     "text": [
      " 55%|█████▍    | 756/1386 [07:15<08:32,  1.23it/s]"
     ]
    },
    {
     "name": "stdout",
     "output_type": "stream",
     "text": [
      "Error: 'NoneType' object has no attribute 'append'\n"
     ]
    },
    {
     "name": "stderr",
     "output_type": "stream",
     "text": [
      " 55%|█████▍    | 757/1386 [07:15<06:59,  1.50it/s]"
     ]
    },
    {
     "name": "stdout",
     "output_type": "stream",
     "text": [
      "Error: 'NoneType' object has no attribute 'append'\n"
     ]
    },
    {
     "name": "stderr",
     "output_type": "stream",
     "text": [
      " 55%|█████▍    | 758/1386 [07:16<05:49,  1.80it/s]"
     ]
    },
    {
     "name": "stdout",
     "output_type": "stream",
     "text": [
      "Error: 'NoneType' object has no attribute 'append'\n"
     ]
    },
    {
     "name": "stderr",
     "output_type": "stream",
     "text": [
      " 55%|█████▍    | 759/1386 [07:16<05:17,  1.98it/s]"
     ]
    },
    {
     "name": "stdout",
     "output_type": "stream",
     "text": [
      "Company openly is added to the graph.\n"
     ]
    },
    {
     "name": "stderr",
     "output_type": "stream",
     "text": [
      " 55%|█████▍    | 760/1386 [07:16<04:53,  2.13it/s]"
     ]
    },
    {
     "name": "stdout",
     "output_type": "stream",
     "text": [
      "Error: 'NoneType' object has no attribute 'append'\n"
     ]
    },
    {
     "name": "stderr",
     "output_type": "stream",
     "text": [
      " 55%|█████▍    | 761/1386 [07:17<05:15,  1.98it/s]"
     ]
    },
    {
     "name": "stdout",
     "output_type": "stream",
     "text": [
      "Company quick_lube_expert is added to the graph.\n"
     ]
    },
    {
     "name": "stderr",
     "output_type": "stream",
     "text": [
      " 55%|█████▍    | 762/1386 [07:17<05:04,  2.05it/s]"
     ]
    },
    {
     "name": "stdout",
     "output_type": "stream",
     "text": [
      "Company qured is added to the graph.\n"
     ]
    },
    {
     "name": "stderr",
     "output_type": "stream",
     "text": [
      " 55%|█████▌    | 763/1386 [07:18<05:08,  2.02it/s]"
     ]
    },
    {
     "name": "stdout",
     "output_type": "stream",
     "text": [
      "Company jb_hi_fi is added to the graph.\n"
     ]
    },
    {
     "name": "stderr",
     "output_type": "stream",
     "text": [
      " 55%|█████▌    | 764/1386 [07:19<05:26,  1.91it/s]"
     ]
    },
    {
     "name": "stdout",
     "output_type": "stream",
     "text": [
      "Company stay_charlottesville is added to the graph.\n"
     ]
    },
    {
     "name": "stderr",
     "output_type": "stream",
     "text": [
      " 55%|█████▌    | 765/1386 [07:19<05:40,  1.82it/s]"
     ]
    },
    {
     "name": "stdout",
     "output_type": "stream",
     "text": [
      "Company trainual is added to the graph.\n"
     ]
    },
    {
     "name": "stderr",
     "output_type": "stream",
     "text": [
      " 55%|█████▌    | 766/1386 [07:20<05:09,  2.00it/s]"
     ]
    },
    {
     "name": "stdout",
     "output_type": "stream",
     "text": [
      "Company re_max_central_realty is added to the graph.\n"
     ]
    },
    {
     "name": "stderr",
     "output_type": "stream",
     "text": [
      " 55%|█████▌    | 767/1386 [07:20<04:46,  2.16it/s]"
     ]
    },
    {
     "name": "stdout",
     "output_type": "stream",
     "text": [
      "Company hoover_treated_wood_products is added to the graph.\n"
     ]
    },
    {
     "name": "stderr",
     "output_type": "stream",
     "text": [
      " 55%|█████▌    | 768/1386 [07:21<05:08,  2.00it/s]"
     ]
    },
    {
     "name": "stdout",
     "output_type": "stream",
     "text": [
      "Company lt_trust is added to the graph.\n"
     ]
    },
    {
     "name": "stderr",
     "output_type": "stream",
     "text": [
      " 55%|█████▌    | 769/1386 [07:21<05:05,  2.02it/s]"
     ]
    },
    {
     "name": "stdout",
     "output_type": "stream",
     "text": [
      "Company hometrust_bank is added to the graph.\n"
     ]
    },
    {
     "name": "stderr",
     "output_type": "stream",
     "text": [
      " 56%|█████▌    | 770/1386 [07:21<04:38,  2.21it/s]"
     ]
    },
    {
     "name": "stdout",
     "output_type": "stream",
     "text": [
      "Company ima_financial_group_inc_ is added to the graph.\n"
     ]
    },
    {
     "name": "stderr",
     "output_type": "stream",
     "text": [
      " 56%|█████▌    | 771/1386 [07:22<05:11,  1.97it/s]"
     ]
    },
    {
     "name": "stdout",
     "output_type": "stream",
     "text": [
      "Company first_community_bank_and_trust is added to the graph.\n"
     ]
    },
    {
     "name": "stderr",
     "output_type": "stream",
     "text": [
      " 56%|█████▌    | 772/1386 [07:23<05:13,  1.96it/s]"
     ]
    },
    {
     "name": "stdout",
     "output_type": "stream",
     "text": [
      "Company key_group is added to the graph.\n"
     ]
    },
    {
     "name": "stderr",
     "output_type": "stream",
     "text": [
      " 56%|█████▌    | 773/1386 [07:23<05:39,  1.81it/s]"
     ]
    },
    {
     "name": "stdout",
     "output_type": "stream",
     "text": [
      "Company concur is added to the graph.\n"
     ]
    },
    {
     "name": "stderr",
     "output_type": "stream",
     "text": [
      " 56%|█████▌    | 774/1386 [07:24<05:23,  1.89it/s]"
     ]
    },
    {
     "name": "stdout",
     "output_type": "stream",
     "text": [
      "Company proteus_power is added to the graph.\n"
     ]
    },
    {
     "name": "stderr",
     "output_type": "stream",
     "text": [
      " 56%|█████▌    | 775/1386 [07:24<06:19,  1.61it/s]"
     ]
    },
    {
     "name": "stdout",
     "output_type": "stream",
     "text": [
      "Company citgo is added to the graph.\n"
     ]
    },
    {
     "name": "stderr",
     "output_type": "stream",
     "text": [
      " 56%|█████▌    | 776/1386 [07:25<05:21,  1.90it/s]"
     ]
    },
    {
     "name": "stdout",
     "output_type": "stream",
     "text": [
      "Error: 'NoneType' object has no attribute 'append'\n"
     ]
    },
    {
     "name": "stderr",
     "output_type": "stream",
     "text": [
      " 56%|█████▌    | 777/1386 [07:25<05:13,  1.94it/s]"
     ]
    },
    {
     "name": "stdout",
     "output_type": "stream",
     "text": [
      "Company flushing_bank is added to the graph.\n"
     ]
    },
    {
     "name": "stderr",
     "output_type": "stream",
     "text": [
      " 56%|█████▌    | 778/1386 [07:26<04:51,  2.08it/s]"
     ]
    },
    {
     "name": "stdout",
     "output_type": "stream",
     "text": [
      "Company azek is added to the graph.\n"
     ]
    },
    {
     "name": "stderr",
     "output_type": "stream",
     "text": [
      " 56%|█████▌    | 779/1386 [07:27<06:38,  1.52it/s]"
     ]
    },
    {
     "name": "stdout",
     "output_type": "stream",
     "text": [
      "Company industrial_services_company is added to the graph.\n"
     ]
    },
    {
     "name": "stderr",
     "output_type": "stream",
     "text": [
      " 56%|█████▋    | 780/1386 [07:28<07:09,  1.41it/s]"
     ]
    },
    {
     "name": "stdout",
     "output_type": "stream",
     "text": [
      "Company imeg is added to the graph.\n"
     ]
    },
    {
     "name": "stderr",
     "output_type": "stream",
     "text": [
      " 56%|█████▋    | 781/1386 [07:28<06:20,  1.59it/s]"
     ]
    },
    {
     "name": "stdout",
     "output_type": "stream",
     "text": [
      "Company milwyn_jenkins_&_jenkins_solicitors is added to the graph.\n"
     ]
    },
    {
     "name": "stderr",
     "output_type": "stream",
     "text": [
      " 56%|█████▋    | 782/1386 [07:29<06:39,  1.51it/s]"
     ]
    },
    {
     "name": "stdout",
     "output_type": "stream",
     "text": [
      "Company matillion is added to the graph.\n"
     ]
    },
    {
     "name": "stderr",
     "output_type": "stream",
     "text": [
      " 56%|█████▋    | 783/1386 [07:29<06:17,  1.60it/s]"
     ]
    },
    {
     "name": "stdout",
     "output_type": "stream",
     "text": [
      "Company brewin_dolphin is added to the graph.\n"
     ]
    },
    {
     "name": "stderr",
     "output_type": "stream",
     "text": [
      " 57%|█████▋    | 784/1386 [07:30<05:16,  1.90it/s]"
     ]
    },
    {
     "name": "stdout",
     "output_type": "stream",
     "text": [
      "Error: 'NoneType' object has no attribute 'append'\n"
     ]
    },
    {
     "name": "stderr",
     "output_type": "stream",
     "text": [
      " 57%|█████▋    | 785/1386 [07:30<04:44,  2.11it/s]"
     ]
    },
    {
     "name": "stdout",
     "output_type": "stream",
     "text": [
      "Company kfc___yum is added to the graph.\n"
     ]
    },
    {
     "name": "stderr",
     "output_type": "stream",
     "text": [
      " 57%|█████▋    | 786/1386 [07:31<05:20,  1.87it/s]"
     ]
    },
    {
     "name": "stdout",
     "output_type": "stream",
     "text": [
      "Company liknoss is added to the graph.\n"
     ]
    },
    {
     "name": "stderr",
     "output_type": "stream",
     "text": [
      " 57%|█████▋    | 787/1386 [07:31<05:21,  1.87it/s]"
     ]
    },
    {
     "name": "stdout",
     "output_type": "stream",
     "text": [
      "Company gifted_travel_network is added to the graph.\n"
     ]
    },
    {
     "name": "stderr",
     "output_type": "stream",
     "text": [
      " 57%|█████▋    | 788/1386 [07:32<04:48,  2.07it/s]"
     ]
    },
    {
     "name": "stdout",
     "output_type": "stream",
     "text": [
      "Company alector is added to the graph.\n"
     ]
    },
    {
     "name": "stderr",
     "output_type": "stream",
     "text": [
      " 57%|█████▋    | 789/1386 [07:32<04:22,  2.27it/s]"
     ]
    },
    {
     "name": "stdout",
     "output_type": "stream",
     "text": [
      "Company the_agency_uk is added to the graph.\n"
     ]
    },
    {
     "name": "stderr",
     "output_type": "stream",
     "text": [
      " 57%|█████▋    | 790/1386 [07:34<10:41,  1.08s/it]"
     ]
    },
    {
     "name": "stdout",
     "output_type": "stream",
     "text": [
      "Company hacienda_cdc is added to the graph.\n"
     ]
    },
    {
     "name": "stderr",
     "output_type": "stream",
     "text": [
      " 57%|█████▋    | 791/1386 [07:35<10:35,  1.07s/it]"
     ]
    },
    {
     "name": "stdout",
     "output_type": "stream",
     "text": [
      "Company guesty is added to the graph.\n"
     ]
    },
    {
     "name": "stderr",
     "output_type": "stream",
     "text": [
      " 57%|█████▋    | 792/1386 [07:36<08:38,  1.14it/s]"
     ]
    },
    {
     "name": "stdout",
     "output_type": "stream",
     "text": [
      "Company wired_impact is added to the graph.\n"
     ]
    },
    {
     "name": "stderr",
     "output_type": "stream",
     "text": [
      " 57%|█████▋    | 793/1386 [07:36<07:11,  1.38it/s]"
     ]
    },
    {
     "name": "stdout",
     "output_type": "stream",
     "text": [
      "Company propfinity is added to the graph.\n"
     ]
    },
    {
     "name": "stderr",
     "output_type": "stream",
     "text": [
      " 57%|█████▋    | 794/1386 [07:37<06:19,  1.56it/s]"
     ]
    },
    {
     "name": "stdout",
     "output_type": "stream",
     "text": [
      "Company healthily is added to the graph.\n"
     ]
    },
    {
     "name": "stderr",
     "output_type": "stream",
     "text": [
      " 57%|█████▋    | 795/1386 [07:37<05:57,  1.65it/s]"
     ]
    },
    {
     "name": "stdout",
     "output_type": "stream",
     "text": [
      "Company golden_state_farm_credit is added to the graph.\n"
     ]
    },
    {
     "name": "stderr",
     "output_type": "stream",
     "text": [
      " 57%|█████▋    | 796/1386 [07:38<05:37,  1.75it/s]"
     ]
    },
    {
     "name": "stdout",
     "output_type": "stream",
     "text": [
      "Company thetaray is added to the graph.\n"
     ]
    },
    {
     "name": "stderr",
     "output_type": "stream",
     "text": [
      " 58%|█████▊    | 797/1386 [07:38<05:08,  1.91it/s]"
     ]
    },
    {
     "name": "stdout",
     "output_type": "stream",
     "text": [
      "Company 2costa_rica is added to the graph.\n"
     ]
    },
    {
     "name": "stderr",
     "output_type": "stream",
     "text": [
      " 58%|█████▊    | 798/1386 [07:39<05:08,  1.91it/s]"
     ]
    },
    {
     "name": "stdout",
     "output_type": "stream",
     "text": [
      "Company magnitude_finance is added to the graph.\n"
     ]
    },
    {
     "name": "stderr",
     "output_type": "stream",
     "text": [
      " 58%|█████▊    | 799/1386 [07:39<04:33,  2.15it/s]"
     ]
    },
    {
     "name": "stdout",
     "output_type": "stream",
     "text": [
      "Error: 'NoneType' object has no attribute 'append'\n"
     ]
    },
    {
     "name": "stderr",
     "output_type": "stream",
     "text": [
      " 58%|█████▊    | 800/1386 [07:39<04:31,  2.16it/s]"
     ]
    },
    {
     "name": "stdout",
     "output_type": "stream",
     "text": [
      "Company 3_sheeps_brewing is added to the graph.\n"
     ]
    },
    {
     "name": "stderr",
     "output_type": "stream",
     "text": [
      " 58%|█████▊    | 801/1386 [07:40<04:26,  2.19it/s]"
     ]
    },
    {
     "name": "stdout",
     "output_type": "stream",
     "text": [
      "Company evolution_partners is added to the graph.\n"
     ]
    },
    {
     "name": "stderr",
     "output_type": "stream",
     "text": [
      " 58%|█████▊    | 802/1386 [07:40<04:32,  2.14it/s]"
     ]
    },
    {
     "name": "stdout",
     "output_type": "stream",
     "text": [
      "Company lender_price is added to the graph.\n"
     ]
    },
    {
     "name": "stderr",
     "output_type": "stream",
     "text": [
      " 58%|█████▊    | 803/1386 [07:41<05:16,  1.84it/s]"
     ]
    },
    {
     "name": "stdout",
     "output_type": "stream",
     "text": [
      "Company turkcell_com_tr is added to the graph.\n"
     ]
    },
    {
     "name": "stderr",
     "output_type": "stream",
     "text": [
      " 58%|█████▊    | 804/1386 [07:42<05:32,  1.75it/s]"
     ]
    },
    {
     "name": "stdout",
     "output_type": "stream",
     "text": [
      "Company trellis is added to the graph.\n"
     ]
    },
    {
     "name": "stderr",
     "output_type": "stream",
     "text": [
      " 58%|█████▊    | 805/1386 [07:42<05:21,  1.81it/s]"
     ]
    },
    {
     "name": "stdout",
     "output_type": "stream",
     "text": [
      "Company docuflow is added to the graph.\n"
     ]
    },
    {
     "name": "stderr",
     "output_type": "stream",
     "text": [
      " 58%|█████▊    | 806/1386 [07:43<05:10,  1.87it/s]"
     ]
    },
    {
     "name": "stdout",
     "output_type": "stream",
     "text": [
      "Company financial_services_compensation_scheme is added to the graph.\n"
     ]
    },
    {
     "name": "stderr",
     "output_type": "stream",
     "text": [
      " 58%|█████▊    | 807/1386 [07:44<05:58,  1.61it/s]"
     ]
    },
    {
     "name": "stdout",
     "output_type": "stream",
     "text": [
      "Company leandata is added to the graph.\n"
     ]
    },
    {
     "name": "stderr",
     "output_type": "stream",
     "text": [
      " 58%|█████▊    | 808/1386 [07:44<05:39,  1.70it/s]"
     ]
    },
    {
     "name": "stdout",
     "output_type": "stream",
     "text": [
      "Company upinion is added to the graph.\n"
     ]
    },
    {
     "name": "stderr",
     "output_type": "stream",
     "text": [
      " 58%|█████▊    | 809/1386 [07:44<04:52,  1.97it/s]"
     ]
    },
    {
     "name": "stdout",
     "output_type": "stream",
     "text": [
      "Error: 'NoneType' object has no attribute 'append'\n"
     ]
    },
    {
     "name": "stderr",
     "output_type": "stream",
     "text": [
      " 58%|█████▊    | 810/1386 [07:45<04:34,  2.10it/s]"
     ]
    },
    {
     "name": "stdout",
     "output_type": "stream",
     "text": [
      "Company superhuman is added to the graph.\n"
     ]
    },
    {
     "name": "stderr",
     "output_type": "stream",
     "text": [
      " 59%|█████▊    | 811/1386 [07:45<05:02,  1.90it/s]"
     ]
    },
    {
     "name": "stdout",
     "output_type": "stream",
     "text": [
      "Company iron_and_resin is added to the graph.\n"
     ]
    },
    {
     "name": "stderr",
     "output_type": "stream",
     "text": [
      " 59%|█████▊    | 812/1386 [07:46<04:45,  2.01it/s]"
     ]
    },
    {
     "name": "stdout",
     "output_type": "stream",
     "text": [
      "Company homeowners_financial_group is added to the graph.\n"
     ]
    },
    {
     "name": "stderr",
     "output_type": "stream",
     "text": [
      " 59%|█████▊    | 813/1386 [07:46<04:38,  2.06it/s]"
     ]
    },
    {
     "name": "stdout",
     "output_type": "stream",
     "text": [
      "Company techone_vc is added to the graph.\n"
     ]
    },
    {
     "name": "stderr",
     "output_type": "stream",
     "text": [
      " 59%|█████▊    | 814/1386 [07:48<07:51,  1.21it/s]"
     ]
    },
    {
     "name": "stdout",
     "output_type": "stream",
     "text": [
      "Company notion is added to the graph.\n"
     ]
    },
    {
     "name": "stderr",
     "output_type": "stream",
     "text": [
      " 59%|█████▉    | 815/1386 [07:49<07:21,  1.29it/s]"
     ]
    },
    {
     "name": "stdout",
     "output_type": "stream",
     "text": [
      "Company mr_consistent is added to the graph.\n"
     ]
    },
    {
     "name": "stderr",
     "output_type": "stream",
     "text": [
      " 59%|█████▉    | 816/1386 [07:49<06:32,  1.45it/s]"
     ]
    },
    {
     "name": "stdout",
     "output_type": "stream",
     "text": [
      "Company perion is added to the graph.\n"
     ]
    },
    {
     "name": "stderr",
     "output_type": "stream",
     "text": [
      " 59%|█████▉    | 817/1386 [07:50<05:57,  1.59it/s]"
     ]
    },
    {
     "name": "stdout",
     "output_type": "stream",
     "text": [
      "Company goldman_sachs is added to the graph.\n"
     ]
    },
    {
     "name": "stderr",
     "output_type": "stream",
     "text": [
      " 59%|█████▉    | 818/1386 [07:50<05:10,  1.83it/s]"
     ]
    },
    {
     "name": "stdout",
     "output_type": "stream",
     "text": [
      "Company shorenstein is added to the graph.\n"
     ]
    },
    {
     "name": "stderr",
     "output_type": "stream",
     "text": [
      " 59%|█████▉    | 819/1386 [07:50<04:46,  1.98it/s]"
     ]
    },
    {
     "name": "stdout",
     "output_type": "stream",
     "text": [
      "Company nydig is added to the graph.\n"
     ]
    },
    {
     "name": "stderr",
     "output_type": "stream",
     "text": [
      " 59%|█████▉    | 820/1386 [07:51<04:10,  2.26it/s]"
     ]
    },
    {
     "name": "stdout",
     "output_type": "stream",
     "text": [
      "Error: 'NoneType' object has no attribute 'append'\n"
     ]
    },
    {
     "name": "stderr",
     "output_type": "stream",
     "text": [
      " 59%|█████▉    | 821/1386 [07:51<03:58,  2.37it/s]"
     ]
    },
    {
     "name": "stdout",
     "output_type": "stream",
     "text": [
      "Company powerapp_com_tr is added to the graph.\n"
     ]
    },
    {
     "name": "stderr",
     "output_type": "stream",
     "text": [
      " 59%|█████▉    | 822/1386 [07:51<03:47,  2.48it/s]"
     ]
    },
    {
     "name": "stdout",
     "output_type": "stream",
     "text": [
      "Company din_tai_fung is added to the graph.\n"
     ]
    },
    {
     "name": "stderr",
     "output_type": "stream",
     "text": [
      " 59%|█████▉    | 823/1386 [07:52<04:10,  2.25it/s]"
     ]
    },
    {
     "name": "stdout",
     "output_type": "stream",
     "text": [
      "Company altair_global is added to the graph.\n"
     ]
    },
    {
     "name": "stderr",
     "output_type": "stream",
     "text": [
      " 59%|█████▉    | 824/1386 [07:52<03:57,  2.37it/s]"
     ]
    },
    {
     "name": "stdout",
     "output_type": "stream",
     "text": [
      "Company y_combinator is added to the graph.\n"
     ]
    },
    {
     "name": "stderr",
     "output_type": "stream",
     "text": [
      " 60%|█████▉    | 825/1386 [07:53<03:46,  2.48it/s]"
     ]
    },
    {
     "name": "stdout",
     "output_type": "stream",
     "text": [
      "Company vlp_law_group_llp is added to the graph.\n"
     ]
    },
    {
     "name": "stderr",
     "output_type": "stream",
     "text": [
      " 60%|█████▉    | 826/1386 [07:53<04:09,  2.24it/s]"
     ]
    },
    {
     "name": "stdout",
     "output_type": "stream",
     "text": [
      "Company belay_solutions is added to the graph.\n"
     ]
    },
    {
     "name": "stderr",
     "output_type": "stream",
     "text": [
      " 60%|█████▉    | 827/1386 [07:53<03:44,  2.49it/s]"
     ]
    },
    {
     "name": "stdout",
     "output_type": "stream",
     "text": [
      "Error: 'NoneType' object has no attribute 'append'\n"
     ]
    },
    {
     "name": "stderr",
     "output_type": "stream",
     "text": [
      " 60%|█████▉    | 828/1386 [07:54<03:24,  2.72it/s]"
     ]
    },
    {
     "name": "stdout",
     "output_type": "stream",
     "text": [
      "Error: 'NoneType' object has no attribute 'append'\n"
     ]
    },
    {
     "name": "stderr",
     "output_type": "stream",
     "text": [
      " 60%|█████▉    | 829/1386 [07:54<03:41,  2.52it/s]"
     ]
    },
    {
     "name": "stdout",
     "output_type": "stream",
     "text": [
      "Company les_benjamins is added to the graph.\n"
     ]
    },
    {
     "name": "stderr",
     "output_type": "stream",
     "text": [
      " 60%|█████▉    | 830/1386 [07:55<04:00,  2.31it/s]"
     ]
    },
    {
     "name": "stdout",
     "output_type": "stream",
     "text": [
      "Company sorrels_law is added to the graph.\n"
     ]
    },
    {
     "name": "stderr",
     "output_type": "stream",
     "text": [
      " 60%|█████▉    | 831/1386 [07:55<04:24,  2.10it/s]"
     ]
    },
    {
     "name": "stdout",
     "output_type": "stream",
     "text": [
      "Company barton_malow is added to the graph.\n"
     ]
    },
    {
     "name": "stderr",
     "output_type": "stream",
     "text": [
      " 60%|██████    | 832/1386 [07:56<04:23,  2.10it/s]"
     ]
    },
    {
     "name": "stdout",
     "output_type": "stream",
     "text": [
      "Company momentum_accounting is added to the graph.\n"
     ]
    },
    {
     "name": "stderr",
     "output_type": "stream",
     "text": [
      " 60%|██████    | 833/1386 [07:56<03:52,  2.38it/s]"
     ]
    },
    {
     "name": "stdout",
     "output_type": "stream",
     "text": [
      "Error: 'NoneType' object has no attribute 'append'\n"
     ]
    },
    {
     "name": "stderr",
     "output_type": "stream",
     "text": [
      " 60%|██████    | 834/1386 [07:56<03:42,  2.48it/s]"
     ]
    },
    {
     "name": "stdout",
     "output_type": "stream",
     "text": [
      "Company pit_viper is added to the graph.\n"
     ]
    },
    {
     "name": "stderr",
     "output_type": "stream",
     "text": [
      " 60%|██████    | 835/1386 [07:58<06:17,  1.46it/s]"
     ]
    },
    {
     "name": "stdout",
     "output_type": "stream",
     "text": [
      "Company founderup is added to the graph.\n"
     ]
    },
    {
     "name": "stderr",
     "output_type": "stream",
     "text": [
      " 60%|██████    | 836/1386 [07:58<05:47,  1.58it/s]"
     ]
    },
    {
     "name": "stdout",
     "output_type": "stream",
     "text": [
      "Company first_rate_credit_union is added to the graph.\n"
     ]
    },
    {
     "name": "stderr",
     "output_type": "stream",
     "text": [
      " 60%|██████    | 837/1386 [07:59<05:18,  1.73it/s]"
     ]
    },
    {
     "name": "stdout",
     "output_type": "stream",
     "text": [
      "Company suncorp is added to the graph.\n"
     ]
    },
    {
     "name": "stderr",
     "output_type": "stream",
     "text": [
      " 60%|██████    | 838/1386 [07:59<05:30,  1.66it/s]"
     ]
    },
    {
     "name": "stdout",
     "output_type": "stream",
     "text": [
      "Company whole_foods is added to the graph.\n"
     ]
    },
    {
     "name": "stderr",
     "output_type": "stream",
     "text": [
      " 61%|██████    | 839/1386 [08:00<05:09,  1.77it/s]"
     ]
    },
    {
     "name": "stdout",
     "output_type": "stream",
     "text": [
      "Company mr_zimi is added to the graph.\n"
     ]
    },
    {
     "name": "stderr",
     "output_type": "stream",
     "text": [
      " 61%|██████    | 840/1386 [08:00<04:34,  1.99it/s]"
     ]
    },
    {
     "name": "stdout",
     "output_type": "stream",
     "text": [
      "Company arrival is added to the graph.\n"
     ]
    },
    {
     "name": "stderr",
     "output_type": "stream",
     "text": [
      " 61%|██████    | 841/1386 [08:01<04:14,  2.14it/s]"
     ]
    },
    {
     "name": "stdout",
     "output_type": "stream",
     "text": [
      "Company dividend_watch is added to the graph.\n"
     ]
    },
    {
     "name": "stderr",
     "output_type": "stream",
     "text": [
      " 61%|██████    | 842/1386 [08:01<04:51,  1.87it/s]"
     ]
    },
    {
     "name": "stdout",
     "output_type": "stream",
     "text": [
      "Company fastly is added to the graph.\n"
     ]
    },
    {
     "name": "stderr",
     "output_type": "stream",
     "text": [
      " 61%|██████    | 843/1386 [08:02<04:31,  2.00it/s]"
     ]
    },
    {
     "name": "stdout",
     "output_type": "stream",
     "text": [
      "Company leader_bank is added to the graph.\n"
     ]
    },
    {
     "name": "stderr",
     "output_type": "stream",
     "text": [
      " 61%|██████    | 844/1386 [08:02<04:56,  1.83it/s]"
     ]
    },
    {
     "name": "stdout",
     "output_type": "stream",
     "text": [
      "Company black_mountain_software is added to the graph.\n"
     ]
    },
    {
     "name": "stderr",
     "output_type": "stream",
     "text": [
      " 61%|██████    | 845/1386 [08:03<04:34,  1.97it/s]"
     ]
    },
    {
     "name": "stdout",
     "output_type": "stream",
     "text": [
      "Company quantifind is added to the graph.\n"
     ]
    },
    {
     "name": "stderr",
     "output_type": "stream",
     "text": [
      " 61%|██████    | 846/1386 [08:03<04:10,  2.15it/s]"
     ]
    },
    {
     "name": "stdout",
     "output_type": "stream",
     "text": [
      "Company compass is added to the graph.\n"
     ]
    },
    {
     "name": "stderr",
     "output_type": "stream",
     "text": [
      " 61%|██████    | 847/1386 [08:04<04:56,  1.82it/s]"
     ]
    },
    {
     "name": "stdout",
     "output_type": "stream",
     "text": [
      "Company brandon_capital is added to the graph.\n"
     ]
    },
    {
     "name": "stderr",
     "output_type": "stream",
     "text": [
      " 61%|██████    | 848/1386 [08:04<04:43,  1.90it/s]"
     ]
    },
    {
     "name": "stdout",
     "output_type": "stream",
     "text": [
      "Company delta is added to the graph.\n"
     ]
    },
    {
     "name": "stderr",
     "output_type": "stream",
     "text": [
      " 61%|██████▏   | 849/1386 [08:05<04:44,  1.89it/s]"
     ]
    },
    {
     "name": "stdout",
     "output_type": "stream",
     "text": [
      "Company tradedoubler is added to the graph.\n"
     ]
    },
    {
     "name": "stderr",
     "output_type": "stream",
     "text": [
      " 61%|██████▏   | 850/1386 [08:05<04:17,  2.08it/s]"
     ]
    },
    {
     "name": "stdout",
     "output_type": "stream",
     "text": [
      "Company mr__potato_spread is added to the graph.\n"
     ]
    },
    {
     "name": "stderr",
     "output_type": "stream",
     "text": [
      " 61%|██████▏   | 851/1386 [08:06<03:47,  2.35it/s]"
     ]
    },
    {
     "name": "stdout",
     "output_type": "stream",
     "text": [
      "Error: 'NoneType' object has no attribute 'append'\n"
     ]
    },
    {
     "name": "stderr",
     "output_type": "stream",
     "text": [
      " 61%|██████▏   | 852/1386 [08:06<03:37,  2.46it/s]"
     ]
    },
    {
     "name": "stdout",
     "output_type": "stream",
     "text": [
      "Company maniere_de_voir is added to the graph.\n"
     ]
    },
    {
     "name": "stderr",
     "output_type": "stream",
     "text": [
      " 62%|██████▏   | 853/1386 [08:06<03:35,  2.47it/s]"
     ]
    },
    {
     "name": "stdout",
     "output_type": "stream",
     "text": [
      "Company easirent is added to the graph.\n"
     ]
    },
    {
     "name": "stderr",
     "output_type": "stream",
     "text": [
      " 62%|██████▏   | 854/1386 [08:07<03:57,  2.24it/s]"
     ]
    },
    {
     "name": "stdout",
     "output_type": "stream",
     "text": [
      "Company index_ventures is added to the graph.\n"
     ]
    },
    {
     "name": "stderr",
     "output_type": "stream",
     "text": [
      " 62%|██████▏   | 855/1386 [08:09<07:12,  1.23it/s]"
     ]
    },
    {
     "name": "stdout",
     "output_type": "stream",
     "text": [
      "Company independent_investment_management is added to the graph.\n"
     ]
    },
    {
     "name": "stderr",
     "output_type": "stream",
     "text": [
      " 62%|██████▏   | 856/1386 [08:09<06:13,  1.42it/s]"
     ]
    },
    {
     "name": "stdout",
     "output_type": "stream",
     "text": [
      "Company williamson_rv_rentals is added to the graph.\n"
     ]
    },
    {
     "name": "stderr",
     "output_type": "stream",
     "text": [
      " 62%|██████▏   | 857/1386 [08:09<05:06,  1.72it/s]"
     ]
    },
    {
     "name": "stdout",
     "output_type": "stream",
     "text": [
      "Error: 'NoneType' object has no attribute 'append'\n"
     ]
    },
    {
     "name": "stderr",
     "output_type": "stream",
     "text": [
      " 62%|██████▏   | 858/1386 [08:10<04:51,  1.81it/s]"
     ]
    },
    {
     "name": "stdout",
     "output_type": "stream",
     "text": [
      "Company portx is added to the graph.\n"
     ]
    },
    {
     "name": "stderr",
     "output_type": "stream",
     "text": [
      " 62%|██████▏   | 859/1386 [08:10<04:22,  2.00it/s]"
     ]
    },
    {
     "name": "stdout",
     "output_type": "stream",
     "text": [
      "Company mark_spain is added to the graph.\n"
     ]
    },
    {
     "name": "stderr",
     "output_type": "stream",
     "text": [
      " 62%|██████▏   | 860/1386 [08:11<05:41,  1.54it/s]"
     ]
    },
    {
     "name": "stdout",
     "output_type": "stream",
     "text": [
      "Company ballymore is added to the graph.\n"
     ]
    },
    {
     "name": "stderr",
     "output_type": "stream",
     "text": [
      " 62%|██████▏   | 861/1386 [08:12<05:09,  1.69it/s]"
     ]
    },
    {
     "name": "stdout",
     "output_type": "stream",
     "text": [
      "Company bridge_investment_group is added to the graph.\n"
     ]
    },
    {
     "name": "stderr",
     "output_type": "stream",
     "text": [
      " 62%|██████▏   | 862/1386 [08:12<05:29,  1.59it/s]"
     ]
    },
    {
     "name": "stdout",
     "output_type": "stream",
     "text": [
      "Company pure_strategies is added to the graph.\n"
     ]
    },
    {
     "name": "stderr",
     "output_type": "stream",
     "text": [
      " 62%|██████▏   | 863/1386 [08:13<04:49,  1.81it/s]"
     ]
    },
    {
     "name": "stdout",
     "output_type": "stream",
     "text": [
      "Company william_raveis_real_estate is added to the graph.\n"
     ]
    },
    {
     "name": "stderr",
     "output_type": "stream",
     "text": [
      " 62%|██████▏   | 864/1386 [08:13<04:57,  1.75it/s]"
     ]
    },
    {
     "name": "stdout",
     "output_type": "stream",
     "text": [
      "Company paychex is added to the graph.\n"
     ]
    },
    {
     "name": "stderr",
     "output_type": "stream",
     "text": [
      " 62%|██████▏   | 865/1386 [08:14<04:15,  2.04it/s]"
     ]
    },
    {
     "name": "stdout",
     "output_type": "stream",
     "text": [
      "Error: 'NoneType' object has no attribute 'append'\n"
     ]
    },
    {
     "name": "stderr",
     "output_type": "stream",
     "text": [
      " 62%|██████▏   | 866/1386 [08:14<03:55,  2.21it/s]"
     ]
    },
    {
     "name": "stdout",
     "output_type": "stream",
     "text": [
      "Company csi_coop is added to the graph.\n"
     ]
    },
    {
     "name": "stderr",
     "output_type": "stream",
     "text": [
      " 63%|██████▎   | 867/1386 [08:15<04:20,  1.99it/s]"
     ]
    },
    {
     "name": "stdout",
     "output_type": "stream",
     "text": [
      "Company sj_consulting is added to the graph.\n"
     ]
    },
    {
     "name": "stderr",
     "output_type": "stream",
     "text": [
      " 63%|██████▎   | 868/1386 [08:15<04:54,  1.76it/s]"
     ]
    },
    {
     "name": "stdout",
     "output_type": "stream",
     "text": [
      "Company associated_builders_and_contractors is added to the graph.\n"
     ]
    },
    {
     "name": "stderr",
     "output_type": "stream",
     "text": [
      " 63%|██████▎   | 869/1386 [08:16<04:59,  1.73it/s]"
     ]
    },
    {
     "name": "stdout",
     "output_type": "stream",
     "text": [
      "Company dow_jones is added to the graph.\n"
     ]
    },
    {
     "name": "stderr",
     "output_type": "stream",
     "text": [
      " 63%|██████▎   | 870/1386 [08:16<04:33,  1.89it/s]"
     ]
    },
    {
     "name": "stdout",
     "output_type": "stream",
     "text": [
      "Company jackson_stops is added to the graph.\n"
     ]
    },
    {
     "name": "stderr",
     "output_type": "stream",
     "text": [
      " 63%|██████▎   | 871/1386 [08:17<04:09,  2.07it/s]"
     ]
    },
    {
     "name": "stdout",
     "output_type": "stream",
     "text": [
      "Company enfuce is added to the graph.\n"
     ]
    },
    {
     "name": "stderr",
     "output_type": "stream",
     "text": [
      " 63%|██████▎   | 872/1386 [08:17<03:46,  2.27it/s]"
     ]
    },
    {
     "name": "stdout",
     "output_type": "stream",
     "text": [
      "Error: 'NoneType' object has no attribute 'append'\n"
     ]
    },
    {
     "name": "stderr",
     "output_type": "stream",
     "text": [
      " 63%|██████▎   | 873/1386 [08:19<06:21,  1.34it/s]"
     ]
    },
    {
     "name": "stdout",
     "output_type": "stream",
     "text": [
      "Company grammarly is added to the graph.\n"
     ]
    },
    {
     "name": "stderr",
     "output_type": "stream",
     "text": [
      " 63%|██████▎   | 874/1386 [08:19<05:28,  1.56it/s]"
     ]
    },
    {
     "name": "stdout",
     "output_type": "stream",
     "text": [
      "Company toll_brothers is added to the graph.\n"
     ]
    },
    {
     "name": "stderr",
     "output_type": "stream",
     "text": [
      " 63%|██████▎   | 875/1386 [08:19<04:36,  1.85it/s]"
     ]
    },
    {
     "name": "stdout",
     "output_type": "stream",
     "text": [
      "Error: 'NoneType' object has no attribute 'append'\n"
     ]
    },
    {
     "name": "stderr",
     "output_type": "stream",
     "text": [
      " 63%|██████▎   | 876/1386 [08:20<04:31,  1.88it/s]"
     ]
    },
    {
     "name": "stdout",
     "output_type": "stream",
     "text": [
      "Company titan_electrical is added to the graph.\n"
     ]
    },
    {
     "name": "stderr",
     "output_type": "stream",
     "text": [
      " 63%|██████▎   | 877/1386 [08:20<04:03,  2.09it/s]"
     ]
    },
    {
     "name": "stdout",
     "output_type": "stream",
     "text": [
      "Error: 'NoneType' object has no attribute 'append'\n"
     ]
    },
    {
     "name": "stderr",
     "output_type": "stream",
     "text": [
      " 63%|██████▎   | 878/1386 [08:21<04:02,  2.10it/s]"
     ]
    },
    {
     "name": "stdout",
     "output_type": "stream",
     "text": [
      "Company shieldpay is added to the graph.\n"
     ]
    },
    {
     "name": "stderr",
     "output_type": "stream",
     "text": [
      " 63%|██████▎   | 879/1386 [08:21<04:15,  1.98it/s]"
     ]
    },
    {
     "name": "stdout",
     "output_type": "stream",
     "text": [
      "Company sigfig is added to the graph.\n"
     ]
    },
    {
     "name": "stderr",
     "output_type": "stream",
     "text": [
      " 63%|██████▎   | 880/1386 [08:22<04:10,  2.02it/s]"
     ]
    },
    {
     "name": "stdout",
     "output_type": "stream",
     "text": [
      "Company the_aes_corporation is added to the graph.\n"
     ]
    },
    {
     "name": "stderr",
     "output_type": "stream",
     "text": [
      " 64%|██████▎   | 881/1386 [08:22<04:00,  2.10it/s]"
     ]
    },
    {
     "name": "stdout",
     "output_type": "stream",
     "text": [
      "Company cedar_creek_capital is added to the graph.\n"
     ]
    },
    {
     "name": "stderr",
     "output_type": "stream",
     "text": [
      " 64%|██████▎   | 882/1386 [08:22<03:46,  2.23it/s]"
     ]
    },
    {
     "name": "stdout",
     "output_type": "stream",
     "text": [
      "Company tiger_global is added to the graph.\n"
     ]
    },
    {
     "name": "stderr",
     "output_type": "stream",
     "text": [
      " 64%|██████▎   | 883/1386 [08:23<03:24,  2.46it/s]"
     ]
    },
    {
     "name": "stdout",
     "output_type": "stream",
     "text": [
      "Error: 'NoneType' object has no attribute 'append'\n"
     ]
    },
    {
     "name": "stderr",
     "output_type": "stream",
     "text": [
      " 64%|██████▍   | 884/1386 [08:24<04:14,  1.98it/s]"
     ]
    },
    {
     "name": "stdout",
     "output_type": "stream",
     "text": [
      "Company lattice is added to the graph.\n"
     ]
    },
    {
     "name": "stderr",
     "output_type": "stream",
     "text": [
      " 64%|██████▍   | 885/1386 [08:24<04:01,  2.08it/s]"
     ]
    },
    {
     "name": "stdout",
     "output_type": "stream",
     "text": [
      "Company bitwage is added to the graph.\n"
     ]
    },
    {
     "name": "stderr",
     "output_type": "stream",
     "text": [
      " 64%|██████▍   | 886/1386 [08:24<03:56,  2.12it/s]"
     ]
    },
    {
     "name": "stdout",
     "output_type": "stream",
     "text": [
      "Company glg is added to the graph.\n"
     ]
    },
    {
     "name": "stderr",
     "output_type": "stream",
     "text": [
      " 64%|██████▍   | 887/1386 [08:25<04:34,  1.82it/s]"
     ]
    },
    {
     "name": "stdout",
     "output_type": "stream",
     "text": [
      "Company botkeeper is added to the graph.\n"
     ]
    },
    {
     "name": "stderr",
     "output_type": "stream",
     "text": [
      " 64%|██████▍   | 888/1386 [08:25<04:07,  2.02it/s]"
     ]
    },
    {
     "name": "stdout",
     "output_type": "stream",
     "text": [
      "Company vastned is added to the graph.\n"
     ]
    },
    {
     "name": "stderr",
     "output_type": "stream",
     "text": [
      " 64%|██████▍   | 889/1386 [08:26<03:36,  2.29it/s]"
     ]
    },
    {
     "name": "stdout",
     "output_type": "stream",
     "text": [
      "Error: 'NoneType' object has no attribute 'append'\n"
     ]
    },
    {
     "name": "stderr",
     "output_type": "stream",
     "text": [
      " 64%|██████▍   | 890/1386 [08:26<03:36,  2.29it/s]"
     ]
    },
    {
     "name": "stdout",
     "output_type": "stream",
     "text": [
      "Company aviva is added to the graph.\n"
     ]
    },
    {
     "name": "stderr",
     "output_type": "stream",
     "text": [
      " 64%|██████▍   | 891/1386 [08:27<03:41,  2.24it/s]"
     ]
    },
    {
     "name": "stdout",
     "output_type": "stream",
     "text": [
      "Company pourtastic is added to the graph.\n"
     ]
    },
    {
     "name": "stderr",
     "output_type": "stream",
     "text": [
      " 64%|██████▍   | 892/1386 [08:27<03:29,  2.36it/s]"
     ]
    },
    {
     "name": "stdout",
     "output_type": "stream",
     "text": [
      "Company event_tech_live is added to the graph.\n"
     ]
    },
    {
     "name": "stderr",
     "output_type": "stream",
     "text": [
      " 64%|██████▍   | 893/1386 [08:28<05:41,  1.45it/s]"
     ]
    },
    {
     "name": "stdout",
     "output_type": "stream",
     "text": [
      "Company 6_river_systems is added to the graph.\n"
     ]
    },
    {
     "name": "stderr",
     "output_type": "stream",
     "text": [
      " 65%|██████▍   | 894/1386 [08:29<05:32,  1.48it/s]"
     ]
    },
    {
     "name": "stdout",
     "output_type": "stream",
     "text": [
      "Company rva_financial is added to the graph.\n"
     ]
    },
    {
     "name": "stderr",
     "output_type": "stream",
     "text": [
      " 65%|██████▍   | 895/1386 [08:30<05:16,  1.55it/s]"
     ]
    },
    {
     "name": "stdout",
     "output_type": "stream",
     "text": [
      "Company coutts is added to the graph.\n"
     ]
    },
    {
     "name": "stderr",
     "output_type": "stream",
     "text": [
      " 65%|██████▍   | 896/1386 [08:30<04:38,  1.76it/s]"
     ]
    },
    {
     "name": "stdout",
     "output_type": "stream",
     "text": [
      "Company fortis_construction is added to the graph.\n"
     ]
    },
    {
     "name": "stderr",
     "output_type": "stream",
     "text": [
      " 65%|██████▍   | 897/1386 [08:31<05:46,  1.41it/s]"
     ]
    },
    {
     "name": "stdout",
     "output_type": "stream",
     "text": [
      "Company oracle is added to the graph.\n"
     ]
    },
    {
     "name": "stderr",
     "output_type": "stream",
     "text": [
      " 65%|██████▍   | 898/1386 [08:32<05:19,  1.53it/s]"
     ]
    },
    {
     "name": "stdout",
     "output_type": "stream",
     "text": [
      "Company bridge_industrial is added to the graph.\n"
     ]
    },
    {
     "name": "stderr",
     "output_type": "stream",
     "text": [
      " 65%|██████▍   | 899/1386 [08:32<04:58,  1.63it/s]"
     ]
    },
    {
     "name": "stdout",
     "output_type": "stream",
     "text": [
      "Company yuno_learning is added to the graph.\n"
     ]
    },
    {
     "name": "stderr",
     "output_type": "stream",
     "text": [
      " 65%|██████▍   | 900/1386 [08:32<04:15,  1.90it/s]"
     ]
    },
    {
     "name": "stdout",
     "output_type": "stream",
     "text": [
      "Error: 'NoneType' object has no attribute 'append'\n"
     ]
    },
    {
     "name": "stderr",
     "output_type": "stream",
     "text": [
      " 65%|██████▌   | 901/1386 [08:33<04:22,  1.85it/s]"
     ]
    },
    {
     "name": "stdout",
     "output_type": "stream",
     "text": [
      "Company 360_destination_group is added to the graph.\n"
     ]
    },
    {
     "name": "stderr",
     "output_type": "stream",
     "text": [
      " 65%|██████▌   | 902/1386 [08:33<03:46,  2.13it/s]"
     ]
    },
    {
     "name": "stdout",
     "output_type": "stream",
     "text": [
      "Error: 'NoneType' object has no attribute 'append'\n"
     ]
    },
    {
     "name": "stderr",
     "output_type": "stream",
     "text": [
      " 65%|██████▌   | 903/1386 [08:34<03:57,  2.03it/s]"
     ]
    },
    {
     "name": "stdout",
     "output_type": "stream",
     "text": [
      "Company fpe_capital is added to the graph.\n"
     ]
    },
    {
     "name": "stderr",
     "output_type": "stream",
     "text": [
      " 65%|██████▌   | 904/1386 [08:34<04:04,  1.97it/s]"
     ]
    },
    {
     "name": "stdout",
     "output_type": "stream",
     "text": [
      "Company american_express is added to the graph.\n"
     ]
    },
    {
     "name": "stderr",
     "output_type": "stream",
     "text": [
      " 65%|██████▌   | 905/1386 [08:35<03:59,  2.01it/s]"
     ]
    },
    {
     "name": "stdout",
     "output_type": "stream",
     "text": [
      "Company charles_david_casson is added to the graph.\n"
     ]
    },
    {
     "name": "stderr",
     "output_type": "stream",
     "text": [
      " 65%|██████▌   | 906/1386 [08:35<03:46,  2.12it/s]"
     ]
    },
    {
     "name": "stdout",
     "output_type": "stream",
     "text": [
      "Company guestspaces is added to the graph.\n"
     ]
    },
    {
     "name": "stderr",
     "output_type": "stream",
     "text": [
      " 65%|██████▌   | 907/1386 [08:36<03:20,  2.39it/s]"
     ]
    },
    {
     "name": "stdout",
     "output_type": "stream",
     "text": [
      "Error: 'NoneType' object has no attribute 'append'\n"
     ]
    },
    {
     "name": "stderr",
     "output_type": "stream",
     "text": [
      " 66%|██████▌   | 908/1386 [08:36<03:19,  2.40it/s]"
     ]
    },
    {
     "name": "stdout",
     "output_type": "stream",
     "text": [
      "Company paxos is added to the graph.\n"
     ]
    },
    {
     "name": "stderr",
     "output_type": "stream",
     "text": [
      " 66%|██████▌   | 909/1386 [08:37<04:00,  1.98it/s]"
     ]
    },
    {
     "name": "stdout",
     "output_type": "stream",
     "text": [
      "Company pleo is added to the graph.\n"
     ]
    },
    {
     "name": "stderr",
     "output_type": "stream",
     "text": [
      " 66%|██████▌   | 910/1386 [08:37<03:31,  2.25it/s]"
     ]
    },
    {
     "name": "stdout",
     "output_type": "stream",
     "text": [
      "Error: 'NoneType' object has no attribute 'append'\n"
     ]
    },
    {
     "name": "stderr",
     "output_type": "stream",
     "text": [
      " 66%|██████▌   | 911/1386 [08:37<03:32,  2.23it/s]"
     ]
    },
    {
     "name": "stdout",
     "output_type": "stream",
     "text": [
      "Company c2fo is added to the graph.\n"
     ]
    },
    {
     "name": "stderr",
     "output_type": "stream",
     "text": [
      " 66%|██████▌   | 912/1386 [08:38<03:32,  2.24it/s]"
     ]
    },
    {
     "name": "stdout",
     "output_type": "stream",
     "text": [
      "Company overcoming_u is added to the graph.\n"
     ]
    },
    {
     "name": "stderr",
     "output_type": "stream",
     "text": [
      " 66%|██████▌   | 913/1386 [08:39<04:23,  1.79it/s]"
     ]
    },
    {
     "name": "stdout",
     "output_type": "stream",
     "text": [
      "Company ulula is added to the graph.\n"
     ]
    },
    {
     "name": "stderr",
     "output_type": "stream",
     "text": [
      " 66%|██████▌   | 914/1386 [08:39<03:55,  2.00it/s]"
     ]
    },
    {
     "name": "stdout",
     "output_type": "stream",
     "text": [
      "Company nextera_energy is added to the graph.\n"
     ]
    },
    {
     "name": "stderr",
     "output_type": "stream",
     "text": [
      " 66%|██████▌   | 915/1386 [08:39<03:39,  2.14it/s]"
     ]
    },
    {
     "name": "stdout",
     "output_type": "stream",
     "text": [
      "Company oriental_bank is added to the graph.\n"
     ]
    },
    {
     "name": "stderr",
     "output_type": "stream",
     "text": [
      " 66%|██████▌   | 916/1386 [08:40<03:44,  2.10it/s]"
     ]
    },
    {
     "name": "stdout",
     "output_type": "stream",
     "text": [
      "Company kookaburra_coffee is added to the graph.\n"
     ]
    },
    {
     "name": "stderr",
     "output_type": "stream",
     "text": [
      " 66%|██████▌   | 917/1386 [08:40<03:32,  2.21it/s]"
     ]
    },
    {
     "name": "stdout",
     "output_type": "stream",
     "text": [
      "Company newport_capital_partners is added to the graph.\n"
     ]
    },
    {
     "name": "stderr",
     "output_type": "stream",
     "text": [
      " 66%|██████▌   | 918/1386 [08:41<03:48,  2.05it/s]"
     ]
    },
    {
     "name": "stdout",
     "output_type": "stream",
     "text": [
      "Company gainsco is added to the graph.\n"
     ]
    },
    {
     "name": "stderr",
     "output_type": "stream",
     "text": [
      " 66%|██████▋   | 919/1386 [08:41<03:29,  2.23it/s]"
     ]
    },
    {
     "name": "stdout",
     "output_type": "stream",
     "text": [
      "Company ebillity is added to the graph.\n"
     ]
    },
    {
     "name": "stderr",
     "output_type": "stream",
     "text": [
      " 66%|██████▋   | 920/1386 [08:42<03:16,  2.38it/s]"
     ]
    },
    {
     "name": "stdout",
     "output_type": "stream",
     "text": [
      "Company dignitymoves is added to the graph.\n"
     ]
    },
    {
     "name": "stderr",
     "output_type": "stream",
     "text": [
      " 66%|██████▋   | 921/1386 [08:42<04:18,  1.80it/s]"
     ]
    },
    {
     "name": "stdout",
     "output_type": "stream",
     "text": [
      "Company kudelski_iot is added to the graph.\n"
     ]
    },
    {
     "name": "stderr",
     "output_type": "stream",
     "text": [
      " 67%|██████▋   | 922/1386 [08:43<03:59,  1.94it/s]"
     ]
    },
    {
     "name": "stdout",
     "output_type": "stream",
     "text": [
      "Company ironclad_financial is added to the graph.\n"
     ]
    },
    {
     "name": "stderr",
     "output_type": "stream",
     "text": [
      " 67%|██████▋   | 923/1386 [08:43<03:32,  2.18it/s]"
     ]
    },
    {
     "name": "stdout",
     "output_type": "stream",
     "text": [
      "Error: 'NoneType' object has no attribute 'append'\n"
     ]
    },
    {
     "name": "stderr",
     "output_type": "stream",
     "text": [
      " 67%|██████▋   | 924/1386 [08:44<03:45,  2.05it/s]"
     ]
    },
    {
     "name": "stdout",
     "output_type": "stream",
     "text": [
      "Company not_just_numbers_ltd is added to the graph.\n"
     ]
    },
    {
     "name": "stderr",
     "output_type": "stream",
     "text": [
      " 67%|██████▋   | 925/1386 [08:44<03:18,  2.33it/s]"
     ]
    },
    {
     "name": "stdout",
     "output_type": "stream",
     "text": [
      "Error: 'NoneType' object has no attribute 'append'\n"
     ]
    },
    {
     "name": "stderr",
     "output_type": "stream",
     "text": [
      " 67%|██████▋   | 926/1386 [08:45<03:34,  2.14it/s]"
     ]
    },
    {
     "name": "stdout",
     "output_type": "stream",
     "text": [
      "Company hfm_investment_advisors is added to the graph.\n"
     ]
    },
    {
     "name": "stderr",
     "output_type": "stream",
     "text": [
      " 67%|██████▋   | 927/1386 [08:45<03:18,  2.32it/s]"
     ]
    },
    {
     "name": "stdout",
     "output_type": "stream",
     "text": [
      "Company freedompop is added to the graph.\n"
     ]
    },
    {
     "name": "stderr",
     "output_type": "stream",
     "text": [
      " 67%|██████▋   | 928/1386 [08:46<03:51,  1.98it/s]"
     ]
    },
    {
     "name": "stdout",
     "output_type": "stream",
     "text": [
      "Company tack_advisors is added to the graph.\n"
     ]
    },
    {
     "name": "stderr",
     "output_type": "stream",
     "text": [
      " 67%|██████▋   | 929/1386 [08:46<04:10,  1.82it/s]"
     ]
    },
    {
     "name": "stdout",
     "output_type": "stream",
     "text": [
      "Company godaddy_poynt is added to the graph.\n"
     ]
    },
    {
     "name": "stderr",
     "output_type": "stream",
     "text": [
      " 67%|██████▋   | 930/1386 [08:47<03:48,  2.00it/s]"
     ]
    },
    {
     "name": "stdout",
     "output_type": "stream",
     "text": [
      "Company thelender is added to the graph.\n"
     ]
    },
    {
     "name": "stderr",
     "output_type": "stream",
     "text": [
      " 67%|██████▋   | 931/1386 [08:47<03:27,  2.19it/s]"
     ]
    },
    {
     "name": "stdout",
     "output_type": "stream",
     "text": [
      "Company four_springs_capital_trust is added to the graph.\n"
     ]
    },
    {
     "name": "stderr",
     "output_type": "stream",
     "text": [
      " 67%|██████▋   | 932/1386 [08:47<03:22,  2.24it/s]"
     ]
    },
    {
     "name": "stdout",
     "output_type": "stream",
     "text": [
      "Company charter_oak_equity is added to the graph.\n"
     ]
    },
    {
     "name": "stderr",
     "output_type": "stream",
     "text": [
      " 67%|██████▋   | 933/1386 [08:48<03:32,  2.13it/s]"
     ]
    },
    {
     "name": "stdout",
     "output_type": "stream",
     "text": [
      "Company rize_credit_union is added to the graph.\n"
     ]
    },
    {
     "name": "stderr",
     "output_type": "stream",
     "text": [
      " 67%|██████▋   | 934/1386 [08:48<03:09,  2.39it/s]"
     ]
    },
    {
     "name": "stdout",
     "output_type": "stream",
     "text": [
      "Error: 'NoneType' object has no attribute 'append'\n"
     ]
    },
    {
     "name": "stderr",
     "output_type": "stream",
     "text": [
      " 67%|██████▋   | 935/1386 [08:49<03:04,  2.45it/s]"
     ]
    },
    {
     "name": "stdout",
     "output_type": "stream",
     "text": [
      "Company arco_murray is added to the graph.\n"
     ]
    },
    {
     "name": "stderr",
     "output_type": "stream",
     "text": [
      " 68%|██████▊   | 936/1386 [08:49<03:01,  2.48it/s]"
     ]
    },
    {
     "name": "stdout",
     "output_type": "stream",
     "text": [
      "Company first_light_games is added to the graph.\n"
     ]
    },
    {
     "name": "stderr",
     "output_type": "stream",
     "text": [
      " 68%|██████▊   | 937/1386 [08:49<02:46,  2.70it/s]"
     ]
    },
    {
     "name": "stdout",
     "output_type": "stream",
     "text": [
      "Error: 'NoneType' object has no attribute 'append'\n"
     ]
    },
    {
     "name": "stderr",
     "output_type": "stream",
     "text": [
      " 68%|██████▊   | 938/1386 [08:51<04:57,  1.50it/s]"
     ]
    },
    {
     "name": "stdout",
     "output_type": "stream",
     "text": [
      "Company workday is added to the graph.\n"
     ]
    },
    {
     "name": "stderr",
     "output_type": "stream",
     "text": [
      " 68%|██████▊   | 939/1386 [08:52<05:39,  1.32it/s]"
     ]
    },
    {
     "name": "stdout",
     "output_type": "stream",
     "text": [
      "Company recite_me is added to the graph.\n"
     ]
    },
    {
     "name": "stderr",
     "output_type": "stream",
     "text": [
      " 68%|██████▊   | 940/1386 [08:52<04:55,  1.51it/s]"
     ]
    },
    {
     "name": "stdout",
     "output_type": "stream",
     "text": [
      "Company atom_bank is added to the graph.\n"
     ]
    },
    {
     "name": "stderr",
     "output_type": "stream",
     "text": [
      " 68%|██████▊   | 941/1386 [08:53<04:34,  1.62it/s]"
     ]
    },
    {
     "name": "stdout",
     "output_type": "stream",
     "text": [
      "Company berkshire_hathaway is added to the graph.\n"
     ]
    },
    {
     "name": "stderr",
     "output_type": "stream",
     "text": [
      " 68%|██████▊   | 942/1386 [08:53<03:51,  1.92it/s]"
     ]
    },
    {
     "name": "stdout",
     "output_type": "stream",
     "text": [
      "Error: 'NoneType' object has no attribute 'append'\n"
     ]
    },
    {
     "name": "stderr",
     "output_type": "stream",
     "text": [
      " 68%|██████▊   | 943/1386 [08:53<03:54,  1.89it/s]"
     ]
    },
    {
     "name": "stdout",
     "output_type": "stream",
     "text": [
      "Company new_york_life_group_benefit_solutions is added to the graph.\n"
     ]
    },
    {
     "name": "stderr",
     "output_type": "stream",
     "text": [
      " 68%|██████▊   | 944/1386 [08:54<03:45,  1.96it/s]"
     ]
    },
    {
     "name": "stdout",
     "output_type": "stream",
     "text": [
      "Company network_rail is added to the graph.\n"
     ]
    },
    {
     "name": "stderr",
     "output_type": "stream",
     "text": [
      " 68%|██████▊   | 945/1386 [08:54<03:48,  1.93it/s]"
     ]
    },
    {
     "name": "stdout",
     "output_type": "stream",
     "text": [
      "Company tesco_bank is added to the graph.\n"
     ]
    },
    {
     "name": "stderr",
     "output_type": "stream",
     "text": [
      " 68%|██████▊   | 946/1386 [08:55<03:18,  2.21it/s]"
     ]
    },
    {
     "name": "stdout",
     "output_type": "stream",
     "text": [
      "Error: 'NoneType' object has no attribute 'append'\n"
     ]
    },
    {
     "name": "stderr",
     "output_type": "stream",
     "text": [
      " 68%|██████▊   | 947/1386 [08:55<03:44,  1.96it/s]"
     ]
    },
    {
     "name": "stdout",
     "output_type": "stream",
     "text": [
      "Company upkeep is added to the graph.\n"
     ]
    },
    {
     "name": "stderr",
     "output_type": "stream",
     "text": [
      " 68%|██████▊   | 948/1386 [08:56<03:35,  2.03it/s]"
     ]
    },
    {
     "name": "stdout",
     "output_type": "stream",
     "text": [
      "Company open_english is added to the graph.\n"
     ]
    },
    {
     "name": "stderr",
     "output_type": "stream",
     "text": [
      " 68%|██████▊   | 949/1386 [08:56<03:33,  2.04it/s]"
     ]
    },
    {
     "name": "stdout",
     "output_type": "stream",
     "text": [
      "Company rice_insurance is added to the graph.\n"
     ]
    },
    {
     "name": "stderr",
     "output_type": "stream",
     "text": [
      " 69%|██████▊   | 950/1386 [08:58<05:48,  1.25it/s]"
     ]
    },
    {
     "name": "stdout",
     "output_type": "stream",
     "text": [
      "Company amaroso_boutique is added to the graph.\n"
     ]
    },
    {
     "name": "stderr",
     "output_type": "stream",
     "text": [
      " 69%|██████▊   | 951/1386 [08:59<05:47,  1.25it/s]"
     ]
    },
    {
     "name": "stdout",
     "output_type": "stream",
     "text": [
      "Company wyndham_hotels_&_resorts is added to the graph.\n"
     ]
    },
    {
     "name": "stderr",
     "output_type": "stream",
     "text": [
      " 69%|██████▊   | 952/1386 [08:59<04:49,  1.50it/s]"
     ]
    },
    {
     "name": "stdout",
     "output_type": "stream",
     "text": [
      "Company chirocare_of_florida is added to the graph.\n"
     ]
    },
    {
     "name": "stderr",
     "output_type": "stream",
     "text": [
      " 69%|██████▉   | 953/1386 [09:01<08:08,  1.13s/it]"
     ]
    },
    {
     "name": "stdout",
     "output_type": "stream",
     "text": [
      "Company mechanical_contractors_association_of_canada is added to the graph.\n"
     ]
    },
    {
     "name": "stderr",
     "output_type": "stream",
     "text": [
      " 69%|██████▉   | 954/1386 [09:02<06:45,  1.07it/s]"
     ]
    },
    {
     "name": "stdout",
     "output_type": "stream",
     "text": [
      "Company kasper_electric is added to the graph.\n"
     ]
    },
    {
     "name": "stderr",
     "output_type": "stream",
     "text": [
      " 69%|██████▉   | 955/1386 [09:02<05:31,  1.30it/s]"
     ]
    },
    {
     "name": "stdout",
     "output_type": "stream",
     "text": [
      "Company red_oak_realty is added to the graph.\n"
     ]
    },
    {
     "name": "stderr",
     "output_type": "stream",
     "text": [
      " 69%|██████▉   | 956/1386 [09:03<05:04,  1.41it/s]"
     ]
    },
    {
     "name": "stdout",
     "output_type": "stream",
     "text": [
      "Company maui_county_federal_credit_union is added to the graph.\n"
     ]
    },
    {
     "name": "stderr",
     "output_type": "stream",
     "text": [
      " 69%|██████▉   | 957/1386 [09:03<04:46,  1.50it/s]"
     ]
    },
    {
     "name": "stdout",
     "output_type": "stream",
     "text": [
      "Company thoropass is added to the graph.\n"
     ]
    },
    {
     "name": "stderr",
     "output_type": "stream",
     "text": [
      " 69%|██████▉   | 958/1386 [09:04<04:18,  1.66it/s]"
     ]
    },
    {
     "name": "stdout",
     "output_type": "stream",
     "text": [
      "Company medilogix is added to the graph.\n"
     ]
    },
    {
     "name": "stderr",
     "output_type": "stream",
     "text": [
      " 69%|██████▉   | 959/1386 [09:04<03:53,  1.83it/s]"
     ]
    },
    {
     "name": "stdout",
     "output_type": "stream",
     "text": [
      "Company covertree is added to the graph.\n"
     ]
    },
    {
     "name": "stderr",
     "output_type": "stream",
     "text": [
      " 69%|██████▉   | 960/1386 [09:04<03:27,  2.05it/s]"
     ]
    },
    {
     "name": "stdout",
     "output_type": "stream",
     "text": [
      "Company doorstep_gardener is added to the graph.\n"
     ]
    },
    {
     "name": "stderr",
     "output_type": "stream",
     "text": [
      " 69%|██████▉   | 961/1386 [09:05<03:41,  1.92it/s]"
     ]
    },
    {
     "name": "stdout",
     "output_type": "stream",
     "text": [
      "Company zeelo is added to the graph.\n"
     ]
    },
    {
     "name": "stderr",
     "output_type": "stream",
     "text": [
      " 69%|██████▉   | 962/1386 [09:06<03:34,  1.98it/s]"
     ]
    },
    {
     "name": "stdout",
     "output_type": "stream",
     "text": [
      "Company excel_sports_management is added to the graph.\n"
     ]
    },
    {
     "name": "stderr",
     "output_type": "stream",
     "text": [
      " 69%|██████▉   | 963/1386 [09:06<03:39,  1.93it/s]"
     ]
    },
    {
     "name": "stdout",
     "output_type": "stream",
     "text": [
      "Company smith_&_associates_real_estate is added to the graph.\n"
     ]
    },
    {
     "name": "stderr",
     "output_type": "stream",
     "text": [
      " 70%|██████▉   | 964/1386 [09:06<03:23,  2.07it/s]"
     ]
    },
    {
     "name": "stdout",
     "output_type": "stream",
     "text": [
      "Company toyota is added to the graph.\n"
     ]
    },
    {
     "name": "stderr",
     "output_type": "stream",
     "text": [
      " 70%|██████▉   | 965/1386 [09:07<03:22,  2.08it/s]"
     ]
    },
    {
     "name": "stdout",
     "output_type": "stream",
     "text": [
      "Company family_focus_fcu is added to the graph.\n"
     ]
    },
    {
     "name": "stderr",
     "output_type": "stream",
     "text": [
      " 70%|██████▉   | 966/1386 [09:07<03:14,  2.15it/s]"
     ]
    },
    {
     "name": "stdout",
     "output_type": "stream",
     "text": [
      "Company fj_corvan is added to the graph.\n"
     ]
    },
    {
     "name": "stderr",
     "output_type": "stream",
     "text": [
      " 70%|██████▉   | 967/1386 [09:08<03:32,  1.97it/s]"
     ]
    },
    {
     "name": "stdout",
     "output_type": "stream",
     "text": [
      "Company nuveen is added to the graph.\n"
     ]
    },
    {
     "name": "stderr",
     "output_type": "stream",
     "text": [
      " 70%|██████▉   | 968/1386 [09:08<03:21,  2.07it/s]"
     ]
    },
    {
     "name": "stdout",
     "output_type": "stream",
     "text": [
      "Company cbusa is added to the graph.\n"
     ]
    },
    {
     "name": "stderr",
     "output_type": "stream",
     "text": [
      " 70%|██████▉   | 969/1386 [09:09<02:58,  2.33it/s]"
     ]
    },
    {
     "name": "stdout",
     "output_type": "stream",
     "text": [
      "Error: 'NoneType' object has no attribute 'append'\n"
     ]
    },
    {
     "name": "stderr",
     "output_type": "stream",
     "text": [
      " 70%|██████▉   | 970/1386 [09:09<02:42,  2.56it/s]"
     ]
    },
    {
     "name": "stdout",
     "output_type": "stream",
     "text": [
      "Error: 'NoneType' object has no attribute 'append'\n"
     ]
    },
    {
     "name": "stderr",
     "output_type": "stream",
     "text": [
      " 70%|███████   | 971/1386 [09:10<04:43,  1.46it/s]"
     ]
    },
    {
     "name": "stdout",
     "output_type": "stream",
     "text": [
      "Company john_lewis is added to the graph.\n"
     ]
    },
    {
     "name": "stderr",
     "output_type": "stream",
     "text": [
      " 70%|███████   | 972/1386 [09:11<04:17,  1.61it/s]"
     ]
    },
    {
     "name": "stdout",
     "output_type": "stream",
     "text": [
      "Company infinite_objects is added to the graph.\n"
     ]
    },
    {
     "name": "stderr",
     "output_type": "stream",
     "text": [
      " 70%|███████   | 973/1386 [09:11<04:00,  1.72it/s]"
     ]
    },
    {
     "name": "stdout",
     "output_type": "stream",
     "text": [
      "Company lincoln_property_company is added to the graph.\n"
     ]
    },
    {
     "name": "stderr",
     "output_type": "stream",
     "text": [
      " 70%|███████   | 974/1386 [09:12<04:49,  1.42it/s]"
     ]
    },
    {
     "name": "stdout",
     "output_type": "stream",
     "text": [
      "Company finwise_bank is added to the graph.\n"
     ]
    },
    {
     "name": "stderr",
     "output_type": "stream",
     "text": [
      " 70%|███████   | 975/1386 [09:13<05:05,  1.35it/s]"
     ]
    },
    {
     "name": "stdout",
     "output_type": "stream",
     "text": [
      "Company affirm is added to the graph.\n"
     ]
    },
    {
     "name": "stderr",
     "output_type": "stream",
     "text": [
      " 70%|███████   | 976/1386 [09:14<04:50,  1.41it/s]"
     ]
    },
    {
     "name": "stdout",
     "output_type": "stream",
     "text": [
      "Company evolution_sustainability_group is added to the graph.\n"
     ]
    },
    {
     "name": "stderr",
     "output_type": "stream",
     "text": [
      " 70%|███████   | 977/1386 [09:15<04:49,  1.41it/s]"
     ]
    },
    {
     "name": "stdout",
     "output_type": "stream",
     "text": [
      "Company apex_clearing is added to the graph.\n"
     ]
    },
    {
     "name": "stderr",
     "output_type": "stream",
     "text": [
      " 71%|███████   | 978/1386 [09:16<05:41,  1.19it/s]"
     ]
    },
    {
     "name": "stdout",
     "output_type": "stream",
     "text": [
      "Company matterport is added to the graph.\n"
     ]
    },
    {
     "name": "stderr",
     "output_type": "stream",
     "text": [
      " 71%|███████   | 979/1386 [09:17<06:36,  1.03it/s]"
     ]
    },
    {
     "name": "stdout",
     "output_type": "stream",
     "text": [
      "Company forrester is added to the graph.\n"
     ]
    },
    {
     "name": "stderr",
     "output_type": "stream",
     "text": [
      " 71%|███████   | 980/1386 [09:17<05:27,  1.24it/s]"
     ]
    },
    {
     "name": "stdout",
     "output_type": "stream",
     "text": [
      "Company protect_your_bubble is added to the graph.\n"
     ]
    },
    {
     "name": "stderr",
     "output_type": "stream",
     "text": [
      " 71%|███████   | 981/1386 [09:18<05:10,  1.30it/s]"
     ]
    },
    {
     "name": "stdout",
     "output_type": "stream",
     "text": [
      "Company first_state_bank_nebraska is added to the graph.\n"
     ]
    },
    {
     "name": "stderr",
     "output_type": "stream",
     "text": [
      " 71%|███████   | 982/1386 [09:19<04:40,  1.44it/s]"
     ]
    },
    {
     "name": "stdout",
     "output_type": "stream",
     "text": [
      "Company massproductions is added to the graph.\n"
     ]
    },
    {
     "name": "stderr",
     "output_type": "stream",
     "text": [
      " 71%|███████   | 983/1386 [09:19<04:12,  1.60it/s]"
     ]
    },
    {
     "name": "stdout",
     "output_type": "stream",
     "text": [
      "Company patchology is added to the graph.\n"
     ]
    },
    {
     "name": "stderr",
     "output_type": "stream",
     "text": [
      " 71%|███████   | 984/1386 [09:20<04:15,  1.57it/s]"
     ]
    },
    {
     "name": "stdout",
     "output_type": "stream",
     "text": [
      "Company epiris is added to the graph.\n"
     ]
    },
    {
     "name": "stderr",
     "output_type": "stream",
     "text": [
      " 71%|███████   | 985/1386 [09:20<04:21,  1.53it/s]"
     ]
    },
    {
     "name": "stdout",
     "output_type": "stream",
     "text": [
      "Company provenir is added to the graph.\n"
     ]
    },
    {
     "name": "stderr",
     "output_type": "stream",
     "text": [
      " 71%|███████   | 986/1386 [09:21<03:59,  1.67it/s]"
     ]
    },
    {
     "name": "stdout",
     "output_type": "stream",
     "text": [
      "Company beon_retirement is added to the graph.\n"
     ]
    },
    {
     "name": "stderr",
     "output_type": "stream",
     "text": [
      " 71%|███████   | 987/1386 [09:22<04:04,  1.63it/s]"
     ]
    },
    {
     "name": "stdout",
     "output_type": "stream",
     "text": [
      "Company bethpage is added to the graph.\n"
     ]
    },
    {
     "name": "stderr",
     "output_type": "stream",
     "text": [
      " 71%|███████▏  | 988/1386 [09:22<03:35,  1.85it/s]"
     ]
    },
    {
     "name": "stdout",
     "output_type": "stream",
     "text": [
      "Company nutiliti is added to the graph.\n"
     ]
    },
    {
     "name": "stderr",
     "output_type": "stream",
     "text": [
      " 71%|███████▏  | 989/1386 [09:23<04:21,  1.52it/s]"
     ]
    },
    {
     "name": "stdout",
     "output_type": "stream",
     "text": [
      "Company preservation_of_affordable_housing is added to the graph.\n"
     ]
    },
    {
     "name": "stderr",
     "output_type": "stream",
     "text": [
      " 71%|███████▏  | 990/1386 [09:23<04:01,  1.64it/s]"
     ]
    },
    {
     "name": "stdout",
     "output_type": "stream",
     "text": [
      "Company denver_distillery is added to the graph.\n"
     ]
    },
    {
     "name": "stderr",
     "output_type": "stream",
     "text": [
      " 72%|███████▏  | 991/1386 [09:24<03:42,  1.77it/s]"
     ]
    },
    {
     "name": "stdout",
     "output_type": "stream",
     "text": [
      "Company horizon_agency_systems is added to the graph.\n"
     ]
    },
    {
     "name": "stderr",
     "output_type": "stream",
     "text": [
      " 72%|███████▏  | 992/1386 [09:24<03:10,  2.07it/s]"
     ]
    },
    {
     "name": "stdout",
     "output_type": "stream",
     "text": [
      "Error: 'NoneType' object has no attribute 'append'\n"
     ]
    },
    {
     "name": "stderr",
     "output_type": "stream",
     "text": [
      " 72%|███████▏  | 993/1386 [09:24<02:48,  2.33it/s]"
     ]
    },
    {
     "name": "stdout",
     "output_type": "stream",
     "text": [
      "Error: 'NoneType' object has no attribute 'append'\n"
     ]
    },
    {
     "name": "stderr",
     "output_type": "stream",
     "text": [
      " 72%|███████▏  | 994/1386 [09:25<03:06,  2.10it/s]"
     ]
    },
    {
     "name": "stdout",
     "output_type": "stream",
     "text": [
      "Company pathpoint is added to the graph.\n"
     ]
    },
    {
     "name": "stderr",
     "output_type": "stream",
     "text": [
      " 72%|███████▏  | 995/1386 [09:26<04:21,  1.49it/s]"
     ]
    },
    {
     "name": "stdout",
     "output_type": "stream",
     "text": [
      "Company accenture is added to the graph.\n"
     ]
    },
    {
     "name": "stderr",
     "output_type": "stream",
     "text": [
      " 72%|███████▏  | 996/1386 [09:27<03:55,  1.66it/s]"
     ]
    },
    {
     "name": "stdout",
     "output_type": "stream",
     "text": [
      "Company jp_jenkins is added to the graph.\n"
     ]
    },
    {
     "name": "stderr",
     "output_type": "stream",
     "text": [
      " 72%|███████▏  | 997/1386 [09:27<03:31,  1.84it/s]"
     ]
    },
    {
     "name": "stdout",
     "output_type": "stream",
     "text": [
      "Company washington_water_service is added to the graph.\n"
     ]
    },
    {
     "name": "stderr",
     "output_type": "stream",
     "text": [
      " 72%|███████▏  | 998/1386 [09:27<03:28,  1.86it/s]"
     ]
    },
    {
     "name": "stdout",
     "output_type": "stream",
     "text": [
      "Company gray_st__onge is added to the graph.\n"
     ]
    },
    {
     "name": "stderr",
     "output_type": "stream",
     "text": [
      " 72%|███████▏  | 999/1386 [09:28<03:01,  2.13it/s]"
     ]
    },
    {
     "name": "stdout",
     "output_type": "stream",
     "text": [
      "Error: 'NoneType' object has no attribute 'append'\n"
     ]
    },
    {
     "name": "stderr",
     "output_type": "stream",
     "text": [
      " 72%|███████▏  | 1000/1386 [09:28<02:52,  2.24it/s]"
     ]
    },
    {
     "name": "stdout",
     "output_type": "stream",
     "text": [
      "Company xoogler is added to the graph.\n"
     ]
    },
    {
     "name": "stderr",
     "output_type": "stream",
     "text": [
      " 72%|███████▏  | 1001/1386 [09:29<03:04,  2.09it/s]"
     ]
    },
    {
     "name": "stdout",
     "output_type": "stream",
     "text": [
      "Company coffee_dose is added to the graph.\n"
     ]
    },
    {
     "name": "stderr",
     "output_type": "stream",
     "text": [
      " 72%|███████▏  | 1002/1386 [09:29<02:55,  2.19it/s]"
     ]
    },
    {
     "name": "stdout",
     "output_type": "stream",
     "text": [
      "Company hostminded is added to the graph.\n"
     ]
    },
    {
     "name": "stderr",
     "output_type": "stream",
     "text": [
      " 72%|███████▏  | 1003/1386 [09:30<03:29,  1.83it/s]"
     ]
    },
    {
     "name": "stdout",
     "output_type": "stream",
     "text": [
      "Company middesk is added to the graph.\n"
     ]
    },
    {
     "name": "stderr",
     "output_type": "stream",
     "text": [
      " 72%|███████▏  | 1004/1386 [09:30<03:17,  1.93it/s]"
     ]
    },
    {
     "name": "stdout",
     "output_type": "stream",
     "text": [
      "Company dagne_dover is added to the graph.\n"
     ]
    },
    {
     "name": "stderr",
     "output_type": "stream",
     "text": [
      " 73%|███████▎  | 1005/1386 [09:31<03:20,  1.90it/s]"
     ]
    },
    {
     "name": "stdout",
     "output_type": "stream",
     "text": [
      "Company alerus is added to the graph.\n"
     ]
    },
    {
     "name": "stderr",
     "output_type": "stream",
     "text": [
      " 73%|███████▎  | 1006/1386 [09:31<03:27,  1.84it/s]"
     ]
    },
    {
     "name": "stdout",
     "output_type": "stream",
     "text": [
      "Company bairstow_eves is added to the graph.\n"
     ]
    },
    {
     "name": "stderr",
     "output_type": "stream",
     "text": [
      " 73%|███████▎  | 1007/1386 [09:33<04:26,  1.42it/s]"
     ]
    },
    {
     "name": "stdout",
     "output_type": "stream",
     "text": [
      "Company glean is added to the graph.\n"
     ]
    },
    {
     "name": "stderr",
     "output_type": "stream",
     "text": [
      " 73%|███████▎  | 1008/1386 [09:33<04:21,  1.45it/s]"
     ]
    },
    {
     "name": "stdout",
     "output_type": "stream",
     "text": [
      "Company reykjavik_residence is added to the graph.\n"
     ]
    },
    {
     "name": "stderr",
     "output_type": "stream",
     "text": [
      " 73%|███████▎  | 1009/1386 [09:34<03:44,  1.68it/s]"
     ]
    },
    {
     "name": "stdout",
     "output_type": "stream",
     "text": [
      "Company zions_bank is added to the graph.\n"
     ]
    },
    {
     "name": "stderr",
     "output_type": "stream",
     "text": [
      " 73%|███████▎  | 1010/1386 [09:34<03:16,  1.91it/s]"
     ]
    },
    {
     "name": "stdout",
     "output_type": "stream",
     "text": [
      "Company spectora is added to the graph.\n"
     ]
    },
    {
     "name": "stderr",
     "output_type": "stream",
     "text": [
      " 73%|███████▎  | 1011/1386 [09:34<03:12,  1.95it/s]"
     ]
    },
    {
     "name": "stdout",
     "output_type": "stream",
     "text": [
      "Company florida_power_&_light is added to the graph.\n"
     ]
    },
    {
     "name": "stderr",
     "output_type": "stream",
     "text": [
      " 73%|███████▎  | 1012/1386 [09:35<03:37,  1.72it/s]"
     ]
    },
    {
     "name": "stdout",
     "output_type": "stream",
     "text": [
      "Company ccim is added to the graph.\n"
     ]
    },
    {
     "name": "stderr",
     "output_type": "stream",
     "text": [
      " 73%|███████▎  | 1013/1386 [09:36<03:21,  1.85it/s]"
     ]
    },
    {
     "name": "stdout",
     "output_type": "stream",
     "text": [
      "Company dorset_lep is added to the graph.\n"
     ]
    },
    {
     "name": "stderr",
     "output_type": "stream",
     "text": [
      " 73%|███████▎  | 1014/1386 [09:36<03:19,  1.87it/s]"
     ]
    },
    {
     "name": "stdout",
     "output_type": "stream",
     "text": [
      "Company hometown_health is added to the graph.\n"
     ]
    },
    {
     "name": "stderr",
     "output_type": "stream",
     "text": [
      " 73%|███████▎  | 1015/1386 [09:37<03:17,  1.88it/s]"
     ]
    },
    {
     "name": "stdout",
     "output_type": "stream",
     "text": [
      "Company hellman_chang is added to the graph.\n"
     ]
    },
    {
     "name": "stderr",
     "output_type": "stream",
     "text": [
      " 73%|███████▎  | 1016/1386 [09:37<03:09,  1.95it/s]"
     ]
    },
    {
     "name": "stdout",
     "output_type": "stream",
     "text": [
      "Company baton_market is added to the graph.\n"
     ]
    },
    {
     "name": "stderr",
     "output_type": "stream",
     "text": [
      " 73%|███████▎  | 1017/1386 [09:38<03:40,  1.68it/s]"
     ]
    },
    {
     "name": "stdout",
     "output_type": "stream",
     "text": [
      "Company exiger is added to the graph.\n"
     ]
    },
    {
     "name": "stderr",
     "output_type": "stream",
     "text": [
      " 73%|███████▎  | 1018/1386 [09:38<03:30,  1.75it/s]"
     ]
    },
    {
     "name": "stdout",
     "output_type": "stream",
     "text": [
      "Company oaktree is added to the graph.\n"
     ]
    },
    {
     "name": "stderr",
     "output_type": "stream",
     "text": [
      " 74%|███████▎  | 1019/1386 [09:39<04:18,  1.42it/s]"
     ]
    },
    {
     "name": "stdout",
     "output_type": "stream",
     "text": [
      "Company kansas_city_area_development_council_kcadc is added to the graph.\n"
     ]
    },
    {
     "name": "stderr",
     "output_type": "stream",
     "text": [
      " 74%|███████▎  | 1020/1386 [09:40<04:07,  1.48it/s]"
     ]
    },
    {
     "name": "stdout",
     "output_type": "stream",
     "text": [
      "Company acima_credit is added to the graph.\n"
     ]
    },
    {
     "name": "stderr",
     "output_type": "stream",
     "text": [
      " 74%|███████▎  | 1021/1386 [09:41<04:01,  1.51it/s]"
     ]
    },
    {
     "name": "stdout",
     "output_type": "stream",
     "text": [
      "Company crossriver is added to the graph.\n"
     ]
    },
    {
     "name": "stderr",
     "output_type": "stream",
     "text": [
      " 74%|███████▎  | 1022/1386 [09:41<03:35,  1.69it/s]"
     ]
    },
    {
     "name": "stdout",
     "output_type": "stream",
     "text": [
      "Company dermody_properties is added to the graph.\n"
     ]
    },
    {
     "name": "stderr",
     "output_type": "stream",
     "text": [
      " 74%|███████▍  | 1023/1386 [09:42<03:20,  1.81it/s]"
     ]
    },
    {
     "name": "stdout",
     "output_type": "stream",
     "text": [
      "Company oyster_hub is added to the graph.\n"
     ]
    },
    {
     "name": "stderr",
     "output_type": "stream",
     "text": [
      " 74%|███████▍  | 1024/1386 [09:42<03:13,  1.88it/s]"
     ]
    },
    {
     "name": "stdout",
     "output_type": "stream",
     "text": [
      "Company e78_partners is added to the graph.\n"
     ]
    },
    {
     "name": "stderr",
     "output_type": "stream",
     "text": [
      " 74%|███████▍  | 1025/1386 [09:42<02:51,  2.10it/s]"
     ]
    },
    {
     "name": "stdout",
     "output_type": "stream",
     "text": [
      "Company the_fridman_group is added to the graph.\n"
     ]
    },
    {
     "name": "stderr",
     "output_type": "stream",
     "text": [
      " 74%|███████▍  | 1026/1386 [09:43<02:38,  2.27it/s]"
     ]
    },
    {
     "name": "stdout",
     "output_type": "stream",
     "text": [
      "Company brooklands_fund_management is added to the graph.\n"
     ]
    },
    {
     "name": "stderr",
     "output_type": "stream",
     "text": [
      " 74%|███████▍  | 1027/1386 [09:43<02:34,  2.33it/s]"
     ]
    },
    {
     "name": "stdout",
     "output_type": "stream",
     "text": [
      "Company progress_partners is added to the graph.\n"
     ]
    },
    {
     "name": "stderr",
     "output_type": "stream",
     "text": [
      " 74%|███████▍  | 1028/1386 [09:44<02:41,  2.21it/s]"
     ]
    },
    {
     "name": "stdout",
     "output_type": "stream",
     "text": [
      "Company the_meridian_group is added to the graph.\n"
     ]
    },
    {
     "name": "stderr",
     "output_type": "stream",
     "text": [
      " 74%|███████▍  | 1029/1386 [09:44<02:48,  2.12it/s]"
     ]
    },
    {
     "name": "stdout",
     "output_type": "stream",
     "text": [
      "Company metlife is added to the graph.\n"
     ]
    },
    {
     "name": "stderr",
     "output_type": "stream",
     "text": [
      " 74%|███████▍  | 1030/1386 [09:45<02:54,  2.05it/s]"
     ]
    },
    {
     "name": "stdout",
     "output_type": "stream",
     "text": [
      "Company xero is added to the graph.\n"
     ]
    },
    {
     "name": "stderr",
     "output_type": "stream",
     "text": [
      " 74%|███████▍  | 1031/1386 [09:45<02:48,  2.11it/s]"
     ]
    },
    {
     "name": "stdout",
     "output_type": "stream",
     "text": [
      "Company chattermill is added to the graph.\n"
     ]
    },
    {
     "name": "stderr",
     "output_type": "stream",
     "text": [
      " 74%|███████▍  | 1032/1386 [09:46<02:42,  2.18it/s]"
     ]
    },
    {
     "name": "stdout",
     "output_type": "stream",
     "text": [
      "Company the_swig_company is added to the graph.\n"
     ]
    },
    {
     "name": "stderr",
     "output_type": "stream",
     "text": [
      " 75%|███████▍  | 1033/1386 [09:46<02:47,  2.10it/s]"
     ]
    },
    {
     "name": "stdout",
     "output_type": "stream",
     "text": [
      "Company destinations_credit_union is added to the graph.\n"
     ]
    },
    {
     "name": "stderr",
     "output_type": "stream",
     "text": [
      " 75%|███████▍  | 1034/1386 [09:46<02:40,  2.19it/s]"
     ]
    },
    {
     "name": "stdout",
     "output_type": "stream",
     "text": [
      "Company aldon is added to the graph.\n"
     ]
    },
    {
     "name": "stderr",
     "output_type": "stream",
     "text": [
      " 75%|███████▍  | 1035/1386 [09:47<02:47,  2.09it/s]"
     ]
    },
    {
     "name": "stdout",
     "output_type": "stream",
     "text": [
      "Company bowhead_specialty is added to the graph.\n"
     ]
    },
    {
     "name": "stderr",
     "output_type": "stream",
     "text": [
      " 75%|███████▍  | 1036/1386 [09:47<02:35,  2.25it/s]"
     ]
    },
    {
     "name": "stdout",
     "output_type": "stream",
     "text": [
      "Company hrtogo is added to the graph.\n"
     ]
    },
    {
     "name": "stderr",
     "output_type": "stream",
     "text": [
      " 75%|███████▍  | 1037/1386 [09:48<02:19,  2.51it/s]"
     ]
    },
    {
     "name": "stdout",
     "output_type": "stream",
     "text": [
      "Error: 'NoneType' object has no attribute 'append'\n"
     ]
    },
    {
     "name": "stderr",
     "output_type": "stream",
     "text": [
      " 75%|███████▍  | 1038/1386 [09:48<02:18,  2.52it/s]"
     ]
    },
    {
     "name": "stdout",
     "output_type": "stream",
     "text": [
      "Company invesco is added to the graph.\n"
     ]
    },
    {
     "name": "stderr",
     "output_type": "stream",
     "text": [
      " 75%|███████▍  | 1039/1386 [09:49<03:28,  1.66it/s]"
     ]
    },
    {
     "name": "stdout",
     "output_type": "stream",
     "text": [
      "Company new_ecology is added to the graph.\n"
     ]
    },
    {
     "name": "stderr",
     "output_type": "stream",
     "text": [
      " 75%|███████▌  | 1040/1386 [09:50<03:35,  1.61it/s]"
     ]
    },
    {
     "name": "stdout",
     "output_type": "stream",
     "text": [
      "Company kitces_com is added to the graph.\n"
     ]
    },
    {
     "name": "stderr",
     "output_type": "stream",
     "text": [
      " 75%|███████▌  | 1041/1386 [09:50<03:24,  1.69it/s]"
     ]
    },
    {
     "name": "stdout",
     "output_type": "stream",
     "text": [
      "Company country_bank is added to the graph.\n"
     ]
    },
    {
     "name": "stderr",
     "output_type": "stream",
     "text": [
      " 75%|███████▌  | 1042/1386 [09:51<03:27,  1.66it/s]"
     ]
    },
    {
     "name": "stdout",
     "output_type": "stream",
     "text": [
      "Company spectrum_pension_consultants is added to the graph.\n"
     ]
    },
    {
     "name": "stderr",
     "output_type": "stream",
     "text": [
      " 75%|███████▌  | 1043/1386 [09:52<03:32,  1.61it/s]"
     ]
    },
    {
     "name": "stdout",
     "output_type": "stream",
     "text": [
      "Company tavant is added to the graph.\n"
     ]
    },
    {
     "name": "stderr",
     "output_type": "stream",
     "text": [
      " 75%|███████▌  | 1044/1386 [09:52<03:12,  1.78it/s]"
     ]
    },
    {
     "name": "stdout",
     "output_type": "stream",
     "text": [
      "Company kona_coffee_roasters is added to the graph.\n"
     ]
    },
    {
     "name": "stderr",
     "output_type": "stream",
     "text": [
      " 75%|███████▌  | 1045/1386 [09:53<03:05,  1.84it/s]"
     ]
    },
    {
     "name": "stdout",
     "output_type": "stream",
     "text": [
      "Company walmart is added to the graph.\n"
     ]
    },
    {
     "name": "stderr",
     "output_type": "stream",
     "text": [
      " 75%|███████▌  | 1046/1386 [09:53<02:45,  2.06it/s]"
     ]
    },
    {
     "name": "stdout",
     "output_type": "stream",
     "text": [
      "Company podimo is added to the graph.\n"
     ]
    },
    {
     "name": "stderr",
     "output_type": "stream",
     "text": [
      " 76%|███████▌  | 1047/1386 [09:53<02:33,  2.22it/s]"
     ]
    },
    {
     "name": "stdout",
     "output_type": "stream",
     "text": [
      "Company wap_sustainability_consulting is added to the graph.\n"
     ]
    },
    {
     "name": "stderr",
     "output_type": "stream",
     "text": [
      " 76%|███████▌  | 1048/1386 [09:54<02:25,  2.32it/s]"
     ]
    },
    {
     "name": "stdout",
     "output_type": "stream",
     "text": [
      "Company rodeo_lending is added to the graph.\n"
     ]
    },
    {
     "name": "stderr",
     "output_type": "stream",
     "text": [
      " 76%|███████▌  | 1049/1386 [09:54<02:16,  2.47it/s]"
     ]
    },
    {
     "name": "stdout",
     "output_type": "stream",
     "text": [
      "Company bornite_capital is added to the graph.\n"
     ]
    },
    {
     "name": "stderr",
     "output_type": "stream",
     "text": [
      " 76%|███████▌  | 1050/1386 [09:55<02:25,  2.30it/s]"
     ]
    },
    {
     "name": "stdout",
     "output_type": "stream",
     "text": [
      "Company outlier_ventures is added to the graph.\n"
     ]
    },
    {
     "name": "stderr",
     "output_type": "stream",
     "text": [
      " 76%|███████▌  | 1051/1386 [09:55<02:36,  2.15it/s]"
     ]
    },
    {
     "name": "stdout",
     "output_type": "stream",
     "text": [
      "Company optima_benefits_&_payroll is added to the graph.\n"
     ]
    },
    {
     "name": "stderr",
     "output_type": "stream",
     "text": [
      " 76%|███████▌  | 1052/1386 [09:56<02:38,  2.11it/s]"
     ]
    },
    {
     "name": "stdout",
     "output_type": "stream",
     "text": [
      "Company cudos is added to the graph.\n"
     ]
    },
    {
     "name": "stderr",
     "output_type": "stream",
     "text": [
      " 76%|███████▌  | 1053/1386 [09:56<02:35,  2.14it/s]"
     ]
    },
    {
     "name": "stdout",
     "output_type": "stream",
     "text": [
      "Company indevco is added to the graph.\n"
     ]
    },
    {
     "name": "stderr",
     "output_type": "stream",
     "text": [
      " 76%|███████▌  | 1054/1386 [09:56<02:34,  2.15it/s]"
     ]
    },
    {
     "name": "stdout",
     "output_type": "stream",
     "text": [
      "Company sopra_steria is added to the graph.\n"
     ]
    },
    {
     "name": "stderr",
     "output_type": "stream",
     "text": [
      " 76%|███████▌  | 1055/1386 [09:57<03:19,  1.66it/s]"
     ]
    },
    {
     "name": "stdout",
     "output_type": "stream",
     "text": [
      "Company men’s_wearhouse is added to the graph.\n"
     ]
    },
    {
     "name": "stderr",
     "output_type": "stream",
     "text": [
      " 76%|███████▌  | 1056/1386 [09:58<03:36,  1.52it/s]"
     ]
    },
    {
     "name": "stdout",
     "output_type": "stream",
     "text": [
      "Company clifford_chance is added to the graph.\n"
     ]
    },
    {
     "name": "stderr",
     "output_type": "stream",
     "text": [
      " 76%|███████▋  | 1057/1386 [09:59<03:17,  1.66it/s]"
     ]
    },
    {
     "name": "stdout",
     "output_type": "stream",
     "text": [
      "Company vinovest is added to the graph.\n"
     ]
    },
    {
     "name": "stderr",
     "output_type": "stream",
     "text": [
      " 76%|███████▋  | 1058/1386 [09:59<03:07,  1.75it/s]"
     ]
    },
    {
     "name": "stdout",
     "output_type": "stream",
     "text": [
      "Company holded is added to the graph.\n"
     ]
    },
    {
     "name": "stderr",
     "output_type": "stream",
     "text": [
      " 76%|███████▋  | 1059/1386 [10:00<02:50,  1.92it/s]"
     ]
    },
    {
     "name": "stdout",
     "output_type": "stream",
     "text": [
      "Company collective_communities is added to the graph.\n"
     ]
    },
    {
     "name": "stderr",
     "output_type": "stream",
     "text": [
      " 76%|███████▋  | 1060/1386 [10:01<04:38,  1.17it/s]"
     ]
    },
    {
     "name": "stdout",
     "output_type": "stream",
     "text": [
      "Company clearco is added to the graph.\n"
     ]
    },
    {
     "name": "stderr",
     "output_type": "stream",
     "text": [
      " 77%|███████▋  | 1061/1386 [10:02<04:35,  1.18it/s]"
     ]
    },
    {
     "name": "stdout",
     "output_type": "stream",
     "text": [
      "Company enverid_systems is added to the graph.\n"
     ]
    },
    {
     "name": "stderr",
     "output_type": "stream",
     "text": [
      " 77%|███████▋  | 1062/1386 [10:03<04:15,  1.27it/s]"
     ]
    },
    {
     "name": "stdout",
     "output_type": "stream",
     "text": [
      "Company lorna_jane is added to the graph.\n"
     ]
    },
    {
     "name": "stderr",
     "output_type": "stream",
     "text": [
      " 77%|███████▋  | 1063/1386 [10:03<03:37,  1.49it/s]"
     ]
    },
    {
     "name": "stdout",
     "output_type": "stream",
     "text": [
      "Company orbia is added to the graph.\n"
     ]
    },
    {
     "name": "stderr",
     "output_type": "stream",
     "text": [
      " 77%|███████▋  | 1064/1386 [10:04<03:29,  1.54it/s]"
     ]
    },
    {
     "name": "stdout",
     "output_type": "stream",
     "text": [
      "Company yaskawa is added to the graph.\n"
     ]
    },
    {
     "name": "stderr",
     "output_type": "stream",
     "text": [
      " 77%|███████▋  | 1065/1386 [10:04<02:58,  1.80it/s]"
     ]
    },
    {
     "name": "stdout",
     "output_type": "stream",
     "text": [
      "Error: 'NoneType' object has no attribute 'append'\n"
     ]
    },
    {
     "name": "stderr",
     "output_type": "stream",
     "text": [
      " 77%|███████▋  | 1066/1386 [10:04<02:40,  1.99it/s]"
     ]
    },
    {
     "name": "stdout",
     "output_type": "stream",
     "text": [
      "Company rebe_homes is added to the graph.\n"
     ]
    },
    {
     "name": "stderr",
     "output_type": "stream",
     "text": [
      " 77%|███████▋  | 1067/1386 [10:05<02:30,  2.12it/s]"
     ]
    },
    {
     "name": "stdout",
     "output_type": "stream",
     "text": [
      "Company credhub is added to the graph.\n"
     ]
    },
    {
     "name": "stderr",
     "output_type": "stream",
     "text": [
      " 77%|███████▋  | 1068/1386 [10:05<02:22,  2.23it/s]"
     ]
    },
    {
     "name": "stdout",
     "output_type": "stream",
     "text": [
      "Company gaingels is added to the graph.\n"
     ]
    },
    {
     "name": "stderr",
     "output_type": "stream",
     "text": [
      " 77%|███████▋  | 1069/1386 [10:06<02:40,  1.97it/s]"
     ]
    },
    {
     "name": "stdout",
     "output_type": "stream",
     "text": [
      "Company arkadia_global is added to the graph.\n"
     ]
    },
    {
     "name": "stderr",
     "output_type": "stream",
     "text": [
      " 77%|███████▋  | 1070/1386 [10:06<02:32,  2.07it/s]"
     ]
    },
    {
     "name": "stdout",
     "output_type": "stream",
     "text": [
      "Company wander_and_ivy is added to the graph.\n"
     ]
    },
    {
     "name": "stderr",
     "output_type": "stream",
     "text": [
      " 77%|███████▋  | 1071/1386 [10:07<02:37,  1.99it/s]"
     ]
    },
    {
     "name": "stdout",
     "output_type": "stream",
     "text": [
      "Company juneau_construction is added to the graph.\n"
     ]
    },
    {
     "name": "stderr",
     "output_type": "stream",
     "text": [
      " 77%|███████▋  | 1072/1386 [10:08<03:22,  1.55it/s]"
     ]
    },
    {
     "name": "stdout",
     "output_type": "stream",
     "text": [
      "Company wild_coffee_marketing is added to the graph.\n"
     ]
    },
    {
     "name": "stderr",
     "output_type": "stream",
     "text": [
      " 77%|███████▋  | 1073/1386 [10:08<03:20,  1.56it/s]"
     ]
    },
    {
     "name": "stdout",
     "output_type": "stream",
     "text": [
      "Company mgic is added to the graph.\n"
     ]
    },
    {
     "name": "stderr",
     "output_type": "stream",
     "text": [
      " 77%|███████▋  | 1074/1386 [10:09<03:42,  1.40it/s]"
     ]
    },
    {
     "name": "stdout",
     "output_type": "stream",
     "text": [
      "Company isolved is added to the graph.\n"
     ]
    },
    {
     "name": "stderr",
     "output_type": "stream",
     "text": [
      " 78%|███████▊  | 1075/1386 [10:10<03:43,  1.39it/s]"
     ]
    },
    {
     "name": "stdout",
     "output_type": "stream",
     "text": [
      "Company willow_bridge is added to the graph.\n"
     ]
    },
    {
     "name": "stderr",
     "output_type": "stream",
     "text": [
      " 78%|███████▊  | 1076/1386 [10:10<03:11,  1.62it/s]"
     ]
    },
    {
     "name": "stdout",
     "output_type": "stream",
     "text": [
      "Company stay_with_style_scottsdale is added to the graph.\n"
     ]
    },
    {
     "name": "stderr",
     "output_type": "stream",
     "text": [
      " 78%|███████▊  | 1077/1386 [10:11<02:52,  1.80it/s]"
     ]
    },
    {
     "name": "stdout",
     "output_type": "stream",
     "text": [
      "Company american_financial_network_inc__afn is added to the graph.\n"
     ]
    },
    {
     "name": "stderr",
     "output_type": "stream",
     "text": [
      " 78%|███████▊  | 1078/1386 [10:11<02:52,  1.79it/s]"
     ]
    },
    {
     "name": "stdout",
     "output_type": "stream",
     "text": [
      "Company lily_charmed is added to the graph.\n"
     ]
    },
    {
     "name": "stderr",
     "output_type": "stream",
     "text": [
      " 78%|███████▊  | 1079/1386 [10:12<02:39,  1.92it/s]"
     ]
    },
    {
     "name": "stdout",
     "output_type": "stream",
     "text": [
      "Company webtech_guru is added to the graph.\n"
     ]
    },
    {
     "name": "stderr",
     "output_type": "stream",
     "text": [
      " 78%|███████▊  | 1080/1386 [10:12<02:43,  1.87it/s]"
     ]
    },
    {
     "name": "stdout",
     "output_type": "stream",
     "text": [
      "Company bvrla is added to the graph.\n"
     ]
    },
    {
     "name": "stderr",
     "output_type": "stream",
     "text": [
      " 78%|███████▊  | 1081/1386 [10:13<02:29,  2.04it/s]"
     ]
    },
    {
     "name": "stdout",
     "output_type": "stream",
     "text": [
      "Company pouch_insurance is added to the graph.\n"
     ]
    },
    {
     "name": "stderr",
     "output_type": "stream",
     "text": [
      " 78%|███████▊  | 1082/1386 [10:13<02:27,  2.06it/s]"
     ]
    },
    {
     "name": "stdout",
     "output_type": "stream",
     "text": [
      "Company nourmand_&_associates is added to the graph.\n"
     ]
    },
    {
     "name": "stderr",
     "output_type": "stream",
     "text": [
      " 78%|███████▊  | 1083/1386 [10:14<02:59,  1.69it/s]"
     ]
    },
    {
     "name": "stdout",
     "output_type": "stream",
     "text": [
      "Company finlocker is added to the graph.\n"
     ]
    },
    {
     "name": "stderr",
     "output_type": "stream",
     "text": [
      " 78%|███████▊  | 1084/1386 [10:15<02:53,  1.74it/s]"
     ]
    },
    {
     "name": "stdout",
     "output_type": "stream",
     "text": [
      "Company british_business_bank is added to the graph.\n"
     ]
    },
    {
     "name": "stderr",
     "output_type": "stream",
     "text": [
      " 78%|███████▊  | 1085/1386 [10:15<03:04,  1.63it/s]"
     ]
    },
    {
     "name": "stdout",
     "output_type": "stream",
     "text": [
      "Company bella_ella_boutiques is added to the graph.\n"
     ]
    },
    {
     "name": "stderr",
     "output_type": "stream",
     "text": [
      " 78%|███████▊  | 1086/1386 [10:16<03:24,  1.47it/s]"
     ]
    },
    {
     "name": "stdout",
     "output_type": "stream",
     "text": [
      "Company neighbors_fcu is added to the graph.\n"
     ]
    },
    {
     "name": "stderr",
     "output_type": "stream",
     "text": [
      " 78%|███████▊  | 1087/1386 [10:16<02:53,  1.73it/s]"
     ]
    },
    {
     "name": "stdout",
     "output_type": "stream",
     "text": [
      "Error: 'NoneType' object has no attribute 'append'\n"
     ]
    },
    {
     "name": "stderr",
     "output_type": "stream",
     "text": [
      " 78%|███████▊  | 1088/1386 [10:17<03:17,  1.51it/s]"
     ]
    },
    {
     "name": "stdout",
     "output_type": "stream",
     "text": [
      "Company bbk_partnership is added to the graph.\n"
     ]
    },
    {
     "name": "stderr",
     "output_type": "stream",
     "text": [
      " 79%|███████▊  | 1089/1386 [10:18<03:05,  1.60it/s]"
     ]
    },
    {
     "name": "stdout",
     "output_type": "stream",
     "text": [
      "Company startupfon_com is added to the graph.\n"
     ]
    },
    {
     "name": "stderr",
     "output_type": "stream",
     "text": [
      " 79%|███████▊  | 1090/1386 [10:18<02:58,  1.66it/s]"
     ]
    },
    {
     "name": "stdout",
     "output_type": "stream",
     "text": [
      "Company intuit is added to the graph.\n"
     ]
    },
    {
     "name": "stderr",
     "output_type": "stream",
     "text": [
      " 79%|███████▊  | 1091/1386 [10:19<02:42,  1.81it/s]"
     ]
    },
    {
     "name": "stdout",
     "output_type": "stream",
     "text": [
      "Company alturas_capital_partners is added to the graph.\n"
     ]
    },
    {
     "name": "stderr",
     "output_type": "stream",
     "text": [
      " 79%|███████▉  | 1092/1386 [10:20<03:15,  1.51it/s]"
     ]
    },
    {
     "name": "stdout",
     "output_type": "stream",
     "text": [
      "Company scs_global_services is added to the graph.\n"
     ]
    },
    {
     "name": "stderr",
     "output_type": "stream",
     "text": [
      " 79%|███████▉  | 1093/1386 [10:21<03:27,  1.41it/s]"
     ]
    },
    {
     "name": "stdout",
     "output_type": "stream",
     "text": [
      "Company easy_song is added to the graph.\n"
     ]
    },
    {
     "name": "stderr",
     "output_type": "stream",
     "text": [
      " 79%|███████▉  | 1094/1386 [10:21<03:02,  1.60it/s]"
     ]
    },
    {
     "name": "stdout",
     "output_type": "stream",
     "text": [
      "Company cadence_education is added to the graph.\n"
     ]
    },
    {
     "name": "stderr",
     "output_type": "stream",
     "text": [
      " 79%|███████▉  | 1095/1386 [10:21<02:34,  1.89it/s]"
     ]
    },
    {
     "name": "stdout",
     "output_type": "stream",
     "text": [
      "Error: 'NoneType' object has no attribute 'append'\n"
     ]
    },
    {
     "name": "stderr",
     "output_type": "stream",
     "text": [
      " 79%|███████▉  | 1096/1386 [10:22<02:40,  1.81it/s]"
     ]
    },
    {
     "name": "stdout",
     "output_type": "stream",
     "text": [
      "Company atlantic_community_bankers_bank is added to the graph.\n"
     ]
    },
    {
     "name": "stderr",
     "output_type": "stream",
     "text": [
      " 79%|███████▉  | 1097/1386 [10:22<02:25,  1.99it/s]"
     ]
    },
    {
     "name": "stdout",
     "output_type": "stream",
     "text": [
      "Company twh_homes is added to the graph.\n"
     ]
    },
    {
     "name": "stderr",
     "output_type": "stream",
     "text": [
      " 79%|███████▉  | 1098/1386 [10:23<02:29,  1.92it/s]"
     ]
    },
    {
     "name": "stdout",
     "output_type": "stream",
     "text": [
      "Company allstate is added to the graph.\n"
     ]
    },
    {
     "name": "stderr",
     "output_type": "stream",
     "text": [
      " 79%|███████▉  | 1099/1386 [10:23<02:28,  1.93it/s]"
     ]
    },
    {
     "name": "stdout",
     "output_type": "stream",
     "text": [
      "Company owens_corning is added to the graph.\n"
     ]
    },
    {
     "name": "stderr",
     "output_type": "stream",
     "text": [
      " 79%|███████▉  | 1100/1386 [10:24<02:53,  1.64it/s]"
     ]
    },
    {
     "name": "stdout",
     "output_type": "stream",
     "text": [
      "Company spiff is added to the graph.\n"
     ]
    },
    {
     "name": "stderr",
     "output_type": "stream",
     "text": [
      " 79%|███████▉  | 1101/1386 [10:25<02:36,  1.82it/s]"
     ]
    },
    {
     "name": "stdout",
     "output_type": "stream",
     "text": [
      "Company g6_hospitality is added to the graph.\n"
     ]
    },
    {
     "name": "stderr",
     "output_type": "stream",
     "text": [
      " 80%|███████▉  | 1102/1386 [10:25<02:20,  2.03it/s]"
     ]
    },
    {
     "name": "stdout",
     "output_type": "stream",
     "text": [
      "Company the_green_cities_company is added to the graph.\n"
     ]
    },
    {
     "name": "stderr",
     "output_type": "stream",
     "text": [
      " 80%|███████▉  | 1103/1386 [10:25<02:09,  2.19it/s]"
     ]
    },
    {
     "name": "stdout",
     "output_type": "stream",
     "text": [
      "Company em_investments is added to the graph.\n"
     ]
    },
    {
     "name": "stderr",
     "output_type": "stream",
     "text": [
      " 80%|███████▉  | 1104/1386 [10:26<02:34,  1.83it/s]"
     ]
    },
    {
     "name": "stdout",
     "output_type": "stream",
     "text": [
      "Company super_stud is added to the graph.\n"
     ]
    },
    {
     "name": "stderr",
     "output_type": "stream",
     "text": [
      " 80%|███████▉  | 1105/1386 [10:27<02:19,  2.01it/s]"
     ]
    },
    {
     "name": "stdout",
     "output_type": "stream",
     "text": [
      "Company lifeway_mobility is added to the graph.\n"
     ]
    },
    {
     "name": "stderr",
     "output_type": "stream",
     "text": [
      " 80%|███████▉  | 1106/1386 [10:27<02:32,  1.83it/s]"
     ]
    },
    {
     "name": "stdout",
     "output_type": "stream",
     "text": [
      "Company aneca is added to the graph.\n"
     ]
    },
    {
     "name": "stderr",
     "output_type": "stream",
     "text": [
      " 80%|███████▉  | 1107/1386 [10:28<02:37,  1.77it/s]"
     ]
    },
    {
     "name": "stdout",
     "output_type": "stream",
     "text": [
      "Company affinity_credit_union is added to the graph.\n"
     ]
    },
    {
     "name": "stderr",
     "output_type": "stream",
     "text": [
      " 80%|███████▉  | 1108/1386 [10:28<02:21,  1.97it/s]"
     ]
    },
    {
     "name": "stdout",
     "output_type": "stream",
     "text": [
      "Company barrett_sothebys_international_realty is added to the graph.\n"
     ]
    },
    {
     "name": "stderr",
     "output_type": "stream",
     "text": [
      " 80%|████████  | 1109/1386 [10:29<02:19,  1.98it/s]"
     ]
    },
    {
     "name": "stdout",
     "output_type": "stream",
     "text": [
      "Company guardant_health is added to the graph.\n"
     ]
    },
    {
     "name": "stderr",
     "output_type": "stream",
     "text": [
      " 80%|████████  | 1110/1386 [10:29<02:16,  2.02it/s]"
     ]
    },
    {
     "name": "stdout",
     "output_type": "stream",
     "text": [
      "Company keane_enterprises is added to the graph.\n"
     ]
    },
    {
     "name": "stderr",
     "output_type": "stream",
     "text": [
      " 80%|████████  | 1111/1386 [10:30<02:32,  1.81it/s]"
     ]
    },
    {
     "name": "stdout",
     "output_type": "stream",
     "text": [
      "Company silverstein_properties is added to the graph.\n"
     ]
    },
    {
     "name": "stderr",
     "output_type": "stream",
     "text": [
      " 80%|████████  | 1112/1386 [10:30<02:23,  1.91it/s]"
     ]
    },
    {
     "name": "stdout",
     "output_type": "stream",
     "text": [
      "Company tedco_builder_fund is added to the graph.\n"
     ]
    },
    {
     "name": "stderr",
     "output_type": "stream",
     "text": [
      " 80%|████████  | 1113/1386 [10:31<02:54,  1.56it/s]"
     ]
    },
    {
     "name": "stdout",
     "output_type": "stream",
     "text": [
      "Company formstack is added to the graph.\n"
     ]
    },
    {
     "name": "stderr",
     "output_type": "stream",
     "text": [
      " 80%|████████  | 1114/1386 [10:32<02:48,  1.62it/s]"
     ]
    },
    {
     "name": "stdout",
     "output_type": "stream",
     "text": [
      "Company avalara_mylodgetax is added to the graph.\n"
     ]
    },
    {
     "name": "stderr",
     "output_type": "stream",
     "text": [
      " 80%|████████  | 1115/1386 [10:32<02:45,  1.64it/s]"
     ]
    },
    {
     "name": "stdout",
     "output_type": "stream",
     "text": [
      "Company occu is added to the graph.\n"
     ]
    },
    {
     "name": "stderr",
     "output_type": "stream",
     "text": [
      " 81%|████████  | 1116/1386 [10:33<02:19,  1.93it/s]"
     ]
    },
    {
     "name": "stdout",
     "output_type": "stream",
     "text": [
      "Error: 'NoneType' object has no attribute 'append'\n"
     ]
    },
    {
     "name": "stderr",
     "output_type": "stream",
     "text": [
      " 81%|████████  | 1117/1386 [10:34<03:44,  1.20it/s]"
     ]
    },
    {
     "name": "stdout",
     "output_type": "stream",
     "text": [
      "Company creative_art_partners is added to the graph.\n"
     ]
    },
    {
     "name": "stderr",
     "output_type": "stream",
     "text": [
      " 81%|████████  | 1118/1386 [10:35<03:46,  1.18it/s]"
     ]
    },
    {
     "name": "stdout",
     "output_type": "stream",
     "text": [
      "Company certainteed is added to the graph.\n"
     ]
    },
    {
     "name": "stderr",
     "output_type": "stream",
     "text": [
      " 81%|████████  | 1119/1386 [10:35<03:08,  1.42it/s]"
     ]
    },
    {
     "name": "stdout",
     "output_type": "stream",
     "text": [
      "Company stay_cal_hospitality is added to the graph.\n"
     ]
    },
    {
     "name": "stderr",
     "output_type": "stream",
     "text": [
      " 81%|████████  | 1120/1386 [10:36<02:50,  1.56it/s]"
     ]
    },
    {
     "name": "stdout",
     "output_type": "stream",
     "text": [
      "Company hawaii_central_fcu is added to the graph.\n"
     ]
    },
    {
     "name": "stderr",
     "output_type": "stream",
     "text": [
      " 81%|████████  | 1121/1386 [10:37<03:15,  1.36it/s]"
     ]
    },
    {
     "name": "stdout",
     "output_type": "stream",
     "text": [
      "Company goodfair is added to the graph.\n"
     ]
    },
    {
     "name": "stderr",
     "output_type": "stream",
     "text": [
      " 81%|████████  | 1122/1386 [10:38<03:17,  1.34it/s]"
     ]
    },
    {
     "name": "stdout",
     "output_type": "stream",
     "text": [
      "Company entrata is added to the graph.\n"
     ]
    },
    {
     "name": "stderr",
     "output_type": "stream",
     "text": [
      " 81%|████████  | 1123/1386 [10:38<02:52,  1.52it/s]"
     ]
    },
    {
     "name": "stdout",
     "output_type": "stream",
     "text": [
      "Company epp_foundation_repair is added to the graph.\n"
     ]
    },
    {
     "name": "stderr",
     "output_type": "stream",
     "text": [
      " 81%|████████  | 1124/1386 [10:39<02:45,  1.58it/s]"
     ]
    },
    {
     "name": "stdout",
     "output_type": "stream",
     "text": [
      "Company carbonated is added to the graph.\n"
     ]
    },
    {
     "name": "stderr",
     "output_type": "stream",
     "text": [
      " 81%|████████  | 1125/1386 [10:39<02:25,  1.80it/s]"
     ]
    },
    {
     "name": "stdout",
     "output_type": "stream",
     "text": [
      "Company the_realty_advantage_team is added to the graph.\n"
     ]
    },
    {
     "name": "stderr",
     "output_type": "stream",
     "text": [
      " 81%|████████  | 1126/1386 [10:39<02:04,  2.09it/s]"
     ]
    },
    {
     "name": "stdout",
     "output_type": "stream",
     "text": [
      "Error: 'NoneType' object is not subscriptable\n"
     ]
    },
    {
     "name": "stderr",
     "output_type": "stream",
     "text": [
      " 81%|████████▏ | 1127/1386 [10:40<02:21,  1.83it/s]"
     ]
    },
    {
     "name": "stdout",
     "output_type": "stream",
     "text": [
      "Company withum is added to the graph.\n"
     ]
    },
    {
     "name": "stderr",
     "output_type": "stream",
     "text": [
      " 81%|████████▏ | 1128/1386 [10:41<02:22,  1.81it/s]"
     ]
    },
    {
     "name": "stdout",
     "output_type": "stream",
     "text": [
      "Company paypal_giving_fund is added to the graph.\n"
     ]
    },
    {
     "name": "stderr",
     "output_type": "stream",
     "text": [
      " 81%|████████▏ | 1129/1386 [10:41<02:03,  2.09it/s]"
     ]
    },
    {
     "name": "stdout",
     "output_type": "stream",
     "text": [
      "Error: 'NoneType' object has no attribute 'append'\n"
     ]
    },
    {
     "name": "stderr",
     "output_type": "stream",
     "text": [
      " 82%|████████▏ | 1130/1386 [10:41<02:00,  2.13it/s]"
     ]
    },
    {
     "name": "stdout",
     "output_type": "stream",
     "text": [
      "Company winncompanies is added to the graph.\n"
     ]
    },
    {
     "name": "stderr",
     "output_type": "stream",
     "text": [
      " 82%|████████▏ | 1131/1386 [10:43<02:52,  1.47it/s]"
     ]
    },
    {
     "name": "stdout",
     "output_type": "stream",
     "text": [
      "Company community_bank is added to the graph.\n"
     ]
    },
    {
     "name": "stderr",
     "output_type": "stream",
     "text": [
      " 82%|████████▏ | 1132/1386 [10:43<02:29,  1.70it/s]"
     ]
    },
    {
     "name": "stdout",
     "output_type": "stream",
     "text": [
      "Company giveback_homes is added to the graph.\n"
     ]
    },
    {
     "name": "stderr",
     "output_type": "stream",
     "text": [
      " 82%|████████▏ | 1133/1386 [10:43<02:11,  1.92it/s]"
     ]
    },
    {
     "name": "stdout",
     "output_type": "stream",
     "text": [
      "Company avanath_capital_management is added to the graph.\n"
     ]
    },
    {
     "name": "stderr",
     "output_type": "stream",
     "text": [
      " 82%|████████▏ | 1134/1386 [10:44<02:37,  1.60it/s]"
     ]
    },
    {
     "name": "stdout",
     "output_type": "stream",
     "text": [
      "Company hoxhunt is added to the graph.\n"
     ]
    },
    {
     "name": "stderr",
     "output_type": "stream",
     "text": [
      " 82%|████████▏ | 1135/1386 [10:45<02:31,  1.66it/s]"
     ]
    },
    {
     "name": "stdout",
     "output_type": "stream",
     "text": [
      "Company mypos is added to the graph.\n"
     ]
    },
    {
     "name": "stderr",
     "output_type": "stream",
     "text": [
      " 82%|████████▏ | 1136/1386 [10:45<02:16,  1.83it/s]"
     ]
    },
    {
     "name": "stdout",
     "output_type": "stream",
     "text": [
      "Company community_west_bank is added to the graph.\n"
     ]
    },
    {
     "name": "stderr",
     "output_type": "stream",
     "text": [
      " 82%|████████▏ | 1137/1386 [10:46<02:20,  1.78it/s]"
     ]
    },
    {
     "name": "stdout",
     "output_type": "stream",
     "text": [
      "Company arrow_building_center is added to the graph.\n"
     ]
    },
    {
     "name": "stderr",
     "output_type": "stream",
     "text": [
      " 82%|████████▏ | 1138/1386 [10:46<02:25,  1.70it/s]"
     ]
    },
    {
     "name": "stdout",
     "output_type": "stream",
     "text": [
      "Company compucom is added to the graph.\n"
     ]
    },
    {
     "name": "stderr",
     "output_type": "stream",
     "text": [
      " 82%|████████▏ | 1139/1386 [10:47<02:25,  1.70it/s]"
     ]
    },
    {
     "name": "stdout",
     "output_type": "stream",
     "text": [
      "Company tolam_earth is added to the graph.\n"
     ]
    },
    {
     "name": "stderr",
     "output_type": "stream",
     "text": [
      " 82%|████████▏ | 1140/1386 [10:48<02:38,  1.55it/s]"
     ]
    },
    {
     "name": "stdout",
     "output_type": "stream",
     "text": [
      "Company elbow_beach_capital is added to the graph.\n"
     ]
    },
    {
     "name": "stderr",
     "output_type": "stream",
     "text": [
      " 82%|████████▏ | 1141/1386 [10:48<02:35,  1.57it/s]"
     ]
    },
    {
     "name": "stdout",
     "output_type": "stream",
     "text": [
      "Company alloy is added to the graph.\n"
     ]
    },
    {
     "name": "stderr",
     "output_type": "stream",
     "text": [
      " 82%|████████▏ | 1142/1386 [10:49<02:25,  1.67it/s]"
     ]
    },
    {
     "name": "stdout",
     "output_type": "stream",
     "text": [
      "Company amcal is added to the graph.\n"
     ]
    },
    {
     "name": "stderr",
     "output_type": "stream",
     "text": [
      " 82%|████████▏ | 1143/1386 [10:50<02:31,  1.60it/s]"
     ]
    },
    {
     "name": "stdout",
     "output_type": "stream",
     "text": [
      "Company crye_leike is added to the graph.\n"
     ]
    },
    {
     "name": "stderr",
     "output_type": "stream",
     "text": [
      " 83%|████████▎ | 1144/1386 [10:50<02:19,  1.73it/s]"
     ]
    },
    {
     "name": "stdout",
     "output_type": "stream",
     "text": [
      "Company greystone is added to the graph.\n"
     ]
    },
    {
     "name": "stderr",
     "output_type": "stream",
     "text": [
      " 83%|████████▎ | 1145/1386 [10:50<02:08,  1.88it/s]"
     ]
    },
    {
     "name": "stdout",
     "output_type": "stream",
     "text": [
      "Company ca_ventures is added to the graph.\n"
     ]
    },
    {
     "name": "stderr",
     "output_type": "stream",
     "text": [
      " 83%|████████▎ | 1146/1386 [10:51<02:09,  1.86it/s]"
     ]
    },
    {
     "name": "stdout",
     "output_type": "stream",
     "text": [
      "Company ltse is added to the graph.\n"
     ]
    },
    {
     "name": "stderr",
     "output_type": "stream",
     "text": [
      " 83%|████████▎ | 1147/1386 [10:51<02:00,  1.98it/s]"
     ]
    },
    {
     "name": "stdout",
     "output_type": "stream",
     "text": [
      "Company outdoor_voices is added to the graph.\n"
     ]
    },
    {
     "name": "stderr",
     "output_type": "stream",
     "text": [
      " 83%|████████▎ | 1148/1386 [10:53<03:14,  1.23it/s]"
     ]
    },
    {
     "name": "stdout",
     "output_type": "stream",
     "text": [
      "Company hexagon is added to the graph.\n"
     ]
    },
    {
     "name": "stderr",
     "output_type": "stream",
     "text": [
      " 83%|████████▎ | 1149/1386 [10:53<02:46,  1.42it/s]"
     ]
    },
    {
     "name": "stdout",
     "output_type": "stream",
     "text": [
      "Company cascade_vacation_rentals is added to the graph.\n"
     ]
    },
    {
     "name": "stderr",
     "output_type": "stream",
     "text": [
      " 83%|████████▎ | 1150/1386 [10:54<02:37,  1.49it/s]"
     ]
    },
    {
     "name": "stdout",
     "output_type": "stream",
     "text": [
      "Company block_real_estate_services is added to the graph.\n"
     ]
    },
    {
     "name": "stderr",
     "output_type": "stream",
     "text": [
      " 83%|████████▎ | 1151/1386 [10:54<02:17,  1.71it/s]"
     ]
    },
    {
     "name": "stdout",
     "output_type": "stream",
     "text": [
      "Company bigbrain_holdings is added to the graph.\n"
     ]
    },
    {
     "name": "stderr",
     "output_type": "stream",
     "text": [
      " 83%|████████▎ | 1152/1386 [10:55<02:13,  1.76it/s]"
     ]
    },
    {
     "name": "stdout",
     "output_type": "stream",
     "text": [
      "Company sceptre is added to the graph.\n"
     ]
    },
    {
     "name": "stderr",
     "output_type": "stream",
     "text": [
      " 83%|████████▎ | 1153/1386 [10:57<04:10,  1.08s/it]"
     ]
    },
    {
     "name": "stdout",
     "output_type": "stream",
     "text": [
      "Company hi_marley is added to the graph.\n"
     ]
    },
    {
     "name": "stderr",
     "output_type": "stream",
     "text": [
      " 83%|████████▎ | 1154/1386 [10:58<03:45,  1.03it/s]"
     ]
    },
    {
     "name": "stdout",
     "output_type": "stream",
     "text": [
      "Company the_athlete’s_foot is added to the graph.\n"
     ]
    },
    {
     "name": "stderr",
     "output_type": "stream",
     "text": [
      " 83%|████████▎ | 1155/1386 [10:58<03:03,  1.26it/s]"
     ]
    },
    {
     "name": "stdout",
     "output_type": "stream",
     "text": [
      "Error: 'NoneType' object has no attribute 'append'\n"
     ]
    },
    {
     "name": "stderr",
     "output_type": "stream",
     "text": [
      " 83%|████████▎ | 1156/1386 [11:00<03:33,  1.08it/s]"
     ]
    },
    {
     "name": "stdout",
     "output_type": "stream",
     "text": [
      "Company inman is added to the graph.\n"
     ]
    },
    {
     "name": "stderr",
     "output_type": "stream",
     "text": [
      " 83%|████████▎ | 1157/1386 [11:00<02:56,  1.30it/s]"
     ]
    },
    {
     "name": "stdout",
     "output_type": "stream",
     "text": [
      "Company tregaron_capital is added to the graph.\n"
     ]
    },
    {
     "name": "stderr",
     "output_type": "stream",
     "text": [
      " 84%|████████▎ | 1158/1386 [11:00<02:35,  1.47it/s]"
     ]
    },
    {
     "name": "stdout",
     "output_type": "stream",
     "text": [
      "Company osara_health is added to the graph.\n"
     ]
    },
    {
     "name": "stderr",
     "output_type": "stream",
     "text": [
      " 84%|████████▎ | 1159/1386 [11:01<02:15,  1.67it/s]"
     ]
    },
    {
     "name": "stdout",
     "output_type": "stream",
     "text": [
      "Company ykk_ap_america_inc_ is added to the graph.\n"
     ]
    },
    {
     "name": "stderr",
     "output_type": "stream",
     "text": [
      " 84%|████████▎ | 1160/1386 [11:01<02:05,  1.80it/s]"
     ]
    },
    {
     "name": "stdout",
     "output_type": "stream",
     "text": [
      "Company exp_realty is added to the graph.\n"
     ]
    },
    {
     "name": "stderr",
     "output_type": "stream",
     "text": [
      " 84%|████████▍ | 1161/1386 [11:02<02:00,  1.87it/s]"
     ]
    },
    {
     "name": "stdout",
     "output_type": "stream",
     "text": [
      "Company human_interest is added to the graph.\n"
     ]
    },
    {
     "name": "stderr",
     "output_type": "stream",
     "text": [
      " 84%|████████▍ | 1162/1386 [11:02<01:55,  1.94it/s]"
     ]
    },
    {
     "name": "stdout",
     "output_type": "stream",
     "text": [
      "Company intelliflo is added to the graph.\n"
     ]
    },
    {
     "name": "stderr",
     "output_type": "stream",
     "text": [
      " 84%|████████▍ | 1163/1386 [11:03<02:23,  1.55it/s]"
     ]
    },
    {
     "name": "stdout",
     "output_type": "stream",
     "text": [
      "Company lenovo is added to the graph.\n"
     ]
    },
    {
     "name": "stderr",
     "output_type": "stream",
     "text": [
      " 84%|████████▍ | 1164/1386 [11:04<02:22,  1.56it/s]"
     ]
    },
    {
     "name": "stdout",
     "output_type": "stream",
     "text": [
      "Company mobetize is added to the graph.\n"
     ]
    },
    {
     "name": "stderr",
     "output_type": "stream",
     "text": [
      " 84%|████████▍ | 1165/1386 [11:05<03:13,  1.14it/s]"
     ]
    },
    {
     "name": "stdout",
     "output_type": "stream",
     "text": [
      "Company anthesis is added to the graph.\n"
     ]
    },
    {
     "name": "stderr",
     "output_type": "stream",
     "text": [
      " 84%|████████▍ | 1166/1386 [11:06<02:46,  1.32it/s]"
     ]
    },
    {
     "name": "stdout",
     "output_type": "stream",
     "text": [
      "Company evolve_mga is added to the graph.\n"
     ]
    },
    {
     "name": "stderr",
     "output_type": "stream",
     "text": [
      " 84%|████████▍ | 1167/1386 [11:06<02:39,  1.37it/s]"
     ]
    },
    {
     "name": "stdout",
     "output_type": "stream",
     "text": [
      "Company power_design is added to the graph.\n"
     ]
    },
    {
     "name": "stderr",
     "output_type": "stream",
     "text": [
      " 84%|████████▍ | 1168/1386 [11:07<02:37,  1.38it/s]"
     ]
    },
    {
     "name": "stdout",
     "output_type": "stream",
     "text": [
      "Company alchemy_marketing is added to the graph.\n"
     ]
    },
    {
     "name": "stderr",
     "output_type": "stream",
     "text": [
      " 84%|████████▍ | 1169/1386 [11:07<02:15,  1.60it/s]"
     ]
    },
    {
     "name": "stdout",
     "output_type": "stream",
     "text": [
      "Company bdp_impact_real_estate is added to the graph.\n"
     ]
    },
    {
     "name": "stderr",
     "output_type": "stream",
     "text": [
      " 84%|████████▍ | 1170/1386 [11:08<01:56,  1.86it/s]"
     ]
    },
    {
     "name": "stdout",
     "output_type": "stream",
     "text": [
      "Error: 'NoneType' object has no attribute 'append'\n"
     ]
    },
    {
     "name": "stderr",
     "output_type": "stream",
     "text": [
      " 84%|████████▍ | 1171/1386 [11:08<01:47,  2.00it/s]"
     ]
    },
    {
     "name": "stdout",
     "output_type": "stream",
     "text": [
      "Company proptech_breakthrough is added to the graph.\n"
     ]
    },
    {
     "name": "stderr",
     "output_type": "stream",
     "text": [
      " 85%|████████▍ | 1172/1386 [11:09<01:41,  2.12it/s]"
     ]
    },
    {
     "name": "stdout",
     "output_type": "stream",
     "text": [
      "Company integrity_lash is added to the graph.\n"
     ]
    },
    {
     "name": "stderr",
     "output_type": "stream",
     "text": [
      " 85%|████████▍ | 1173/1386 [11:09<01:37,  2.18it/s]"
     ]
    },
    {
     "name": "stdout",
     "output_type": "stream",
     "text": [
      "Company dunkin' is added to the graph.\n"
     ]
    },
    {
     "name": "stderr",
     "output_type": "stream",
     "text": [
      " 85%|████████▍ | 1174/1386 [11:10<01:49,  1.93it/s]"
     ]
    },
    {
     "name": "stdout",
     "output_type": "stream",
     "text": [
      "Company blackstone is added to the graph.\n"
     ]
    },
    {
     "name": "stderr",
     "output_type": "stream",
     "text": [
      " 85%|████████▍ | 1175/1386 [11:10<01:46,  1.99it/s]"
     ]
    },
    {
     "name": "stdout",
     "output_type": "stream",
     "text": [
      "Company midwest_transit_system is added to the graph.\n"
     ]
    },
    {
     "name": "stderr",
     "output_type": "stream",
     "text": [
      " 85%|████████▍ | 1176/1386 [11:11<02:18,  1.52it/s]"
     ]
    },
    {
     "name": "stdout",
     "output_type": "stream",
     "text": [
      "Company fringe is added to the graph.\n"
     ]
    },
    {
     "name": "stderr",
     "output_type": "stream",
     "text": [
      " 85%|████████▍ | 1177/1386 [11:12<02:08,  1.63it/s]"
     ]
    },
    {
     "name": "stdout",
     "output_type": "stream",
     "text": [
      "Company vexcel_imaging is added to the graph.\n"
     ]
    },
    {
     "name": "stderr",
     "output_type": "stream",
     "text": [
      " 85%|████████▍ | 1178/1386 [11:12<02:03,  1.69it/s]"
     ]
    },
    {
     "name": "stdout",
     "output_type": "stream",
     "text": [
      "Company transamerica is added to the graph.\n"
     ]
    },
    {
     "name": "stderr",
     "output_type": "stream",
     "text": [
      " 85%|████████▌ | 1179/1386 [11:13<02:15,  1.53it/s]"
     ]
    },
    {
     "name": "stdout",
     "output_type": "stream",
     "text": [
      "Company taycor_financial is added to the graph.\n"
     ]
    },
    {
     "name": "stderr",
     "output_type": "stream",
     "text": [
      " 85%|████████▌ | 1180/1386 [11:14<02:02,  1.68it/s]"
     ]
    },
    {
     "name": "stdout",
     "output_type": "stream",
     "text": [
      "Company griffin_partners is added to the graph.\n"
     ]
    },
    {
     "name": "stderr",
     "output_type": "stream",
     "text": [
      " 85%|████████▌ | 1181/1386 [11:14<01:45,  1.95it/s]"
     ]
    },
    {
     "name": "stdout",
     "output_type": "stream",
     "text": [
      "Error: 'NoneType' object has no attribute 'append'\n"
     ]
    },
    {
     "name": "stderr",
     "output_type": "stream",
     "text": [
      " 85%|████████▌ | 1182/1386 [11:14<01:42,  1.99it/s]"
     ]
    },
    {
     "name": "stdout",
     "output_type": "stream",
     "text": [
      "Company credit_union_of_texas is added to the graph.\n"
     ]
    },
    {
     "name": "stderr",
     "output_type": "stream",
     "text": [
      " 85%|████████▌ | 1183/1386 [11:15<02:19,  1.46it/s]"
     ]
    },
    {
     "name": "stdout",
     "output_type": "stream",
     "text": [
      "Company fat_brands is added to the graph.\n"
     ]
    },
    {
     "name": "stderr",
     "output_type": "stream",
     "text": [
      " 85%|████████▌ | 1184/1386 [11:16<02:01,  1.66it/s]"
     ]
    },
    {
     "name": "stdout",
     "output_type": "stream",
     "text": [
      "Company cryptocompare is added to the graph.\n"
     ]
    },
    {
     "name": "stderr",
     "output_type": "stream",
     "text": [
      " 85%|████████▌ | 1185/1386 [11:16<02:00,  1.66it/s]"
     ]
    },
    {
     "name": "stdout",
     "output_type": "stream",
     "text": [
      "Company ns_builders is added to the graph.\n"
     ]
    },
    {
     "name": "stderr",
     "output_type": "stream",
     "text": [
      " 86%|████████▌ | 1186/1386 [11:17<01:52,  1.79it/s]"
     ]
    },
    {
     "name": "stdout",
     "output_type": "stream",
     "text": [
      "Company haynes_mechanical is added to the graph.\n"
     ]
    },
    {
     "name": "stderr",
     "output_type": "stream",
     "text": [
      " 86%|████████▌ | 1187/1386 [11:17<01:43,  1.92it/s]"
     ]
    },
    {
     "name": "stdout",
     "output_type": "stream",
     "text": [
      "Company media_red is added to the graph.\n"
     ]
    },
    {
     "name": "stderr",
     "output_type": "stream",
     "text": [
      " 86%|████████▌ | 1188/1386 [11:18<01:39,  2.00it/s]"
     ]
    },
    {
     "name": "stdout",
     "output_type": "stream",
     "text": [
      "Company lucerne_capital is added to the graph.\n"
     ]
    },
    {
     "name": "stderr",
     "output_type": "stream",
     "text": [
      " 86%|████████▌ | 1189/1386 [11:18<01:41,  1.94it/s]"
     ]
    },
    {
     "name": "stdout",
     "output_type": "stream",
     "text": [
      "Company digital_realty is added to the graph.\n"
     ]
    },
    {
     "name": "stderr",
     "output_type": "stream",
     "text": [
      " 86%|████████▌ | 1190/1386 [11:19<01:51,  1.76it/s]"
     ]
    },
    {
     "name": "stdout",
     "output_type": "stream",
     "text": [
      "Company western_home_communities is added to the graph.\n"
     ]
    },
    {
     "name": "stderr",
     "output_type": "stream",
     "text": [
      " 86%|████████▌ | 1191/1386 [11:19<01:43,  1.89it/s]"
     ]
    },
    {
     "name": "stdout",
     "output_type": "stream",
     "text": [
      "Company aquila_capital is added to the graph.\n"
     ]
    },
    {
     "name": "stderr",
     "output_type": "stream",
     "text": [
      " 86%|████████▌ | 1192/1386 [11:20<01:41,  1.91it/s]"
     ]
    },
    {
     "name": "stdout",
     "output_type": "stream",
     "text": [
      "Company dalmore is added to the graph.\n"
     ]
    },
    {
     "name": "stderr",
     "output_type": "stream",
     "text": [
      " 86%|████████▌ | 1193/1386 [11:21<02:10,  1.48it/s]"
     ]
    },
    {
     "name": "stdout",
     "output_type": "stream",
     "text": [
      "Company firstchoice_marshberry is added to the graph.\n"
     ]
    },
    {
     "name": "stderr",
     "output_type": "stream",
     "text": [
      " 86%|████████▌ | 1194/1386 [11:21<01:49,  1.75it/s]"
     ]
    },
    {
     "name": "stdout",
     "output_type": "stream",
     "text": [
      "Error: 'NoneType' object has no attribute 'append'\n"
     ]
    },
    {
     "name": "stderr",
     "output_type": "stream",
     "text": [
      " 86%|████████▌ | 1195/1386 [11:22<01:40,  1.90it/s]"
     ]
    },
    {
     "name": "stdout",
     "output_type": "stream",
     "text": [
      "Company vaneck is added to the graph.\n"
     ]
    },
    {
     "name": "stderr",
     "output_type": "stream",
     "text": [
      " 86%|████████▋ | 1196/1386 [11:22<01:33,  2.04it/s]"
     ]
    },
    {
     "name": "stdout",
     "output_type": "stream",
     "text": [
      "Company 1st_national_bank_of_scotia is added to the graph.\n"
     ]
    },
    {
     "name": "stderr",
     "output_type": "stream",
     "text": [
      " 86%|████████▋ | 1197/1386 [11:23<01:26,  2.18it/s]"
     ]
    },
    {
     "name": "stdout",
     "output_type": "stream",
     "text": [
      "Company longo_custom_builders is added to the graph.\n"
     ]
    },
    {
     "name": "stderr",
     "output_type": "stream",
     "text": [
      " 86%|████████▋ | 1198/1386 [11:23<01:18,  2.41it/s]"
     ]
    },
    {
     "name": "stdout",
     "output_type": "stream",
     "text": [
      "Error: 'NoneType' object has no attribute 'append'\n"
     ]
    },
    {
     "name": "stderr",
     "output_type": "stream",
     "text": [
      " 87%|████████▋ | 1199/1386 [11:24<01:35,  1.95it/s]"
     ]
    },
    {
     "name": "stdout",
     "output_type": "stream",
     "text": [
      "Company synthetix is added to the graph.\n"
     ]
    },
    {
     "name": "stderr",
     "output_type": "stream",
     "text": [
      " 87%|████████▋ | 1200/1386 [11:24<01:32,  2.01it/s]"
     ]
    },
    {
     "name": "stdout",
     "output_type": "stream",
     "text": [
      "Company cathay_bank is added to the graph.\n"
     ]
    },
    {
     "name": "stderr",
     "output_type": "stream",
     "text": [
      " 87%|████████▋ | 1201/1386 [11:24<01:24,  2.19it/s]"
     ]
    },
    {
     "name": "stdout",
     "output_type": "stream",
     "text": [
      "Company w_financial is added to the graph.\n"
     ]
    },
    {
     "name": "stderr",
     "output_type": "stream",
     "text": [
      " 87%|████████▋ | 1202/1386 [11:25<01:25,  2.15it/s]"
     ]
    },
    {
     "name": "stdout",
     "output_type": "stream",
     "text": [
      "Company substack is added to the graph.\n"
     ]
    },
    {
     "name": "stderr",
     "output_type": "stream",
     "text": [
      " 87%|████████▋ | 1203/1386 [11:25<01:22,  2.22it/s]"
     ]
    },
    {
     "name": "stdout",
     "output_type": "stream",
     "text": [
      "Company lane_health is added to the graph.\n"
     ]
    },
    {
     "name": "stderr",
     "output_type": "stream",
     "text": [
      " 87%|████████▋ | 1204/1386 [11:26<01:23,  2.18it/s]"
     ]
    },
    {
     "name": "stdout",
     "output_type": "stream",
     "text": [
      "Company nar is added to the graph.\n"
     ]
    },
    {
     "name": "stderr",
     "output_type": "stream",
     "text": [
      " 87%|████████▋ | 1205/1386 [11:26<01:17,  2.34it/s]"
     ]
    },
    {
     "name": "stdout",
     "output_type": "stream",
     "text": [
      "Company fj_capital_management is added to the graph.\n"
     ]
    },
    {
     "name": "stderr",
     "output_type": "stream",
     "text": [
      " 87%|████████▋ | 1206/1386 [11:27<01:13,  2.44it/s]"
     ]
    },
    {
     "name": "stdout",
     "output_type": "stream",
     "text": [
      "Company backoffice_thinking is added to the graph.\n"
     ]
    },
    {
     "name": "stderr",
     "output_type": "stream",
     "text": [
      " 87%|████████▋ | 1207/1386 [11:28<02:14,  1.33it/s]"
     ]
    },
    {
     "name": "stdout",
     "output_type": "stream",
     "text": [
      "Company simple_mills is added to the graph.\n"
     ]
    },
    {
     "name": "stderr",
     "output_type": "stream",
     "text": [
      " 87%|████████▋ | 1208/1386 [11:29<01:59,  1.50it/s]"
     ]
    },
    {
     "name": "stdout",
     "output_type": "stream",
     "text": [
      "Company philip_morgan_consulting is added to the graph.\n"
     ]
    },
    {
     "name": "stderr",
     "output_type": "stream",
     "text": [
      " 87%|████████▋ | 1209/1386 [11:30<02:51,  1.03it/s]"
     ]
    },
    {
     "name": "stdout",
     "output_type": "stream",
     "text": [
      "Company prologis_ventures is added to the graph.\n"
     ]
    },
    {
     "name": "stderr",
     "output_type": "stream",
     "text": [
      " 87%|████████▋ | 1210/1386 [11:31<02:26,  1.20it/s]"
     ]
    },
    {
     "name": "stdout",
     "output_type": "stream",
     "text": [
      "Company legal_&_general is added to the graph.\n"
     ]
    },
    {
     "name": "stderr",
     "output_type": "stream",
     "text": [
      " 87%|████████▋ | 1211/1386 [11:31<02:10,  1.34it/s]"
     ]
    },
    {
     "name": "stdout",
     "output_type": "stream",
     "text": [
      "Company green_motion is added to the graph.\n"
     ]
    },
    {
     "name": "stderr",
     "output_type": "stream",
     "text": [
      " 87%|████████▋ | 1212/1386 [11:32<02:05,  1.39it/s]"
     ]
    },
    {
     "name": "stdout",
     "output_type": "stream",
     "text": [
      "Company geauga_mechanical is added to the graph.\n"
     ]
    },
    {
     "name": "stderr",
     "output_type": "stream",
     "text": [
      " 88%|████████▊ | 1213/1386 [11:32<01:46,  1.62it/s]"
     ]
    },
    {
     "name": "stdout",
     "output_type": "stream",
     "text": [
      "Company boston_partners is added to the graph.\n"
     ]
    },
    {
     "name": "stderr",
     "output_type": "stream",
     "text": [
      " 88%|████████▊ | 1214/1386 [11:33<01:35,  1.80it/s]"
     ]
    },
    {
     "name": "stdout",
     "output_type": "stream",
     "text": [
      "Company smartnumbers is added to the graph.\n"
     ]
    },
    {
     "name": "stderr",
     "output_type": "stream",
     "text": [
      " 88%|████████▊ | 1215/1386 [11:33<01:29,  1.92it/s]"
     ]
    },
    {
     "name": "stdout",
     "output_type": "stream",
     "text": [
      "Company first_car_rental is added to the graph.\n"
     ]
    },
    {
     "name": "stderr",
     "output_type": "stream",
     "text": [
      " 88%|████████▊ | 1216/1386 [11:34<01:54,  1.48it/s]"
     ]
    },
    {
     "name": "stdout",
     "output_type": "stream",
     "text": [
      "Company donorbox is added to the graph.\n"
     ]
    },
    {
     "name": "stderr",
     "output_type": "stream",
     "text": [
      " 88%|████████▊ | 1217/1386 [11:35<01:36,  1.76it/s]"
     ]
    },
    {
     "name": "stdout",
     "output_type": "stream",
     "text": [
      "Error: 'NoneType' object has no attribute 'append'\n"
     ]
    },
    {
     "name": "stderr",
     "output_type": "stream",
     "text": [
      " 88%|████████▊ | 1218/1386 [11:36<02:24,  1.17it/s]"
     ]
    },
    {
     "name": "stdout",
     "output_type": "stream",
     "text": [
      "Company velocityehs is added to the graph.\n"
     ]
    },
    {
     "name": "stderr",
     "output_type": "stream",
     "text": [
      " 88%|████████▊ | 1219/1386 [11:37<02:27,  1.13it/s]"
     ]
    },
    {
     "name": "stdout",
     "output_type": "stream",
     "text": [
      "Company amazon_web_services_aws is added to the graph.\n"
     ]
    },
    {
     "name": "stderr",
     "output_type": "stream",
     "text": [
      " 88%|████████▊ | 1220/1386 [11:37<02:05,  1.32it/s]"
     ]
    },
    {
     "name": "stdout",
     "output_type": "stream",
     "text": [
      "Company the_co_op_credit_union is added to the graph.\n"
     ]
    },
    {
     "name": "stderr",
     "output_type": "stream",
     "text": [
      " 88%|████████▊ | 1221/1386 [11:38<01:49,  1.51it/s]"
     ]
    },
    {
     "name": "stdout",
     "output_type": "stream",
     "text": [
      "Company mirastar is added to the graph.\n"
     ]
    },
    {
     "name": "stderr",
     "output_type": "stream",
     "text": [
      " 88%|████████▊ | 1222/1386 [11:38<01:44,  1.57it/s]"
     ]
    },
    {
     "name": "stdout",
     "output_type": "stream",
     "text": [
      "Company trinity_consultants is added to the graph.\n"
     ]
    },
    {
     "name": "stderr",
     "output_type": "stream",
     "text": [
      " 88%|████████▊ | 1223/1386 [11:39<01:39,  1.63it/s]"
     ]
    },
    {
     "name": "stdout",
     "output_type": "stream",
     "text": [
      "Company finologee is added to the graph.\n"
     ]
    },
    {
     "name": "stderr",
     "output_type": "stream",
     "text": [
      " 88%|████████▊ | 1224/1386 [11:39<01:27,  1.85it/s]"
     ]
    },
    {
     "name": "stdout",
     "output_type": "stream",
     "text": [
      "Company schmitz_&_smith_group is added to the graph.\n"
     ]
    },
    {
     "name": "stderr",
     "output_type": "stream",
     "text": [
      " 88%|████████▊ | 1225/1386 [11:40<01:40,  1.60it/s]"
     ]
    },
    {
     "name": "stdout",
     "output_type": "stream",
     "text": [
      "Company newcore_capital is added to the graph.\n"
     ]
    },
    {
     "name": "stderr",
     "output_type": "stream",
     "text": [
      " 88%|████████▊ | 1226/1386 [11:41<01:34,  1.69it/s]"
     ]
    },
    {
     "name": "stdout",
     "output_type": "stream",
     "text": [
      "Company mutual_underwriters is added to the graph.\n"
     ]
    },
    {
     "name": "stderr",
     "output_type": "stream",
     "text": [
      " 89%|████████▊ | 1227/1386 [11:41<01:25,  1.86it/s]"
     ]
    },
    {
     "name": "stdout",
     "output_type": "stream",
     "text": [
      "Company diversityvendors_com is added to the graph.\n"
     ]
    },
    {
     "name": "stderr",
     "output_type": "stream",
     "text": [
      " 89%|████████▊ | 1228/1386 [11:42<01:27,  1.81it/s]"
     ]
    },
    {
     "name": "stdout",
     "output_type": "stream",
     "text": [
      "Company hashed_health is added to the graph.\n"
     ]
    },
    {
     "name": "stderr",
     "output_type": "stream",
     "text": [
      " 89%|████████▊ | 1229/1386 [11:43<01:39,  1.57it/s]"
     ]
    },
    {
     "name": "stdout",
     "output_type": "stream",
     "text": [
      "Company coyote_software is added to the graph.\n"
     ]
    },
    {
     "name": "stderr",
     "output_type": "stream",
     "text": [
      " 89%|████████▊ | 1230/1386 [11:43<01:28,  1.76it/s]"
     ]
    },
    {
     "name": "stdout",
     "output_type": "stream",
     "text": [
      "Company storage_rentals_of_america is added to the graph.\n"
     ]
    },
    {
     "name": "stderr",
     "output_type": "stream",
     "text": [
      " 89%|████████▉ | 1231/1386 [11:43<01:15,  2.04it/s]"
     ]
    },
    {
     "name": "stdout",
     "output_type": "stream",
     "text": [
      "Error: 'NoneType' object has no attribute 'append'\n"
     ]
    },
    {
     "name": "stderr",
     "output_type": "stream",
     "text": [
      " 89%|████████▉ | 1232/1386 [11:44<01:29,  1.73it/s]"
     ]
    },
    {
     "name": "stdout",
     "output_type": "stream",
     "text": [
      "Company nylas is added to the graph.\n"
     ]
    },
    {
     "name": "stderr",
     "output_type": "stream",
     "text": [
      " 89%|████████▉ | 1233/1386 [11:45<01:25,  1.79it/s]"
     ]
    },
    {
     "name": "stdout",
     "output_type": "stream",
     "text": [
      "Company segue_corporation is added to the graph.\n"
     ]
    },
    {
     "name": "stderr",
     "output_type": "stream",
     "text": [
      " 89%|████████▉ | 1234/1386 [11:45<01:23,  1.83it/s]"
     ]
    },
    {
     "name": "stdout",
     "output_type": "stream",
     "text": [
      "Company basildon_council is added to the graph.\n"
     ]
    },
    {
     "name": "stderr",
     "output_type": "stream",
     "text": [
      " 89%|████████▉ | 1235/1386 [11:46<01:22,  1.84it/s]"
     ]
    },
    {
     "name": "stdout",
     "output_type": "stream",
     "text": [
      "Company equality_asset_management is added to the graph.\n"
     ]
    },
    {
     "name": "stderr",
     "output_type": "stream",
     "text": [
      " 89%|████████▉ | 1236/1386 [11:46<01:21,  1.84it/s]"
     ]
    },
    {
     "name": "stdout",
     "output_type": "stream",
     "text": [
      "Company trillion_digital_assets is added to the graph.\n"
     ]
    },
    {
     "name": "stderr",
     "output_type": "stream",
     "text": [
      " 89%|████████▉ | 1237/1386 [11:47<01:30,  1.65it/s]"
     ]
    },
    {
     "name": "stdout",
     "output_type": "stream",
     "text": [
      "Company clover is added to the graph.\n"
     ]
    },
    {
     "name": "stderr",
     "output_type": "stream",
     "text": [
      " 89%|████████▉ | 1238/1386 [11:48<01:37,  1.51it/s]"
     ]
    },
    {
     "name": "stdout",
     "output_type": "stream",
     "text": [
      "Company angeleffect_co is added to the graph.\n"
     ]
    },
    {
     "name": "stderr",
     "output_type": "stream",
     "text": [
      " 89%|████████▉ | 1239/1386 [11:48<01:26,  1.70it/s]"
     ]
    },
    {
     "name": "stdout",
     "output_type": "stream",
     "text": [
      "Company fever_tree is added to the graph.\n"
     ]
    },
    {
     "name": "stderr",
     "output_type": "stream",
     "text": [
      " 89%|████████▉ | 1240/1386 [11:48<01:15,  1.94it/s]"
     ]
    },
    {
     "name": "stdout",
     "output_type": "stream",
     "text": [
      "Company cortland is added to the graph.\n"
     ]
    },
    {
     "name": "stderr",
     "output_type": "stream",
     "text": [
      " 90%|████████▉ | 1241/1386 [11:49<01:09,  2.09it/s]"
     ]
    },
    {
     "name": "stdout",
     "output_type": "stream",
     "text": [
      "Company mss_capital is added to the graph.\n"
     ]
    },
    {
     "name": "stderr",
     "output_type": "stream",
     "text": [
      " 90%|████████▉ | 1242/1386 [11:50<01:41,  1.42it/s]"
     ]
    },
    {
     "name": "stdout",
     "output_type": "stream",
     "text": [
      "Company jll is added to the graph.\n"
     ]
    },
    {
     "name": "stderr",
     "output_type": "stream",
     "text": [
      " 90%|████████▉ | 1243/1386 [11:51<01:36,  1.48it/s]"
     ]
    },
    {
     "name": "stdout",
     "output_type": "stream",
     "text": [
      "Company connect_one_bank is added to the graph.\n"
     ]
    },
    {
     "name": "stderr",
     "output_type": "stream",
     "text": [
      " 90%|████████▉ | 1244/1386 [11:51<01:34,  1.50it/s]"
     ]
    },
    {
     "name": "stdout",
     "output_type": "stream",
     "text": [
      "Company arthur_d_little is added to the graph.\n"
     ]
    },
    {
     "name": "stderr",
     "output_type": "stream",
     "text": [
      " 90%|████████▉ | 1245/1386 [11:52<01:35,  1.48it/s]"
     ]
    },
    {
     "name": "stdout",
     "output_type": "stream",
     "text": [
      "Company cpa_com is added to the graph.\n"
     ]
    },
    {
     "name": "stderr",
     "output_type": "stream",
     "text": [
      " 90%|████████▉ | 1246/1386 [11:53<01:30,  1.54it/s]"
     ]
    },
    {
     "name": "stdout",
     "output_type": "stream",
     "text": [
      "Company jamf is added to the graph.\n"
     ]
    },
    {
     "name": "stderr",
     "output_type": "stream",
     "text": [
      " 90%|████████▉ | 1247/1386 [11:53<01:25,  1.63it/s]"
     ]
    },
    {
     "name": "stdout",
     "output_type": "stream",
     "text": [
      "Company greenlight_financial_technology is added to the graph.\n"
     ]
    },
    {
     "name": "stderr",
     "output_type": "stream",
     "text": [
      " 90%|█████████ | 1248/1386 [11:54<01:35,  1.44it/s]"
     ]
    },
    {
     "name": "stdout",
     "output_type": "stream",
     "text": [
      "Company pwc is added to the graph.\n"
     ]
    },
    {
     "name": "stderr",
     "output_type": "stream",
     "text": [
      " 90%|█████████ | 1249/1386 [11:55<01:39,  1.37it/s]"
     ]
    },
    {
     "name": "stdout",
     "output_type": "stream",
     "text": [
      "Company supernova is added to the graph.\n"
     ]
    },
    {
     "name": "stderr",
     "output_type": "stream",
     "text": [
      " 90%|█████████ | 1250/1386 [11:56<01:38,  1.38it/s]"
     ]
    },
    {
     "name": "stdout",
     "output_type": "stream",
     "text": [
      "Company family_savings_credit_union is added to the graph.\n"
     ]
    },
    {
     "name": "stderr",
     "output_type": "stream",
     "text": [
      " 90%|█████████ | 1251/1386 [11:56<01:36,  1.40it/s]"
     ]
    },
    {
     "name": "stdout",
     "output_type": "stream",
     "text": [
      "Company outfund is added to the graph.\n"
     ]
    },
    {
     "name": "stderr",
     "output_type": "stream",
     "text": [
      " 90%|█████████ | 1252/1386 [11:57<01:55,  1.16it/s]"
     ]
    },
    {
     "name": "stdout",
     "output_type": "stream",
     "text": [
      "Company jamfeed is added to the graph.\n"
     ]
    },
    {
     "name": "stderr",
     "output_type": "stream",
     "text": [
      " 90%|█████████ | 1253/1386 [11:58<01:37,  1.36it/s]"
     ]
    },
    {
     "name": "stdout",
     "output_type": "stream",
     "text": [
      "Company balsam_brands is added to the graph.\n"
     ]
    },
    {
     "name": "stderr",
     "output_type": "stream",
     "text": [
      " 90%|█████████ | 1254/1386 [11:58<01:27,  1.51it/s]"
     ]
    },
    {
     "name": "stdout",
     "output_type": "stream",
     "text": [
      "Company madison_capital is added to the graph.\n"
     ]
    },
    {
     "name": "stderr",
     "output_type": "stream",
     "text": [
      " 91%|█████████ | 1255/1386 [11:59<01:25,  1.52it/s]"
     ]
    },
    {
     "name": "stdout",
     "output_type": "stream",
     "text": [
      "Company anglin_reichmann_armstrong is added to the graph.\n"
     ]
    },
    {
     "name": "stderr",
     "output_type": "stream",
     "text": [
      " 91%|█████████ | 1256/1386 [11:59<01:15,  1.71it/s]"
     ]
    },
    {
     "name": "stdout",
     "output_type": "stream",
     "text": [
      "Company basis_investment_group is added to the graph.\n"
     ]
    },
    {
     "name": "stderr",
     "output_type": "stream",
     "text": [
      " 91%|█████████ | 1257/1386 [12:00<01:04,  2.00it/s]"
     ]
    },
    {
     "name": "stdout",
     "output_type": "stream",
     "text": [
      "Error: 'NoneType' object has no attribute 'append'\n"
     ]
    },
    {
     "name": "stderr",
     "output_type": "stream",
     "text": [
      " 91%|█████████ | 1258/1386 [12:01<01:41,  1.26it/s]"
     ]
    },
    {
     "name": "stdout",
     "output_type": "stream",
     "text": [
      "Company infuze_cu is added to the graph.\n"
     ]
    },
    {
     "name": "stderr",
     "output_type": "stream",
     "text": [
      " 91%|█████████ | 1259/1386 [12:02<01:34,  1.34it/s]"
     ]
    },
    {
     "name": "stdout",
     "output_type": "stream",
     "text": [
      "Company choice_bank is added to the graph.\n"
     ]
    },
    {
     "name": "stderr",
     "output_type": "stream",
     "text": [
      " 91%|█████████ | 1260/1386 [12:03<01:28,  1.42it/s]"
     ]
    },
    {
     "name": "stdout",
     "output_type": "stream",
     "text": [
      "Company holmes_electric is added to the graph.\n"
     ]
    },
    {
     "name": "stderr",
     "output_type": "stream",
     "text": [
      " 91%|█████████ | 1261/1386 [12:03<01:31,  1.37it/s]"
     ]
    },
    {
     "name": "stdout",
     "output_type": "stream",
     "text": [
      "Company byers_industrial is added to the graph.\n"
     ]
    },
    {
     "name": "stderr",
     "output_type": "stream",
     "text": [
      " 91%|█████████ | 1262/1386 [12:04<01:19,  1.56it/s]"
     ]
    },
    {
     "name": "stdout",
     "output_type": "stream",
     "text": [
      "Company wayne_bank is added to the graph.\n"
     ]
    },
    {
     "name": "stderr",
     "output_type": "stream",
     "text": [
      " 91%|█████████ | 1263/1386 [12:04<01:17,  1.59it/s]"
     ]
    },
    {
     "name": "stdout",
     "output_type": "stream",
     "text": [
      "Company ktrade is added to the graph.\n"
     ]
    },
    {
     "name": "stderr",
     "output_type": "stream",
     "text": [
      " 91%|█████████ | 1264/1386 [12:05<01:15,  1.61it/s]"
     ]
    },
    {
     "name": "stdout",
     "output_type": "stream",
     "text": [
      "Company level_10 is added to the graph.\n"
     ]
    },
    {
     "name": "stderr",
     "output_type": "stream",
     "text": [
      " 91%|█████████▏| 1265/1386 [12:05<01:11,  1.69it/s]"
     ]
    },
    {
     "name": "stdout",
     "output_type": "stream",
     "text": [
      "Company heffernan_insurance_brokers is added to the graph.\n"
     ]
    },
    {
     "name": "stderr",
     "output_type": "stream",
     "text": [
      " 91%|█████████▏| 1266/1386 [12:06<01:04,  1.85it/s]"
     ]
    },
    {
     "name": "stdout",
     "output_type": "stream",
     "text": [
      "Company intelligent_insurance is added to the graph.\n"
     ]
    },
    {
     "name": "stderr",
     "output_type": "stream",
     "text": [
      " 91%|█████████▏| 1267/1386 [12:06<01:02,  1.89it/s]"
     ]
    },
    {
     "name": "stdout",
     "output_type": "stream",
     "text": [
      "Company first_hawaiian_bank is added to the graph.\n"
     ]
    },
    {
     "name": "stderr",
     "output_type": "stream",
     "text": [
      " 91%|█████████▏| 1268/1386 [12:07<01:13,  1.60it/s]"
     ]
    },
    {
     "name": "stdout",
     "output_type": "stream",
     "text": [
      "Company fujitsu is added to the graph.\n"
     ]
    },
    {
     "name": "stderr",
     "output_type": "stream",
     "text": [
      " 92%|█████████▏| 1269/1386 [12:08<01:05,  1.78it/s]"
     ]
    },
    {
     "name": "stdout",
     "output_type": "stream",
     "text": [
      "Company nick_schnyder_law_firm is added to the graph.\n"
     ]
    },
    {
     "name": "stderr",
     "output_type": "stream",
     "text": [
      " 92%|█████████▏| 1270/1386 [12:09<01:34,  1.22it/s]"
     ]
    },
    {
     "name": "stdout",
     "output_type": "stream",
     "text": [
      "Company bill_com is added to the graph.\n"
     ]
    },
    {
     "name": "stderr",
     "output_type": "stream",
     "text": [
      " 92%|█████████▏| 1271/1386 [12:10<01:54,  1.01it/s]"
     ]
    },
    {
     "name": "stdout",
     "output_type": "stream",
     "text": [
      "Company ivans is added to the graph.\n"
     ]
    },
    {
     "name": "stderr",
     "output_type": "stream",
     "text": [
      " 92%|█████████▏| 1272/1386 [12:11<01:33,  1.22it/s]"
     ]
    },
    {
     "name": "stdout",
     "output_type": "stream",
     "text": [
      "Company nse_insurance is added to the graph.\n"
     ]
    },
    {
     "name": "stderr",
     "output_type": "stream",
     "text": [
      " 92%|█████████▏| 1273/1386 [12:12<01:29,  1.27it/s]"
     ]
    },
    {
     "name": "stdout",
     "output_type": "stream",
     "text": [
      "Company santander_bank is added to the graph.\n"
     ]
    },
    {
     "name": "stderr",
     "output_type": "stream",
     "text": [
      " 92%|█████████▏| 1274/1386 [12:12<01:25,  1.31it/s]"
     ]
    },
    {
     "name": "stdout",
     "output_type": "stream",
     "text": [
      "Company experian is added to the graph.\n"
     ]
    },
    {
     "name": "stderr",
     "output_type": "stream",
     "text": [
      " 92%|█████████▏| 1275/1386 [12:13<01:25,  1.30it/s]"
     ]
    },
    {
     "name": "stdout",
     "output_type": "stream",
     "text": [
      "Company orion180 is added to the graph.\n"
     ]
    },
    {
     "name": "stderr",
     "output_type": "stream",
     "text": [
      " 92%|█████████▏| 1276/1386 [12:14<01:18,  1.40it/s]"
     ]
    },
    {
     "name": "stdout",
     "output_type": "stream",
     "text": [
      "Company infosourcing_inc is added to the graph.\n"
     ]
    },
    {
     "name": "stderr",
     "output_type": "stream",
     "text": [
      " 92%|█████████▏| 1277/1386 [12:14<01:11,  1.52it/s]"
     ]
    },
    {
     "name": "stdout",
     "output_type": "stream",
     "text": [
      "Company anastasia_beverly_hills is added to the graph.\n"
     ]
    },
    {
     "name": "stderr",
     "output_type": "stream",
     "text": [
      " 92%|█████████▏| 1278/1386 [12:16<01:38,  1.10it/s]"
     ]
    },
    {
     "name": "stdout",
     "output_type": "stream",
     "text": [
      "Company twilio is added to the graph.\n"
     ]
    },
    {
     "name": "stderr",
     "output_type": "stream",
     "text": [
      " 92%|█████████▏| 1279/1386 [12:16<01:28,  1.22it/s]"
     ]
    },
    {
     "name": "stdout",
     "output_type": "stream",
     "text": [
      "Company sinclair is added to the graph.\n"
     ]
    },
    {
     "name": "stderr",
     "output_type": "stream",
     "text": [
      " 92%|█████████▏| 1280/1386 [12:17<01:15,  1.40it/s]"
     ]
    },
    {
     "name": "stdout",
     "output_type": "stream",
     "text": [
      "Company a_to_b_hauling is added to the graph.\n"
     ]
    },
    {
     "name": "stderr",
     "output_type": "stream",
     "text": [
      " 92%|█████████▏| 1281/1386 [12:17<01:13,  1.43it/s]"
     ]
    },
    {
     "name": "stdout",
     "output_type": "stream",
     "text": [
      "Company southface is added to the graph.\n"
     ]
    },
    {
     "name": "stderr",
     "output_type": "stream",
     "text": [
      " 92%|█████████▏| 1282/1386 [12:18<01:24,  1.24it/s]"
     ]
    },
    {
     "name": "stdout",
     "output_type": "stream",
     "text": [
      "Company kpmg is added to the graph.\n"
     ]
    },
    {
     "name": "stderr",
     "output_type": "stream",
     "text": [
      " 93%|█████████▎| 1283/1386 [12:19<01:14,  1.38it/s]"
     ]
    },
    {
     "name": "stdout",
     "output_type": "stream",
     "text": [
      "Company haven_dispensaries is added to the graph.\n"
     ]
    },
    {
     "name": "stderr",
     "output_type": "stream",
     "text": [
      " 93%|█████████▎| 1284/1386 [12:19<01:03,  1.60it/s]"
     ]
    },
    {
     "name": "stdout",
     "output_type": "stream",
     "text": [
      "Company prince_pizzeria is added to the graph.\n"
     ]
    },
    {
     "name": "stderr",
     "output_type": "stream",
     "text": [
      " 93%|█████████▎| 1285/1386 [12:20<01:01,  1.64it/s]"
     ]
    },
    {
     "name": "stdout",
     "output_type": "stream",
     "text": [
      "Company the_five_star_institute is added to the graph.\n"
     ]
    },
    {
     "name": "stderr",
     "output_type": "stream",
     "text": [
      " 93%|█████████▎| 1286/1386 [12:21<01:00,  1.64it/s]"
     ]
    },
    {
     "name": "stdout",
     "output_type": "stream",
     "text": [
      "Company eaton_realty is added to the graph.\n"
     ]
    },
    {
     "name": "stderr",
     "output_type": "stream",
     "text": [
      " 93%|█████████▎| 1287/1386 [12:22<01:12,  1.37it/s]"
     ]
    },
    {
     "name": "stdout",
     "output_type": "stream",
     "text": [
      "Company connecticut_green_bank is added to the graph.\n"
     ]
    },
    {
     "name": "stderr",
     "output_type": "stream",
     "text": [
      " 93%|█████████▎| 1288/1386 [12:22<01:06,  1.48it/s]"
     ]
    },
    {
     "name": "stdout",
     "output_type": "stream",
     "text": [
      "Company valero is added to the graph.\n"
     ]
    },
    {
     "name": "stderr",
     "output_type": "stream",
     "text": [
      " 93%|█████████▎| 1289/1386 [12:23<01:01,  1.58it/s]"
     ]
    },
    {
     "name": "stdout",
     "output_type": "stream",
     "text": [
      "Company denizbank_com is added to the graph.\n"
     ]
    },
    {
     "name": "stderr",
     "output_type": "stream",
     "text": [
      " 93%|█████████▎| 1290/1386 [12:23<00:59,  1.60it/s]"
     ]
    },
    {
     "name": "stdout",
     "output_type": "stream",
     "text": [
      "Company made_for_gamers is added to the graph.\n"
     ]
    },
    {
     "name": "stderr",
     "output_type": "stream",
     "text": [
      " 93%|█████████▎| 1291/1386 [12:25<01:23,  1.13it/s]"
     ]
    },
    {
     "name": "stdout",
     "output_type": "stream",
     "text": [
      "Company beeline is added to the graph.\n"
     ]
    },
    {
     "name": "stderr",
     "output_type": "stream",
     "text": [
      " 93%|█████████▎| 1292/1386 [12:25<01:13,  1.29it/s]"
     ]
    },
    {
     "name": "stdout",
     "output_type": "stream",
     "text": [
      "Company scouting_sim_family_advisors is added to the graph.\n"
     ]
    },
    {
     "name": "stderr",
     "output_type": "stream",
     "text": [
      " 93%|█████████▎| 1293/1386 [12:26<01:01,  1.51it/s]"
     ]
    },
    {
     "name": "stdout",
     "output_type": "stream",
     "text": [
      "Company the_wolf_rentals is added to the graph.\n"
     ]
    },
    {
     "name": "stderr",
     "output_type": "stream",
     "text": [
      " 93%|█████████▎| 1294/1386 [12:26<00:57,  1.61it/s]"
     ]
    },
    {
     "name": "stdout",
     "output_type": "stream",
     "text": [
      "Company milwaukee_tool is added to the graph.\n"
     ]
    },
    {
     "name": "stderr",
     "output_type": "stream",
     "text": [
      " 93%|█████████▎| 1295/1386 [12:27<00:51,  1.76it/s]"
     ]
    },
    {
     "name": "stdout",
     "output_type": "stream",
     "text": [
      "Company homebridge_financial_services is added to the graph.\n"
     ]
    },
    {
     "name": "stderr",
     "output_type": "stream",
     "text": [
      " 94%|█████████▎| 1296/1386 [12:29<01:39,  1.11s/it]"
     ]
    },
    {
     "name": "stdout",
     "output_type": "stream",
     "text": [
      "Company stripe is added to the graph.\n"
     ]
    },
    {
     "name": "stderr",
     "output_type": "stream",
     "text": [
      " 94%|█████████▎| 1297/1386 [12:30<01:21,  1.09it/s]"
     ]
    },
    {
     "name": "stdout",
     "output_type": "stream",
     "text": [
      "Company t3_sixty is added to the graph.\n"
     ]
    },
    {
     "name": "stderr",
     "output_type": "stream",
     "text": [
      " 94%|█████████▎| 1298/1386 [12:30<01:08,  1.28it/s]"
     ]
    },
    {
     "name": "stdout",
     "output_type": "stream",
     "text": [
      "Company peter_drayton_wines is added to the graph.\n"
     ]
    },
    {
     "name": "stderr",
     "output_type": "stream",
     "text": [
      " 94%|█████████▎| 1299/1386 [12:30<00:57,  1.51it/s]"
     ]
    },
    {
     "name": "stdout",
     "output_type": "stream",
     "text": [
      "Company marchay is added to the graph.\n"
     ]
    },
    {
     "name": "stderr",
     "output_type": "stream",
     "text": [
      " 94%|█████████▍| 1300/1386 [12:31<00:55,  1.54it/s]"
     ]
    },
    {
     "name": "stdout",
     "output_type": "stream",
     "text": [
      "Company y_12_fcu is added to the graph.\n"
     ]
    },
    {
     "name": "stderr",
     "output_type": "stream",
     "text": [
      " 94%|█████████▍| 1301/1386 [12:33<01:21,  1.05it/s]"
     ]
    },
    {
     "name": "stdout",
     "output_type": "stream",
     "text": [
      "Company birmingham_legion_fc is added to the graph.\n"
     ]
    },
    {
     "name": "stderr",
     "output_type": "stream",
     "text": [
      " 94%|█████████▍| 1302/1386 [12:33<01:10,  1.19it/s]"
     ]
    },
    {
     "name": "stdout",
     "output_type": "stream",
     "text": [
      "Company legal_and_general is added to the graph.\n"
     ]
    },
    {
     "name": "stderr",
     "output_type": "stream",
     "text": [
      " 94%|█████████▍| 1303/1386 [12:34<00:59,  1.39it/s]"
     ]
    },
    {
     "name": "stdout",
     "output_type": "stream",
     "text": [
      "Company follow_up_boss is added to the graph.\n"
     ]
    },
    {
     "name": "stderr",
     "output_type": "stream",
     "text": [
      " 94%|█████████▍| 1304/1386 [12:34<00:50,  1.62it/s]"
     ]
    },
    {
     "name": "stdout",
     "output_type": "stream",
     "text": [
      "Company longpoint is added to the graph.\n"
     ]
    },
    {
     "name": "stderr",
     "output_type": "stream",
     "text": [
      " 94%|█████████▍| 1305/1386 [12:34<00:43,  1.85it/s]"
     ]
    },
    {
     "name": "stdout",
     "output_type": "stream",
     "text": [
      "Company hirsch_estates is added to the graph.\n"
     ]
    },
    {
     "name": "stderr",
     "output_type": "stream",
     "text": [
      " 94%|█████████▍| 1306/1386 [12:35<00:37,  2.11it/s]"
     ]
    },
    {
     "name": "stdout",
     "output_type": "stream",
     "text": [
      "Error: 'NoneType' object has no attribute 'append'\n"
     ]
    },
    {
     "name": "stderr",
     "output_type": "stream",
     "text": [
      " 94%|█████████▍| 1307/1386 [12:35<00:33,  2.37it/s]"
     ]
    },
    {
     "name": "stdout",
     "output_type": "stream",
     "text": [
      "Error: 'NoneType' object has no attribute 'append'\n"
     ]
    },
    {
     "name": "stderr",
     "output_type": "stream",
     "text": [
      " 94%|█████████▍| 1308/1386 [12:35<00:33,  2.33it/s]"
     ]
    },
    {
     "name": "stdout",
     "output_type": "stream",
     "text": [
      "Company first_option_bank is added to the graph.\n"
     ]
    },
    {
     "name": "stderr",
     "output_type": "stream",
     "text": [
      " 94%|█████████▍| 1309/1386 [12:36<00:37,  2.05it/s]"
     ]
    },
    {
     "name": "stdout",
     "output_type": "stream",
     "text": [
      "Company rwe is added to the graph.\n"
     ]
    },
    {
     "name": "stderr",
     "output_type": "stream",
     "text": [
      " 95%|█████████▍| 1310/1386 [12:37<00:46,  1.62it/s]"
     ]
    },
    {
     "name": "stdout",
     "output_type": "stream",
     "text": [
      "Company jucy is added to the graph.\n"
     ]
    },
    {
     "name": "stderr",
     "output_type": "stream",
     "text": [
      " 95%|█████████▍| 1311/1386 [12:37<00:42,  1.77it/s]"
     ]
    },
    {
     "name": "stdout",
     "output_type": "stream",
     "text": [
      "Company driving_cleaner_cars is added to the graph.\n"
     ]
    },
    {
     "name": "stderr",
     "output_type": "stream",
     "text": [
      " 95%|█████████▍| 1312/1386 [12:38<00:37,  1.95it/s]"
     ]
    },
    {
     "name": "stdout",
     "output_type": "stream",
     "text": [
      "Company uplift_aerospace is added to the graph.\n"
     ]
    },
    {
     "name": "stderr",
     "output_type": "stream",
     "text": [
      " 95%|█████████▍| 1313/1386 [12:39<00:42,  1.70it/s]"
     ]
    },
    {
     "name": "stdout",
     "output_type": "stream",
     "text": [
      "Company meissner_commercial_real_estate_services is added to the graph.\n"
     ]
    },
    {
     "name": "stderr",
     "output_type": "stream",
     "text": [
      " 95%|█████████▍| 1314/1386 [12:39<00:41,  1.74it/s]"
     ]
    },
    {
     "name": "stdout",
     "output_type": "stream",
     "text": [
      "Company piiac is added to the graph.\n"
     ]
    },
    {
     "name": "stderr",
     "output_type": "stream",
     "text": [
      " 95%|█████████▍| 1315/1386 [12:40<00:42,  1.69it/s]"
     ]
    },
    {
     "name": "stdout",
     "output_type": "stream",
     "text": [
      "Company cardless is added to the graph.\n"
     ]
    },
    {
     "name": "stderr",
     "output_type": "stream",
     "text": [
      " 95%|█████████▍| 1316/1386 [12:40<00:42,  1.65it/s]"
     ]
    },
    {
     "name": "stdout",
     "output_type": "stream",
     "text": [
      "Company idology is added to the graph.\n"
     ]
    },
    {
     "name": "stderr",
     "output_type": "stream",
     "text": [
      " 95%|█████████▌| 1317/1386 [12:41<00:37,  1.85it/s]"
     ]
    },
    {
     "name": "stdout",
     "output_type": "stream",
     "text": [
      "Company crisis_text_line is added to the graph.\n"
     ]
    },
    {
     "name": "stderr",
     "output_type": "stream",
     "text": [
      " 95%|█████████▌| 1318/1386 [12:41<00:36,  1.87it/s]"
     ]
    },
    {
     "name": "stdout",
     "output_type": "stream",
     "text": [
      "Company torpago is added to the graph.\n"
     ]
    },
    {
     "name": "stderr",
     "output_type": "stream",
     "text": [
      " 95%|█████████▌| 1319/1386 [12:42<00:34,  1.95it/s]"
     ]
    },
    {
     "name": "stdout",
     "output_type": "stream",
     "text": [
      "Company primelending is added to the graph.\n"
     ]
    },
    {
     "name": "stderr",
     "output_type": "stream",
     "text": [
      " 95%|█████████▌| 1320/1386 [12:42<00:35,  1.86it/s]"
     ]
    },
    {
     "name": "stdout",
     "output_type": "stream",
     "text": [
      "Company faubourg_brewing_co_ is added to the graph.\n"
     ]
    },
    {
     "name": "stderr",
     "output_type": "stream",
     "text": [
      " 95%|█████████▌| 1321/1386 [12:43<00:34,  1.90it/s]"
     ]
    },
    {
     "name": "stdout",
     "output_type": "stream",
     "text": [
      "Company betterment is added to the graph.\n"
     ]
    },
    {
     "name": "stderr",
     "output_type": "stream",
     "text": [
      " 95%|█████████▌| 1322/1386 [12:44<00:36,  1.74it/s]"
     ]
    },
    {
     "name": "stdout",
     "output_type": "stream",
     "text": [
      "Company ally is added to the graph.\n"
     ]
    },
    {
     "name": "stderr",
     "output_type": "stream",
     "text": [
      " 95%|█████████▌| 1323/1386 [12:44<00:34,  1.84it/s]"
     ]
    },
    {
     "name": "stdout",
     "output_type": "stream",
     "text": [
      "Company arnold_clark is added to the graph.\n"
     ]
    },
    {
     "name": "stderr",
     "output_type": "stream",
     "text": [
      " 96%|█████████▌| 1324/1386 [12:44<00:30,  2.01it/s]"
     ]
    },
    {
     "name": "stdout",
     "output_type": "stream",
     "text": [
      "Company quality_asset_management is added to the graph.\n"
     ]
    },
    {
     "name": "stderr",
     "output_type": "stream",
     "text": [
      " 96%|█████████▌| 1325/1386 [12:45<00:31,  1.95it/s]"
     ]
    },
    {
     "name": "stdout",
     "output_type": "stream",
     "text": [
      "Company cytora is added to the graph.\n"
     ]
    },
    {
     "name": "stderr",
     "output_type": "stream",
     "text": [
      " 96%|█████████▌| 1326/1386 [12:46<00:33,  1.78it/s]"
     ]
    },
    {
     "name": "stdout",
     "output_type": "stream",
     "text": [
      "Company aonedge is added to the graph.\n"
     ]
    },
    {
     "name": "stderr",
     "output_type": "stream",
     "text": [
      " 96%|█████████▌| 1327/1386 [12:46<00:32,  1.82it/s]"
     ]
    },
    {
     "name": "stdout",
     "output_type": "stream",
     "text": [
      "Company citizens_business_bank is added to the graph.\n"
     ]
    },
    {
     "name": "stderr",
     "output_type": "stream",
     "text": [
      " 96%|█████████▌| 1328/1386 [12:47<00:29,  1.95it/s]"
     ]
    },
    {
     "name": "stdout",
     "output_type": "stream",
     "text": [
      "Company netflix is added to the graph.\n"
     ]
    },
    {
     "name": "stderr",
     "output_type": "stream",
     "text": [
      " 96%|█████████▌| 1329/1386 [12:47<00:27,  2.06it/s]"
     ]
    },
    {
     "name": "stdout",
     "output_type": "stream",
     "text": [
      "Company compere_robinette_cpas is added to the graph.\n"
     ]
    },
    {
     "name": "stderr",
     "output_type": "stream",
     "text": [
      " 96%|█████████▌| 1330/1386 [12:48<00:32,  1.72it/s]"
     ]
    },
    {
     "name": "stdout",
     "output_type": "stream",
     "text": [
      "Company wipfli is added to the graph.\n"
     ]
    },
    {
     "name": "stderr",
     "output_type": "stream",
     "text": [
      " 96%|█████████▌| 1331/1386 [12:48<00:32,  1.72it/s]"
     ]
    },
    {
     "name": "stdout",
     "output_type": "stream",
     "text": [
      "Company instalend is added to the graph.\n"
     ]
    },
    {
     "name": "stderr",
     "output_type": "stream",
     "text": [
      " 96%|█████████▌| 1332/1386 [12:49<00:28,  1.88it/s]"
     ]
    },
    {
     "name": "stdout",
     "output_type": "stream",
     "text": [
      "Company fragrance_outlet is added to the graph.\n"
     ]
    },
    {
     "name": "stderr",
     "output_type": "stream",
     "text": [
      " 96%|█████████▌| 1333/1386 [12:50<00:30,  1.71it/s]"
     ]
    },
    {
     "name": "stdout",
     "output_type": "stream",
     "text": [
      "Company provencfo is added to the graph.\n"
     ]
    },
    {
     "name": "stderr",
     "output_type": "stream",
     "text": [
      " 96%|█████████▌| 1334/1386 [12:50<00:30,  1.68it/s]"
     ]
    },
    {
     "name": "stdout",
     "output_type": "stream",
     "text": [
      "Company open_door_capital is added to the graph.\n"
     ]
    },
    {
     "name": "stderr",
     "output_type": "stream",
     "text": [
      " 96%|█████████▋| 1335/1386 [12:51<00:27,  1.83it/s]"
     ]
    },
    {
     "name": "stdout",
     "output_type": "stream",
     "text": [
      "Company sentinel_consulting is added to the graph.\n"
     ]
    },
    {
     "name": "stderr",
     "output_type": "stream",
     "text": [
      " 96%|█████████▋| 1336/1386 [12:51<00:25,  2.00it/s]"
     ]
    },
    {
     "name": "stdout",
     "output_type": "stream",
     "text": [
      "Company perpetual_protocol is added to the graph.\n"
     ]
    },
    {
     "name": "stderr",
     "output_type": "stream",
     "text": [
      " 96%|█████████▋| 1337/1386 [12:52<00:25,  1.94it/s]"
     ]
    },
    {
     "name": "stdout",
     "output_type": "stream",
     "text": [
      "Company byline_bank is added to the graph.\n"
     ]
    },
    {
     "name": "stderr",
     "output_type": "stream",
     "text": [
      " 97%|█████████▋| 1338/1386 [12:52<00:24,  1.96it/s]"
     ]
    },
    {
     "name": "stdout",
     "output_type": "stream",
     "text": [
      "Company cabifoods is added to the graph.\n"
     ]
    },
    {
     "name": "stderr",
     "output_type": "stream",
     "text": [
      " 97%|█████████▋| 1339/1386 [12:52<00:22,  2.06it/s]"
     ]
    },
    {
     "name": "stdout",
     "output_type": "stream",
     "text": [
      "Company lincoln_investment is added to the graph.\n"
     ]
    },
    {
     "name": "stderr",
     "output_type": "stream",
     "text": [
      " 97%|█████████▋| 1340/1386 [12:53<00:23,  1.94it/s]"
     ]
    },
    {
     "name": "stdout",
     "output_type": "stream",
     "text": [
      "Company moore_stephens is added to the graph.\n"
     ]
    },
    {
     "name": "stderr",
     "output_type": "stream",
     "text": [
      " 97%|█████████▋| 1341/1386 [12:53<00:21,  2.05it/s]"
     ]
    },
    {
     "name": "stdout",
     "output_type": "stream",
     "text": [
      "Company princeville_vacation_rentals is added to the graph.\n"
     ]
    },
    {
     "name": "stderr",
     "output_type": "stream",
     "text": [
      " 97%|█████████▋| 1342/1386 [12:54<00:21,  2.07it/s]"
     ]
    },
    {
     "name": "stdout",
     "output_type": "stream",
     "text": [
      "Company vesteda is added to the graph.\n"
     ]
    },
    {
     "name": "stderr",
     "output_type": "stream",
     "text": [
      " 97%|█████████▋| 1343/1386 [12:55<00:23,  1.81it/s]"
     ]
    },
    {
     "name": "stdout",
     "output_type": "stream",
     "text": [
      "Company international_paper is added to the graph.\n"
     ]
    },
    {
     "name": "stderr",
     "output_type": "stream",
     "text": [
      " 97%|█████████▋| 1344/1386 [12:55<00:25,  1.65it/s]"
     ]
    },
    {
     "name": "stdout",
     "output_type": "stream",
     "text": [
      "Company sea_to_sky_insurance is added to the graph.\n"
     ]
    },
    {
     "name": "stderr",
     "output_type": "stream",
     "text": [
      " 97%|█████████▋| 1345/1386 [12:56<00:22,  1.79it/s]"
     ]
    },
    {
     "name": "stdout",
     "output_type": "stream",
     "text": [
      "Company acopia is added to the graph.\n"
     ]
    },
    {
     "name": "stderr",
     "output_type": "stream",
     "text": [
      " 97%|█████████▋| 1346/1386 [12:56<00:20,  1.91it/s]"
     ]
    },
    {
     "name": "stdout",
     "output_type": "stream",
     "text": [
      "Company quickbooks_time is added to the graph.\n"
     ]
    },
    {
     "name": "stderr",
     "output_type": "stream",
     "text": [
      " 97%|█████████▋| 1347/1386 [12:57<00:28,  1.39it/s]"
     ]
    },
    {
     "name": "stdout",
     "output_type": "stream",
     "text": [
      "Company davis_wealth_advisors is added to the graph.\n"
     ]
    },
    {
     "name": "stderr",
     "output_type": "stream",
     "text": [
      " 97%|█████████▋| 1348/1386 [12:58<00:27,  1.39it/s]"
     ]
    },
    {
     "name": "stdout",
     "output_type": "stream",
     "text": [
      "Company carter_towler is added to the graph.\n"
     ]
    },
    {
     "name": "stderr",
     "output_type": "stream",
     "text": [
      " 97%|█████████▋| 1349/1386 [12:59<00:25,  1.45it/s]"
     ]
    },
    {
     "name": "stdout",
     "output_type": "stream",
     "text": [
      "Company equifax is added to the graph.\n"
     ]
    },
    {
     "name": "stderr",
     "output_type": "stream",
     "text": [
      " 97%|█████████▋| 1350/1386 [12:59<00:20,  1.73it/s]"
     ]
    },
    {
     "name": "stdout",
     "output_type": "stream",
     "text": [
      "Error: 'NoneType' object has no attribute 'append'\n"
     ]
    },
    {
     "name": "stderr",
     "output_type": "stream",
     "text": [
      " 97%|█████████▋| 1351/1386 [12:59<00:17,  2.01it/s]"
     ]
    },
    {
     "name": "stdout",
     "output_type": "stream",
     "text": [
      "Error: 'NoneType' object has no attribute 'append'\n"
     ]
    },
    {
     "name": "stderr",
     "output_type": "stream",
     "text": [
      " 98%|█████████▊| 1352/1386 [13:01<00:23,  1.42it/s]"
     ]
    },
    {
     "name": "stdout",
     "output_type": "stream",
     "text": [
      "Company prosperity_home_mortgage is added to the graph.\n"
     ]
    },
    {
     "name": "stderr",
     "output_type": "stream",
     "text": [
      " 98%|█████████▊| 1353/1386 [13:01<00:20,  1.59it/s]"
     ]
    },
    {
     "name": "stdout",
     "output_type": "stream",
     "text": [
      "Company troia_foods is added to the graph.\n"
     ]
    },
    {
     "name": "stderr",
     "output_type": "stream",
     "text": [
      " 98%|█████████▊| 1354/1386 [13:01<00:17,  1.82it/s]"
     ]
    },
    {
     "name": "stdout",
     "output_type": "stream",
     "text": [
      "Error: 'NoneType' object has no attribute 'append'\n"
     ]
    },
    {
     "name": "stderr",
     "output_type": "stream",
     "text": [
      " 98%|█████████▊| 1355/1386 [13:02<00:16,  1.93it/s]"
     ]
    },
    {
     "name": "stdout",
     "output_type": "stream",
     "text": [
      "Company premier_agent_network is added to the graph.\n"
     ]
    },
    {
     "name": "stderr",
     "output_type": "stream",
     "text": [
      " 98%|█████████▊| 1356/1386 [13:02<00:14,  2.11it/s]"
     ]
    },
    {
     "name": "stdout",
     "output_type": "stream",
     "text": [
      "Company family_business_funding is added to the graph.\n"
     ]
    },
    {
     "name": "stderr",
     "output_type": "stream",
     "text": [
      " 98%|█████████▊| 1357/1386 [13:03<00:12,  2.35it/s]"
     ]
    },
    {
     "name": "stdout",
     "output_type": "stream",
     "text": [
      "Error: 'NoneType' object has no attribute 'append'\n"
     ]
    },
    {
     "name": "stderr",
     "output_type": "stream",
     "text": [
      " 98%|█████████▊| 1358/1386 [13:03<00:11,  2.40it/s]"
     ]
    },
    {
     "name": "stdout",
     "output_type": "stream",
     "text": [
      "Company stags is added to the graph.\n"
     ]
    },
    {
     "name": "stderr",
     "output_type": "stream",
     "text": [
      " 98%|█████████▊| 1359/1386 [13:04<00:14,  1.85it/s]"
     ]
    },
    {
     "name": "stdout",
     "output_type": "stream",
     "text": [
      "Company garden_communities is added to the graph.\n"
     ]
    },
    {
     "name": "stderr",
     "output_type": "stream",
     "text": [
      " 98%|█████████▊| 1360/1386 [13:04<00:13,  1.97it/s]"
     ]
    },
    {
     "name": "stdout",
     "output_type": "stream",
     "text": [
      "Company anniemac_home_mortgage is added to the graph.\n"
     ]
    },
    {
     "name": "stderr",
     "output_type": "stream",
     "text": [
      " 98%|█████████▊| 1361/1386 [13:05<00:11,  2.16it/s]"
     ]
    },
    {
     "name": "stdout",
     "output_type": "stream",
     "text": [
      "Error: 'NoneType' object has no attribute 'append'\n"
     ]
    },
    {
     "name": "stderr",
     "output_type": "stream",
     "text": [
      " 98%|█████████▊| 1362/1386 [13:05<00:10,  2.22it/s]"
     ]
    },
    {
     "name": "stdout",
     "output_type": "stream",
     "text": [
      "Company afterpay is added to the graph.\n"
     ]
    },
    {
     "name": "stderr",
     "output_type": "stream",
     "text": [
      " 98%|█████████▊| 1363/1386 [13:05<00:09,  2.33it/s]"
     ]
    },
    {
     "name": "stdout",
     "output_type": "stream",
     "text": [
      "Company xenolith_partners is added to the graph.\n"
     ]
    },
    {
     "name": "stderr",
     "output_type": "stream",
     "text": [
      " 98%|█████████▊| 1364/1386 [13:06<00:09,  2.20it/s]"
     ]
    },
    {
     "name": "stdout",
     "output_type": "stream",
     "text": [
      "Company xe is added to the graph.\n"
     ]
    },
    {
     "name": "stderr",
     "output_type": "stream",
     "text": [
      " 98%|█████████▊| 1365/1386 [13:06<00:10,  2.03it/s]"
     ]
    },
    {
     "name": "stdout",
     "output_type": "stream",
     "text": [
      "Company 1st_capital_bank is added to the graph.\n"
     ]
    },
    {
     "name": "stderr",
     "output_type": "stream",
     "text": [
      " 99%|█████████▊| 1366/1386 [13:07<00:10,  1.99it/s]"
     ]
    },
    {
     "name": "stdout",
     "output_type": "stream",
     "text": [
      "Company 2life_communities is added to the graph.\n"
     ]
    },
    {
     "name": "stderr",
     "output_type": "stream",
     "text": [
      " 99%|█████████▊| 1367/1386 [13:07<00:09,  2.03it/s]"
     ]
    },
    {
     "name": "stdout",
     "output_type": "stream",
     "text": [
      "Company hotel_pommier is added to the graph.\n"
     ]
    },
    {
     "name": "stderr",
     "output_type": "stream",
     "text": [
      " 99%|█████████▊| 1368/1386 [13:08<00:10,  1.65it/s]"
     ]
    },
    {
     "name": "stdout",
     "output_type": "stream",
     "text": [
      "Company cisco is added to the graph.\n"
     ]
    },
    {
     "name": "stderr",
     "output_type": "stream",
     "text": [
      " 99%|█████████▉| 1369/1386 [13:09<00:10,  1.58it/s]"
     ]
    },
    {
     "name": "stdout",
     "output_type": "stream",
     "text": [
      "Company sanofi is added to the graph.\n"
     ]
    },
    {
     "name": "stderr",
     "output_type": "stream",
     "text": [
      " 99%|█████████▉| 1370/1386 [13:09<00:09,  1.75it/s]"
     ]
    },
    {
     "name": "stdout",
     "output_type": "stream",
     "text": [
      "Company prodege is added to the graph.\n"
     ]
    },
    {
     "name": "stderr",
     "output_type": "stream",
     "text": [
      " 99%|█████████▉| 1371/1386 [13:10<00:08,  1.72it/s]"
     ]
    },
    {
     "name": "stdout",
     "output_type": "stream",
     "text": [
      "Company paragon_insurance is added to the graph.\n"
     ]
    },
    {
     "name": "stderr",
     "output_type": "stream",
     "text": [
      " 99%|█████████▉| 1372/1386 [13:11<00:08,  1.69it/s]"
     ]
    },
    {
     "name": "stdout",
     "output_type": "stream",
     "text": [
      "Company skiis_&_biikes is added to the graph.\n"
     ]
    },
    {
     "name": "stderr",
     "output_type": "stream",
     "text": [
      " 99%|█████████▉| 1373/1386 [13:11<00:06,  1.97it/s]"
     ]
    },
    {
     "name": "stdout",
     "output_type": "stream",
     "text": [
      "Error: 'NoneType' object has no attribute 'append'\n"
     ]
    },
    {
     "name": "stderr",
     "output_type": "stream",
     "text": [
      " 99%|█████████▉| 1374/1386 [13:12<00:06,  1.96it/s]"
     ]
    },
    {
     "name": "stdout",
     "output_type": "stream",
     "text": [
      "Company pacific_life is added to the graph.\n"
     ]
    },
    {
     "name": "stderr",
     "output_type": "stream",
     "text": [
      " 99%|█████████▉| 1375/1386 [13:12<00:05,  2.04it/s]"
     ]
    },
    {
     "name": "stdout",
     "output_type": "stream",
     "text": [
      "Company freddie_mac is added to the graph.\n"
     ]
    },
    {
     "name": "stderr",
     "output_type": "stream",
     "text": [
      " 99%|█████████▉| 1376/1386 [13:12<00:04,  2.07it/s]"
     ]
    },
    {
     "name": "stdout",
     "output_type": "stream",
     "text": [
      "Company dtcc is added to the graph.\n"
     ]
    },
    {
     "name": "stderr",
     "output_type": "stream",
     "text": [
      " 99%|█████████▉| 1377/1386 [13:13<00:05,  1.76it/s]"
     ]
    },
    {
     "name": "stdout",
     "output_type": "stream",
     "text": [
      "Company uhy is added to the graph.\n"
     ]
    },
    {
     "name": "stderr",
     "output_type": "stream",
     "text": [
      " 99%|█████████▉| 1378/1386 [13:14<00:04,  1.69it/s]"
     ]
    },
    {
     "name": "stdout",
     "output_type": "stream",
     "text": [
      "Company natwest is added to the graph.\n"
     ]
    },
    {
     "name": "stderr",
     "output_type": "stream",
     "text": [
      " 99%|█████████▉| 1379/1386 [13:14<00:03,  1.87it/s]"
     ]
    },
    {
     "name": "stdout",
     "output_type": "stream",
     "text": [
      "Company pacesetter_claims_service is added to the graph.\n"
     ]
    },
    {
     "name": "stderr",
     "output_type": "stream",
     "text": [
      "100%|█████████▉| 1380/1386 [13:15<00:02,  2.04it/s]"
     ]
    },
    {
     "name": "stdout",
     "output_type": "stream",
     "text": [
      "Company camden_property_trust is added to the graph.\n"
     ]
    },
    {
     "name": "stderr",
     "output_type": "stream",
     "text": [
      "100%|█████████▉| 1381/1386 [13:15<00:02,  1.80it/s]"
     ]
    },
    {
     "name": "stdout",
     "output_type": "stream",
     "text": [
      "Company impact_com is added to the graph.\n"
     ]
    },
    {
     "name": "stderr",
     "output_type": "stream",
     "text": [
      "100%|█████████▉| 1382/1386 [13:16<00:02,  1.73it/s]"
     ]
    },
    {
     "name": "stdout",
     "output_type": "stream",
     "text": [
      "Company starling_bank is added to the graph.\n"
     ]
    },
    {
     "name": "stderr",
     "output_type": "stream",
     "text": [
      "100%|█████████▉| 1383/1386 [13:16<00:01,  1.92it/s]"
     ]
    },
    {
     "name": "stdout",
     "output_type": "stream",
     "text": [
      "Company atom_limbs is added to the graph.\n"
     ]
    },
    {
     "name": "stderr",
     "output_type": "stream",
     "text": [
      "100%|█████████▉| 1384/1386 [13:17<00:01,  1.75it/s]"
     ]
    },
    {
     "name": "stdout",
     "output_type": "stream",
     "text": [
      "Company paycom is added to the graph.\n"
     ]
    },
    {
     "name": "stderr",
     "output_type": "stream",
     "text": [
      "100%|█████████▉| 1385/1386 [13:18<00:00,  1.74it/s]"
     ]
    },
    {
     "name": "stdout",
     "output_type": "stream",
     "text": [
      "Company cleveland_group is added to the graph.\n"
     ]
    },
    {
     "name": "stderr",
     "output_type": "stream",
     "text": [
      "100%|██████████| 1386/1386 [13:18<00:00,  1.73it/s]"
     ]
    },
    {
     "name": "stdout",
     "output_type": "stream",
     "text": [
      "Company futureverse is added to the graph.\n"
     ]
    },
    {
     "name": "stderr",
     "output_type": "stream",
     "text": [
      "\n"
     ]
    }
   ],
   "source": [
    "doc_list = os.listdir('client_extraction_output')\n",
    "for doc in tqdm(doc_list):\n",
    "    \n",
    "    try:\n",
    "        processed_name = doc.replace('_extraction.json', '')\n",
    "        \n",
    "        extraction_file_path = f'client_extraction_output/{processed_name}_extraction.json'\n",
    "        \n",
    "        kg_construction(processed_name, extraction_file_path)\n",
    "        \n",
    "    except Exception as e:\n",
    "        print(f'Error: {e}')"
   ]
  },
  {
   "cell_type": "code",
   "execution_count": 4,
   "metadata": {},
   "outputs": [
    {
     "name": "stdout",
     "output_type": "stream",
     "text": [
      "Company bennie is added to the graph.\n"
     ]
    }
   ],
   "source": [
    "processed_name = 'bennie'\n",
    "extraction_file_path = f'extraction_output_v2/{processed_name}_extraction.json'\n",
    "kg_construction(processed_name, extraction_file_path)"
   ]
  },
  {
   "cell_type": "code",
   "execution_count": 2,
   "metadata": {},
   "outputs": [],
   "source": [
    "def get_additional_info(processed_name:str, column_name:str, verbose:bool = False):\n",
    "    \n",
    "    try: \n",
    "        df_all = pd.read_csv('data/merge_url_companies.csv')\n",
    "        df_all['companies'] = df_all['companies'].str.replace(r'\\s*\\(.*?\\)\\s*', '', regex=True)\n",
    "        df_all['processed_name'] = df_all['companies'].apply(process_company_name)\n",
    "        \n",
    "        df_select = df_all[df_all['processed_name'] == processed_name]\n",
    "        if len(df_select) > 0:\n",
    "            return df_select[column_name].iloc[0]\n",
    "        else:\n",
    "            return None\n",
    "    except Exception as e:\n",
    "        if verbose:\n",
    "            print(f'Error has occured when searching {processed_name}: {e}')\n",
    "        return None"
   ]
  },
  {
   "cell_type": "code",
   "execution_count": 3,
   "metadata": {},
   "outputs": [],
   "source": [
    "get_additional_info('guesty', 'companies')"
   ]
  },
  {
   "cell_type": "code",
   "execution_count": 10,
   "metadata": {},
   "outputs": [
    {
     "data": {
      "text/plain": [
       "1572"
      ]
     },
     "execution_count": 10,
     "metadata": {},
     "output_type": "execute_result"
    }
   ],
   "source": [
    "data = read_json_file('data/client_info.json')"
   ]
  },
  {
   "cell_type": "code",
   "execution_count": 26,
   "metadata": {},
   "outputs": [
    {
     "name": "stdout",
     "output_type": "stream",
     "text": [
      "Total number of companies: 791\n",
      "Total number of relevant pages: 3217\n",
      "Total number of relevant pages per company: 4.067003792667509\n"
     ]
    }
   ],
   "source": [
    "df = pd.read_csv('data/merge_url_companies.csv')\n",
    "print(f\"Total number of companies: {len(df)}\")\n",
    "print(f\"Total number of relevant pages: {df['num_of_related_urls'].sum()}\")\n",
    "print(f\"Total number of relevant pages per company: {df['num_of_related_urls'].sum()/len(df)}\")"
   ]
  },
  {
   "cell_type": "code",
   "execution_count": 34,
   "metadata": {},
   "outputs": [
    {
     "name": "stdout",
     "output_type": "stream",
     "text": [
      "Errors found at .DS_Store: 'utf-8' codec can't decode byte 0x80 in position 3131: invalid start byte\n",
      "Total number of companies: 1413\n",
      "Total number of relevant pages: 7545\n",
      "Total number of relevant pages per company: 5.339702760084926\n"
     ]
    }
   ],
   "source": [
    "doc_list = os.listdir('client_extraction_summary')\n",
    "num_companies = 0\n",
    "num_pages = 0\n",
    "for doc in doc_list:\n",
    "    try:\n",
    "        data = read_json_file(f'client_extraction_summary/{doc}')\n",
    "        pages = data.keys()\n",
    "        num_companies += 1\n",
    "        valid_pages = [i for i in pages if i not in ['processed_name', 'timestamp', 'url', 'model_name']]\n",
    "        num_pages += len(valid_pages)\n",
    "    except Exception as e:\n",
    "        print(f'Errors found at {doc}: {e}')\n",
    "        \n",
    "print(f\"Total number of companies: {num_companies}\")\n",
    "print(f\"Total number of relevant pages: {num_pages}\")\n",
    "print(f\"Total number of relevant pages per company: {num_pages/num_companies}\")"
   ]
  },
  {
   "cell_type": "markdown",
   "metadata": {},
   "source": [
    "### Trouble shooting"
   ]
  },
  {
   "cell_type": "code",
   "execution_count": null,
   "metadata": {},
   "outputs": [],
   "source": [
    "def troubleshoot_llm_output(processed_name:str, extraction_file_path:str):\n",
    "    \n",
    "    try:\n",
    "        data = read_json_file(extraction_file_path)\n",
    "        clients = data['validated_client_descriptions']\n",
    "        modified = False\n",
    "        product_list = [product['name'] for product in data['product_descriptions']] + [data['summary_product_description']['name']]\n",
    "        \n",
    "        if clients:\n",
    "            for client in clients:\n",
    "                # Troubleshoot 1: If the client's URL == company's URL\n",
    "                if client['url']:\n",
    "                    if client['url'] == data[\"url\"]:\n",
    "                        print(f'Issue found: Client URL == Company URL: Company {processed_name}; Client {client[\"name\"]}; {client[\"url\"]}')\n",
    "                        client['url'] = None\n",
    "                        modified = True\n",
    "                        \n",
    "                # Troubleshoot 2: If product_used is not in the product list previously extracted\n",
    "                if client['product_used'] not in product_list:\n",
    "                    print(f'Issue found: Company {processed_name}; Client {client[\"name\"]}; Product used {client[\"product_used\"]}')\n",
    "                    client['product_used'] = data['summary_product_description']['name']\n",
    "                    modified = True\n",
    "                    \n",
    "        if modified:\n",
    "            write_json_file(extraction_file_path, data)\n",
    "    except Exception as e:\n",
    "        print(f'Error found at {processed_name}: {e}')\n",
    "            \n",
    "    "
   ]
  },
  {
   "cell_type": "markdown",
   "metadata": {},
   "source": [
    "### Troubleshooting 1\n",
    "Issues encountered when client's URL = company's URL\n",
    "\n",
    "Solution: Set those URLs to None"
   ]
  },
  {
   "cell_type": "code",
   "execution_count": 5,
   "metadata": {},
   "outputs": [
    {
     "name": "stdout",
     "output_type": "stream",
     "text": [
      "Issue found: Company goodfolio; Client GOODFOLIO; https://www.goodfolio.com\n",
      "Issue found: Company client_hub; Client Logic Accounting Solutions, Inc; https://www.clienthub.app\n",
      "Error found at .DS_Store: [Errno 2] No such file or directory: 'extraction_output_v2_original/.DS_Store_extraction.json'\n",
      "Issue found: Company hemlane; Client HP2 RESIDENTIAL; https://www.hemlane.com\n",
      "Issue found: Company per_diem; Client Masala Wok and Tikka Shack; https://www.tryperdiem.com\n",
      "Issue found: Company nami_ml; Client Toronto App Factory; https://www.namiml.com\n",
      "Issue found: Company likely_ai; Client 1000calls; https://www.likely.ai\n",
      "Issue found: Company homesearch; Client Peaksons Property Limited; https://www.homesearch.co.uk\n",
      "Issue found: Company workmarket; Client Quantum Installations Group; https://www.workmarket.com\n",
      "Error found at celebrity_agent: 'url'\n",
      "Issue found: Company pf_nexus; Client Debt Capital Advisor Firm; https://www.pfnexus.com\n",
      "Issue found: Company pf_nexus; Client Basso Group Capital Advisors; https://www.pfnexus.com\n",
      "Issue found: Company tooodooo; Client PITECH - WEBHELP; https://www.tooodooo.com\n",
      "Issue found: Company tooodooo; Client SN APILOG - GCC; https://www.tooodooo.com\n",
      "Issue found: Company canopy_connect; Client Marble Insurance Hub; https://www.usecanopy.com\n",
      "Issue found: Company canopy_connect; Client Miner Family Insurance / TWFG; https://www.usecanopy.com\n",
      "Issue found: Company canopy_connect; Client IAOA - Independent Agency Owners Association; https://www.usecanopy.com\n",
      "Issue found: Company deepbrain_ai; Client DeepBrain AI; https://www.deepbrain.io\n",
      "Issue found: Company insurgrid; Client Rob Thomas Insurance Agency; https://www.insurgrid.com\n",
      "Issue found: Company 360factors; Client First Bankt Gateway; https://www.360factors.com\n",
      "Issue found: Company cerebro_capital; Client Asset-light SaaS company; https://www.cerebrocapital.com\n",
      "Issue found: Company bowery; Client Subal Capital Partners; https://www.boweryvaluation.com\n"
     ]
    }
   ],
   "source": [
    "doc_list = os.listdir('extraction_output_v2_original')\n",
    "for doc in doc_list:\n",
    "    \n",
    "    try:\n",
    "        processed_name = doc.replace('_extraction.json', '')\n",
    "        modified = False\n",
    "        extraction_file_path = f'extraction_output_v2_original/{processed_name}_extraction.json'\n",
    "        data = read_json_file(extraction_file_path)\n",
    "        \n",
    "        clients = data['validated_client_descriptions']\n",
    "        \n",
    "        if clients:\n",
    "            for client in clients:\n",
    "                if client['url']:\n",
    "                    if client['url'] == data[\"url\"]:\n",
    "                        print(f'Issue found: Company {processed_name}; Client {client[\"name\"]}; {client[\"url\"]}')\n",
    "        #                 client['url'] = None\n",
    "        #                 modified = True\n",
    "                        \n",
    "        # if modified:\n",
    "        #     write_json_file(extraction_file_path, data)\n",
    "    except Exception as e:\n",
    "        print(f'Error found at {processed_name}: {e}')\n",
    "    "
   ]
  },
  {
   "cell_type": "markdown",
   "metadata": {},
   "source": [
    "### Troubleshooting 2\n",
    "Issues encountered when product used is not in the product list (including NaN)\n",
    "\n",
    "Solution: use the summary product node"
   ]
  },
  {
   "cell_type": "code",
   "execution_count": 6,
   "metadata": {},
   "outputs": [
    {
     "name": "stdout",
     "output_type": "stream",
     "text": [
      "Issue found: Company raken; Client Level 10; Product used None; URL: https://www.rakenapp.com\n",
      "Issue found: Company raken; Client Webcor; Product used None; URL: https://www.rakenapp.com\n",
      "Issue found: Company raken; Client Barton Malow; Product used None; URL: https://www.rakenapp.com\n",
      "Issue found: Company raken; Client Danforth; Product used None; URL: https://www.rakenapp.com\n",
      "Issue found: Company raken; Client Wadman Corp; Product used None; URL: https://www.rakenapp.com\n",
      "Issue found: Company raken; Client Fortis Construction; Product used None; URL: https://www.rakenapp.com\n",
      "Issue found: Company raken; Client D.L. Henricksen; Product used None; URL: https://www.rakenapp.com\n",
      "Issue found: Company raken; Client Central Plumbing; Product used None; URL: https://www.rakenapp.com\n",
      "Issue found: Company raken; Client Kyne Construction; Product used None; URL: https://www.rakenapp.com\n",
      "Issue found: Company crowdbureau; Client CoreLogic; Product used None; URL: https://www.crowdbureau.com\n",
      "Issue found: Company crowdbureau; Client Stone Point Capital and Insight Partners; Product used None; URL: https://www.crowdbureau.com\n",
      "Issue found: Company directid; Client Deliveroo; Product used None; URL: https://www.atto.co\n",
      "Issue found: Company directid; Client Nasdaq; Product used None; URL: https://www.atto.co\n",
      "Issue found: Company directid; Client Royal Bank of Scotland; Product used None; URL: https://www.atto.co\n",
      "Issue found: Company directid; Client XE; Product used None; URL: https://www.atto.co\n",
      "Issue found: Company zenefits; Client Taycor Financial; Product used None; URL: https://www.zenefits.com\n",
      "Issue found: Company zenefits; Client McCarton Foundation; Product used None; URL: https://www.zenefits.com\n",
      "Issue found: Company housecanary; Client Banc of California; Product used None; URL: https://www.housecanary.com\n",
      "Issue found: Company housecanary; Client MortgageHippo; Product used None; URL: https://www.housecanary.com\n",
      "Issue found: Company housecanary; Client Ally; Product used None; URL: https://www.housecanary.com\n",
      "Issue found: Company dash_fi; Client Scott's Cheap Flights; Product used None; URL: https://www.dash.fi\n",
      "Issue found: Company dash_fi; Client Sila Money; Product used None; URL: https://www.dash.fi\n",
      "Issue found: Company cove_tool; Client EUA; Product used None; URL: https://www.cove.tools\n",
      "Issue found: Company cove_tool; Client Fishbeck; Product used None; URL: https://www.cove.tools\n",
      "Issue found: Company cove_tool; Client BVH Architecture; Product used None; URL: https://www.cove.tools\n",
      "Issue found: Company cove_tool; Client Perkins Eastman; Product used None; URL: https://www.cove.tools\n",
      "Issue found: Company cove_tool; Client SmithGroup; Product used None; URL: https://www.cove.tools\n",
      "Issue found: Company cove_tool; Client JLL; Product used None; URL: https://www.cove.tools\n",
      "Issue found: Company cove_tool; Client Southface; Product used None; URL: https://www.cove.tools\n",
      "Issue found: Company cove_tool; Client IMEG; Product used None; URL: https://www.cove.tools\n",
      "Issue found: Company cove_tool; Client SMRT; Product used None; URL: https://www.cove.tools\n",
      "Issue found: Company cove_tool; Client Arup; Product used None; URL: https://www.cove.tools\n",
      "Issue found: Company cove_tool; Client TruexCullins; Product used None; URL: https://www.cove.tools\n",
      "Issue found: Company cove_tool; Client Georgia Tech; Product used None; URL: https://www.cove.tools\n",
      "Issue found: Company zavvie; Client NEO Home Loans; Product used None; URL: https://www.zavvie.com\n",
      "Issue found: Company cleargov; Client ASBO International; Product used None; URL: https://www.cleargov.com\n",
      "Issue found: Company cleargov; Client NACo FSC; Product used None; URL: https://www.cleargov.com\n",
      "Issue found: Company cleargov; Client Black Mountain Software; Product used None; URL: https://www.cleargov.com\n",
      "Issue found: Company cleargov; Client CentralSquare Technologies; Product used None; URL: https://www.cleargov.com\n",
      "Issue found: Company cleargov; Client Software Solutions; Product used None; URL: https://www.cleargov.com\n",
      "Issue found: Company srs; Client City and County of San Francisco; Product used None; URL: https://www.paceworx.com\n",
      "Issue found: Company srs; Client City of Henderson; Product used None; URL: https://www.paceworx.com\n",
      "Issue found: Company srs; Client Governor’s Office of Energy Development; Product used None; URL: https://www.paceworx.com\n",
      "Issue found: Company srs; Client Arlington County; Product used None; URL: https://www.paceworx.com\n",
      "Issue found: Company srs; Client Forstone Capital; Product used None; URL: https://www.paceworx.com\n",
      "Issue found: Company srs; Client Shagbark Lumber; Product used None; URL: https://www.paceworx.com\n",
      "Issue found: Company srs; Client 1090 West Hampden; Product used None; URL: https://www.paceworx.com\n",
      "Issue found: Company srs; Client 2600 Welton; Product used None; URL: https://www.paceworx.com\n",
      "Issue found: Company srs; Client 3198 Blake Street; Product used None; URL: https://www.paceworx.com\n",
      "Issue found: Company srs; Client 3840 North York Street; Product used None; URL: https://www.paceworx.com\n",
      "Issue found: Company srs; Client 651 Corporate Circle; Product used None; URL: https://www.paceworx.com\n",
      "Issue found: Company srs; Client CEAVCO Audio Visual; Product used None; URL: https://www.paceworx.com\n",
      "Issue found: Company srs; Client Forney Museum; Product used None; URL: https://www.paceworx.com\n",
      "Issue found: Company srs; Client Helping Hands Community Partners; Product used None; URL: https://www.paceworx.com\n",
      "Issue found: Company srs; Client Laurel Lane County Club; Product used None; URL: https://www.paceworx.com\n",
      "Issue found: Company srs; Client Mayfly Outdoors; Product used None; URL: https://www.paceworx.com\n",
      "Issue found: Company srs; Client Providence Public Library; Product used None; URL: https://www.paceworx.com\n",
      "Issue found: Company srs; Client Room 214; Product used None; URL: https://www.paceworx.com\n",
      "Issue found: Company srs; Client Shalom Park; Product used None; URL: https://www.paceworx.com\n",
      "Issue found: Company srs; Client The Pad Silverthorne; Product used None; URL: https://www.paceworx.com\n",
      "Issue found: Company srs; Client Vrain Street; Product used None; URL: https://www.paceworx.com\n",
      "Issue found: Company prospectnow; Client Joe G.; Product used None; URL: https://www.prospectnow.com\n",
      "Issue found: Company archway_software; Client WaFd Bank; Product used None; URL: https://www.archwaysoftware.com\n",
      "Issue found: Company cambio; Client Google; Product used None; URL: https://www.cambio.ai\n",
      "Issue found: Company cambio; Client Beacon Capital; Product used None; URL: https://www.cambio.ai\n",
      "Issue found: Company cambio; Client Fifth Wall; Product used None; URL: https://www.cambio.ai\n",
      "Issue found: Company cambio; Client Stanford University; Product used None; URL: https://www.cambio.ai\n",
      "Issue found: Company cambio; Client Twilio; Product used None; URL: https://www.cambio.ai\n",
      "Issue found: Company cambio; Client Whitman Peterson; Product used None; URL: https://www.cambio.ai\n",
      "Issue found: Company cambio; Client Concord Hotels; Product used None; URL: https://www.cambio.ai\n",
      "Issue found: Company cambio; Client NextEra Energy; Product used None; URL: https://www.cambio.ai\n",
      "Issue found: Company cambio; Client Florida Power & Light; Product used None; URL: https://www.cambio.ai\n",
      "Issue found: Company cambio; Client NYSERDA; Product used None; URL: https://www.cambio.ai\n",
      "Issue found: Company cambio; Client Y Combinator; Product used None; URL: https://www.cambio.ai\n",
      "Issue found: Company cambio; Client Longpoint; Product used None; URL: https://www.cambio.ai\n",
      "Issue found: Company cambio; Client GIC; Product used None; URL: https://www.cambio.ai\n",
      "Issue found: Company cambio; Client Allianz; Product used None; URL: https://www.cambio.ai\n",
      "Issue found: Company cambio; Client Peterson Partners; Product used None; URL: https://www.cambio.ai\n",
      "Issue found: Company cambio; Client Mitsui; Product used None; URL: https://www.cambio.ai\n",
      "Issue found: Company cambio; Client AEI Consultants; Product used None; URL: https://www.cambio.ai\n",
      "Issue found: Company cambio; Client Crown Realty Partners; Product used None; URL: https://www.cambio.ai\n",
      "Issue found: Company blaze; Client Legacy Dispensary; Product used None; URL: https://www.blaze.me\n",
      "Issue found: Company blaze; Client MMD Shops; Product used None; URL: https://www.blaze.me\n",
      "Issue found: Company vic_ai; Client Milwaukee Tool; Product used None; URL: https://www.vic.ai\n",
      "Issue found: Company vic_ai; Client Elkjop; Product used None; URL: https://www.vic.ai\n",
      "Issue found: Company vic_ai; Client Strawberry; Product used None; URL: https://www.vic.ai\n",
      "Issue found: Company vic_ai; Client Cogizant; Product used None; URL: https://www.vic.ai\n",
      "Issue found: Company accountancy_cloud; Client MeasureMatch; Product used None; URL: https://www.theaccountancycloud.com\n",
      "Issue found: Company accountancy_cloud; Client Qredo; Product used None; URL: https://www.theaccountancycloud.com\n",
      "Issue found: Company accountancy_cloud; Client Mira Rehab; Product used None; URL: https://www.theaccountancycloud.com\n",
      "Issue found: Company accountancy_cloud; Client Bettor; Product used None; URL: https://www.theaccountancycloud.com\n",
      "Issue found: Company kingfield; Client Largest Global Investment Management Firms; Product used None; URL: https://www.kingfieldcorp.com\n",
      "Issue found: Company kingfield; Client Prime Brokers; Product used None; URL: https://www.kingfieldcorp.com\n",
      "Issue found: Company kingfield; Client Sub Custody Banks; Product used None; URL: https://www.kingfieldcorp.com\n",
      "Issue found: Company goodfolio; Client GOODFOLIO; Product used Investment Platforms, Bespoke Solutions; URL: https://www.goodfolio.com\n",
      "Issue found: Company candoriq; Client Rain; Product used None; URL: https://www.candoriq.com\n",
      "Issue found: Company candoriq; Client Kiddom; Product used None; URL: https://www.candoriq.com\n",
      "Issue found: Company candoriq; Client SigFig; Product used None; URL: https://www.candoriq.com\n",
      "Issue found: Company reconcile; Client Maribella; Product used None; URL: https://www.getreconcile.com\n",
      "Issue found: Company copernic_space; Client SpaceTech Analytics; Product used None; URL: https://www.copernicspace.com\n",
      "Issue found: Company copernic_space; Client Gr@vity; Product used None; URL: https://www.copernicspace.com\n",
      "Issue found: Company copernic_space; Client Adshares; Product used None; URL: https://www.copernicspace.com\n",
      "Issue found: Company sparkchange; Client Neuberger Berman; Product used None; URL: https://www.sparkchange.io\n",
      "Issue found: Company sparkchange; Client Alliance Bernstein; Product used None; URL: https://www.sparkchange.io\n",
      "Issue found: Company sparkchange; Client Sandbar; Product used None; URL: https://www.sparkchange.io\n",
      "Issue found: Company mathlabs; Client Fujitsu; Product used None; URL: https://www.mathlabs.io\n",
      "Issue found: Company mathlabs; Client Arthur D Little; Product used None; URL: https://www.mathlabs.io\n",
      "Issue found: Company mathlabs; Client Deutsche Bank; Product used None; URL: https://www.mathlabs.io\n",
      "Issue found: Company mathlabs; Client Stanley Capital; Product used None; URL: https://www.mathlabs.io\n",
      "Issue found: Company mathlabs; Client Orbia; Product used None; URL: https://www.mathlabs.io\n",
      "Issue found: Company seedlegals; Client Charlie Clarke; Product used None; URL: https://www.seedlegals.com\n",
      "Issue found: Company seedlegals; Client Olivia Sibony; Product used None; URL: https://www.seedlegals.com\n",
      "Issue found: Company aquaoso_technologies; Client The Nature Conservancy; Product used None; URL: https://www.aquaoso.com\n",
      "Issue found: Company aquaoso_technologies; Client Pearson Realty; Product used None; URL: https://www.aquaoso.com\n",
      "Issue found: Company aquaoso_technologies; Client Suncrest Agribusiness Suncrest Bank; Product used None; URL: https://www.aquaoso.com\n",
      "Issue found: Company aquaoso_technologies; Client Valley Republic Bank; Product used None; URL: https://www.aquaoso.com\n",
      "Issue found: Company aquaoso_technologies; Client Zions AgFinance; Product used None; URL: https://www.aquaoso.com\n",
      "Issue found: Company aquaoso_technologies; Client AgriFinancial; Product used None; URL: https://www.aquaoso.com\n",
      "Issue found: Company aquaoso_technologies; Client Mid Valley Financial; Product used None; URL: https://www.aquaoso.com\n",
      "Issue found: Company aquaoso_technologies; Client Golden State Farm Credit; Product used None; URL: https://www.aquaoso.com\n",
      "Issue found: Company aquaoso_technologies; Client Blue Diamond Almonds; Product used None; URL: https://www.aquaoso.com\n",
      "Issue found: Company xignite; Client Addepar; Product used None; URL: https://www.xignite.com\n",
      "Issue found: Company xignite; Client AGP; Product used None; URL: https://www.xignite.com\n",
      "Issue found: Company xignite; Client Charles River; Product used None; URL: https://www.xignite.com\n",
      "Issue found: Company xignite; Client Fitek; Product used None; URL: https://www.xignite.com\n",
      "Issue found: Company xignite; Client Email; Product used None; URL: https://www.xignite.com\n",
      "Issue found: Company xignite; Client fx-loader; Product used None; URL: https://www.xignite.com\n",
      "Issue found: Company xignite; Client Orion; Product used None; URL: https://www.xignite.com\n",
      "Issue found: Company xignite; Client Solactive AG; Product used None; URL: https://www.xignite.com\n",
      "Issue found: Company aora; Client Leading barristers and tax experts in England, Wales and Scotland; Product used None; URL: https://www.aoralaw.com\n",
      "Issue found: Company cobalt_software; Client Underscore VC; Product used None; URL: https://www.cobalt.pe\n",
      "Issue found: Company cobalt_software; Client it|venture; Product used None; URL: https://www.cobalt.pe\n",
      "Issue found: Company cobalt_software; Client Lionpoint; Product used None; URL: https://www.cobalt.pe\n",
      "Issue found: Company cobalt_software; Client Steelbridge; Product used None; URL: https://www.cobalt.pe\n",
      "Issue found: Company realvolve; Client Good Life Real Estate; Product used None; URL: https://www.realvolve.com\n",
      "Issue found: Company realvolve; Client DIGGS; Product used None; URL: https://www.realvolve.com\n",
      "Issue found: Company realvolve; Client Schaible Realty; Product used None; URL: https://www.realvolve.com\n",
      "Issue found: Company realvolve; Client The Realty Advantage Team; Product used None; URL: https://www.realvolve.com\n",
      "Issue found: Company realvolve; Client The Integrity Team - RE/MAX Defined; Product used None; URL: https://www.realvolve.com\n",
      "Issue found: Company realvolve; Client Teri Pacitto Group - RE/MAX Olson & Associates, Inc.; Product used None; URL: https://www.realvolve.com\n",
      "Issue found: Company realvolve; Client William Raveis Real Estate; Product used None; URL: https://www.realvolve.com\n",
      "Issue found: Company realvolve; Client Coldwell Banker Residential Brokerage; Product used None; URL: https://www.realvolve.com\n",
      "Issue found: Company realvolve; Client Berkshire Hathaway; Product used None; URL: https://www.realvolve.com\n",
      "Issue found: Company realvolve; Client Dilbeck Realtors; Product used None; URL: https://www.realvolve.com\n",
      "Issue found: Company realvolve; Client RE/MAX Central Realty; Product used None; URL: https://www.realvolve.com\n",
      "Issue found: Company realvolve; Client RE/MAX Allegiance; Product used None; URL: https://www.realvolve.com\n",
      "Issue found: Company reloquest; Client Altair Global; Product used ReloQuest's innovation in product/service for global mobility solutions; URL: https://www.reloquest.com\n",
      "Issue found: Company gravity_software; Client Weight Watchers of Maine, Inc.; Product used None; URL: https://www.gogravity.com\n",
      "Issue found: Company gravity_software; Client MyDocPlus, LLC; Product used None; URL: https://www.gogravity.com\n",
      "Issue found: Company munirevs; Client Town of Hilton Head Island, SC; Product used None; URL: https://www.munirevs.com\n",
      "Issue found: Company munirevs; Client Oceanside, CA; Product used None; URL: https://www.munirevs.com\n",
      "Issue found: Company arryved; Client Dueling Ducks Brewing; Product used None; URL: https://www.arryved.com\n",
      "Issue found: Company arryved; Client 3 Sheeps Brewing; Product used None; URL: https://www.arryved.com\n",
      "Issue found: Company arryved; Client Orpheus Brewing; Product used None; URL: https://www.arryved.com\n",
      "Issue found: Company acumatica; Client Safety Management Group; Product used None; URL: https://www.acumatica.com\n",
      "Issue found: Company acumatica; Client M3 Technology Group; Product used None; URL: https://www.acumatica.com\n",
      "Error found at .DS_Store: [Errno 2] No such file or directory: 'extraction_output_v2_original/.DS_Store_extraction.json'\n",
      "Issue found: Company awtomic; Client Primal Wine; Product used None; URL: https://www.awtomic.com\n",
      "Issue found: Company awtomic; Client Nikola Winery; Product used None; URL: https://www.awtomic.com\n",
      "Issue found: Company awtomic; Client Wander and Ivy; Product used None; URL: https://www.awtomic.com\n",
      "Issue found: Company awtomic; Client Santolin Wines; Product used None; URL: https://www.awtomic.com\n",
      "Issue found: Company awtomic; Client Peter Drayton Wines; Product used None; URL: https://www.awtomic.com\n",
      "Issue found: Company awtomic; Client Alkoomi; Product used None; URL: https://www.awtomic.com\n",
      "Issue found: Company buildops; Client Dynamic Systems, Inc.; Product used None; URL: https://www.buildops.com\n",
      "Issue found: Company buildops; Client Haynes Mechanical; Product used None; URL: https://www.buildops.com\n",
      "Issue found: Company buildops; Client Baker Electric; Product used None; URL: https://www.buildops.com\n",
      "Issue found: Company buildops; Client The ICE Group; Product used None; URL: https://www.buildops.com\n",
      "Issue found: Company buildops; Client Mechanical Contractors Association of America (MCAA); Product used None; URL: https://www.buildops.com\n",
      "Issue found: Company buildops; Client Mechanical Contractors Association of Canada; Product used None; URL: https://www.buildops.com\n",
      "Issue found: Company buildops; Client Associated Builders and Contractors; Product used None; URL: https://www.buildops.com\n",
      "Issue found: Company buildops; Client ELECTRI International; Product used None; URL: https://www.buildops.com\n",
      "Issue found: Company buildops; Client Holmes Electric; Product used None; URL: https://www.buildops.com\n",
      "Issue found: Company investnext; Client Pasago Investment Management; Product used None; URL: https://www.investnext.com\n",
      "Issue found: Company comprehensive; Client 5,000+ companies; Product used None; URL: https://www.comprehensive.io\n",
      "Issue found: Company aria_systems; Client FirstEnergy; Product used Aria MarketPlace; URL: https://www.ariasystems.com\n",
      "Issue found: Company global_predictions; Client Wells Fargo; Product used None; URL: https://www.globalpredictions.com\n",
      "Issue found: Company global_predictions; Client Charles Schwab Corporation; Product used None; URL: https://www.globalpredictions.com\n",
      "Issue found: Company global_predictions; Client Dividend Watch; Product used None; URL: https://www.globalpredictions.com\n",
      "Issue found: Company global_predictions; Client Kinetick; Product used None; URL: https://www.globalpredictions.com\n",
      "Issue found: Company global_predictions; Client NinjaTrader; Product used None; URL: https://www.globalpredictions.com\n",
      "Issue found: Company global_predictions; Client Stock Unlock; Product used None; URL: https://www.globalpredictions.com\n",
      "Issue found: Company global_predictions; Client Tradier; Product used None; URL: https://www.globalpredictions.com\n",
      "Issue found: Company omnichain; Client Kodiak Cakes; Product used None; URL: https://www.omnichains.com\n",
      "Issue found: Company omnichain; Client Feevr; Product used None; URL: https://www.omnichains.com\n",
      "Issue found: Company omnichain; Client Sani Vend; Product used None; URL: https://www.omnichains.com\n",
      "Issue found: Company omnichain; Client Ruby's Naturals, Inc.; Product used None; URL: https://www.omnichains.com\n",
      "Issue found: Company cirrus; Client Pursuit; Product used None; URL: https://www.cirrussecure.com\n",
      "Issue found: Company mighty; Client Nick Schnyder Law Firm; Product used None; URL: https://www.mighty.com\n",
      "Issue found: Company mighty; Client Gramercy Funding; Product used None; URL: https://www.mighty.com\n",
      "Issue found: Company groov; Client 365; Product used None; URL: https://www.wearegroov.io\n",
      "Issue found: Company groov; Client myPOS; Product used None; URL: https://www.wearegroov.io\n",
      "Issue found: Company groov; Client Fee Checkers; Product used None; URL: https://www.wearegroov.io\n",
      "Issue found: Company groov; Client Accept Cards; Product used None; URL: https://www.wearegroov.io\n",
      "Issue found: Company konsentus; Client Bankdata; Product used None; URL: https://www.konsentus.com\n",
      "Issue found: Company konsentus; Client Knab; Product used None; URL: https://www.konsentus.com\n",
      "Issue found: Company konsentus; Client Finologee; Product used None; URL: https://www.konsentus.com\n",
      "Issue found: Company adwerx; Client RealTrends; Product used None; URL: https://www.adwerx.com\n",
      "Issue found: Company aryeo; Client Studio Gusto; Product used None; URL: https://www.aryeo.com\n",
      "Issue found: Company karbon; Client Pretium Solutions; Product used None; URL: https://www.karbonhq.com\n",
      "Issue found: Company karbon; Client Ivory Planning Group; Product used None; URL: https://www.karbonhq.com\n",
      "Issue found: Company karbon; Client TaxAssist Accountants; Product used None; URL: https://www.karbonhq.com\n",
      "Issue found: Company hope_macy; Client Adage; Product used DataFlex and Affordwise; URL: https://www.hopemacy.com\n",
      "Issue found: Company hope_macy; Client Slick; Product used DataFlex and Affordwise; URL: https://www.hopemacy.com\n",
      "Issue found: Company complete_intelligence; Client Mining; Product used None; URL: https://www.completeintel.com\n",
      "Issue found: Company photoup; Client Daniel M.; Product used Professional Photo Editing, Virtual Assistant Services; URL: https://www.photoup.net\n",
      "Issue found: Company anrok; Client Burkland; Product used None; URL: https://www.anrok.com\n",
      "Issue found: Company anrok; Client Pave; Product used None; URL: https://www.anrok.com\n",
      "Issue found: Company curios; Client Rockreations; Product used None; URL: https://www.curios.com\n",
      "Issue found: Company curios; Client Ana Barajas; Product used None; URL: https://www.curios.com\n",
      "Issue found: Company curios; Client opera; Product used None; URL: https://www.curios.com\n",
      "Issue found: Company curios; Client CAPYAC; Product used None; URL: https://www.curios.com\n",
      "Issue found: Company curios; Client Counterintuitive; Product used None; URL: https://www.curios.com\n",
      "Issue found: Company curios; Client Dee Zee; Product used None; URL: https://www.curios.com\n",
      "Issue found: Company curios; Client Waynehead Winnin'; Product used None; URL: https://www.curios.com\n",
      "Issue found: Company curios; Client Ro James (rojamesxix); Product used None; URL: https://www.curios.com\n",
      "Issue found: Company taxjar; Client Pit Viper; Product used None; URL: https://www.taxjar.com\n",
      "Issue found: Company skribe; Client TAREK FAHMY; Product used None; URL: https://www.skribe.ai\n",
      "Issue found: Company edozo; Client Colliers; Product used None; URL: https://www.edozo.com\n",
      "Issue found: Company adaptive; Client Drake Construction Services; Product used None; URL: https://www.adaptive.build\n",
      "Issue found: Company per_diem; Client Coffee Dose; Product used None; URL: https://www.tryperdiem.com\n",
      "Issue found: Company per_diem; Client Chip City; Product used None; URL: https://www.tryperdiem.com\n",
      "Issue found: Company per_diem; Client Kona Coffee Roasters; Product used None; URL: https://www.tryperdiem.com\n",
      "Issue found: Company per_diem; Client Crema Coffee & Soda; Product used None; URL: https://www.tryperdiem.com\n",
      "Issue found: Company per_diem; Client Oaks Coffee House; Product used None; URL: https://www.tryperdiem.com\n",
      "Issue found: Company per_diem; Client Empire Tea and Coffee; Product used None; URL: https://www.tryperdiem.com\n",
      "Issue found: Company per_diem; Client Kino's Coffee; Product used None; URL: https://www.tryperdiem.com\n",
      "Issue found: Company per_diem; Client Joanie’s; Product used None; URL: https://www.tryperdiem.com\n",
      "Issue found: Company per_diem; Client Niko Niko Boba; Product used None; URL: https://www.tryperdiem.com\n",
      "Issue found: Company per_diem; Client Plomo Quesadillas; Product used None; URL: https://www.tryperdiem.com\n",
      "Issue found: Company per_diem; Client Island Flavor; Product used None; URL: https://www.tryperdiem.com\n",
      "Issue found: Company per_diem; Client Hidden Grounds; Product used None; URL: https://www.tryperdiem.com\n",
      "Issue found: Company per_diem; Client Ambee Coffee; Product used None; URL: https://www.tryperdiem.com\n",
      "Issue found: Company per_diem; Client Kee Wah Bakery; Product used None; URL: https://www.tryperdiem.com\n",
      "Issue found: Company smart_money_people; Client John Lewis; Product used None; URL: https://www.smartmoneypeople.com\n",
      "Issue found: Company creditxpert; Client Equity Mortgage Lending; Product used None; URL: https://www.creditxpert.com\n",
      "Issue found: Company creditxpert; Client HomeBridge Financial Services; Product used None; URL: https://www.creditxpert.com\n",
      "Issue found: Company creditxpert; Client PrimeLending; Product used None; URL: https://www.creditxpert.com\n",
      "Issue found: Company locate; Client Rodney Nelson; Product used None; URL: https://www.locate.ai\n",
      "Issue found: Company locate; Client Bryan Clay; Product used None; URL: https://www.locate.ai\n",
      "Issue found: Company locate; Client Joe Culver; Product used None; URL: https://www.locate.ai\n",
      "Issue found: Company luxury_presence; Client Darlene Streit; Product used None; URL: https://www.luxurypresence.com\n",
      "Issue found: Company luxury_presence; Client Breitenbach Advisory; Product used None; URL: https://www.luxurypresence.com\n",
      "Issue found: Company luxury_presence; Client The Fridman Group; Product used None; URL: https://www.luxurypresence.com\n",
      "Issue found: Company luxury_presence; Client Dawn McKenna; Product used None; URL: https://www.luxurypresence.com\n",
      "Issue found: Company luxury_presence; Client Keller Williams Realty; Product used None; URL: https://www.luxurypresence.com\n",
      "Issue found: Company luxury_presence; Client SERHANT; Product used None; URL: https://www.luxurypresence.com\n",
      "Issue found: Company luxury_presence; Client Gray St. Onge; Product used None; URL: https://www.luxurypresence.com\n",
      "Issue found: Company luxury_presence; Client Giveback Homes; Product used None; URL: https://www.luxurypresence.com\n",
      "Issue found: Company propertybase; Client Moreland Properties; Product used None; URL: https://www.propertybase.com\n",
      "Issue found: Company propertybase; Client 2Costa Rica; Product used None; URL: https://www.propertybase.com\n",
      "Issue found: Company propertybase; Client Jack Conway Company; Product used None; URL: https://www.propertybase.com\n",
      "Issue found: Company propertybase; Client Red Oak Realty; Product used None; URL: https://www.propertybase.com\n",
      "Issue found: Company propertybase; Client BHHS C. Dan Joyner; Product used None; URL: https://www.propertybase.com\n",
      "Issue found: Company propertybase; Client Laer Realty Partners; Product used None; URL: https://www.propertybase.com\n",
      "Issue found: Company propertybase; Client Hawaii Life; Product used None; URL: https://www.propertybase.com\n",
      "Issue found: Company venturespace; Client MongoDB Startup Accelerator; Product used None; URL: https://www.venturespace.nyc\n",
      "Issue found: Company venturespace; Client Apache Spark NLP; Product used None; URL: https://www.venturespace.nyc\n",
      "Issue found: Company alice_cpa; Client Substack; Product used None; URL: https://www.alice.cpa\n",
      "Issue found: Company alice_cpa; Client Levels Health; Product used None; URL: https://www.alice.cpa\n",
      "Issue found: Company alice_cpa; Client Gumroad; Product used None; URL: https://www.alice.cpa\n",
      "Issue found: Company alice_cpa; Client Atom Limbs; Product used None; URL: https://www.alice.cpa\n",
      "Issue found: Company alice_cpa; Client Joyride; Product used None; URL: https://www.alice.cpa\n",
      "Issue found: Company alice_cpa; Client Monday; Product used None; URL: https://www.alice.cpa\n",
      "Issue found: Company alice_cpa; Client Backstage Capital; Product used None; URL: https://www.alice.cpa\n",
      "Issue found: Company alice_cpa; Client Vinovest; Product used None; URL: https://www.alice.cpa\n",
      "Issue found: Company alice_cpa; Client Dalmore; Product used None; URL: https://www.alice.cpa\n",
      "Issue found: Company alice_cpa; Client Republic; Product used None; URL: https://www.alice.cpa\n",
      "Issue found: Company alice_cpa; Client Startengine; Product used None; URL: https://www.alice.cpa\n",
      "Issue found: Company alice_cpa; Client Wefunder; Product used None; URL: https://www.alice.cpa\n",
      "Issue found: Company opcity; Client Kemba Realty; Product used Access pre-screened real estate leads at no upfront cost. Meet leads in real time via a three-way phone transfer.; URL: https://www.opcity.com\n",
      "Issue found: Company opcity; Client Compass Realty; Product used Access pre-screened real estate leads at no upfront cost. Meet leads in real time via a three-way phone transfer.; URL: https://www.opcity.com\n",
      "Issue found: Company gosite; Client Straight To The Cut Painting; Product used None; URL: https://www.gosite.com\n",
      "Issue found: Company gosite; Client European Detail Specialists; Product used None; URL: https://www.gosite.com\n",
      "Issue found: Company gosite; Client Timber Creations LLC; Product used None; URL: https://www.gosite.com\n",
      "Issue found: Company gosite; Client Desert Swarm Bee Removal; Product used None; URL: https://www.gosite.com\n",
      "Issue found: Company gosite; Client Arrow Building Center; Product used None; URL: https://www.gosite.com\n",
      "Issue found: Company gosite; Client Medical Weight Loss and Family Clinic; Product used None; URL: https://www.gosite.com\n",
      "Issue found: Company gosite; Client SOS Garage Doors; Product used None; URL: https://www.gosite.com\n",
      "Issue found: Company gosite; Client Sensible Sprinkler & Irrigation; Product used None; URL: https://www.gosite.com\n",
      "Issue found: Company gosite; Client Chris; Product used None; URL: https://www.gosite.com\n",
      "Issue found: Company infogrid; Client JLL; Product used None; URL: https://www.infogrid.io\n",
      "Issue found: Company infogrid; Client JPC by Samsic; Product used None; URL: https://www.infogrid.io\n",
      "Issue found: Company raise; Client Lightstep; Product used None; URL: https://www.raise.work\n",
      "Issue found: Company raise; Client Embark; Product used None; URL: https://www.raise.work\n",
      "Issue found: Company raise; Client Anastasia Beverly Hills; Product used None; URL: https://www.raise.work\n",
      "Issue found: Company raise; Client Creative Art Partners; Product used None; URL: https://www.raise.work\n",
      "Issue found: Company nami_ml; Client Diamond; Product used None; URL: https://www.namiml.com\n",
      "Issue found: Company nami_ml; Client Quiet Punch; Product used None; URL: https://www.namiml.com\n",
      "Issue found: Company nami_ml; Client Toronto App Factory; Product used None; URL: https://www.namiml.com\n",
      "Issue found: Company nami_ml; Client Transcrybr; Product used None; URL: https://www.namiml.com\n",
      "Issue found: Company digs; Client Longo Custom Builders; Product used None; URL: https://www.digs.com\n",
      "Issue found: Company digs; Client High Caliber Homes; Product used None; URL: https://www.digs.com\n",
      "Issue found: Company digs; Client Palerider Construction LLC; Product used None; URL: https://www.digs.com\n",
      "Issue found: Company join; Client Oracle; Product used None; URL: https://www.joindigital.com\n",
      "Issue found: Company join; Client Northwestern Mutual; Product used None; URL: https://www.joindigital.com\n",
      "Issue found: Company join; Client NetApp; Product used None; URL: https://www.joindigital.com\n",
      "Issue found: Company join; Client Spear Street; Product used None; URL: https://www.joindigital.com\n",
      "Issue found: Company join; Client ServiceNow; Product used None; URL: https://www.joindigital.com\n",
      "Issue found: Company join; Client State Street; Product used None; URL: https://www.joindigital.com\n",
      "Issue found: Company join; Client BXP; Product used None; URL: https://www.joindigital.com\n",
      "Issue found: Company join; Client Oxford; Product used None; URL: https://www.joindigital.com\n",
      "Issue found: Company join; Client Equality Asset Management; Product used None; URL: https://www.joindigital.com\n",
      "Issue found: Company join; Client Beacon; Product used None; URL: https://www.joindigital.com\n",
      "Issue found: Company auditfile; Client The Network Firm; Product used None; URL: https://www.auditfile.com\n",
      "Issue found: Company auditfile; Client Knoble Ingle CPAs, LLP; Product used None; URL: https://www.auditfile.com\n",
      "Issue found: Company auditfile; Client Holcomb & Shreeve PC; Product used None; URL: https://www.auditfile.com\n",
      "Issue found: Company auditfile; Client Bill Soderstedt, CPA, PC; Product used None; URL: https://www.auditfile.com\n",
      "Issue found: Company auditfile; Client Thriveal CPA Network / Blumer & Associates, CPAs, PC; Product used None; URL: https://www.auditfile.com\n",
      "Issue found: Company auditfile; Client Brauer & Co.; Product used None; URL: https://www.auditfile.com\n",
      "Issue found: Company auditfile; Client J H Johnson & Associates, CPA; Product used None; URL: https://www.auditfile.com\n",
      "Issue found: Company intamac; Client Humberside Fire & Safety services; Product used None; URL: https://www.intamac.com\n",
      "Issue found: Company likely_ai; Client The Agency; Product used None; URL: https://www.likely.ai\n",
      "Issue found: Company likely_ai; Client NextHome; Product used None; URL: https://www.likely.ai\n",
      "Issue found: Company likely_ai; Client NestSeekers; Product used None; URL: https://www.likely.ai\n",
      "Issue found: Company likely_ai; Client Coldwell Banker; Product used None; URL: https://www.likely.ai\n",
      "Issue found: Company likely_ai; Client homie; Product used None; URL: https://www.likely.ai\n",
      "Issue found: Company likely_ai; Client Mark Spain; Product used None; URL: https://www.likely.ai\n",
      "Issue found: Company likely_ai; Client ERA; Product used None; URL: https://www.likely.ai\n",
      "Issue found: Company likely_ai; Client EXP; Product used None; URL: https://www.likely.ai\n",
      "Issue found: Company likely_ai; Client KW; Product used None; URL: https://www.likely.ai\n",
      "Issue found: Company likely_ai; Client Compass; Product used None; URL: https://www.likely.ai\n",
      "Issue found: Company likely_ai; Client Vyral; Product used None; URL: https://www.likely.ai\n",
      "Issue found: Company likely_ai; Client 1000calls; Product used None; URL: https://www.likely.ai\n",
      "Issue found: Company likely_ai; Client Crye-Leike; Product used None; URL: https://www.likely.ai\n",
      "Issue found: Company likely_ai; Client FirstTeam; Product used None; URL: https://www.likely.ai\n",
      "Issue found: Company likely_ai; Client HomeBridge; Product used None; URL: https://www.likely.ai\n",
      "Issue found: Company likely_ai; Client John L Scott; Product used None; URL: https://www.likely.ai\n",
      "Issue found: Company likely_ai; Client ReMax; Product used None; URL: https://www.likely.ai\n",
      "Issue found: Company likely_ai; Client Sothebys; Product used None; URL: https://www.likely.ai\n",
      "Issue found: Company webstreet; Client Chuck Mohler; Product used None; URL: https://www.webstreet.co\n",
      "Issue found: Company webstreet; Client Hannah Cui; Product used None; URL: https://www.webstreet.co\n",
      "Issue found: Company megalytics; Client Roulac Global; Product used None; URL: https://www.megalytics.net\n",
      "Issue found: Company ateliere_creative_technologies; Client SVT; Product used None; URL: https://www.ateliere.com\n",
      "Issue found: Company consumeroptix; Client The Hartford; Product used None; URL: https://www.consumeroptix.com\n",
      "Issue found: Company pivotal_innovation; Client Troia Foods; Product used None; URL: https://www.pivotalinnovation.com\n",
      "Issue found: Company pivotal_innovation; Client Medical Distribution Company; Product used None; URL: https://www.pivotalinnovation.com\n",
      "Issue found: Company oxford_risk; Client Royal London; Product used None; URL: https://www.oxfordrisk.com\n",
      "Issue found: Company oxford_risk; Client Hargreaves Lansdown; Product used None; URL: https://www.oxfordrisk.com\n",
      "Issue found: Company oxford_risk; Client M & G; Product used None; URL: https://www.oxfordrisk.com\n",
      "Issue found: Company oxford_risk; Client Handelsbanken; Product used None; URL: https://www.oxfordrisk.com\n",
      "Issue found: Company oxford_risk; Client HSBC; Product used None; URL: https://www.oxfordrisk.com\n",
      "Issue found: Company oxford_risk; Client NatWest; Product used None; URL: https://www.oxfordrisk.com\n",
      "Issue found: Company oxford_risk; Client Abrdn; Product used None; URL: https://www.oxfordrisk.com\n",
      "Issue found: Company oxford_risk; Client Boubyan Bank; Product used None; URL: https://www.oxfordrisk.com\n",
      "Issue found: Company oxford_risk; Client Fidelity International; Product used None; URL: https://www.oxfordrisk.com\n",
      "Issue found: Company oxford_risk; Client Brewin Dolphin; Product used None; URL: https://www.oxfordrisk.com\n",
      "Issue found: Company oxford_risk; Client Rathbones; Product used None; URL: https://www.oxfordrisk.com\n",
      "Issue found: Company oxford_risk; Client Goldman Sachs; Product used None; URL: https://www.oxfordrisk.com\n",
      "Issue found: Company sizeup; Client US Small Business Administration; Product used None; URL: https://www.sizeup.com\n",
      "Issue found: Company sizeup; Client Google; Product used None; URL: https://www.sizeup.com\n",
      "Issue found: Company sizeup; Client Facebook; Product used None; URL: https://www.sizeup.com\n",
      "Issue found: Company sizeup; Client Salesforce.com; Product used None; URL: https://www.sizeup.com\n",
      "Issue found: Company sizeup; Client O’Reilly Media; Product used None; URL: https://www.sizeup.com\n",
      "Issue found: Company maestro; Client IFM Investors; Product used None; URL: https://www.go-maestro.com\n",
      "Issue found: Company maestro; Client Astatine Investment Partners; Product used None; URL: https://www.go-maestro.com\n",
      "Issue found: Company maestro; Client FSN Capital; Product used None; URL: https://www.go-maestro.com\n",
      "Issue found: Company maestro; Client Broad Sky Partners; Product used None; URL: https://www.go-maestro.com\n",
      "Issue found: Company maestro; Client Mainsail Partners; Product used None; URL: https://www.go-maestro.com\n",
      "Issue found: Company maestro; Client Plexus Capital; Product used None; URL: https://www.go-maestro.com\n",
      "Issue found: Company maestro; Client Endicott Group; Product used None; URL: https://www.go-maestro.com\n",
      "Issue found: Company maestro; Client Parker Gale; Product used None; URL: https://www.go-maestro.com\n",
      "Issue found: Company maestro; Client Mayfair Equity Partners; Product used None; URL: https://www.go-maestro.com\n",
      "Issue found: Company propmix; Client Tavant; Product used None; URL: https://www.propmix.io\n",
      "Issue found: Company realatom; Client Credit Union; Product used None; URL: https://www.realatom.com\n",
      "Issue found: Company realatom; Client Liberty SBF; Product used None; URL: https://www.realatom.com\n",
      "Issue found: Company realatom; Client Centennial Bank; Product used None; URL: https://www.realatom.com\n",
      "Issue found: Company realatom; Client National bank; Product used None; URL: https://www.realatom.com\n",
      "Issue found: Company realatom; Client CrossRiver; Product used None; URL: https://www.realatom.com\n",
      "Issue found: Company realatom; Client Rodeo Lending; Product used None; URL: https://www.realatom.com\n",
      "Issue found: Company realatom; Client AGM; Product used None; URL: https://www.realatom.com\n",
      "Issue found: Company realatom; Client Flushing bank; Product used None; URL: https://www.realatom.com\n",
      "Issue found: Company realatom; Client Harvest; Product used None; URL: https://www.realatom.com\n",
      "Issue found: Company realatom; Client Celtic bank; Product used None; URL: https://www.realatom.com\n",
      "Issue found: Company realatom; Client TD Bank; Product used None; URL: https://www.realatom.com\n",
      "Error found at stacker_news: 'NoneType' object is not iterable\n",
      "Issue found: Company bitgreen; Client Deloitte; Product used None; URL: https://www.bitgreen.org\n",
      "Issue found: Company bitgreen; Client Novogradac; Product used None; URL: https://www.bitgreen.org\n",
      "Issue found: Company bitgreen; Client Norton Rose Fulbright; Product used None; URL: https://www.bitgreen.org\n",
      "Issue found: Company fluid_markets; Client Leading Stock Exchange; Product used None; URL: https://www.fluidinvesting.com\n",
      "Issue found: Company element; Client HM Government; Product used None; URL: https://www.element.io\n",
      "Issue found: Company element; Client UNICC (United Nations International Computing Centre); Product used None; URL: https://www.element.io\n",
      "Issue found: Company element; Client Dinum; Product used None; URL: https://www.element.io\n",
      "Issue found: Company element; Client BWI; Product used None; URL: https://www.element.io\n",
      "Issue found: Company element; Client Nato; Product used None; URL: https://www.element.io\n",
      "Issue found: Company element; Client Gematik; Product used None; URL: https://www.element.io\n",
      "Issue found: Company element; Client Dataport; Product used None; URL: https://www.element.io\n",
      "Issue found: Company element; Client United States Space Force; Product used None; URL: https://www.element.io\n",
      "Issue found: Company element; Client US Marines; Product used None; URL: https://www.element.io\n",
      "Issue found: Company element; Client United States Navy; Product used None; URL: https://www.element.io\n",
      "Issue found: Company element; Client Hexagon; Product used None; URL: https://www.element.io\n",
      "Issue found: Company element; Client Fedora Project; Product used None; URL: https://www.element.io\n",
      "Issue found: Company element; Client Försäkringskassan (the Swedish Social Insurance Agency); Product used None; URL: https://www.element.io\n",
      "Issue found: Company swiftlane; Client The Schoolhouse; Product used None; URL: https://www.swiftlane.com\n",
      "Issue found: Company swiftlane; Client Mercury; Product used None; URL: https://www.swiftlane.com\n",
      "Issue found: Company swiftlane; Client Washington Water Service; Product used None; URL: https://www.swiftlane.com\n",
      "Issue found: Company goodlord; Client Normie & Co; Product used None; URL: https://www.goodlord.co\n",
      "Issue found: Company goodlord; Client Propfinity; Product used None; URL: https://www.goodlord.co\n",
      "Issue found: Company goodlord; Client Gold Key Lettings and Management; Product used None; URL: https://www.goodlord.co\n",
      "Issue found: Company goodlord; Client Ferndown Estates; Product used None; URL: https://www.goodlord.co\n",
      "Issue found: Company goodlord; Client Hotspur Residential; Product used None; URL: https://www.goodlord.co\n",
      "Issue found: Company goodlord; Client Elevation Lettings; Product used None; URL: https://www.goodlord.co\n",
      "Issue found: Company goodlord; Client Hirsch Estates; Product used None; URL: https://www.goodlord.co\n",
      "Issue found: Company pippin_title; Client Green Energy Sector; Product used Residential Title Search or Commercial Title Search; URL: https://www.pippintitle.com\n",
      "Issue found: Company pippin_title; Client Title Insurance Companies; Product used Residential Title Search or Commercial Title Search; URL: https://www.pippintitle.com\n",
      "Issue found: Company pippin_title; Client Local Governments; Product used None; URL: https://www.pippintitle.com\n",
      "Issue found: Company pippin_title; Client Property Developers; Product used Residential Title Search or Commercial Title Search; URL: https://www.pippintitle.com\n",
      "Issue found: Company ivendi; Client BDK; Product used None; URL: https://www.ivendi.com\n",
      "Issue found: Company ivendi; Client GT Heritage; Product used None; URL: https://www.ivendi.com\n",
      "Issue found: Company ivendi; Client Draytons; Product used iVendi Convert and iVendi Transact; URL: https://www.ivendi.com\n",
      "Issue found: Company ivendi; Client VANSCO; Product used iVendi Convert and iVendi Transact; URL: https://www.ivendi.com\n",
      "Issue found: Company ivendi; Client Hilton Garage; Product used None; URL: https://www.ivendi.com\n",
      "Issue found: Company ivendi; Client J&J Motors; Product used iVendi Convert and iVendi Transact; URL: https://www.ivendi.com\n",
      "Issue found: Company ivendi; Client Avenue Car Sales; Product used None; URL: https://www.ivendi.com\n",
      "Issue found: Company ivendi; Client Redgate Lodge; Product used None; URL: https://www.ivendi.com\n",
      "Issue found: Company ivendi; Client Reeds Autos; Product used None; URL: https://www.ivendi.com\n",
      "Issue found: Company ivendi; Client bnp-paribas; Product used None; URL: https://www.ivendi.com\n",
      "Issue found: Company ivendi; Client MotoNovo; Product used None; URL: https://www.ivendi.com\n",
      "Issue found: Company ivendi; Client Eurofinas; Product used None; URL: https://www.ivendi.com\n",
      "Issue found: Company ivendi; Client motors; Product used None; URL: https://www.ivendi.com\n",
      "Issue found: Company ivendi; Client Juhu Auto; Product used None; URL: https://www.ivendi.com\n",
      "Issue found: Company ivendi; Client MCN - Motor Cycle News; Product used None; URL: https://www.ivendi.com\n",
      "Issue found: Company ivendi; Client Classic CarsForSale; Product used None; URL: https://www.ivendi.com\n",
      "Issue found: Company travelnet_solutions; Client Stay Charlottesville; Product used None; URL: https://www.tnsinc.com\n",
      "Issue found: Company travelnet_solutions; Client Princeville Vacation Rentals; Product used None; URL: https://www.tnsinc.com\n",
      "Issue found: Company travelnet_solutions; Client VillaStay Vacation Rentals; Product used None; URL: https://www.tnsinc.com\n",
      "Issue found: Company travelnet_solutions; Client Book Stay Hop; Product used None; URL: https://www.tnsinc.com\n",
      "Issue found: Company travelnet_solutions; Client AZ Elite Properties; Product used None; URL: https://www.tnsinc.com\n",
      "Issue found: Company concirrus; Client Insurity; Product used None; URL: https://www.concirrus.ai\n",
      "Issue found: Company concirrus; Client Dun & Bradstreet; Product used None; URL: https://www.concirrus.ai\n",
      "Issue found: Company softheon; Client CVS/Aetna; Product used None; URL: https://www.softheon.com\n",
      "Issue found: Company tolemi; Client State and Local Governments; Product used None; URL: https://www.tolemi.com\n",
      "Issue found: Company ownit; Client Steven Gmelin; Product used None; URL: https://www.ownit.co\n",
      "Issue found: Company flowfi; Client baton market; Product used None; URL: https://www.flowfi.com\n",
      "Issue found: Company flowfi; Client move; Product used None; URL: https://www.flowfi.com\n",
      "Issue found: Company flowfi; Client beagle services; Product used None; URL: https://www.flowfi.com\n",
      "Issue found: Company flowfi; Client nuveldy's; Product used None; URL: https://www.flowfi.com\n",
      "Issue found: Company flowfi; Client brainforge; Product used None; URL: https://www.flowfi.com\n",
      "Issue found: Company vertice; Client MotorK; Product used None; URL: https://www.vertice.one\n",
      "Issue found: Company vertice; Client Ebury; Product used None; URL: https://www.vertice.one\n",
      "Issue found: Company vertice; Client ba&sh; Product used None; URL: https://www.vertice.one\n",
      "Issue found: Company vertice; Client Lincoln Investment; Product used None; URL: https://www.vertice.one\n",
      "Issue found: Company vertice; Client Wallbox; Product used None; URL: https://www.vertice.one\n",
      "Issue found: Company vertice; Client Matillion; Product used None; URL: https://www.vertice.one\n",
      "Issue found: Company vertice; Client PageUp; Product used None; URL: https://www.vertice.one\n",
      "Issue found: Company vertice; Client Omio; Product used None; URL: https://www.vertice.one\n",
      "Issue found: Company vertice; Client Coronado; Product used None; URL: https://www.vertice.one\n",
      "Issue found: Company vertice; Client Revel; Product used None; URL: https://www.vertice.one\n",
      "Issue found: Company vertice; Client Podimo; Product used None; URL: https://www.vertice.one\n",
      "Issue found: Company vertice; Client Haiilo; Product used None; URL: https://www.vertice.one\n",
      "Issue found: Company vertice; Client Le Collectionist; Product used None; URL: https://www.vertice.one\n",
      "Issue found: Company vertice; Client Euronext; Product used None; URL: https://www.vertice.one\n",
      "Issue found: Company vertice; Client Choco; Product used None; URL: https://www.vertice.one\n",
      "Issue found: Company vertice; Client Futureverse; Product used None; URL: https://www.vertice.one\n",
      "Issue found: Company vertice; Client Multiplica; Product used None; URL: https://www.vertice.one\n",
      "Issue found: Company realsavvy; Client Todd Burgener; Product used None; URL: https://www.realsavvy.com\n",
      "Issue found: Company competera; Client Flacony; Product used None; URL: https://www.competera.ai\n",
      "Issue found: Company competera; Client Harvey Norman; Product used None; URL: https://www.competera.ai\n",
      "Issue found: Company competera; Client Starboard; Product used None; URL: https://www.competera.ai\n",
      "Issue found: Company competera; Client Novus; Product used None; URL: https://www.competera.ai\n",
      "Issue found: Company competera; Client Tegut; Product used None; URL: https://www.competera.ai\n",
      "Issue found: Company competera; Client Fragrance Outlet; Product used None; URL: https://www.competera.ai\n",
      "Issue found: Company disperse; Client Gilbane; Product used None; URL: https://www.disperse.io\n",
      "Issue found: Company ben; Client JBM; Product used None; URL: https://www.thanksben.com\n",
      "Issue found: Company ben; Client Thriva; Product used None; URL: https://www.thanksben.com\n",
      "Issue found: Company ben; Client Cleveland Group; Product used None; URL: https://www.thanksben.com\n",
      "Issue found: Company ben; Client Chattermill; Product used None; URL: https://www.thanksben.com\n",
      "Issue found: Company ben; Client Healthily; Product used None; URL: https://www.thanksben.com\n",
      "Issue found: Company ben; Client 10x; Product used None; URL: https://www.thanksben.com\n",
      "Issue found: Company hummingbird; Client celtic_logo_grey; Product used None; URL: https://www.hummingbird.co\n",
      "Issue found: Company wetx; Client World Water Council; Product used None; URL: https://www.wetx.io\n",
      "Issue found: Company new_avenue; Client Lucas and T.R.; Product used None; URL: https://www.newavenuehomes.com\n",
      "Issue found: Company new_avenue; Client Robert K.; Product used None; URL: https://www.newavenuehomes.com\n",
      "Issue found: Company switch_automation; Client Cushman & Wakefield; Product used None; URL: https://www.switchautomation.com\n",
      "Issue found: Company switch_automation; Client AMP Capital; Product used None; URL: https://www.switchautomation.com\n",
      "Issue found: Company switch_automation; Client Engie; Product used None; URL: https://www.switchautomation.com\n",
      "Issue found: Company avyst; Client Vertafore; Product used None; URL: https://www.avyst.com\n",
      "Issue found: Company avyst; Client IVANS; Product used None; URL: https://www.avyst.com\n",
      "Issue found: Company truelytics; Client Independent advisors and RIAs; Product used None; URL: https://www.truelytics.com\n",
      "Issue found: Company credit_benchmark; Client FTSE 250 company; Product used Credit Benchmark; URL: https://www.creditbenchmark.com\n",
      "Issue found: Company credit_benchmark; Client Major UK-based Bank; Product used None; URL: https://www.creditbenchmark.com\n",
      "Issue found: Company omnevue; Client BVRLA; Product used None; URL: https://www.omnevue.com\n",
      "Issue found: Company omnevue; Client Elbow Beach Capital; Product used None; URL: https://www.omnevue.com\n",
      "Issue found: Company curbwaste; Client TKG; Product used None; URL: https://www.curbwaste.com\n",
      "Issue found: Company curbwaste; Client Bull Waste; Product used None; URL: https://www.curbwaste.com\n",
      "Issue found: Company trurating; Client Kathmandu; Product used None; URL: https://www.trurating.com\n",
      "Issue found: Company trurating; Client TOMS; Product used None; URL: https://www.trurating.com\n",
      "Issue found: Company trurating; Client The Athlete’s Foot; Product used None; URL: https://www.trurating.com\n",
      "Issue found: Company workmarket; Client Quantum Installations Group; Product used None; URL: https://www.workmarket.com\n",
      "Issue found: Company aumni; Client Ivy Ventures; Product used None; URL: https://www.aumni.fund\n",
      "Issue found: Company verisoul; Client GamerGains; Product used None; URL: https://www.verisoul.ai\n",
      "Issue found: Company axesspoint; Client Office/Retail; Product used None; URL: https://www.axesspoint.net\n",
      "Issue found: Company built_id; Client City of London; Product used None; URL: https://www.built-id.com\n",
      "Issue found: Company built_id; Client Ballymore; Product used None; URL: https://www.built-id.com\n",
      "Issue found: Company built_id; Client Flintshire Council; Product used None; URL: https://www.built-id.com\n",
      "Issue found: Company built_id; Client Vattenfall; Product used None; URL: https://www.built-id.com\n",
      "Issue found: Company built_id; Client RWE; Product used None; URL: https://www.built-id.com\n",
      "Issue found: Company built_id; Client Legal & General; Product used None; URL: https://www.built-id.com\n",
      "Issue found: Company built_id; Client Statera; Product used None; URL: https://www.built-id.com\n",
      "Issue found: Company finmark; Client Swoop; Product used None; URL: https://www.finmark.com\n",
      "Issue found: Company finmark; Client Realworld; Product used None; URL: https://www.finmark.com\n",
      "Issue found: Company finmark; Client JamFeed; Product used None; URL: https://www.finmark.com\n",
      "Issue found: Company finmark; Client Panther; Product used None; URL: https://www.finmark.com\n",
      "Issue found: Company finmark; Client ProvenCFO; Product used None; URL: https://www.finmark.com\n",
      "Issue found: Company finmark; Client Flare; Product used None; URL: https://www.finmark.com\n",
      "Issue found: Company finmark; Client Punch Financial; Product used None; URL: https://www.finmark.com\n",
      "Issue found: Company lcp_media; Client Greystar; Product used Visual media products; URL: https://www.lcp360.com\n",
      "Issue found: Company lcp_media; Client Western Wealth Communities and Western Wealth Capital; Product used None; URL: https://www.lcp360.com\n",
      "Issue found: Company lcp_media; Client Lincoln Property Company; Product used None; URL: https://www.lcp360.com\n",
      "Issue found: Company lcp_media; Client Legacy Partners; Product used None; URL: https://www.lcp360.com\n",
      "Issue found: Company softledger; Client Orchid; Product used None; URL: https://www.softledger.com\n",
      "Issue found: Company limelight_health; Client Osara Health; Product used None; URL: https://www.limelighthealth.com\n",
      "Issue found: Company limelight_health; Client Amazon Web Services (AWS); Product used None; URL: https://www.limelighthealth.com\n",
      "Issue found: Company limelight_health; Client New York Life Group Benefit Solutions; Product used None; URL: https://www.limelighthealth.com\n",
      "Issue found: Company coadjute; Client Open Property Data Association; Product used None; URL: https://www.coadjute.com\n",
      "Issue found: Company coadjute; Client The Agency UK; Product used None; URL: https://www.coadjute.com\n",
      "Issue found: Company coadjute; Client Manning Stainton; Product used None; URL: https://www.coadjute.com\n",
      "Issue found: Company coadjute; Client Talbots Law; Product used None; URL: https://www.coadjute.com\n",
      "Issue found: Company coadjute; Client Aconveyancing; Product used None; URL: https://www.coadjute.com\n",
      "Issue found: Company coadjute; Client Osprey Approach; Product used None; URL: https://www.coadjute.com\n",
      "Issue found: Company coadjute; Client Paul Stripp Estate Agents; Product used None; URL: https://www.coadjute.com\n",
      "Issue found: Company coadjute; Client Kensington Mortgages and TWM Solicitors; Product used None; URL: https://www.coadjute.com\n",
      "Issue found: Company horizen_labs; Client DCG; Product used None; URL: https://www.horizenlabs.io\n",
      "Issue found: Company horizen_labs; Client Liberty City Ventures; Product used None; URL: https://www.horizenlabs.io\n",
      "Issue found: Company horizen_labs; Client Kenetic; Product used None; URL: https://www.horizenlabs.io\n",
      "Issue found: Company horizen_labs; Client Sound; Product used None; URL: https://www.horizenlabs.io\n",
      "Issue found: Company horizen_labs; Client LionTree; Product used None; URL: https://www.horizenlabs.io\n",
      "Issue found: Company horizen_labs; Client Deribit; Product used None; URL: https://www.horizenlabs.io\n",
      "Issue found: Company every; Client Dili; Product used None; URL: https://www.every.io\n",
      "Issue found: Company every; Client Alchemy; Product used None; URL: https://www.every.io\n",
      "Issue found: Company agentero; Client American Modern; Product used None; URL: https://www.agentero.com\n",
      "Issue found: Company agentero; Client Amtrust; Product used None; URL: https://www.agentero.com\n",
      "Issue found: Company agentero; Client AonEdge; Product used None; URL: https://www.agentero.com\n",
      "Issue found: Company agentero; Client Assurance America; Product used None; URL: https://www.agentero.com\n",
      "Issue found: Company agentero; Client biBERK; Product used None; URL: https://www.agentero.com\n",
      "Issue found: Company agentero; Client Branch; Product used None; URL: https://www.agentero.com\n",
      "Issue found: Company agentero; Client Bristol West; Product used None; URL: https://www.agentero.com\n",
      "Issue found: Company agentero; Client CNA; Product used None; URL: https://www.agentero.com\n",
      "Issue found: Company agentero; Client Coterie; Product used None; URL: https://www.agentero.com\n",
      "Issue found: Company agentero; Client Cowbell; Product used None; URL: https://www.agentero.com\n",
      "Issue found: Company agentero; Client Delos; Product used None; URL: https://www.agentero.com\n",
      "Issue found: Company agentero; Client Elephant; Product used None; URL: https://www.agentero.com\n",
      "Issue found: Company agentero; Client Employers; Product used None; URL: https://www.agentero.com\n",
      "Issue found: Company agentero; Client Ethos; Product used None; URL: https://www.agentero.com\n",
      "Issue found: Company agentero; Client Foremost; Product used None; URL: https://www.agentero.com\n",
      "Issue found: Company agentero; Client Gainsco; Product used None; URL: https://www.agentero.com\n",
      "Issue found: Company agentero; Client Great American; Product used None; URL: https://www.agentero.com\n",
      "Issue found: Company agentero; Client Hanover; Product used None; URL: https://www.agentero.com\n",
      "Issue found: Company agentero; Client Hiscox; Product used None; URL: https://www.agentero.com\n",
      "Issue found: Company agentero; Client Home of America; Product used None; URL: https://www.agentero.com\n",
      "Issue found: Company agentero; Client Ladder; Product used None; URL: https://www.agentero.com\n",
      "Issue found: Company agentero; Client Lamar; Product used None; URL: https://www.agentero.com\n",
      "Issue found: Company agentero; Client Lio; Product used None; URL: https://www.agentero.com\n",
      "Issue found: Company agentero; Client Mile Auto; Product used None; URL: https://www.agentero.com\n",
      "Issue found: Company agentero; Client Neptune; Product used None; URL: https://www.agentero.com\n",
      "Issue found: Company agentero; Client Next; Product used None; URL: https://www.agentero.com\n",
      "Issue found: Company agentero; Client Obie; Product used None; URL: https://www.agentero.com\n",
      "Issue found: Company agentero; Client Openly; Product used None; URL: https://www.agentero.com\n",
      "Issue found: Company agentero; Client Orion180; Product used None; URL: https://www.agentero.com\n",
      "Issue found: Company agentero; Client Pathpoint; Product used None; URL: https://www.agentero.com\n",
      "Issue found: Company agentero; Client Pie Insurance; Product used None; URL: https://www.agentero.com\n",
      "Issue found: Company agentero; Client Pouch insurance; Product used None; URL: https://www.agentero.com\n",
      "Issue found: Company agentero; Client Rainbow; Product used None; URL: https://www.agentero.com\n",
      "Issue found: Company agentero; Client Steadily; Product used None; URL: https://www.agentero.com\n",
      "Issue found: Company agentero; Client Stillwarer; Product used None; URL: https://www.agentero.com\n",
      "Issue found: Company agentero; Client Stonegate; Product used None; URL: https://www.agentero.com\n",
      "Issue found: Company agentero; Client Swyfft; Product used None; URL: https://www.agentero.com\n",
      "Issue found: Company agentero; Client The General; Product used None; URL: https://www.agentero.com\n",
      "Issue found: Company agentero; Client Thimble; Product used None; URL: https://www.agentero.com\n",
      "Issue found: Company agentero; Client Travelers; Product used None; URL: https://www.agentero.com\n",
      "Issue found: Company agentero; Client Unique; Product used None; URL: https://www.agentero.com\n",
      "Issue found: Company agentero; Client Wellington; Product used None; URL: https://www.agentero.com\n",
      "Issue found: Company agentero; Client Westfield; Product used None; URL: https://www.agentero.com\n",
      "Issue found: Company sky_republic; Client Kudelski IoT; Product used None; URL: https://www.skyrepublic.com\n",
      "Issue found: Company kinectify; Client William Hill; Product used None; URL: https://www.kinectify.com\n",
      "Issue found: Company kinectify; Client Wagr; Product used None; URL: https://www.kinectify.com\n",
      "Issue found: Company kinectify; Client Bounty Sports; Product used None; URL: https://www.kinectify.com\n",
      "Issue found: Company kinectify; Client Caesars S. Indiana; Product used None; URL: https://www.kinectify.com\n",
      "Issue found: Company l1_advisors; Client Securitize; Product used None; URL: https://www.l1.co\n",
      "Issue found: Company l1_advisors; Client CoinDesk Indices; Product used None; URL: https://www.l1.co\n",
      "Issue found: Company atidot; Client NTT DATA Services; Product used None; URL: https://www.atidot.com\n",
      "Issue found: Company amplifund; Client The State of Illinois; Product used None; URL: https://www.amplifund.com\n",
      "Issue found: Company amplifund; Client Kansas Department of Corrections; Product used None; URL: https://www.amplifund.com\n",
      "Issue found: Company amplifund; Client Ponca Tribe of Nebraska; Product used None; URL: https://www.amplifund.com\n",
      "Issue found: Company amplifund; Client Deputy Sheriff Riverside County; Product used None; URL: https://www.amplifund.com\n",
      "Issue found: Company amplifund; Client Nez Perce Tribe; Product used None; URL: https://www.amplifund.com\n",
      "Issue found: Company amplifund; Client Cow Creek Band of Umpqua Tribe of Indians; Product used None; URL: https://www.amplifund.com\n",
      "Issue found: Company amplifund; Client City of Everett, WA; Product used None; URL: https://www.amplifund.com\n",
      "Issue found: Company amplifund; Client Little Traverse Bay Bands of Odawa Indians; Product used None; URL: https://www.amplifund.com\n",
      "Issue found: Company amplifund; Client Colorado Housing and Finance Authority; Product used None; URL: https://www.amplifund.com\n",
      "Issue found: Company amplifund; Client National Congress of American Indians; Product used None; URL: https://www.amplifund.com\n",
      "Issue found: Company the_booking_factory; Client Reykjavik Residence; Product used None; URL: https://www.thebookingfactory.com\n",
      "Issue found: Company the_booking_factory; Client Hótel Ísland; Product used None; URL: https://www.thebookingfactory.com\n",
      "Issue found: Company the_booking_factory; Client Hotel Siglunes; Product used None; URL: https://www.thebookingfactory.com\n",
      "Issue found: Company the_booking_factory; Client Hotel Akureyri; Product used None; URL: https://www.thebookingfactory.com\n",
      "Issue found: Company agently; Client NAR; Product used None; URL: https://www.agently.com\n",
      "Issue found: Company agently; Client Inman; Product used None; URL: https://www.agently.com\n",
      "Issue found: Company aveni; Client Age Partnership; Product used A QA process tool that reduces time spent per case from 90 minutes to 15 minutes, helps build upon service quality, monitors client interactions, and ensures communication and support effectiveness; URL: https://www.aveni.ai\n",
      "Issue found: Company aveni; Client Key Group; Product used None; URL: https://www.aveni.ai\n",
      "Issue found: Company aveni; Client James Sharp; Product used A QA process tool that reduces time spent per case from 90 minutes to 15 minutes, helps build upon service quality, monitors client interactions, and ensures communication and support effectiveness; URL: https://www.aveni.ai\n",
      "Issue found: Company aveni; Client UK Financial Advice firm; Product used An AI assistant with CRM elements and a summary panel that helps advisers with report outputs and enhances customer insight.; URL: https://www.aveni.ai\n",
      "Issue found: Company aveni; Client intelliflo; Product used None; URL: https://www.aveni.ai\n",
      "Issue found: Company creative_social; Client FM Omni Channel; Product used None; URL: https://www.creativesocial.io\n",
      "Issue found: Company impala; Client Lighthouse; Product used None; URL: https://www.impala.travel\n",
      "Issue found: Company impala; Client GetYourGuide; Product used None; URL: https://www.impala.travel\n",
      "Issue found: Company outbuild; Client Wells & Wells Construction Co.; Product used None; URL: https://www.outbuild.com\n",
      "Issue found: Company outbuild; Client Andres; Product used None; URL: https://www.outbuild.com\n",
      "Issue found: Company outbuild; Client Juneau Construction; Product used None; URL: https://www.outbuild.com\n",
      "Issue found: Company outbuild; Client McAlvain; Product used None; URL: https://www.outbuild.com\n",
      "Issue found: Company outbuild; Client Del Amo Construction; Product used None; URL: https://www.outbuild.com\n",
      "Issue found: Company outbuild; Client Arco Murray; Product used None; URL: https://www.outbuild.com\n",
      "Issue found: Company bento_engine; Client Lake Avenue Financial; Product used None; URL: https://www.bentoengine.com\n",
      "Issue found: Company bento_engine; Client Flexcode Software; Product used None; URL: https://www.bentoengine.com\n",
      "Issue found: Company bento_engine; Client kitces.com; Product used None; URL: https://www.bentoengine.com\n",
      "Issue found: Company bento_engine; Client Wealth Consulting; Product used None; URL: https://www.bentoengine.com\n",
      "Issue found: Company imoto_photo; Client Thrive Real Estate; Product used 3D Showcase and Floor Plans; URL: https://www.imoto.com\n",
      "Issue found: Company imoto_photo; Client Lisa Garsaud; Product used Real estate photography services and virtual tours; URL: https://www.imoto.com\n",
      "Issue found: Company imoto_photo; Client Mary Miller; Product used Real estate photography services and virtual tours; URL: https://www.imoto.com\n",
      "Issue found: Company imoto_photo; Client Eileen Nolan; Product used Real estate photography services and virtual tours; URL: https://www.imoto.com\n",
      "Issue found: Company imoto_photo; Client Vicki Potter; Product used Real estate photography services and virtual tours; URL: https://www.imoto.com\n",
      "Issue found: Company imoto_photo; Client Betty Chasteen; Product used Real estate photography services and virtual tours; URL: https://www.imoto.com\n",
      "Issue found: Company imoto_photo; Client Mari Roberts; Product used Real estate photography services and virtual tours; URL: https://www.imoto.com\n",
      "Issue found: Company imoto_photo; Client Brenda Shores; Product used Real estate photography services and virtual tours; URL: https://www.imoto.com\n",
      "Issue found: Company axial; Client Family Office of Ex-XEROX CEO; Product used None; URL: https://www.axial.net\n",
      "Issue found: Company sharplaunch; Client Apto; Product used None; URL: https://www.sharplaunch.com\n",
      "Issue found: Company sharplaunch; Client CCIM; Product used None; URL: https://www.sharplaunch.com\n",
      "Issue found: Company sharplaunch; Client Connect Media; Product used None; URL: https://www.sharplaunch.com\n",
      "Issue found: Company sharplaunch; Client Coyote Software; Product used None; URL: https://www.sharplaunch.com\n",
      "Issue found: Company sharplaunch; Client HubSpot; Product used None; URL: https://www.sharplaunch.com\n",
      "Issue found: Company sharplaunch; Client InMotion Real Estate Media; Product used None; URL: https://www.sharplaunch.com\n",
      "Issue found: Company sharplaunch; Client Matterport; Product used None; URL: https://www.sharplaunch.com\n",
      "Issue found: Company sharplaunch; Client Salesforce; Product used None; URL: https://www.sharplaunch.com\n",
      "Issue found: Company sharplaunch; Client Brevitas; Product used None; URL: https://www.sharplaunch.com\n",
      "Issue found: Company sharplaunch; Client Commercial Cafe; Product used None; URL: https://www.sharplaunch.com\n",
      "Issue found: Company sharplaunch; Client CommercialEdge; Product used None; URL: https://www.sharplaunch.com\n",
      "Issue found: Company sharplaunch; Client CommercialSearch; Product used None; URL: https://www.sharplaunch.com\n",
      "Issue found: Company sharplaunch; Client Point2; Product used None; URL: https://www.sharplaunch.com\n",
      "Issue found: Company sharplaunch; Client Property Shark; Product used None; URL: https://www.sharplaunch.com\n",
      "Issue found: Company sharplaunch; Client OfficeSpace.com; Product used None; URL: https://www.sharplaunch.com\n",
      "Issue found: Company sharplaunch; Client RI Marketplace; Product used None; URL: https://www.sharplaunch.com\n",
      "Issue found: Company sharplaunch; Client 42 Floors; Product used None; URL: https://www.sharplaunch.com\n",
      "Issue found: Company tophap; Client Security Pacific Real Estate; Product used None; URL: https://www.tophap.com\n",
      "Issue found: Company tophap; Client Warren Group Partners; Product used None; URL: https://www.tophap.com\n",
      "Issue found: Company tophap; Client NextHome LandCastle Luxury Real Estate; Product used None; URL: https://www.tophap.com\n",
      "Issue found: Company tophap; Client Golden Gate Sotheby's; Product used None; URL: https://www.tophap.com\n",
      "Issue found: Company tophap; Client COMPASS; Product used None; URL: https://www.tophap.com\n",
      "Issue found: Company tophap; Client Milz Development; Product used None; URL: https://www.tophap.com\n",
      "Issue found: Company tophap; Client eXp Realty of California Inc; Product used None; URL: https://www.tophap.com\n",
      "Issue found: Company tophap; Client Golden Gate Sotheby's International Realty; Product used None; URL: https://www.tophap.com\n",
      "Issue found: Company tophap; Client Luxury Property Specialist; Product used None; URL: https://www.tophap.com\n",
      "Issue found: Company tophap; Client REeBroker Services; Product used None; URL: https://www.tophap.com\n",
      "Issue found: Company anybill; Client Walmart; Product used None; URL: https://www.anybill.com\n",
      "Issue found: Company anybill; Client Whole Foods; Product used None; URL: https://www.anybill.com\n",
      "Issue found: Company anybill; Client Netflix; Product used None; URL: https://www.anybill.com\n",
      "Issue found: Company anybill; Client Salesforce; Product used None; URL: https://www.anybill.com\n",
      "Issue found: Company anybill; Client Colgate; Product used None; URL: https://www.anybill.com\n",
      "Issue found: Company anybill; Client Office Max; Product used None; URL: https://www.anybill.com\n",
      "Issue found: Company anybill; Client Petco; Product used None; URL: https://www.anybill.com\n",
      "Issue found: Company anybill; Client American Airlines; Product used None; URL: https://www.anybill.com\n",
      "Issue found: Company anybill; Client Lockheed Martin; Product used None; URL: https://www.anybill.com\n",
      "Issue found: Company anybill; Client Saks Fifth Avenue; Product used None; URL: https://www.anybill.com\n",
      "Issue found: Company anybill; Client Heineken; Product used None; URL: https://www.anybill.com\n",
      "Issue found: Company linkdrop; Client Zerion; Product used None; URL: https://www.linkdrop.io\n",
      "Issue found: Company linkdrop; Client Ledger; Product used Linkdrop Dashboard; URL: https://www.linkdrop.io\n",
      "Issue found: Company linkdrop; Client Doodles; Product used None; URL: https://www.linkdrop.io\n",
      "Issue found: Company linkdrop; Client Infinite Objects; Product used Linkdrop Dashboard; URL: https://www.linkdrop.io\n",
      "Issue found: Company effectiv; Client Penny; Product used None; URL: https://www.effectiv.ai\n",
      "Issue found: Company effectiv; Client Cardless; Product used None; URL: https://www.effectiv.ai\n",
      "Issue found: Company effectiv; Client Atlas; Product used None; URL: https://www.effectiv.ai\n",
      "Issue found: Company mmob; Client ASEAN Lifestyle application; Product used None; URL: https://www.mmob.com\n",
      "Issue found: Company vesta; Client Upstart; Product used None; URL: https://www.vesta.com\n",
      "Issue found: Company vesta; Client Advantage Credit; Product used None; URL: https://www.vesta.com\n",
      "Issue found: Company vesta; Client MGIC; Product used None; URL: https://www.vesta.com\n",
      "Issue found: Company embue; Client 2Life Communities; Product used None; URL: https://www.embue.com\n",
      "Issue found: Company embue; Client Barkan Co; Product used None; URL: https://www.embue.com\n",
      "Issue found: Company embue; Client CARR Properties; Product used None; URL: https://www.embue.com\n",
      "Issue found: Company embue; Client The Community Builders; Product used None; URL: https://www.embue.com\n",
      "Issue found: Company embue; Client CSI Coop; Product used None; URL: https://www.embue.com\n",
      "Issue found: Company embue; Client Paradigm Energy Services; Product used None; URL: https://www.embue.com\n",
      "Issue found: Company embue; Client New Ecology; Product used None; URL: https://www.embue.com\n",
      "Issue found: Company embue; Client Earthlight Technologies, LLC; Product used None; URL: https://www.embue.com\n",
      "Issue found: Company embue; Client Greener U; Product used None; URL: https://www.embue.com\n",
      "Issue found: Company embue; Client Evolution Sustainability Group; Product used None; URL: https://www.embue.com\n",
      "Issue found: Company embue; Client Building Evolution Corporation; Product used None; URL: https://www.embue.com\n",
      "Issue found: Company embue; Client Yaskawa; Product used None; URL: https://www.embue.com\n",
      "Issue found: Company clerky; Client Optimal Counsel; Product used None; URL: https://www.clerky.com\n",
      "Issue found: Company clerky; Client Orrick, Herrington & Sutcliffe LLP; Product used Formation, Fundraising, and Hiring; URL: https://www.clerky.com\n",
      "Issue found: Company clerky; Client Silicon Legal Strategy; Product used None; URL: https://www.clerky.com\n",
      "Issue found: Company urban_intelligence; Client Allies & Morrison; Product used None; URL: https://www.urbanintelligence.co.uk\n",
      "Issue found: Company cognisure; Client Hylant; Product used None; URL: https://www.cognisure.ai\n",
      "Issue found: Company cognisure; Client Kraus-Anderson; Product used None; URL: https://www.cognisure.ai\n",
      "Issue found: Company landtech; Client KFC / YUM; Product used None; URL: https://www.land.tech\n",
      "Issue found: Company landtech; Client Montagu Evans; Product used None; URL: https://www.land.tech\n",
      "Issue found: Company landtech; Client Persimmon; Product used None; URL: https://www.land.tech\n",
      "Issue found: Company landtech; Client Maven Plan; Product used None; URL: https://www.land.tech\n",
      "Issue found: Company landtech; Client REBE Homes; Product used None; URL: https://www.land.tech\n",
      "Issue found: Company landtech; Client Coast 2 Coast; Product used None; URL: https://www.land.tech\n",
      "Issue found: Company infiltron_software_suite; Client Unspecified Client (Mobility as-a-service platform); Product used None; URL: https://www.infiltron.net\n",
      "Issue found: Company bookingpal; Client Come to Cape Town; Product used None; URL: https://www.bookingpal.com\n",
      "Issue found: Company bookingpal; Client El Matador Management Company; Product used None; URL: https://www.bookingpal.com\n",
      "Issue found: Company bookingpal; Client Resort Homes Florida; Product used None; URL: https://www.bookingpal.com\n",
      "Issue found: Company argyle; Client Solo; Product used None; URL: https://www.argyle.com\n",
      "Issue found: Company argyle; Client Alloy; Product used None; URL: https://www.argyle.com\n",
      "Issue found: Company soundout; Client Netflix; Product used None; URL: https://www.soundout.com\n",
      "Issue found: Company soundout; Client Amazon; Product used None; URL: https://www.soundout.com\n",
      "Issue found: Company soundout; Client Ford; Product used None; URL: https://www.soundout.com\n",
      "Issue found: Company soundout; Client Unilever; Product used None; URL: https://www.soundout.com\n",
      "Issue found: Company soundout; Client GSK; Product used None; URL: https://www.soundout.com\n",
      "Issue found: Company soundout; Client AccuWeather; Product used None; URL: https://www.soundout.com\n",
      "Issue found: Company soundout; Client Rabobank; Product used None; URL: https://www.soundout.com\n",
      "Issue found: Company beauhurst; Client EY; Product used None; URL: https://www.beauhurst.com\n",
      "Issue found: Company beauhurst; Client JP Morgan; Product used None; URL: https://www.beauhurst.com\n",
      "Issue found: Company beauhurst; Client SyndicateRoom; Product used None; URL: https://www.beauhurst.com\n",
      "Issue found: Company beauhurst; Client Innovate UK; Product used None; URL: https://www.beauhurst.com\n",
      "Issue found: Company beauhurst; Client Smith & Williamson; Product used None; URL: https://www.beauhurst.com\n",
      "Issue found: Company beauhurst; Client British Business Bank; Product used None; URL: https://www.beauhurst.com\n",
      "Issue found: Company marktomarket; Client Crowe; Product used None; URL: https://www.marktomarket.io\n",
      "Issue found: Company marktomarket; Client AAB; Product used None; URL: https://www.marktomarket.io\n",
      "Issue found: Company marktomarket; Client Par Equity; Product used None; URL: https://www.marktomarket.io\n",
      "Issue found: Company smooth_commerce; Client DAVIDsTEA; Product used None; URL: https://www.smooth.tech\n",
      "Issue found: Company smooth_commerce; Client Mad Radish; Product used None; URL: https://www.smooth.tech\n",
      "Issue found: Company hubbub; Client Queensland University of Technology; Product used None; URL: https://www.hubbub.net\n",
      "Issue found: Company hubbub; Client Royal Grammar School Guildford; Product used None; URL: https://www.hubbub.net\n",
      "Issue found: Company hubbub; Client London Business School; Product used None; URL: https://www.hubbub.net\n",
      "Issue found: Company hubbub; Client King’s College London; Product used None; URL: https://www.hubbub.net\n",
      "Issue found: Company hubbub; Client Ulster University; Product used None; URL: https://www.hubbub.net\n",
      "Issue found: Company crs; Client James Albanese; Product used None; URL: https://www.crscreditapi.com\n",
      "Issue found: Company crs; Client Mike Rodriguez; Product used None; URL: https://www.crscreditapi.com\n",
      "Issue found: Company crs; Client Tarik Gluhic; Product used None; URL: https://www.crscreditapi.com\n",
      "Issue found: Company crs; Client Michael Reminger; Product used None; URL: https://www.crscreditapi.com\n",
      "Issue found: Company crs; Client Victor Vickery; Product used None; URL: https://www.crscreditapi.com\n",
      "Issue found: Company crs; Client Joseph Alvini; Product used None; URL: https://www.crscreditapi.com\n",
      "Issue found: Company basis; Client Ware; Product used None; URL: https://www.basis.so\n",
      "Issue found: Company basis; Client Windsor.io; Product used None; URL: https://www.basis.so\n",
      "Issue found: Company naturealpha; Client Integrated Biodiversity Assessment Tool (IBAT); Product used None; URL: https://www.naturealpha.ai\n",
      "Issue found: Company naturealpha; Client United Nations Environment Programme – World Conservation Monitoring Centre; Product used None; URL: https://www.naturealpha.ai\n",
      "Issue found: Company naturealpha; Client International Union for Conservation of Nature (IUCN); Product used None; URL: https://www.naturealpha.ai\n",
      "Issue found: Company naturealpha; Client BirdLife International; Product used None; URL: https://www.naturealpha.ai\n",
      "Issue found: Company naturealpha; Client Conservation International; Product used None; URL: https://www.naturealpha.ai\n",
      "Issue found: Company fuel; Client Invite-only club for CEOs by Sam Parr and Joe Speiser; Product used None; URL: https://www.fuelfinance.me\n",
      "Error found at celebrity_agent: 'NoneType' object is not iterable\n",
      "Issue found: Company your_front_desk; Client Dream House in the Gunks; Product used None; URL: https://www.yourfrontdesk.co\n",
      "Issue found: Company uplisting; Client Hostminded; Product used None; URL: https://www.uplisting.io\n",
      "Issue found: Company royaltyrange; Client Allen & Overy; Product used None; URL: https://www.royaltyrange.com\n",
      "Issue found: Company royaltyrange; Client WTP Advisors; Product used None; URL: https://www.royaltyrange.com\n",
      "Issue found: Company royaltyrange; Client American Appraisal; Product used None; URL: https://www.royaltyrange.com\n",
      "Issue found: Company royaltyrange; Client Coca-cola; Product used None; URL: https://www.royaltyrange.com\n",
      "Issue found: Company royaltyrange; Client BDO; Product used None; URL: https://www.royaltyrange.com\n",
      "Issue found: Company royaltyrange; Client Mazars; Product used None; URL: https://www.royaltyrange.com\n",
      "Issue found: Company royaltyrange; Client Grant Thornton; Product used None; URL: https://www.royaltyrange.com\n",
      "Issue found: Company royaltyrange; Client Baker & McKenzie; Product used None; URL: https://www.royaltyrange.com\n",
      "Issue found: Company royaltyrange; Client Moore Stephens; Product used None; URL: https://www.royaltyrange.com\n",
      "Issue found: Company royaltyrange; Client Baker Tilly; Product used None; URL: https://www.royaltyrange.com\n",
      "Issue found: Company royaltyrange; Client Crowe Horwath; Product used None; URL: https://www.royaltyrange.com\n",
      "Issue found: Company royaltyrange; Client Taxand; Product used None; URL: https://www.royaltyrange.com\n",
      "Issue found: Company udu; Client Charter Oak Equity; Product used udu; URL: https://www.udu.co\n",
      "Issue found: Company udu; Client AdWerx; Product used udu; URL: https://www.udu.co\n",
      "Issue found: Company udu; Client RFE Investment Partners; Product used udu; URL: https://www.udu.co\n",
      "Issue found: Company udu; Client RentalBeast; Product used udu; URL: https://www.udu.co\n",
      "Issue found: Company udu; Client sbLiftOff; Product used udu; URL: https://www.udu.co\n",
      "Issue found: Company udu; Client NexPhase Capital; Product used udu; URL: https://www.udu.co\n",
      "Issue found: Company udu; Client PE Stack; Product used udu; URL: https://www.udu.co\n",
      "Issue found: Company property_deals_insight; Client TG & Co Properties Ltd; Product used None; URL: https://www.propertydealsinsight.com\n",
      "Issue found: Company sicommnet; Client CobbleStone Systems Corp.; Product used None; URL: https://www.sicomm.net\n",
      "Issue found: Company sicommnet; Client ISRI; Product used None; URL: https://www.sicomm.net\n",
      "Issue found: Company sicommnet; Client NGS, LLP; Product used None; URL: https://www.sicomm.net\n",
      "Issue found: Company sicommnet; Client Applied Marketing Group; Product used None; URL: https://www.sicomm.net\n",
      "Issue found: Company sicommnet; Client MACS; Product used None; URL: https://www.sicomm.net\n",
      "Issue found: Company valid8_financial; Client State Agency; Product used None; URL: https://www.valid8financial.com\n",
      "Issue found: Company rialto; Client SPARK Real Estate; Product used None; URL: https://www.getrialto.com\n",
      "Issue found: Company rialto; Client Cushman & Wakefield; Product used None; URL: https://www.getrialto.com\n",
      "Issue found: Company rialto; Client The Silvertown Partnership; Product used None; URL: https://www.getrialto.com\n",
      "Issue found: Company davo_technologies; Client Playa Bowls; Product used None; URL: https://www.davosalestax.com\n",
      "Issue found: Company davo_technologies; Client Prince Pizzeria; Product used None; URL: https://www.davosalestax.com\n",
      "Issue found: Company homeflow; Client Stags; Product used None; URL: https://www.homeflow.co.uk\n",
      "Issue found: Company homeflow; Client John Francis; Product used None; URL: https://www.homeflow.co.uk\n",
      "Issue found: Company homeflow; Client Jackson-Stops; Product used None; URL: https://www.homeflow.co.uk\n",
      "Issue found: Company homeflow; Client Dacres; Product used None; URL: https://www.homeflow.co.uk\n",
      "Issue found: Company homeflow; Client Connells; Product used None; URL: https://www.homeflow.co.uk\n",
      "Issue found: Company homeflow; Client Hamptons; Product used None; URL: https://www.homeflow.co.uk\n",
      "Issue found: Company homeflow; Client Bairstow Eves; Product used None; URL: https://www.homeflow.co.uk\n",
      "Issue found: Company homeflow; Client Countrywide; Product used None; URL: https://www.homeflow.co.uk\n",
      "Issue found: Company forwardlane; Client Microsoft; Product used None; URL: https://www.forwardlane.com\n",
      "Issue found: Company forwardlane; Client Open AI; Product used None; URL: https://www.forwardlane.com\n",
      "Issue found: Company setoo; Client Issta; Product used None; URL: https://www.setoo.com\n",
      "Issue found: Company setoo; Client Liknoss; Product used None; URL: https://www.setoo.com\n",
      "Issue found: Company setoo; Client Last Minute; Product used None; URL: https://www.setoo.com\n",
      "Issue found: Company setoo; Client Omio; Product used None; URL: https://www.setoo.com\n",
      "Issue found: Company privacy_lock; Client Coreteq Ventures; Product used None; URL: https://www.myprivacylock.io\n",
      "Issue found: Company privacy_lock; Client Bankers Helping Bankers Fund; Product used None; URL: https://www.myprivacylock.io\n",
      "Issue found: Company privacy_lock; Client FinWise Bank; Product used None; URL: https://www.myprivacylock.io\n",
      "Issue found: Company privacy_lock; Client Sutton Payments; Product used None; URL: https://www.myprivacylock.io\n",
      "Issue found: Company privacy_lock; Client Dexy Digital; Product used None; URL: https://www.myprivacylock.io\n",
      "Issue found: Company cardlytics; Client Marriott Hotels; Product used None; URL: https://www.cardlytics.com\n",
      "Issue found: Company cardlytics; Client Betterment; Product used None; URL: https://www.cardlytics.com\n",
      "Issue found: Company keybee; Client VRBO; Product used None; URL: https://www.keybeehosting.com\n",
      "Issue found: Company keybee; Client HomeAway; Product used None; URL: https://www.keybeehosting.com\n",
      "Issue found: Company keybee; Client Booking.com; Product used None; URL: https://www.keybeehosting.com\n",
      "Issue found: Company pf_nexus; Client The AES Corporation; Product used None; URL: https://www.pfnexus.com\n",
      "Issue found: Company pf_nexus; Client NextEra Energy Partners LP; Product used None; URL: https://www.pfnexus.com\n",
      "Issue found: Company pf_nexus; Client Scatec AS; Product used None; URL: https://www.pfnexus.com\n",
      "Issue found: Company pf_nexus; Client ESB; Product used None; URL: https://www.pfnexus.com\n",
      "Issue found: Company pf_nexus; Client ENGIE UK; Product used None; URL: https://www.pfnexus.com\n",
      "Issue found: Company pf_nexus; Client Lightsource BP; Product used None; URL: https://www.pfnexus.com\n",
      "Issue found: Company pf_nexus; Client Gresham House Asset Management; Product used None; URL: https://www.pfnexus.com\n",
      "Issue found: Company pf_nexus; Client Aquila Capital; Product used None; URL: https://www.pfnexus.com\n",
      "Issue found: Company pf_nexus; Client EDF Renewables; Product used None; URL: https://www.pfnexus.com\n",
      "Issue found: Company pf_nexus; Client Mainstream Renewable Power; Product used None; URL: https://www.pfnexus.com\n",
      "Issue found: Company intergen_data; Client MetLife; Product used Life Event Data and AIML Technology; URL: https://www.intergendata.com\n",
      "Issue found: Company intergen_data; Client jaccomo; Product used None; URL: https://www.intergendata.com\n",
      "Issue found: Company intergen_data; Client Spectrum Health Solutions; Product used Predictive AI; URL: https://www.intergendata.com\n",
      "Issue found: Company intergen_data; Client Syntegra; Product used None; URL: https://www.intergendata.com\n",
      "Issue found: Company comentis; Client FRF; Product used None; URL: https://www.comentis.co.uk\n",
      "Issue found: Company comentis; Client Hiber; Product used None; URL: https://www.comentis.co.uk\n",
      "Issue found: Company comentis; Client Phoenix; Product used None; URL: https://www.comentis.co.uk\n",
      "Issue found: Company comentis; Client Tenet Compliance Services; Product used None; URL: https://www.comentis.co.uk\n",
      "Issue found: Company tooodooo; Client SN APILOG - GCC; Product used None; URL: https://www.tooodooo.com\n",
      "Issue found: Company tooodooo; Client LED3; Product used None; URL: https://www.tooodooo.com\n",
      "Issue found: Company tooodooo; Client LEXON; Product used None; URL: https://www.tooodooo.com\n",
      "Issue found: Company tooodooo; Client GRADE ZERO; Product used None; URL: https://www.tooodooo.com\n",
      "Issue found: Company tooodooo; Client LEADIX; Product used None; URL: https://www.tooodooo.com\n",
      "Issue found: Company planky; Client Fleetcor; Product used None; URL: https://www.planky.com\n",
      "Issue found: Company planky; Client IFS; Product used None; URL: https://www.planky.com\n",
      "Issue found: Company planky; Client The Co-op Credit Union; Product used None; URL: https://www.planky.com\n",
      "Issue found: Company planky; Client Magnitude Finance; Product used None; URL: https://www.planky.com\n",
      "Issue found: Company planky; Client DSG Financial Services; Product used None; URL: https://www.planky.com\n",
      "Issue found: Company planky; Client Sunshine Mobile; Product used None; URL: https://www.planky.com\n",
      "Issue found: Company planky; Client Rental Goods; Product used None; URL: https://www.planky.com\n",
      "Issue found: Company planky; Client Incuto; Product used None; URL: https://www.planky.com\n",
      "Issue found: Company planky; Client Love Finance; Product used None; URL: https://www.planky.com\n",
      "Issue found: Company timeline; Client Malvern Financial Planning; Product used None; URL: https://www.timeline.co\n",
      "Issue found: Company vartana; Client Samsara; Product used None; URL: https://www.vartana.co\n",
      "Issue found: Company opus_connect; Client Caldicot Capital; Product used None; URL: https://www.opusconnect.com\n",
      "Issue found: Company opus_connect; Client Tregaron Capital; Product used None; URL: https://www.opusconnect.com\n",
      "Issue found: Company opus_connect; Client ACT Capital Advisors; Product used None; URL: https://www.opusconnect.com\n",
      "Issue found: Company kintsugi_ai; Client Alchemy Marketing; Product used None; URL: https://www.trykintsugi.com\n",
      "Issue found: Company kintsugi_ai; Client Gwella; Product used None; URL: https://www.trykintsugi.com\n",
      "Issue found: Company kintsugi_ai; Client Denimrush; Product used None; URL: https://www.trykintsugi.com\n",
      "Issue found: Company chainlink_labs; Client AWS; Product used None; URL: https://www.chainlinklabs.com\n",
      "Issue found: Company chainlink_labs; Client Google Cloud; Product used None; URL: https://www.chainlinklabs.com\n",
      "Issue found: Company chainlink_labs; Client Vodafone; Product used None; URL: https://www.chainlinklabs.com\n",
      "Issue found: Company chainlink_labs; Client ANZ; Product used None; URL: https://www.chainlinklabs.com\n",
      "Issue found: Company chainlink_labs; Client PwC; Product used None; URL: https://www.chainlinklabs.com\n",
      "Issue found: Company chainlink_labs; Client DTCC; Product used None; URL: https://www.chainlinklabs.com\n",
      "Issue found: Company chainlink_labs; Client ARTA TechFin; Product used None; URL: https://www.chainlinklabs.com\n",
      "Issue found: Company chainlink_labs; Client Compound; Product used None; URL: https://www.chainlinklabs.com\n",
      "Issue found: Company chainlink_labs; Client GMX; Product used None; URL: https://www.chainlinklabs.com\n",
      "Issue found: Company chainlink_labs; Client Maker; Product used None; URL: https://www.chainlinklabs.com\n",
      "Issue found: Company chainlink_labs; Client Synthetix; Product used None; URL: https://www.chainlinklabs.com\n",
      "Issue found: Company campfiresocial; Client Maritz Global Events; Product used None; URL: https://www.campfiresocial.io\n",
      "Issue found: Company campfiresocial; Client LAX Nation; Product used None; URL: https://www.campfiresocial.io\n",
      "Issue found: Company campfiresocial; Client Event Tech Live; Product used None; URL: https://www.campfiresocial.io\n",
      "Issue found: Company campfiresocial; Client Ohio Marine Trades Association; Product used None; URL: https://www.campfiresocial.io\n",
      "Issue found: Company campfiresocial; Client A50 Noora; Product used None; URL: https://www.campfiresocial.io\n",
      "Issue found: Company campfiresocial; Client International Carwash Association; Product used None; URL: https://www.campfiresocial.io\n",
      "Issue found: Company pinnacle_realty_advisors; Client Steven Pracht; Product used None; URL: https://www.pinnaclera.com\n",
      "Issue found: Company pinnacle_realty_advisors; Client Joey Lynn Hagood; Product used None; URL: https://www.pinnaclera.com\n",
      "Issue found: Company pinnacle_realty_advisors; Client Jonathan Fayard; Product used None; URL: https://www.pinnaclera.com\n",
      "Issue found: Company fi_works; Client First National Bank & Trust; Product used Customer Data Platform; URL: https://www.fiworks.com\n",
      "Issue found: Company fi_works; Client University Credit Union; Product used Customer Data Platform; URL: https://www.fiworks.com\n",
      "Issue found: Company fi_works; Client Baker Hill; Product used None; URL: https://www.fiworks.com\n",
      "Issue found: Company fi_works; Client Citizens First Bank; Product used Customer Data Platform; URL: https://www.fiworks.com\n",
      "Issue found: Company kody; Client Frog London; Product used None; URL: https://www.kody.com\n",
      "Issue found: Company kody; Client Jack's Gelato; Product used None; URL: https://www.kody.com\n",
      "Issue found: Company kody; Client BaoziInn; Product used None; URL: https://www.kody.com\n",
      "Issue found: Company kody; Client Din Tai Fung; Product used None; URL: https://www.kody.com\n",
      "Issue found: Company kody; Client Jimmy's; Product used None; URL: https://www.kody.com\n",
      "Issue found: Company kody; Client Luxford Burgers; Product used None; URL: https://www.kody.com\n",
      "Issue found: Company kody; Client Fallow; Product used None; URL: https://www.kody.com\n",
      "Issue found: Company kody; Client ChungDam; Product used None; URL: https://www.kody.com\n",
      "Issue found: Company kody; Client Ugly Butterfly; Product used None; URL: https://www.kody.com\n",
      "Issue found: Company kody; Client Loch & Tyne; Product used None; URL: https://www.kody.com\n",
      "Issue found: Company kody; Client Ming Moon; Product used None; URL: https://www.kody.com\n",
      "Issue found: Company kody; Client Royal China Group; Product used None; URL: https://www.kody.com\n",
      "Issue found: Company kody; Client Jones Family Kitchen; Product used None; URL: https://www.kody.com\n",
      "Issue found: Company kody; Client Golden Dragon; Product used None; URL: https://www.kody.com\n",
      "Issue found: Company kody; Client Luxx London; Product used None; URL: https://www.kody.com\n",
      "Issue found: Company kody; Client Charco Charco; Product used None; URL: https://www.kody.com\n",
      "Issue found: Company kody; Client Sumosan Twiga; Product used None; URL: https://www.kody.com\n",
      "Issue found: Company kody; Client Eat Tokyo; Product used None; URL: https://www.kody.com\n",
      "Issue found: Company kody; Client Jinli; Product used None; URL: https://www.kody.com\n",
      "Issue found: Company kody; Client Four Seasons; Product used None; URL: https://www.kody.com\n",
      "Issue found: Company payroll_integrations; Client BEON Retirement; Product used None; URL: https://www.payrollintegrations.com\n",
      "Issue found: Company payroll_integrations; Client TheStandard; Product used None; URL: https://www.payrollintegrations.com\n",
      "Issue found: Company payroll_integrations; Client ktrade; Product used None; URL: https://www.payrollintegrations.com\n",
      "Issue found: Company payroll_integrations; Client OneAmerica; Product used None; URL: https://www.payrollintegrations.com\n",
      "Issue found: Company payroll_integrations; Client Empower; Product used None; URL: https://www.payrollintegrations.com\n",
      "Issue found: Company payroll_integrations; Client John Hancock; Product used None; URL: https://www.payrollintegrations.com\n",
      "Issue found: Company payroll_integrations; Client ADP Marketplace Partner; Product used None; URL: https://www.payrollintegrations.com\n",
      "Issue found: Company payroll_integrations; Client Principal; Product used None; URL: https://www.payrollintegrations.com\n",
      "Issue found: Company payroll_integrations; Client Ubiquity; Product used None; URL: https://www.payrollintegrations.com\n",
      "Issue found: Company payroll_integrations; Client Paylocity; Product used None; URL: https://www.payrollintegrations.com\n",
      "Issue found: Company payroll_integrations; Client Transamerica; Product used None; URL: https://www.payrollintegrations.com\n",
      "Issue found: Company payroll_integrations; Client Voya; Product used None; URL: https://www.payrollintegrations.com\n",
      "Issue found: Company payroll_integrations; Client Paychex; Product used None; URL: https://www.payrollintegrations.com\n",
      "Issue found: Company payroll_integrations; Client Lincoln Financial Group; Product used None; URL: https://www.payrollintegrations.com\n",
      "Issue found: Company payroll_integrations; Client Alerus; Product used None; URL: https://www.payrollintegrations.com\n",
      "Issue found: Company payroll_integrations; Client Intuit Quickbooks; Product used None; URL: https://www.payrollintegrations.com\n",
      "Issue found: Company payroll_integrations; Client Ascensus; Product used None; URL: https://www.payrollintegrations.com\n",
      "Issue found: Company payroll_integrations; Client American Funds; Product used None; URL: https://www.payrollintegrations.com\n",
      "Issue found: Company payroll_integrations; Client Workday; Product used None; URL: https://www.payrollintegrations.com\n",
      "Issue found: Company payroll_integrations; Client Betterment; Product used None; URL: https://www.payrollintegrations.com\n",
      "Issue found: Company payroll_integrations; Client Cuna Mutual Group; Product used None; URL: https://www.payrollintegrations.com\n",
      "Issue found: Company payroll_integrations; Client Paycom; Product used None; URL: https://www.payrollintegrations.com\n",
      "Issue found: Company payroll_integrations; Client Benefits Consultants Group; Product used None; URL: https://www.payrollintegrations.com\n",
      "Issue found: Company payroll_integrations; Client isolved; Product used None; URL: https://www.payrollintegrations.com\n",
      "Issue found: Company payroll_integrations; Client HSA Bank; Product used None; URL: https://www.payrollintegrations.com\n",
      "Issue found: Company payroll_integrations; Client EPIC Retirement; Product used None; URL: https://www.payrollintegrations.com\n",
      "Issue found: Company payroll_integrations; Client ERISA; Product used None; URL: https://www.payrollintegrations.com\n",
      "Issue found: Company payroll_integrations; Client Evolve Retirement; Product used None; URL: https://www.payrollintegrations.com\n",
      "Issue found: Company payroll_integrations; Client CompassOne Payroll; Product used None; URL: https://www.payrollintegrations.com\n",
      "Issue found: Company payroll_integrations; Client FinDec; Product used None; URL: https://www.payrollintegrations.com\n",
      "Issue found: Company payroll_integrations; Client HRtoGO; Product used None; URL: https://www.payrollintegrations.com\n",
      "Issue found: Company payroll_integrations; Client CAVU HCM; Product used None; URL: https://www.payrollintegrations.com\n",
      "Issue found: Company payroll_integrations; Client TRI-AD; Product used None; URL: https://www.payrollintegrations.com\n",
      "Issue found: Company payroll_integrations; Client Apex HCM; Product used None; URL: https://www.payrollintegrations.com\n",
      "Issue found: Company payroll_integrations; Client Optima Benefits & Payroll; Product used None; URL: https://www.payrollintegrations.com\n",
      "Issue found: Company payroll_integrations; Client Allied Financial Partners; Product used None; URL: https://www.payrollintegrations.com\n",
      "Issue found: Company payroll_integrations; Client July Retirement; Product used None; URL: https://www.payrollintegrations.com\n",
      "Issue found: Company payroll_integrations; Client Spectrum Pension Consultants; Product used None; URL: https://www.payrollintegrations.com\n",
      "Issue found: Company payroll_integrations; Client LT Trust; Product used None; URL: https://www.payrollintegrations.com\n",
      "Issue found: Company payroll_integrations; Client MVP Plan Administrators; Product used None; URL: https://www.payrollintegrations.com\n",
      "Issue found: Company payroll_integrations; Client NEPS; Product used None; URL: https://www.payrollintegrations.com\n",
      "Issue found: Company payroll_integrations; Client Sentinel Group; Product used None; URL: https://www.payrollintegrations.com\n",
      "Issue found: Company payroll_integrations; Client PAi; Product used None; URL: https://www.payrollintegrations.com\n",
      "Issue found: Company payroll_integrations; Client PCS Retirement; Product used None; URL: https://www.payrollintegrations.com\n",
      "Issue found: Company payroll_integrations; Client Saturna Capital; Product used None; URL: https://www.payrollintegrations.com\n",
      "Issue found: Company payroll_integrations; Client Workplace HCM; Product used None; URL: https://www.payrollintegrations.com\n",
      "Issue found: Company payroll_integrations; Client NestEggs; Product used None; URL: https://www.payrollintegrations.com\n",
      "Issue found: Company payroll_integrations; Client Ameritas; Product used None; URL: https://www.payrollintegrations.com\n",
      "Issue found: Company payroll_integrations; Client Human Interest; Product used None; URL: https://www.payrollintegrations.com\n",
      "Issue found: Company eved; Client Midwest Transit System; Product used Global Payments Platform for Events, Media, and Entertainment; URL: https://www.eved.com\n",
      "Issue found: Company eved; Client AVEX International; Product used None; URL: https://www.eved.com\n",
      "Issue found: Company eved; Client Stuart-Rodgers Photography; Product used Global Payments Platform for Events, Media, and Entertainment; URL: https://www.eved.com\n",
      "Issue found: Company eved; Client Hyatt; Product used Global Payments Platform for Events, Media, and Entertainment; URL: https://www.eved.com\n",
      "Issue found: Company kurtosys_systems; Client BMO Global Asset Management; Product used None; URL: https://www.kurtosys.com\n",
      "Issue found: Company kurtosys_systems; Client Redwheel; Product used None; URL: https://www.kurtosys.com\n",
      "Issue found: Company kurtosys_systems; Client abrdn; Product used None; URL: https://www.kurtosys.com\n",
      "Issue found: Company humanitru; Client Backoffice Thinking; Product used None; URL: https://www.humanitru.com\n",
      "Issue found: Company humanitru; Client SJ Consulting; Product used None; URL: https://www.humanitru.com\n",
      "Issue found: Company humanitru; Client The Sollog Group; Product used None; URL: https://www.humanitru.com\n",
      "Issue found: Company humanitru; Client QMaster; Product used None; URL: https://www.humanitru.com\n",
      "Issue found: Company humanitru; Client Raise Heck; Product used None; URL: https://www.humanitru.com\n",
      "Issue found: Company humanitru; Client Sentinel Consulting; Product used None; URL: https://www.humanitru.com\n",
      "Issue found: Company humanitru; Client Kristine Masta; Product used None; URL: https://www.humanitru.com\n",
      "Issue found: Company sustainability_roundtable; Client Autodesk; Product used None; URL: https://www.sustainround.com\n",
      "Issue found: Company sustainability_roundtable; Client Cisco; Product used None; URL: https://www.sustainround.com\n",
      "Issue found: Company sustainability_roundtable; Client Lenovo; Product used None; URL: https://www.sustainround.com\n",
      "Issue found: Company sustainability_roundtable; Client McKesson; Product used None; URL: https://www.sustainround.com\n",
      "Issue found: Company measurabl; Client Salesforce; Product used None; URL: https://www.measurabl.com\n",
      "Issue found: Company measurabl; Client Digital Realty; Product used None; URL: https://www.measurabl.com\n",
      "Issue found: Company measurabl; Client Corestate; Product used None; URL: https://www.measurabl.com\n",
      "Issue found: Company cryptosheets; Client Nexibeo/CoinCheckup.com; Product used None; URL: https://www.cryptosheets.com\n",
      "Issue found: Company massive; Client Point 72; Product used None; URL: https://www.joinmassive.com\n",
      "Issue found: Company massive; Client Mozilla; Product used None; URL: https://www.joinmassive.com\n",
      "Issue found: Company massive; Client Hustle funds; Product used None; URL: https://www.joinmassive.com\n",
      "Issue found: Company massive; Client Microsoft for Startups; Product used None; URL: https://www.joinmassive.com\n",
      "Issue found: Company massive; Client Nvidia; Product used None; URL: https://www.joinmassive.com\n",
      "Issue found: Company massive; Client Xoogler; Product used None; URL: https://www.joinmassive.com\n",
      "Issue found: Company portfoliobay; Client Lake Chen; Product used None; URL: https://www.portfoliobay.com\n",
      "Issue found: Company insurgrid; Client The Bagby Agency; Product used None; URL: https://www.insurgrid.com\n",
      "Issue found: Company insurgrid; Client The Nancy K Insurance Agency; Product used None; URL: https://www.insurgrid.com\n",
      "Issue found: Company insurgrid; Client Rob Thomas Insurance Agency; Product used None; URL: https://www.insurgrid.com\n",
      "Issue found: Company insurgrid; Client Conner Insurance Group; Product used None; URL: https://www.insurgrid.com\n",
      "Issue found: Company insurgrid; Client Sharpe & Associates Insurance Agency; Product used None; URL: https://www.insurgrid.com\n",
      "Issue found: Company insurgrid; Client Absolute Insurance; Product used None; URL: https://www.insurgrid.com\n",
      "Issue found: Company insurgrid; Client Sea to Sky Insurance; Product used None; URL: https://www.insurgrid.com\n",
      "Issue found: Company insurgrid; Client United Risk Agency; Product used None; URL: https://www.insurgrid.com\n",
      "Issue found: Company insurgrid; Client NSE Insurance; Product used None; URL: https://www.insurgrid.com\n",
      "Issue found: Company insurgrid; Client Bingham Insurance Group; Product used None; URL: https://www.insurgrid.com\n",
      "Issue found: Company insurgrid; Client Providence Insurance; Product used None; URL: https://www.insurgrid.com\n",
      "Issue found: Company supplyshift; Client Edge Impact; Product used None; URL: https://www.supplyshift.net\n",
      "Issue found: Company supplyshift; Client Pure Strategies; Product used None; URL: https://www.supplyshift.net\n",
      "Issue found: Company supplyshift; Client SCS Global Services; Product used None; URL: https://www.supplyshift.net\n",
      "Issue found: Company supplyshift; Client Anthesis; Product used None; URL: https://www.supplyshift.net\n",
      "Issue found: Company commercesync; Client Authorize.Net; Product used None; URL: https://www.commercesync.com\n",
      "Issue found: Company commercesync; Client Clover; Product used None; URL: https://www.commercesync.com\n",
      "Issue found: Company commercesync; Client GoDaddy Poynt; Product used None; URL: https://www.commercesync.com\n",
      "Issue found: Company commercesync; Client Lightspeed; Product used None; URL: https://www.commercesync.com\n",
      "Issue found: Company commercesync; Client Square; Product used None; URL: https://www.commercesync.com\n",
      "Issue found: Company commercesync; Client Stripe; Product used None; URL: https://www.commercesync.com\n",
      "Issue found: Company commercesync; Client Donorbox; Product used None; URL: https://www.commercesync.com\n",
      "Issue found: Company commercesync; Client Right Networks; Product used None; URL: https://www.commercesync.com\n",
      "Issue found: Company scripta_insights; Client A Fortune 500 maker of luxury business jets; Product used None; URL: https://www.scriptainsights.com\n",
      "Issue found: Company vindicia; Client Media Prima Berhad; Product used None; URL: https://www.vindicia.com\n",
      "Issue found: Company vindicia; Client Eros Digital; Product used None; URL: https://www.vindicia.com\n",
      "Issue found: Company vindicia; Client Forrester; Product used None; URL: https://www.vindicia.com\n",
      "Issue found: Company reloadly; Client Crypto2Mobile; Product used None; URL: https://www.reloadly.com\n",
      "Issue found: Company reloadly; Client ClipClaps; Product used None; URL: https://www.reloadly.com\n",
      "Issue found: Company chaser; Client Revis & Co Accountancy Services Ltd; Product used None; URL: https://www.chaserhq.com\n",
      "Issue found: Company chaser; Client Integrity Partnership; Product used None; URL: https://www.chaserhq.com\n",
      "Issue found: Company chaser; Client de Jong Phillips; Product used None; URL: https://www.chaserhq.com\n",
      "Issue found: Company chaser; Client FD Works; Product used None; URL: https://www.chaserhq.com\n",
      "Issue found: Company chaser; Client Hysons Chartered Accountants; Product used None; URL: https://www.chaserhq.com\n",
      "Issue found: Company chaser; Client Direct Peak Ltd; Product used None; URL: https://www.chaserhq.com\n",
      "Issue found: Company chaser; Client Not Just Numbers Ltd; Product used None; URL: https://www.chaserhq.com\n",
      "Issue found: Company chaser; Client Nuvem 9 Limited; Product used None; URL: https://www.chaserhq.com\n",
      "Issue found: Company chaser; Client Azuki Accounts Limited; Product used None; URL: https://www.chaserhq.com\n",
      "Issue found: Company chaser; Client Valued Accountancy; Product used None; URL: https://www.chaserhq.com\n",
      "Issue found: Company chaser; Client GrowBe; Product used None; URL: https://www.chaserhq.com\n",
      "Issue found: Company chaser; Client Finance Box; Product used None; URL: https://www.chaserhq.com\n",
      "Issue found: Company chaser; Client Garbutt & Elliott LLP; Product used None; URL: https://www.chaserhq.com\n",
      "Issue found: Company chaser; Client Burgis & Bullock; Product used None; URL: https://www.chaserhq.com\n",
      "Issue found: Company chaser; Client Quantico; Product used None; URL: https://www.chaserhq.com\n",
      "Issue found: Company chaser; Client BBK Partnership; Product used None; URL: https://www.chaserhq.com\n",
      "Issue found: Company chaser; Client Get In The Cloud Business Solutions; Product used None; URL: https://www.chaserhq.com\n",
      "Issue found: Company chaser; Client Nephos Lmited; Product used None; URL: https://www.chaserhq.com\n",
      "Issue found: Company chaser; Client BHP LLP; Product used None; URL: https://www.chaserhq.com\n",
      "Issue found: Company chaser; Client Conall Dunne & Company; Product used None; URL: https://www.chaserhq.com\n",
      "Issue found: Company chaser; Client Shorts; Product used None; URL: https://www.chaserhq.com\n",
      "Issue found: Company chaser; Client Northern Accountants; Product used None; URL: https://www.chaserhq.com\n",
      "Issue found: Company chaser; Client Cloudworx; Product used None; URL: https://www.chaserhq.com\n",
      "Issue found: Company chaser; Client Accounting Advisors; Product used None; URL: https://www.chaserhq.com\n",
      "Issue found: Company chaser; Client Portt & Co; Product used None; URL: https://www.chaserhq.com\n",
      "Issue found: Company chaser; Client MAP; Product used None; URL: https://www.chaserhq.com\n",
      "Issue found: Company chaser; Client Scope; Product used None; URL: https://www.chaserhq.com\n",
      "Issue found: Company chaser; Client Inform Accounting Ltd; Product used None; URL: https://www.chaserhq.com\n",
      "Issue found: Company chaser; Client The Counting House; Product used None; URL: https://www.chaserhq.com\n",
      "Issue found: Company flare; Client Rgestas; Product used None; URL: https://www.flarefs.com\n",
      "Issue found: Company pineapple_labs; Client Delroy; Product used None; URL: https://www.pineapplelabs.io\n",
      "Issue found: Company pineapple_labs; Client Stewart; Product used None; URL: https://www.pineapplelabs.io\n",
      "Issue found: Company simplelegal; Client None; Product used None; URL: https://www.simplelegal.com\n",
      "Issue found: Company blueswipe; Client Primis Bank; Product used None; URL: https://www.goblueswipe.com\n",
      "Issue found: Company satsuma; Client Brawler Bearz; Product used None; URL: https://www.satsuma.xyz\n",
      "Issue found: Company satsuma; Client Pudgy Penguins; Product used None; URL: https://www.satsuma.xyz\n",
      "Issue found: Company satsuma; Client Crossmint; Product used None; URL: https://www.satsuma.xyz\n",
      "Issue found: Company cerebro_capital; Client Manufacturing; Product used None; URL: https://www.cerebrocapital.com\n",
      "Issue found: Company cerebro_capital; Client Travel Technology Industry; Product used None; URL: https://www.cerebrocapital.com\n",
      "Issue found: Company cerebro_capital; Client Management; Product used None; URL: https://www.cerebrocapital.com\n",
      "Issue found: Company cerebro_capital; Client Fast food franchise; Product used None; URL: https://www.cerebrocapital.com\n",
      "Issue found: Company cerebro_capital; Client Independent Sponsor; Product used None; URL: https://www.cerebrocapital.com\n",
      "Issue found: Company cerebro_capital; Client Commercial printing business; Product used None; URL: https://www.cerebrocapital.com\n",
      "Issue found: Company builders_patch; Client NYCHDC; Product used None; URL: https://www.builderspatch.com\n",
      "Issue found: Company candidly; Client Empower; Product used None; URL: https://www.getcandidly.com\n",
      "Issue found: Company candidly; Client Fiserv; Product used None; URL: https://www.getcandidly.com\n",
      "Issue found: Company candidly; Client UBS; Product used None; URL: https://www.getcandidly.com\n",
      "Issue found: Company candidly; Client Lincoln Financial Group; Product used None; URL: https://www.getcandidly.com\n",
      "Issue found: Company candidly; Client Guild Education; Product used None; URL: https://www.getcandidly.com\n",
      "Issue found: Company candidly; Client Benefitfocus; Product used None; URL: https://www.getcandidly.com\n",
      "Issue found: Company candidly; Client Salesforce; Product used None; URL: https://www.getcandidly.com\n",
      "Issue found: Company netfin; Client Leading Global Financial Firm; Product used None; URL: https://www.network-financials.com\n",
      "Issue found: Company netfin; Client Well established Financial Firm; Product used None; URL: https://www.network-financials.com\n",
      "Issue found: Company netfin; Client Leading wealth management firm; Product used None; URL: https://www.network-financials.com\n",
      "Issue found: Company privco; Client American Express; Product used None; URL: https://www.privco.com\n",
      "Issue found: Company privco; Client Microsoft; Product used None; URL: https://www.privco.com\n",
      "Issue found: Company privco; Client Stephens; Product used None; URL: https://www.privco.com\n",
      "Issue found: Company privco; Client Wharton; Product used None; URL: https://www.privco.com\n",
      "Issue found: Company kalder; Client HEAT; Product used Branded Cards and Kalder's Loyalty and Rewards Platform; URL: https://www.kalder.app\n",
      "Issue found: Company kalder; Client Advisry; Product used None; URL: https://www.kalder.app\n",
      "Issue found: Company ledger_works; Client Cyberscope; Product used None; URL: https://www.lworks.io\n",
      "Issue found: Company ledger_works; Client Tolam Earth; Product used None; URL: https://www.lworks.io\n",
      "Issue found: Company maxwell; Client Homeowners Financial Group; Product used None; URL: https://www.himaxwell.com\n",
      "Issue found: Company maxwell; Client theLender; Product used None; URL: https://www.himaxwell.com\n",
      "Issue found: Company maxwell; Client Country Bank; Product used None; URL: https://www.himaxwell.com\n",
      "Issue found: Company atlas_space; Client lazzoni.com.tr; Product used None; URL: https://www.atlas.space\n",
      "Issue found: Company atlas_space; Client powerapp.com.tr; Product used None; URL: https://www.atlas.space\n",
      "Issue found: Company atlas_space; Client pitch-beach.com; Product used None; URL: https://www.atlas.space\n",
      "Issue found: Company atlas_space; Client readyplayer.me; Product used None; URL: https://www.atlas.space\n",
      "Issue found: Company atlas_space; Client aws.amazon.com; Product used None; URL: https://www.atlas.space\n",
      "Issue found: Company atlas_space; Client techone.vc; Product used None; URL: https://www.atlas.space\n",
      "Issue found: Company atlas_space; Client startupfon.com; Product used None; URL: https://www.atlas.space\n",
      "Issue found: Company atlas_space; Client bigbrain.holdings; Product used None; URL: https://www.atlas.space\n",
      "Issue found: Company atlas_space; Client iqzone.io/launchpad; Product used None; URL: https://www.atlas.space\n",
      "Issue found: Company atlas_space; Client angeleffect.co; Product used None; URL: https://www.atlas.space\n",
      "Issue found: Company incentify; Client Kroger; Product used None; URL: https://www.incentify.com\n",
      "Issue found: Company incentify; Client Wyndham Hotels & Resorts; Product used None; URL: https://www.incentify.com\n",
      "Issue found: Company sync1_systems; Client 1st Community; Product used None; URL: https://www.sync1systems.com\n",
      "Issue found: Company sync1_systems; Client AdventHealth; Product used None; URL: https://www.sync1systems.com\n",
      "Issue found: Company sync1_systems; Client Affinity Credit Union; Product used None; URL: https://www.sync1systems.com\n",
      "Issue found: Company sync1_systems; Client All in Credit Union; Product used None; URL: https://www.sync1systems.com\n",
      "Issue found: Company sync1_systems; Client ANECA; Product used None; URL: https://www.sync1systems.com\n",
      "Issue found: Company sync1_systems; Client Arize; Product used None; URL: https://www.sync1systems.com\n",
      "Issue found: Company sync1_systems; Client Calhoun Liberty; Product used None; URL: https://www.sync1systems.com\n",
      "Issue found: Company sync1_systems; Client Commodore Perry FCU; Product used None; URL: https://www.sync1systems.com\n",
      "Issue found: Company sync1_systems; Client Community West CU; Product used None; URL: https://www.sync1systems.com\n",
      "Issue found: Company sync1_systems; Client Cumberland County FCU; Product used None; URL: https://www.sync1systems.com\n",
      "Issue found: Company sync1_systems; Client Dade County; Product used None; URL: https://www.sync1systems.com\n",
      "Issue found: Company sync1_systems; Client Day Air CU; Product used None; URL: https://www.sync1systems.com\n",
      "Issue found: Company sync1_systems; Client Destinations Credit Union; Product used None; URL: https://www.sync1systems.com\n",
      "Issue found: Company sync1_systems; Client Diversified Member Credit Union; Product used None; URL: https://www.sync1systems.com\n",
      "Issue found: Company sync1_systems; Client Dupaco Credit Union; Product used None; URL: https://www.sync1systems.com\n",
      "Issue found: Company sync1_systems; Client Family Focus FCU; Product used None; URL: https://www.sync1systems.com\n",
      "Issue found: Company sync1_systems; Client First Financial CU; Product used None; URL: https://www.sync1systems.com\n",
      "Issue found: Company sync1_systems; Client Hawaii Central FCU; Product used None; URL: https://www.sync1systems.com\n",
      "Issue found: Company sync1_systems; Client InFuze CU; Product used None; URL: https://www.sync1systems.com\n",
      "Issue found: Company sync1_systems; Client Labor Credit Union; Product used None; URL: https://www.sync1systems.com\n",
      "Issue found: Company sync1_systems; Client LGE Community CU; Product used None; URL: https://www.sync1systems.com\n",
      "Issue found: Company sync1_systems; Client Mobiloil CU; Product used None; URL: https://www.sync1systems.com\n",
      "Issue found: Company sync1_systems; Client Neighbors FCU; Product used None; URL: https://www.sync1systems.com\n",
      "Issue found: Company sync1_systems; Client Park City CU; Product used None; URL: https://www.sync1systems.com\n",
      "Issue found: Company sync1_systems; Client Parkside CU; Product used None; URL: https://www.sync1systems.com\n",
      "Issue found: Company sync1_systems; Client Partnership Financial CU; Product used None; URL: https://www.sync1systems.com\n",
      "Issue found: Company sync1_systems; Client Pelican State CU; Product used None; URL: https://www.sync1systems.com\n",
      "Issue found: Company sync1_systems; Client Pensacola CU; Product used None; URL: https://www.sync1systems.com\n",
      "Issue found: Company sync1_systems; Client Pinnacle CU; Product used None; URL: https://www.sync1systems.com\n",
      "Issue found: Company sync1_systems; Client RVA Financial; Product used None; URL: https://www.sync1systems.com\n",
      "Issue found: Company sync1_systems; Client San Antonio FCU; Product used None; URL: https://www.sync1systems.com\n",
      "Issue found: Company sync1_systems; Client Security CU; Product used None; URL: https://www.sync1systems.com\n",
      "Issue found: Company sync1_systems; Client Superior Credit Union; Product used None; URL: https://www.sync1systems.com\n",
      "Issue found: Company sync1_systems; Client Tongass FCU; Product used None; URL: https://www.sync1systems.com\n",
      "Issue found: Company sync1_systems; Client TruPartners CU; Product used None; URL: https://www.sync1systems.com\n",
      "Issue found: Company sync1_systems; Client Unison CU; Product used None; URL: https://www.sync1systems.com\n",
      "Issue found: Company sync1_systems; Client United Heritage CU; Product used None; URL: https://www.sync1systems.com\n",
      "Issue found: Company sync1_systems; Client Y-12 FCU; Product used None; URL: https://www.sync1systems.com\n",
      "Issue found: Company pantera_tools; Client BCI Central US; Product used None; URL: https://www.panteratools.com\n",
      "Issue found: Company mural; Client Acme; Product used None; URL: https://www.muralpay.com\n",
      "Issue found: Company courbanize; Client WinnCompanies; Product used None; URL: https://www.courbanize.com\n",
      "Issue found: Company courbanize; Client Cadillac Fairview; Product used None; URL: https://www.courbanize.com\n",
      "Issue found: Company ximplifi; Client QuickBooks; Product used None; URL: https://www.ximplifi.com\n",
      "Issue found: Company ximplifi; Client Sage Intacct; Product used None; URL: https://www.ximplifi.com\n",
      "Issue found: Company ximplifi; Client VRPlatform; Product used None; URL: https://www.ximplifi.com\n",
      "Issue found: Company ximplifi; Client Avalara MyLodgeTax; Product used None; URL: https://www.ximplifi.com\n",
      "Issue found: Company ximplifi; Client Bill.com; Product used None; URL: https://www.ximplifi.com\n",
      "Issue found: Company ximplifi; Client Track HS; Product used None; URL: https://www.ximplifi.com\n",
      "Issue found: Company ximplifi; Client Hospitable; Product used None; URL: https://www.ximplifi.com\n",
      "Issue found: Company ximplifi; Client OwnerRez; Product used None; URL: https://www.ximplifi.com\n",
      "Issue found: Company digital_onboarding; Client Certified FCU; Product used None; URL: https://www.digitalonboarding.com\n",
      "Issue found: Company digital_onboarding; Client Alliance CU; Product used None; URL: https://www.digitalonboarding.com\n",
      "Issue found: Company digital_onboarding; Client Canopy CU; Product used None; URL: https://www.digitalonboarding.com\n",
      "Issue found: Company digital_onboarding; Client Peoples Advantage FCU; Product used None; URL: https://www.digitalonboarding.com\n",
      "Issue found: Company digital_onboarding; Client Credit Union of Texas; Product used None; URL: https://www.digitalonboarding.com\n",
      "Issue found: Company digital_onboarding; Client P1FCU; Product used None; URL: https://www.digitalonboarding.com\n",
      "Issue found: Company digital_onboarding; Client Leader Bank; Product used None; URL: https://www.digitalonboarding.com\n",
      "Issue found: Company digital_onboarding; Client Financial Access FCU; Product used None; URL: https://www.digitalonboarding.com\n",
      "Issue found: Company digital_onboarding; Client Rize Credit Union; Product used None; URL: https://www.digitalonboarding.com\n",
      "Issue found: Company digital_onboarding; Client Hudson River Financial FCU; Product used None; URL: https://www.digitalonboarding.com\n",
      "Issue found: Company digital_onboarding; Client Trax Credit Union; Product used None; URL: https://www.digitalonboarding.com\n",
      "Issue found: Company digital_onboarding; Client TruStone Financial; Product used None; URL: https://www.digitalonboarding.com\n",
      "Issue found: Company digital_onboarding; Client UMassFive Federal Credit Union; Product used None; URL: https://www.digitalonboarding.com\n",
      "Issue found: Company digital_onboarding; Client Maui County Federal Credit Union; Product used None; URL: https://www.digitalonboarding.com\n",
      "Issue found: Company digital_onboarding; Client American Bank of Commerce; Product used None; URL: https://www.digitalonboarding.com\n",
      "Issue found: Company digital_onboarding; Client First Foundation Bank; Product used None; URL: https://www.digitalonboarding.com\n"
     ]
    }
   ],
   "source": [
    "doc_list = os.listdir('extraction_output_v2_original')\n",
    "for doc in doc_list:\n",
    "    \n",
    "    try:\n",
    "        processed_name = doc.replace('_extraction.json', '')\n",
    "        modified = False\n",
    "        extraction_file_path = f'extraction_output_v2_original/{processed_name}_extraction.json'\n",
    "        data = read_json_file(extraction_file_path)\n",
    "        \n",
    "        product_list = [product['name'] for product in data['product_descriptions']] + [data['summary_product_description']['name']]\n",
    "        \n",
    "        clients = data['validated_client_descriptions']\n",
    "        \n",
    "        if clients:\n",
    "            for client in clients:\n",
    "                if client['product_used'] not in product_list:\n",
    "                    print(f'Issue found: Company {processed_name}; Client {client[\"name\"]}; Product used {client[\"product_used\"]}; URL: {data[\"url\"]}')\n",
    "        #             client['product_used'] = data['summary_product_description']['name']\n",
    "        #             modified = True\n",
    "        \n",
    "        # if modified:\n",
    "        #     write_json_file(extraction_file_path, data)\n",
    "                        \n",
    "    except Exception as e:\n",
    "        print(f'Error found at {processed_name}: {e}')"
   ]
  },
  {
   "cell_type": "code",
   "execution_count": null,
   "metadata": {},
   "outputs": [],
   "source": [
    "doclist = os.listdir('client_scraping_output')\n",
    "for doc in tqdm(doclist):\n",
    "    try:\n",
    "        processed_name = doc.replace('.json', '')\n",
    "        scrape_file_path = f'client_scraping_output/{processed_name}.json'\n",
    "        summary_file_path = f'client_extraction_summary/{processed_name}_summary_str.json'\n",
    "        extraction_file_path = f'client_extraction_output/{processed_name}_extraction.json'\n",
    "\n",
    "        # _ = llm_summary_execution(processed_name = processed_name,\n",
    "        #                     scrape_file_path = scrape_file_path,\n",
    "        #                     summary_file_path = summary_file_path,\n",
    "        #                     model_name = 'gpt-4o-mini',\n",
    "        #                     overwrite = False)\n",
    "\n",
    "        # _ = llm_extraction_execution(processed_name = processed_name,\n",
    "        #                                 summary_file_path = summary_file_path,\n",
    "        #                                 extraction_file_path = extraction_file_path, \n",
    "        #                                 include_additional_context = True, \n",
    "        #                                 model_name = 'gpt-4o',\n",
    "        #                                 overwrite = False)\n",
    "\n",
    "        _ = get_product_embedding(processed_name = processed_name,\n",
    "                            extraction_file_path = extraction_file_path)\n",
    "\n",
    "        _ = add_client_url_to_extraction_output(processed_name = processed_name,\n",
    "                                    extraction_file_path = extraction_file_path)\n",
    "\n",
    "        # _ = update_client_list(processed_name = processed_name,\n",
    "        #                 extraction_file_path = extraction_file_path,\n",
    "        #                 client_file_path = 'data/client_info.json')\n",
    "    except Exception as e:\n",
    "        print(f'Error at {processed_name}: {e}')\n",
    "        "
   ]
  },
  {
   "cell_type": "code",
   "execution_count": 12,
   "metadata": {},
   "outputs": [
    {
     "name": "stdout",
     "output_type": "stream",
     "text": [
      "Company: booking_automation; Product embedding is completed.\n",
      "Company: booking_automation; Summary product embedding is completed.\n"
     ]
    }
   ],
   "source": [
    "processed_name = 'booking_automation'\n",
    "scrape_file_path = f'client_scraping_output/{processed_name}.json'\n",
    "summary_file_path = f'client_extraction_summary/{processed_name}_summary_str.json'\n",
    "extraction_file_path = f'client_extraction_output/{processed_name}_extraction.json'\n",
    "\n",
    "_ = get_product_embedding(processed_name = processed_name,\n",
    "                    extraction_file_path = extraction_file_path)\n"
   ]
  },
  {
   "cell_type": "code",
   "execution_count": null,
   "metadata": {},
   "outputs": [],
   "source": [
    "doclist = os.listdir('client_scraping_output')\n",
    "for doc in tqdm(doclist):\n",
    "\n",
    "    try:\n",
    "        processed_name = doc.replace('.json', '')\n",
    "        scrape_file_path = f'client_scraping_output/{processed_name}.json'\n",
    "        summary_file_path = f'client_extraction_summary/{processed_name}_summary_str.json'\n",
    "        extraction_file_path = f'client_extraction_output/{processed_name}_extraction.json'\n",
    "        \n",
    "        _ = llm_summary_execution(processed_name = processed_name,\n",
    "                        scrape_file_path = scrape_file_path,\n",
    "                        summary_file_path = summary_file_path,\n",
    "                        model_name= 'gpt-4o-mini',\n",
    "                        overwrite = False)\n",
    "        \n",
    "        _ = llm_extraction_execution(processed_name = processed_name,\n",
    "                                summary_file_path = summary_file_path,\n",
    "                                extraction_file_path = extraction_file_path, \n",
    "                                include_additional_context = False, \n",
    "                                model_name = 'gpt-4o',\n",
    "                                overwrite = False)\n",
    "        \n",
    "        _ = get_product_embedding(processed_name = processed_name,\n",
    "                            extraction_file_path = extraction_file_path)\n",
    "\n",
    "        _ = add_client_url_to_extraction_output(processed_name = processed_name,\n",
    "                                    extraction_file_path = extraction_file_path)\n",
    "        \n",
    "    except Exception as e:\n",
    "        print(f'Error at {processed_name}: {e}')\n",
    "    "
   ]
  },
  {
   "cell_type": "code",
   "execution_count": 14,
   "metadata": {},
   "outputs": [
    {
     "name": "stdout",
     "output_type": "stream",
     "text": [
      "Company: crunch_; Content in /partners is extracted.\n",
      "Company: crunch_; Content in main_page is extracted.\n",
      "Company: crunch_; Information extraction begins.\n",
      "Company: crunch_; Estimated Cost: $0.003855\n",
      "Company: crunch_; Pitchbook description obtained: Developer of financial business management software designed to serve organizations with all their accounting needs. The company's software is designed for the business owner and includes features like real-time dashboards to get an immediate overview of how the business is performing, enabling them to get the absolute most out of running their own business.\n",
      "Company: crunch_; PART 1 - Initial extraction is completed.\n",
      "Company: crunch_; PART 2 - Skipped, due to lack of client information.\n",
      "Company: crunch_; Embedding is completed.\n",
      "Company: crunch_; No clients' information.\n",
      "Company: crunch_; No clients to be updated\n"
     ]
    }
   ],
   "source": [
    "processed_name = 'crunch_'\n",
    "    \n",
    "scrape_file_path = f'scraping_output_v2_raw/{processed_name}.json'\n",
    "summary_file_path = f'extraction_summary_v2/{processed_name}_summary_str.json'\n",
    "extraction_file_path = f'extraction_output_v2/{processed_name}_extraction.json'\n",
    "\n",
    "_ = llm_summary_execution(processed_name = processed_name,\n",
    "                      scrape_file_path = scrape_file_path,\n",
    "                      summary_file_path = summary_file_path,\n",
    "                      model_name = 'gpt-4o-mini',\n",
    "                      overwrite = True)\n",
    "\n",
    "_ = llm_extraction_execution(processed_name = processed_name,\n",
    "                                summary_file_path = summary_file_path,\n",
    "                                extraction_file_path = extraction_file_path, \n",
    "                                include_additional_context = True, \n",
    "                                overwrite = True)\n",
    "\n",
    "_ = get_product_embedding(processed_name = processed_name,\n",
    "                    extraction_file_path = extraction_file_path)\n",
    "\n",
    "_ = add_client_url_to_extraction_output(processed_name = processed_name,\n",
    "                            extraction_file_path = extraction_file_path)\n",
    "\n",
    "_ = update_client_list(processed_name = processed_name,\n",
    "                extraction_file_path = extraction_file_path,\n",
    "                client_file_path = 'data/client_info.json')"
   ]
  },
  {
   "cell_type": "markdown",
   "metadata": {},
   "source": [
    "Issue page:\n",
    "- zenefits"
   ]
  },
  {
   "cell_type": "code",
   "execution_count": null,
   "metadata": {},
   "outputs": [],
   "source": [
    "\n",
    "def inspect_page(processed_name, endpoint = 'main_page'):\n",
    "   \n",
    "    scraping_data = read_json_file(f'scraping_output_v2_raw/{processed_name}.json')\n",
    "    print('---------------------------------------------')\n",
    "    print(f'Before cleaning: {endpoint}')\n",
    "    print('---------------------------------------------')\n",
    "    print(scraping_data[endpoint])\n",
    "    \n",
    "    print('---------------------------------------------')\n",
    "    print(f'After cleaning: {endpoint}')\n",
    "    print('---------------------------------------------')\n",
    "    print(clean_scraped_content(scraping_data[endpoint]))\n",
    "    \n",
    "    print('---------------------------------------------')\n",
    "    print(f'Summary of page: {endpoint}')\n",
    "    print('---------------------------------------------')\n",
    "    summary_data = read_json_file(f'extraction_summary_v2/{processed_name}_summary_str.json')\n",
    "    print(summary_data[endpoint])\n",
    "\n",
    " "
   ]
  },
  {
   "cell_type": "code",
   "execution_count": 11,
   "metadata": {},
   "outputs": [
    {
     "data": {
      "text/plain": [
       "2193.3076"
      ]
     },
     "execution_count": 11,
     "metadata": {},
     "output_type": "execute_result"
    }
   ],
   "source": [
    "import pandas as pd\n",
    "import re\n",
    "\n",
    "# Path to the log file\n",
    "log_file_path = 'pipeline.log'\n",
    "\n",
    "# Read the log file\n",
    "with open(log_file_path, 'r') as file:\n",
    "    log_lines = file.readlines()\n",
    "\n",
    "# Regex to extract information\n",
    "time_pattern = re.compile(r\":Function (\\w+) executed in ([\\d\\.]+) seconds\")\n",
    "page_pattern = re.compile(r\":Function (\\w+) executed on company (\\w+) with (\\d+) pages\")\n",
    "\n",
    "# Lists to hold the data\n",
    "function_times = []\n",
    "function_pages = []\n",
    "\n",
    "# Parse the log file\n",
    "for line in log_lines:\n",
    "    time_match = time_pattern.search(line)\n",
    "    page_match = page_pattern.search(line)\n",
    "\n",
    "    if time_match:\n",
    "        function, time = time_match.groups()\n",
    "        time = float(time)\n",
    "        function_times.append({'function': function, 'time': time})\n",
    "\n",
    "    if page_match:\n",
    "        function, company, pages = page_match.groups()\n",
    "        pages = int(pages)\n",
    "        function_pages.append({'function': function, 'company': company, 'pages': pages})\n",
    "\n",
    "# Convert lists to DataFrames\n",
    "df_times = pd.DataFrame(function_times)\n",
    "df_pages = pd.DataFrame(function_pages)\n",
    "\n",
    "\n"
   ]
  },
  {
   "cell_type": "code",
   "execution_count": 18,
   "metadata": {},
   "outputs": [
    {
     "name": "stdout",
     "output_type": "stream",
     "text": [
      "Total time spent: 2193.3076s -- Total no. companies: 25 -- Total no. pages: 127\n",
      "Each company roughly have 5.08 pages\n",
      "Total time / Number of pages: 87.732304s per company\n",
      "Total time / Number of pages: 17.270138582677166s per page\n"
     ]
    }
   ],
   "source": [
    "print(f\"Total time spent: {df_times['time'].sum()}s -- Total no. companies: {len(df_pages)} -- Total no. pages: {df_pages['pages'].sum()}\")\n",
    "print(f\"Each company roughly have {df_pages['pages'].sum()/len(df_pages)} pages\")\n",
    "print(f\"Total time / Number of pages: {df_times['time'].sum()/len(df_pages)}s per company\")\n",
    "print(f\"Total time / Number of pages: {df_times['time'].sum()/df_pages['pages'].sum()}s per page\")\n"
   ]
  },
  {
   "cell_type": "code",
   "execution_count": null,
   "metadata": {},
   "outputs": [],
   "source": []
  }
 ],
 "metadata": {
  "kernelspec": {
   "display_name": "ucl_project",
   "language": "python",
   "name": "python3"
  },
  "language_info": {
   "codemirror_mode": {
    "name": "ipython",
    "version": 3
   },
   "file_extension": ".py",
   "mimetype": "text/x-python",
   "name": "python",
   "nbconvert_exporter": "python",
   "pygments_lexer": "ipython3",
   "version": "3.10.6"
  }
 },
 "nbformat": 4,
 "nbformat_minor": 2
}
