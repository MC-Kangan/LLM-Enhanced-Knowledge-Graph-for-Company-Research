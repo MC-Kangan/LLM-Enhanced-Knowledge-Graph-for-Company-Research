{
 "cells": [
  {
   "cell_type": "code",
   "execution_count": 4,
   "metadata": {},
   "outputs": [],
   "source": [
    "# import modules\n",
    "import requests\n",
    "import pandas as pd\n",
    "from requests.auth import HTTPBasicAuth\n",
    "import json\n",
    "from dotenv import load_dotenv\n",
    "import os\n",
    "from company_house_utility import *"
   ]
  },
  {
   "cell_type": "markdown",
   "metadata": {},
   "source": [
    "### Reference\n",
    "\n",
    "- https://developer-specs.company-information.service.gov.uk/\n",
    "- Tutorial: https://www.pythonontoast.com/python-data-interface-companies-house/"
   ]
  },
  {
   "cell_type": "code",
   "execution_count": 6,
   "metadata": {},
   "outputs": [
    {
     "name": "stdout",
     "output_type": "stream",
     "text": [
      "{'accounts': {'next_made_up_to': '2024-02-26', 'overdue': False, 'next_due': '2024-08-26', 'last_accounts': {'period_start_on': '2022-02-27', 'type': 'group', 'made_up_to': '2023-02-26', 'period_end_on': '2023-02-26'}, 'next_accounts': {'period_start_on': '2023-02-27', 'period_end_on': '2024-02-26', 'due_on': '2024-08-26', 'overdue': False}, 'accounting_reference_date': {'month': '02', 'day': '26'}}, 'company_name': 'TESCO PLC', 'undeliverable_registered_office_address': False, 'type': 'plc', 'sic_codes': ['47110'], 'registered_office_address': {'postal_code': 'AL7 1GA', 'address_line_1': 'Tesco House, Shire Park', 'locality': 'Welwyn Garden City', 'country': 'United Kingdom', 'address_line_2': 'Kestrel Way'}, 'jurisdiction': 'england-wales', 'company_number': '00445790', 'has_been_liquidated': False, 'date_of_creation': '1947-11-27', 'last_full_members_list_date': '2013-06-07', 'company_status': 'active', 'etag': '70e7dc531c87d966547959a28995e3f50c2d12ab', 'has_charges': True, 'has_insolvency_history': False, 'previous_company_names': [{'effective_from': '1947-11-27', 'ceased_on': '1983-08-25', 'name': 'TESCO STORES (HOLDINGS) PUBLIC LIMITED COMPANY'}], 'confirmation_statement': {'last_made_up_to': '2024-06-18', 'overdue': False, 'next_due': '2025-07-02', 'next_made_up_to': '2025-06-18'}, 'links': {'self': '/company/00445790', 'filing_history': '/company/00445790/filing-history', 'officers': '/company/00445790/officers', 'charges': '/company/00445790/charges', 'exemptions': '/company/00445790/exemptions'}, 'registered_office_is_in_dispute': False, 'has_super_secure_pscs': False, 'can_file': True}\n"
     ]
    }
   ],
   "source": [
    "import requests\n",
    "from requests.auth import HTTPBasicAuth\n",
    "\n",
    "company_house_key = os.getenv('COMPANY_HOUSE_KEY')\n",
    "\n",
    "# Define the API key and the URL\n",
    "company_number = '00445790'\n",
    "url = f'https://api.companieshouse.gov.uk/company/{company_number}'\n",
    "\n",
    "# Make the request using HTTP Basic Authentication\n",
    "response = requests.get(url, auth=HTTPBasicAuth(company_house_key, ''))  # API key as username, password is empty\n",
    "\n",
    "# Check if the request was successful\n",
    "if response.status_code == 200:\n",
    "    data = response.json()\n",
    "    print(data)\n",
    "else:\n",
    "    print(f\"Failed to retrieve data: {response.status_code}, {response.text}\")\n"
   ]
  },
  {
   "cell_type": "code",
   "execution_count": 7,
   "metadata": {},
   "outputs": [
    {
     "data": {
      "text/plain": [
       "{'accounts': {'next_made_up_to': '2024-02-26',\n",
       "  'overdue': False,\n",
       "  'next_due': '2024-08-26',\n",
       "  'last_accounts': {'period_start_on': '2022-02-27',\n",
       "   'type': 'group',\n",
       "   'made_up_to': '2023-02-26',\n",
       "   'period_end_on': '2023-02-26'},\n",
       "  'next_accounts': {'period_start_on': '2023-02-27',\n",
       "   'period_end_on': '2024-02-26',\n",
       "   'due_on': '2024-08-26',\n",
       "   'overdue': False},\n",
       "  'accounting_reference_date': {'month': '02', 'day': '26'}},\n",
       " 'company_name': 'TESCO PLC',\n",
       " 'undeliverable_registered_office_address': False,\n",
       " 'type': 'plc',\n",
       " 'sic_codes': ['47110'],\n",
       " 'registered_office_address': {'postal_code': 'AL7 1GA',\n",
       "  'address_line_1': 'Tesco House, Shire Park',\n",
       "  'locality': 'Welwyn Garden City',\n",
       "  'country': 'United Kingdom',\n",
       "  'address_line_2': 'Kestrel Way'},\n",
       " 'jurisdiction': 'england-wales',\n",
       " 'company_number': '00445790',\n",
       " 'has_been_liquidated': False,\n",
       " 'date_of_creation': '1947-11-27',\n",
       " 'last_full_members_list_date': '2013-06-07',\n",
       " 'company_status': 'active',\n",
       " 'etag': '70e7dc531c87d966547959a28995e3f50c2d12ab',\n",
       " 'has_charges': True,\n",
       " 'has_insolvency_history': False,\n",
       " 'previous_company_names': [{'effective_from': '1947-11-27',\n",
       "   'ceased_on': '1983-08-25',\n",
       "   'name': 'TESCO STORES (HOLDINGS) PUBLIC LIMITED COMPANY'}],\n",
       " 'confirmation_statement': {'last_made_up_to': '2024-06-18',\n",
       "  'overdue': False,\n",
       "  'next_due': '2025-07-02',\n",
       "  'next_made_up_to': '2025-06-18'},\n",
       " 'links': {'self': '/company/00445790',\n",
       "  'filing_history': '/company/00445790/filing-history',\n",
       "  'officers': '/company/00445790/officers',\n",
       "  'charges': '/company/00445790/charges',\n",
       "  'exemptions': '/company/00445790/exemptions'},\n",
       " 'registered_office_is_in_dispute': False,\n",
       " 'has_super_secure_pscs': False,\n",
       " 'can_file': True}"
      ]
     },
     "execution_count": 7,
     "metadata": {},
     "output_type": "execute_result"
    }
   ],
   "source": [
    "data"
   ]
  },
  {
   "cell_type": "markdown",
   "metadata": {},
   "source": [
    "Advance Company Search\n",
    "- https://developer-specs.company-information.service.gov.uk/companies-house-public-data-api/reference/search/advanced-company-search"
   ]
  },
  {
   "cell_type": "code",
   "execution_count": 21,
   "metadata": {},
   "outputs": [
    {
     "name": "stdout",
     "output_type": "stream",
     "text": [
      "{'etag': '19e40889e8318bf2baa3edfd6b5ceda31ea5e0b1', 'top_hit': {'company_name': 'NEVER FORGET LTD', 'company_number': 'SC810231', 'company_status': 'active', 'company_type': 'ltd', 'kind': 'search-results#company', 'links': {'company_profile': '/company/SC810231'}, 'date_of_creation': '2024-05-13', 'registered_office_address': {'address_line_1': '19 Rutland Square', 'locality': 'Edinburgh', 'postal_code': 'EH1 2BB', 'country': 'United Kingdom'}, 'sic_codes': ['90030']}, 'items': [{'company_name': 'NEVER FORGET LTD', 'company_number': 'SC810231', 'company_status': 'active', 'company_type': 'ltd', 'kind': 'search-results#company', 'links': {'company_profile': '/company/SC810231'}, 'date_of_creation': '2024-05-13', 'registered_office_address': {'address_line_1': '19 Rutland Square', 'locality': 'Edinburgh', 'postal_code': 'EH1 2BB', 'country': 'United Kingdom'}, 'sic_codes': ['90030']}, {'company_name': 'EMBO TRADING LTD', 'company_number': 'SC760074', 'company_status': 'active', 'company_type': 'ltd', 'kind': 'search-results#company', 'links': {'company_profile': '/company/SC760074'}, 'date_of_creation': '2023-02-24', 'registered_office_address': {'address_line_1': 'Cosmo Edinburgh Omni Centre, Leith Walk Omni Centre', 'address_line_2': 'Greenside Place', 'locality': 'Edinburgh', 'postal_code': 'EH1 3AA', 'country': 'Scotland'}, 'sic_codes': ['56101']}, {'company_name': 'LET ME EAT TOO LIMITED', 'company_number': 'SC524133', 'company_status': 'active', 'company_type': 'ltd', 'kind': 'search-results#company', 'links': {'company_profile': '/company/SC524133'}, 'date_of_creation': '2016-01-13', 'registered_office_address': {'address_line_1': '7 Cowgatehead', 'locality': 'Edinburgh', 'postal_code': 'EH1 1JY', 'country': 'Scotland'}, 'sic_codes': ['56103']}, {'company_name': 'TAL1 LTD', 'company_number': 'SC619624', 'company_status': 'active', 'company_type': 'ltd', 'kind': 'search-results#company', 'links': {'company_profile': '/company/SC619624'}, 'date_of_creation': '2019-01-30', 'registered_office_address': {'address_line_1': '10 Antigua Street', 'locality': 'Edinburgh', 'postal_code': 'EH1 3NH', 'country': 'Scotland'}, 'sic_codes': ['56102']}, {'company_name': 'TRAP-MED LTD', 'company_number': 'SC508954', 'company_status': 'active', 'company_type': 'ltd', 'kind': 'search-results#company', 'links': {'company_profile': '/company/SC508954'}, 'date_of_creation': '2015-06-22', 'registered_office_address': {'address_line_1': 'Suite 133 12 South Bridge', 'locality': 'Edinburgh', 'postal_code': 'EH1 1DD', 'country': 'Scotland'}, 'sic_codes': ['28990']}, {'company_name': 'AULD JOCKS LTD', 'company_number': 'SC457326', 'company_status': 'active', 'company_type': 'ltd', 'kind': 'search-results#company', 'links': {'company_profile': '/company/SC457326'}, 'date_of_creation': '2013-08-21', 'registered_office_address': {'address_line_1': 'Flat 6 30b Chambers Street', 'locality': 'Edinburgh', 'postal_code': 'EH1 1HU'}, 'sic_codes': ['56101', '56102']}, {'company_name': 'BUDGET AUTOS EDINBURGH LTD', 'company_number': 'SC630609', 'company_status': 'active', 'company_type': 'ltd', 'kind': 'search-results#company', 'links': {'company_profile': '/company/SC630609'}, 'date_of_creation': '2019-05-15', 'registered_office_address': {'address_line_1': '16 Forth Street', 'locality': 'Edinburgh', 'postal_code': 'EH1 3LH', 'country': 'Scotland'}, 'sic_codes': ['45112']}, {'company_name': 'FOOD INTERNATIONAL EXPORT LTD', 'company_number': 'SC635299', 'company_status': 'active', 'company_type': 'ltd', 'kind': 'search-results#company', 'links': {'company_profile': '/company/SC635299'}, 'date_of_creation': '2019-07-05', 'registered_office_address': {'address_line_1': '1-4 Old Infirmary Lane', 'locality': 'Edinburgh', 'postal_code': 'EH1 1LU', 'country': 'Scotland'}, 'sic_codes': ['70229']}, {'company_name': 'FORSOL LTD', 'company_number': 'SC642578', 'company_status': 'dissolved', 'company_type': 'ltd', 'kind': 'search-results#company', 'links': {'company_profile': '/company/SC642578'}, 'date_of_cessation': '2021-03-30', 'date_of_creation': '2019-09-25', 'registered_office_address': {'address_line_1': 'Flat 2f2 Forrest Road', 'locality': 'Edinburgh', 'postal_code': 'EH1 2QP', 'country': 'Scotland'}, 'sic_codes': ['62012']}, {'company_name': 'ELECTRIC GROOVE YOGA LIMITED', 'company_number': 'SC644116', 'company_status': 'dissolved', 'company_type': 'ltd', 'kind': 'search-results#company', 'links': {'company_profile': '/company/SC644116'}, 'date_of_cessation': '2021-03-16', 'date_of_creation': '2019-10-10', 'registered_office_address': {'address_line_1': 'Pf2 3 Cornwall Street', 'locality': 'Edinburgh', 'postal_code': 'EH1 2EQ', 'country': 'Scotland'}, 'sic_codes': ['86900']}, {'company_name': 'RAMEN 3AT LIMITED', 'company_number': 'SC643911', 'company_status': 'dissolved', 'company_type': 'ltd', 'kind': 'search-results#company', 'links': {'company_profile': '/company/SC643911'}, 'date_of_cessation': '2023-03-28', 'date_of_creation': '2019-10-08', 'registered_office_address': {'address_line_1': '37 Leith Street', 'locality': 'Edinburgh', 'postal_code': 'EH1 3AT', 'country': 'Scotland'}, 'sic_codes': ['56101']}, {'company_name': 'ROYAL MILE APARTMENTS LIMITED', 'company_number': 'SC648342', 'company_status': 'active', 'company_type': 'ltd', 'kind': 'search-results#company', 'links': {'company_profile': '/company/SC648342'}, 'date_of_creation': '2019-11-28', 'registered_office_address': {'address_line_1': 'Flat 2f1 42 York Place', 'locality': 'Edinburgh', 'postal_code': 'EH1 3HU', 'country': 'United Kingdom'}, 'sic_codes': ['55209']}, {'company_name': 'WEST COAST HERITAGE LIMITED', 'company_number': 'SC649594', 'company_status': 'active', 'company_type': 'ltd', 'kind': 'search-results#company', 'links': {'company_profile': '/company/SC649594'}, 'date_of_creation': '2019-12-13', 'registered_office_address': {'address_line_1': '14 Rutland Square', 'locality': 'Edinburgh', 'postal_code': 'EH1 2BD', 'country': 'Scotland'}, 'sic_codes': ['55201']}, {'company_name': 'PENSION ADVISERS UK LIMITED', 'company_number': 'SC649559', 'company_status': 'active', 'company_type': 'ltd', 'kind': 'search-results#company', 'links': {'company_profile': '/company/SC649559'}, 'date_of_creation': '2019-12-13', 'registered_office_address': {'address_line_1': 'Kingsford', 'address_line_2': 'House, 14 Albany Street', 'locality': 'Edinburgh', 'postal_code': 'EH1 3QB', 'country': 'Scotland'}, 'sic_codes': ['66290']}, {'company_name': 'KWEK & MCALLISTER PROPERTIES LTD', 'company_number': 'SC658194', 'company_status': 'active', 'company_type': 'ltd', 'kind': 'search-results#company', 'links': {'company_profile': '/company/SC658194'}, 'date_of_creation': '2020-03-24', 'registered_office_address': {'address_line_1': '35 Guthrie Street', 'locality': 'Edinburgh', 'postal_code': 'EH1 1JG', 'country': 'Scotland'}, 'sic_codes': ['68100']}, {'company_name': 'INTERCEDE 2495 (SC) LIMITED', 'company_number': 'SC657822', 'company_status': 'dissolved', 'company_type': 'ltd', 'kind': 'search-results#company', 'links': {'company_profile': '/company/SC657822'}, 'date_of_cessation': '2022-07-26', 'date_of_creation': '2020-03-19', 'registered_office_address': {'address_line_1': 'C/O Cms Cameron Mckenna Nabarro Olswang Llp Saltire Court', 'address_line_2': '20 Castle Terrace', 'locality': 'Edinburgh', 'postal_code': 'EH1 2EN', 'country': 'United Kingdom'}, 'sic_codes': ['82990']}, {'company_name': 'KILLUNDINE ESTATE LTD', 'company_number': 'SC660935', 'company_status': 'dissolved', 'company_type': 'ltd', 'kind': 'search-results#company', 'links': {'company_profile': '/company/SC660935'}, 'date_of_cessation': '2020-09-29', 'date_of_creation': '2020-05-11', 'registered_office_address': {'address_line_1': '60/1 St. Marys Street', 'locality': 'Edinburgh', 'postal_code': 'EH1 1SX', 'country': 'Scotland'}, 'sic_codes': ['01500']}, {'company_name': 'SACMA SAPAN ISLER LIMITED', 'company_number': 'SC662407', 'company_status': 'active', 'company_type': 'private-limited-guarant-nsc', 'kind': 'search-results#company', 'links': {'company_profile': '/company/SC662407'}, 'date_of_creation': '2020-05-28', 'registered_office_address': {'address_line_1': '34 Cockburn Street', 'locality': 'Edinburgh', 'postal_code': 'EH1 1PB', 'country': 'Scotland'}, 'sic_codes': ['46370']}, {'company_name': 'EL BURRITO MEXICANO LTD', 'company_number': 'SC662762', 'company_status': 'dissolved', 'company_type': 'ltd', 'kind': 'search-results#company', 'links': {'company_profile': '/company/SC662762'}, 'date_of_cessation': '2022-07-12', 'date_of_creation': '2020-06-01', 'registered_office_address': {'address_line_1': '12 South Bridge', 'address_line_2': 'Unit 243', 'locality': 'Edinburgh', 'postal_code': 'EH1 1DD', 'country': 'Scotland'}, 'sic_codes': ['56290']}, {'company_name': 'MH PLANT HIRE & ENGINEERING SERVICES LIMITED', 'company_number': 'SC665732', 'company_status': 'dissolved', 'company_type': 'ltd', 'kind': 'search-results#company', 'links': {'company_profile': '/company/SC665732'}, 'date_of_cessation': '2021-11-30', 'date_of_creation': '2020-06-30', 'registered_office_address': {'address_line_1': '8 Albany Street', 'locality': 'Edinburgh', 'postal_code': 'EH1 3QB', 'country': 'Scotland'}, 'sic_codes': ['77320']}], 'kind': 'search#advanced-search', 'hits': 6863}\n",
      "6863\n"
     ]
    }
   ],
   "source": [
    "search_url = \"https://api.company-information.service.gov.uk/advanced-search/companies?location=EH1\"\n",
    "response = requests.get(search_url, auth=HTTPBasicAuth(company_house_key, ''))  # API key as username, password is empty\n",
    "result = response.json()\n",
    "\n",
    "print(result)\n",
    "print(result['hits'])"
   ]
  },
  {
   "cell_type": "code",
   "execution_count": null,
   "metadata": {},
   "outputs": [],
   "source": [
    "search_url = \"https://api.company-information.service.gov.uk/advanced-search/companies?location=EH1\"\n",
    "response = requests.get(search_url, auth=HTTPBasicAuth(company_house_key, ''))  # API key as username, password is empty\n",
    "result = response.json()\n",
    "\n",
    "print(result)\n",
    "print(result['hits'])"
   ]
  },
  {
   "cell_type": "code",
   "execution_count": 8,
   "metadata": {},
   "outputs": [
    {
     "name": "stdout",
     "output_type": "stream",
     "text": [
      "Average time per iteration: 5.92 seconds\n"
     ]
    }
   ],
   "source": [
    "import requests\n",
    "import json\n",
    "import datetime\n",
    "import time\n",
    "\n",
    "class CompaniesHouseService:\n",
    "    \"\"\"A wrapper around the companies house API.\n",
    "    \n",
    "    Attributes:\n",
    "        search_url (str): Base url for Companies House search query.\n",
    "        company_url (str): Base url for Companies House company query.\n",
    "        \n",
    "    \"\"\"\n",
    "    search_url = \"https://api.companieshouse.gov.uk/search/companies?q={}\"\n",
    "    company_url = \"https://api.companieshouse.gov.uk/company/{}\"\n",
    "    \n",
    "    def __init__(self, key, time_between_requests=0.5):\n",
    "        \"\"\"\n",
    "        Args:\n",
    "            key (str): The API key issued in the Companies House API \n",
    "                applications.\n",
    "            time_between_requests (float): Time in seconds between requests to \n",
    "                the API to prevent spam. Default is 0.5 to prevent calls \n",
    "                exceeding the 600 per 5 minutes limit.\n",
    "            \n",
    "        \"\"\"\n",
    "        self.key = key\n",
    "        self.time_between_requests = time_between_requests\n",
    "        \n",
    "        #: datetime: Timestamp instantiated as NoneType \n",
    "        self.last_request_timestamp = None\n",
    "    \n",
    "    def _query_ch_api(self, url, query):\n",
    "        \"\"\"Sends a request to the Companies House API.\n",
    "        \n",
    "        Args:\n",
    "            url (str): The specific url to be queried depending on the type\n",
    "                of request (search, profile etc.).\n",
    "            query (str): The query parameter to be sent alongside the url.\n",
    "        \n",
    "        Returns:\n",
    "            dict: A structured dictionary containing all of the information\n",
    "                returned by the API.\n",
    "                \n",
    "        \"\"\"\n",
    "        query = self._remove_problem_characters(query)\n",
    "        \n",
    "        self._rate_limiting()\n",
    "\n",
    "        resultQuery = requests.get(url.format(query),auth=(self.key,''))\n",
    "        #200 is the authorised code for RESTful API calls\n",
    "        if resultQuery.status_code == 200:\n",
    "            result = json.JSONDecoder().decode(resultQuery.text)\n",
    "        else:\n",
    "            print(f\"Failed with error code: {resultQuery.status_code} | \"\\\n",
    "                  f\"Reason: {resultQuery.reason}\")\n",
    "            result = {}\n",
    "        \n",
    "        return result\n",
    "    \n",
    "    def _rate_limiting(self):\n",
    "        \"\"\"Waits up to the defined time between requests.\n",
    "        \n",
    "        If more than the defined \"time_between_requests\" has passed (in \n",
    "        seconds) since the last call, this function will not wait any time.\n",
    "        The last_request_timestamp class variable is reset to the current\n",
    "        time every time this method is called.\n",
    "        \n",
    "        \"\"\"\n",
    "        if self.last_request_timestamp is None:\n",
    "            self.last_request_timestamp = datetime.datetime.now()\n",
    "            \n",
    "        else:\n",
    "            current_time = datetime.datetime.now()\n",
    "            \n",
    "            time_since_request = (current_time - \n",
    "                                  self.last_request_timestamp\n",
    "                                  ).total_seconds()\n",
    "            \n",
    "            wait_time = max(self.time_between_requests - \n",
    "                            time_since_request,\n",
    "                            0)\n",
    "            \n",
    "            time.sleep(wait_time)\n",
    "            self.last_request_timestamp = datetime.datetime.now()   \n",
    "            \n",
    "    def _remove_problem_characters(self, string):\n",
    "        \"\"\"Remove invalid query parameters from the url query\n",
    "        \n",
    "        Spaces and the \"&\" sign will cause issues in an HTTP request so are\n",
    "        replaced.\n",
    "        \n",
    "        Args:\n",
    "            string (str): The query to be \"cleaned\".\n",
    "            \n",
    "        Returns:\n",
    "            str: An equivalent string in HTTP GET format\n",
    "        \n",
    "        \"\"\"\n",
    "        string = string.replace(\" \",\"+\")\n",
    "        string = string.replace(\"&\",\"%26\")\n",
    "        \n",
    "        return string\n",
    "    \n",
    "    def get_first_company_search(self, company_name):\n",
    "        \"\"\"Search for a company and return the top result.\n",
    "        \n",
    "        If no results are returned from the Companies House API then returns\n",
    "        NoneType using a try block.\n",
    "        \n",
    "        Args:\n",
    "            companyName (str): The company to search for.\n",
    "            \n",
    "        Returns:\n",
    "            dict: The profile of the first result found from the API search.\n",
    "        \n",
    "        \"\"\"\n",
    "        search_result = self._query_ch_api(self.search_url, company_name)\n",
    "        \n",
    "        try: \n",
    "            first_result = search_result[\"items\"][0]\n",
    "        except IndexError:\n",
    "            first_result = None\n",
    "        \n",
    "        return first_result\n",
    "    \n",
    "    def get_company_profile(self, company_number):\n",
    "        \"\"\"Return a company profile from the company number.\n",
    "        \n",
    "        Args:\n",
    "            company_number (str): The unique company number as defined on\n",
    "                Companies House.\n",
    "                \n",
    "        Returns:\n",
    "            dict: The profile of the corresponding company\n",
    "        \n",
    "        \"\"\"\n",
    "        company_profile = self._query_ch_api(self.company_url, company_number)\n",
    "        \n",
    "        return company_profile\n",
    "    \n",
    "if __name__ == \"__main__\":\n",
    "    key = company_house_key #Fake key - insert your key here\n",
    "    ch_api = CompaniesHouseService(key)\n",
    "    iterations = 10\n",
    "    \n",
    "    tic = datetime.datetime.now()\n",
    "    \n",
    "    for company in range(iterations): \n",
    "        ch_profile = ch_api.get_company_profile(\"00445790\")\n",
    "        \n",
    "    toc = datetime.datetime.now()\n",
    "    \n",
    "    time_taken = (toc - tic).total_seconds()\n",
    "    print(f\"Average time per iteration: \"\\\n",
    "          f\"{time_taken/(iterations-1):0.2f} seconds\")"
   ]
  },
  {
   "cell_type": "code",
   "execution_count": 12,
   "metadata": {},
   "outputs": [
    {
     "data": {
      "text/plain": [
       "{'accounts': {'next_made_up_to': '2024-02-26',\n",
       "  'overdue': False,\n",
       "  'next_due': '2024-08-26',\n",
       "  'last_accounts': {'period_start_on': '2022-02-27',\n",
       "   'type': 'group',\n",
       "   'made_up_to': '2023-02-26',\n",
       "   'period_end_on': '2023-02-26'},\n",
       "  'next_accounts': {'period_start_on': '2023-02-27',\n",
       "   'period_end_on': '2024-02-26',\n",
       "   'due_on': '2024-08-26',\n",
       "   'overdue': False},\n",
       "  'accounting_reference_date': {'month': '02', 'day': '26'}},\n",
       " 'company_name': 'TESCO PLC',\n",
       " 'undeliverable_registered_office_address': False,\n",
       " 'type': 'plc',\n",
       " 'sic_codes': ['47110'],\n",
       " 'registered_office_address': {'postal_code': 'AL7 1GA',\n",
       "  'address_line_1': 'Tesco House, Shire Park',\n",
       "  'locality': 'Welwyn Garden City',\n",
       "  'country': 'United Kingdom',\n",
       "  'address_line_2': 'Kestrel Way'},\n",
       " 'jurisdiction': 'england-wales',\n",
       " 'company_number': '00445790',\n",
       " 'has_been_liquidated': False,\n",
       " 'date_of_creation': '1947-11-27',\n",
       " 'last_full_members_list_date': '2013-06-07',\n",
       " 'company_status': 'active',\n",
       " 'etag': '70e7dc531c87d966547959a28995e3f50c2d12ab',\n",
       " 'has_charges': True,\n",
       " 'has_insolvency_history': False,\n",
       " 'previous_company_names': [{'effective_from': '1947-11-27',\n",
       "   'ceased_on': '1983-08-25',\n",
       "   'name': 'TESCO STORES (HOLDINGS) PUBLIC LIMITED COMPANY'}],\n",
       " 'confirmation_statement': {'last_made_up_to': '2024-06-18',\n",
       "  'overdue': False,\n",
       "  'next_due': '2025-07-02',\n",
       "  'next_made_up_to': '2025-06-18'},\n",
       " 'links': {'self': '/company/00445790',\n",
       "  'filing_history': '/company/00445790/filing-history',\n",
       "  'officers': '/company/00445790/officers',\n",
       "  'charges': '/company/00445790/charges',\n",
       "  'exemptions': '/company/00445790/exemptions'},\n",
       " 'registered_office_is_in_dispute': False,\n",
       " 'has_super_secure_pscs': False,\n",
       " 'can_file': True}"
      ]
     },
     "execution_count": 12,
     "metadata": {},
     "output_type": "execute_result"
    }
   ],
   "source": [
    "ch_profile"
   ]
  },
  {
   "cell_type": "code",
   "execution_count": 16,
   "metadata": {},
   "outputs": [
    {
     "data": {
      "text/plain": [
       "['accounts',\n",
       " 'company_name',\n",
       " 'undeliverable_registered_office_address',\n",
       " 'type',\n",
       " 'sic_codes',\n",
       " 'registered_office_address',\n",
       " 'jurisdiction',\n",
       " 'company_number',\n",
       " 'has_been_liquidated',\n",
       " 'date_of_creation',\n",
       " 'last_full_members_list_date',\n",
       " 'company_status',\n",
       " 'etag',\n",
       " 'has_charges',\n",
       " 'has_insolvency_history',\n",
       " 'previous_company_names',\n",
       " 'confirmation_statement',\n",
       " 'links',\n",
       " 'registered_office_is_in_dispute',\n",
       " 'has_super_secure_pscs',\n",
       " 'can_file']"
      ]
     },
     "execution_count": 16,
     "metadata": {},
     "output_type": "execute_result"
    }
   ],
   "source": [
    "list(ch_profile.keys())"
   ]
  },
  {
   "cell_type": "markdown",
   "metadata": {},
   "source": [
    "### UK SIC code classification"
   ]
  },
  {
   "cell_type": "code",
   "execution_count": 11,
   "metadata": {},
   "outputs": [
    {
     "data": {
      "text/html": [
       "<div>\n",
       "<style scoped>\n",
       "    .dataframe tbody tr th:only-of-type {\n",
       "        vertical-align: middle;\n",
       "    }\n",
       "\n",
       "    .dataframe tbody tr th {\n",
       "        vertical-align: top;\n",
       "    }\n",
       "\n",
       "    .dataframe thead th {\n",
       "        text-align: right;\n",
       "    }\n",
       "</style>\n",
       "<table border=\"1\" class=\"dataframe\">\n",
       "  <thead>\n",
       "    <tr style=\"text-align: right;\">\n",
       "      <th></th>\n",
       "      <th>SIC Code</th>\n",
       "      <th>Description</th>\n",
       "      <th>Category</th>\n",
       "    </tr>\n",
       "  </thead>\n",
       "  <tbody>\n",
       "    <tr>\n",
       "      <th>0</th>\n",
       "      <td>1110</td>\n",
       "      <td>Growing of cereals (except rice), leguminous c...</td>\n",
       "      <td>Agriculture, Forestry and Fishing</td>\n",
       "    </tr>\n",
       "    <tr>\n",
       "      <th>1</th>\n",
       "      <td>1120</td>\n",
       "      <td>Growing of rice</td>\n",
       "      <td>Agriculture, Forestry and Fishing</td>\n",
       "    </tr>\n",
       "    <tr>\n",
       "      <th>2</th>\n",
       "      <td>1130</td>\n",
       "      <td>Growing of vegetables and melons, roots and tu...</td>\n",
       "      <td>Agriculture, Forestry and Fishing</td>\n",
       "    </tr>\n",
       "    <tr>\n",
       "      <th>3</th>\n",
       "      <td>1140</td>\n",
       "      <td>Growing of sugar cane</td>\n",
       "      <td>Agriculture, Forestry and Fishing</td>\n",
       "    </tr>\n",
       "    <tr>\n",
       "      <th>4</th>\n",
       "      <td>1150</td>\n",
       "      <td>Growing of tobacco</td>\n",
       "      <td>Agriculture, Forestry and Fishing</td>\n",
       "    </tr>\n",
       "  </tbody>\n",
       "</table>\n",
       "</div>"
      ],
      "text/plain": [
       "   SIC Code                                        Description  \\\n",
       "0      1110  Growing of cereals (except rice), leguminous c...   \n",
       "1      1120                                    Growing of rice   \n",
       "2      1130  Growing of vegetables and melons, roots and tu...   \n",
       "3      1140                              Growing of sugar cane   \n",
       "4      1150                                 Growing of tobacco   \n",
       "\n",
       "                            Category  \n",
       "0  Agriculture, Forestry and Fishing  \n",
       "1  Agriculture, Forestry and Fishing  \n",
       "2  Agriculture, Forestry and Fishing  \n",
       "3  Agriculture, Forestry and Fishing  \n",
       "4  Agriculture, Forestry and Fishing  "
      ]
     },
     "execution_count": 11,
     "metadata": {},
     "output_type": "execute_result"
    }
   ],
   "source": [
    "df = pd.read_csv('UK_SIC_with_category.csv')\n",
    "df.head()"
   ]
  },
  {
   "cell_type": "code",
   "execution_count": 10,
   "metadata": {},
   "outputs": [],
   "source": [
    "df['Category'] = df['SIC Code'].apply(lambda x: get_category(x))\n",
    "# df.to_csv('UK_SIC_with_category.csv', index=False)"
   ]
  },
  {
   "cell_type": "code",
   "execution_count": 10,
   "metadata": {},
   "outputs": [],
   "source": [
    "from neo4j import GraphDatabase\n",
    "\n",
    "# Define connection details\n",
    "uri = \"bolt://localhost:7687\"  # Default URL for Neo4j local instance\n",
    "username = \"neo4j\" \n",
    "password = os.getenv('NEO4J_PASSWORD')  \n",
    "\n",
    "# Create a driver instance\n",
    "driver = GraphDatabase.driver(uri, auth=(username, password))\n",
    "\n",
    "def query_nodes(tx, label):\n",
    "    query = f\"MATCH (n:{label}) RETURN n\"\n",
    "    result = tx.run(query)\n",
    "    return [record[\"n\"] for record in result]\n"
   ]
  },
  {
   "cell_type": "code",
   "execution_count": 12,
   "metadata": {},
   "outputs": [
    {
     "name": "stdout",
     "output_type": "stream",
     "text": [
      "[{'n': {'website': '', 'fiscal_year_end': '0630', 'former_names': '[]', 'cik': 789019, 'business_address': '{\"street1\": \"ONE MICROSOFT WAY\", \"street2\": null, \"city\": \"REDMOND\", \"state_or_country\": \"WA\", \"zipcode\": \"98052-6399\", \"state_or_country_desc\": \"WA\"}', 'investor_website': '', 'exchanges': '[\"Nasdaq\"]', 'flags': '', 'description': '', 'industry': 'Services-Prepackaged Software', 'insider_transaction_for_issuer_exists': True, 'ein': '911144442', 'sic': '7372', 'display_name': 'MICROSOFT CORP', 'tickers': '[\"MSFT\"]', 'mailing_address': '{\"street1\": \"ONE MICROSOFT WAY\", \"street2\": null, \"city\": \"REDMOND\", \"state_or_country\": \"WA\", \"zipcode\": \"98052-6399\", \"state_or_country_desc\": \"WA\"}', 'insider_transaction_for_owner_exists': True, 'state_of_incorporation': 'WA', 'entity_type': 'operating', 'phone': '425-882-8080', 'name': 'MICROSOFT CORP', 'is_company': True, 'category': 'Large accelerated filer', 'state_of_incorporation_description': 'WA'}}, {'n': {'website': '', 'fiscal_year_end': '0928', 'former_names': '[{\"name\": \"APPLE INC\", \"from\": \"2007-01-10T00:00:00.000Z\", \"to\": \"2019-08-05T00:00:00.000Z\"}, {\"name\": \"APPLE COMPUTER INC\", \"from\": \"1994-01-26T00:00:00.000Z\", \"to\": \"2007-01-04T00:00:00.000Z\"}, {\"name\": \"APPLE COMPUTER INC/ FA\", \"from\": \"1997-07-28T00:00:00.000Z\", \"to\": \"1997-07-28T00:00:00.000Z\"}]', 'cik': 320193, 'business_address': '{\"street1\": \"ONE APPLE PARK WAY\", \"street2\": null, \"city\": \"CUPERTINO\", \"state_or_country\": \"CA\", \"zipcode\": \"95014\", \"state_or_country_desc\": \"CA\"}', 'investor_website': '', 'exchanges': '[\"Nasdaq\"]', 'flags': '', 'description': '', 'industry': 'Electronic Computers', 'insider_transaction_for_issuer_exists': True, 'ein': '942404110', 'sic': '3571', 'display_name': 'Apple Inc.', 'tickers': '[\"AAPL\"]', 'mailing_address': '{\"street1\": \"ONE APPLE PARK WAY\", \"street2\": null, \"city\": \"CUPERTINO\", \"state_or_country\": \"CA\", \"zipcode\": \"95014\", \"state_or_country_desc\": \"CA\"}', 'insider_transaction_for_owner_exists': False, 'state_of_incorporation': 'CA', 'entity_type': 'operating', 'phone': '(408) 996-1010', 'name': 'Apple Inc.', 'is_company': True, 'category': 'Large accelerated filer', 'state_of_incorporation_description': 'CA'}}, {'n': {'website': '', 'fiscal_year_end': '0126', 'former_names': '[{\"name\": \"NVIDIA CORP/CA\", \"from\": \"1998-05-07T00:00:00.000Z\", \"to\": \"2002-06-04T00:00:00.000Z\"}]', 'cik': 1045810, 'business_address': '{\"street1\": \"2788 SAN TOMAS EXPRESSWAY\", \"street2\": null, \"city\": \"SANTA CLARA\", \"state_or_country\": \"CA\", \"zipcode\": \"95051\", \"state_or_country_desc\": \"CA\"}', 'investor_website': '', 'exchanges': '[\"Nasdaq\"]', 'flags': '', 'description': '', 'industry': 'Semiconductors & Related Devices', 'insider_transaction_for_issuer_exists': True, 'ein': '943177549', 'sic': '3674', 'display_name': 'NVIDIA CORP', 'tickers': '[\"NVDA\"]', 'mailing_address': '{\"street1\": \"2788 SAN TOMAS EXPRESSWAY\", \"street2\": null, \"city\": \"SANTA CLARA\", \"state_or_country\": \"CA\", \"zipcode\": \"95051\", \"state_or_country_desc\": \"CA\"}', 'insider_transaction_for_owner_exists': False, 'state_of_incorporation': 'DE', 'entity_type': 'operating', 'phone': '408-486-2000', 'name': 'NVIDIA CORP', 'is_company': True, 'category': 'Large accelerated filer', 'state_of_incorporation_description': 'DE'}}, {'n': {'website': '', 'fiscal_year_end': '1231', 'former_names': '[]', 'cik': 1652044, 'business_address': '{\"street1\": \"1600 AMPHITHEATRE PARKWAY\", \"street2\": null, \"city\": \"MOUNTAIN VIEW\", \"state_or_country\": \"CA\", \"zipcode\": \"94043\", \"state_or_country_desc\": \"CA\"}', 'investor_website': '', 'flags': '', 'exchanges': '[\"Nasdaq\", \"Nasdaq\"]', 'description': '', 'industry': 'Services-Computer Programming, Data Processing, Etc.', 'insider_transaction_for_issuer_exists': True, 'ein': '611767919', 'sic': '7370', 'display_name': 'Alphabet Inc.', 'tickers': '[\"GOOGL\", \"GOOG\"]', 'mailing_address': '{\"street1\": \"1600 AMPHITHEATRE PARKWAY\", \"street2\": null, \"city\": \"MOUNTAIN VIEW\", \"state_or_country\": \"CA\", \"zipcode\": \"94043\", \"state_or_country_desc\": \"CA\"}', 'insider_transaction_for_owner_exists': True, 'state_of_incorporation': 'DE', 'entity_type': 'operating', 'phone': '650-253-0000', 'name': 'Alphabet Inc.', 'is_company': True, 'category': 'Large accelerated filer', 'state_of_incorporation_description': 'DE'}}, {'n': {'website': '', 'fiscal_year_end': '1231', 'former_names': '[]', 'cik': 1018724, 'business_address': '{\"street1\": \"410 TERRY AVENUE NORTH\", \"street2\": null, \"city\": \"SEATTLE\", \"state_or_country\": \"WA\", \"zipcode\": \"98109\", \"state_or_country_desc\": \"WA\"}', 'investor_website': '', 'exchanges': '[\"Nasdaq\"]', 'flags': '', 'description': '', 'industry': 'Retail-Catalog & Mail-Order Houses', 'insider_transaction_for_issuer_exists': True, 'ein': '911646860', 'sic': '5961', 'display_name': 'AMAZON COM INC', 'tickers': '[\"AMZN\"]', 'mailing_address': '{\"street1\": \"410 TERRY AVENUE NORTH\", \"street2\": null, \"city\": \"SEATTLE\", \"state_or_country\": \"WA\", \"zipcode\": \"98109\", \"state_or_country_desc\": \"WA\"}', 'insider_transaction_for_owner_exists': True, 'state_of_incorporation': 'DE', 'entity_type': 'operating', 'phone': '2062661000', 'name': 'AMAZON COM INC', 'is_company': True, 'category': 'Large accelerated filer', 'state_of_incorporation_description': 'DE'}}]\n"
     ]
    }
   ],
   "source": [
    "# Connect to a Neo4j instance\n",
    "from langchain_community.graphs import Neo4jGraph\n",
    "\n",
    "graph = Neo4jGraph(\n",
    "    url=\"bolt://localhost:7687\",\n",
    "    username=\"neo4j\",\n",
    "    password=os.getenv('NEO4J_PASSWORD') \n",
    ")\n",
    "\n",
    "result = graph.query(\"\"\"\n",
    "MATCH (n) \n",
    "RETURN n\n",
    "\"\"\")\n",
    "\n",
    "print(result)"
   ]
  },
  {
   "cell_type": "code",
   "execution_count": 9,
   "metadata": {},
   "outputs": [
    {
     "data": {
      "text/plain": [
       "'Node properties:\\nCompany {insider_transaction_for_issuer_exists: BOOLEAN, insider_transaction_for_owner_exists: BOOLEAN, mailing_address: STRING, state_of_incorporation_description: STRING, tickers: STRING, business_address: STRING, former_names: STRING, phone: STRING, state_of_incorporation: STRING, website: STRING, is_company: BOOLEAN, name: STRING, sic: STRING, industry: STRING, exchanges: STRING, flags: STRING, investor_website: STRING, ein: STRING, entity_type: STRING, description: STRING, display_name: STRING, fiscal_year_end: STRING, category: STRING, cik: INTEGER}\\nRelationship properties:\\n\\nThe relationships:\\n'"
      ]
     },
     "execution_count": 9,
     "metadata": {},
     "output_type": "execute_result"
    }
   ],
   "source": [
    "graph.schema"
   ]
  },
  {
   "cell_type": "code",
   "execution_count": null,
   "metadata": {},
   "outputs": [],
   "source": []
  }
 ],
 "metadata": {
  "kernelspec": {
   "display_name": "ucl_project",
   "language": "python",
   "name": "python3"
  },
  "language_info": {
   "codemirror_mode": {
    "name": "ipython",
    "version": 3
   },
   "file_extension": ".py",
   "mimetype": "text/x-python",
   "name": "python",
   "nbconvert_exporter": "python",
   "pygments_lexer": "ipython3",
   "version": "3.10.6"
  }
 },
 "nbformat": 4,
 "nbformat_minor": 2
}
