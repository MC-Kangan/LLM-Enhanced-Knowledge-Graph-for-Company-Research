{
 "cells": [
  {
   "cell_type": "code",
   "execution_count": 2,
   "metadata": {},
   "outputs": [
    {
     "name": "stderr",
     "output_type": "stream",
     "text": [
      "/Users/chenkangan/Documents/UCL DSML/Thesis/project/ucl_project/lib/python3.10/site-packages/tqdm/auto.py:21: TqdmWarning: IProgress not found. Please update jupyter and ipywidgets. See https://ipywidgets.readthedocs.io/en/stable/user_install.html\n",
      "  from .autonotebook import tqdm as notebook_tqdm\n"
     ]
    }
   ],
   "source": [
    "from neo4j_utility import *\n",
    "from llm_extraction import *\n",
    "from firecrawl_scraping import *\n",
    "from utility import *\n",
    "import os\n",
    "from tqdm import tqdm\n",
    "from dotenv import load_dotenv\n",
    "import pandas as pd"
   ]
  },
  {
   "cell_type": "markdown",
   "metadata": {},
   "source": [
    "## Introduction\n",
    "This notebook will demonstrate the full pipeline of KG consturction from data scraping, information extraction and KG construction.\n",
    "\n",
    "The starting point of the entire pipeline is the company's URL. In this project, the company's URL can be obtained in two ways:\n",
    "- From Pitchbook Dataset ('data/merge_url_companies.csv')\n",
    "- Search company's name based on its name (function: get_and_verify_company_link)"
   ]
  },
  {
   "cell_type": "code",
   "execution_count": 12,
   "metadata": {},
   "outputs": [
    {
     "data": {
      "text/html": [
       "<div>\n",
       "<style scoped>\n",
       "    .dataframe tbody tr th:only-of-type {\n",
       "        vertical-align: middle;\n",
       "    }\n",
       "\n",
       "    .dataframe tbody tr th {\n",
       "        vertical-align: top;\n",
       "    }\n",
       "\n",
       "    .dataframe thead th {\n",
       "        text-align: right;\n",
       "    }\n",
       "</style>\n",
       "<table border=\"1\" class=\"dataframe\">\n",
       "  <thead>\n",
       "    <tr style=\"text-align: right;\">\n",
       "      <th></th>\n",
       "      <th>company_id</th>\n",
       "      <th>companies</th>\n",
       "      <th>company_former_name</th>\n",
       "      <th>company_legal_name</th>\n",
       "      <th>competitors</th>\n",
       "      <th>description</th>\n",
       "      <th>primary_industry_sector</th>\n",
       "      <th>primary_industry_group</th>\n",
       "      <th>primary_industry_code</th>\n",
       "      <th>all_industries</th>\n",
       "      <th>...</th>\n",
       "      <th>last_known_valuation_deal_type</th>\n",
       "      <th>processed_url</th>\n",
       "      <th>is_accessible</th>\n",
       "      <th>processed_name</th>\n",
       "      <th>url</th>\n",
       "      <th>related_urls_str</th>\n",
       "      <th>related_urls</th>\n",
       "      <th>num_of_related_urls</th>\n",
       "      <th>all_urls</th>\n",
       "      <th>num_of_all_urls</th>\n",
       "    </tr>\n",
       "  </thead>\n",
       "  <tbody>\n",
       "    <tr>\n",
       "      <th>0</th>\n",
       "      <td>55185-04</td>\n",
       "      <td>Estimize</td>\n",
       "      <td>NaN</td>\n",
       "      <td>Estimize, Inc.</td>\n",
       "      <td>Neudata, SigFig, Motif (Financial Software), Y...</td>\n",
       "      <td>Developer of an open financial estimates platf...</td>\n",
       "      <td>Information Technology</td>\n",
       "      <td>Software</td>\n",
       "      <td>Financial Software</td>\n",
       "      <td>Financial Software*, Media and Information Ser...</td>\n",
       "      <td>...</td>\n",
       "      <td>Early Stage VC</td>\n",
       "      <td>www.estimize.com</td>\n",
       "      <td>True</td>\n",
       "      <td>estimize</td>\n",
       "      <td>https://www.estimize.com</td>\n",
       "      <td>https://www.estimize.com</td>\n",
       "      <td>['https://www.estimize.com']</td>\n",
       "      <td>1</td>\n",
       "      <td>['https://www.estimize.com']</td>\n",
       "      <td>1.0</td>\n",
       "    </tr>\n",
       "    <tr>\n",
       "      <th>1</th>\n",
       "      <td>56288-62</td>\n",
       "      <td>New Constructs</td>\n",
       "      <td>NaN</td>\n",
       "      <td>New Constructs, LLC</td>\n",
       "      <td>Morningstar, CFRA, Finbox (Media and Informati...</td>\n",
       "      <td>Operator of an investment research firm intend...</td>\n",
       "      <td>Information Technology</td>\n",
       "      <td>Software</td>\n",
       "      <td>Financial Software</td>\n",
       "      <td>Financial Software*, Media and Information Ser...</td>\n",
       "      <td>...</td>\n",
       "      <td>Early Stage VC</td>\n",
       "      <td>www.newconstructs.com</td>\n",
       "      <td>True</td>\n",
       "      <td>new_constructs</td>\n",
       "      <td>https://www.newconstructs.com</td>\n",
       "      <td>https://www.newconstructs.com/customer-testimo...</td>\n",
       "      <td>['https://www.newconstructs.com/customer-testi...</td>\n",
       "      <td>3</td>\n",
       "      <td>['https://www.newconstructs.com', 'https://www...</td>\n",
       "      <td>24.0</td>\n",
       "    </tr>\n",
       "    <tr>\n",
       "      <th>2</th>\n",
       "      <td>58565-08</td>\n",
       "      <td>RealScout</td>\n",
       "      <td>NaN</td>\n",
       "      <td>RealScout, Inc.</td>\n",
       "      <td>Spark (Business/Productivity Software), Proper...</td>\n",
       "      <td>The company's platform combines buyer data-dri...</td>\n",
       "      <td>Information Technology</td>\n",
       "      <td>Software</td>\n",
       "      <td>Business/Productivity Software</td>\n",
       "      <td>Business/Productivity Software*, Media and Inf...</td>\n",
       "      <td>...</td>\n",
       "      <td>Early Stage VC</td>\n",
       "      <td>www.realscout.com</td>\n",
       "      <td>True</td>\n",
       "      <td>realscout</td>\n",
       "      <td>https://www.realscout.com</td>\n",
       "      <td>https://www.realscout.com</td>\n",
       "      <td>['https://www.realscout.com']</td>\n",
       "      <td>1</td>\n",
       "      <td>['https://www.realscout.com/privacy', 'https:/...</td>\n",
       "      <td>5.0</td>\n",
       "    </tr>\n",
       "  </tbody>\n",
       "</table>\n",
       "<p>3 rows × 53 columns</p>\n",
       "</div>"
      ],
      "text/plain": [
       "  company_id       companies company_former_name   company_legal_name  \\\n",
       "0   55185-04        Estimize                 NaN       Estimize, Inc.   \n",
       "1   56288-62  New Constructs                 NaN  New Constructs, LLC   \n",
       "2   58565-08       RealScout                 NaN      RealScout, Inc.   \n",
       "\n",
       "                                         competitors  \\\n",
       "0  Neudata, SigFig, Motif (Financial Software), Y...   \n",
       "1  Morningstar, CFRA, Finbox (Media and Informati...   \n",
       "2  Spark (Business/Productivity Software), Proper...   \n",
       "\n",
       "                                         description primary_industry_sector  \\\n",
       "0  Developer of an open financial estimates platf...  Information Technology   \n",
       "1  Operator of an investment research firm intend...  Information Technology   \n",
       "2  The company's platform combines buyer data-dri...  Information Technology   \n",
       "\n",
       "  primary_industry_group           primary_industry_code  \\\n",
       "0               Software              Financial Software   \n",
       "1               Software              Financial Software   \n",
       "2               Software  Business/Productivity Software   \n",
       "\n",
       "                                      all_industries  ...  \\\n",
       "0  Financial Software*, Media and Information Ser...  ...   \n",
       "1  Financial Software*, Media and Information Ser...  ...   \n",
       "2  Business/Productivity Software*, Media and Inf...  ...   \n",
       "\n",
       "  last_known_valuation_deal_type          processed_url is_accessible  \\\n",
       "0                 Early Stage VC       www.estimize.com          True   \n",
       "1                 Early Stage VC  www.newconstructs.com          True   \n",
       "2                 Early Stage VC      www.realscout.com          True   \n",
       "\n",
       "   processed_name                            url  \\\n",
       "0        estimize       https://www.estimize.com   \n",
       "1  new_constructs  https://www.newconstructs.com   \n",
       "2       realscout      https://www.realscout.com   \n",
       "\n",
       "                                    related_urls_str  \\\n",
       "0                           https://www.estimize.com   \n",
       "1  https://www.newconstructs.com/customer-testimo...   \n",
       "2                          https://www.realscout.com   \n",
       "\n",
       "                                        related_urls num_of_related_urls  \\\n",
       "0                       ['https://www.estimize.com']                   1   \n",
       "1  ['https://www.newconstructs.com/customer-testi...                   3   \n",
       "2                      ['https://www.realscout.com']                   1   \n",
       "\n",
       "                                            all_urls  num_of_all_urls  \n",
       "0                       ['https://www.estimize.com']              1.0  \n",
       "1  ['https://www.newconstructs.com', 'https://www...             24.0  \n",
       "2  ['https://www.realscout.com/privacy', 'https:/...              5.0  \n",
       "\n",
       "[3 rows x 53 columns]"
      ]
     },
     "execution_count": 12,
     "metadata": {},
     "output_type": "execute_result"
    }
   ],
   "source": [
    "# Method 1: Pitchbook dataset\n",
    "df = pd.read_csv('data/merge_url_companies.csv')\n",
    "df.head(3)"
   ]
  },
  {
   "cell_type": "code",
   "execution_count": 3,
   "metadata": {},
   "outputs": [
    {
     "name": "stdout",
     "output_type": "stream",
     "text": [
      "Company Post Urban: The primary URL is: https://www.posturban.vc\n"
     ]
    },
    {
     "data": {
      "text/plain": [
       "'https://www.posturban.vc'"
      ]
     },
     "execution_count": 3,
     "metadata": {},
     "output_type": "execute_result"
    }
   ],
   "source": [
    "# Method 2: Company URL retrival \n",
    "# Company URL retrival utilise Clearbit's API and Google Custom Search API\n",
    "\n",
    "get_and_verify_company_link(company_name = 'Post Urban')"
   ]
  },
  {
   "cell_type": "markdown",
   "metadata": {},
   "source": [
    "## Data Scraping\n",
    "\n",
    "After getting the company's URL, Firecrawl API can be used to scrape the webpages.\n",
    "\n",
    "To demonstrate the use case, a sample company 'DAVO Technologies' will be used as an example. A user only need to specify the company name and the URL."
   ]
  },
  {
   "cell_type": "code",
   "execution_count": 2,
   "metadata": {},
   "outputs": [],
   "source": [
    "# User input\n",
    "company_name = 'DAVO Technologies'\n",
    "url = \"https://www.davosalestax.com\"\n"
   ]
  },
  {
   "cell_type": "code",
   "execution_count": 3,
   "metadata": {},
   "outputs": [],
   "source": [
    "# Define the directory of all relevant files\n",
    "processed_name = process_company_name(company_name)\n",
    "scrape_file_dir = f'test/scraping_output_v2_raw'\n",
    "summary_file_dir = f'test/extraction_summary_v2'\n",
    "extraction_file_dir = f'test/extraction_output_v2'\n",
    "client_file_dir = f'test/client_info.json'\n",
    "scrape_file_path = f'{scrape_file_dir}/{processed_name}.json'\n",
    "summary_file_path = f'{summary_file_dir}/{processed_name}_summary.json'\n",
    "extraction_file_path = f'{extraction_file_dir}/{processed_name}_extraction.json'"
   ]
  },
  {
   "cell_type": "markdown",
   "metadata": {},
   "source": [
    "Only the base URL is not sufficient to collect all relevant data about product offering and clients. \n",
    "\n",
    "Use function get_related_urls to fetch all relevant URLs based on keywords."
   ]
  },
  {
   "cell_type": "code",
   "execution_count": 14,
   "metadata": {},
   "outputs": [
    {
     "name": "stderr",
     "output_type": "stream",
     "text": [
      "/Users/chenkangan/Documents/UCL DSML/Thesis/project/ucl_project/lib/python3.10/site-packages/urllib3/connectionpool.py:1103: InsecureRequestWarning: Unverified HTTPS request is being made to host 'www.davosalestax.com'. Adding certificate verification is strongly advised. See: https://urllib3.readthedocs.io/en/latest/advanced-usage.html#tls-warnings\n",
      "  warnings.warn(\n"
     ]
    },
    {
     "name": "stdout",
     "output_type": "stream",
     "text": [
      "Related urls about products and clients:\n"
     ]
    },
    {
     "data": {
      "text/plain": [
       "['https://www.davosalestax.com',\n",
       " 'https://www.davosalestax.com/partners/',\n",
       " 'https://www.davosalestax.com/partners/bookkeep/',\n",
       " 'https://www.davosalestax.com/customer-stories/',\n",
       " 'https://www.davosalestax.com/partners/back-office/',\n",
       " 'https://www.davosalestax.com/partner-referral-program/']"
      ]
     },
     "execution_count": 14,
     "metadata": {},
     "output_type": "execute_result"
    }
   ],
   "source": [
    "all_urls, related_urls = get_related_urls(url)\n",
    "print('Related urls about products and clients:')\n",
    "related_urls"
   ]
  },
  {
   "cell_type": "code",
   "execution_count": 16,
   "metadata": {},
   "outputs": [
    {
     "name": "stdout",
     "output_type": "stream",
     "text": [
      "Parent directory already exists: test/scraping_output_v2_raw\n",
      "Skipping https://www.davosalestax.com as it already exists and overwrite is set to False.\n",
      "Skipping https://www.davosalestax.com/partners/ as it already exists and overwrite is set to False.\n",
      "Skipping https://www.davosalestax.com/partners/bookkeep/ as it already exists and overwrite is set to False.\n",
      "Skipping https://www.davosalestax.com/customer-stories/ as it already exists and overwrite is set to False.\n",
      "Skipping https://www.davosalestax.com/partners/back-office/ as it already exists and overwrite is set to False.\n",
      "Skipping https://www.davosalestax.com/partner-referral-program/ as it already exists and overwrite is set to False.\n"
     ]
    },
    {
     "data": {
      "text/plain": [
       "{'processed_company': 'davo_technologies',\n",
       " 'url': 'https://www.davosalestax.com',\n",
       " 'timestamp': '2024-08-18 15:44 Etc/GMT',\n",
       " 'main_page': 'Automate your sales tax.\\n========================\\n\\n*   Sets aside sales tax daily\\n*   Files and pays, on time & in full\\n*   Guaranteed\\n\\n[See Our Guarantee Policy](https://legal.avalara.com/product-terms.html#davo)\\n\\n[Try DAVO for free](https://www.davosalestax.com/integrations/)\\n\\nSeamlessly integrates with the most popular POS systems.\\n--------------------------------------------------------\\n\\n### Click yours to get started.\\n\\n[![Clover logo](https://www.davosalestax.com/wp-content/uploads/2024/07/Clover-logo-horizontal-CloverGreen-400.png)](https://www.davosalestax.com/integrations/clover/)\\n\\n[![Square logo](https://www.davosalestax.com/wp-content/uploads/2022/05/square-new.png)](https://www.davosalestax.com/integrations/square/)\\n\\n[![Toast Logo](https://www.davosalestax.com/wp-content/uploads/2019/12/toast-logo.png)](https://www.davosalestax.com/integrations/toast/)\\n\\n[![Lightspeed-Logo](https://www.davosalestax.com/wp-content/uploads/2020/10/Lightspeed_Logo_205.png)](https://www.davosalestax.com/integrations/lightspeed/)\\n\\n[![SpotOn POS Logo](https://www.davosalestax.com/wp-content/uploads/2022/02/spoton-logo-55.png)](https://www.davosalestax.com/integrations/spoton/)\\n\\n[![SkyTab POS Logo](https://www.davosalestax.com/wp-content/uploads/2023/05/skytab-50.png)](https://www.davosalestax.com/integrations/skytab/)\\n\\n[![HarborTouch](https://www.davosalestax.com/wp-content/uploads/2023/11/harbortouch-160.jpg)](/integrations/harbortouch/)\\n\\n[![GoDaddy Poynt Logo](https://www.davosalestax.com/wp-content/uploads/2022/04/GD_POYNT_50.png)](https://www.davosalestax.com/integrations/poynt/)\\n\\n[![SpotOn POS Logo](https://www.davosalestax.com/wp-content/uploads/2022/07/Epos-Now-Logo.png)](https://www.davosalestax.com/integrations/epos-now/)\\n\\n[![Quickbooks logo](https://www.davosalestax.com/wp-content/uploads/2019/06/quickbooks.jpg)](https://www.davosalestax.com/integrations/quickbooks/)\\n\\n[![Heartland-Logo](https://www.davosalestax.com/wp-content/uploads/2023/09/Heartland-logo-250.png)](https://www.davosalestax.com/integrations/heartland/)\\n\\n[![Revel logo](https://www.davosalestax.com/wp-content/uploads/2019/06/revel-sized.png)](https://www.davosalestax.com/integrations/revel/)\\n\\n[![Cake logo](https://www.davosalestax.com/wp-content/uploads/2024/02/cake-logo-sm.png)](https://www.davosalestax.com/integrations/cake/)\\n\\n[![ Par Brink POS Logo](https://www.davosalestax.com/wp-content/uploads/2024/02/par-brink-pos-300.png)](https://www.davosalestax.com/integrations/par/)\\n\\n[![Mindbody Logo](https://www.davosalestax.com/wp-content/uploads/2022/06/Mindbody-Logo.png)](https://www.davosalestax.com/integrations/mindbody/)\\n\\n[![Table Needs POS Logo](https://www.davosalestax.com/wp-content/uploads/2023/04/Table-Needs-Horz-80.png)](https://www.davosalestax.com/integrations/table-needs/)\\n\\n[![Acadia POS Logo](https://www.davosalestax.com/wp-content/uploads/2023/07/Acadia_POS_Logo_small.png)](https://www.davosalestax.com/integrations/acadia-pos/)\\n\\n[![LAVU POS Logo](https://www.davosalestax.com/wp-content/uploads/2023/12/LAVU-logo-210.png)](https://www.davosalestax.com/integrations/lavu/)\\n\\n[![Payanywhere POS Logo](https://www.davosalestax.com/wp-content/uploads/2024/06/PA_Logo_New.png)](https://www.davosalestax.com/integrations/payanywhere/)\\n\\nDAVO is sales tax on autopilot.\\n-------------------------------\\n\\n### Try DAVO for free. Only $54.99/month after trial.\\n\\n![](https://www.davosalestax.com/wp-content/uploads/2019/06/POS.png)\\n\\n### No added work — enter your sales as usual\\n\\n![](https://www.davosalestax.com/wp-content/uploads/2019/06/Collects.png)\\n\\n### Sets aside sales tax daily\\n\\n![](https://www.davosalestax.com/wp-content/uploads/2019/06/File.png)\\n\\n### Prepares & files your return on time\\n\\n![](https://www.davosalestax.com/wp-content/uploads/2019/06/Pay.png)\\n\\n### Pays your taxes in full\\n\\n[Try DAVO for Free >](https://www.davosalestax.com/integrations/)\\n\\n### Don’t take our word for it.\\n\\nSee why our customers say DAVO is a “Must Have”\\n-----------------------------------------------\\n\\n[![Clover Logo](https://www.davosalestax.com/wp-content/uploads/2024/07/Clover-logo-horizontal-CloverGreen-400.png)](https://www.clover.com/appmarket/apps/X4DFTCNWZ38GP)\\n\\n4.4 of 5\\n\\n[![Square Logo](https://www.davosalestax.com/wp-content/uploads/2021/10/Square-Reviews.png)](https://squareup.com/us/en/app-marketplace/app/davo-sales-tax)\\n\\n4.2 of 5\\n\\n[![Capterra Logo](https://www.davosalestax.com/wp-content/uploads/2021/10/Capterra-Reviews.png)](https://www.capterra.com/p/192999/Davo-Sales-Tax/#reviews)\\n\\n4.8 of 5\\n\\n[![G2 Logo](https://www.davosalestax.com/wp-content/uploads/2021/10/G2-Reviews-1.png)](https://www.g2.com/products/davo-sales-tax/reviews)\\n\\n4.9 of 5\\n\\n[![Trustpilot Logo](https://www.davosalestax.com/wp-content/uploads/2021/10/Trustpilot-Reviews.png)](https://www.trustpilot.com/review/davosalestax.com)\\n\\n4.4 of 5\\n\\n* * *\\n\\n### Restaurants, retail shops, salons and more\\n\\nDAVO is a business owner’s best friend.\\n=======================================\\n\\n*   ![](https://www.davosalestax.com/wp-content/uploads/2021/03/playa-bowls-green.jpg)\\n    \\n    \"Sales tax is just another task that doesn’t make you any money, so why should you spend your valuable time on it when DAVO has a solution?\"\\n    \\n    Warren Sidosky  \\n    Playa Bowls\\n    \\n    [Why businesses love DAVO](https://www.davosalestax.com/playa-bowls-focuses-on-growth-and-never-has-to-worry-about-sales-tax/)\\n    \\n\\nStress free, hassle free sales tax. Try DAVO for free.\\n------------------------------------------------------\\n\\n[Start Your Free Trial](https://www.davosalestax.com/integrations/)\\n\\n[](https://twitter.com/davosalestax)\\n[](https://www.facebook.com/DavoSalesTax/)\\n[](https://www.linkedin.com/company/davo-technologies/about/)\\n[](https://www.youtube.com/c/DAVOSalesTax)\\n[](https://www.instagram.com/davosalestax/)\\n\\n© 2024 DAVO by Avalara | [Privacy](https://www.davosalestax.com/privacy-policy-davo-technologies/)\\n | [Terms of Use](https://www.davosalestax.com/terms-of-use-davo-technologies/)\\n | [View Accessibility Statement](# \"Launch Accessibility Center\")\\n\\n[![en_US](https://www.davosalestax.com/wp-content/plugins/translatepress-multilingual/assets/images/flags/en_US.png \"English\")EN](#)\\n\\n[![es_MX](https://www.davosalestax.com/wp-content/plugins/translatepress-multilingual/assets/images/flags/es_MX.png \"Español de México\")ES](https://www.davosalestax.com/es/ \"Español de México\")\\n [![en_US](https://www.davosalestax.com/wp-content/plugins/translatepress-multilingual/assets/images/flags/en_US.png \"English\")EN](#)\\n\\n![](https://bat.bing.com/action/0?ti=137000995&Ver=2&mid=966fc399-4ea5-4801-a35f-91672bad3ab5&sid=a63f27d05d7811efb7fc351a4d17cb95&vid=a641b6905d7811ef9f9639d3f7167358&vids=1&msclkid=N&uach=pv%3D10.0&pi=918639831&lg=en-US&sw=1280&sh=720&sc=16&tl=Automated%20Sales%20Tax%20for%20Small%20Business%20%7C%20DAVO%20by%20Avalara&p=https%3A%2F%2Fwww.davosalestax.com%2F&r=&lt=2304&evt=pageLoad&sv=1&cdb=AQAQ&rn=508481)',\n",
       " '/partners/back-office/': 'Buyers Edge Platform Back Office\\n================================\\n\\nDAVO by Avalara partners with Back Office to help restaurants simplify their tech stacks and accelerate growth with data-driven technology solutions. Back Office delivers a comprehensive, hospitality-specific software solution backed by industry experts who guide operators to make faster, more informed business decisions. Independent, multi-location, franchise, and enterprise restaurant groups gain efficiencies and drive profitability through financial accounting, purpose-built payroll, food cost management, daily AP automation, and sales tax management all under one roof.\\n\\n[LEARN MORE](https://bepbackoffice.com/accounting/?utm_source=davo&utm_medium=referral&utm_campaign=partnership)\\n\\n![Buyers Edge Platform Back Office](https://www.davosalestax.com/wp-content/uploads/2023/04/Buyers-Edge-Platform-Back-Office.png)\\n\\n* * *\\n\\nMaximize Profits and Drive Growth with Back Office\\n--------------------------------------------------\\n\\nGain clear and actionable insights into your performance, empowering you to make data-based operational decisions that directly drive profitability.\\n\\n![check mark](https://www.davosalestax.com/wp-content/uploads/2023/04/Check-Mark.png)\\n\\n### Accounting\\n\\nBack Office’s hospitality-specific accounting system is powered by accounting professionals with restaurant backgrounds who help operators increase profits. Their team creates scale for your restaurant while educating and training management to make smarter business decisions through industry-specific reporting and timely financial analysis.\\n\\n![check mark](https://www.davosalestax.com/wp-content/uploads/2023/04/Check-Mark.png)\\n\\n### Payroll\\n\\nStreamline payroll and increase accuracy and efficiencies with the Back Office payroll solution! Through purpose-built payroll management, with technology that adheres to compliance legislation, operators will: eliminate manual data entry, improve cash management, and control labor costs.\\n\\n![check mark](https://www.davosalestax.com/wp-content/uploads/2023/04/Check-Mark.png)\\n\\n### Food Cost Management\\n\\nSuccessful restaurants all have one thing in common. They know their food costs. Food Cost Management takes the guess work out of managing your costs and provides you with real-time actionable reports that you’ll actually use. Recipe costs, inventory, budgeting and much more are now available at your fingertips.\\n\\n![check mark](https://www.davosalestax.com/wp-content/uploads/2023/04/Check-Mark.png)\\n\\n### AP Automation\\n\\nPayStream automates the entire invoice life cycle from invoice digitization to making vendor payments and integrating with your accounting software. Say goodbye to manual data entry, paper invoices and time consuming processes. Improve efficiencies, and lower your invoice processing costs with PayStream.\\n\\n[Learn More](https://bepbackoffice.com/accounting/?utm_source=davo&utm_medium=referral&utm_campaign=partnership)\\n\\nDAVO is sales tax on autopilot.\\n-------------------------------\\n\\n![](https://www.davosalestax.com/wp-content/uploads/2023/04/POS.png)\\n\\n### No added work — enter your sales as usual\\n\\n![collects](https://www.davosalestax.com/wp-content/uploads/2023/04/Collects.png)\\n\\n### Sets aside sales tax daily\\n\\n![file](https://www.davosalestax.com/wp-content/uploads/2023/04/File.png)\\n\\n### Prepares & files your return on time\\n\\n![pay](https://www.davosalestax.com/wp-content/uploads/2023/04/Pay.png)\\n\\n### Pays your taxes in full\\n\\nDAVO is a time-saver for restaurants\\n====================================\\n\\n![](https://www.davosalestax.com/wp-content/uploads/2021/03/playa-bowls-green.jpg)\\n\\n> “Sales tax is just another task that doesn’t make you any money, so why should you spend your valuable time on it when DAVO has a solution?”\\n\\n—Warren Sidosky, Playa Bowls\\n\\nDrive your restaurant\\'s growth with Back Office\\n-----------------------------------------------\\n\\n[Learn more and request a demo](https://bepbackoffice.com/accounting/?utm_source=davo&utm_medium=referral&utm_campaign=partnership)\\n\\n[](https://twitter.com/davosalestax)\\n[](https://www.facebook.com/DavoSalesTax/)\\n[](https://www.linkedin.com/company/davo-technologies/about/)\\n[](https://www.youtube.com/c/DAVOSalesTax)\\n[](https://www.instagram.com/davosalestax/)\\n\\n© 2024 DAVO by Avalara | [Privacy](https://www.davosalestax.com/privacy-policy-davo-technologies/)\\n | [Terms of Use](https://www.davosalestax.com/terms-of-use-davo-technologies/)\\n | [View Accessibility Statement](# \"Launch Accessibility Center\")\\n\\n[![en_US](https://www.davosalestax.com/wp-content/plugins/translatepress-multilingual/assets/images/flags/en_US.png \"English\")EN](#)\\n\\n[![es_MX](https://www.davosalestax.com/wp-content/plugins/translatepress-multilingual/assets/images/flags/es_MX.png \"Español de México\")ES](https://www.davosalestax.com/es/socios/back-office/ \"Español de México\")\\n [![en_US](https://www.davosalestax.com/wp-content/plugins/translatepress-multilingual/assets/images/flags/en_US.png \"English\")EN](#)\\n\\n![](https://bat.bing.com/action/0?ti=137000995&Ver=2&mid=388773a8-c429-434e-a583-92fdbe672803&sid=a89095e05d7811ef956be38e15d9bc0b&vid=a890ca605d7811efb352ab96bc3f5780&vids=1&msclkid=N&uach=pv%3D10.0&pi=918639831&lg=en-US&sw=1280&sh=720&sc=16&tl=DAVO%20Partners%20with%20Buyers%20Edge%20Platform%20Back%20Office&p=https%3A%2F%2Fwww.davosalestax.com%2Fpartners%2Fback-office%2F&r=&lt=676&evt=pageLoad&sv=1&cdb=AQAQ&rn=179403)',\n",
       " '/partners/bookkeep/': 'Bookkeep Sales Tax  \\nwith DAVO by Avalara\\n=========================================\\n\\nDAVO has partnered with Bookkeep to combine the benefits of DAVO’s end-to-end sales tax automation and Bookkeep’s daily sales reconciliation and real-time reporting. DAVO uses sales data from Bookkeep to set sales tax funds aside daily, then automatically file and pay when due.\\n\\nWith Bookkeep sales tax powered by DAVO, you can fully automate all aspects of revenue accounting.\\n\\n[get started](https://www.bookkeep.com/sales-tax-automation/)\\n\\n![bookkeep logo](https://www.davosalestax.com/wp-content/uploads/2023/04/bookkeep-logo.png)\\n\\n* * *\\n\\nBookkeep is the smarter accounting automation software.\\n-------------------------------------------------------\\n\\nAutomatically summarize sales into daily journal entries. From sales platform to accounting system.\\n\\n![DAVO + bookkeep](https://www.davosalestax.com/wp-content/uploads/2023/04/Product-overview-with-Davo-1024x477-1.png)\\n\\n[Learn More](https://www.bookkeep.com/sales-tax-automation/)\\n\\nDAVO is sales tax on autopilot.\\n-------------------------------\\n\\n### Bookkeep pricing starts at $89/month depending on how many tax locations you have.\\n\\n![](https://www.davosalestax.com/wp-content/uploads/2023/04/POS.png)\\n\\n### No added work — Bookkeep already captures your sales\\n\\n![collects](https://www.davosalestax.com/wp-content/uploads/2023/04/Collects.png)\\n\\n### DAVO sets aside sales tax daily\\n\\n![file](https://www.davosalestax.com/wp-content/uploads/2023/04/File.png)\\n\\n### DAVO Prepares & files your return on time\\n\\n![pay](https://www.davosalestax.com/wp-content/uploads/2023/04/Pay.png)\\n\\n### DAVO Pays your taxes in full\\n\\nDAVO is a time-saver for accountants and business owners\\n========================================================\\n\\n![](https://www.davosalestax.com/wp-content/uploads/2021/03/playa-bowls-green.jpg)\\n\\n> “Sales tax is just another task that doesn’t make you any money, so why should you spend your valuable time on it when DAVO has a solution?”\\n\\n—Warren Sidosky, Playa Bowls\\n\\n* * *\\n\\n![$89 per month](https://www.davosalestax.com/wp-content/uploads/2023/04/89-davo-price.png)\\n\\n### No hidden fees.  \\nNo long term contracts.\\n\\n[LEARN MORE](https://www.bookkeep.com/sales-tax-automation/)\\n\\nDAVO Sales Tax on Bookkeep includes:\\n====================================\\n\\n*   Sales tax set aside daily\\n*   Guaranteed on-time and in full tax filing and payment\\n*   State sales tax discounts calculated, collected and refunded\\n*   Live set up assistance and continuous chat and tech support\\n*   Daily sales and tax report emails\\n*   Online access to review tax info, payment confirmations and daily sales\\n*   Unlimited storage of sales tax reports, returns and historical data\\n\\nAutomate sales tax on Bookkeep\\n------------------------------\\n\\n[Learn more & get started](https://www.bookkeep.com/sales-tax-automation/)\\n\\n[](https://twitter.com/davosalestax)\\n[](https://www.facebook.com/DavoSalesTax/)\\n[](https://www.linkedin.com/company/davo-technologies/about/)\\n[](https://www.youtube.com/c/DAVOSalesTax)\\n[](https://www.instagram.com/davosalestax/)\\n\\n© 2024 DAVO by Avalara | [Privacy](https://www.davosalestax.com/privacy-policy-davo-technologies/)\\n | [Terms of Use](https://www.davosalestax.com/terms-of-use-davo-technologies/)\\n | [View Accessibility Statement](# \"Launch Accessibility Center\")\\n\\n[![en_US](https://www.davosalestax.com/wp-content/plugins/translatepress-multilingual/assets/images/flags/en_US.png \"English\")EN](#)\\n\\n[![es_MX](https://www.davosalestax.com/wp-content/plugins/translatepress-multilingual/assets/images/flags/es_MX.png \"Español de México\")ES](https://www.davosalestax.com/es/socios/bookkeep/ \"Español de México\")\\n [![en_US](https://www.davosalestax.com/wp-content/plugins/translatepress-multilingual/assets/images/flags/en_US.png \"English\")EN](#)\\n\\n![](https://bat.bing.com/action/0?ti=137000995&Ver=2&mid=58651544-3dcd-45dc-9457-e92c681c7a0c&sid=ab7d0e905d7811efb3f467f3441bd14c&vid=ab7d70e05d7811efaa3b0d084c30e96f&vids=1&msclkid=N&uach=pv%3D10.0&pi=918639831&lg=en-US&sw=1280&sh=720&sc=16&tl=DAVO%20Sales%20Tax%20%7C%20The%20Automated%20bookkeep%20Sales%20Tax%20Solution&p=https%3A%2F%2Fwww.davosalestax.com%2Fpartners%2Fbookkeep%2F&r=&lt=853&evt=pageLoad&sv=1&cdb=AQAQ&rn=411605)',\n",
       " '/partner-referral-program/': 'DAVO Partner Referral Program\\n=============================\\n\\nEarn $50 per location\\\\* when you refer your customers to DAVO Sales Tax\\n-----------------------------------------------------------------------\\n\\nSet your customers up with DAVO by Avalara and help take sales tax off their plate.\\n\\n\\\\*Receive $50 for every location that signs up, completes the trial period, and makes its first payment for the service. [See full terms.](#terms)\\n\\n[start referring](#refer)\\n\\n![Refer a client to DAVO](https://www.davosalestax.com/wp-content/uploads/2021/10/DAVO-refer-a-friend-1024x910.png)\\n\\n* * *\\n\\nDAVO by Avalara is sales tax on autopilot.\\n------------------------------------------\\n\\n### First month filing is free. Only $54.99/month after trial.\\n\\n![](https://www.davosalestax.com/wp-content/uploads/2019/06/POS.png)\\n\\n### No added work — sales are entered as usual\\n\\n![](https://www.davosalestax.com/wp-content/uploads/2019/06/Collects.png)\\n\\n### Sets aside sales tax daily\\n\\n![](https://www.davosalestax.com/wp-content/uploads/2019/06/File.png)\\n\\n### Prepares & files their return on time\\n\\n![](https://www.davosalestax.com/wp-content/uploads/2019/06/Pay.png)\\n\\n### Pays their taxes in full\\n\\n[START Referring](#refer)\\n\\nStart referring today.\\n----------------------\\n\\nChoose one of the options below to start referring businesses to DAVO.\\n\\n![Share a referral link](https://www.davosalestax.com/wp-content/uploads/2022/06/Link-Share.png)\\n\\nOption 1: Referral URL\\n----------------------\\n\\nCreate and share a custom referral link so that your referral can board themselves – or you can help them board.\\n\\n[create your url](#referral-url)\\n\\n![Submit a lead](https://www.davosalestax.com/wp-content/uploads/2022/06/Submit-Lead.png)\\n\\nOption 2: Lead Submission\\n-------------------------\\n\\nSubmit a lead to DAVO and we will reach out to them directly. You will get credit once the business successfully signs up.\\n\\n[submit a lead](#submit-lead)\\n\\nBusy business owners love DAVO Sales Tax\\n----------------------------------------\\n\\n![Testimonial Author Image](https://www.davosalestax.com/wp-content/uploads/2021/03/playa-bowls-green.jpg)\\n\\n> **“Sales tax is just another task that doesn’t make you any money, so why should you spend your valuable time on it when DAVO has a solution?”**  \\n\\n– Warren Sidosky, Playa Bowls\\n\\n![Testimonial Author Image](https://www.davosalestax.com/wp-content/uploads/2022/04/Prince-Pizzeria-SQ.jpg)\\n\\n> **“I can’t think of one reason why you wouldn’t sign up. It’s** **worth it for the peace of mind. Enough is going on that** **you need to focus on other things that count or really** **affect your business.”**\\n\\n– Steve Castraberti, Prince Pizzeria\\n\\n![Testimonial Author Image](https://www.davosalestax.com/wp-content/uploads/2021/04/0b9628f71848da7ca2f4c2ba0f419183-medium-e1618268339657.jpg)\\n\\n> **“DAVO was a ‘game-changer.’ DAVO saves me time and money. As a small business owner, those are my top two priorities.”**  \\n\\n– Gladys Harrsion, Big Mama’s Kitchen and Catering\\n\\n* * *\\n\\nCreate your custom referral URL\\n-------------------------------\\n\\nGenerate your custom referral URL using the tool below and use it to sign a referral business up yourself, or send the link to them so that they can set DAVO up on their own. NOTE: business must board through the DAVO website using your custom URL for the referral to be tracked. [See terms](#terms)\\n.\\n\\nFirst Name\\\\*\\n\\nLast Name\\\\*\\n\\nCompany Name\\\\*\\n\\nEmail\\\\*\\n\\nReferral Program\\n\\n* * *\\n\\nSubmit a referral\\n-----------------\\n\\nSubmit the business’ info to DAVO using the form below and we will reach out to them directly.\\n\\nYour Full Name\\\\*\\n\\nYour Email\\\\*\\n\\nPartner Type\\\\*\\n\\nPlease SelectIntegration PartnerResellerAccounting ProfessionalOther\\n\\nReferral Business Name\\\\*\\n\\nEstimated # of Locations\\\\*\\n\\nReferral First Name\\\\*\\n\\nReferral\\xa0Last Name\\\\*\\n\\nReferral\\xa0Email\\\\*\\n\\nReferral\\xa0Phone number\\\\*\\n\\nPOS Provider\\\\*\\n\\nPlease SelectCloverSquareToastQuickBooksRevelGoDaddy PoyntHeartland RestaurantHeartland RetailPAR BrinkSpotOnMindbodyTable NeedsLightspeed X SeriesLightspeed L SeriesLightspeed R SeriesLightspeed U SeriesLightspeed K SeriesEpos NowAcadia POSShift4CAKELAVUPayanywhere\\n\\nWhat makes DAVO a good fit for this business? What else should we know?\\n\\nReferrer Source\\n\\nLead status\\n\\nDAVO by Avalara Referral Program Terms:\\n---------------------------------------\\n\\nGet rewarded for spreading the word about DAVO by Avalara! Refer a business and receive a $50 referral bonus for every location that signs up for DAVO by Avalara by December 31, 2024, completes the trial period, and makes its first payment for the service. Please review the terms below before submitting a referral.\\n\\n### **Offer Timeline**\\n\\nThis offer is valid for referrals submitted between June 1, 2022 and December 31, 2024.\\n\\n### **Referral Requirements**\\n\\nSubject to these Terms you will receive the $50 referral bonus for each “Qualified Lead Referral”. A “Qualified Lead Referral” is a merchant that:\\n\\n*   is referred to DAVO by Avalara through your unique referral URL generated above or the online referral form and can be directly traced back to the unique URL or form submission. Verbal referrals are unable to be verified and will not be eligible.\\n*   is not an existing lead in the DAVO by Avalara system. DAVO by Avalara reserves the right in its sole discretion to determine the original lead source. Exceptions may be made, at DAVO by Avalara’s sole discretion, if the referral has not been contacted by DAVO by Avalara for at least 6 months, and the lead otherwise meets the requirements of a Qualified Lead Referral.\\n*   signs up for the DAVO by Avalara service by December 31, 2024, completes the trial period, and makes its first subscription payment for the DAVO by Avalara service.\\n\\n### **Modifications**\\n\\nDAVO reserves the right to modify these Terms or terminate the Program at any time, in its sole discretion, without notice, however we will employ commercially reasonable efforts to post a notice on the referral website.\\n\\n### **Questions?**\\n\\nIf you have any questions about the DAVO Referral Program, please [contact us](https://www.davosalestax.com/contact/)\\n.\\n\\nStress free, hassle free sales tax.\\n-----------------------------------\\n\\n[MAKE A REFERRAL](https://www.davosalestax.com/partner-referral-program#refer)\\n\\n[](https://twitter.com/davosalestax)\\n[](https://www.facebook.com/DavoSalesTax/)\\n[](https://www.linkedin.com/company/davo-technologies/about/)\\n[](https://www.youtube.com/c/DAVOSalesTax)\\n[](https://www.instagram.com/davosalestax/)\\n\\n© 2024 DAVO by Avalara | [Privacy](https://www.davosalestax.com/privacy-policy-davo-technologies/)\\n | [Terms of Use](https://www.davosalestax.com/terms-of-use-davo-technologies/)\\n | [View Accessibility Statement](# \"Launch Accessibility Center\")\\n\\n[![en_US](https://www.davosalestax.com/wp-content/plugins/translatepress-multilingual/assets/images/flags/en_US.png \"English\")EN](#)\\n\\n[![es_MX](https://www.davosalestax.com/wp-content/plugins/translatepress-multilingual/assets/images/flags/es_MX.png \"Español de México\")ES](https://www.davosalestax.com/es/partner-referral-program/ \"Español de México\")\\n [![en_US](https://www.davosalestax.com/wp-content/plugins/translatepress-multilingual/assets/images/flags/en_US.png \"English\")EN](#)\\n\\n![](https://bat.bing.com/action/0?ti=137000995&Ver=2&mid=b9f7afc1-ee0c-45c3-9ae6-ba3fa6d3c4c7&sid=adb34f505d7811ef981f4f3a0ae61e56&vid=adb69dc05d7811efbebca922b44aadc7&vids=1&msclkid=N&uach=pv%3D10.0&pi=918639831&lg=en-US&sw=1280&sh=720&sc=16&tl=Partner%20Referral%20Program%20%7C%20DAVO%20Sales%20Tax&p=https%3A%2F%2Fwww.davosalestax.com%2Fpartner-referral-program%2F&r=&lt=979&evt=pageLoad&sv=1&cdb=AQAQ&rn=589244)',\n",
       " '/partners/': 'Our Tech Partners\\n=================\\n\\n### We partner with these top-notch tech companies to help your business succeed. Click yours to learn more.\\n\\n[![Buyers Edge Platform Back Office](https://www.davosalestax.com/wp-content/uploads/2023/04/Buyers-Edge-Platform-Back-Office-80.jpg)](https://www.davosalestax.com/partners/back-office/)\\n[Buyers Edge Platform Back Office](https://www.davosalestax.com/partners/back-office/ \"Buyers Edge Platform Back Office\")\\n\\n[![Quickbooks](https://www.davosalestax.com/wp-content/uploads/2019/06/quickbooks.jpg)](https://www.davosalestax.com/partners/quickbooks/)\\n[QuickBooks](https://www.davosalestax.com/partners/quickbooks/ \"QuickBooks\")\\n\\n[![bookkeep logo](https://www.davosalestax.com/wp-content/uploads/2023/04/bookkeep-logo.png)](https://www.davosalestax.com/partners/bookkeep/)\\n[Bookkeep](https://www.davosalestax.com/partners/bookkeep/ \"Bookkeep\")\\n\\nInterested in partnering with us?\\n---------------------------------\\n\\nLet’s connect. Complete the form below.\\n\\n  \\n\\nFirst Name\\\\*\\n\\nLast Name\\\\*\\n\\nCompany Name\\n\\nEmail\\\\*\\n\\nPhone Number\\n\\nTell us about your company and how we can work together.\\n\\nNOT IN USE - Automatic Ticket Creation Property\\n\\nNOT IN USE - Automatic Ticket Creation Property\\n\\n[](https://twitter.com/davosalestax)\\n[](https://www.facebook.com/DavoSalesTax/)\\n[](https://www.linkedin.com/company/davo-technologies/about/)\\n[](https://www.youtube.com/c/DAVOSalesTax)\\n[](https://www.instagram.com/davosalestax/)\\n\\n© 2024 DAVO by Avalara | [Privacy](https://www.davosalestax.com/privacy-policy-davo-technologies/)\\n | [Terms of Use](https://www.davosalestax.com/terms-of-use-davo-technologies/)\\n | [View Accessibility Statement](# \"Launch Accessibility Center\")\\n\\n[![en_US](https://www.davosalestax.com/wp-content/plugins/translatepress-multilingual/assets/images/flags/en_US.png \"English\")EN](#)\\n\\n[![es_MX](https://www.davosalestax.com/wp-content/plugins/translatepress-multilingual/assets/images/flags/es_MX.png \"Español de México\")ES](https://www.davosalestax.com/es/socios/ \"Español de México\")\\n [![en_US](https://www.davosalestax.com/wp-content/plugins/translatepress-multilingual/assets/images/flags/en_US.png \"English\")EN](#)\\n\\n![](https://bat.bing.com/action/0?ti=137000995&Ver=2&mid=60cdfffd-fc51-430a-8647-8067f577fe54&sid=b0e781e05d7811efa82cb16bee92a061&vid=b0e83f205d7811ef9548d37097d03f87&vids=1&msclkid=N&uach=pv%3D10.0&pi=918639831&lg=en-US&sw=1280&sh=720&sc=16&tl=Partners%20%7C%20DAVO%20Sales%20Tax&p=https%3A%2F%2Fwww.davosalestax.com%2Fpartners%2F&r=&lt=1087&evt=pageLoad&sv=1&cdb=AQAQ&rn=460529)',\n",
       " '/customer-stories/': '![Customer Stories hero](https://www.davosalestax.com/wp-content/uploads/2024/06/customer-stories-hero.png)\\n\\nCustomer Stories\\n================\\n\\nDAVO is a business owner’s best friend.\\n---------------------------------------\\n\\n![Burger with fries](https://www.davosalestax.com/wp-content/uploads/2024/06/burgers.jpg)\\n\\n“\\n\\nI never worry about paying enough tax or figuring it wrong, DAVO did it all.\\n----------------------------------------------------------------------------\\n\\n—Maureen B., Owner, Food & Beverages  \\nSource: [Capterra](https://www.capterra.com/p/192999/Davo-Sales-Tax/reviews/2022151/)\\n\\n“\\n\\n### Prior to DAVO I struggled with remembering to pay sales tax monthly and had gotten behind a few times. The fact that I no longer have to manage sales tax and can now focus on other important aspects of my business makes my life so much easier.\\n\\n—Lakita S., President  \\nMr. Potato Spread  \\nSource: [Capt](https://www.capterra.com/p/192999/Davo-Sales-Tax/reviews/2013071/)\\n[erra](https://www.capterra.com/p/192999/Davo-Sales-Tax/reviews/2013071/)\\n\\n“\\n\\n### DAVO takes the guess work right out of Sales Tax. Each day, DAVO takes the portion of my sales required for my state sales tax and processes it and files it for me weekly. They are a must for any small to medium business\\n\\n—Matthew B.,  \\nSmall-Business  \\nSource: [G2.com](https://www.g2.com/products/davo-sales-tax/reviews/davo-sales-tax-review-9230547)\\n\\n“\\n\\nTakes the pain out of sales tax!\\n--------------------------------\\n\\n### Davo is an important service to us. The main feature of having them collect and put asside our sales tax is a Godsend for us. Before Davo we were usually stressing come monthly tax remittance time. We either didn’t save enough or didn’t save at all. This really takes the pain out of paying sales tax to the state!\\n\\n—Robert C.  \\nSmall-Business  \\nSource: [G2.com](https://www.g2.com/products/davo-sales-tax/reviews/davo-sales-tax-review-9632143)\\n\\n![restaurant tables with people having a meal](https://www.davosalestax.com/wp-content/uploads/2024/06/restraunt.jpg)\\n\\n“\\n\\nOnce DAVO is set up, there is nothing further to do. It is alll completely automated.\\n-------------------------------------------------------------------------------------\\n\\n—Jeremy W.  \\nSmall-Business  \\nSource: [G2.com](https://www.g2.com/products/davo-sales-tax/reviews/davo-sales-tax-review-9285751)\\n\\n“\\n\\n### Before sales tax was yet another task we needed to complete, along with 50 other things. We had to remember was it monthly or quarterly now. And did we send or did it get forgotten. Once we implemented DAVO, we don’t even worry about anymore.\\n\\n—Dustin P.  \\nSmall-Business  \\nSource: [G2.com](https://www.g2.com/products/davo-sales-tax/reviews/davo-sales-tax-review-8369863)\\n\\n![Automotive shop](https://www.davosalestax.com/wp-content/uploads/2024/06/automotive-shop.jpg)\\n\\n“\\n\\nGives me the time to focus my efforts on building my business\\n-------------------------------------------------------------\\n\\n—Greg M., Franchise  \\nOwner, Automotive  \\nSource: [Captera](https://www.capterra.com/p/192999/Davo-Sales-Tax/reviews/2012486/)\\n\\n“\\n\\nWe love this product!\\n---------------------\\n\\n### This software is great. I like the fact that it takes my sales tax every night, pays it for me and then sends me notification that it was paid. Can’t get much easier then that.\\n\\n—Gregory G., Manager  \\nRetail  \\nSource: [Capterra](https://www.capterra.com/p/192999/Davo-Sales-Tax/reviews/2022152/)\\n\\n![restaurant patron pointing to menu](https://www.davosalestax.com/wp-content/uploads/2024/06/pointing-to-menu.jpg)\\n\\n“\\n\\nLet DAVO do the work! The system is so seemless, we think everyone should use it. The time saved by not having to file monthly reports more than pays for the service.\\n----------------------------------------------------------------------------------------------------------------------------------------------------------------------\\n\\n—Todd P., CEO  \\nFood & Beverages  \\nSource: [Capterra](https://www.capterra.com/p/192999/Davo-Sales-Tax/reviews/2021952/)\\n\\n“\\n\\nEasiest way to keep safe\\n------------------------\\n\\n### As a small business owner, building my cash flow was hard. So paying my sales tax every day and having DAVO to do it for me I don’t count on money that it’s not ours but the the State’s.\\n\\n—Alessandra C., Owner Retail  \\nSource: [Capterra](https://www.capterra.com/p/192999/Davo-Sales-Tax/reviews/2013317/)\\n\\n![waitress delivering food at pub](https://www.davosalestax.com/wp-content/uploads/2024/06/waitress-burgers.jpg)\\n\\n“\\n\\nIt takes a huge task off of my plate. As a business owner, we wear many hats and it is so nice to have help with something that could easily slip through the cracks. I highly recommend Davo to anyone that owns a business or will be owning a business at any point!\\n-----------------------------------------------------------------------------------------------------------------------------------------------------------------------------------------------------------------------------------------------------------------------\\n\\n—User in Food & Beverages,  \\nSmall-Business  \\nSource: [G2.com](https://www.g2.com/products/davo-sales-tax/reviews/davo-sales-tax-review-9232001)\\n\\n“\\n\\nAbsolutely a game changer!\\n--------------------------\\n\\n### No more late payments or late returns – the savings on those penalties and interest more than pay for DAVO. Not to mention the relief knowing that sales tax is taken care of every month.\\n\\n—Nancy D., President  \\nSmall-Business  \\nSource: [G2.com](https://www.g2.com/products/davo-sales-tax/reviews/davo-sales-tax-review-9234493)\\n\\n![Table Needs case study featured image](https://www.davosalestax.com/wp-content/uploads/2024/03/table-needs-bagel-square.jpg)\\n\\n“\\n\\nWe were having the hardest time keeping up with what we owed, and when to pay it. Now, it just comes out before we even see it, so we don’t even think about it.\\n----------------------------------------------------------------------------------------------------------------------------------------------------------------\\n\\n—Alex Warner, Owner  \\nBagel Boy\\n\\n[Read more](/davo-helps-a-bagel-shop-automate-sales-tax-with-table-needs-pos/)\\n\\n* * *\\n\\n### Don’t take our word for it.\\n\\nSee why our customers say DAVO is a “Must Have”\\n-----------------------------------------------\\n\\n[![Clover Logo](https://www.davosalestax.com/wp-content/uploads/2024/07/Clover-logo-horizontal-CloverGreen-400.png)](https://www.clover.com/appmarket/apps/X4DFTCNWZ38GP)\\n\\n4.4 of 5\\n\\n[![Square Logo](https://www.davosalestax.com/wp-content/uploads/2021/10/Square-Reviews.png)](https://squareup.com/us/en/app-marketplace/app/davo-sales-tax)\\n\\n4.2 of 5\\n\\n[![Capterra Logo](https://www.davosalestax.com/wp-content/uploads/2021/10/Capterra-Reviews.png)](https://www.capterra.com/p/192999/Davo-Sales-Tax/#reviews)\\n\\n4.8 of 5\\n\\n[![G2 Logo](https://www.davosalestax.com/wp-content/uploads/2021/10/G2-Reviews-1.png)](https://www.g2.com/products/davo-sales-tax/reviews)\\n\\n4.9 of 5\\n\\n[![Trustpilot Logo](https://www.davosalestax.com/wp-content/uploads/2021/10/Trustpilot-Reviews.png)](https://www.trustpilot.com/review/davosalestax.com)\\n\\n4.4 of 5\\n\\nStress free, hassle free sales tax. Free for 30 days.\\n-----------------------------------------------------\\n\\n[Start Your Free Trial](https://www.davosalestax.com/integrations/)\\n\\n[](https://twitter.com/davosalestax)\\n[](https://www.facebook.com/DavoSalesTax/)\\n[](https://www.linkedin.com/company/davo-technologies/about/)\\n[](https://www.youtube.com/c/DAVOSalesTax)\\n[](https://www.instagram.com/davosalestax/)\\n\\n© 2024 DAVO by Avalara | [Privacy](https://www.davosalestax.com/privacy-policy-davo-technologies/)\\n | [Terms of Use](https://www.davosalestax.com/terms-of-use-davo-technologies/)\\n | [View Accessibility Statement](# \"Launch Accessibility Center\")\\n\\n[![en_US](https://www.davosalestax.com/wp-content/plugins/translatepress-multilingual/assets/images/flags/en_US.png \"English\")EN](#)\\n\\n[![es_MX](https://www.davosalestax.com/wp-content/plugins/translatepress-multilingual/assets/images/flags/es_MX.png \"Español de México\")ES](https://www.davosalestax.com/es/customer-stories/ \"Español de México\")\\n [![en_US](https://www.davosalestax.com/wp-content/plugins/translatepress-multilingual/assets/images/flags/en_US.png \"English\")EN](#)\\n\\n![](https://bat.bing.com/action/0?ti=137000995&Ver=2&mid=1424d38d-8f41-44ca-afef-0962650c026d&sid=b564c5f05d7811efbe8a8dd0b54de62b&vid=b565fbe05d7811efb0a40dc40696eca1&vids=1&msclkid=N&uach=pv%3D10.0&pi=918639831&lg=en-US&sw=1280&sh=720&sc=16&tl=Customer%20Stories%20%7C%20DAVO%20Sales%20Tax&p=https%3A%2F%2Fwww.davosalestax.com%2Fcustomer-stories%2F&r=&lt=1611&evt=pageLoad&sv=1&cdb=AQAQ&rn=486532)'}"
      ]
     },
     "execution_count": 16,
     "metadata": {},
     "output_type": "execute_result"
    }
   ],
   "source": [
    "# Scrape data from all related URLs\n",
    "\n",
    "crawl_data(base_url = url, \n",
    "           url_list = related_urls,\n",
    "           file_path = scrape_file_path,\n",
    "           overwrite = False)"
   ]
  },
  {
   "cell_type": "markdown",
   "metadata": {},
   "source": [
    "## Information Extraction Prompting Chain\n",
    "\n",
    "A three-layer prompting chain was implemented to manage this process. \n",
    "\n",
    "- The first layer, content filtering, identified and filtered relevant information from the scraped content. \n",
    "- The second layer, semantic data extraction, focused on extracting and structuring product and client information. \n",
    "- The final layer, client validation and product matching, classified client entities and searched for their URLs, while establishing links between clients and products."
   ]
  },
  {
   "cell_type": "code",
   "execution_count": 4,
   "metadata": {},
   "outputs": [
    {
     "name": "stdout",
     "output_type": "stream",
     "text": [
      "Parent directory already exists: test/extraction_summary_v2\n",
      "Company: davo_technologies; Content in main_page is extracted.\n",
      "Company: davo_technologies; Content in /partners/back-office/ is extracted.\n",
      "Company: davo_technologies; Content in /partners/bookkeep/ is extracted.\n",
      "Company: davo_technologies; Content in /partner-referral-program/ is extracted.\n",
      "Company: davo_technologies; Content in /partners/ is extracted.\n",
      "Company: davo_technologies; Content in /customer-stories/ is extracted.\n",
      "Parent directory already exists: test/extraction_output_v2\n",
      "Company: davo_technologies; Information extraction begins.\n",
      "Company: davo_technologies; Estimated Cost: $0.009245\n",
      "Company: davo_technologies; Pitchbook description obtained: Developer of an automated sales tax remedy platform designed to assist organizations with daily cash management. The company's platform automatically collects, files and pays sales tax for a merchant utilizing the ACH and card payments networks and integrates with a client's point-of-sale or back-end accounting software, automating tax management, setting aside the total sales tax collected daily and holding it safe and secure, enabling merchants to automate and hassle-free sales tax.\n",
      "Company: davo_technologies; PART 1 - Initial extraction is completed.\n",
      "Company: davo_technologies; PART 2 - Information validation is completed.\n",
      "Company: davo_technologies; Product embedding is completed.\n",
      "Company: davo_technologies; Summary product embedding is completed.\n",
      "Company: davo_technologies; Client is extracted.\n",
      "Issue found: Company davo_technologies; Client Playa Bowls; Product used None\n",
      "Issue found: Company davo_technologies; Client Prince Pizzeria; Product used None\n",
      "Issue found: Company davo_technologies; Client Big Mama’s Kitchen and Catering; Product used None\n",
      "Parent directory already exists: test\n",
      "Client Big Mama’s Kitchen and Catering: URL could not be found\n",
      "Client Back Office: URL could not be found\n",
      "Client Bookkeep: URL could not be found\n",
      "Company: davo_technologies; Clients information is updated.\n"
     ]
    }
   ],
   "source": [
    "\n",
    "# Layer 1\n",
    "_ = llm_summary_execution(processed_name = processed_name,\n",
    "                        scrape_file_path = scrape_file_path,\n",
    "                        summary_file_path = summary_file_path,\n",
    "                        overwrite = True,\n",
    "                        model_name = 'gpt-4o-mini')\n",
    "\n",
    "# Layer 2 & 3\n",
    "# include_addition_context = True when the company's description can be found on the PitchBook dataset\n",
    "_ = llm_extraction_execution(processed_name = processed_name,\n",
    "                        summary_file_path = summary_file_path,\n",
    "                        extraction_file_path = extraction_file_path, \n",
    "                        include_additional_context = True, \n",
    "                        overwrite = True,\n",
    "                        model_name = 'gpt-4o')\n",
    "\n",
    "# Get the embedding of product description\n",
    "_ = get_product_embedding(processed_name = processed_name,\n",
    "                    extraction_file_path = extraction_file_path,\n",
    "                    embedding_model = \"text-embedding-3-small\")\n",
    "\n",
    "# Add the client's URLs to the extraction output\n",
    "_ = add_client_url_to_extraction_output(processed_name = processed_name,\n",
    "                            extraction_file_path = extraction_file_path)\n",
    "\n",
    "# Trouble shoot any issues\n",
    "_ = troubleshoot_llm_output(processed_name = processed_name,\n",
    "                    extraction_file_path = extraction_file_path)\n",
    "\n",
    "# Update the client list (All clients' URLs are stored in data/client_info.json)\n",
    "_ = update_client_list(processed_name = processed_name,\n",
    "                extraction_file_path = extraction_file_path,\n",
    "                client_file_path = client_file_dir)"
   ]
  },
  {
   "cell_type": "markdown",
   "metadata": {},
   "source": [
    "## Knowledge Graph Construction\n",
    "\n",
    "Knowledge graph will then be constructed based on the extraction file."
   ]
  },
  {
   "cell_type": "code",
   "execution_count": 5,
   "metadata": {},
   "outputs": [
    {
     "name": "stdout",
     "output_type": "stream",
     "text": [
      "Company davo_technologies is added to the graph.\n"
     ]
    }
   ],
   "source": [
    "kg_construction(processed_name = processed_name, \n",
    "                extraction_file_path = extraction_file_path)"
   ]
  },
  {
   "cell_type": "markdown",
   "metadata": {},
   "source": [
    "The graph can be seen in Neo4j's browser.\n",
    "\n",
    "<div>\n",
    "<img src=\"imgs/sample_mini_graph.png\" width=\"500\"/>\n",
    "</div>"
   ]
  },
  {
   "cell_type": "markdown",
   "metadata": {},
   "source": [
    "## Full pipeline for client companies\n",
    "\n",
    "When adding clients' information (products and clients) to the knowledge graph, the pipeline can be reused with some slight modification.\n",
    "\n",
    "Here are the differences in implementation:\n",
    "- Clients' filepath (scrape_file_path, summary_file_path, extraction_file_path) are different from targeted FinTech companies\n",
    "- When executing llm_extraction_execution, the include_additional_context should be set to False. Client companies are not stored in the PitchBook dataset and additional context (company description) cannot be found.\n",
    "- For clients, there is no need to run update_client_list function."
   ]
  },
  {
   "cell_type": "markdown",
   "metadata": {},
   "source": [
    "## Knowledge Graph Construction (Scaling to All Companies)\n",
    "In the previous sections, a sample company goes through the data scraping, information extraction and the KG construction process.\n",
    "\n",
    "In this project, all the data scraping and information extraction have been completed.\n",
    "\n",
    "This section will take all the existing extraction files and add them to the KG."
   ]
  },
  {
   "cell_type": "code",
   "execution_count": 8,
   "metadata": {},
   "outputs": [
    {
     "name": "stdout",
     "output_type": "stream",
     "text": [
      "Company hearro is added to the graph.\n",
      "Company raken is added to the graph.\n",
      "Company crunch_ is added to the graph.\n",
      "Company crowdbureau is added to the graph.\n",
      "Company yayem is added to the graph.\n"
     ]
    }
   ],
   "source": [
    "# Load all the FinTech companies to the KG\n",
    "\n",
    "fintech_extraction_path = 'extraction_output_v2'\n",
    "\n",
    "doc_list = os.listdir(fintech_extraction_path)\n",
    "\n",
    "# Only add 5 companies as a demo\n",
    "for doc in doc_list[:5]:\n",
    "    try:\n",
    "        processed_name = doc.replace('_extraction.json', '')\n",
    "        extraction_file_path = f'{fintech_extraction_path}/{doc}'\n",
    "        kg_construction(processed_name, extraction_file_path)\n",
    "    except Exception as e:\n",
    "        print(f'Error occurs on company {processed_name}, {e}')"
   ]
  },
  {
   "cell_type": "code",
   "execution_count": 9,
   "metadata": {},
   "outputs": [
    {
     "name": "stdout",
     "output_type": "stream",
     "text": [
      "Company northmarq is added to the graph.\n",
      "Company np_dodge is added to the graph.\n",
      "Company unilever is added to the graph.\n",
      "Company coca_cola is added to the graph.\n",
      "Company conner_strong_&_buckelew is added to the graph.\n"
     ]
    }
   ],
   "source": [
    "# Load all the client companies to the KG\n",
    "\n",
    "client_extraction_path = 'client_extraction_output'\n",
    "\n",
    "doc_list = os.listdir(client_extraction_path)\n",
    "\n",
    "# Only add 5 companies as a demo\n",
    "for doc in doc_list[:5]:\n",
    "    try:\n",
    "        processed_name = doc.replace('_extraction.json', '')\n",
    "        extraction_file_path = f'{client_extraction_path}/{doc}'\n",
    "        kg_construction(processed_name, extraction_file_path)\n",
    "    except Exception as e:\n",
    "        print(f'Error occurs on company {processed_name}, {e}')"
   ]
  },
  {
   "cell_type": "markdown",
   "metadata": {},
   "source": [
    "## Summary statistics"
   ]
  },
  {
   "cell_type": "code",
   "execution_count": 13,
   "metadata": {},
   "outputs": [
    {
     "name": "stdout",
     "output_type": "stream",
     "text": [
      "Total number of companies: 791\n",
      "Total number of relevant pages: 3217\n",
      "Total number of relevant pages per company: 4.067003792667509\n"
     ]
    }
   ],
   "source": [
    "# FinTech companies\n",
    "df = pd.read_csv('data/merge_url_companies.csv')\n",
    "print(f\"Total number of companies: {len(df)}\")\n",
    "print(f\"Total number of relevant pages: {df['num_of_related_urls'].sum()}\")\n",
    "print(f\"Total number of relevant pages per company: {df['num_of_related_urls'].sum()/len(df)}\")"
   ]
  },
  {
   "cell_type": "code",
   "execution_count": 14,
   "metadata": {},
   "outputs": [
    {
     "name": "stdout",
     "output_type": "stream",
     "text": [
      "Errors found at .DS_Store: 'utf-8' codec can't decode byte 0x80 in position 3131: invalid start byte\n",
      "Total number of companies: 1413\n",
      "Total number of relevant pages: 7545\n",
      "Total number of relevant pages per company: 5.339702760084926\n"
     ]
    }
   ],
   "source": [
    "# Client companies\n",
    "doc_list = os.listdir('client_extraction_summary')\n",
    "num_companies = 0\n",
    "num_pages = 0\n",
    "for doc in doc_list:\n",
    "    try:\n",
    "        data = read_json_file(f'client_extraction_summary/{doc}')\n",
    "        pages = data.keys()\n",
    "        num_companies += 1\n",
    "        valid_pages = [i for i in pages if i not in ['processed_name', 'timestamp', 'url', 'model_name']]\n",
    "        num_pages += len(valid_pages)\n",
    "    except Exception as e:\n",
    "        print(f'Errors found at {doc}: {e}')\n",
    "        \n",
    "print(f\"Total number of companies: {num_companies}\")\n",
    "print(f\"Total number of relevant pages: {num_pages}\")\n",
    "print(f\"Total number of relevant pages per company: {num_pages/num_companies}\")"
   ]
  },
  {
   "cell_type": "markdown",
   "metadata": {},
   "source": [
    "## Add cluster labels to knowledge graph (Optional)\n",
    "The clustering analysis is conducted to group products with similar descriptions based on their embeddings (See detail in \"clustering.ipynb\").\n",
    "\n",
    "The clustering labels can be added to the graph database.\n"
   ]
  },
  {
   "cell_type": "code",
   "execution_count": 4,
   "metadata": {},
   "outputs": [
    {
     "data": {
      "text/plain": [
       "array(['7_Blockchain-Based Platforms for Digital Content Monetization and Security',\n",
       "       '21_Construction Project Management Software Solutions',\n",
       "       '0_Comprehensive Tax, Accounting, and Advisory Services for Businesses',\n",
       "       '10_Mortgage and Lending Solutions',\n",
       "       '-1_Comprehensive Financial and Business Management Platforms',\n",
       "       '13_Comprehensive HR and Payroll Solutions',\n",
       "       '2_Real Estate Management and Marketing Platforms',\n",
       "       '4_Comprehensive Payment Processing Solutions and Services',\n",
       "       '6_AI-Powered Financial Analytics and Risk Management Platforms',\n",
       "       '9_Comprehensive Property Management Solutions for Landlords and Real Estate Markets',\n",
       "       '15_Comprehensive ESG and Carbon Management Solutions',\n",
       "       '5_Comprehensive Financial and Trading Data Analytics Platforms',\n",
       "       '14_Comprehensive IT and Security Solutions for Business Operations',\n",
       "       '19_Comprehensive Healthcare and Wellness Services',\n",
       "       '27_Fundraising and Grant Management Solutions for Nonprofits and Organizations',\n",
       "       '16_Insurance Automation and Analytics Platforms',\n",
       "       '24_Vacation Rental and Hotel Management Platform',\n",
       "       '3_Comprehensive Construction and Building Services',\n",
       "       '8_Private Investment and Capital Management Solutions for Growth and Startups',\n",
       "       '18_Comprehensive Real Estate Services and Support',\n",
       "       '1_Comprehensive Banking and Financial Services',\n",
       "       '29_Comprehensive Financial and Wealth Management Services',\n",
       "       '22_Luxury Travel and Vacation Rentals',\n",
       "       '23_Comprehensive Financial and Retirement Solutions for Individuals and Businesses',\n",
       "       '12_Comprehensive Commercial Real Estate Services and Investments',\n",
       "       '20_Variety of High-Quality and Comfortable Apparel and Accessories',\n",
       "       '25_Comprehensive Community and Social Services Development',\n",
       "       '26_Renewable Energy Project Development and Management',\n",
       "       '17_Comprehensive Insurance Solutions for Businesses and Individuals',\n",
       "       '11_Diverse Food and Beverage Offerings with a Focus on Fermented and Fresh Products',\n",
       "       '28_Comprehensive Vehicle Sales, Rentals, and Services'],\n",
       "      dtype=object)"
      ]
     },
     "execution_count": 4,
     "metadata": {},
     "output_type": "execute_result"
    }
   ],
   "source": [
    "\n",
    "df_gpt = pd.read_csv('data/company_clustering_result_detailed.csv')\n",
    "df_gpt['Cluster'].unique()\n"
   ]
  },
  {
   "cell_type": "code",
   "execution_count": 5,
   "metadata": {},
   "outputs": [],
   "source": [
    "# Add cluster labels to graph database\n",
    "for index, row in df_gpt.iterrows():\n",
    "    cluster_detail = row['Cluster']\n",
    "    if cluster_detail.split('_')[0] == '-1':\n",
    "        cluster_detail = '-1_Unclassified'\n",
    "    data = {'cluster_name_detail': cluster_detail}\n",
    "    get_or_create_company(row['url'], data)"
   ]
  },
  {
   "cell_type": "code",
   "execution_count": null,
   "metadata": {},
   "outputs": [],
   "source": []
  }
 ],
 "metadata": {
  "kernelspec": {
   "display_name": "ucl_project",
   "language": "python",
   "name": "python3"
  },
  "language_info": {
   "codemirror_mode": {
    "name": "ipython",
    "version": 3
   },
   "file_extension": ".py",
   "mimetype": "text/x-python",
   "name": "python",
   "nbconvert_exporter": "python",
   "pygments_lexer": "ipython3",
   "version": "3.10.6"
  }
 },
 "nbformat": 4,
 "nbformat_minor": 2
}
