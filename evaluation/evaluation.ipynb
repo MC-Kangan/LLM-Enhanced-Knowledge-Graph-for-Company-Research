{
 "cells": [
  {
   "cell_type": "code",
   "execution_count": 24,
   "metadata": {},
   "outputs": [],
   "source": [
    "from langchain.output_parsers.json import SimpleJsonOutputParser\n",
    "from langchain.prompts import PromptTemplate\n",
    "from langchain_openai import ChatOpenAI\n",
    "from langchain_core.prompts import ChatPromptTemplate\n",
    "from langchain_core.messages import HumanMessage, SystemMessage \n",
    "from dotenv import load_dotenv\n",
    "from datetime import datetime\n",
    "from os.path import exists\n",
    "import tiktoken\n",
    "import re\n",
    "import os\n",
    "import instructor\n",
    "from openai import OpenAI\n",
    "from pydantic import BaseModel, Field\n",
    "from typing import List, Optional, Literal\n",
    "from langchain_core.prompts import ChatPromptTemplate, MessagesPlaceholder\n",
    "from langchain_openai import ChatOpenAI\n",
    "from langchain.output_parsers.json import SimpleJsonOutputParser\n",
    "from langchain_core.runnables.history import RunnableWithMessageHistory\n",
    "from langchain_community.chat_message_histories import ChatMessageHistory\n",
    "from langchain.schema import StrOutputParser\n",
    "import json\n",
    "from tqdm import tqdm\n"
   ]
  },
  {
   "cell_type": "code",
   "execution_count": 13,
   "metadata": {},
   "outputs": [],
   "source": [
    "def read_jsonl_file(file_path):\n",
    "    with open(file_path, 'r', encoding='utf-8') as file:\n",
    "        return [json.loads(line) for line in file if line.strip()]\n",
    "    \n",
    "\n",
    "def write_jsonl_file(file_path, data):\n",
    "    # Open the file in write mode ('w')\n",
    "    with open(file_path, 'w') as file:\n",
    "        for item in data:\n",
    "            # Serialize the dictionary to a JSON formatted string\n",
    "            json_str = json.dumps(item)\n",
    "            # Write the JSON string to the file followed by a newline\n",
    "            file.write(json_str + '\\n')\n"
   ]
  },
  {
   "cell_type": "code",
   "execution_count": 73,
   "metadata": {},
   "outputs": [],
   "source": [
    "data = read_jsonl_file('final_target_scores.jsonl')"
   ]
  },
  {
   "cell_type": "code",
   "execution_count": 59,
   "metadata": {},
   "outputs": [
    {
     "data": {
      "text/plain": [
       "250"
      ]
     },
     "execution_count": 59,
     "metadata": {},
     "output_type": "execute_result"
    }
   ],
   "source": [
    "jewelry = [product for product in data if product['category'] == 'Jewelry']\n",
    "len(jewelry)"
   ]
  },
  {
   "cell_type": "code",
   "execution_count": 53,
   "metadata": {},
   "outputs": [
    {
     "data": {
      "text/plain": [
       "297"
      ]
     },
     "execution_count": 53,
     "metadata": {},
     "output_type": "execute_result"
    }
   ],
   "source": [
    "office = [product for product in data if product['category'] == 'Office Products']\n",
    "len(office)"
   ]
  },
  {
   "cell_type": "code",
   "execution_count": 70,
   "metadata": {},
   "outputs": [
    {
     "data": {
      "text/plain": [
       "81"
      ]
     },
     "execution_count": 70,
     "metadata": {},
     "output_type": "execute_result"
    }
   ],
   "source": [
    "food = [product for product in data if product['category'] == 'Grocery And Gourmet Food']\n",
    "len(food)"
   ]
  },
  {
   "cell_type": "code",
   "execution_count": 74,
   "metadata": {},
   "outputs": [],
   "source": [
    "home_garden = [product for product in data if product['category'] == 'Home And Garden']"
   ]
  },
  {
   "cell_type": "code",
   "execution_count": 36,
   "metadata": {},
   "outputs": [
    {
     "data": {
      "text/plain": [
       "{'id': 274490,\n",
       " 'cluster_id': 141824.0,\n",
       " 'category': 'Grocery And Gourmet Food',\n",
       " 'input_title': 'Nutiva Organic Hemp Protein Hi-Fiber -- 3 lbs',\n",
       " 'input_description': \"Per Serving 12 g Fiber 11 g Protein Nutiva's delicious Organic Hemp Protein Powder is: Extremely nutritious. One serving provides 11 grams raw organic protein and a whopping 14 grams of fiber (54% of the RDI). Hemp contains all 8 essential amino acids with the bonus of good-for-you essential fatty acids. Certified Organic. No GMOs, pesticides, or solvents! Ever wonder why soy burgers and soymilk are organic yet soy protein isn't? Most non-organic soy protein is processed with hexane, a petroleum solvent similar to gasoline. Planet-friendly. Hemp (a non-drug crop) is the earth's premier renewable resource and grows easily without pesticides.\",\n",
       " 'target_scores': {'Brand': {'Nutiva': {'pid': [0, 1], 'score': 1}},\n",
       "  'Product Type': {'Hemp Protein': {'pid': [0], 'score': 1},\n",
       "   'Hemp Protein Powder': {'pid': [1], 'score': 1}},\n",
       "  'Packing Type': {'n/a': 1},\n",
       "  'Flavor': {'raw': {'pid': [1], 'score': 1}},\n",
       "  'Size/Weight': {'3 lbs': {'pid': [0], 'score': 1}},\n",
       "  'Pack Quantity': {'n/a': 1},\n",
       "  'Manufacturer Stock Number': {'n/a': 1},\n",
       "  'Retail UPC': {'n/a': 1}}}"
      ]
     },
     "execution_count": 36,
     "metadata": {},
     "output_type": "execute_result"
    }
   ],
   "source": [
    "food[0]"
   ]
  },
  {
   "cell_type": "code",
   "execution_count": 62,
   "metadata": {},
   "outputs": [
    {
     "data": {
      "text/plain": [
       "{'Brand',\n",
       " 'Gender',\n",
       " 'Metal Type',\n",
       " 'Model Number',\n",
       " 'Product Type',\n",
       " 'Stone Shape',\n",
       " 'Stones Setting',\n",
       " 'Stones Total Weight',\n",
       " 'Stones Type'}"
      ]
     },
     "execution_count": 62,
     "metadata": {},
     "output_type": "execute_result"
    }
   ],
   "source": [
    "key_set = {}\n",
    "\n",
    "attributes_list = []\n",
    "for i in jewelry:\n",
    "   attributes_list += list(i['target_scores'].keys())\n",
    "\n",
    "attributes = set(attributes_list)\n",
    "attributes"
   ]
  },
  {
   "cell_type": "code",
   "execution_count": 63,
   "metadata": {},
   "outputs": [],
   "source": [
    "from pydantic import BaseModel\n",
    "from typing import Optional\n",
    "\n",
    "class ProductInfoGarden(BaseModel):\n",
    "   Base: Optional[str] = Field(default=None, alias='Base')\n",
    "   Capacity: Optional[str] = Field(default=None, alias='Capacity')\n",
    "   Color: Optional[str] = Field(default=None, alias='Color')\n",
    "   Cooling: Optional[str] = Field(default=None, alias='Cooling')\n",
    "   Depth: Optional[str] = Field(default=None, alias='Depth')\n",
    "   Gauge: Optional[str] = Field(default=None, alias='Gauge')\n",
    "   Heat: Optional[str] = Field(default=None, alias='Heat')\n",
    "   Height: Optional[str] = Field(default=None, alias='Height')\n",
    "   Length: Optional[str] = Field(default=None, alias='Length')\n",
    "   Manufacturer: Optional[str] = Field(default=None, alias='Manufacturer')\n",
    "   Manufacturer_Stock_Number: Optional[str] = Field(default=None, alias='Manufacturer Stock Number')\n",
    "   Material: Optional[str] = Field(default=None, alias='Material')\n",
    "   Product_Type: Optional[str] = Field(default=None, alias='Product Type')\n",
    "   Retail_UPC: Optional[str] = Field(default=None, alias='Retail UPC')\n",
    "   Shape: Optional[str] = Field(default=None, alias='Shape')\n",
    "   Shelves: Optional[str] = Field(default=None, alias='Shelves')\n",
    "   Splash: Optional[str] = Field(default=None, alias='Splash')\n",
    "   Stainless_Steel_Series: Optional[str] = Field(default=None, alias='Stainless Steel Series')\n",
    "   Voltage: Optional[str] = Field(default=None, alias='Voltage')\n",
    "   Width: Optional[str] = Field(default=None, alias='Width')\n",
    "\n",
    "\n",
    "class ProductInfoFood(BaseModel):\n",
    "\n",
    "   Brand: Optional[str] = Field(default=None, alias='Brand')\n",
    "   Flavor: Optional[str] = Field(default=None, alias='Flavor')\n",
    "   Manufacturer_Stock_Number: Optional[str] = Field(default=None, alias='Manufacturer Stock Number')\n",
    "   Pack_Quantity: Optional[str] = Field(default=None, alias='Pack Quantity')\n",
    "   Packing_Type: Optional[str] = Field(default=None, alias='Packing Type')\n",
    "   Product_Type: Optional[str] = Field(default=None, alias='Product Type')\n",
    "   Retail_UPC: Optional[str] = Field(default=None, alias='Retail UPC')\n",
    "   Size_Weight: Optional[str] = Field(default=None, alias='Size/Weight')\n",
    "   \n",
    "   \n",
    "class ProductInfoOffice(BaseModel):\n",
    "   Brand: Optional[str] = Field(default=None, alias='Brand')\n",
    "   Binding: Optional[str] = Field(default=None, alias='Binding')\n",
    "   Capacity: Optional[str] = Field(default=None, alias='Capacity')\n",
    "   Closure: Optional[str] = Field(default=None, alias='Closure')\n",
    "   Colors: Optional[str] = Field(default=None, alias='Color(s)')\n",
    "   Depth: Optional[str] = Field(default=None, alias='Depth')\n",
    "   Height: Optional[str] = Field(default=None, alias='Height')\n",
    "   Length: Optional[str] = Field(default=None, alias='Length')\n",
    "   Width: Optional[str] = Field(default=None, alias='Width')\n",
    "   Mounting: Optional[str] = Field(default=None, alias='Mounting')\n",
    "   Manufacturer_Stock_Number: Optional[str] = Field(default=None, alias='Manufacturer Stock Number')\n",
    "   Material: Optional[str] = Field(default=None, alias='Material')\n",
    "   Product_Type: Optional[str] = Field(default=None, alias='Product Type')\n",
    "   Retail_UPC: Optional[str] = Field(default=None, alias='Retail UPC')\n",
    "   Page_Yield: Optional[str] = Field(default=None, alias='Page Yield')\n",
    "   Paper_Weight: Optional[str] = Field(default=None, alias='Paper Weight')\n",
    "   Sheet_Perforation: Optional[str] = Field(default=None, alias='Sheet Perforation')\n",
    "   Pack_Quantity: Optional[str] = Field(default=None, alias='Pack_Quantity')\n",
    "   \n",
    "class ProductInfoJewelry(BaseModel):\n",
    "   Brand: Optional[str] = Field(default=None, alias='Brand')\n",
    "   Gender: Optional[str] = Field(default=None, alias='Gender')\n",
    "   Metal_Type: Optional[str] = Field(default=None, alias='Metal Type')\n",
    "   Model_Number: Optional[str] = Field(default=None, alias='Model Number')\n",
    "   Product_Type: Optional[str] = Field(default=None, alias='Product Type')\n",
    "   Stone_Shape: Optional[str] = Field(default=None, alias='Stone Shape')\n",
    "   Stones_Setting: Optional[str] = Field(default=None, alias='Stones Setting')\n",
    "   Stones_Total_Weight: Optional[str] = Field(default=None, alias='Stones Total Weight')\n",
    "   Stones_Type: Optional[str] = Field(default=None, alias='Stones Type')\n",
    "\n",
    "\n",
    " \n"
   ]
  },
  {
   "cell_type": "code",
   "execution_count": 75,
   "metadata": {},
   "outputs": [],
   "source": [
    "def initial_extraction(text: str, custom_extraction_prompt:str, model_name: str = 'gpt-4o') -> ProductInfoGarden:\n",
    "    \n",
    "    # Patch the OpenAI client with Instructor\n",
    "    client = instructor.from_openai(OpenAI(api_key=os.getenv('OPENAI_KEY')))\n",
    "    \n",
    "    system_message = \"\"\"\n",
    "    You are an intelligent text extraction and conversion assistant. Your task is to extract structured information \n",
    "    from the given text and convert it into a structured format. \n",
    "    The output response should contain only the data extracted from the text, with no additional commentary, explanations, or extraneous information.\n",
    "    If the required information could not be found from the given source, return nothing for that field. Do not hallucinate.\n",
    "    \"\"\"\n",
    "    \n",
    "    rule_prompt = \"\"\"\n",
    "                Here are the rules that you need to adhere:\n",
    "                    ## Rules:\n",
    "                    - The aim is to achieve simplicity and clarity in the extracted text.\n",
    "                    - Make sure to answer in the structured format.\n",
    "                    - If no information is provided for any of the fields, return nothing of that field.\n",
    "                    - DO NOT HALLUCINATE.\n",
    "                \"\"\"\n",
    "    \n",
    "    extraction_prompt = f\"\"\"\n",
    "    {system_message}\n",
    "    {custom_extraction_prompt}\n",
    "    \"\"\"\n",
    "\n",
    "    response = client.chat.completions.create(\n",
    "        model=model_name, \n",
    "        response_model=ProductInfoGarden,\n",
    "        messages=[\n",
    "            {\"role\": \"system\", \"content\": extraction_prompt},\n",
    "            {\"role\": \"user\", \"content\": f\"Use the given text to extract information: {text}\"},\n",
    "            {\"role\": \"user\", \"content\": rule_prompt}\n",
    "        ]\n",
    "    )\n",
    "    return response\n",
    "\n",
    "def evaluate_extraction(my_output, expected_output):\n",
    "    \n",
    "    # Simplify the expected output by removing the details of pid and score and handling multiple valid options\n",
    "    simplified_expected_output = {'target_scores': {}}\n",
    "\n",
    "    for field, values in expected_output['target_scores'].items():\n",
    "        if isinstance(values, dict):  # Check if the value is a dictionary (implying multiple values)\n",
    "            # Extract keys and make them a list if there are multiple valid responses\n",
    "            simplified_expected_output['target_scores'][field] = list(values.keys())\n",
    "        else:\n",
    "            # Directly assign if it is a single value\n",
    "            simplified_expected_output['target_scores'][field] = values\n",
    "    \n",
    "    target_scores = simplified_expected_output['target_scores']\n",
    "    total_fields = len(target_scores)  # Total fields to be extracted\n",
    "    correct_matches = 0  # Count of correctly extracted fields\n",
    "    incorrect_fields = []  # List to store names of fields that are incorrect\n",
    "\n",
    "    for field, expected_values in target_scores.items():\n",
    "        # Normalize the value from my_output\n",
    "        field = field.replace(' ', '_')\n",
    "        field = field.replace('/', '_')\n",
    "        field = field.replace('(', '')\n",
    "        field = field.replace(')', '')\n",
    "        my_value = my_output.get(field, 'n/a') if my_output.get(field) is not None else 'n/a'\n",
    "        my_value = my_value.lower()  # Convert to lower case for case insensitive comparison\n",
    "\n",
    "        # Handle cases where multiple correct answers are expected\n",
    "        if isinstance(expected_values, list):\n",
    "            # Normalize all expected values for case-insensitive comparison\n",
    "            expected_values_normalized = [value.lower() for value in expected_values]\n",
    "            if my_value in expected_values_normalized:\n",
    "                correct_matches += 1\n",
    "            else:\n",
    "                incorrect_fields.append(field)\n",
    "        else:  # Single correct answer case\n",
    "            expected_value_normalized = expected_values.lower()\n",
    "            if my_value == expected_value_normalized:\n",
    "                correct_matches += 1\n",
    "            else:\n",
    "                incorrect_fields.append(field)\n",
    "\n",
    "    accuracy_percentage = (correct_matches / total_fields) * 100\n",
    "\n",
    "    # Print fields that were incorrect\n",
    "    if incorrect_fields:\n",
    "        print(\"Incorrect fields:\")\n",
    "        for field in incorrect_fields:\n",
    "            print(f\"- {field}\")\n",
    "\n",
    "    return accuracy_percentage\n",
    "\n",
    "\n"
   ]
  },
  {
   "cell_type": "code",
   "execution_count": 78,
   "metadata": {},
   "outputs": [
    {
     "name": "stderr",
     "output_type": "stream",
     "text": [
      "  1%|          | 1/100 [00:02<04:28,  2.71s/it]"
     ]
    },
    {
     "name": "stdout",
     "output_type": "stream",
     "text": [
      "Incorrect fields:\n",
      "- Width\n",
      "- Length\n",
      "- Depth\n",
      "- Gauge\n",
      "- Material\n",
      "- Stainless_Steel_Series\n",
      "- Height\n",
      "- Base\n"
     ]
    },
    {
     "name": "stderr",
     "output_type": "stream",
     "text": [
      "  2%|▏         | 2/100 [00:05<04:29,  2.75s/it]"
     ]
    },
    {
     "name": "stdout",
     "output_type": "stream",
     "text": [
      "Incorrect fields:\n",
      "- Manufacturer\n",
      "- Product_Type\n",
      "- Width\n",
      "- Depth\n",
      "- Gauge\n",
      "- Material\n",
      "- Stainless_Steel_Series\n",
      "- Height\n",
      "- Manufacturer_Stock_Number\n"
     ]
    },
    {
     "name": "stderr",
     "output_type": "stream",
     "text": [
      "  3%|▎         | 3/100 [00:07<04:13,  2.62s/it]"
     ]
    },
    {
     "name": "stdout",
     "output_type": "stream",
     "text": [
      "Incorrect fields:\n",
      "- Manufacturer\n",
      "- Length\n",
      "- Material\n",
      "- Stainless_Steel_Series\n",
      "- Manufacturer_Stock_Number\n",
      "- Base\n"
     ]
    },
    {
     "name": "stderr",
     "output_type": "stream",
     "text": [
      "  4%|▍         | 4/100 [00:11<04:47,  3.00s/it]"
     ]
    },
    {
     "name": "stdout",
     "output_type": "stream",
     "text": [
      "Incorrect fields:\n",
      "- Color\n",
      "- Height\n",
      "- Width\n",
      "- Length\n",
      "- Material\n",
      "- Shelves\n",
      "- Manufacturer_Stock_Number\n"
     ]
    },
    {
     "name": "stderr",
     "output_type": "stream",
     "text": [
      "  5%|▌         | 5/100 [00:14<04:31,  2.86s/it]"
     ]
    },
    {
     "name": "stdout",
     "output_type": "stream",
     "text": [
      "Incorrect fields:\n",
      "- Height\n",
      "- Width\n",
      "- Length\n",
      "- Material\n",
      "- Shelves\n",
      "- Manufacturer_Stock_Number\n",
      "- Base\n",
      "- Capacity\n"
     ]
    },
    {
     "name": "stderr",
     "output_type": "stream",
     "text": [
      "  6%|▌         | 6/100 [00:15<03:54,  2.49s/it]"
     ]
    },
    {
     "name": "stdout",
     "output_type": "stream",
     "text": [
      "Incorrect fields:\n",
      "- Manufacturer\n",
      "- Product_Type\n",
      "- Height\n",
      "- Width\n",
      "- Length\n",
      "- Stainless_Steel_Series\n",
      "- Depth\n",
      "- Cooling\n",
      "- Shelves\n",
      "- Splash\n",
      "- Shape\n",
      "- Color\n",
      "- Retail_UPC\n",
      "- Manufacturer_Stock_Number\n",
      "- Heat\n",
      "- Gauge\n",
      "- Base\n",
      "- Voltage\n"
     ]
    },
    {
     "name": "stderr",
     "output_type": "stream",
     "text": [
      "  7%|▋         | 7/100 [00:18<03:48,  2.45s/it]"
     ]
    },
    {
     "name": "stdout",
     "output_type": "stream",
     "text": [
      "Incorrect fields:\n",
      "- Product_Type\n",
      "- Width\n",
      "- Length\n",
      "- Base\n",
      "- Manufacturer_Stock_Number\n"
     ]
    },
    {
     "name": "stderr",
     "output_type": "stream",
     "text": [
      "  8%|▊         | 8/100 [00:20<03:36,  2.35s/it]"
     ]
    },
    {
     "name": "stdout",
     "output_type": "stream",
     "text": [
      "Incorrect fields:\n",
      "- Manufacturer\n",
      "- Height\n",
      "- Length\n",
      "- Depth\n",
      "- Base\n",
      "- Material\n",
      "- Cooling\n",
      "- Shape\n",
      "- Color\n",
      "- Retail_UPC\n",
      "- Manufacturer_Stock_Number\n",
      "- Width\n",
      "- Heat\n",
      "- Shelves\n",
      "- Voltage\n",
      "- Capacity\n"
     ]
    },
    {
     "name": "stderr",
     "output_type": "stream",
     "text": [
      "  9%|▉         | 9/100 [00:24<04:35,  3.03s/it]"
     ]
    },
    {
     "name": "stdout",
     "output_type": "stream",
     "text": [
      "Incorrect fields:\n",
      "- Manufacturer\n",
      "- Height\n",
      "- Length\n",
      "- Gauge\n",
      "- Stainless_Steel_Series\n",
      "- Base\n",
      "- Material\n",
      "- Splash\n",
      "- Manufacturer_Stock_Number\n",
      "- Width\n"
     ]
    },
    {
     "name": "stderr",
     "output_type": "stream",
     "text": [
      " 10%|█         | 10/100 [00:27<04:32,  3.03s/it]"
     ]
    },
    {
     "name": "stdout",
     "output_type": "stream",
     "text": [
      "Incorrect fields:\n",
      "- Gauge\n",
      "- Stainless_Steel_Series\n",
      "- Base\n",
      "- Material\n",
      "- Shelves\n"
     ]
    },
    {
     "name": "stderr",
     "output_type": "stream",
     "text": [
      " 11%|█         | 11/100 [00:31<04:42,  3.17s/it]"
     ]
    },
    {
     "name": "stdout",
     "output_type": "stream",
     "text": [
      "Incorrect fields:\n",
      "- Manufacturer\n",
      "- Height\n",
      "- Length\n",
      "- Depth\n",
      "- Stainless_Steel_Series\n",
      "- Base\n",
      "- Material\n",
      "- Cooling\n",
      "- Shape\n",
      "- Color\n",
      "- Retail_UPC\n",
      "- Manufacturer_Stock_Number\n",
      "- Width\n",
      "- Heat\n",
      "- Shelves\n",
      "- Voltage\n",
      "- Capacity\n"
     ]
    },
    {
     "name": "stderr",
     "output_type": "stream",
     "text": [
      " 12%|█▏        | 12/100 [00:34<04:22,  2.98s/it]"
     ]
    },
    {
     "name": "stdout",
     "output_type": "stream",
     "text": [
      "Incorrect fields:\n",
      "- Manufacturer\n",
      "- Product_Type\n",
      "- Stainless_Steel_Series\n",
      "- Base\n",
      "- Splash\n",
      "- Manufacturer_Stock_Number\n"
     ]
    },
    {
     "name": "stderr",
     "output_type": "stream",
     "text": [
      " 13%|█▎        | 13/100 [00:36<04:17,  2.96s/it]"
     ]
    },
    {
     "name": "stdout",
     "output_type": "stream",
     "text": [
      "Incorrect fields:\n",
      "- Manufacturer\n",
      "- Stainless_Steel_Series\n",
      "- Base\n",
      "- Material\n",
      "- Manufacturer_Stock_Number\n",
      "- Shelves\n"
     ]
    },
    {
     "name": "stderr",
     "output_type": "stream",
     "text": [
      " 14%|█▍        | 14/100 [00:40<04:20,  3.03s/it]"
     ]
    },
    {
     "name": "stdout",
     "output_type": "stream",
     "text": [
      "Incorrect fields:\n",
      "- Manufacturer\n",
      "- Product_Type\n",
      "- Height\n",
      "- Width\n",
      "- Material\n",
      "- Length\n",
      "- Base\n"
     ]
    },
    {
     "name": "stderr",
     "output_type": "stream",
     "text": [
      " 15%|█▌        | 15/100 [00:42<04:03,  2.86s/it]"
     ]
    },
    {
     "name": "stdout",
     "output_type": "stream",
     "text": [
      "Incorrect fields:\n",
      "- Product_Type\n",
      "- Material\n",
      "- Base\n"
     ]
    },
    {
     "name": "stderr",
     "output_type": "stream",
     "text": [
      " 16%|█▌        | 16/100 [00:45<04:05,  2.92s/it]"
     ]
    },
    {
     "name": "stdout",
     "output_type": "stream",
     "text": [
      "Incorrect fields:\n",
      "- Manufacturer\n",
      "- Product_Type\n",
      "- Width\n",
      "- Length\n",
      "- Depth\n",
      "- Stainless_Steel_Series\n",
      "- Splash\n",
      "- Color\n",
      "- Manufacturer_Stock_Number\n",
      "- Gauge\n",
      "- Material\n",
      "- Base\n"
     ]
    },
    {
     "name": "stderr",
     "output_type": "stream",
     "text": [
      " 17%|█▋        | 17/100 [00:47<03:30,  2.53s/it]"
     ]
    },
    {
     "name": "stdout",
     "output_type": "stream",
     "text": [
      "Incorrect fields:\n",
      "- Height\n",
      "- Length\n",
      "- Base\n",
      "- Stainless_Steel_Series\n",
      "- Width\n",
      "- Gauge\n"
     ]
    },
    {
     "name": "stderr",
     "output_type": "stream",
     "text": [
      " 18%|█▊        | 18/100 [00:49<03:20,  2.45s/it]"
     ]
    },
    {
     "name": "stdout",
     "output_type": "stream",
     "text": [
      "Incorrect fields:\n",
      "- Width\n",
      "- Length\n",
      "- Height\n",
      "- Base\n",
      "- Capacity\n"
     ]
    },
    {
     "name": "stderr",
     "output_type": "stream",
     "text": [
      " 19%|█▉        | 19/100 [00:51<03:01,  2.24s/it]"
     ]
    },
    {
     "name": "stdout",
     "output_type": "stream",
     "text": [
      "Incorrect fields:\n",
      "- Product_Type\n",
      "- Material\n",
      "- Manufacturer_Stock_Number\n",
      "- Length\n",
      "- Base\n",
      "- Capacity\n"
     ]
    },
    {
     "name": "stderr",
     "output_type": "stream",
     "text": [
      " 20%|██        | 20/100 [00:54<03:24,  2.56s/it]"
     ]
    },
    {
     "name": "stdout",
     "output_type": "stream",
     "text": [
      "Incorrect fields:\n",
      "- Manufacturer\n",
      "- Depth\n",
      "- Height\n",
      "- Base\n",
      "- Stainless_Steel_Series\n",
      "- Manufacturer_Stock_Number\n",
      "- Material\n"
     ]
    },
    {
     "name": "stderr",
     "output_type": "stream",
     "text": [
      " 21%|██        | 21/100 [00:57<03:24,  2.59s/it]"
     ]
    },
    {
     "name": "stdout",
     "output_type": "stream",
     "text": [
      "Incorrect fields:\n",
      "- Manufacturer\n",
      "- Width\n",
      "- Depth\n",
      "- Height\n",
      "- Stainless_Steel_Series\n",
      "- Manufacturer_Stock_Number\n",
      "- Color\n",
      "- Material\n",
      "- Capacity\n"
     ]
    },
    {
     "name": "stderr",
     "output_type": "stream",
     "text": [
      " 22%|██▏       | 22/100 [00:58<02:47,  2.14s/it]"
     ]
    },
    {
     "name": "stdout",
     "output_type": "stream",
     "text": [
      "Incorrect fields:\n",
      "- Product_Type\n",
      "- Color\n",
      "- Base\n"
     ]
    },
    {
     "name": "stderr",
     "output_type": "stream",
     "text": [
      " 23%|██▎       | 23/100 [01:00<02:37,  2.05s/it]"
     ]
    },
    {
     "name": "stdout",
     "output_type": "stream",
     "text": [
      "Incorrect fields:\n",
      "- Color\n",
      "- Shape\n",
      "- Retail_UPC\n",
      "- Length\n",
      "- Stainless_Steel_Series\n",
      "- Depth\n",
      "- Cooling\n",
      "- Shelves\n",
      "- Splash\n",
      "- Height\n",
      "- Width\n",
      "- Heat\n",
      "- Gauge\n",
      "- Base\n"
     ]
    },
    {
     "name": "stderr",
     "output_type": "stream",
     "text": [
      " 24%|██▍       | 24/100 [01:01<02:26,  1.93s/it]"
     ]
    },
    {
     "name": "stdout",
     "output_type": "stream",
     "text": [
      "Incorrect fields:\n",
      "- Product_Type\n",
      "- Material\n",
      "- Base\n",
      "- Capacity\n"
     ]
    },
    {
     "name": "stderr",
     "output_type": "stream",
     "text": [
      " 25%|██▌       | 25/100 [01:03<02:11,  1.75s/it]"
     ]
    },
    {
     "name": "stdout",
     "output_type": "stream",
     "text": [
      "Incorrect fields:\n",
      "- Product_Type\n",
      "- Manufacturer\n",
      "- Base\n"
     ]
    },
    {
     "name": "stderr",
     "output_type": "stream",
     "text": [
      " 26%|██▌       | 26/100 [01:04<02:09,  1.75s/it]"
     ]
    },
    {
     "name": "stdout",
     "output_type": "stream",
     "text": [
      "Incorrect fields:\n",
      "- Product_Type\n",
      "- Manufacturer\n",
      "- Manufacturer_Stock_Number\n",
      "- Material\n",
      "- Capacity\n"
     ]
    },
    {
     "name": "stderr",
     "output_type": "stream",
     "text": [
      " 27%|██▋       | 27/100 [01:08<02:50,  2.34s/it]"
     ]
    },
    {
     "name": "stdout",
     "output_type": "stream",
     "text": [
      "Incorrect fields:\n",
      "- Product_Type\n",
      "- Width\n",
      "- Base\n",
      "- Heat\n",
      "- Length\n",
      "- Stainless_Steel_Series\n",
      "- Depth\n",
      "- Cooling\n",
      "- Shelves\n",
      "- Splash\n",
      "- Shape\n",
      "- Height\n",
      "- Color\n",
      "- Retail_UPC\n",
      "- Manufacturer_Stock_Number\n",
      "- Gauge\n",
      "- Voltage\n",
      "- Capacity\n"
     ]
    },
    {
     "name": "stderr",
     "output_type": "stream",
     "text": [
      " 28%|██▊       | 28/100 [01:11<02:54,  2.42s/it]"
     ]
    },
    {
     "name": "stdout",
     "output_type": "stream",
     "text": [
      "Incorrect fields:\n",
      "- Manufacturer\n",
      "- Product_Type\n",
      "- Width\n",
      "- Material\n",
      "- Heat\n",
      "- Manufacturer_Stock_Number\n"
     ]
    },
    {
     "name": "stderr",
     "output_type": "stream",
     "text": [
      " 29%|██▉       | 29/100 [01:13<02:47,  2.36s/it]"
     ]
    },
    {
     "name": "stdout",
     "output_type": "stream",
     "text": [
      "Incorrect fields:\n",
      "- Height\n",
      "- Width\n",
      "- Retail_UPC\n",
      "- Length\n",
      "- Stainless_Steel_Series\n",
      "- Depth\n",
      "- Cooling\n",
      "- Shelves\n",
      "- Splash\n",
      "- Shape\n",
      "- Heat\n",
      "- Base\n",
      "- Voltage\n"
     ]
    },
    {
     "name": "stderr",
     "output_type": "stream",
     "text": [
      " 30%|███       | 30/100 [01:15<02:33,  2.19s/it]"
     ]
    },
    {
     "name": "stdout",
     "output_type": "stream",
     "text": [
      "Incorrect fields:\n",
      "- Product_Type\n",
      "- Material\n",
      "- Manufacturer\n",
      "- Color\n",
      "- Base\n"
     ]
    },
    {
     "name": "stderr",
     "output_type": "stream",
     "text": [
      " 31%|███       | 31/100 [01:17<02:22,  2.07s/it]"
     ]
    },
    {
     "name": "stdout",
     "output_type": "stream",
     "text": [
      "Incorrect fields:\n",
      "- Splash\n",
      "- Shape\n",
      "- Height\n",
      "- Color\n",
      "- Heat\n",
      "- Gauge\n",
      "- Base\n",
      "- Length\n",
      "- Stainless_Steel_Series\n",
      "- Depth\n",
      "- Cooling\n",
      "- Retail_UPC\n",
      "- Manufacturer_Stock_Number\n",
      "- Width\n",
      "- Shelves\n",
      "- Voltage\n",
      "- Capacity\n"
     ]
    },
    {
     "name": "stderr",
     "output_type": "stream",
     "text": [
      " 32%|███▏      | 32/100 [01:19<02:19,  2.05s/it]"
     ]
    },
    {
     "name": "stdout",
     "output_type": "stream",
     "text": [
      "Incorrect fields:\n",
      "- Splash\n",
      "- Height\n",
      "- Length\n",
      "- Stainless_Steel_Series\n",
      "- Retail_UPC\n",
      "- Width\n",
      "- Shape\n",
      "- Color\n",
      "- Heat\n",
      "- Gauge\n",
      "- Base\n",
      "- Depth\n",
      "- Cooling\n",
      "- Shelves\n",
      "- Material\n",
      "- Voltage\n",
      "- Capacity\n"
     ]
    },
    {
     "name": "stderr",
     "output_type": "stream",
     "text": [
      " 33%|███▎      | 33/100 [01:21<02:21,  2.12s/it]"
     ]
    },
    {
     "name": "stdout",
     "output_type": "stream",
     "text": [
      "Incorrect fields:\n",
      "- Material\n",
      "- Base\n",
      "- Capacity\n"
     ]
    },
    {
     "name": "stderr",
     "output_type": "stream",
     "text": [
      " 34%|███▍      | 34/100 [01:23<02:11,  2.00s/it]"
     ]
    },
    {
     "name": "stdout",
     "output_type": "stream",
     "text": [
      "Incorrect fields:\n",
      "- Product_Type\n",
      "- Manufacturer_Stock_Number\n",
      "- Color\n",
      "- Base\n",
      "- Material\n",
      "- Capacity\n"
     ]
    },
    {
     "name": "stderr",
     "output_type": "stream",
     "text": [
      " 35%|███▌      | 35/100 [01:24<01:56,  1.80s/it]"
     ]
    },
    {
     "name": "stdout",
     "output_type": "stream",
     "text": [
      "Incorrect fields:\n",
      "- Manufacturer\n",
      "- Manufacturer_Stock_Number\n",
      "- Base\n",
      "- Material\n"
     ]
    },
    {
     "name": "stderr",
     "output_type": "stream",
     "text": [
      " 36%|███▌      | 36/100 [01:25<01:51,  1.75s/it]"
     ]
    },
    {
     "name": "stdout",
     "output_type": "stream",
     "text": [
      "Incorrect fields:\n",
      "- Product_Type\n",
      "- Color\n",
      "- Base\n",
      "- Material\n"
     ]
    },
    {
     "name": "stderr",
     "output_type": "stream",
     "text": [
      " 37%|███▋      | 37/100 [01:27<01:46,  1.70s/it]"
     ]
    },
    {
     "name": "stdout",
     "output_type": "stream",
     "text": [
      "Incorrect fields:\n",
      "- Product_Type\n",
      "- Color\n",
      "- Base\n"
     ]
    },
    {
     "name": "stderr",
     "output_type": "stream",
     "text": [
      " 38%|███▊      | 38/100 [01:29<01:58,  1.91s/it]"
     ]
    },
    {
     "name": "stdout",
     "output_type": "stream",
     "text": [
      "Incorrect fields:\n",
      "- Splash\n",
      "- Shape\n",
      "- Height\n",
      "- Color\n",
      "- Heat\n",
      "- Gauge\n",
      "- Base\n",
      "- Length\n",
      "- Stainless_Steel_Series\n",
      "- Depth\n",
      "- Cooling\n",
      "- Width\n",
      "- Shelves\n",
      "- Material\n",
      "- Voltage\n"
     ]
    },
    {
     "name": "stderr",
     "output_type": "stream",
     "text": [
      " 39%|███▉      | 39/100 [01:32<02:04,  2.05s/it]"
     ]
    },
    {
     "name": "stdout",
     "output_type": "stream",
     "text": [
      "Incorrect fields:\n",
      "- Manufacturer\n",
      "- Base\n"
     ]
    },
    {
     "name": "stderr",
     "output_type": "stream",
     "text": [
      " 40%|████      | 40/100 [01:34<02:14,  2.23s/it]"
     ]
    },
    {
     "name": "stdout",
     "output_type": "stream",
     "text": [
      "Incorrect fields:\n",
      "- Manufacturer_Stock_Number\n",
      "- Color\n",
      "- Base\n",
      "- Material\n"
     ]
    },
    {
     "name": "stderr",
     "output_type": "stream",
     "text": [
      " 41%|████      | 41/100 [01:38<02:38,  2.69s/it]"
     ]
    },
    {
     "name": "stdout",
     "output_type": "stream",
     "text": [
      "Incorrect fields:\n",
      "- Product_Type\n",
      "- Material\n",
      "- Manufacturer\n",
      "- Base\n"
     ]
    },
    {
     "name": "stderr",
     "output_type": "stream",
     "text": [
      " 42%|████▏     | 42/100 [01:40<02:21,  2.44s/it]"
     ]
    },
    {
     "name": "stdout",
     "output_type": "stream",
     "text": [
      "Incorrect fields:\n",
      "- Manufacturer\n",
      "- Product_Type\n",
      "- Manufacturer_Stock_Number\n",
      "- Capacity\n"
     ]
    },
    {
     "name": "stderr",
     "output_type": "stream",
     "text": [
      " 43%|████▎     | 43/100 [01:42<02:16,  2.40s/it]"
     ]
    },
    {
     "name": "stdout",
     "output_type": "stream",
     "text": [
      "Incorrect fields:\n",
      "- Manufacturer\n",
      "- Product_Type\n",
      "- Width\n",
      "- Depth\n",
      "- Splash\n",
      "- Stainless_Steel_Series\n",
      "- Manufacturer_Stock_Number\n",
      "- Material\n",
      "- Capacity\n"
     ]
    },
    {
     "name": "stderr",
     "output_type": "stream",
     "text": [
      " 44%|████▍     | 44/100 [01:44<02:06,  2.26s/it]"
     ]
    },
    {
     "name": "stdout",
     "output_type": "stream",
     "text": [
      "Incorrect fields:\n",
      "- Product_Type\n",
      "- Manufacturer\n"
     ]
    },
    {
     "name": "stderr",
     "output_type": "stream",
     "text": [
      " 45%|████▌     | 45/100 [01:47<02:04,  2.27s/it]"
     ]
    },
    {
     "name": "stdout",
     "output_type": "stream",
     "text": [
      "Incorrect fields:\n",
      "- Heat\n",
      "- Splash\n",
      "- Shape\n",
      "- Height\n",
      "- Color\n",
      "- Gauge\n",
      "- Base\n",
      "- Length\n",
      "- Stainless_Steel_Series\n",
      "- Depth\n",
      "- Cooling\n",
      "- Retail_UPC\n",
      "- Manufacturer_Stock_Number\n",
      "- Width\n",
      "- Shelves\n",
      "- Material\n",
      "- Voltage\n",
      "- Capacity\n"
     ]
    },
    {
     "name": "stderr",
     "output_type": "stream",
     "text": [
      " 46%|████▌     | 46/100 [01:49<01:58,  2.19s/it]"
     ]
    },
    {
     "name": "stdout",
     "output_type": "stream",
     "text": [
      "Incorrect fields:\n",
      "- Manufacturer\n",
      "- Material\n",
      "- Stainless_Steel_Series\n",
      "- Manufacturer_Stock_Number\n",
      "- Color\n"
     ]
    },
    {
     "name": "stderr",
     "output_type": "stream",
     "text": [
      " 47%|████▋     | 47/100 [01:50<01:39,  1.87s/it]"
     ]
    },
    {
     "name": "stdout",
     "output_type": "stream",
     "text": [
      "Incorrect fields:\n",
      "- Product_Type\n",
      "- Material\n",
      "- Base\n"
     ]
    },
    {
     "name": "stderr",
     "output_type": "stream",
     "text": [
      " 48%|████▊     | 48/100 [01:52<01:47,  2.07s/it]"
     ]
    },
    {
     "name": "stdout",
     "output_type": "stream",
     "text": [
      "Incorrect fields:\n",
      "- Product_Type\n",
      "- Base\n",
      "- Material\n",
      "- Capacity\n"
     ]
    },
    {
     "name": "stderr",
     "output_type": "stream",
     "text": [
      " 49%|████▉     | 49/100 [01:55<01:47,  2.12s/it]"
     ]
    },
    {
     "name": "stdout",
     "output_type": "stream",
     "text": [
      "Incorrect fields:\n",
      "- Product_Type\n",
      "- Base\n",
      "- Manufacturer_Stock_Number\n",
      "- Capacity\n"
     ]
    },
    {
     "name": "stderr",
     "output_type": "stream",
     "text": [
      " 50%|█████     | 50/100 [01:57<01:49,  2.20s/it]"
     ]
    },
    {
     "name": "stdout",
     "output_type": "stream",
     "text": [
      "Incorrect fields:\n",
      "- Height\n",
      "- Color\n",
      "- Heat\n",
      "- Base\n",
      "- Manufacturer_Stock_Number\n",
      "- Capacity\n"
     ]
    },
    {
     "name": "stderr",
     "output_type": "stream",
     "text": [
      " 51%|█████     | 51/100 [01:59<01:48,  2.21s/it]"
     ]
    },
    {
     "name": "stdout",
     "output_type": "stream",
     "text": [
      "Incorrect fields:\n",
      "- Product_Type\n",
      "- Splash\n",
      "- Shape\n",
      "- Height\n",
      "- Heat\n",
      "- Gauge\n",
      "- Base\n",
      "- Length\n",
      "- Stainless_Steel_Series\n",
      "- Depth\n",
      "- Cooling\n",
      "- Retail_UPC\n",
      "- Manufacturer_Stock_Number\n",
      "- Width\n",
      "- Shelves\n"
     ]
    },
    {
     "name": "stderr",
     "output_type": "stream",
     "text": [
      " 52%|█████▏    | 52/100 [02:01<01:36,  2.01s/it]"
     ]
    },
    {
     "name": "stdout",
     "output_type": "stream",
     "text": [
      "Incorrect fields:\n",
      "- Manufacturer\n",
      "- Height\n",
      "- Base\n",
      "- Manufacturer_Stock_Number\n"
     ]
    },
    {
     "name": "stderr",
     "output_type": "stream",
     "text": [
      " 53%|█████▎    | 53/100 [02:03<01:42,  2.18s/it]"
     ]
    },
    {
     "name": "stdout",
     "output_type": "stream",
     "text": [
      "Incorrect fields:\n",
      "- Manufacturer\n",
      "- Product_Type\n",
      "- Width\n",
      "- Manufacturer_Stock_Number\n"
     ]
    },
    {
     "name": "stderr",
     "output_type": "stream",
     "text": [
      " 54%|█████▍    | 54/100 [02:06<01:46,  2.32s/it]"
     ]
    },
    {
     "name": "stdout",
     "output_type": "stream",
     "text": [
      "Incorrect fields:\n",
      "- Depth\n",
      "- Material\n",
      "- Shelves\n",
      "- Stainless_Steel_Series\n",
      "- Cooling\n",
      "- Splash\n",
      "- Shape\n",
      "- Retail_UPC\n",
      "- Manufacturer_Stock_Number\n",
      "- Heat\n",
      "- Gauge\n",
      "- Base\n",
      "- Voltage\n",
      "- Capacity\n"
     ]
    },
    {
     "name": "stderr",
     "output_type": "stream",
     "text": [
      " 55%|█████▌    | 55/100 [02:08<01:36,  2.15s/it]"
     ]
    },
    {
     "name": "stdout",
     "output_type": "stream",
     "text": [
      "Incorrect fields:\n",
      "- Manufacturer\n",
      "- Product_Type\n",
      "- Color\n",
      "- Base\n",
      "- Material\n"
     ]
    },
    {
     "name": "stderr",
     "output_type": "stream",
     "text": [
      " 56%|█████▌    | 56/100 [02:09<01:26,  1.96s/it]"
     ]
    },
    {
     "name": "stdout",
     "output_type": "stream",
     "text": [
      "Incorrect fields:\n",
      "- Manufacturer\n",
      "- Length\n",
      "- Gauge\n",
      "- Stainless_Steel_Series\n",
      "- Base\n",
      "- Material\n",
      "- Color\n",
      "- Manufacturer_Stock_Number\n",
      "- Capacity\n"
     ]
    },
    {
     "name": "stderr",
     "output_type": "stream",
     "text": [
      " 57%|█████▋    | 57/100 [02:13<01:42,  2.39s/it]"
     ]
    },
    {
     "name": "stdout",
     "output_type": "stream",
     "text": [
      "Incorrect fields:\n",
      "- Gauge\n",
      "- Stainless_Steel_Series\n",
      "- Base\n",
      "- Manufacturer_Stock_Number\n"
     ]
    },
    {
     "name": "stderr",
     "output_type": "stream",
     "text": [
      " 58%|█████▊    | 58/100 [02:16<01:54,  2.73s/it]"
     ]
    },
    {
     "name": "stdout",
     "output_type": "stream",
     "text": [
      "Incorrect fields:\n",
      "- Manufacturer\n",
      "- Stainless_Steel_Series\n",
      "- Base\n",
      "- Splash\n",
      "- Manufacturer_Stock_Number\n"
     ]
    },
    {
     "name": "stderr",
     "output_type": "stream",
     "text": [
      " 59%|█████▉    | 59/100 [02:19<01:56,  2.85s/it]"
     ]
    },
    {
     "name": "stdout",
     "output_type": "stream",
     "text": [
      "Incorrect fields:\n",
      "- Depth\n",
      "- Stainless_Steel_Series\n",
      "- Base\n",
      "- Material\n",
      "- Splash\n",
      "- Cooling\n",
      "- Shape\n",
      "- Manufacturer_Stock_Number\n",
      "- Heat\n",
      "- Shelves\n",
      "- Voltage\n"
     ]
    },
    {
     "name": "stderr",
     "output_type": "stream",
     "text": [
      " 60%|██████    | 60/100 [02:21<01:42,  2.56s/it]"
     ]
    },
    {
     "name": "stdout",
     "output_type": "stream",
     "text": [
      "Incorrect fields:\n",
      "- Manufacturer\n",
      "- Product_Type\n",
      "- Length\n",
      "- Depth\n",
      "- Gauge\n",
      "- Stainless_Steel_Series\n",
      "- Base\n",
      "- Material\n",
      "- Manufacturer_Stock_Number\n",
      "- Width\n"
     ]
    },
    {
     "name": "stderr",
     "output_type": "stream",
     "text": [
      " 61%|██████    | 61/100 [02:23<01:28,  2.28s/it]"
     ]
    },
    {
     "name": "stdout",
     "output_type": "stream",
     "text": [
      "Incorrect fields:\n",
      "- Manufacturer\n",
      "- Product_Type\n",
      "- Length\n",
      "- Gauge\n",
      "- Stainless_Steel_Series\n",
      "- Base\n",
      "- Material\n",
      "- Manufacturer_Stock_Number\n",
      "- Width\n"
     ]
    },
    {
     "name": "stderr",
     "output_type": "stream",
     "text": [
      " 62%|██████▏   | 62/100 [02:24<01:19,  2.09s/it]"
     ]
    },
    {
     "name": "stdout",
     "output_type": "stream",
     "text": [
      "Incorrect fields:\n",
      "- Length\n",
      "- Depth\n",
      "- Gauge\n",
      "- Stainless_Steel_Series\n",
      "- Base\n",
      "- Splash\n",
      "- Cooling\n",
      "- Shape\n",
      "- Height\n",
      "- Color\n",
      "- Retail_UPC\n",
      "- Manufacturer_Stock_Number\n",
      "- Width\n",
      "- Heat\n",
      "- Shelves\n",
      "- Voltage\n",
      "- Capacity\n"
     ]
    },
    {
     "name": "stderr",
     "output_type": "stream",
     "text": [
      " 63%|██████▎   | 63/100 [02:27<01:26,  2.34s/it]"
     ]
    },
    {
     "name": "stdout",
     "output_type": "stream",
     "text": [
      "Incorrect fields:\n",
      "- Length\n",
      "- Stainless_Steel_Series\n",
      "- Base\n",
      "- Material\n",
      "- Shelves\n"
     ]
    },
    {
     "name": "stderr",
     "output_type": "stream",
     "text": [
      " 64%|██████▍   | 64/100 [02:29<01:21,  2.27s/it]"
     ]
    },
    {
     "name": "stdout",
     "output_type": "stream",
     "text": [
      "Incorrect fields:\n",
      "- Length\n",
      "- Depth\n",
      "- Base\n",
      "- Material\n",
      "- Manufacturer_Stock_Number\n",
      "- Width\n"
     ]
    },
    {
     "name": "stderr",
     "output_type": "stream",
     "text": [
      " 65%|██████▌   | 65/100 [02:31<01:14,  2.14s/it]"
     ]
    },
    {
     "name": "stdout",
     "output_type": "stream",
     "text": [
      "Incorrect fields:\n",
      "- Product_Type\n",
      "- Height\n",
      "- Width\n",
      "- Depth\n",
      "- Length\n",
      "- Stainless_Steel_Series\n",
      "- Shelves\n",
      "- Splash\n",
      "- Shape\n",
      "- Color\n",
      "- Retail_UPC\n",
      "- Manufacturer_Stock_Number\n",
      "- Heat\n",
      "- Gauge\n",
      "- Material\n",
      "- Base\n",
      "- Capacity\n"
     ]
    },
    {
     "name": "stderr",
     "output_type": "stream",
     "text": [
      " 66%|██████▌   | 66/100 [02:33<01:05,  1.91s/it]"
     ]
    },
    {
     "name": "stdout",
     "output_type": "stream",
     "text": [
      "Incorrect fields:\n",
      "- Manufacturer_Stock_Number\n",
      "- Base\n"
     ]
    },
    {
     "name": "stderr",
     "output_type": "stream",
     "text": [
      " 67%|██████▋   | 67/100 [02:35<01:07,  2.05s/it]"
     ]
    },
    {
     "name": "stdout",
     "output_type": "stream",
     "text": [
      "Incorrect fields:\n",
      "- Manufacturer\n",
      "- Product_Type\n",
      "- Splash\n",
      "- Height\n",
      "- Color\n",
      "- Heat\n",
      "- Gauge\n",
      "- Base\n",
      "- Length\n",
      "- Stainless_Steel_Series\n",
      "- Cooling\n",
      "- Retail_UPC\n",
      "- Manufacturer_Stock_Number\n",
      "- Width\n",
      "- Shelves\n",
      "- Voltage\n"
     ]
    },
    {
     "name": "stderr",
     "output_type": "stream",
     "text": [
      " 68%|██████▊   | 68/100 [02:37<01:08,  2.14s/it]"
     ]
    },
    {
     "name": "stdout",
     "output_type": "stream",
     "text": [
      "Incorrect fields:\n",
      "- Heat\n",
      "- Base\n"
     ]
    },
    {
     "name": "stderr",
     "output_type": "stream",
     "text": [
      " 69%|██████▉   | 69/100 [02:42<01:28,  2.85s/it]"
     ]
    },
    {
     "name": "stdout",
     "output_type": "stream",
     "text": [
      "Incorrect fields:\n",
      "- Cooling\n",
      "- Splash\n",
      "- Shape\n",
      "- Color\n",
      "- Base\n",
      "- Retail_UPC\n",
      "- Width\n",
      "- Shelves\n",
      "- Material\n",
      "- Capacity\n"
     ]
    },
    {
     "name": "stderr",
     "output_type": "stream",
     "text": [
      " 70%|███████   | 70/100 [02:44<01:19,  2.64s/it]"
     ]
    },
    {
     "name": "stdout",
     "output_type": "stream",
     "text": [
      "Incorrect fields:\n",
      "- Product_Type\n",
      "- Width\n",
      "- Depth\n",
      "- Material\n",
      "- Stainless_Steel_Series\n",
      "- Height\n",
      "- Manufacturer_Stock_Number\n",
      "- Gauge\n"
     ]
    },
    {
     "name": "stderr",
     "output_type": "stream",
     "text": [
      " 71%|███████   | 71/100 [02:52<02:00,  4.17s/it]"
     ]
    },
    {
     "name": "stdout",
     "output_type": "stream",
     "text": [
      "Incorrect fields:\n",
      "- Product_Type\n",
      "- Height\n",
      "- Width\n",
      "- Length\n",
      "- Material\n",
      "- Shelves\n",
      "- Manufacturer_Stock_Number\n"
     ]
    },
    {
     "name": "stderr",
     "output_type": "stream",
     "text": [
      " 72%|███████▏  | 72/100 [02:54<01:42,  3.67s/it]"
     ]
    },
    {
     "name": "stdout",
     "output_type": "stream",
     "text": [
      "Incorrect fields:\n",
      "- Manufacturer\n",
      "- Product_Type\n",
      "- Width\n",
      "- Depth\n",
      "- Manufacturer_Stock_Number\n",
      "- Base\n",
      "- Material\n"
     ]
    },
    {
     "name": "stderr",
     "output_type": "stream",
     "text": [
      " 73%|███████▎  | 73/100 [02:56<01:21,  3.03s/it]"
     ]
    },
    {
     "name": "stdout",
     "output_type": "stream",
     "text": [
      "Incorrect fields:\n",
      "- Color\n",
      "- Width\n",
      "- Length\n",
      "- Base\n",
      "- Capacity\n"
     ]
    },
    {
     "name": "stderr",
     "output_type": "stream",
     "text": [
      " 74%|███████▍  | 74/100 [02:58<01:15,  2.89s/it]"
     ]
    },
    {
     "name": "stdout",
     "output_type": "stream",
     "text": [
      "Incorrect fields:\n",
      "- Manufacturer_Stock_Number\n",
      "- Base\n",
      "- Material\n",
      "- Capacity\n"
     ]
    },
    {
     "name": "stderr",
     "output_type": "stream",
     "text": [
      " 75%|███████▌  | 75/100 [03:00<01:04,  2.59s/it]"
     ]
    },
    {
     "name": "stdout",
     "output_type": "stream",
     "text": [
      "Incorrect fields:\n",
      "- Product_Type\n",
      "- Width\n",
      "- Depth\n",
      "- Base\n",
      "- Splash\n",
      "- Length\n",
      "- Stainless_Steel_Series\n",
      "- Cooling\n",
      "- Shelves\n",
      "- Shape\n",
      "- Height\n",
      "- Color\n",
      "- Retail_UPC\n",
      "- Manufacturer_Stock_Number\n",
      "- Heat\n",
      "- Gauge\n",
      "- Voltage\n",
      "- Capacity\n"
     ]
    },
    {
     "name": "stderr",
     "output_type": "stream",
     "text": [
      " 76%|███████▌  | 76/100 [03:02<00:58,  2.44s/it]"
     ]
    },
    {
     "name": "stdout",
     "output_type": "stream",
     "text": [
      "Incorrect fields:\n",
      "- Base\n",
      "- Shelves\n"
     ]
    },
    {
     "name": "stderr",
     "output_type": "stream",
     "text": [
      " 77%|███████▋  | 77/100 [03:04<00:53,  2.33s/it]"
     ]
    },
    {
     "name": "stdout",
     "output_type": "stream",
     "text": [
      "Incorrect fields:\n",
      "- Width\n",
      "- Length\n",
      "- Base\n",
      "- Capacity\n"
     ]
    },
    {
     "name": "stderr",
     "output_type": "stream",
     "text": [
      " 78%|███████▊  | 78/100 [03:06<00:49,  2.24s/it]"
     ]
    },
    {
     "name": "stdout",
     "output_type": "stream",
     "text": [
      "Incorrect fields:\n",
      "- Product_Type\n",
      "- Width\n",
      "- Base\n",
      "- Heat\n",
      "- Length\n",
      "- Stainless_Steel_Series\n",
      "- Depth\n",
      "- Cooling\n",
      "- Shelves\n",
      "- Splash\n",
      "- Shape\n",
      "- Height\n",
      "- Color\n",
      "- Retail_UPC\n",
      "- Gauge\n",
      "- Voltage\n",
      "- Capacity\n"
     ]
    },
    {
     "name": "stderr",
     "output_type": "stream",
     "text": [
      " 79%|███████▉  | 79/100 [03:08<00:43,  2.08s/it]"
     ]
    },
    {
     "name": "stdout",
     "output_type": "stream",
     "text": [
      "Incorrect fields:\n",
      "- Product_Type\n",
      "- Width\n",
      "- Base\n",
      "- Heat\n",
      "- Length\n",
      "- Stainless_Steel_Series\n",
      "- Depth\n",
      "- Cooling\n",
      "- Shelves\n",
      "- Splash\n",
      "- Shape\n",
      "- Height\n",
      "- Color\n",
      "- Retail_UPC\n",
      "- Gauge\n",
      "- Voltage\n",
      "- Capacity\n"
     ]
    },
    {
     "name": "stderr",
     "output_type": "stream",
     "text": [
      " 80%|████████  | 80/100 [03:09<00:35,  1.77s/it]"
     ]
    },
    {
     "name": "stdout",
     "output_type": "stream",
     "text": [
      "Incorrect fields:\n",
      "- Color\n",
      "- Product_Type\n",
      "- Manufacturer_Stock_Number\n",
      "- Base\n",
      "- Material\n"
     ]
    },
    {
     "name": "stderr",
     "output_type": "stream",
     "text": [
      " 81%|████████  | 81/100 [03:12<00:39,  2.08s/it]"
     ]
    },
    {
     "name": "stdout",
     "output_type": "stream",
     "text": [
      "Incorrect fields:\n",
      "- Heat\n",
      "- Splash\n",
      "- Color\n",
      "- Base\n",
      "- Stainless_Steel_Series\n",
      "- Manufacturer_Stock_Number\n"
     ]
    },
    {
     "name": "stderr",
     "output_type": "stream",
     "text": [
      " 82%|████████▏ | 82/100 [03:14<00:37,  2.08s/it]"
     ]
    },
    {
     "name": "stdout",
     "output_type": "stream",
     "text": [
      "Incorrect fields:\n",
      "- Product_Type\n",
      "- Width\n",
      "- Heat\n",
      "- Splash\n",
      "- Shape\n",
      "- Height\n",
      "- Color\n",
      "- Gauge\n",
      "- Base\n",
      "- Length\n",
      "- Stainless_Steel_Series\n",
      "- Depth\n",
      "- Cooling\n",
      "- Retail_UPC\n",
      "- Shelves\n",
      "- Material\n",
      "- Voltage\n",
      "- Capacity\n"
     ]
    },
    {
     "name": "stderr",
     "output_type": "stream",
     "text": [
      " 83%|████████▎ | 83/100 [03:16<00:35,  2.09s/it]"
     ]
    },
    {
     "name": "stdout",
     "output_type": "stream",
     "text": [
      "Incorrect fields:\n",
      "- Manufacturer\n",
      "- Product_Type\n",
      "- Width\n",
      "- Depth\n",
      "- Splash\n",
      "- Stainless_Steel_Series\n",
      "- Manufacturer_Stock_Number\n",
      "- Capacity\n"
     ]
    },
    {
     "name": "stderr",
     "output_type": "stream",
     "text": [
      " 84%|████████▍ | 84/100 [03:18<00:33,  2.07s/it]"
     ]
    },
    {
     "name": "stdout",
     "output_type": "stream",
     "text": [
      "Incorrect fields:\n",
      "- Manufacturer\n",
      "- Color\n",
      "- Product_Type\n",
      "- Material\n",
      "- Manufacturer_Stock_Number\n",
      "- Base\n"
     ]
    },
    {
     "name": "stderr",
     "output_type": "stream",
     "text": [
      " 85%|████████▌ | 85/100 [03:21<00:33,  2.22s/it]"
     ]
    },
    {
     "name": "stdout",
     "output_type": "stream",
     "text": [
      "Incorrect fields:\n",
      "- Manufacturer\n",
      "- Product_Type\n",
      "- Manufacturer_Stock_Number\n"
     ]
    },
    {
     "name": "stderr",
     "output_type": "stream",
     "text": [
      " 86%|████████▌ | 86/100 [03:23<00:30,  2.20s/it]"
     ]
    },
    {
     "name": "stdout",
     "output_type": "stream",
     "text": [
      "Incorrect fields:\n",
      "- Material\n",
      "- Splash\n",
      "- Base\n",
      "- Length\n",
      "- Stainless_Steel_Series\n",
      "- Manufacturer_Stock_Number\n",
      "- Width\n"
     ]
    },
    {
     "name": "stderr",
     "output_type": "stream",
     "text": [
      " 87%|████████▋ | 87/100 [03:25<00:28,  2.21s/it]"
     ]
    },
    {
     "name": "stdout",
     "output_type": "stream",
     "text": [
      "Incorrect fields:\n",
      "- Manufacturer\n",
      "- Manufacturer_Stock_Number\n"
     ]
    },
    {
     "name": "stderr",
     "output_type": "stream",
     "text": [
      " 88%|████████▊ | 88/100 [03:28<00:27,  2.32s/it]"
     ]
    },
    {
     "name": "stdout",
     "output_type": "stream",
     "text": [
      "Incorrect fields:\n",
      "- Manufacturer_Stock_Number\n"
     ]
    },
    {
     "name": "stderr",
     "output_type": "stream",
     "text": [
      " 89%|████████▉ | 89/100 [03:30<00:24,  2.27s/it]"
     ]
    },
    {
     "name": "stdout",
     "output_type": "stream",
     "text": [
      "Incorrect fields:\n",
      "- Stainless_Steel_Series\n",
      "- Manufacturer_Stock_Number\n",
      "- Base\n",
      "- Capacity\n"
     ]
    },
    {
     "name": "stderr",
     "output_type": "stream",
     "text": [
      " 90%|█████████ | 90/100 [03:33<00:25,  2.56s/it]"
     ]
    },
    {
     "name": "stdout",
     "output_type": "stream",
     "text": [
      "Incorrect fields:\n",
      "- Manufacturer\n",
      "- Stainless_Steel_Series\n",
      "- Color\n",
      "- Manufacturer_Stock_Number\n",
      "- Base\n",
      "- Capacity\n"
     ]
    },
    {
     "name": "stderr",
     "output_type": "stream",
     "text": [
      " 91%|█████████ | 91/100 [03:37<00:26,  2.91s/it]"
     ]
    },
    {
     "name": "stdout",
     "output_type": "stream",
     "text": [
      "Incorrect fields:\n",
      "- Manufacturer\n",
      "- Product_Type\n",
      "- Width\n",
      "- Depth\n",
      "- Splash\n",
      "- Stainless_Steel_Series\n",
      "- Manufacturer_Stock_Number\n"
     ]
    },
    {
     "name": "stderr",
     "output_type": "stream",
     "text": [
      " 92%|█████████▏| 92/100 [03:40<00:23,  2.93s/it]"
     ]
    },
    {
     "name": "stdout",
     "output_type": "stream",
     "text": [
      "Incorrect fields:\n",
      "- Manufacturer\n",
      "- Color\n",
      "- Product_Type\n",
      "- Height\n",
      "- Width\n",
      "- Length\n",
      "- Material\n",
      "- Shelves\n",
      "- Manufacturer_Stock_Number\n"
     ]
    },
    {
     "name": "stderr",
     "output_type": "stream",
     "text": [
      " 93%|█████████▎| 93/100 [03:42<00:18,  2.60s/it]"
     ]
    },
    {
     "name": "stdout",
     "output_type": "stream",
     "text": [
      "Incorrect fields:\n",
      "- Heat\n",
      "- Gauge\n",
      "- Base\n",
      "- Cooling\n",
      "- Manufacturer_Stock_Number\n",
      "- Shelves\n",
      "- Voltage\n",
      "- Capacity\n"
     ]
    },
    {
     "name": "stderr",
     "output_type": "stream",
     "text": [
      " 94%|█████████▍| 94/100 [03:45<00:16,  2.78s/it]"
     ]
    },
    {
     "name": "stdout",
     "output_type": "stream",
     "text": [
      "Incorrect fields:\n",
      "- Manufacturer\n",
      "- Base\n",
      "- Shelves\n",
      "- Manufacturer_Stock_Number\n"
     ]
    },
    {
     "name": "stderr",
     "output_type": "stream",
     "text": [
      " 95%|█████████▌| 95/100 [03:47<00:12,  2.48s/it]"
     ]
    },
    {
     "name": "stdout",
     "output_type": "stream",
     "text": [
      "Incorrect fields:\n",
      "- Material\n",
      "- Manufacturer_Stock_Number\n",
      "- Base\n"
     ]
    },
    {
     "name": "stderr",
     "output_type": "stream",
     "text": [
      " 96%|█████████▌| 96/100 [03:49<00:10,  2.55s/it]"
     ]
    },
    {
     "name": "stdout",
     "output_type": "stream",
     "text": [
      "Incorrect fields:\n",
      "- Manufacturer\n",
      "- Width\n",
      "- Length\n",
      "- Material\n",
      "- Base\n"
     ]
    },
    {
     "name": "stderr",
     "output_type": "stream",
     "text": [
      " 97%|█████████▋| 97/100 [03:52<00:08,  2.67s/it]"
     ]
    },
    {
     "name": "stdout",
     "output_type": "stream",
     "text": [
      "Incorrect fields:\n",
      "- Width\n",
      "- Cooling\n",
      "- Length\n",
      "- Stainless_Steel_Series\n",
      "- Depth\n",
      "- Shelves\n",
      "- Splash\n",
      "- Shape\n",
      "- Height\n",
      "- Color\n",
      "- Retail_UPC\n",
      "- Heat\n",
      "- Gauge\n",
      "- Material\n",
      "- Base\n",
      "- Voltage\n"
     ]
    },
    {
     "name": "stderr",
     "output_type": "stream",
     "text": [
      " 98%|█████████▊| 98/100 [03:54<00:04,  2.37s/it]"
     ]
    },
    {
     "name": "stdout",
     "output_type": "stream",
     "text": [
      "Incorrect fields:\n",
      "- Manufacturer\n",
      "- Base\n"
     ]
    },
    {
     "name": "stderr",
     "output_type": "stream",
     "text": [
      " 99%|█████████▉| 99/100 [03:56<00:02,  2.40s/it]"
     ]
    },
    {
     "name": "stdout",
     "output_type": "stream",
     "text": [
      "Incorrect fields:\n",
      "- Manufacturer_Stock_Number\n",
      "- Base\n"
     ]
    },
    {
     "name": "stderr",
     "output_type": "stream",
     "text": [
      "100%|██████████| 100/100 [03:59<00:00,  2.39s/it]"
     ]
    },
    {
     "name": "stdout",
     "output_type": "stream",
     "text": [
      "Incorrect fields:\n",
      "- Height\n",
      "- Width\n",
      "- Length\n",
      "- Depth\n",
      "- Stainless_Steel_Series\n",
      "- Cooling\n",
      "- Splash\n",
      "- Shape\n",
      "- Retail_UPC\n",
      "- Manufacturer_Stock_Number\n",
      "- Heat\n",
      "- Gauge\n",
      "- Base\n",
      "- Voltage\n",
      "- Capacity\n",
      "Average accuracy: 61.4\n"
     ]
    },
    {
     "name": "stderr",
     "output_type": "stream",
     "text": [
      "\n"
     ]
    }
   ],
   "source": [
    "result_list = []\n",
    "accuracy_list = []\n",
    "model_name = 'gpt-4o-mini' #'gpt-3.5-turbo'\n",
    "dataset = 'garden'\n",
    "\n",
    "for index in tqdm(range(0, 100)):\n",
    "    result = {}\n",
    "    data = home_garden[index]\n",
    "    result['id'] = data['id']\n",
    "    result['cluster_id'] = data['cluster_id']\n",
    "    result['category'] = data['category']\n",
    "    text_compile = f'title: {data[\"input_title\"]}\\ndescription: {data[\"input_description\"]}'\n",
    "\n",
    "    custom_extraction_prompt = \"\"\"\n",
    "        Extract information from the text extracted from a webpage of a product, including title and description:\n",
    "        Output in a structured format.\n",
    "        \"\"\"\n",
    "    response = initial_extraction(text_compile, custom_extraction_prompt, model_name)\n",
    "    result['output'] = response.dict()\n",
    "    accuracy = evaluate_extraction(response.dict(), data)\n",
    "    result['accuracy'] = accuracy\n",
    "    result_list.append(result)\n",
    "    accuracy_list.append(accuracy)\n",
    "print(f'Average accuracy: {sum(accuracy_list)/len(accuracy_list)}')\n",
    "\n",
    "# Specify the file path for your JSON Lines file\n",
    "file_path = f'{model_name.replace(\".\", \"-\")}-{dataset}-zero.jsonl'\n",
    "\n",
    "write_jsonl_file(file_path, result_list)\n",
    "\n"
   ]
  },
  {
   "cell_type": "code",
   "execution_count": 83,
   "metadata": {},
   "outputs": [
    {
     "data": {
      "text/plain": [
       "356"
      ]
     },
     "execution_count": 83,
     "metadata": {},
     "output_type": "execute_result"
    }
   ],
   "source": [
    "len(home_garden)"
   ]
  },
  {
   "cell_type": "markdown",
   "metadata": {},
   "source": [
    "- garden - gpt3.5 - zero - 75.65\n",
    "- garden - gpt4o - zero - 81.2\n",
    "- garden - gpt4o-mini - zero - 62.3, 61.4\n",
    "\n",
    "- food - gpt3.5 - zero - 70.21604938271605\n",
    "- food - gpt4o - zero - 77.62345679012346, 75.92592592592592\n",
    "- food - gpt4o-mini - zero - 74.07407407407408\n",
    "\n",
    "- office - gpt3.5 - zero - 76.9444444444444\n",
    "- office - gpt4o - zero - 78.11111111111109\n",
    "- office - gpt4o-mini - zero - 76.05555555555554\n",
    "\n",
    "- jewelry - gpt3.5 - zero - 76.77777777777769\n",
    "- jewelry - gpt4o - zero - 84.55555555555544\n",
    "- jewelry - gpt4o-mini - zero - 82.3333333333332\n",
    "\n",
    "\n",
    "\n"
   ]
  },
  {
   "cell_type": "code",
   "execution_count": 44,
   "metadata": {},
   "outputs": [],
   "source": [
    "\n"
   ]
  },
  {
   "cell_type": "code",
   "execution_count": null,
   "metadata": {},
   "outputs": [],
   "source": [
    "Example = \"\"\"\n",
    "        Here is an example of the information extraction tasks\n",
    "        \n",
    "        ## Input Text\n",
    "        title: John Boos EBMS6-2024 24\" Solid Wall Mounted Shelving w/ Raised Ledges Ledges\n",
    "        description: Microwave Shelf, wall mount, 24\"W x 20\"D x 15\"H, 16 gauge 300 series stainless steel, Stallion safety edge front with raised lip, NSF\n",
    "        \n",
    "        ## Expected Output\n",
    "        'Manufacturer': 'John Boos',\n",
    "        'Product Type': 'Wall Mounted Shelving'\n",
    "        'Width': '24\"'\n",
    "        'Length': None\n",
    "        'Depth': '20\"'\n",
    "        'Gauge': '16'\n",
    "        'Material': 'stainless steel'\n",
    "        'Stainless Steel Series': '300'\n",
    "        'Cooling': None \n",
    "        'Splash': None\n",
    "        'Shape': None\n",
    "        'Height': '15\"'\n",
    "        'Color': None\n",
    "        'Retail UPC': None\n",
    "        'Manufacturer Stock Number': 'EBMS6-2024'\n",
    "        'Heat': None\n",
    "        'Shelves': None\n",
    "        'Base': None\n",
    "        'Voltage': None\n",
    "        'Capacity': None\n",
    "    \"\"\""
   ]
  },
  {
   "cell_type": "code",
   "execution_count": 18,
   "metadata": {},
   "outputs": [
    {
     "data": {
      "text/plain": [
       "2.0"
      ]
     },
     "execution_count": 18,
     "metadata": {},
     "output_type": "execute_result"
    }
   ],
   "source": [
    "a = [1,2,3]\n"
   ]
  },
  {
   "cell_type": "code",
   "execution_count": null,
   "metadata": {},
   "outputs": [],
   "source": []
  }
 ],
 "metadata": {
  "kernelspec": {
   "display_name": "ucl_project",
   "language": "python",
   "name": "python3"
  },
  "language_info": {
   "codemirror_mode": {
    "name": "ipython",
    "version": 3
   },
   "file_extension": ".py",
   "mimetype": "text/x-python",
   "name": "python",
   "nbconvert_exporter": "python",
   "pygments_lexer": "ipython3",
   "version": "3.10.6"
  }
 },
 "nbformat": 4,
 "nbformat_minor": 2
}
