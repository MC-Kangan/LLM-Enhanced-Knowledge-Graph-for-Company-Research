{
 "cells": [
  {
   "cell_type": "code",
   "execution_count": 1,
   "metadata": {},
   "outputs": [],
   "source": [
    "from firecrawl_scraping import FirecrawlApp\n",
    "from openai import OpenAI\n",
    "from dotenv import load_dotenv\n",
    "import os \n",
    "import json \n",
    "import pandas as pd \n",
    "from datetime import datetime\n",
    "from firecrawl_scraping import *\n",
    "from utility import *\n",
    "from llm_extraction import *"
   ]
  },
  {
   "cell_type": "code",
   "execution_count": 6,
   "metadata": {},
   "outputs": [
    {
     "name": "stdout",
     "output_type": "stream",
     "text": [
      "Raw data saved to scraping_output/justworks_20240701.md\n"
     ]
    }
   ],
   "source": [
    "url = 'https://www.justworks.com/'\n",
    "filename = 'justworks'\n",
    "\n",
    "try:\n",
    "    # Generate timestamp\n",
    "    timestamp = datetime.now().strftime('%Y%m%d')\n",
    "    \n",
    "    # Scrape data\n",
    "    raw_data = scrape_data(url)\n",
    "    \n",
    "    # Save raw data\n",
    "    save_raw_data(raw_data, filename, timestamp, output_folder='scraping_output')\n",
    "    \n",
    "except Exception as e:\n",
    "    print(f\"An error occurred: {e}\")"
   ]
  },
  {
   "cell_type": "code",
   "execution_count": 6,
   "metadata": {},
   "outputs": [
    {
     "name": "stdout",
     "output_type": "stream",
     "text": [
      "[![Logo](https://ucarecdn.com/64603bc8-776c-4912-bb3b-25887fcc958a/)](/)\n",
      "*   *   [Login](/users/sign_in)\n",
      "*   *   [Login](/users/sign_in)\n",
      "The Most Accurate Earnings Estimates Dataset on the Planet\n",
      "==========================================================\n",
      "Estimize crowdsources earnings and macroeconomic estimates from over 120,000 contributors across the globe. We welcome anyone to contribute in return for free access to our data and analytics tools, or you can simply pay now to subscribe. \n",
      "Learn more below\n",
      "*   [Free Contributor Account](/users/sign_up)\n",
      "*   [Premium 21-day Free Trial](/premium)\n",
      "![](https://www.estimize.com/images/macbook-mockup-shadow.png)\n",
      "*   70% Win Rate\n",
      "    The Estimize Consensus has been closer to the company's actual reported results 70% of the time compared to legacy sell-side only estimate data sets.\n",
      "*   2x Deeper\n",
      "    More than 2x the number of estimates per earnings release on average, wider estimate dispersion and 3x the average number of revisions per estimate.\n",
      "*   10+ years of Data\n",
      "    Through bull and bear markets our data set continues to outperform. Its superiority is confirmed in more than a dozen published academic papers.\n",
      "How the Estimize Platform Works\n",
      "-------------------------------\n",
      "Estimize is designed to collect opinions from the widest possible range of contributors, while maintaining the highest quality data through advanced behavioral and statistical algorithms.\n",
      "*   ![](https://www.estimize.com/assets/page_landing/screenshots/landing-slider-1a-21488bb9ada0711ebe01d1c6e03913b1.png)\n",
      "*   ![](https://www.estimize.com/assets/page_landing/screenshots/landing-slider-1b-00fd4007bf49d31bbabf37fac20ae766.png)\n",
      "*   ![](https://www.estimize.com/assets/page_landing/screenshots/landing-slider-1c-7537de17a901ce78b4dc76bdf17949f5.png)\n",
      "*   ### \n",
      "    Contribute Anonymously\n",
      "    Our contributors are a broad mix of buy-side, independent, and sell-side investment professionals, along with amateur analysts, independent investors, and academics. While we do ask which of these categories you belong to, any contributor can choose to remain anonymous as they publish their estimates.\n",
      "*   ### \n",
      "    Give-to-get\n",
      "    Contributors gain free access to Estimize data for each earnings release they estimate on. Each stock allows estimation on EPS and Revenue. Some stocks also have a key performance indicator such as same store sales, monthly active users or product segment revenue.\n",
      "*   ### \n",
      "    Quality Control and Smart Consensus\n",
      "    Advanced algorithms monitor contributor behavior and assess the validity of each estimate to prevent erroneous data from entering the consensus. Each estimate is then weighted based on our proprietary Select Consensus model.\n",
      "*   ### \n",
      "    Alerts, Screening, Excel files\n",
      "    Smart data viz to help you make more informed estimates, automated alerts to leverage the Estimize data for better investment decisions. Advanced screening to find the data you need. Daily Excel file via email. Leaderboards and user profile to track your accuracy.\n",
      "*   ![](https://www.estimize.com/assets/page_landing/screenshots/landing-slider-2a-c598aad7ddedd7018bdb3bcb333af481.png)\n",
      "*   ![](https://www.estimize.com/assets/page_landing/screenshots/landing-slider-2b-a3457cc9971026ee47025c006ca184dd.png)\n",
      "*   ![](https://www.estimize.com/assets/page_landing/screenshots/landing-slider-2c-4a114b8bac677dd5261bf40a70674c3f.png)\n",
      "*   ![](https://www.estimize.com/assets/page_landing/screenshots/landing-slider-2d-4abca5896d9c6e8606fbb699f2d15550.png)\n",
      "*   ![](https://www.estimize.com/assets/page_landing/screenshots/landing-slider-2e-e660772c774e0495730a200c4b1706b6.png)\n",
      "*   ![](https://www.estimize.com/assets/page_landing/screenshots/landing-slider-2f-6e5b85c33795902300c37065b1dedb95.png)\n",
      "*   ![](https://www.estimize.com/assets/page_landing/screenshots/landing-slider-2g-c9776c274af4337f18125d0d0101d7ef.png)\n",
      "Subscribe Now For Full Access\n",
      "-----------------------------\n",
      "|     | ### Contributor<br><br>Access Estimize data for companies you contribute estimates to for FREE<br><br>$<br><br>0<br><br>/ month<br><br>$<br><br>/year | ### Subscriber<br><br>Full access to data and advanced tools for individuals without contributing estimates<br><br>$<br><br>99<br><br>/ month<br><br>$<br><br>999<br><br>/year | ### Institutional<br><br>Access our raw data feeds plus scaled pricing<br><br>  <br><br>QUOTATION<br><br>$<br><br>/year |\n",
      "| --- | --- | --- | --- |\n",
      "| Daily Email Alerts | ![✓](https://www.estimize.com/images/checked--acid.svg) | ![✓](https://www.estimize.com/images/checked--acid.svg) | ![✓](https://www.estimize.com/images/checked--acid.svg) |\n",
      "| Advanced Screening | ![✓](https://www.estimize.com/images/checked--acid.svg) | ![✓](https://www.estimize.com/images/checked--acid.svg) | ![✓](https://www.estimize.com/images/checked--acid.svg) |\n",
      "| Unblinded Access | ![✗](https://www.estimize.com/images/cross--red.svg) | ![✓](https://www.estimize.com/images/checked--acid.svg) | ![✓](https://www.estimize.com/images/checked--acid.svg) |\n",
      "| Daily Excel Files | ![✗](https://www.estimize.com/images/cross--red.svg) | ![✓](https://www.estimize.com/images/cross--red.svg) | ![✓](https://www.estimize.com/images/checked--acid.svg) |\n",
      "| Factor Models | ![✗](https://www.estimize.com/images/cross--red.svg) | ![✓](https://www.estimize.com/images/cross--red.svg) | ![✓](https://www.estimize.com/images/checked--acid.svg) |\n",
      "| API/FTP Access | ![✗](https://www.estimize.com/images/cross--red.svg) | ![✗](https://www.estimize.com/images/cross--red.svg) | ![✓](https://www.estimize.com/images/checked--acid.svg) |\n",
      "| Premium Support | ![✗](https://www.estimize.com/images/cross--red.svg) | ![✗](https://www.estimize.com/images/cross--red.svg) | ![✓](https://www.estimize.com/images/checked--acid.svg) |\n",
      "|     | [Sign up now](/users/sign_up) | [Subscribe Now](/premium) | [Contact Us](/contact) |\n",
      "Industry and Academic Research Into the Estimize Dataset\n",
      "--------------------------------------------------------\n",
      "![Penn university](https://www.estimize.com/assets/page_partners/penn-university-805ca91399c4cef57a486bc3eb9223f5.png)\n",
      "_\"We find that Estimize-covered firms still meet or beat analyst earnings expectations in over 70% of firm-quarters.\"  \n",
      "_\n",
      "**SANDRA SCHAFHAUTLE, UNIVERSITY OF PENNSYLVANIA**\n",
      "[Read the full paper here](https://s3.amazonaws.com/com.estimize.public/papers/23+08+Crowdsourced+Forecasts+and+the+Market+Reaction.pdf)\n",
      "![Temple university 2](https://www.estimize.com/assets/page_partners/temple-university-2-f2023f1e0eeddb7ece7be30e42aa8426.png)\n",
      "_\"Estimize strives to improve consensus forecast accuracy by relying on the \"wisdom of crowds,\", which improves predictive accuracy by reducing idiosyncratic error.\"  \n",
      "_\n",
      "LAWRENCE D. BROWN, TEMPLE UNIVERSITY\n",
      "[Read the full paper here](https://s3.amazonaws.com/com.estimize.public/papers/23+06+Nudging+Towards+Better+Earnings+Forecasts.pdf)\n",
      "![University of kentucky 2](https://www.estimize.com/assets/page_partners/university-of-kentucky-2-01a49532e5bb45d452aa9ba25160cb85.png)\n",
      "_\"We find that firms added to Estimize... experience a pervasive and substantial reduction in consensus bias and a limited increase in consensus accuracy relative to matched control firms.\"_\n",
      "RUSSEL JAME, UNIVERSITY OF KENTUCKY\n",
      "[Read the full paper here](https://s3.amazonaws.com/com.estimize.public/papers/21+08+Can+FinTech+Competition+Improve+Sell-side+Research+Quality_.pdf)\n",
      "![G washington university 2](https://www.estimize.com/assets/page_partners/g-washington-university-2-107afdc308f9c7a08bf397a1bddd287a.png)\n",
      "_\"Estimize provides a less biased, more accurate, and more representative view of market expectations compared to sell-side consensus forecasts compromised by severe biases.\"_\n",
      "EDWARD SUL, GEORGE WASHINGTON UNIVERSITY\n",
      "[Read the full paper here](https://s3.amazonaws.com/com.estimize.public/papers/20+04+Effects+of+FinTech+and+Crowdsourced+Forecasting+on+Firms_+Evidence+from+Estimize.pdf+.pdf)\n",
      "![Temple university 2](https://www.estimize.com/assets/page_partners/temple-university-2-f2023f1e0eeddb7ece7be30e42aa8426.png)\n",
      "_\"Analysts benefit from the visibility afforded by Estimize by experiencing favorable career outcomes.\"  \n",
      "_\n",
      "JOSHUA A. KHAVIS, TEMPLE UNIVERSITY\n",
      "[Read the full paper here](https://s3.amazonaws.com/com.estimize.public/papers/19+12+Do+Analysts+Benefit+from+Online+Feedback+and+Visibility_.pdf)\n",
      "![Mckinley research 2](https://www.estimize.com/assets/page_partners/mckinley-research-2-82f726b77c78a84defa8a5d6783b6ee4.png)\n",
      "_\"Estimize data appears to contain unique and valuable preearnings and post-earnings announcement information.\"_\n",
      "ROBERT A. GILLIAM, MCKINLEY CAPITAL RESEARCH\n",
      "[Read the full paper here](https://s3.amazonaws.com/com.estimize.public/papers/17+07+Improving+Earnings+Forecasts+with+Estimize+Crowd+Sourced+Data+by+McKinley.pdf)\n",
      "![Wolfe research 2](https://www.estimize.com/assets/page_partners/wolfe-research-2-e748815ca125b5b22c407f405e134de0.png)\n",
      "_\"We find Estimize estimates to be not only more accurate and timelier than the sell-side, but also highly complementary to traditional factors.\"_\n",
      "SHENG WANG, WOLFE RESEARCH\n",
      "[Read the full paper here](https://s3.amazonaws.com/com.estimize.public/papers/17+04+Crowdsourcing+Earnings+and+Revenue+Estimates+by+Wolfe+Research.pdf)\n",
      "![University of kentucky 2](https://www.estimize.com/assets/page_partners/university-of-kentucky-2-01a49532e5bb45d452aa9ba25160cb85.png)\n",
      "_\"We find that Estimize forecasts are incrementally useful in forecasting earnings and measuring the market's expectations of earnings.\"_\n",
      "RUSSEL JAME, UNIVERSITY OF KENTUCKY\n",
      "[Read the full paper here](https://s3.amazonaws.com/com.estimize.public/papers/16+03+The+Value+of+Crowdsourced+Earnings+Forecasts.pdf)\n",
      "![Deutsche bank 2](https://www.estimize.com/assets/page_partners/deutsche-bank-2-56cd65b6f18342c0395ecc6285c94e18.png)\n",
      "_\"We find that the timelier Estimize forecasts can more accurately identify earnings surprise which results in a greater capture of the post earnings drift.\"_\n",
      "SHENG WANG, DEUTSCHE BANK MARKETS RESEARCH\n",
      "[Read the full paper here](https://s3.amazonaws.com/com.estimize.public/papers/14+03+The+Wisdom+of+Crowds_+Crowdsourcing+Earnings+Estimates+by+DeutscheBank.pdf)\n",
      "API & FTP Data Access\n",
      "---------------------\n",
      "Whether you’re a systematic quantitative hedge fund, the developer of an exciting new fintech app, or an academic looking to do research, you can easily access our historical data files or live API for 30 days to test before you purchase an institutional data license. Visit our institutional data sales page for more details.\n",
      "*   [Learn more](/sales)\n",
      "![](https://ucarecdn.com/1aea4c04-964d-464a-a963-2ce29971009e/-/crop/1666x947/0,162/-/preview/image.png)\n",
      "Interactive Widget\n",
      "------------------\n",
      "Help your website users make better investment decisions with the Estimize widget. Add this small widget to leverage the collective wisdom of crowds and receive highly accurate earnings predictions for U.S. equities.\n",
      "*   [Learn more](/widget-demo)\n",
      "![Widget demo image](https://www.estimize.com/assets/page_home/widget-demo-image-aabff65473fd10cd7bf11f42f0857ce9.png) \n",
      "...Access to Our Data Through Other Top Financial Platforms\n",
      "-----------------------------------------------------------\n",
      "We have partnered with some of the biggest Financial Platforms in the world to make Estimize data available\n",
      "*   ![](https://ucarecdn.com/a7a714d1-112e-40df-827b-74c7ff92a352/image.png)\n",
      "*   ![](https://ucarecdn.com/835cf912-9dc6-4932-aafb-dd071fb81fd8/image.png)\n",
      "*   ![](https://ucarecdn.com/eeab4075-2f8d-4599-b10f-0ec791cec25f/image.png)\n",
      "*   ![](https://ucarecdn.com/3a0876f1-393a-4aef-9214-2b5fbb35c2c3/image.png)\n",
      "*   ![](https://ucarecdn.com/9e3b8fda-f752-4d69-82f8-e79cb5e7831e/image.png)\n",
      "*   ![](https://ucarecdn.com/6a5aec8b-7095-4185-bad1-c9291e2d0c38/image.png)\n",
      "©\n",
      "2024 Estimize. All Rights Reserved. Estimize is owned and operated by ExtractAlpha.\n",
      "[![](https://www.estimize.com/images/extractalpha-logo-horiz-white.png)](https://www.extractalpha.com/?__hstc=11750891.b49dfb8f4248fe8ccfafa37c94f3c884.1719759458870.1719759458870.1719759458870.1&__hssc=11750891.1.1719759458871&__hsfp=651967898)\n",
      "*   [![](https://www.estimize.com/images/twitter.svg)](https://twitter.com/Estimize)\n",
      "*   [![](https://www.estimize.com/images/linkedin.svg)](https://www.linkedin.com/company/estimize/)\n",
      "*   [![](https://www.estimize.com/images/link.svg)](https://stocktwits.com/Estimize)\n"
     ]
    }
   ],
   "source": [
    "raw_data = read_markdown_file('scraping_output/justworks_20240701.md')\n",
    "clean_data = clean_scraped_content(raw_data)\n",
    "print(clean_data)"
   ]
  },
  {
   "cell_type": "code",
   "execution_count": 7,
   "metadata": {},
   "outputs": [
    {
     "data": {
      "text/plain": [
       "{'product_offering': {'Earnings Estimates Dataset': 'Crowdsources earnings and macroeconomic estimates from over 120,000 contributors. Features include a 70% win rate, 2x deeper estimates, and over 10 years of data.',\n",
       "  'Estimize Platform': 'Collects opinions from a wide range of contributors, maintains high-quality data through advanced algorithms, and offers features like anonymous contribution, give-to-get access, quality control, smart consensus, alerts, screening, and Excel files.'},\n",
       " 'partners': {'University of Pennsylvania': 'Research into the accuracy of Estimize-covered firms meeting or beating analyst earnings expectations.',\n",
       "  'Temple University': 'Research on improving consensus forecast accuracy through crowdsourcing.',\n",
       "  'University of Kentucky': 'Research on the reduction in consensus bias and increase in consensus accuracy.',\n",
       "  'George Washington University': 'Research on providing a less biased and more accurate view of market expectations.',\n",
       "  'McKinley Capital Research': 'Research on the unique and valuable information in Estimize data.',\n",
       "  'Wolfe Research': 'Research on the accuracy and timeliness of Estimize estimates.',\n",
       "  'Deutsche Bank Markets Research': 'Research on identifying earnings surprises and capturing post-earnings drift.'},\n",
       " 'logos': ['https://www.estimize.com/assets/page_partners/penn-university-805ca91399c4cef57a486bc3eb9223f5.png',\n",
       "  'https://www.estimize.com/assets/page_partners/temple-university-2-f2023f1e0eeddb7ece7be30e42aa8426.png',\n",
       "  'https://www.estimize.com/assets/page_partners/university-of-kentucky-2-01a49532e5bb45d452aa9ba25160cb85.png',\n",
       "  'https://www.estimize.com/assets/page_partners/g-washington-university-2-107afdc308f9c7a08bf397a1bddd287a.png',\n",
       "  'https://www.estimize.com/assets/page_partners/mckinley-research-2-82f726b77c78a84defa8a5d6783b6ee4.png',\n",
       "  'https://www.estimize.com/assets/page_partners/wolfe-research-2-e748815ca125b5b22c407f405e134de0.png',\n",
       "  'https://www.estimize.com/assets/page_partners/deutsche-bank-2-56cd65b6f18342c0395ecc6285c94e18.png']}"
      ]
     },
     "execution_count": 7,
     "metadata": {},
     "output_type": "execute_result"
    }
   ],
   "source": [
    "response = info_extraction(clean_data)\n",
    "response"
   ]
  },
  {
   "cell_type": "code",
   "execution_count": 8,
   "metadata": {},
   "outputs": [
    {
     "name": "stdout",
     "output_type": "stream",
     "text": [
      "Output saved to extraction_output/estimize.json\n"
     ]
    }
   ],
   "source": [
    "# Save the response dictionary to a JSON file\n",
    "output_file = f\"extraction_output/{filename}.json\"\n",
    "with open(output_file, 'w') as f:\n",
    "    json.dump(response, f, indent=4)\n",
    "\n",
    "print(f\"Output saved to {output_file}\")"
   ]
  },
  {
   "cell_type": "code",
   "execution_count": 2,
   "metadata": {},
   "outputs": [
    {
     "name": "stdout",
     "output_type": "stream",
     "text": [
      "1. Scrape URL with Firecrawl\n",
      "2: Save scraped contents as a MD file\n",
      "Raw data saved to scraping_output/carta_20240701.md\n",
      "3: Clean scraped contents\n",
      "4: Extract information using LLM\n",
      "4: Save extracted information as a JSON file\n",
      "Output saved to extraction_output/carta.json\n"
     ]
    },
    {
     "data": {
      "text/plain": [
       "{'product_offering': {'Equity Management': 'Manage all things equity in one place, including cap tables, valuations, fundraising, issuing shares, expense accounting, and equity planning.',\n",
       "  'Compensation': 'Take the guesswork out of compensation with the industry’s most robust data set and real-time market intelligence powered by machine learning.',\n",
       "  'Venture Capital': 'Automate your back office and stay focused on deals with full-service fund administration, formations, valuations, audit and tax support, and portfolio insights.'},\n",
       " 'partners': {'Calendly': 'Extremely responsive and took into account our unique business plans.',\n",
       "  'Sinai Ventures': 'The time we used to spend on fund admin is now time we can spend with portfolio companies or meeting founders.',\n",
       "  'Puppet': 'No doubt, when you add it all up, Carta is the best overall platform.',\n",
       "  'Double A Labs': 'The equity process was new to me, so the hands-on support from Carta gave me the confidence to set it up with ease.',\n",
       "  'M13': 'The most interesting thing about Carta is both its professional services and software.',\n",
       "  'Harlem Capital': 'Having strong support from Carta has saved us a significant amount of time and mental space for fundraising.',\n",
       "  'Wattpad': 'At the end of the year, I can do our stock option accounting with the push of a button on Carta.',\n",
       "  'Emmeline Ventures': \"It really matters who you partner with to get it right out of the gate. We're really happy that we went with Carta.\",\n",
       "  'Xenon Partners': 'Carta really delivers on the expectation of a modern tool set that just works.',\n",
       "  'Day Trippers': 'Once I started working with Carta’s Launch platform, I could easily see how the fundraising could all come together.',\n",
       "  'Veerum': 'Our legal team researched Carta and regarded it as best-in-class.'},\n",
       " 'logos': ['https://images.ctfassets.net/y88td1zx1ufe/7Ex6ERlisDdfSUYYWGpRgF/c8a2eb0b54c5ce088d50cf9a85f6277c/Calendly_2.png',\n",
       "  'https://images.ctfassets.net/y88td1zx1ufe/7mPUFtze15JN1E4qZ1iTaO/2008f22f6bc5a33958404ceb8baeccf6/sinai_2.png',\n",
       "  'https://images.ctfassets.net/y88td1zx1ufe/3jtaFZetn4X02zSCIj5SGS/0018cfa811a0253d45208243261f3b43/puppet_2.png',\n",
       "  'https://images.ctfassets.net/y88td1zx1ufe/5u7TnHeTTqZkptq5KXeWtK/eeefc3e1d5549bb2210b625295d9905d/double-a-labs_2.png',\n",
       "  'https://images.ctfassets.net/y88td1zx1ufe/IoFTHDTMsbL6jFsAnmWSn/e1599b13eb03021779238d7a43648a36/m-13_2.png',\n",
       "  'https://images.ctfassets.net/y88td1zx1ufe/4N8ywEwNkGzQ5NKtrHMsKZ/f68b04c6463feb08c43b046c22101dca/harlem-capital_2.png',\n",
       "  'https://images.ctfassets.net/y88td1zx1ufe/41ucHuEDmd7mj0g1V9DSmW/bee5139b5755e648510a27e80748fd77/wattpad_2.png',\n",
       "  'https://images.ctfassets.net/y88td1zx1ufe/5rEZSJDDS3wH7UM57CR2kK/7c56ba1c981e89a9c12fbbb30b206be7/emmeline_2.png',\n",
       "  'https://images.ctfassets.net/y88td1zx1ufe/76JLekfKSXww9lZ265RwlL/8f51563246d54b54247faaaf385170e1/xenon-partners_2.png',\n",
       "  'https://images.ctfassets.net/y88td1zx1ufe/5W0ntWvqb4IJXl4G3sDAM2/75118484e56d9065466ab764393892bc/day-trippers_2.png',\n",
       "  'https://images.ctfassets.net/y88td1zx1ufe/EMd9oEH2LMTe27kPNfIIg/72d320cbdb904dfbec2f1bb79d6002da/veerum_2.png']}"
      ]
     },
     "execution_count": 2,
     "metadata": {},
     "output_type": "execute_result"
    }
   ],
   "source": [
    "LLM_extraction_agent(filename='carta', \n",
    "                     url = 'www.carta.com')"
   ]
  },
  {
   "cell_type": "code",
   "execution_count": null,
   "metadata": {},
   "outputs": [],
   "source": []
  }
 ],
 "metadata": {
  "kernelspec": {
   "display_name": "ucl_project",
   "language": "python",
   "name": "python3"
  },
  "language_info": {
   "codemirror_mode": {
    "name": "ipython",
    "version": 3
   },
   "file_extension": ".py",
   "mimetype": "text/x-python",
   "name": "python",
   "nbconvert_exporter": "python",
   "pygments_lexer": "ipython3",
   "version": "3.10.6"
  }
 },
 "nbformat": 4,
 "nbformat_minor": 2
}
